{
  "nbformat": 4,
  "nbformat_minor": 0,
  "metadata": {
    "colab": {
      "provenance": [],
      "gpuType": "L4"
    },
    "kernelspec": {
      "name": "python3",
      "display_name": "Python 3"
    },
    "language_info": {
      "name": "python"
    },
    "accelerator": "GPU"
  },
  "cells": [
    {
      "cell_type": "markdown",
      "source": [
        "#1. Decision Tree for Classification"
      ],
      "metadata": {
        "id": "hustT2F1Dj4_"
      }
    },
    {
      "cell_type": "code",
      "execution_count": 38,
      "metadata": {
        "id": "dc4btNKBDe6B"
      },
      "outputs": [],
      "source": [
        "import numpy as np\n",
        "from collections import Counter\n",
        "\n",
        "# Bộ dữ liệu từ đề bài\n",
        "dataset = [\n",
        "    [23, 0, 0, 0],\n",
        "    [25, 1, 1, 0],\n",
        "    [27, 1, 0, 1],\n",
        "    [29, 0, 1, 1],\n",
        "    [29, 0, 0, 0]\n",
        "]\n",
        "\n",
        "# Các lớp phân loại\n",
        "class_values = list(set(row[-1] for row in dataset))"
      ]
    },
    {
      "cell_type": "code",
      "source": [
        "# Hàm chia tập dữ liệu theo giá trị thuộc tính\n",
        "def split_dataset(dataset, index, value):\n",
        "    left, right = list(), list()\n",
        "    for row in dataset:\n",
        "        if row[index] <= value:\n",
        "            left.append(row)\n",
        "        else:\n",
        "            right.append(row)\n",
        "    return left, right"
      ],
      "metadata": {
        "id": "HfelwWiCNEQ7"
      },
      "execution_count": 39,
      "outputs": []
    },
    {
      "cell_type": "code",
      "source": [
        "# Tính Entropy cho toàn bộ tập dữ liệu D (trước khi chia)\n",
        "def entropy_of_dataset(dataset):\n",
        "    label_column = [row[-1] for row in dataset]\n",
        "    total_samples = len(label_column)\n",
        "    class_counts = Counter(label_column)\n",
        "    entropy = 0.0\n",
        "    for class_val in class_counts:\n",
        "        p = class_counts[class_val] / total_samples\n",
        "        if p > 0:\n",
        "            entropy -= p * np.log2(p)\n",
        "    return round(entropy, 2)"
      ],
      "metadata": {
        "id": "sRzpG0asPMbm"
      },
      "execution_count": 40,
      "outputs": []
    },
    {
      "cell_type": "code",
      "source": [
        "# Hàm tính Gini\n",
        "def gini_index(groups, classes):\n",
        "    n_instances = float(sum([len(group) for group in groups]))\n",
        "    gini = 0.0\n",
        "    for group in groups:\n",
        "        size = float(len(group))\n",
        "        if size == 0:\n",
        "            continue\n",
        "        score = 0.0\n",
        "        class_counts = Counter([row[-1] for row in group])\n",
        "        for class_val in classes:\n",
        "            p = class_counts[class_val] / size\n",
        "            score += p * p\n",
        "        gini += (1.0 - score) * (size / n_instances)\n",
        "    return round(gini, 2)"
      ],
      "metadata": {
        "id": "09DDtdBrPO-1"
      },
      "execution_count": 41,
      "outputs": []
    },
    {
      "cell_type": "code",
      "source": [
        "# Hàm tính Entropy\n",
        "def entropy(groups, classes):\n",
        "    n_instances = float(sum([len(group) for group in groups]))\n",
        "    entropy = 0.0\n",
        "    for group in groups:\n",
        "        size = float(len(group))\n",
        "        if size == 0:\n",
        "            continue\n",
        "        score = 0.0\n",
        "        class_counts = Counter([row[-1] for row in group])\n",
        "        for class_val in classes:\n",
        "            p = class_counts[class_val] / size\n",
        "            if p > 0:\n",
        "                score -= p * np.log2(p)\n",
        "        entropy += score * (size / n_instances)\n",
        "    return round(entropy, 2)"
      ],
      "metadata": {
        "id": "r6QWLiiFPSuE"
      },
      "execution_count": 42,
      "outputs": []
    },
    {
      "cell_type": "code",
      "source": [
        "# Q2 Tính Gini cho cột nhãn \"Raise Salary\"\n",
        "gini_raise_salary = gini_for_label_column(dataset)\n",
        "print(f'Gini của các mẫu trong cột nhãn \"Raise Salary\": {gini_raise_salary:.2f}')"
      ],
      "metadata": {
        "colab": {
          "base_uri": "https://localhost:8080/"
        },
        "id": "6KEs5TXOHS6q",
        "outputId": "f4e8972c-fea5-44ce-c2bd-badca5e97303"
      },
      "execution_count": 43,
      "outputs": [
        {
          "output_type": "stream",
          "name": "stdout",
          "text": [
            "Gini của các mẫu trong cột nhãn \"Raise Salary\": 0.48\n"
          ]
        }
      ]
    },
    {
      "cell_type": "code",
      "source": [
        "# Q4 Tính Gini khi thuộc tính 'Age <= 26'\n",
        "groups = split_dataset(dataset, 0, 26)\n",
        "gini_age = gini_index(groups, class_values)\n",
        "print(f'Gini của thuộc tính \"Age <= 26\": {gini_age:.2f}')"
      ],
      "metadata": {
        "colab": {
          "base_uri": "https://localhost:8080/"
        },
        "id": "lEpKLcefHl_b",
        "outputId": "e5a0df5a-2a93-4e5d-86c7-11bba6613224"
      },
      "execution_count": 44,
      "outputs": [
        {
          "output_type": "stream",
          "name": "stdout",
          "text": [
            "Gini của thuộc tính \"Age <= 26\": 0.27\n"
          ]
        }
      ]
    },
    {
      "cell_type": "code",
      "source": [
        "# Q5 Tính Entropy cho toàn bộ cột nhãn 'Raise Salary'\n",
        "groups = [dataset]\n",
        "entropy_value = entropy(groups, class_values)\n",
        "print(f'Entropy của toàn bộ cột \"Raise Salary\": {entropy_value:.2f}')"
      ],
      "metadata": {
        "colab": {
          "base_uri": "https://localhost:8080/"
        },
        "id": "yk1meldZHh5B",
        "outputId": "db796b34-03e0-48c8-99c6-d0da310a81e5"
      },
      "execution_count": 45,
      "outputs": [
        {
          "output_type": "stream",
          "name": "stdout",
          "text": [
            "Entropy của toàn bộ cột \"Raise Salary\": 0.97\n"
          ]
        }
      ]
    },
    {
      "cell_type": "code",
      "source": [
        "# Q6 Tính Gain cho thuộc tính 'Likes English'\n",
        "gain_likes_english = calculate_gain(dataset, 1)\n",
        "print(f'Gain của thuộc tính \"Likes English\": {gain_likes_english:.3f}')"
      ],
      "metadata": {
        "colab": {
          "base_uri": "https://localhost:8080/"
        },
        "id": "mgANNSSLHkqs",
        "outputId": "b776de12-26a4-4645-d19d-a0c8fb09f7f1"
      },
      "execution_count": 46,
      "outputs": [
        {
          "output_type": "stream",
          "name": "stdout",
          "text": [
            "Gain của thuộc tính \"Likes English\": 0.018\n"
          ]
        }
      ]
    },
    {
      "cell_type": "code",
      "source": [
        "# Q7\n",
        "from sklearn import datasets\n",
        "\n",
        "# Tải về bộ dữ liệu Iris\n",
        "iris_X, iris_y = datasets.load_iris(return_X_y=True)"
      ],
      "metadata": {
        "id": "v_HcwKGxKMux"
      },
      "execution_count": 47,
      "outputs": []
    },
    {
      "cell_type": "code",
      "source": [
        "# Q8\n",
        "from sklearn import datasets\n",
        "from sklearn . model_selection import train_test_split\n",
        "from sklearn . metrics import accuracy_score\n",
        "from sklearn . tree import DecisionTreeClassifier"
      ],
      "metadata": {
        "id": "oYhPpB62Ku_x"
      },
      "execution_count": 48,
      "outputs": []
    },
    {
      "cell_type": "code",
      "source": [
        "# Paragraph C :\n",
        "# Load the diabetes dataset\n",
        "iris_X, iris_y = datasets.load_iris(return_X_y=True) # From question 7\n",
        "# Split train : test = 8:2\n",
        "X_train, X_test, y_train, y_test = train_test_split(\n",
        "    iris_X, iris_y,\n",
        "    test_size=0.2,\n",
        "    random_state=42)\n",
        "\n",
        "# Paragraph B :\n",
        "# Define model\n",
        "dt_classifier = DecisionTreeClassifier()\n",
        "\n",
        "# Paragraph A :\n",
        "# Train\n",
        "dt_classifier.fit(X_train, y_train)\n",
        "\n",
        "# Paragraph D :\n",
        "# Preidct and evaluate\n",
        "y_pred = dt_classifier.predict(X_test)\n",
        "accuracy_score(y_test, y_pred)"
      ],
      "metadata": {
        "colab": {
          "base_uri": "https://localhost:8080/"
        },
        "id": "kL6voV1IK1o_",
        "outputId": "737c4d8b-dc64-4fa8-86ce-8fc59bdaadb2"
      },
      "execution_count": 49,
      "outputs": [
        {
          "output_type": "execute_result",
          "data": {
            "text/plain": [
              "1.0"
            ]
          },
          "metadata": {},
          "execution_count": 49
        }
      ]
    },
    {
      "cell_type": "markdown",
      "source": [
        "#2. Decision Tree for Regression"
      ],
      "metadata": {
        "id": "TeE69p2HMm9T"
      }
    },
    {
      "cell_type": "code",
      "source": [
        "import numpy as np\n",
        "\n",
        "# Dữ liệu từ bảng\n",
        "data = [\n",
        "    {'Age': 23, 'Likes English': 0, 'Likes AI': 0, 'Salary': 200},\n",
        "    {'Age': 25, 'Likes English': 1, 'Likes AI': 1, 'Salary': 400},\n",
        "    {'Age': 27, 'Likes English': 1, 'Likes AI': 0, 'Salary': 300},\n",
        "    {'Age': 29, 'Likes English': 0, 'Likes AI': 1, 'Salary': 500},\n",
        "    {'Age': 29, 'Likes English': 0, 'Likes AI': 0, 'Salary': 400}\n",
        "]\n",
        "\n",
        "# Hàm tính SSE\n",
        "def calculate_sse(data, condition):\n",
        "    subset = [d['Salary'] for d in data if condition(d)]\n",
        "    mean_value = np.mean(subset)\n",
        "    sse = np.sum((np.array(subset) - mean_value) ** 2)\n",
        "    return sse\n",
        "\n",
        "# SSE cho 'Likes AI'\n",
        "sse_likes_ai_true = calculate_sse(data, lambda d: d['Likes AI'] == 1)\n",
        "sse_likes_ai_false = calculate_sse(data, lambda d: d['Likes AI'] == 0)\n",
        "sse_likes_ai = sse_likes_ai_true + sse_likes_ai_false\n",
        "\n",
        "print(f\"SSE(Likes AI) = {sse_likes_ai}\")"
      ],
      "metadata": {
        "id": "OFvp1un5MoP7",
        "colab": {
          "base_uri": "https://localhost:8080/"
        },
        "outputId": "6decbd2f-40bc-4c45-98e9-a663ebf0e6ba"
      },
      "execution_count": 62,
      "outputs": [
        {
          "output_type": "stream",
          "name": "stdout",
          "text": [
            "SSE(Likes AI) = 25000.0\n"
          ]
        }
      ]
    },
    {
      "cell_type": "code",
      "source": [
        "# SSE cho 'Age <= 24'\n",
        "sse_age_leq_24 = calculate_sse(data, lambda d: d['Age'] <= 24)\n",
        "sse_age_gt_24 = calculate_sse(data, lambda d: d['Age'] > 24)\n",
        "sse_age = sse_age_leq_24 + sse_age_gt_24\n",
        "\n",
        "print(f\"SSE(Age <= 24) = {sse_age}\")"
      ],
      "metadata": {
        "colab": {
          "base_uri": "https://localhost:8080/"
        },
        "id": "f5JvEFUNUueN",
        "outputId": "d3554441-26ec-449e-8664-7d55185ecc8e"
      },
      "execution_count": 63,
      "outputs": [
        {
          "output_type": "stream",
          "name": "stdout",
          "text": [
            "SSE(Age <= 24) = 20000.0\n"
          ]
        }
      ]
    },
    {
      "cell_type": "code",
      "source": [
        "from sklearn . datasets import fetch_openml\n",
        "from sklearn . model_selection import train_test_split\n",
        "from sklearn . metrics import mean_squared_error\n",
        "from sklearn . tree import DecisionTreeRegressor"
      ],
      "metadata": {
        "id": "v34xro0yV195"
      },
      "execution_count": 64,
      "outputs": []
    },
    {
      "cell_type": "code",
      "source": [
        "# Paragraph C :\n",
        "# Load dataset\n",
        "machine_cpu = fetch_openml ( name ='machine_cpu')\n",
        "machine_data = machine_cpu . data\n",
        "machine_labels = machine_cpu . target\n",
        "# Split train : test = 8:2\n",
        "X_train , X_test , y_train , y_test = train_test_split (\n",
        "machine_data , machine_labels ,\n",
        "test_size =0.2 ,\n",
        "random_state =42)\n",
        "\n",
        "# Paragraph B :\n",
        "# Define model\n",
        "tree_reg = DecisionTreeRegressor ()\n",
        "\n",
        "# Paragraph A :\n",
        "# Train\n",
        "tree_reg . fit ( X_train , y_train )\n",
        "\n",
        "# Paragraph D :\n",
        "# Preidct and evaluate\n",
        "y_pred = tree_reg . predict ( X_test )\n",
        "mean_squared_error ( y_test , y_pred )"
      ],
      "metadata": {
        "colab": {
          "base_uri": "https://localhost:8080/"
        },
        "id": "5q1YA4FjV50p",
        "outputId": "f588cc8c-f53c-41e0-d4bf-1c2fbbf6e805"
      },
      "execution_count": 66,
      "outputs": [
        {
          "output_type": "stream",
          "name": "stderr",
          "text": [
            "/usr/local/lib/python3.10/dist-packages/sklearn/datasets/_openml.py:311: UserWarning: Multiple active versions of the dataset matching the name machine_cpu exist. Versions may be fundamentally different, returning version 1.\n",
            "  warn(\n",
            "/usr/local/lib/python3.10/dist-packages/sklearn/datasets/_openml.py:1022: FutureWarning: The default value of `parser` will change from `'liac-arff'` to `'auto'` in 1.4. You can set `parser='auto'` to silence this warning. Therefore, an `ImportError` will be raised from 1.4 if the dataset is dense and pandas is not installed. Note that the pandas parser may return different data types. See the Notes Section in fetch_openml's API doc for details.\n",
            "  warn(\n"
          ]
        },
        {
          "output_type": "execute_result",
          "data": {
            "text/plain": [
              "9447.716931216932"
            ]
          },
          "metadata": {},
          "execution_count": 66
        }
      ]
    }
  ]
}