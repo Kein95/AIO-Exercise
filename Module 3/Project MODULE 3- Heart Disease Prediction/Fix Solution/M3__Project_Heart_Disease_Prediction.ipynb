{
  "nbformat": 4,
  "nbformat_minor": 0,
  "metadata": {
    "colab": {
      "provenance": [],
      "gpuType": "L4"
    },
    "kernelspec": {
      "name": "python3",
      "display_name": "Python 3"
    },
    "language_info": {
      "name": "python"
    },
    "accelerator": "GPU"
  },
  "cells": [
    {
      "cell_type": "code",
      "source": [
        "import pandas as pd\n",
        "import seaborn as sns\n",
        "from matplotlib import pyplot as plt\n",
        "import matplotlib . pyplot as plt\n",
        "import seaborn as sns"
      ],
      "metadata": {
        "id": "tgP1_rpmWw7y"
      },
      "execution_count": 22,
      "outputs": []
    },
    {
      "cell_type": "markdown",
      "source": [
        "Bài tập 1: (Data Analysis) hãy hoàn thiện chương trình sau sử dụng thư viện seaborn để hiện thị mối quan hệ giữa độ tuổi và khả năng bị bệnh tim. Ở đây, target = 1 ngụ ý rằng người đó đang bị bệnh tim và target = 0 ngụ ý rằng người đó không bị bệnh tim."
      ],
      "metadata": {
        "id": "uwLyVHYbRTCC"
      }
    },
    {
      "cell_type": "code",
      "execution_count": 23,
      "metadata": {
        "id": "p5yav7cm1vC8",
        "colab": {
          "base_uri": "https://localhost:8080/",
          "height": 690
        },
        "outputId": "296c7d04-5cec-423d-a292-42b21070ad4c"
      },
      "outputs": [
        {
          "output_type": "stream",
          "name": "stderr",
          "text": [
            "/usr/local/lib/python3.10/dist-packages/seaborn/_base.py:949: FutureWarning: When grouping with a length-1 list-like, you will need to pass a length-1 tuple to get_group in a future version of pandas. Pass `(name,)` instead of `name` to silence this warning.\n",
            "  data_subset = grouped_data.get_group(pd_key)\n",
            "/usr/local/lib/python3.10/dist-packages/seaborn/_base.py:949: FutureWarning: When grouping with a length-1 list-like, you will need to pass a length-1 tuple to get_group in a future version of pandas. Pass `(name,)` instead of `name` to silence this warning.\n",
            "  data_subset = grouped_data.get_group(pd_key)\n",
            "/usr/local/lib/python3.10/dist-packages/seaborn/_base.py:949: FutureWarning: When grouping with a length-1 list-like, you will need to pass a length-1 tuple to get_group in a future version of pandas. Pass `(name,)` instead of `name` to silence this warning.\n",
            "  data_subset = grouped_data.get_group(pd_key)\n"
          ]
        },
        {
          "output_type": "display_data",
          "data": {
            "text/plain": [
              "<Figure size 1000x600 with 1 Axes>"
            ],
            "image/png": "[encoded data removed]"
          },
          "metadata": {}
        }
      ],
      "source": [
        "# Tải dữ liệu từ file CSV\n",
        "df = pd.read_csv('cleveland.csv', header=None)\n",
        "\n",
        "# Đặt tên cho các cột dữ liệu\n",
        "df.columns = ['age', 'sex', 'cp', 'trestbps', 'chol', 'fbs', 'restecg',\n",
        "              'thalach', 'exang', 'oldpeak', 'slope', 'ca', 'thal', 'target']\n",
        "\n",
        "# Gán giá trị 0 cho target là không bị bệnh tim, các giá trị từ 1-4 là có bệnh tim\n",
        "df['target'] = df['target'].map({0: 0, 1: 1, 2: 1, 3: 1, 4: 1})\n",
        "\n",
        "# Điền giá trị thiếu cho các cột thal và ca\n",
        "df['thal'] = df['thal'].fillna(df['thal'].mean())\n",
        "df['ca'] = df['ca'].fillna(df['ca'].mean())\n",
        "\n",
        "# Vẽ biểu đồ hiển thị mối quan hệ giữa độ tuổi và khả năng bị bệnh tim\n",
        "plt.figure(figsize=(10, 6))\n",
        "sns.histplot(data=df, x='age', hue='target', multiple='dodge', palette='coolwarm')\n",
        "plt.title('Mối quan hệ giữa độ tuổi và khả năng bị bệnh tim')\n",
        "plt.xlabel('Tuổi')\n",
        "plt.ylabel('Số lượng')\n",
        "plt.show()"
      ]
    },
    {
      "cell_type": "markdown",
      "source": [
        "Bài tập 2: (Data Analysis) hãy hoàn thiện chương trình sau sử dụng thư viện seaborn để hiện thị mối quan hệ giữa độ tuổi, giới tính và khả năng bị bệnh tim."
      ],
      "metadata": {
        "id": "cpjl9bqtRj0m"
      }
    },
    {
      "cell_type": "code",
      "source": [
        "# Tải dữ liệu từ file CSV\n",
        "df = pd.read_csv('cleveland.csv', header=None)\n",
        "\n",
        "# Đặt tên cho các cột dữ liệu\n",
        "df.columns = ['age', 'sex', 'cp', 'trestbps', 'chol', 'fbs', 'restecg',\n",
        "              'thalach', 'exang', 'oldpeak', 'slope', 'ca', 'thal', 'target']\n",
        "\n",
        "# Gán giá trị 0 cho target là không bị bệnh tim, các giá trị từ 1-4 là có bệnh tim\n",
        "df['target'] = df['target'].map({0: 0, 1: 1, 2: 1, 3: 1, 4: 1})\n",
        "\n",
        "# Điền giá trị thiếu cho các cột thal và ca\n",
        "df['thal'] = df['thal'].fillna(df['thal'].mean())\n",
        "df['ca'] = df['ca'].fillna(df['ca'].mean())\n",
        "\n",
        "# Tạo biểu đồ thanh hiển thị mối quan hệ giữa tuổi, giới tính và khả năng bị bệnh tim\n",
        "plt.figure(figsize=(10, 6))\n",
        "sns.barplot(data=df, x='sex', y='age', hue='target', ci=None, palette='coolwarm')\n",
        "\n",
        "# Đặt tiêu đề và nhãn\n",
        "plt.title('Mối quan hệ giữa độ tuổi, giới tính và khả năng bị bệnh tim')\n",
        "plt.xlabel('Giới tính (0 = Nữ, 1 = Nam)')\n",
        "plt.ylabel('Tuổi trung bình')\n",
        "plt.show()"
      ],
      "metadata": {
        "colab": {
          "base_uri": "https://localhost:8080/",
          "height": 742
        },
        "id": "YEyWHrOLRjEK",
        "outputId": "ef10f57f-49ea-4be3-e048-8db385171e79"
      },
      "execution_count": 25,
      "outputs": [
        {
          "output_type": "stream",
          "name": "stderr",
          "text": [
            "<ipython-input-25-8f3c8291729b>:17: FutureWarning: \n",
            "\n",
            "The `ci` parameter is deprecated. Use `errorbar=None` for the same effect.\n",
            "\n",
            "  sns.barplot(data=df, x='sex', y='age', hue='target', ci=None, palette='coolwarm')\n",
            "/usr/local/lib/python3.10/dist-packages/seaborn/_base.py:949: FutureWarning: When grouping with a length-1 list-like, you will need to pass a length-1 tuple to get_group in a future version of pandas. Pass `(name,)` instead of `name` to silence this warning.\n",
            "  data_subset = grouped_data.get_group(pd_key)\n",
            "/usr/local/lib/python3.10/dist-packages/seaborn/_base.py:949: FutureWarning: When grouping with a length-1 list-like, you will need to pass a length-1 tuple to get_group in a future version of pandas. Pass `(name,)` instead of `name` to silence this warning.\n",
            "  data_subset = grouped_data.get_group(pd_key)\n"
          ]
        },
        {
          "output_type": "display_data",
          "data": {
            "text/plain": [
              "<Figure size 1000x600 with 1 Axes>"
            ],
            "image/png": "[encoded data removed]"
          },
          "metadata": {}
        }
      ]
    },
    {
      "cell_type": "markdown",
      "source": [
        "Bài tập 3: (sử dụng KNN cho dự đoán bệnh tim) hãy hoàn thiện chương trình sau sử dụng giải thuật KNN để dự đoán bệnh nhân có khả bị bệnh tim hay không sử dụng các tham số sau: n_neighbors=5, weights=’uniform’, algorithm=’auto’, leaf_size=30, p=2, metric=’minkowski’"
      ],
      "metadata": {
        "id": "Edunn-JQTTq9"
      }
    },
    {
      "cell_type": "code",
      "source": [
        "# Chia dữ liệu thành tập huấn luyện và tập kiểm tra\n",
        "from sklearn.model_selection import train_test_split\n",
        "X_train, X_test, y_train, y_test = train_test_split(X, y, test_size=0.2, random_state=42)\n",
        "\n",
        "# Chuẩn bị dữ liệu X (đặc trưng) và y (nhãn)\n",
        "X = df.iloc[:, :-1].values\n",
        "y = df.iloc[:, -1].values\n",
        "\n",
        "# Chia dữ liệu thành tập huấn luyện và tập kiểm tra\n",
        "X_train, X_test, y_train, y_test = train_test_split(X, y, test_size=0.2, random_state=42)\n",
        "\n",
        "# Khởi tạo mô hình KNN\n",
        "knn = KNeighborsClassifier(n_neighbors=5, weights='uniform', algorithm='auto', leaf_size=30, p=2, metric='minkowski')\n",
        "\n",
        "# Huấn luyện mô hình\n",
        "knn.fit(X_train, y_train)\n",
        "\n",
        "# Dự đoán trên tập huấn luyện và tập kiểm tra\n",
        "y_train_pred = knn.predict(X_train)\n",
        "y_test_pred = knn.predict(X_test)\n",
        "\n",
        "# Tính ma trận nhầm lẫn cho tập huấn luyện và tập kiểm tra\n",
        "cm_train = confusion_matrix(y_train, y_train_pred)\n",
        "cm_test = confusion_matrix(y_test, y_test_pred)\n",
        "\n",
        "print()\n",
        "accuracy_for_train = np.round((cm_train[0][0] + cm_train[1][1]) / len(y_train), 2)\n",
        "accuracy_for_test = np.round((cm_test[0][0] + cm_test[1][1]) / len(y_test), 2)\n",
        "print('Accuracy for training set for KNeighborsClassifier = {}'.format(accuracy_for_train))\n",
        "print('Accuracy for test set for KNeighborsClassifier = {}'.format(accuracy_for_test))"
      ],
      "metadata": {
        "colab": {
          "base_uri": "https://localhost:8080/"
        },
        "id": "_Npn9Gh-TjwP",
        "outputId": "e97f347f-8e07-40b1-d413-19d1a742e5ac"
      },
      "execution_count": 26,
      "outputs": [
        {
          "output_type": "stream",
          "name": "stdout",
          "text": [
            "\n",
            "Accuracy for training set for KNeighborsClassifier = 0.76\n",
            "Accuracy for test set for KNeighborsClassifier = 0.69\n"
          ]
        }
      ]
    },
    {
      "cell_type": "markdown",
      "source": [
        "Bài tập 4: (sử dụng SVM cho dự đoán bệnh tim) hãy hoàn thiện chương trình sau sử dụng giải thuật SVM để dự đoán bệnh nhân có khả bị bệnh tim hay không sử dụng các tham số sau: kernel = ’rbf’,\n",
        "random_state=42\n"
      ],
      "metadata": {
        "id": "Nxp6yqllVUTr"
      }
    },
    {
      "cell_type": "code",
      "source": [
        "from sklearn.svm import SVC\n",
        "from sklearn.model_selection import train_test_split\n",
        "\n",
        "# Chia dữ liệu thành tập huấn luyện và tập kiểm tra\n",
        "X_train, X_test, y_train, y_test = train_test_split(X, y, test_size=0.2, random_state=42)\n",
        "\n",
        "# Lấy dữ liệu X (tất cả các cột ngoại trừ cột cuối cùng) và y (cột cuối cùng)\n",
        "X = df.iloc[:, :-1].values\n",
        "y = df.iloc[:, -1].values\n",
        "\n",
        "from sklearn.model_selection import train_test_split\n",
        "\n",
        "# Chia lại dữ liệu thành tập huấn luyện và tập kiểm tra\n",
        "X_train, X_test, y_train, y_test = train_test_split(X, y, test_size=0.2, random_state=42)\n",
        "\n",
        "# Khởi tạo mô hình SVM với kernel='rbf' và random_state=42\n",
        "svm = SVC(kernel='rbf', random_state=42)\n",
        "\n",
        "# Huấn luyện mô hình\n",
        "svm.fit(X_train, y_train)\n",
        "\n",
        "# Dự đoán trên tập huấn luyện và tập kiểm tra\n",
        "y_train_pred = svm.predict(X_train)\n",
        "y_test_pred = svm.predict(X_test)\n",
        "\n",
        "# Tính ma trận nhầm lẫn cho tập huấn luyện và kiểm tra\n",
        "cm_train = confusion_matrix(y_train, y_train_pred)\n",
        "cm_test = confusion_matrix(y_test, y_test_pred)\n",
        "\n",
        "# Tính độ chính xác cho tập huấn luyện và kiểm tra\n",
        "print()\n",
        "\n",
        "# Tính độ chính xác cho tập huấn luyện\n",
        "accuracy_for_train = np.round((cm_train[0][0] + cm_train[1][1]) / len(y_train), 2)\n",
        "\n",
        "# Tính độ chính xác cho tập kiểm tra\n",
        "accuracy_for_test = np.round((cm_test[0][0] + cm_test[1][1]) / len(y_test), 2)\n",
        "\n",
        "# In kết quả độ chính xác cho tập huấn luyện\n",
        "print('Accuracy for training set for SVM = {}'.format(accuracy_for_train))\n",
        "\n",
        "# In kết quả độ chính xác cho tập kiểm tra\n",
        "print('Accuracy for test set for SVM = {}'.format(accuracy_for_test))"
      ],
      "metadata": {
        "colab": {
          "base_uri": "https://localhost:8080/"
        },
        "id": "lKgAOlMVVV5y",
        "outputId": "dba172b6-eaa5-4fa4-b18d-e06a928f8f16"
      },
      "execution_count": 27,
      "outputs": [
        {
          "output_type": "stream",
          "name": "stdout",
          "text": [
            "\n",
            "Accuracy for training set for SVM = 0.66\n",
            "Accuracy for test set for SVM = 0.67\n"
          ]
        }
      ]
    },
    {
      "cell_type": "markdown",
      "source": [
        "Bài tập 5: (sử dụng Naive Bayes cho dự đoán bệnh tim) hãy hoàn thiện chương trình sau sử dụng giải thuật Naive Bayes để dự đoán bệnh nhân có khả bị bệnh tim hay không sử dụng các tham số sau: kernel = ’rbf’, random_state=42\n"
      ],
      "metadata": {
        "id": "etsjmixCWdKc"
      }
    },
    {
      "cell_type": "code",
      "source": [
        "from sklearn.model_selection import train_test_split\n",
        "from sklearn.naive_bayes import GaussianNB\n",
        "from sklearn.metrics import confusion_matrix\n",
        "from sklearn.impute import SimpleImputer\n",
        "\n",
        "# Lấy dữ liệu X (tất cả các cột ngoại trừ cột cuối cùng) và y (cột cuối cùng)\n",
        "X = df.iloc[:, :-1].values\n",
        "y = df.iloc[:, -1].values\n",
        "\n",
        "# Xử lý các giá trị NaN bằng SimpleImputer, thay thế bằng giá trị trung bình\n",
        "imputer = SimpleImputer(missing_values=np.nan, strategy='mean')\n",
        "X = imputer.fit_transform(X)\n",
        "\n",
        "# Chia dữ liệu thành tập huấn luyện và tập kiểm tra\n",
        "X_train, X_test, y_train, y_test = train_test_split(X, y, test_size=0.2, random_state=42)\n",
        "\n",
        "# Khởi tạo mô hình Naive Bayes\n",
        "naive_bayes = GaussianNB()\n",
        "\n",
        "# Huấn luyện mô hình\n",
        "naive_bayes.fit(X_train, y_train)\n",
        "\n",
        "# Dự đoán trên tập huấn luyện và tập kiểm tra\n",
        "y_train_pred = naive_bayes.predict(X_train)\n",
        "y_test_pred = naive_bayes.predict(X_test)\n",
        "\n",
        "# Tính ma trận nhầm lẫn cho tập huấn luyện và kiểm tra\n",
        "cm_train = confusion_matrix(y_train, y_train_pred)\n",
        "cm_test = confusion_matrix(y_test, y_test_pred)\n",
        "\n",
        "# Tính độ chính xác cho tập huấn luyện và kiểm tra\n",
        "print()\n",
        "accuracy_for_train = np.round((cm_train[0][0] + cm_train[1][1]) / len(y_train), 2)\n",
        "accuracy_for_test = np.round((cm_test[0][0] + cm_test[1][1]) / len(y_test), 2)\n",
        "\n",
        "# In kết quả độ chính xác cho tập huấn luyện\n",
        "print('Accuracy for training set for Naive Bayes = {}'.format(accuracy_for_train))\n",
        "\n",
        "# In kết quả độ chính xác cho tập kiểm tra\n",
        "print('Accuracy for test set for Naive Bayes = {}'.format(accuracy_for_test))"
      ],
      "metadata": {
        "colab": {
          "base_uri": "https://localhost:8080/"
        },
        "id": "drfl9NRKWnK4",
        "outputId": "5c148e76-1461-47bd-d79f-3bfa9ef4d365"
      },
      "execution_count": 31,
      "outputs": [
        {
          "output_type": "stream",
          "name": "stdout",
          "text": [
            "\n",
            "Accuracy for training set for Naive Bayes = 0.85\n",
            "Accuracy for test set for Naive Bayes = 0.84\n"
          ]
        }
      ]
    },
    {
      "cell_type": "markdown",
      "source": [
        "Bài tập 6: (sử dụng Decision Tree cho dự đoán bệnh tim) hãy hoàn thiện chương trình sau sử dụng giải thuật Decision Tree để dự đoán bệnh nhân có khả bị bệnh tim hay không sử dụng các tham số sau: criterion=’gini’, max_depth=10, min_samples_split=2"
      ],
      "metadata": {
        "id": "AXf3gcinX7wt"
      }
    },
    {
      "cell_type": "code",
      "source": [
        "from sklearn.model_selection import train_test_split\n",
        "from sklearn.tree import DecisionTreeClassifier\n",
        "from sklearn.metrics import confusion_matrix\n",
        "from sklearn.impute import SimpleImputer\n",
        "\n",
        "# Lấy dữ liệu X (tất cả các cột ngoại trừ cột cuối cùng) và y (cột cuối cùng)\n",
        "X = df.iloc[:, :-1].values\n",
        "y = df.iloc[:, -1].values\n",
        "\n",
        "# Xử lý các giá trị NaN bằng SimpleImputer, thay thế bằng giá trị trung bình\n",
        "imputer = SimpleImputer(missing_values=np.nan, strategy='mean')\n",
        "X = imputer.fit_transform(X)\n",
        "\n",
        "# Chia dữ liệu thành tập huấn luyện và tập kiểm tra\n",
        "X_train, X_test, y_train, y_test = train_test_split(X, y, test_size=0.2, random_state=42)\n",
        "\n",
        "# Khởi tạo mô hình Decision Tree với criterion='gini', max_depth=10, min_samples_split=2\n",
        "decision_tree = DecisionTreeClassifier(criterion='gini', max_depth=10, min_samples_split=2, random_state=42)\n",
        "\n",
        "# Huấn luyện mô hình\n",
        "decision_tree.fit(X_train, y_train)\n",
        "\n",
        "# Dự đoán trên tập huấn luyện và tập kiểm tra\n",
        "y_train_pred = decision_tree.predict(X_train)\n",
        "y_test_pred = decision_tree.predict(X_test)\n",
        "\n",
        "# Tính ma trận nhầm lẫn cho tập huấn luyện và kiểm tra\n",
        "cm_train = confusion_matrix(y_train, y_train_pred)\n",
        "cm_test = confusion_matrix(y_test, y_test_pred)\n",
        "\n",
        "# Tính độ chính xác cho tập huấn luyện và kiểm tra\n",
        "print()\n",
        "accuracy_for_train = np.round((cm_train[0][0] + cm_train[1][1]) / len(y_train), 2)\n",
        "accuracy_for_test = np.round((cm_test[0][0] + cm_test[1][1]) / len(y_test), 2)\n",
        "\n",
        "# In kết quả độ chính xác cho tập huấn luyện\n",
        "print('Accuracy for training set for Decision Tree = {}'.format(accuracy_for_train))\n",
        "\n",
        "# In kết quả độ chính xác cho tập kiểm tra\n",
        "print('Accuracy for test set for Decision Tree = {}'.format(accuracy_for_test))\n"
      ],
      "metadata": {
        "colab": {
          "base_uri": "https://localhost:8080/"
        },
        "id": "qZM1ZqI-X_I7",
        "outputId": "71fc0ce9-dda5-49fb-9018-2ae35b9758cc"
      },
      "execution_count": 32,
      "outputs": [
        {
          "output_type": "stream",
          "name": "stdout",
          "text": [
            "\n",
            "Accuracy for training set for Decision Tree = 1.0\n",
            "Accuracy for test set for Decision Tree = 0.75\n"
          ]
        }
      ]
    },
    {
      "cell_type": "markdown",
      "source": [
        "Bài tập 7: (sử dụng Random Forest cho dự đoán bệnh tim) hãy hoàn thiện chương trình sau sử dụng giải thuật Random Forest để dự đoán bệnh nhân có khả bị bệnh tim hay không sử dụng các tham số sau: criterion=’gini’, max_depth=10, min_samples_split=2, n_estimators = 10, random_state=42"
      ],
      "metadata": {
        "id": "PH0NpcgFYpnQ"
      }
    },
    {
      "cell_type": "code",
      "source": [
        "from sklearn.model_selection import train_test_split\n",
        "from sklearn.ensemble import RandomForestClassifier\n",
        "from sklearn.metrics import confusion_matrix\n",
        "from sklearn.impute import SimpleImputer\n",
        "\n",
        "# Lấy dữ liệu X (tất cả các cột ngoại trừ cột cuối cùng) và y (cột cuối cùng)\n",
        "X = df.iloc[:, :-1].values\n",
        "y = df.iloc[:, -1].values\n",
        "\n",
        "# Xử lý các giá trị NaN bằng SimpleImputer, thay thế bằng giá trị trung bình\n",
        "imputer = SimpleImputer(missing_values=np.nan, strategy='mean')\n",
        "X = imputer.fit_transform(X)\n",
        "\n",
        "# Chia dữ liệu thành tập huấn luyện và tập kiểm tra\n",
        "X_train, X_test, y_train, y_test = train_test_split(X, y, test_size=0.2, random_state=42)\n",
        "\n",
        "# Khởi tạo mô hình Random Forest với các tham số\n",
        "random_forest = RandomForestClassifier(criterion='gini', max_depth=10,\n",
        "                                       min_samples_split=2, n_estimators=10, random_state=42)\n",
        "\n",
        "# Huấn luyện mô hình\n",
        "random_forest.fit(X_train, y_train)\n",
        "\n",
        "# Dự đoán trên tập huấn luyện và tập kiểm tra\n",
        "y_train_pred = random_forest.predict(X_train)\n",
        "y_test_pred = random_forest.predict(X_test)\n",
        "\n",
        "# Tính ma trận nhầm lẫn cho tập huấn luyện và kiểm tra\n",
        "cm_train = confusion_matrix(y_train, y_train_pred)\n",
        "cm_test = confusion_matrix(y_test, y_test_pred)\n",
        "\n",
        "# Tính độ chính xác cho tập huấn luyện và kiểm tra\n",
        "print()\n",
        "accuracy_for_train = np.round((cm_train[0][0] + cm_train[1][1]) / len(y_train), 2)\n",
        "accuracy_for_test = np.round((cm_test[0][0] + cm_test[1][1]) / len(y_test), 2)\n",
        "\n",
        "# In kết quả độ chính xác cho tập huấn luyện\n",
        "print('Accuracy for training set for Random Forest = {}'.format(accuracy_for_train))\n",
        "\n",
        "# In kết quả độ chính xác cho tập kiểm tra\n",
        "print('Accuracy for test set for Random Forest = {}'.format(accuracy_for_test))"
      ],
      "metadata": {
        "colab": {
          "base_uri": "https://localhost:8080/"
        },
        "id": "tJwFm_CfYsPF",
        "outputId": "5fd90f9f-6cc9-48cf-b057-7e37d76c7189"
      },
      "execution_count": 33,
      "outputs": [
        {
          "output_type": "stream",
          "name": "stdout",
          "text": [
            "\n",
            "Accuracy for training set for Random Forest = 0.98\n",
            "Accuracy for test set for Random Forest = 0.8\n"
          ]
        }
      ]
    },
    {
      "cell_type": "markdown",
      "source": [
        "Bài tập 8: (sử dụng Adaboost cho dự đoán bệnh tim) hãy hoàn thiện chương trình sau sử dụng giải thuật Adaboost để dự đoán bệnh nhân có khả bị bệnh tim hay không sử dụng các tham số sau:n_estimators=50, learning_rate=1.0"
      ],
      "metadata": {
        "id": "0RARywPVZHUg"
      }
    },
    {
      "cell_type": "code",
      "source": [
        "from sklearn.model_selection import train_test_split\n",
        "from sklearn.ensemble import AdaBoostClassifier\n",
        "from sklearn.metrics import confusion_matrix\n",
        "from sklearn.impute import SimpleImputer\n",
        "\n",
        "# Lấy dữ liệu X (tất cả các cột ngoại trừ cột cuối cùng) và y (cột cuối cùng)\n",
        "X = df.iloc[:, :-1].values\n",
        "y = df.iloc[:, -1].values\n",
        "\n",
        "# Xử lý các giá trị NaN bằng SimpleImputer, thay thế bằng giá trị trung bình\n",
        "imputer = SimpleImputer(missing_values=np.nan, strategy='mean')\n",
        "X = imputer.fit_transform(X)\n",
        "\n",
        "# Chia dữ liệu thành tập huấn luyện và tập kiểm tra\n",
        "X_train, X_test, y_train, y_test = train_test_split(X, y, test_size=0.2, random_state=42)\n",
        "\n",
        "# Khởi tạo mô hình AdaBoost với n_estimators=50 và learning_rate=1.0\n",
        "adaboost = AdaBoostClassifier(n_estimators=50, learning_rate=1.0, random_state=42)\n",
        "\n",
        "# Huấn luyện mô hình\n",
        "adaboost.fit(X_train, y_train)\n",
        "\n",
        "# Dự đoán trên tập huấn luyện và tập kiểm tra\n",
        "y_train_pred = adaboost.predict(X_train)\n",
        "y_test_pred = adaboost.predict(X_test)\n",
        "\n",
        "# Tính ma trận nhầm lẫn cho tập huấn luyện và kiểm tra\n",
        "cm_train = confusion_matrix(y_train, y_train_pred)\n",
        "cm_test = confusion_matrix(y_test, y_test_pred)\n",
        "\n",
        "# Tính độ chính xác cho tập huấn luyện và kiểm tra\n",
        "print()\n",
        "accuracy_for_train = np.round((cm_train[0][0] + cm_train[1][1]) / len(y_train), 2)\n",
        "accuracy_for_test = np.round((cm_test[0][0] + cm_test[1][1]) / len(y_test), 2)\n",
        "\n",
        "# In kết quả độ chính xác cho tập huấn luyện\n",
        "print('Accuracy for training set for Adaboost = {}'.format(accuracy_for_train))\n",
        "\n",
        "# In kết quả độ chính xác cho tập kiểm tra\n",
        "print('Accuracy for test set for Adaboost = {}'.format(accuracy_for_test))"
      ],
      "metadata": {
        "colab": {
          "base_uri": "https://localhost:8080/"
        },
        "id": "FsKsVf21ZJeJ",
        "outputId": "dc6b9698-9ab4-491b-a84b-f0f0804a806f"
      },
      "execution_count": 35,
      "outputs": [
        {
          "output_type": "stream",
          "name": "stdout",
          "text": [
            "\n",
            "Accuracy for training set for Adaboost = 0.91\n",
            "Accuracy for test set for Adaboost = 0.84\n"
          ]
        },
        {
          "output_type": "stream",
          "name": "stderr",
          "text": [
            "/usr/local/lib/python3.10/dist-packages/sklearn/ensemble/_weight_boosting.py:527: FutureWarning: The SAMME.R algorithm (the default) is deprecated and will be removed in 1.6. Use the SAMME algorithm to circumvent this warning.\n",
            "  warnings.warn(\n"
          ]
        }
      ]
    },
    {
      "cell_type": "markdown",
      "source": [
        "Bài tập 9: (sử dụng GradientBoost cho dự đoán bệnh tim) hãy hoàn thiện chương trình sau sử dụng giải thuật GradientBoost để dự đoán bệnh nhân có khả bị bệnh tim hay không sử dụng các tham số sau: learning_rate=0.1, n_estimators=100, subsample=1.0,\n",
        "min_samples_split=2, max_depth=3, random_state=42\n"
      ],
      "metadata": {
        "id": "FZt73wZudFCI"
      }
    },
    {
      "cell_type": "code",
      "source": [
        "from sklearn.model_selection import train_test_split\n",
        "from sklearn.ensemble import GradientBoostingClassifier\n",
        "from sklearn.metrics import confusion_matrix\n",
        "from sklearn.impute import SimpleImputer\n",
        "\n",
        "# Lấy dữ liệu X (tất cả các cột ngoại trừ cột cuối cùng) và y (cột cuối cùng)\n",
        "X = df.iloc[:, :-1].values\n",
        "y = df.iloc[:, -1].values\n",
        "\n",
        "# Xử lý các giá trị NaN bằng SimpleImputer, thay thế bằng giá trị trung bình\n",
        "imputer = SimpleImputer(missing_values=np.nan, strategy='mean')\n",
        "X = imputer.fit_transform(X)\n",
        "\n",
        "# Chia dữ liệu thành tập huấn luyện và tập kiểm tra\n",
        "X_train, X_test, y_train, y_test = train_test_split(X, y, test_size=0.2, random_state=42)\n",
        "\n",
        "# Khởi tạo mô hình Gradient Boosting với các tham số đã cho\n",
        "gradient_boosting = GradientBoostingClassifier(learning_rate=0.1, n_estimators=100,\n",
        "                                               subsample=1.0, min_samples_split=2,\n",
        "                                               max_depth=3, random_state=42)\n",
        "\n",
        "# Huấn luyện mô hình\n",
        "gradient_boosting.fit(X_train, y_train)\n",
        "\n",
        "# Dự đoán trên tập huấn luyện và tập kiểm tra\n",
        "y_train_pred = gradient_boosting.predict(X_train)\n",
        "y_test_pred = gradient_boosting.predict(X_test)\n",
        "\n",
        "# Tính ma trận nhầm lẫn cho tập huấn luyện và kiểm tra\n",
        "cm_train = confusion_matrix(y_train, y_train_pred)\n",
        "cm_test = confusion_matrix(y_test, y_test_pred)\n",
        "\n",
        "# Tính độ chính xác cho tập huấn luyện và kiểm tra\n",
        "accuracy_for_train = np.round((cm_train[0][0] + cm_train[1][1]) / len(y_train), 2)\n",
        "accuracy_for_test = np.round((cm_test[0][0] + cm_test[1][1]) / len(y_test), 2)\n",
        "\n",
        "# In kết quả độ chính xác cho tập huấn luyện và kiểm tra\n",
        "print('Accuracy for training set for GradientBoost = {}'.format(accuracy_for_train))\n",
        "print('Accuracy for test set for GradientBoost = {}'.format(accuracy_for_test))"
      ],
      "metadata": {
        "colab": {
          "base_uri": "https://localhost:8080/"
        },
        "id": "AQDot-BOdN2M",
        "outputId": "4152ce04-2fa4-496d-ef88-56f3bf0a56fd"
      },
      "execution_count": 40,
      "outputs": [
        {
          "output_type": "stream",
          "name": "stdout",
          "text": [
            "Accuracy for training set for GradientBoost = 1.0\n",
            "Accuracy for test set for GradientBoost = 0.85\n"
          ]
        }
      ]
    },
    {
      "cell_type": "markdown",
      "source": [
        "Bài tập 10: (sử dụng XGboost cho dự đoán bệnh tim) hãy hoàn thiện chương trình sau sử dụng giải thuật XGboost để dự đoán bệnh nhân có khả bị bệnh tim hay không sử dụng các tham số sau: objective=\"binary:logistic\", random_state=42, n_estimators = 100"
      ],
      "metadata": {
        "id": "OgdQe3yCevFt"
      }
    },
    {
      "cell_type": "code",
      "source": [
        "from xgboost import XGBClassifier\n",
        "from sklearn.model_selection import train_test_split\n",
        "from sklearn.metrics import confusion_matrix\n",
        "\n",
        "# Lấy dữ liệu X (tất cả các cột ngoại trừ cột cuối cùng) và y (cột cuối cùng)\n",
        "X = df.iloc[:, :-1].values\n",
        "y = df.iloc[:, -1].values\n",
        "\n",
        "# Chia dữ liệu thành tập huấn luyện và tập kiểm tra\n",
        "X_train, X_test, y_train, y_test = train_test_split(X, y, test_size=0.2, random_state=42)\n",
        "\n",
        "# Khởi tạo và huấn luyện mô hình XGBoost\n",
        "xg = XGBClassifier(objective=\"binary:logistic\", random_state=42, n_estimators=100)\n",
        "xg.fit(X_train, y_train)\n",
        "\n",
        "# Dự đoán trên tập kiểm tra\n",
        "y_pred = xg.predict(X_test)\n",
        "\n",
        "# Tính ma trận nhầm lẫn cho tập kiểm tra\n",
        "cm_test = confusion_matrix(y_test, y_pred)\n",
        "\n",
        "# Dự đoán trên tập huấn luyện\n",
        "y_pred_train = xg.predict(X_train)\n",
        "\n",
        "# Tính ma trận nhầm lẫn cho tập huấn luyện\n",
        "cm_train = confusion_matrix(y_train, y_pred_train)\n",
        "\n",
        "# Tính độ chính xác cho tập huấn luyện và kiểm tra\n",
        "accuracy_for_train = np.round((cm_train[0][0] + cm_train[1][1]) / len(y_train), 2)\n",
        "accuracy_for_test = np.round((cm_test[0][0] + cm_test[1][1]) / len(y_test), 2)\n",
        "\n",
        "# In kết quả độ chính xác cho tập huấn luyện và kiểm tra\n",
        "print('Accuracy for training set for XGBClassifier = {}'.format(accuracy_for_train))\n",
        "print('Accuracy for test set for XGBClassifier = {}'.format(accuracy_for_test))"
      ],
      "metadata": {
        "colab": {
          "base_uri": "https://localhost:8080/"
        },
        "id": "SOa5LwfdjZRF",
        "outputId": "61c762bc-910f-4288-b2d6-aa2e787b28e0"
      },
      "execution_count": 56,
      "outputs": [
        {
          "output_type": "stream",
          "name": "stdout",
          "text": [
            "Accuracy for training set for XGBClassifier = 1.0\n",
            "Accuracy for test set for XGBClassifier = 0.84\n"
          ]
        }
      ]
    },
    {
      "cell_type": "markdown",
      "source": [
        "Bài tập 11: (sử dụng kỷ thuật Stacking cho dự đoán bệnh tim) hãy hoàn thiện chương trình sau sử dụng kỹ thuật Stacking để dự đoán bệnh nhân có khả bị bệnh tim hay bằng cách dùng phương pháp stacking sử dụng heterogeneous approach với mô hình giải thuật được thể hiện ở hình 1."
      ],
      "metadata": {
        "id": "KAxCuzL8hbLk"
      }
    },
    {
      "cell_type": "code",
      "source": [
        "from sklearn.model_selection import train_test_split\n",
        "from sklearn.tree import DecisionTreeClassifier\n",
        "from sklearn.ensemble import RandomForestClassifier, GradientBoostingClassifier, AdaBoostClassifier\n",
        "from sklearn.neighbors import KNeighborsClassifier\n",
        "from sklearn.svm import SVC\n",
        "from xgboost import XGBClassifier\n",
        "from sklearn.linear_model import LogisticRegression\n",
        "from sklearn.ensemble import StackingClassifier\n",
        "from sklearn.metrics import confusion_matrix\n",
        "from sklearn.impute import SimpleImputer\n",
        "\n",
        "# Lấy dữ liệu X (tất cả các cột ngoại trừ cột cuối cùng) và y (cột cuối cùng)\n",
        "X = df.iloc[:, :-1].values\n",
        "y = df.iloc[:, -1].values\n",
        "\n",
        "# Xử lý các giá trị NaN bằng SimpleImputer, thay thế bằng giá trị trung bình\n",
        "imputer = SimpleImputer(missing_values=np.nan, strategy='mean')\n",
        "X = imputer.fit_transform(X)\n",
        "\n",
        "# Chia dữ liệu thành tập huấn luyện và tập kiểm tra\n",
        "X_train, X_test, y_train, y_test = train_test_split(X, y, test_size=0.2, random_state=42)\n",
        "\n",
        "# Khởi tạo các mô hình học cơ sở\n",
        "dtc =  DecisionTreeClassifier(random_state=42)\n",
        "rfc = RandomForestClassifier(random_state=42)\n",
        "knn =  KNeighborsClassifier()\n",
        "xgb = XGBClassifier(XGBClassifier)\n",
        "gc = GradientBoostingClassifier(random_state=42)\n",
        "svc = SVC(kernel = 'rbf', random_state=42)\n",
        "ad = AdaBoostClassifier(random_state=42)\n",
        "\n",
        "# Danh sách các mô hình cơ sở cho Stacking\n",
        "clf = [('dtc', dtc), ('rfc', rfc), ('knn', knn), ('gc', gc), ('ad', ad), ('svc', svc)]\n",
        "\n",
        "# Khởi tạo mô hình final estimator là Logistic Regression\n",
        "meta_learner = LogisticRegression()\n",
        "\n",
        "# Khởi tạo StackingClassifier với các mô hình học cơ sở và Logistic Regression làm meta learner\n",
        "classifier = StackingClassifier( estimators = clf,final_estimator = xg)\n",
        "\n",
        "# Huấn luyện mô hình Stacking\n",
        "classifier.fit(X_train, y_train)\n",
        "\n",
        "# Dự đoán trên tập kiểm tra\n",
        "y_pred = classifier.predict(X_test)\n",
        "\n",
        "# Tính ma trận nhầm lẫn cho tập kiểm tra\n",
        "cm_test = confusion_matrix(y_test, y_pred)\n",
        "\n",
        "# Dự đoán trên tập huấn luyện\n",
        "y_pred_train = classifier.predict(X_train)\n",
        "\n",
        "# Tính ma trận nhầm lẫn cho tập huấn luyện\n",
        "cm_train = confusion_matrix(y_train, y_pred_train)\n",
        "\n",
        "# Tính độ chính xác cho tập huấn luyện và kiểm tra\n",
        "accuracy_for_train = np.round((cm_train[0][0] + cm_train[1][1]) / len(y_train), 2)\n",
        "accuracy_for_test = np.round((cm_test[0][0] + cm_test[1][1]) / len(y_test), 2)\n",
        "\n",
        "# In kết quả độ chính xác cho tập huấn luyện và kiểm tra\n",
        "print('Accuracy for training set for StackingClassifier = {}'.format(accuracy_for_train))\n",
        "print('Accuracy for test set for StackingClassifier = {}'.format(accuracy_for_test))"
      ],
      "metadata": {
        "colab": {
          "base_uri": "https://localhost:8080/"
        },
        "id": "4T7zQNTck7aX",
        "outputId": "a809e045-ae1c-48eb-91d3-1d047c303d4c"
      },
      "execution_count": 65,
      "outputs": [
        {
          "output_type": "stream",
          "name": "stderr",
          "text": [
            "/usr/local/lib/python3.10/dist-packages/xgboost/core.py:723: FutureWarning: Pass `objective` as keyword args.\n",
            "  warnings.warn(msg, FutureWarning)\n",
            "/usr/local/lib/python3.10/dist-packages/sklearn/ensemble/_weight_boosting.py:527: FutureWarning: The SAMME.R algorithm (the default) is deprecated and will be removed in 1.6. Use the SAMME algorithm to circumvent this warning.\n",
            "  warnings.warn(\n",
            "/usr/local/lib/python3.10/dist-packages/sklearn/ensemble/_weight_boosting.py:527: FutureWarning: The SAMME.R algorithm (the default) is deprecated and will be removed in 1.6. Use the SAMME algorithm to circumvent this warning.\n",
            "  warnings.warn(\n",
            "/usr/local/lib/python3.10/dist-packages/sklearn/ensemble/_weight_boosting.py:527: FutureWarning: The SAMME.R algorithm (the default) is deprecated and will be removed in 1.6. Use the SAMME algorithm to circumvent this warning.\n",
            "  warnings.warn(\n",
            "/usr/local/lib/python3.10/dist-packages/sklearn/ensemble/_weight_boosting.py:527: FutureWarning: The SAMME.R algorithm (the default) is deprecated and will be removed in 1.6. Use the SAMME algorithm to circumvent this warning.\n",
            "  warnings.warn(\n",
            "/usr/local/lib/python3.10/dist-packages/sklearn/ensemble/_weight_boosting.py:527: FutureWarning: The SAMME.R algorithm (the default) is deprecated and will be removed in 1.6. Use the SAMME algorithm to circumvent this warning.\n",
            "  warnings.warn(\n",
            "/usr/local/lib/python3.10/dist-packages/sklearn/ensemble/_weight_boosting.py:527: FutureWarning: The SAMME.R algorithm (the default) is deprecated and will be removed in 1.6. Use the SAMME algorithm to circumvent this warning.\n",
            "  warnings.warn(\n"
          ]
        },
        {
          "output_type": "stream",
          "name": "stdout",
          "text": [
            "Accuracy for training set for StackingClassifier = 0.92\n",
            "Accuracy for test set for StackingClassifier = 0.9\n"
          ]
        }
      ]
    }
  ]
}