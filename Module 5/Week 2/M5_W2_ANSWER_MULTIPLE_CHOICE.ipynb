{
  "nbformat": 4,
  "nbformat_minor": 0,
  "metadata": {
    "colab": {
      "provenance": []
    },
    "kernelspec": {
      "name": "python3",
      "display_name": "Python 3"
    },
    "language_info": {
      "name": "python"
    }
  },
  "cells": [
    {
      "cell_type": "code",
      "source": [
        "import numpy as np"
      ],
      "metadata": {
        "id": "VVOr_-IqryUo"
      },
      "execution_count": 3,
      "outputs": []
    },
    {
      "cell_type": "code",
      "execution_count": 4,
      "metadata": {
        "colab": {
          "base_uri": "https://localhost:8080/"
        },
        "id": "H2TWzcznrIWg",
        "outputId": "222b0878-cf85-40f6-dfdd-af856ac12b2f"
      },
      "outputs": [
        {
          "output_type": "stream",
          "name": "stdout",
          "text": [
            "Cross-Entropy Loss: 0.916\n"
          ]
        }
      ],
      "source": [
        "# Q5\n",
        "\n",
        "# Kết quả dự đoán từ mô hình\n",
        "y_hat = np.array([0.4, 0.15, 0.05, 0.4])\n",
        "\n",
        "# Nhãn thực tế\n",
        "y = np.array([1, 0, 0, 0])\n",
        "\n",
        "# Tính toán cross-entropy loss\n",
        "loss = -np.sum(y * np.log(y_hat))\n",
        "loss = round(loss, 3)  # Làm tròn đến hàng thập phân thứ 3\n",
        "\n",
        "print(\"Cross-Entropy Loss:\", loss)\n"
      ]
    },
    {
      "cell_type": "code",
      "source": [
        "# Q6\n",
        "\n",
        "# Bộ giá trị tuyến tính Z\n",
        "Z = np.array([-1, -2, 3, 2])\n",
        "\n",
        "# Tính toán hàm Softmax\n",
        "exp_Z = np.exp(Z - np.max(Z))  # Trừ max để tránh tràn số\n",
        "softmax_output = exp_Z / exp_Z.sum()\n",
        "\n",
        "# Làm tròn kết quả đến hàng thập phân thứ 3\n",
        "softmax_output = np.round(softmax_output, 3)\n",
        "\n",
        "print(\"Softmax Probabilities:\", softmax_output)\n"
      ],
      "metadata": {
        "colab": {
          "base_uri": "https://localhost:8080/"
        },
        "id": "j4xzaANLrlay",
        "outputId": "9428a0cd-6e92-46c6-d279-6de18431c97f"
      },
      "execution_count": 5,
      "outputs": [
        {
          "output_type": "stream",
          "name": "stdout",
          "text": [
            "Softmax Probabilities: [0.013 0.005 0.718 0.264]\n"
          ]
        }
      ]
    },
    {
      "cell_type": "code",
      "source": [
        "# Q8\n",
        "# Kết quả dự đoán và kết quả thực tế\n",
        "y_hat = np.array([0, 1, 3, 2, 0, 2, 1, 2])\n",
        "y = np.array([0, 0, 3, 2, 1, 2, 2, 1])\n",
        "\n",
        "# Tính toán độ chính xác\n",
        "accuracy = np.mean(y_hat == y)\n",
        "accuracy = round(accuracy, 3)  # Làm tròn đến hàng thập phân thứ 3\n",
        "\n",
        "print(\"Accuracy:\", accuracy)\n"
      ],
      "metadata": {
        "colab": {
          "base_uri": "https://localhost:8080/"
        },
        "id": "sQjLRq74rwqR",
        "outputId": "e5b56c3f-1f37-46de-c64b-4b57047092f3"
      },
      "execution_count": 6,
      "outputs": [
        {
          "output_type": "stream",
          "name": "stdout",
          "text": [
            "Accuracy: 0.5\n"
          ]
        }
      ]
    }
  ]
}