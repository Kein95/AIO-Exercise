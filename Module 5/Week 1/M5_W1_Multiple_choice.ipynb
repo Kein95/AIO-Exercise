{
  "nbformat": 4,
  "nbformat_minor": 0,
  "metadata": {
    "colab": {
      "provenance": [],
      "gpuType": "T4"
    },
    "kernelspec": {
      "name": "python3",
      "display_name": "Python 3"
    },
    "language_info": {
      "name": "python"
    },
    "accelerator": "GPU"
  },
  "cells": [
    {
      "cell_type": "code",
      "execution_count": 1,
      "metadata": {
        "colab": {
          "base_uri": "https://localhost:8080/"
        },
        "id": "bcHVkSIhqwCG",
        "outputId": "912619c8-8d68-4ef8-acbb-df235b5fc439"
      },
      "outputs": [
        {
          "output_type": "stream",
          "name": "stdout",
          "text": [
            "Câu 13 - Kết quả: [0.92988994]\n"
          ]
        }
      ],
      "source": [
        "import numpy as np\n",
        "\n",
        "def predict(X, theta):\n",
        "    z = np.dot(X, theta)\n",
        "    return 1 / (1 + np.exp(-z))\n",
        "\n",
        "# Khai báo tham số\n",
        "X = np.array([[22.3, -1.5, 1.1, 1]])\n",
        "theta = np.array([0.1, -0.15, 0.3, -0.2])\n",
        "\n",
        "# Tính kết quả\n",
        "result = predict(X, theta)\n",
        "print(\"Câu 13 - Kết quả:\", result)\n"
      ]
    },
    {
      "cell_type": "code",
      "source": [
        "def compute_loss(y_hat, y):\n",
        "    y_hat = np.clip(y_hat, 1e-7, 1 - 1e-7)\n",
        "    return (-y * np.log(y_hat) - (1 - y) * np.log(1 - y_hat)).mean()\n",
        "\n",
        "# Khai báo tham số\n",
        "y = np.array([1, 0, 0, 1])\n",
        "y_hat = np.array([0.8, 0.75, 0.3, 0.95])\n",
        "\n",
        "# Tính kết quả\n",
        "result = compute_loss(y_hat, y)\n",
        "print(\"Câu 14 - Kết quả:\", round(result, 3))\n"
      ],
      "metadata": {
        "colab": {
          "base_uri": "https://localhost:8080/"
        },
        "id": "xjplgBSZrKDe",
        "outputId": "499e23c2-3391-4b14-a951-0d54c3422a44"
      },
      "execution_count": 2,
      "outputs": [
        {
          "output_type": "stream",
          "name": "stdout",
          "text": [
            "Câu 14 - Kết quả: 0.504\n"
          ]
        }
      ]
    },
    {
      "cell_type": "code",
      "source": [
        "def compute_gradient(X, y_true, y_pred):\n",
        "    gradient = np.dot(X.T, (y_pred - y_true)) / y_true.size\n",
        "    return gradient\n",
        "\n",
        "# Khai báo tham số\n",
        "X = np.array([[1, 2], [2, 1], [1, 1], [2, 2]])\n",
        "y_true = np.array([0, 1, 0, 1])\n",
        "y_pred = np.array([0.25, 0.75, 0.4, 0.8])\n",
        "\n",
        "# Tính kết quả\n",
        "result = compute_gradient(X, y_true, y_pred)\n",
        "print(\"Câu 16 - Kết quả:\", result)\n"
      ],
      "metadata": {
        "colab": {
          "base_uri": "https://localhost:8080/"
        },
        "id": "ryqF4moOrNJJ",
        "outputId": "f6be99a0-1ff7-4f21-e3a2-5596f32bd501"
      },
      "execution_count": 3,
      "outputs": [
        {
          "output_type": "stream",
          "name": "stdout",
          "text": [
            "Câu 16 - Kết quả: [-0.0625  0.0625]\n"
          ]
        }
      ]
    },
    {
      "cell_type": "code",
      "source": [
        "def compute_accuracy(y_true, y_pred):\n",
        "    y_pred_rounded = np.round(y_pred)\n",
        "    accuracy = np.mean(y_true == y_pred_rounded)\n",
        "    return accuracy\n",
        "\n",
        "# Khai báo tham số\n",
        "y_true = np.array([1, 0, 1, 1])\n",
        "y_pred = np.array([0.85, 0.35, 0.9, 0.75])\n",
        "\n",
        "# Tính kết quả\n",
        "result = compute_accuracy(y_true, y_pred)\n",
        "print(\"Câu 17 - Kết quả:\", result)\n"
      ],
      "metadata": {
        "colab": {
          "base_uri": "https://localhost:8080/"
        },
        "id": "0t6gIxGFrPSg",
        "outputId": "a530f8c7-505c-4503-aa46-7021a679dadc"
      },
      "execution_count": 4,
      "outputs": [
        {
          "output_type": "stream",
          "name": "stdout",
          "text": [
            "Câu 17 - Kết quả: 1.0\n"
          ]
        }
      ]
    },
    {
      "cell_type": "code",
      "source": [
        "def compute_gradient(X, y_true, y_pred):\n",
        "    gradient = np.dot(X.T, (y_pred - y_true)) / y_true.size\n",
        "    return gradient\n",
        "\n",
        "# Khai báo tham số\n",
        "X = np.array([[1, 3], [2, 1], [3, 2], [1, 2]])\n",
        "y_true = np.array([1, 0, 1, 1])\n",
        "y_pred = np.array([0.7, 0.4, 0.6, 0.85])\n",
        "\n",
        "# Tính kết quả\n",
        "result = compute_gradient(X, y_true, y_pred)\n",
        "print(\"Câu 18 - Kết quả:\", result)\n"
      ],
      "metadata": {
        "colab": {
          "base_uri": "https://localhost:8080/"
        },
        "id": "yjxd7p9zrQri",
        "outputId": "eb670c05-962f-443f-b151-e9670482e4d4"
      },
      "execution_count": 5,
      "outputs": [
        {
          "output_type": "stream",
          "name": "stdout",
          "text": [
            "Câu 18 - Kết quả: [-0.2125 -0.4   ]\n"
          ]
        }
      ]
    }
  ]
}