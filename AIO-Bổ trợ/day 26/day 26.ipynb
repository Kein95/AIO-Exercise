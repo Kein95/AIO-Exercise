{
  "nbformat": 4,
  "nbformat_minor": 0,
  "metadata": {
    "colab": {
      "provenance": [],
      "machine_shape": "hm",
      "gpuType": "L4"
    },
    "kernelspec": {
      "name": "python3",
      "display_name": "Python 3"
    },
    "language_info": {
      "name": "python"
    },
    "accelerator": "GPU"
  },
  "cells": [
    {
      "cell_type": "markdown",
      "source": [
        "# Ngày 26: SQL\n",
        "https://drive.google.com/file/d/1PwVzLvtSrQrDG9Q1_nJLsC17HtuDGi3F/view"
      ],
      "metadata": {
        "id": "wQsh_CoPG-WD"
      }
    },
    {
      "cell_type": "markdown",
      "source": [
        "# Bước 1: Tạo và kết nối cơ sở dữ liệu"
      ],
      "metadata": {
        "id": "bYd2NRA4Xqzg"
      }
    },
    {
      "cell_type": "code",
      "source": [
        "import sqlite3\n",
        "\n",
        "# Kết nối tới cơ sở dữ liệu SQLite (tạo mới nếu chưa có)\n",
        "conn = sqlite3.connect('clothing_store.db')\n",
        "cursor = conn.cursor()\n",
        "\n",
        "print(\"Connected to SQLite\")"
      ],
      "metadata": {
        "colab": {
          "base_uri": "https://localhost:8080/"
        },
        "id": "j6AHPU6dUjuB",
        "outputId": "c91c2396-bccd-4e45-9fd0-5951d386c6c0"
      },
      "execution_count": 27,
      "outputs": [
        {
          "output_type": "stream",
          "name": "stdout",
          "text": [
            "Connected to SQLite\n"
          ]
        }
      ]
    },
    {
      "cell_type": "markdown",
      "source": [
        "# Bước 2: Tạo các bảng trong cơ sở dữ liệu"
      ],
      "metadata": {
        "id": "uyXtTJunXuvv"
      }
    },
    {
      "cell_type": "code",
      "source": [
        "# Tạo bảng Category\n",
        "cursor.execute('''\n",
        "CREATE TABLE IF NOT EXISTS Category (\n",
        "    Id INTEGER PRIMARY KEY AUTOINCREMENT,\n",
        "    Name TEXT NOT NULL,\n",
        "    Status BOOLEAN\n",
        ");\n",
        "''')\n",
        "\n",
        "# Tạo bảng Product\n",
        "cursor.execute('''\n",
        "CREATE TABLE IF NOT EXISTS Product (\n",
        "    Id INTEGER PRIMARY KEY AUTOINCREMENT,\n",
        "    Name TEXT NOT NULL,\n",
        "    Status BOOLEAN,\n",
        "    Price REAL,\n",
        "    SalePrice REAL,\n",
        "    CreatedDate DATE,\n",
        "    CategoryId INTEGER,\n",
        "    FOREIGN KEY (CategoryId) REFERENCES Category(Id)\n",
        ");\n",
        "''')\n",
        "\n",
        "# Tạo bảng Customer\n",
        "cursor.execute('''\n",
        "CREATE TABLE IF NOT EXISTS Customer (\n",
        "    Id INTEGER PRIMARY KEY AUTOINCREMENT,\n",
        "    Name TEXT NOT NULL,\n",
        "    Email TEXT,\n",
        "    Phone TEXT,\n",
        "    Address TEXT,\n",
        "    CreatedDate DATE,\n",
        "    Gender BOOLEAN,\n",
        "    BirthDay DATE\n",
        ");\n",
        "''')\n",
        "\n",
        "# Tạo bảng Orders\n",
        "cursor.execute('''\n",
        "CREATE TABLE IF NOT EXISTS Orders (\n",
        "    Id INTEGER PRIMARY KEY AUTOINCREMENT,\n",
        "    CustomerId INTEGER NOT NULL,\n",
        "    Status BOOLEAN,\n",
        "    OrderDate DATETIME,\n",
        "    FOREIGN KEY (CustomerId) REFERENCES Customer(Id)\n",
        ");\n",
        "''')\n",
        "\n",
        "# Tạo bảng OrderDetail\n",
        "cursor.execute('''\n",
        "CREATE TABLE IF NOT EXISTS OrderDetail (\n",
        "    OrderId INTEGER NOT NULL,\n",
        "    ProductId INTEGER NOT NULL,\n",
        "    Quantity INTEGER NOT NULL,\n",
        "    Price REAL NOT NULL,\n",
        "    PRIMARY KEY (OrderId, ProductId),\n",
        "    FOREIGN KEY (OrderId) REFERENCES Orders(Id),\n",
        "    FOREIGN KEY (ProductId) REFERENCES Product(Id)\n",
        ");\n",
        "''')\n",
        "\n",
        "conn.commit()\n",
        "\n",
        "print(\"Tables created successfully\")"
      ],
      "metadata": {
        "colab": {
          "base_uri": "https://localhost:8080/"
        },
        "id": "rKGvZ3kyUxQT",
        "outputId": "fac784da-5e1e-426d-c700-545e8505ce97"
      },
      "execution_count": 28,
      "outputs": [
        {
          "output_type": "stream",
          "name": "stdout",
          "text": [
            "Tables created successfully\n"
          ]
        }
      ]
    },
    {
      "cell_type": "markdown",
      "source": [
        "# Bước 3: Thêm dữ liệu mẫu vào các bảng"
      ],
      "metadata": {
        "id": "FolsqOw_XyTm"
      }
    },
    {
      "cell_type": "code",
      "source": [
        "# 1. Dữ liệu mẫu cho bảng Category:\n",
        "categories = [\n",
        "    ('Quần áo nam', True),\n",
        "    ('Quần áo nữ', True),\n",
        "    ('Phụ kiện', True),\n",
        "    ('Giày dép', True),\n",
        "    ('Khác', True)\n",
        "]\n",
        "\n",
        "cursor.executemany('''\n",
        "INSERT INTO Category (Name, Status)\n",
        "VALUES (?, ?);\n",
        "''', categories)\n",
        "\n",
        "conn.commit()\n",
        "\n",
        "print(\"Sample data added to Category table\")"
      ],
      "metadata": {
        "colab": {
          "base_uri": "https://localhost:8080/"
        },
        "id": "vfMYp1TRVHBK",
        "outputId": "3a483296-c58f-4ab0-bb53-0168a5a3b41e"
      },
      "execution_count": 29,
      "outputs": [
        {
          "output_type": "stream",
          "name": "stdout",
          "text": [
            "Sample data added to Category table\n"
          ]
        }
      ]
    },
    {
      "cell_type": "code",
      "source": [
        "# 2. Dữ liệu mẫu cho bảng Product:\n",
        "products = [\n",
        "    ('Áo sơ mi nam', True, 300000, 270000, '2024-08-01', 1),\n",
        "    ('Quần tây nam', True, 500000, 450000, '2024-08-02', 1),\n",
        "    ('Đầm nữ', True, 600000, 540000, '2024-08-03', 2),\n",
        "    ('Giày cao gót', True, 700000, 630000, '2024-08-04', 4),\n",
        "    ('Mũ lưỡi trai', True, 150000, 135000, '2024-08-05', 3),\n",
        "    ('Thắt lưng da', True, 250000, 225000, '2024-08-06', 3),\n",
        "    ('Áo phông nữ', True, 200000, 180000, '2024-08-07', 2),\n",
        "    ('Giày thể thao nam', True, 800000, 720000, '2024-08-08', 4),\n",
        "    ('Túi xách nữ', True, 1200000, 1080000, '2024-08-09', 3),\n",
        "    ('Váy dạ hội', True, 1500000, 1350000, '2024-08-10', 2),\n",
        "    ('Áo khoác nam', True, 900000, 810000, '2024-08-11', 1),\n",
        "    ('Áo len nữ', True, 400000, 360000, '2024-08-12', 2),\n",
        "    ('Quần jean nam', True, 600000, 540000, '2024-08-13', 1),\n",
        "    ('Đồng hồ đeo tay', True, 2000000, 1800000, '2024-08-14', 3),\n",
        "    ('Kính râm', True, 350000, 315000, '2024-08-15', 3)\n",
        "]\n",
        "\n",
        "cursor.executemany('''\n",
        "INSERT INTO Product (Name, Status, Price, SalePrice, CreatedDate, CategoryId)\n",
        "VALUES (?, ?, ?, ?, ?, ?);\n",
        "''', products)\n",
        "\n",
        "conn.commit()\n",
        "\n",
        "print(\"Sample data added to Product table\")"
      ],
      "metadata": {
        "colab": {
          "base_uri": "https://localhost:8080/"
        },
        "id": "kh1iR8Y3W0O0",
        "outputId": "14dba3b0-4b39-403b-b740-28c5bdab9564"
      },
      "execution_count": 30,
      "outputs": [
        {
          "output_type": "stream",
          "name": "stdout",
          "text": [
            "Sample data added to Product table\n"
          ]
        }
      ]
    },
    {
      "cell_type": "code",
      "source": [
        "# 3. Dữ liệu mẫu cho bảng Customer:\n",
        "customers = [\n",
        "    ('Nguyễn Văn A', 'nguyenvana@example.com', '0123456789', '123 Đường A, Hà Nội', '2024-08-01', True, '1990-01-01'),\n",
        "    ('Trần Thị B', 'tranthib@example.com', '0987654321', '456 Đường B, TP.HCM', '2024-08-02', False, '1992-05-10'),\n",
        "    ('Lê Văn C', 'levanc@example.com', '0112233445', '789 Đường C, Đà Nẵng', '2024-08-03', True, '1988-11-20')\n",
        "]\n",
        "\n",
        "cursor.executemany('''\n",
        "INSERT INTO Customer (Name, Email, Phone, Address, CreatedDate, Gender, BirthDay)\n",
        "VALUES (?, ?, ?, ?, ?, ?, ?);\n",
        "''', customers)\n",
        "\n",
        "conn.commit()\n",
        "\n",
        "print(\"Sample data added to Customer table\")"
      ],
      "metadata": {
        "colab": {
          "base_uri": "https://localhost:8080/"
        },
        "id": "5QBTjBZ1VLTj",
        "outputId": "9cd7a475-deb1-42b6-ebfd-1dab53140a07"
      },
      "execution_count": 31,
      "outputs": [
        {
          "output_type": "stream",
          "name": "stdout",
          "text": [
            "Sample data added to Customer table\n"
          ]
        }
      ]
    },
    {
      "cell_type": "code",
      "source": [
        "# 4. Dữ liệu mẫu cho bảng Orders:\n",
        "orders = [\n",
        "    (1, True, '2024-08-05 10:00:00'),\n",
        "    (2, True, '2024-08-06 11:00:00'),\n",
        "    (3, True, '2024-08-07 12:00:00')\n",
        "]\n",
        "\n",
        "cursor.executemany('''\n",
        "INSERT INTO Orders (CustomerId, Status, OrderDate)\n",
        "VALUES (?, ?, ?);\n",
        "''', orders)\n",
        "\n",
        "conn.commit()\n",
        "\n",
        "print(\"Sample data added to Orders table\")"
      ],
      "metadata": {
        "colab": {
          "base_uri": "https://localhost:8080/"
        },
        "id": "OmT-kvmGVRD9",
        "outputId": "c82a6149-1a7f-43db-c509-e8e11415bccf"
      },
      "execution_count": 32,
      "outputs": [
        {
          "output_type": "stream",
          "name": "stdout",
          "text": [
            "Sample data added to Orders table\n"
          ]
        }
      ]
    },
    {
      "cell_type": "code",
      "source": [
        "# 5. Dữ liệu mẫu cho bảng OrderDetail:\n",
        "order_details = [\n",
        "    (1, 1, 2, 540000),  # OrderId 1 - ProductId 1\n",
        "    (1, 2, 1, 450000),  # OrderId 1 - ProductId 2\n",
        "    (2, 3, 1, 540000),  # OrderId 2 - ProductId 3\n",
        "    (2, 5, 3, 405000),  # OrderId 2 - ProductId 5\n",
        "    (3, 4, 1, 630000),  # OrderId 3 - ProductId 4\n",
        "    (3, 6, 2, 450000)   # OrderId 3 - ProductId 6\n",
        "]\n",
        "\n",
        "# Chèn dữ liệu vào bảng OrderDetail, chỉ khi cặp OrderId và ProductId chưa tồn tại\n",
        "for detail in order_details:\n",
        "    try:\n",
        "        cursor.execute('''\n",
        "        INSERT INTO OrderDetail (OrderId, ProductId, Quantity, Price)\n",
        "        VALUES (?, ?, ?, ?);\n",
        "        ''', detail)\n",
        "    except sqlite3.IntegrityError:\n",
        "        print(f\"Skipped duplicate entry for OrderId {detail[0]} and ProductId {detail[1]}\")\n",
        "\n",
        "conn.commit()\n",
        "\n",
        "print(\"Sample data added to OrderDetail table without duplicates\")"
      ],
      "metadata": {
        "colab": {
          "base_uri": "https://localhost:8080/"
        },
        "id": "8id6_GvHXKgV",
        "outputId": "9e20b839-a192-4d4b-948a-0b867b76c75b"
      },
      "execution_count": 37,
      "outputs": [
        {
          "output_type": "stream",
          "name": "stdout",
          "text": [
            "Skipped duplicate entry for OrderId 1 and ProductId 1\n",
            "Skipped duplicate entry for OrderId 1 and ProductId 2\n",
            "Skipped duplicate entry for OrderId 2 and ProductId 3\n",
            "Skipped duplicate entry for OrderId 2 and ProductId 5\n",
            "Skipped duplicate entry for OrderId 3 and ProductId 4\n",
            "Skipped duplicate entry for OrderId 3 and ProductId 6\n",
            "Sample data added to OrderDetail table without duplicates\n"
          ]
        }
      ]
    },
    {
      "cell_type": "markdown",
      "source": [
        "# Bước 4: Thực hiện các truy vấn SQL"
      ],
      "metadata": {
        "id": "K8OL2OHVY1-T"
      }
    },
    {
      "cell_type": "code",
      "source": [
        "# 1. Truy vấn danh sách sản phẩm sắp xếp giảm dần theo giá:\n",
        "cursor.execute('''\n",
        "SELECT p.Id, p.Name, p.Price, p.SalePrice, p.Status, c.Name AS CategoryName, p.CreatedDate\n",
        "FROM Product p\n",
        "JOIN Category c ON p.CategoryId = c.Id\n",
        "ORDER BY p.Price DESC;\n",
        "''')\n",
        "\n",
        "products = cursor.fetchall()\n",
        "for product in products:\n",
        "    print(product)"
      ],
      "metadata": {
        "colab": {
          "base_uri": "https://localhost:8080/"
        },
        "id": "5lrnffhFXNp0",
        "outputId": "75131004-37e3-48b8-9e9e-da1e8672543c"
      },
      "execution_count": 38,
      "outputs": [
        {
          "output_type": "stream",
          "name": "stdout",
          "text": [
            "(14, 'Đồng hồ đeo tay', 2000000.0, 1800000.0, 1, 'Phụ kiện', '2024-08-14')\n",
            "(29, 'Đồng hồ đeo tay', 2000000.0, 1800000.0, 1, 'Phụ kiện', '2024-08-14')\n",
            "(44, 'Đồng hồ đeo tay', 2000000.0, 1800000.0, 1, 'Phụ kiện', '2024-08-14')\n",
            "(10, 'Váy dạ hội', 1500000.0, 1350000.0, 1, 'Quần áo nữ', '2024-08-10')\n",
            "(25, 'Váy dạ hội', 1500000.0, 1350000.0, 1, 'Quần áo nữ', '2024-08-10')\n",
            "(40, 'Váy dạ hội', 1500000.0, 1350000.0, 1, 'Quần áo nữ', '2024-08-10')\n",
            "(9, 'Túi xách nữ', 1200000.0, 1080000.0, 1, 'Phụ kiện', '2024-08-09')\n",
            "(24, 'Túi xách nữ', 1200000.0, 1080000.0, 1, 'Phụ kiện', '2024-08-09')\n",
            "(39, 'Túi xách nữ', 1200000.0, 1080000.0, 1, 'Phụ kiện', '2024-08-09')\n",
            "(11, 'Áo khoác nam', 900000.0, 810000.0, 1, 'Quần áo nam', '2024-08-11')\n",
            "(26, 'Áo khoác nam', 900000.0, 810000.0, 1, 'Quần áo nam', '2024-08-11')\n",
            "(41, 'Áo khoác nam', 900000.0, 810000.0, 1, 'Quần áo nam', '2024-08-11')\n",
            "(8, 'Giày thể thao nam', 800000.0, 720000.0, 1, 'Giày dép', '2024-08-08')\n",
            "(23, 'Giày thể thao nam', 800000.0, 720000.0, 1, 'Giày dép', '2024-08-08')\n",
            "(38, 'Giày thể thao nam', 800000.0, 720000.0, 1, 'Giày dép', '2024-08-08')\n",
            "(4, 'Giày cao gót', 700000.0, 630000.0, 1, 'Giày dép', '2024-08-04')\n",
            "(19, 'Giày cao gót', 700000.0, 630000.0, 1, 'Giày dép', '2024-08-04')\n",
            "(34, 'Giày cao gót', 700000.0, 630000.0, 1, 'Giày dép', '2024-08-04')\n",
            "(3, 'Đầm nữ', 600000.0, 540000.0, 1, 'Quần áo nữ', '2024-08-03')\n",
            "(13, 'Quần jean nam', 600000.0, 540000.0, 1, 'Quần áo nam', '2024-08-13')\n",
            "(18, 'Đầm nữ', 600000.0, 540000.0, 1, 'Quần áo nữ', '2024-08-03')\n",
            "(28, 'Quần jean nam', 600000.0, 540000.0, 1, 'Quần áo nam', '2024-08-13')\n",
            "(33, 'Đầm nữ', 600000.0, 540000.0, 1, 'Quần áo nữ', '2024-08-03')\n",
            "(43, 'Quần jean nam', 600000.0, 540000.0, 1, 'Quần áo nam', '2024-08-13')\n",
            "(2, 'Quần tây nam', 500000.0, 450000.0, 1, 'Quần áo nam', '2024-08-02')\n",
            "(17, 'Quần tây nam', 500000.0, 450000.0, 1, 'Quần áo nam', '2024-08-02')\n",
            "(32, 'Quần tây nam', 500000.0, 450000.0, 1, 'Quần áo nam', '2024-08-02')\n",
            "(12, 'Áo len nữ', 400000.0, 360000.0, 1, 'Quần áo nữ', '2024-08-12')\n",
            "(27, 'Áo len nữ', 400000.0, 360000.0, 1, 'Quần áo nữ', '2024-08-12')\n",
            "(42, 'Áo len nữ', 400000.0, 360000.0, 1, 'Quần áo nữ', '2024-08-12')\n",
            "(15, 'Kính râm', 350000.0, 315000.0, 1, 'Phụ kiện', '2024-08-15')\n",
            "(30, 'Kính râm', 350000.0, 315000.0, 1, 'Phụ kiện', '2024-08-15')\n",
            "(45, 'Kính râm', 350000.0, 315000.0, 1, 'Phụ kiện', '2024-08-15')\n",
            "(1, 'Áo sơ mi nam', 300000.0, 270000.0, 1, 'Quần áo nam', '2024-08-01')\n",
            "(16, 'Áo sơ mi nam', 300000.0, 270000.0, 1, 'Quần áo nam', '2024-08-01')\n",
            "(31, 'Áo sơ mi nam', 300000.0, 270000.0, 1, 'Quần áo nam', '2024-08-01')\n",
            "(6, 'Thắt lưng da', 250000.0, 225000.0, 1, 'Phụ kiện', '2024-08-06')\n",
            "(21, 'Thắt lưng da', 250000.0, 225000.0, 1, 'Phụ kiện', '2024-08-06')\n",
            "(36, 'Thắt lưng da', 250000.0, 225000.0, 1, 'Phụ kiện', '2024-08-06')\n",
            "(7, 'Áo phông nữ', 200000.0, 180000.0, 1, 'Quần áo nữ', '2024-08-07')\n",
            "(22, 'Áo phông nữ', 200000.0, 180000.0, 1, 'Quần áo nữ', '2024-08-07')\n",
            "(37, 'Áo phông nữ', 200000.0, 180000.0, 1, 'Quần áo nữ', '2024-08-07')\n",
            "(5, 'Mũ lưỡi trai', 150000.0, 135000.0, 1, 'Phụ kiện', '2024-08-05')\n",
            "(20, 'Mũ lưỡi trai', 150000.0, 135000.0, 1, 'Phụ kiện', '2024-08-05')\n",
            "(35, 'Mũ lưỡi trai', 150000.0, 135000.0, 1, 'Phụ kiện', '2024-08-05')\n"
          ]
        }
      ]
    },
    {
      "cell_type": "code",
      "source": [
        "# 2. Truy vấn danh sách các danh mục sản phẩm:\n",
        "cursor.execute('''\n",
        "SELECT c.Id, c.Name, COUNT(p.Id) AS TotalProduct, c.Status\n",
        "FROM Category c\n",
        "LEFT JOIN Product p ON c.Id = p.CategoryId\n",
        "GROUP BY c.Id, c.Name, c.Status;\n",
        "''')\n",
        "\n",
        "categories = cursor.fetchall()\n",
        "for category in categories:\n",
        "    print(category)"
      ],
      "metadata": {
        "colab": {
          "base_uri": "https://localhost:8080/"
        },
        "id": "FGXubkbFXQKv",
        "outputId": "8be6e4f7-3b6b-4ba1-9594-632776461a8e"
      },
      "execution_count": 17,
      "outputs": [
        {
          "output_type": "stream",
          "name": "stdout",
          "text": [
            "(1, 'Quần áo nam', 4, 1)\n",
            "(2, 'Quần áo nữ', 4, 1)\n",
            "(3, 'Phụ kiện', 5, 1)\n",
            "(4, 'Giày dép', 2, 1)\n",
            "(5, 'Khác', 0, 1)\n",
            "(6, 'Quần áo nam', 0, 1)\n",
            "(7, 'Quần áo nữ', 0, 1)\n",
            "(8, 'Phụ kiện', 0, 1)\n",
            "(9, 'Giày dép', 0, 1)\n",
            "(10, 'Khác', 0, 1)\n"
          ]
        }
      ]
    },
    {
      "cell_type": "code",
      "source": [
        "# 3. Truy vấn danh sách khách hàng với tuổi và giới tính:\n",
        "cursor.execute('''\n",
        "SELECT Id, Name, Email, Phone, Address, CreatedDate, Gender,\n",
        "       BirthDay,\n",
        "       (strftime('%Y', 'now') - strftime('%Y', BirthDay)) AS Age\n",
        "FROM Customer;\n",
        "''')\n",
        "\n",
        "customers = cursor.fetchall()\n",
        "for customer in customers:\n",
        "    print(customer)"
      ],
      "metadata": {
        "colab": {
          "base_uri": "https://localhost:8080/"
        },
        "id": "g8bYdTQEXVNS",
        "outputId": "ad210f7b-c988-4745-95b0-e17c06937145"
      },
      "execution_count": 18,
      "outputs": [
        {
          "output_type": "stream",
          "name": "stdout",
          "text": [
            "(1, 'Nguyễn Văn A', 'nguyenvana@example.com', '0123456789', '123 Đường A, Hà Nội', '2024-08-01', 1, '1990-01-01', 34)\n",
            "(2, 'Trần Thị B', 'tranthib@example.com', '0987654321', '456 Đường B, TP.HCM', '2024-08-02', 0, '1992-05-10', 32)\n",
            "(3, 'Lê Văn C', 'levanc@example.com', '0112233445', '789 Đường C, Đà Nẵng', '2024-08-03', 1, '1988-11-20', 36)\n"
          ]
        }
      ]
    },
    {
      "cell_type": "markdown",
      "source": [
        "# Bước 5: Đóng kết nối"
      ],
      "metadata": {
        "id": "9MinrIL5ZEPy"
      }
    },
    {
      "cell_type": "code",
      "source": [
        "conn.close()\n",
        "print(\"SQLite connection is closed\")"
      ],
      "metadata": {
        "colab": {
          "base_uri": "https://localhost:8080/"
        },
        "id": "R4mXC1X9XZtY",
        "outputId": "562ea43e-3e02-4d9a-c6cc-868a56e574fd"
      },
      "execution_count": 39,
      "outputs": [
        {
          "output_type": "stream",
          "name": "stdout",
          "text": [
            "SQLite connection is closed\n"
          ]
        }
      ]
    }
  ]
}