{
  "nbformat": 4,
  "nbformat_minor": 0,
  "metadata": {
    "colab": {
      "provenance": []
    },
    "kernelspec": {
      "name": "python3",
      "display_name": "Python 3"
    },
    "language_info": {
      "name": "python"
    }
  },
  "cells": [
    {
      "cell_type": "markdown",
      "source": [
        "# Ngày 22: Numpy - Attention score\n",
        "https://drive.google.com/file/d/1Zuh5PjuyGUROdrw4DI3G6BsgxW_BsagI/view"
      ],
      "metadata": {
        "id": "wQsh_CoPG-WD"
      }
    },
    {
      "cell_type": "code",
      "source": [
        "import numpy as np\n",
        "\n",
        "# Giúp kết quả giống nhau trên mọi máy khi tạo random\n",
        "np.random.seed(42)\n",
        "\n",
        "# Bước 1: Tạo từ điển và mã hóa từ\n",
        "vocab = {\n",
        "    \"Tôi\": 0,\n",
        "    \"thích\": 1,\n",
        "    \"học\": 2,\n",
        "    \"AI\": 3\n",
        "}\n",
        "\n",
        "# Số lượng từ vựng\n",
        "vocab_size = len(vocab)\n",
        "\n",
        "# Kích thước vector embedding\n",
        "embedding_dim = 4\n",
        "\n",
        "# Khởi tạo ma trận embedding ngẫu nhiên\n",
        "embedding_matrix = np.random.rand(vocab_size, embedding_dim)\n",
        "\n",
        "# Chuỗi đầu vào được mã hóa thành các vector embedding\n",
        "input_seq = np.array([embedding_matrix[vocab[word]] for word in [\"Tôi\", \"thích\", \"học\", \"AI\"]])\n",
        "print(\"Chuỗi đầu vào (đã mã hóa):\", input_seq)\n",
        "\n",
        "# Bước 2: Khởi tạo các ma trận trọng số cho Q, K, V\n",
        "W_q = np.random.rand(embedding_dim, embedding_dim)\n",
        "W_k = np.random.rand(embedding_dim, embedding_dim)\n",
        "W_v = np.random.rand(embedding_dim, embedding_dim)\n",
        "\n",
        "# Tính toán Q, K, V\n",
        "Q = np.dot(input_seq, W_q)\n",
        "K = np.dot(input_seq, W_k)\n",
        "V = np.dot(input_seq, W_v)\n",
        "\n",
        "print(\"Ma trận Query Q:\", Q)\n",
        "print(\"Ma trận Key K:\", K)\n",
        "print(\"Ma trận Value V:\", V)\n",
        "\n",
        "# Bước 3: Tính toán Attention score\n",
        "scores = np.dot(Q, K.T)  # Nhân ma trận Q với K chuyển vị để tạo scores\n",
        "\n",
        "# Chia cho căn bậc hai của kích thước chiều của vector key\n",
        "d_k = embedding_dim  # embedding_dim là chiều của embedding\n",
        "scores = scores / np.sqrt(d_k)\n",
        "\n",
        "print(\"Điểm số:\\n\", scores)\n",
        "\n",
        "# Bước 4: Áp dụng hàm softmax\n",
        "def softmax(x):\n",
        "    x_exp = np.exp(x - np.max(x, axis=-1, keepdims=True))  # Tránh tràn số khi exponate\n",
        "    return x_exp / np.sum(x_exp, axis=-1, keepdims=True)\n",
        "\n",
        "attention_weights = softmax(scores)\n",
        "\n",
        "print(\"Trọng số Attention:\\n\", attention_weights)\n",
        "\n",
        "# Bước 5: Tính toán tổng có trọng số của các value\n",
        "output = np.dot(attention_weights, V)  # Nhân trọng số attention với value để nhận output\n",
        "\n",
        "print(\"Đầu ra:\\n\", output)"
      ],
      "metadata": {
        "colab": {
          "base_uri": "https://localhost:8080/"
        },
        "id": "y_ehOmgiId4E",
        "outputId": "51811303-c9e9-4924-c17a-0b4e8182e49b"
      },
      "execution_count": 5,
      "outputs": [
        {
          "output_type": "stream",
          "name": "stdout",
          "text": [
            "Chuỗi đầu vào (đã mã hóa): [[0.37454012 0.95071431 0.73199394 0.59865848]\n",
            " [0.15601864 0.15599452 0.05808361 0.86617615]\n",
            " [0.60111501 0.70807258 0.02058449 0.96990985]\n",
            " [0.83244264 0.21233911 0.18182497 0.18340451]]\n",
            "Ma trận Query Q: [[1.3841427  0.93171313 0.94939871 0.93588465]\n",
            " [0.68253872 0.18947216 0.65080307 0.28016014]\n",
            " [1.20009753 0.47542591 1.05988217 0.61045127]\n",
            " [0.57476093 0.61773344 0.56933533 0.44500006]]\n",
            "Ma trận Key K: [[0.55821718 1.20734506 1.22395873 1.69819667]\n",
            " [0.28890481 0.76590281 0.52938731 0.69807356]\n",
            " [0.50829749 1.29232814 1.36798207 1.32073669]\n",
            " [0.18848415 1.02217749 1.01254462 1.02712599]]\n",
            "Ma trận Value V: [[1.39542095 1.22586424 1.46081725 1.6184706 ]\n",
            " [0.57365664 0.41484836 0.96500202 0.59265008]\n",
            " [1.3726727  1.0119398  1.81092011 1.47141317]\n",
            " [0.74197263 0.42928879 1.09429878 0.96558692]]\n",
            "Điểm số:\n",
            " [[2.32444626 1.13470157 2.22122649 1.56792258]\n",
            " [0.94104311 0.44120262 0.92604881 0.63452441]\n",
            " [1.78891827 0.84903602 1.74027902 1.20617869]\n",
            " [1.2595997  0.62560832 1.22851614 0.88665755]]\n",
            "Trọng số Attention:\n",
            " [[0.37375874 0.11373439 0.33710375 0.17540311]\n",
            " [0.30050337 0.18229358 0.29603114 0.22117191]\n",
            " [0.34464159 0.13464245 0.32827962 0.19243634]\n",
            " [0.31362022 0.1663662  0.30402174 0.21599184]]\n",
            "Đầu ra:\n",
            " [[1.1796727  0.9217873  1.45815851 1.33770808]\n",
            " [1.09435999 0.83851284 1.39301108 1.243537  ]\n",
            " [1.1515616  0.89314997 1.43845963 1.30643711]\n",
            " [1.11065168 0.85384713 1.40560424 1.26208253]]\n"
          ]
        }
      ]
    }
  ]
}