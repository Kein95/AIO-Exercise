{
  "nbformat": 4,
  "nbformat_minor": 0,
  "metadata": {
    "colab": {
      "provenance": []
    },
    "kernelspec": {
      "name": "python3",
      "display_name": "Python 3"
    },
    "language_info": {
      "name": "python"
    }
  },
  "cells": [
    {
      "cell_type": "markdown",
      "source": [
        "# Ngày 21: Bài toán mã đi tuần\n",
        "https://drive.google.com/file/d/1Ix-u2eOd8QP8wtqkZSh-c_-76ygnjbPO/view"
      ],
      "metadata": {
        "id": "wQsh_CoPG-WD"
      }
    },
    {
      "cell_type": "code",
      "source": [
        "import numpy as np\n",
        "import math\n",
        "\n",
        "# Bước 1: Tạo tập tài liệu mẫu\n",
        "documents = [\"Tôi thích học AI\",\"AI là trí tuệ nhân tạo\",\"AGI là siêu trí tuệ nhân tạo\"]\n",
        "\n",
        "# Bước 2: Tiền xử lý - tách từ và tính tần số\n",
        "def compute_tf(doc):\n",
        "    words = doc.split()\n",
        "    word_count = len(words)\n",
        "    tf_dict = {}\n",
        "    for word in words:\n",
        "        tf_dict[word] = tf_dict.get(word, 0) + 1\n",
        "    for word, count in tf_dict.items():\n",
        "        tf_dict[word] = count / word_count\n",
        "    return tf_dict\n",
        "\n",
        "# Bước 3: Tính toán IDF\n",
        "def compute_idf(docs):\n",
        "    N = len(docs)\n",
        "    idf_dict = {}\n",
        "    all_words = set(word for doc in docs for word in doc.split())\n",
        "    for word in all_words:\n",
        "        count = sum(word in doc for doc in docs)\n",
        "        idf_dict[word] = math.log(N / (1 + count))\n",
        "    return idf_dict\n",
        "\n",
        "# Bước 4: Tính toán TF - IDF\n",
        "def compute_tf_idf(tfs, idfs):\n",
        "    tf_idf_dict = {}\n",
        "    for word, tf in tfs.items():\n",
        "        tf_idf_dict[word] = tf * idfs[word]\n",
        "    return tf_idf_dict\n",
        "\n",
        "# In kết quả\n",
        "def results():\n",
        "    idfs = compute_idf(documents)\n",
        "    for i, doc in enumerate(documents):\n",
        "        tfs = compute_tf(doc)\n",
        "        tf_idf = compute_tf_idf(tfs, idfs)\n",
        "        print(f\"Tài liệu {i + 1} '{doc}': {tf_idf}\")\n",
        "\n",
        "print(results())"
      ],
      "metadata": {
        "colab": {
          "base_uri": "https://localhost:8080/"
        },
        "id": "x8in-GpqnF9q",
        "outputId": "3523474c-2f28-4855-daff-923e1467a4b3"
      },
      "execution_count": 27,
      "outputs": [
        {
          "output_type": "stream",
          "name": "stdout",
          "text": [
            "Tài liệu 1 'Tôi thích học AI': {'Tôi': 0.1013662770270411, 'thích': 0.1013662770270411, 'học': 0.1013662770270411, 'AI': 0.0}\n",
            "Tài liệu 2 'AI là trí tuệ nhân tạo': {'AI': 0.0, 'là': 0.0, 'trí': 0.0, 'tuệ': 0.0, 'nhân': 0.0, 'tạo': 0.0}\n",
            "Tài liệu 3 'AGI là siêu trí tuệ nhân tạo': {'AGI': 0.05792358687259491, 'là': 0.0, 'siêu': 0.05792358687259491, 'trí': 0.0, 'tuệ': 0.0, 'nhân': 0.0, 'tạo': 0.0}\n",
            "None\n"
          ]
        }
      ]
    }
  ]
}