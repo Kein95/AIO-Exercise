{
  "nbformat": 4,
  "nbformat_minor": 0,
  "metadata": {
    "colab": {
      "provenance": [],
      "machine_shape": "hm",
      "gpuType": "L4"
    },
    "kernelspec": {
      "name": "python3",
      "display_name": "Python 3"
    },
    "language_info": {
      "name": "python"
    },
    "accelerator": "GPU"
  },
  "cells": [
    {
      "cell_type": "markdown",
      "source": [
        "# Day 28: Basic Python - Einsum in Numpy\n",
        "https://drive.google.com/file/d/1icnihbS9WKTrx4tAxfGyx7H1VMS7we_B/view"
      ],
      "metadata": {
        "id": "KW7mAtMqT6Wr"
      }
    },
    {
      "cell_type": "code",
      "source": [
        "# 1. Nhân ma trận (Matrix multiplication)\n",
        "import numpy as np\n",
        "\n",
        "A = np.array([[1, 2], [3, 4]])\n",
        "B = np.array([[5, 6], [7, 8]])\n",
        "C = np.einsum('ij,jk->ik', A, B)\n",
        "print(C)\n",
        "# Output: [[19 22] [43 50]]"
      ],
      "metadata": {
        "colab": {
          "base_uri": "https://localhost:8080/"
        },
        "id": "pc_G5qzvT_zl",
        "outputId": "d44817ae-3cc3-46b8-8d20-7f90f9a42892"
      },
      "execution_count": 4,
      "outputs": [
        {
          "output_type": "stream",
          "name": "stdout",
          "text": [
            "[[19 22]\n",
            " [43 50]]\n"
          ]
        }
      ]
    },
    {
      "cell_type": "code",
      "source": [
        "# 2. Tính tổng của các phần tử trong một mảng\n",
        "import numpy as np\n",
        "\n",
        "a = np.array([1, 2, 3, 4])\n",
        "sum_a = np.einsum('i->', a)\n",
        "print(sum_a)  # Output: 10"
      ],
      "metadata": {
        "colab": {
          "base_uri": "https://localhost:8080/"
        },
        "id": "0nabIb6eUuss",
        "outputId": "90980df6-cf89-43c9-b551-9dfb84e135b4"
      },
      "execution_count": 5,
      "outputs": [
        {
          "output_type": "stream",
          "name": "stdout",
          "text": [
            "10\n"
          ]
        }
      ]
    },
    {
      "cell_type": "code",
      "source": [
        "# 3. Nhân chéo (Outer product)\n",
        "import numpy as np\n",
        "\n",
        "a = np.array([1, 2, 3])\n",
        "b = np.array([4, 5, 6])\n",
        "outer_product = np.einsum('i,j->ij', a, b)\n",
        "print(outer_product)  # Output: [[ 4  5  6] [ 8 10 12] [12 15 18]]"
      ],
      "metadata": {
        "colab": {
          "base_uri": "https://localhost:8080/"
        },
        "id": "pE4Yv5rwU1wV",
        "outputId": "8aad3c14-98a1-46be-c8a6-c5710635d8d5"
      },
      "execution_count": 6,
      "outputs": [
        {
          "output_type": "stream",
          "name": "stdout",
          "text": [
            "[[ 4  5  6]\n",
            " [ 8 10 12]\n",
            " [12 15 18]]\n"
          ]
        }
      ]
    },
    {
      "cell_type": "code",
      "source": [
        "# Bài tập 1: Tính tổng của các cột trong ma trận\n",
        "# Sử dụng einsum để tính tổng của từng cột trong ma trận 2D.\n",
        "import numpy as np\n",
        "\n",
        "A = np.array([[1, 2, 3], [4, 5, 6], [7, 8, 9]])\n",
        "column_sums = np.einsum('ij->j', A)\n",
        "print(column_sums)  # Output: [12 15 18]"
      ],
      "metadata": {
        "colab": {
          "base_uri": "https://localhost:8080/"
        },
        "id": "eV9yVFVJVGMo",
        "outputId": "9a7fed4f-6bf4-4a49-84f6-16438a637404"
      },
      "execution_count": 7,
      "outputs": [
        {
          "output_type": "stream",
          "name": "stdout",
          "text": [
            "[12 15 18]\n"
          ]
        }
      ]
    },
    {
      "cell_type": "code",
      "source": [
        "# Bài tập 2: Tính tích vô hướng của hai ma trận\n",
        "# Sử dụng einsum để tính tích vô hướng (dot product) của hai ma trận 2D.\n",
        "import numpy as np\n",
        "\n",
        "A = np.array([[1, 2], [3, 4]])\n",
        "B = np.array([[5, 6], [7, 8]])\n",
        "dot_product = np.einsum('ij,ij->', A, B)\n",
        "print(dot_product)  # Output: 70"
      ],
      "metadata": {
        "colab": {
          "base_uri": "https://localhost:8080/"
        },
        "id": "5SEJi6kUVQ7c",
        "outputId": "eae46f24-87f4-4808-8d7f-ec7b82d5a54f"
      },
      "execution_count": 9,
      "outputs": [
        {
          "output_type": "stream",
          "name": "stdout",
          "text": [
            "70\n"
          ]
        }
      ]
    },
    {
      "cell_type": "code",
      "source": [
        "# Bài tập 3: Tính tổng các phần tử trên đường chéo chính của ma trận\n",
        "# Sử dụng einsum để tính tổng các phần tử trên đường chéo chính của ma trận 2D.\n",
        "import numpy as np\n",
        "\n",
        "A = np.array([[1, 2, 3], [4, 5, 6], [7, 8, 9]])\n",
        "diagonal_sum = np.einsum('ii->', A)\n",
        "print(diagonal_sum)  # Output: 15"
      ],
      "metadata": {
        "colab": {
          "base_uri": "https://localhost:8080/"
        },
        "id": "_Hkvemi7Vi9A",
        "outputId": "c2658c92-e3cf-4747-dcb6-3328c6c9bebd"
      },
      "execution_count": 10,
      "outputs": [
        {
          "output_type": "stream",
          "name": "stdout",
          "text": [
            "15\n"
          ]
        }
      ]
    },
    {
      "cell_type": "code",
      "source": [
        "# Bài tập 4: Nhân hai ma trận 2D\n",
        "# Sử dụng einsum để thực hiện phép nhân hai ma trận 2D.\n",
        "import numpy as np\n",
        "\n",
        "A = np.array([[1, 2], [3, 4]])\n",
        "B = np.array([[5, 6], [7, 8]])\n",
        "C = np.einsum('ij,jk->ik', A, B)\n",
        "print(C)  # Output: [[19 22][43 50]]"
      ],
      "metadata": {
        "colab": {
          "base_uri": "https://localhost:8080/"
        },
        "id": "Stf7prH7VwQA",
        "outputId": "15dc835e-5520-4098-9658-798f4dd372a8"
      },
      "execution_count": 11,
      "outputs": [
        {
          "output_type": "stream",
          "name": "stdout",
          "text": [
            "[[19 22]\n",
            " [43 50]]\n"
          ]
        }
      ]
    },
    {
      "cell_type": "code",
      "source": [
        "# Bài tập 5: Tính tích ngoài của hai vector\n",
        "# Sử dụng einsum để tính tích ngoài (outer product) của hai vector.\n",
        "import numpy as np\n",
        "\n",
        "a = np.array([1, 2, 3])\n",
        "b = np.array([4, 5, 6])\n",
        "outer_product = np.einsum('i,j->ij', a, b)\n",
        "print(outer_product)  # Output: [[ 4  5  6] [ 8 10 12] [12 15 18]]"
      ],
      "metadata": {
        "colab": {
          "base_uri": "https://localhost:8080/"
        },
        "id": "LnwKY60iWAD1",
        "outputId": "8cb400f2-3fe1-4a89-808c-4f41255023ba"
      },
      "execution_count": 12,
      "outputs": [
        {
          "output_type": "stream",
          "name": "stdout",
          "text": [
            "[[ 4  5  6]\n",
            " [ 8 10 12]\n",
            " [12 15 18]]\n"
          ]
        }
      ]
    },
    {
      "cell_type": "code",
      "source": [
        "# Bài tập 6: Tính ma trận Gram của một tensor 3D\n",
        "# Sử dụng einsum để tính ma trận Gram của một tensor 3D có kích thước (channels, height, width).\n",
        "import numpy as np\n",
        "\n",
        "def gram_matrix(tensor):\n",
        "    # tensor có shape (channels, height, width)\n",
        "    channels, height, width = tensor.shape\n",
        "\n",
        "    # Reshape tensor thành ma trận 2D (channels, height * width)\n",
        "    features = tensor.reshape(channels, height * width)\n",
        "\n",
        "    # Tính ma trận Gram\n",
        "    gram = np.einsum('ij,kj->ik', features, features)\n",
        "\n",
        "    return gram\n",
        "\n",
        "tensor = np.random.rand(3, 4, 4)\n",
        "gram = gram_matrix(tensor)\n",
        "print(gram)"
      ],
      "metadata": {
        "colab": {
          "base_uri": "https://localhost:8080/"
        },
        "id": "wOc6gNRpWRxW",
        "outputId": "089f3e91-eb71-4fac-c439-dec2625058dc"
      },
      "execution_count": 13,
      "outputs": [
        {
          "output_type": "stream",
          "name": "stdout",
          "text": [
            "[[5.90583973 4.96387005 3.68459574]\n",
            " [4.96387005 5.5286311  3.75861396]\n",
            " [3.68459574 3.75861396 3.52456133]]\n"
          ]
        }
      ]
    }
  ]
}