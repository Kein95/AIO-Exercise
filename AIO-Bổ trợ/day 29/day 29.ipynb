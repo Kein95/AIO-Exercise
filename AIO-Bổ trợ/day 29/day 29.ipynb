{
  "nbformat": 4,
  "nbformat_minor": 0,
  "metadata": {
    "colab": {
      "provenance": [],
      "machine_shape": "hm",
      "gpuType": "L4"
    },
    "kernelspec": {
      "name": "python3",
      "display_name": "Python 3"
    },
    "language_info": {
      "name": "python"
    },
    "accelerator": "GPU"
  },
  "cells": [
    {
      "cell_type": "markdown",
      "source": [
        "# Day 29: Basic Python - Einsum in Numpy\n",
        "https://drive.google.com/file/d/1SQwgziPo9HqDcEwCjuOdVa-eiZk-_EUP/view"
      ],
      "metadata": {
        "id": "KW7mAtMqT6Wr"
      }
    },
    {
      "cell_type": "code",
      "source": [
        "pip install numpy"
      ],
      "metadata": {
        "colab": {
          "base_uri": "https://localhost:8080/"
        },
        "id": "GJJgq2vR9XWJ",
        "outputId": "48f48f8f-b7e5-4338-a581-2ec77621c8d4"
      },
      "execution_count": 1,
      "outputs": [
        {
          "output_type": "stream",
          "name": "stdout",
          "text": [
            "Requirement already satisfied: numpy in /usr/local/lib/python3.10/dist-packages (1.26.4)\n"
          ]
        }
      ]
    },
    {
      "cell_type": "code",
      "source": [
        "import numpy as np\n",
        "\n",
        "# Tạo hai mảng dữ liệu\n",
        "X = np.array([1, 2, 3, 4, 5])\n",
        "Y = np.array([2, 4, 6, 8, 10])"
      ],
      "metadata": {
        "id": "fuOHqBQi9d9O"
      },
      "execution_count": 2,
      "outputs": []
    },
    {
      "cell_type": "code",
      "source": [
        "# Tính toán hệ số tương quan\n",
        "correlation_coefficient = np.corrcoef(X, Y)[0, 1]\n",
        "print(\"Hệ số tương quan giữa X và Y là:\", correlation_coefficient)"
      ],
      "metadata": {
        "colab": {
          "base_uri": "https://localhost:8080/"
        },
        "id": "HZFaBgdC9fZJ",
        "outputId": "b60510fd-a85d-4d1e-ea4d-fd17e8dd8fad"
      },
      "execution_count": 3,
      "outputs": [
        {
          "output_type": "stream",
          "name": "stdout",
          "text": [
            "Hệ số tương quan giữa X và Y là: 0.9999999999999999\n"
          ]
        }
      ]
    },
    {
      "cell_type": "code",
      "source": [
        "import numpy as np\n",
        "# Tạo hai mảng dữ liệu mới\n",
        "X_new = np.array([10, 20, 30, 40, 50])\n",
        "Y_new = np.array([5, 15, 25, 35, 45])\n",
        "\n",
        "# Tính toán hệ số tương quan\n",
        "correlation_coefficient_new = np.corrcoef(X_new, Y_new)[0, 1]\n",
        "print(\"Hệ số tương quan giữa X_new và Y_new là:\", correlation_coefficient_new)"
      ],
      "metadata": {
        "colab": {
          "base_uri": "https://localhost:8080/"
        },
        "id": "Hyb-2Hru9kSs",
        "outputId": "d123290c-6f93-4b60-f826-45b7e57d16d5"
      },
      "execution_count": 6,
      "outputs": [
        {
          "output_type": "stream",
          "name": "stdout",
          "text": [
            "Hệ số tương quan giữa X_new và Y_new là: 1.0\n"
          ]
        }
      ]
    }
  ]
}