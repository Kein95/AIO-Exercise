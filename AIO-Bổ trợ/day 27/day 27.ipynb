{
  "nbformat": 4,
  "nbformat_minor": 0,
  "metadata": {
    "colab": {
      "provenance": [],
      "machine_shape": "hm",
      "gpuType": "L4"
    },
    "kernelspec": {
      "name": "python3",
      "display_name": "Python 3"
    },
    "language_info": {
      "name": "python"
    },
    "accelerator": "GPU"
  },
  "cells": [
    {
      "cell_type": "markdown",
      "source": [
        "# Ngày 27: Matrix with Numpy\n",
        "https://drive.google.com/file/d/12zSGrYa3iw6NcUBmy0c55SCDbD5jewee/view"
      ],
      "metadata": {
        "id": "wQsh_CoPG-WD"
      }
    },
    {
      "cell_type": "code",
      "source": [
        "pip install numpy"
      ],
      "metadata": {
        "colab": {
          "base_uri": "https://localhost:8080/"
        },
        "id": "AzrJm6Ma7q83",
        "outputId": "8240de93-e14b-4919-dd23-152baf441146"
      },
      "execution_count": 1,
      "outputs": [
        {
          "output_type": "stream",
          "name": "stdout",
          "text": [
            "Requirement already satisfied: numpy in /usr/local/lib/python3.10/dist-packages (1.26.4)\n"
          ]
        }
      ]
    },
    {
      "cell_type": "markdown",
      "source": [
        "Bài Tập 1: Tạo Ma Trận\n",
        "Viết mã Python để tạo một ma trận 3 × 3 với các phần tử ngẫu nhiên."
      ],
      "metadata": {
        "id": "na3ecbX58KmZ"
      }
    },
    {
      "cell_type": "code",
      "source": [
        "import numpy as np\n",
        "matrix = np.random.rand(3, 3)\n",
        "print(\"Ma trận 3x3 với các phần tử ngẫu nhiên:\\n\", matrix)"
      ],
      "metadata": {
        "colab": {
          "base_uri": "https://localhost:8080/"
        },
        "id": "ikKmoSz07s9H",
        "outputId": "5f89c9e7-737e-4dea-e685-528b74fd480e"
      },
      "execution_count": 4,
      "outputs": [
        {
          "output_type": "stream",
          "name": "stdout",
          "text": [
            "Ma trận 3x3 với các phần tử ngẫu nhiên:\n",
            " [[0.6812416  0.12435633 0.65704992]\n",
            " [0.53257843 0.29431179 0.46203688]\n",
            " [0.43767952 0.73069744 0.07602727]]\n"
          ]
        }
      ]
    },
    {
      "cell_type": "markdown",
      "source": [
        "Bài Tập 2: Phép Cộng Ma Trận\n",
        "Viết mã Python để cộng hai ma trận 3 × 3."
      ],
      "metadata": {
        "id": "lhuDg3Vr8Mls"
      }
    },
    {
      "cell_type": "code",
      "source": [
        "matrix1 = np.random.rand(3, 3)\n",
        "matrix2 = np.random.rand(3, 3)\n",
        "matrix_sum = matrix1 + matrix2\n",
        "print(\"Tổng của hai ma trận:\\n\", matrix_sum)"
      ],
      "metadata": {
        "colab": {
          "base_uri": "https://localhost:8080/"
        },
        "id": "Dcmr65V17_w6",
        "outputId": "8f650701-2ba1-497f-b16d-461f1b26a2b6"
      },
      "execution_count": 5,
      "outputs": [
        {
          "output_type": "stream",
          "name": "stdout",
          "text": [
            "Tổng của hai ma trận:\n",
            " [[0.59011994 1.30400246 0.96200573]\n",
            " [1.64735826 0.96131778 1.29088542]\n",
            " [1.07258072 1.58680096 1.64086276]]\n"
          ]
        }
      ]
    },
    {
      "cell_type": "markdown",
      "source": [
        "Bài Tập 3: Phép Nhân Ma Trận\n",
        "Viết mã Python để nhân hai ma trận 3 × 3 (Sử dụng np.dot hoặc ký hiệu @ để nhân hai ma trận)"
      ],
      "metadata": {
        "id": "ADEu_9SS8VHY"
      }
    },
    {
      "cell_type": "code",
      "source": [
        "matrix_product = np.dot(matrix1, matrix2)\n",
        "print(\"Tích của hai ma trận:\\n\", matrix_product)"
      ],
      "metadata": {
        "colab": {
          "base_uri": "https://localhost:8080/"
        },
        "id": "sfhyeYN38Vm0",
        "outputId": "40653724-99e1-42ca-de43-e1719dc9c73e"
      },
      "execution_count": 6,
      "outputs": [
        {
          "output_type": "stream",
          "name": "stdout",
          "text": [
            "Tích của hai ma trận:\n",
            " [[0.57380512 1.02351375 0.88424748]\n",
            " [0.59093463 1.10844802 0.95662698]\n",
            " [0.99858872 2.06199131 1.729249  ]]\n"
          ]
        }
      ]
    },
    {
      "cell_type": "markdown",
      "source": [
        "Bài Tập 4: Ma Trận Chuyển Vị\n",
        "Viết mã Python để tìm ma trận chuyển vị của một ma trận 3 × 3 (Dùng .T để lấy ma trận chuyển vị)"
      ],
      "metadata": {
        "id": "_7h_69bX8iWn"
      }
    },
    {
      "cell_type": "code",
      "source": [
        "matrix_transpose = matrix.T\n",
        "print(\"Ma trận chuyển vị:\\n\", matrix_transpose)"
      ],
      "metadata": {
        "colab": {
          "base_uri": "https://localhost:8080/"
        },
        "id": "mnd2GUfg8i7l",
        "outputId": "c1b59913-c933-4994-9838-67f9abea776f"
      },
      "execution_count": 7,
      "outputs": [
        {
          "output_type": "stream",
          "name": "stdout",
          "text": [
            "Ma trận chuyển vị:\n",
            " [[0.6812416  0.53257843 0.43767952]\n",
            " [0.12435633 0.29431179 0.73069744]\n",
            " [0.65704992 0.46203688 0.07602727]]\n"
          ]
        }
      ]
    },
    {
      "cell_type": "markdown",
      "source": [
        "Bài Tập 5: Ma Trận Nghịch Đảo\n",
        "Viết mã Python để tìm ma trận nghịch đảo của một ma trận 3 × 3 (nếu có) (Sử dụng np.linalg.inv, và nhớ kiểm tra nếu ma trận không khả nghịch):"
      ],
      "metadata": {
        "id": "lxncHd7T8_mx"
      }
    },
    {
      "cell_type": "code",
      "source": [
        "try:\n",
        "    matrix_inverse = np.linalg.inv(matrix)\n",
        "    print(\"Ma trận nghịch đảo:\\n\", matrix_inverse)\n",
        "except np.linalg.LinAlgError:\n",
        "    print(\"Ma trận không khả nghịch\")"
      ],
      "metadata": {
        "colab": {
          "base_uri": "https://localhost:8080/"
        },
        "id": "xqMbTtaB84-5",
        "outputId": "e5bc916a-345c-4a14-f1d7-b6072cc3b275"
      },
      "execution_count": 8,
      "outputs": [
        {
          "output_type": "stream",
          "name": "stdout",
          "text": [
            "Ma trận nghịch đảo:\n",
            " [[ 13.36781576 -19.95843284   5.76384878]\n",
            " [ -6.8584885    9.99869131  -1.4915014 ]\n",
            " [-11.03997644  18.8008759   -5.69377725]]\n"
          ]
        }
      ]
    },
    {
      "cell_type": "markdown",
      "source": [
        "Bài Tập 6: Tính Định Thức Ma Trận\n",
        "Viết mã Python để tính định thức của một ma trận 3 × 3 (Dùng np.linalg.det để tính định thức):"
      ],
      "metadata": {
        "id": "KppZe2zT9KSp"
      }
    },
    {
      "cell_type": "code",
      "source": [
        "det = np.linalg.det(matrix)\n",
        "print(\"Định thức của ma trận:\\n\", det)"
      ],
      "metadata": {
        "colab": {
          "base_uri": "https://localhost:8080/"
        },
        "id": "YC5MQD-p9I6c",
        "outputId": "736822d0-4f6b-4746-ab08-8d4abd0fe50d"
      },
      "execution_count": 9,
      "outputs": [
        {
          "output_type": "stream",
          "name": "stdout",
          "text": [
            "Định thức của ma trận:\n",
            " -0.023581521997367693\n"
          ]
        }
      ]
    }
  ]
}