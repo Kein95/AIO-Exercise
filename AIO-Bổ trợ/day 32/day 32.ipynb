{
  "nbformat": 4,
  "nbformat_minor": 0,
  "metadata": {
    "colab": {
      "provenance": [],
      "machine_shape": "hm",
      "gpuType": "L4"
    },
    "kernelspec": {
      "name": "python3",
      "display_name": "Python 3"
    },
    "language_info": {
      "name": "python"
    },
    "accelerator": "GPU"
  },
  "cells": [
    {
      "cell_type": "markdown",
      "source": [
        "# Day 32: Basic Python - Bayes Theory\n",
        "https://drive.google.com/file/d/1rxg44UO1Qp4s9novMxF4XA3_a-V0YuiG/view"
      ],
      "metadata": {
        "id": "KW7mAtMqT6Wr"
      }
    },
    {
      "cell_type": "code",
      "source": [
        "import numpy as np"
      ],
      "metadata": {
        "id": "c8ZZBqmjS4zz"
      },
      "execution_count": 1,
      "outputs": []
    },
    {
      "cell_type": "code",
      "source": [
        "# Số lượng sản phẩm A và B\n",
        "n_A = 60\n",
        "n_B = 40\n",
        "\n",
        "# Tổng số sản phẩm\n",
        "total_products = n_A + n_B"
      ],
      "metadata": {
        "id": "ZphGEqR1-EoG"
      },
      "execution_count": 4,
      "outputs": []
    },
    {
      "cell_type": "code",
      "source": [
        "# Tính xác suất tiên nghiệm của mỗi lớp\n",
        "P_A = n_A / total_products\n",
        "P_B = n_B / total_products\n",
        "\n",
        "# In kết quả\n",
        "print(f\"Xác suất tiên nghiệm của Sản phẩm A (P(A)) là: {P_A:.2f}\")\n",
        "print(f\"Xác suất tiên nghiệm của Sản phẩm B (P(B)) là: {P_B:.2f}\")"
      ],
      "metadata": {
        "colab": {
          "base_uri": "https://localhost:8080/"
        },
        "id": "K4dvShEC-j0v",
        "outputId": "deea9599-ceaa-48bd-c5c3-b9951db50e62"
      },
      "execution_count": 5,
      "outputs": [
        {
          "output_type": "stream",
          "name": "stdout",
          "text": [
            "Xác suất tiên nghiệm của Sản phẩm A (P(A)) là: 0.60\n",
            "Xác suất tiên nghiệm của Sản phẩm B (P(B)) là: 0.40\n"
          ]
        }
      ]
    },
    {
      "cell_type": "code",
      "source": [
        "# Số lượng sản phẩm với các đặc trưng trong lớp A\n",
        "red_small_A = 20\n",
        "red_large_A = 10\n",
        "green_small_A = 15\n",
        "green_large_A = 15\n",
        "\n",
        "# Số lượng sản phẩm với các đặc trưng trong lớp B\n",
        "red_small_B = 10\n",
        "red_large_B = 5\n",
        "green_small_B = 10\n",
        "green_large_B = 15\n",
        "\n",
        "# Tổng số sản phẩm trong từng lớp\n",
        "total_A = 60\n",
        "total_B = 40"
      ],
      "metadata": {
        "id": "f_hD64aH-mb8"
      },
      "execution_count": 6,
      "outputs": []
    },
    {
      "cell_type": "code",
      "source": [
        "# Xác suất điều kiện trong lớp A\n",
        "P_red_small_given_A = red_small_A / total_A\n",
        "P_red_large_given_A = red_large_A / total_A\n",
        "P_green_small_given_A = green_small_A / total_A\n",
        "P_green_large_given_A = green_large_A / total_A\n",
        "\n",
        "# Xác suất điều kiện trong lớp B\n",
        "P_red_small_given_B = red_small_B / total_B\n",
        "P_red_large_given_B = red_large_B / total_B\n",
        "P_green_small_given_B = green_small_B / total_B\n",
        "P_green_large_given_B = green_large_B / total_B\n",
        "\n",
        "# Kết quả\n",
        "print(f\"P(Đỏ và Nhỏ | A) = {P_red_small_given_A:.3f}\")\n",
        "print(f\"P(Đỏ và Lớn | A) = {P_red_large_given_A:.3f}\")\n",
        "print(f\"P(Xanh và Nhỏ | A) = {P_green_small_given_A:.3f}\")\n",
        "print(f\"P(Xanh và Lớn | A) = {P_green_large_given_A:.3f}\")\n",
        "\n",
        "print(f\"P(Đỏ và Nhỏ | B) = {P_red_small_given_B:.3f}\")\n",
        "print(f\"P(Đỏ và Lớn | B) = {P_red_large_given_B:.3f}\")\n",
        "print(f\"P(Xanh và Nhỏ | B) = {P_green_small_given_B:.3f}\")\n",
        "print(f\"P(Xanh và Lớn | B) = {P_green_large_given_B:.3f}\")"
      ],
      "metadata": {
        "colab": {
          "base_uri": "https://localhost:8080/"
        },
        "id": "wzIeEGK5_Alz",
        "outputId": "32acd0d4-bfdc-4393-8f90-0ada60c3d6ca"
      },
      "execution_count": 7,
      "outputs": [
        {
          "output_type": "stream",
          "name": "stdout",
          "text": [
            "P(Đỏ và Nhỏ | A) = 0.333\n",
            "P(Đỏ và Lớn | A) = 0.167\n",
            "P(Xanh và Nhỏ | A) = 0.250\n",
            "P(Xanh và Lớn | A) = 0.250\n",
            "P(Đỏ và Nhỏ | B) = 0.250\n",
            "P(Đỏ và Lớn | B) = 0.125\n",
            "P(Xanh và Nhỏ | B) = 0.250\n",
            "P(Xanh và Lớn | B) = 0.375\n"
          ]
        }
      ]
    },
    {
      "cell_type": "code",
      "source": [
        "# Đã tính từ bước trước\n",
        "P_A = 0.6\n",
        "P_B = 0.4\n",
        "\n",
        "P_red_small_given_A = 0.333\n",
        "P_red_small_given_B = 0.250\n",
        "\n",
        "# Tính xác suất sau cùng cho lớp A và B\n",
        "P_A_given_red_small = P_red_small_given_A * P_A\n",
        "P_B_given_red_small = P_red_small_given_B * P_B\n",
        "\n",
        "# Kết quả\n",
        "print(f\"P(A | Đỏ và Nhỏ) = {P_A_given_red_small:.4f}\")\n",
        "print(f\"P(B | Đỏ và Nhỏ) = {P_B_given_red_small:.4f}\")"
      ],
      "metadata": {
        "colab": {
          "base_uri": "https://localhost:8080/"
        },
        "id": "r1NS6T5F_Pgl",
        "outputId": "2a92e0d2-cd70-4daa-fcb3-aadb719501d1"
      },
      "execution_count": 8,
      "outputs": [
        {
          "output_type": "stream",
          "name": "stdout",
          "text": [
            "P(A | Đỏ và Nhỏ) = 0.1998\n",
            "P(B | Đỏ và Nhỏ) = 0.1000\n"
          ]
        }
      ]
    }
  ]
}