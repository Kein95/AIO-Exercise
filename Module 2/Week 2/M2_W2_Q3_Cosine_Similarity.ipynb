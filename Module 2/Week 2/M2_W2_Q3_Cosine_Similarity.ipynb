{
  "nbformat": 4,
  "nbformat_minor": 0,
  "metadata": {
    "colab": {
      "provenance": []
    },
    "kernelspec": {
      "name": "python3",
      "display_name": "Python 3"
    },
    "language_info": {
      "name": "python"
    }
  },
  "cells": [
    {
      "cell_type": "code",
      "execution_count": 1,
      "metadata": {
        "id": "jZtrNxmtTN9V"
      },
      "outputs": [],
      "source": [
        "import numpy as np\n",
        "from numpy import dot\n",
        "from numpy.linalg import norm\n",
        "\n",
        "def computeDotProduct(v1, v2):\n",
        "    return dot(v1, v2)\n",
        "\n",
        "def computeVectorLength(v):\n",
        "    return norm(v)\n",
        "\n",
        "def compute_cosine(v1, v2):\n",
        "    cos_sim = computeDotProduct(v1, v2) / (computeVectorLength(v1) * computeVectorLength(v2))\n",
        "    return cos_sim"
      ]
    },
    {
      "cell_type": "code",
      "source": [
        "x = np.array([1, 2, 3, 4])\n",
        "y = np.array([1, 0, 3, 0])\n",
        "result = compute_cosine(x,y)\n",
        "print(round(result, 3))"
      ],
      "metadata": {
        "colab": {
          "base_uri": "https://localhost:8080/"
        },
        "id": "PUfWMFekTtYz",
        "outputId": "adb884e2-658b-4ea7-d85b-860a9c496f5b"
      },
      "execution_count": 2,
      "outputs": [
        {
          "output_type": "stream",
          "name": "stdout",
          "text": [
            "0.577\n"
          ]
        }
      ]
    }
  ]
}