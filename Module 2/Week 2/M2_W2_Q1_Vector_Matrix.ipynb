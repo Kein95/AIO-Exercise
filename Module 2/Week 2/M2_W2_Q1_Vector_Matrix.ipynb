{
  "nbformat": 4,
  "nbformat_minor": 0,
  "metadata": {
    "colab": {
      "provenance": []
    },
    "kernelspec": {
      "name": "python3",
      "display_name": "Python 3"
    },
    "language_info": {
      "name": "python"
    }
  },
  "cells": [
    {
      "cell_type": "code",
      "source": [
        "#(a) Độ dài của vector:"
      ],
      "metadata": {
        "id": "cfHSh7B8OMJx"
      },
      "execution_count": null,
      "outputs": []
    },
    {
      "cell_type": "code",
      "execution_count": 1,
      "metadata": {
        "id": "Me-734VxNyAx"
      },
      "outputs": [],
      "source": [
        "import numpy as np\n",
        "def computeVectorLength(vector):\n",
        "  len_of_vector = np.linalg.norm(vector)\n",
        "\n",
        "  return len_of_vector"
      ]
    },
    {
      "cell_type": "code",
      "source": [
        "vector = np.array([-2, 4, 9, 21])\n",
        "result = computeVectorLength([vector])\n",
        "print(round(result,2))"
      ],
      "metadata": {
        "colab": {
          "base_uri": "https://localhost:8080/"
        },
        "id": "tomGmqlFWJMf",
        "outputId": "b8789206-cc96-4441-8467-b58268219e03"
      },
      "execution_count": 8,
      "outputs": [
        {
          "output_type": "stream",
          "name": "stdout",
          "text": [
            "23.28\n"
          ]
        }
      ]
    },
    {
      "cell_type": "code",
      "source": [
        "#(b) Phép tích vô hướng:"
      ],
      "metadata": {
        "id": "hvXYXfkwO2gq"
      },
      "execution_count": null,
      "outputs": []
    },
    {
      "cell_type": "code",
      "source": [
        "import numpy as np\n",
        "def computeDotProduct(vector1, vector2):\n",
        "  result = np.dot(vector1, vector2)\n",
        "\n",
        "  return result"
      ],
      "metadata": {
        "id": "dGaAY_K7PBYM"
      },
      "execution_count": 3,
      "outputs": []
    },
    {
      "cell_type": "code",
      "source": [
        "v1 = np.array([0, 1, -1, 2])\n",
        "v2 = np.array([2, 5, 1, 0])\n",
        "result = computeDotProduct(v1, v2)\n",
        "\n",
        "print(round(result,2))"
      ],
      "metadata": {
        "colab": {
          "base_uri": "https://localhost:8080/"
        },
        "id": "po-BFjOiXWM2",
        "outputId": "4fe21e6b-7a0f-42c3-838f-e5da9e26b598"
      },
      "execution_count": 13,
      "outputs": [
        {
          "output_type": "stream",
          "name": "stdout",
          "text": [
            "4\n"
          ]
        }
      ]
    },
    {
      "cell_type": "code",
      "source": [
        "x = np.array([[1, 2],\n",
        "              [3, 4]])\n",
        "k = np.array([1, 2])\n",
        "print('result  \\n', computeDotProduct(x, k))\n",
        "print('result 1 \\n', x.dot(k))"
      ],
      "metadata": {
        "colab": {
          "base_uri": "https://localhost:8080/"
        },
        "id": "bpjXrQ5PXgUC",
        "outputId": "c7623bbc-bc4b-42c0-beb5-91ed3f6750e8"
      },
      "execution_count": 15,
      "outputs": [
        {
          "output_type": "stream",
          "name": "stdout",
          "text": [
            "result  \n",
            " [ 5 11]\n",
            "result 1 \n",
            " [ 5 11]\n"
          ]
        }
      ]
    },
    {
      "cell_type": "code",
      "source": [
        "x = np.array([[-1, 2],\n",
        "              [3, -4]])\n",
        "k = np.array([1, 2])\n",
        "print('result \\n', x@k)"
      ],
      "metadata": {
        "colab": {
          "base_uri": "https://localhost:8080/"
        },
        "id": "5GeY0XkbXbDD",
        "outputId": "ea2b0a44-2460-491c-92fa-ead2a1df8b3c"
      },
      "execution_count": 14,
      "outputs": [
        {
          "output_type": "stream",
          "name": "stdout",
          "text": [
            "result \n",
            " [ 3 -5]\n"
          ]
        }
      ]
    },
    {
      "cell_type": "code",
      "source": [
        "#(c) Nhân vector với ma trận:"
      ],
      "metadata": {
        "id": "fZZWoD3APVZ1"
      },
      "execution_count": null,
      "outputs": []
    },
    {
      "cell_type": "code",
      "source": [
        "import numpy as np\n",
        "\n",
        "def matrix_multi_vector(matrix, vector):\n",
        "    result = np.dot(matrix, vector)\n",
        "    return result"
      ],
      "metadata": {
        "id": "fRM_O4_XPY56"
      },
      "execution_count": 4,
      "outputs": []
    },
    {
      "cell_type": "code",
      "source": [
        "m = np.array([[-1, 1, 1], [0, -4, 9]])\n",
        "v = np.array([0, 2, 1])\n",
        "result = matrix_multi_vector(m, v)\n",
        "print(result)"
      ],
      "metadata": {
        "colab": {
          "base_uri": "https://localhost:8080/"
        },
        "id": "Hgk65iDvWShp",
        "outputId": "a7bd22d5-ef95-4509-f420-f6ca3f725088"
      },
      "execution_count": 16,
      "outputs": [
        {
          "output_type": "stream",
          "name": "stdout",
          "text": [
            "[3 1]\n"
          ]
        }
      ]
    },
    {
      "cell_type": "code",
      "source": [
        "#(d) Nhân ma trận với ma trận:"
      ],
      "metadata": {
        "id": "sGlKhQaIP6hF"
      },
      "execution_count": null,
      "outputs": []
    },
    {
      "cell_type": "code",
      "source": [
        "import numpy as np\n",
        "\n",
        "def matrix_multi_matrix(matrix1, matrix2):\n",
        "    result = np.dot(matrix1, matrix2)\n",
        "    return result"
      ],
      "metadata": {
        "id": "LFX-seYKP6n2"
      },
      "execution_count": 5,
      "outputs": []
    },
    {
      "cell_type": "code",
      "source": [
        "m1 = np.array([[0, 1, 2], [2, -3, 1]])\n",
        "m2 = np.array([[1, -3],[6, 1], [0, -1]])\n",
        "result = matrix_multi_matrix(m1, m2)\n",
        "print(result)"
      ],
      "metadata": {
        "colab": {
          "base_uri": "https://localhost:8080/"
        },
        "id": "Bpzo32ECWuIB",
        "outputId": "eaa9965e-9143-48c8-c384-06af45d2e9d7"
      },
      "execution_count": 17,
      "outputs": [
        {
          "output_type": "stream",
          "name": "stdout",
          "text": [
            "[[  6  -1]\n",
            " [-16 -10]]\n"
          ]
        }
      ]
    },
    {
      "cell_type": "code",
      "source": [
        "m1 = np.eye(3)\n",
        "m2 = np.array([[1, 1, 1],[2, 2, 2], [3, 3, 3]])\n",
        "result = m1@m2\n",
        "print(result)"
      ],
      "metadata": {
        "colab": {
          "base_uri": "https://localhost:8080/"
        },
        "id": "qEmKJpOMXykR",
        "outputId": "c3037ed7-9d6e-4f00-92f3-8d702e96526e"
      },
      "execution_count": 18,
      "outputs": [
        {
          "output_type": "stream",
          "name": "stdout",
          "text": [
            "[[1. 1. 1.]\n",
            " [2. 2. 2.]\n",
            " [3. 3. 3.]]\n"
          ]
        }
      ]
    },
    {
      "cell_type": "code",
      "source": [
        "m1 = np.eye(2)\n",
        "m1 = np.reshape(m1,(-1,4))[0]\n",
        "m2 = np.array([[1, 1, 1, 1],[2, 2, 2, 2], [3, 3, 3, 3], [4, 4, 4, 4]])\n",
        "result = m1@m2\n",
        "print(result)"
      ],
      "metadata": {
        "colab": {
          "base_uri": "https://localhost:8080/"
        },
        "id": "8UVYkxKOX6Pn",
        "outputId": "3759ccd5-7b98-4921-dc3d-c45ba48f073e"
      },
      "execution_count": 19,
      "outputs": [
        {
          "output_type": "stream",
          "name": "stdout",
          "text": [
            "[5. 5. 5. 5.]\n"
          ]
        }
      ]
    },
    {
      "cell_type": "code",
      "source": [
        "m1 = np.array([[1, 2], [3, 4]])\n",
        "m1 = np.reshape(m1,(-1,4), \"F\")[0]\n",
        "m2 = np.array([[1, 1, 1, 1],[2, 2, 2, 2], [3, 3, 3, 3], [4, 4, 4, 4]])\n",
        "result = m1@m2\n",
        "print(result)"
      ],
      "metadata": {
        "colab": {
          "base_uri": "https://localhost:8080/"
        },
        "id": "pXfup21sX_tH",
        "outputId": "6ac65100-f443-4aff-dabe-166dd0addd40"
      },
      "execution_count": 20,
      "outputs": [
        {
          "output_type": "stream",
          "name": "stdout",
          "text": [
            "[29 29 29 29]\n"
          ]
        }
      ]
    },
    {
      "cell_type": "code",
      "source": [
        "#(e) Ma trận nghịch đảo:"
      ],
      "metadata": {
        "id": "ssF_BKYNQEpa"
      },
      "execution_count": null,
      "outputs": []
    },
    {
      "cell_type": "code",
      "source": [
        "import numpy as np\n",
        "\n",
        "def inverse_matrix(matrix):\n",
        "    result = np.linalg.inv(matrix)\n",
        "    return result"
      ],
      "metadata": {
        "id": "0TMl9QibQHLQ"
      },
      "execution_count": 6,
      "outputs": []
    },
    {
      "cell_type": "code",
      "source": [
        "matrix = np.array([[-2, 6], [8, -4]])\n",
        "result = inverse_matrix(matrix)\n",
        "print(result)"
      ],
      "metadata": {
        "colab": {
          "base_uri": "https://localhost:8080/"
        },
        "id": "5CNBcdrlQz4j",
        "outputId": "b258eb7b-18ff-4399-ffeb-2ace8f48e24b"
      },
      "execution_count": 7,
      "outputs": [
        {
          "output_type": "stream",
          "name": "stdout",
          "text": [
            "[[0.1  0.15]\n",
            " [0.2  0.05]]\n"
          ]
        }
      ]
    }
  ]
}