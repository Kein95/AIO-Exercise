{
  "nbformat": 4,
  "nbformat_minor": 0,
  "metadata": {
    "colab": {
      "provenance": []
    },
    "kernelspec": {
      "name": "python3",
      "display_name": "Python 3"
    },
    "language_info": {
      "name": "python"
    }
  },
  "cells": [
    {
      "cell_type": "code",
      "execution_count": 1,
      "metadata": {
        "id": "AMvZtcTeRWHt"
      },
      "outputs": [],
      "source": [
        "import numpy as np\n",
        "\n",
        "def compute_eigenvalues_eigenvectors(matrix):\n",
        "    eigenvalues, eigenvectors = np.linalg.eig(matrix)\n",
        "    return eigenvalues, eigenvectors"
      ]
    },
    {
      "cell_type": "code",
      "source": [
        "matrix = np.array([[0.9, 0.2], [0.1, 0.8]])\n",
        "eigenvalues, eigenvectors = compute_eigenvalues_eigenvectors(matrix)\n",
        "print(eigenvectors)"
      ],
      "metadata": {
        "colab": {
          "base_uri": "https://localhost:8080/"
        },
        "id": "vkx1LjN7SRSO",
        "outputId": "b3585bc6-a800-4c10-c1de-5e5d4dee8282"
      },
      "execution_count": 3,
      "outputs": [
        {
          "output_type": "stream",
          "name": "stdout",
          "text": [
            "[[ 0.89442719 -0.70710678]\n",
            " [ 0.4472136   0.70710678]]\n"
          ]
        }
      ]
    }
  ]
}