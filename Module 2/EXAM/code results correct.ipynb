{
  "nbformat": 4,
  "nbformat_minor": 0,
  "metadata": {
    "colab": {
      "provenance": [],
      "machine_shape": "hm",
      "gpuType": "L4"
    },
    "kernelspec": {
      "name": "python3",
      "display_name": "Python 3"
    },
    "language_info": {
      "name": "python"
    },
    "accelerator": "GPU"
  },
  "cells": [
    {
      "cell_type": "code",
      "source": [
        "#46\n",
        "class Solution:\n",
        "    def calculate_mean(self, X):\n",
        "        X = np.array(X)\n",
        "        mean_value = np.mean(X)\n",
        "        return float(mean_value)"
      ],
      "metadata": {
        "id": "Ue14yfYa8L1O"
      },
      "execution_count": 1,
      "outputs": []
    },
    {
      "cell_type": "code",
      "source": [
        "#47\n",
        "class Solution:\n",
        "    def calculate_median(self, X):\n",
        "        X = np.array(X)\n",
        "        median_value = np.median(X)\n",
        "        return float(median_value)"
      ],
      "metadata": {
        "id": "-nWnSYuk8QXn"
      },
      "execution_count": 2,
      "outputs": []
    },
    {
      "cell_type": "code",
      "source": [
        "#48\n",
        "class Solution:\n",
        "    def calculate_variance_std(self, data):\n",
        "        data = np.array(data)\n",
        "        variance = np.var(data, ddof=0)\n",
        "        std_dev = np.std(data, ddof=0)\n",
        "        return (round(float(variance), 2), round(float(std_dev), 2))"
      ],
      "metadata": {
        "id": "3w1YW-kQ8VXW"
      },
      "execution_count": 3,
      "outputs": []
    },
    {
      "cell_type": "code",
      "source": [
        "#49\n",
        "class Solution:\n",
        "    def calculate_correlation_coefficient(self, X, Y):\n",
        "        X = np.array(X)\n",
        "        Y = np.array(Y)\n",
        "        correlation_coefficient = np.corrcoef(X, Y)[0, 1]\n",
        "        return float(round(correlation_coefficient, 2))"
      ],
      "metadata": {
        "id": "qjyAbaPw8a2w"
      },
      "execution_count": 4,
      "outputs": []
    },
    {
      "cell_type": "code",
      "source": [
        "#50\n",
        "class Solution:\n",
        "    def calculate_dot_product(self, v, u):\n",
        "        v = np.array(v)\n",
        "        u = np.array(u)\n",
        "        dot_product = np.dot(v, u)\n",
        "        return dot_product"
      ],
      "metadata": {
        "id": "57i0xrxT8e_b"
      },
      "execution_count": 5,
      "outputs": []
    },
    {
      "cell_type": "code",
      "source": [
        "#51\n",
        "class Solution:\n",
        "    def calculate_matrix_product(self, A, B):\n",
        "        A = np.array(A)\n",
        "        B = np.array(B)\n",
        "\n",
        "        if len(A[1]) != len(B):\n",
        "            return -1\n",
        "\n",
        "        C = np.dot(A, B)\n",
        "        return C"
      ],
      "metadata": {
        "id": "nH2s_tur8mO0"
      },
      "execution_count": 6,
      "outputs": []
    },
    {
      "cell_type": "code",
      "source": [
        "#52\n",
        "import math\n",
        "\n",
        "class Solution:\n",
        "    def calculate_eigenvalues_eigenvectors(self, A):\n",
        "        def get_eigenvalues(matrix):\n",
        "            a, b, c, d = matrix[0][0], matrix[0][1], matrix[1][0], matrix[1][1]\n",
        "            trace = a + d\n",
        "            determinant = a * d - b * c\n",
        "            delta = trace**2 - 4 * determinant\n",
        "\n",
        "            if delta < 0:\n",
        "                raise ValueError(\"Eigenvalues are complex.\")\n",
        "\n",
        "            sqrt_delta = math.sqrt(delta)\n",
        "            eigenvalue1 = (trace + sqrt_delta) / 2\n",
        "            eigenvalue2 = (trace - sqrt_delta) / 2\n",
        "\n",
        "            return eigenvalue1, eigenvalue2\n",
        "\n",
        "        def get_eigenvectors(matrix, eigenvalue):\n",
        "            a, b, c, d = matrix[0][0], matrix[0][1], matrix[1][0], matrix[1][1]\n",
        "            if eigenvalue == a:\n",
        "                x = -b\n",
        "                y = a - eigenvalue\n",
        "            else:\n",
        "                x = -c\n",
        "                y = d - eigenvalue\n",
        "\n",
        "            norm = math.sqrt(x**2 + y**2)\n",
        "            return [x / norm, y / norm]\n",
        "\n",
        "        eigenvalues = get_eigenvalues(A)\n",
        "        eigenvectors = [get_eigenvectors(A, eigenvalue) for eigenvalue in eigenvalues]\n",
        "\n",
        "        return {eigenvalues[0]: eigenvectors[0], eigenvalues[1]: eigenvectors[1]}"
      ],
      "metadata": {
        "id": "gx28JkPo8oiy"
      },
      "execution_count": 7,
      "outputs": []
    },
    {
      "cell_type": "code",
      "source": [
        "#53\n",
        "import math\n",
        "\n",
        "class Solution:\n",
        "    def calculate_cosine_similarity(self, x, y):\n",
        "        if len(x) != len(y):\n",
        "            return -1\n",
        "        # Calculate dot product\n",
        "        dot_product = sum(x_i * y_i for x_i, y_i in zip(x, y))\n",
        "\n",
        "        # Calculate magnitudes\n",
        "        magnitude_x = math.sqrt(sum(x_i ** 2 for x_i in x))\n",
        "        magnitude_y = math.sqrt(sum(y_i ** 2 for y_i in y))\n",
        "\n",
        "        # Avoiding division by 0\n",
        "        if magnitude_x == 0 or magnitude_y == 0:\n",
        "            return 0\n",
        "\n",
        "        # Calculate cosine similarity\n",
        "        cosine_similarity = dot_product / (magnitude_x * magnitude_y)\n",
        "\n",
        "        return cosine_similarity"
      ],
      "metadata": {
        "id": "zYME2GO28uEe"
      },
      "execution_count": 8,
      "outputs": []
    }
  ]
}