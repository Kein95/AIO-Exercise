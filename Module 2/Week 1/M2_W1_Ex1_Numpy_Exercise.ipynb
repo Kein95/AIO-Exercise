{
  "nbformat": 4,
  "nbformat_minor": 0,
  "metadata": {
    "colab": {
      "provenance": []
    },
    "kernelspec": {
      "name": "python3",
      "display_name": "Python 3"
    },
    "language_info": {
      "name": "python"
    }
  },
  "cells": [
    {
      "cell_type": "code",
      "source": [
        "import numpy as np\n",
        "arr = np.arange(0, 10, 1)\n",
        "arr"
      ],
      "metadata": {
        "colab": {
          "base_uri": "https://localhost:8080/"
        },
        "id": "Vm3HHovTsOts",
        "outputId": "617cc86c-6c2c-49b3-82b3-115ece29ce7e"
      },
      "execution_count": null,
      "outputs": [
        {
          "output_type": "execute_result",
          "data": {
            "text/plain": [
              "array([0, 1, 2, 3, 4, 5, 6, 7, 8, 9])"
            ]
          },
          "metadata": {},
          "execution_count": 16
        }
      ]
    },
    {
      "cell_type": "code",
      "source": [
        "import numpy as np\n",
        "arr = np . ones ((3 ,3) ) > 0\n",
        "arr"
      ],
      "metadata": {
        "colab": {
          "base_uri": "https://localhost:8080/"
        },
        "id": "MqB3Vgqr3NKv",
        "outputId": "0dd3cdc3-b3ec-4b93-9678-ea0bc84f8f69"
      },
      "execution_count": 22,
      "outputs": [
        {
          "output_type": "execute_result",
          "data": {
            "text/plain": [
              "array([[ True,  True,  True],\n",
              "       [ True,  True,  True],\n",
              "       [ True,  True,  True]])"
            ]
          },
          "metadata": {},
          "execution_count": 22
        }
      ]
    },
    {
      "cell_type": "code",
      "source": [
        "import numpy as np\n",
        "arr = np . ones ((3 ,3) , dtype = bool )\n",
        "arr"
      ],
      "metadata": {
        "colab": {
          "base_uri": "https://localhost:8080/"
        },
        "id": "Z-qHIi7z3imC",
        "outputId": "7557413c-1d69-4cb2-c7f5-83a6ac58251a"
      },
      "execution_count": 25,
      "outputs": [
        {
          "output_type": "execute_result",
          "data": {
            "text/plain": [
              "array([[ True,  True,  True],\n",
              "       [ True,  True,  True],\n",
              "       [ True,  True,  True]])"
            ]
          },
          "metadata": {},
          "execution_count": 25
        }
      ]
    },
    {
      "cell_type": "code",
      "source": [
        "import numpy as np\n",
        "arr = np . full ((3 ,3) , fill_value = True , dtype = bool )\n",
        "arr"
      ],
      "metadata": {
        "colab": {
          "base_uri": "https://localhost:8080/"
        },
        "id": "NSIZsBhU3NVl",
        "outputId": "7117646b-3e40-4e49-bf24-7f29411a18a7"
      },
      "execution_count": 24,
      "outputs": [
        {
          "output_type": "execute_result",
          "data": {
            "text/plain": [
              "array([[ True,  True,  True],\n",
              "       [ True,  True,  True],\n",
              "       [ True,  True,  True]])"
            ]
          },
          "metadata": {},
          "execution_count": 24
        }
      ]
    },
    {
      "cell_type": "code",
      "source": [
        "import numpy as np\n",
        "arr = np . arange (0 ,10)\n",
        "print ( arr [ arr %2 == 1])"
      ],
      "metadata": {
        "colab": {
          "base_uri": "https://localhost:8080/"
        },
        "id": "L6lbXvtSlLfZ",
        "outputId": "e051f794-b279-420c-f041-2017d3da00ee"
      },
      "execution_count": null,
      "outputs": [
        {
          "output_type": "stream",
          "name": "stdout",
          "text": [
            "[1 3 5 7 9]\n"
          ]
        }
      ]
    },
    {
      "cell_type": "code",
      "source": [
        "import numpy as np\n",
        "arr = np . arange (0 ,10)\n",
        "arr [ arr %2 ==1] = -1\n",
        "print ( arr )"
      ],
      "metadata": {
        "colab": {
          "base_uri": "https://localhost:8080/"
        },
        "id": "wPGgM4qjlMXa",
        "outputId": "284324a9-177a-4b09-d4a4-c313ff0b96dd"
      },
      "execution_count": null,
      "outputs": [
        {
          "output_type": "stream",
          "name": "stdout",
          "text": [
            "[ 0 -1  2 -1  4 -1  6 -1  8 -1]\n"
          ]
        }
      ]
    },
    {
      "cell_type": "code",
      "execution_count": null,
      "metadata": {
        "colab": {
          "base_uri": "https://localhost:8080/"
        },
        "id": "Fkr6zBBcjuKa",
        "outputId": "0279953a-da5c-49ef-9612-92f78d181805"
      },
      "outputs": [
        {
          "output_type": "stream",
          "name": "stdout",
          "text": [
            "[[0 1 2 3 4]\n",
            " [5 6 7 8 9]]\n"
          ]
        }
      ],
      "source": [
        "import numpy as np\n",
        "arr = np . arange (10)\n",
        "arr_2d = arr . reshape (2 , -1)\n",
        "print ( arr_2d )"
      ]
    },
    {
      "cell_type": "code",
      "source": [
        "import numpy as np\n",
        "arr1 = np . arange (10) . reshape (2 , -1)\n",
        "arr2 = np . repeat (1 ,10) . reshape (2 , -1)\n",
        "c = np . concatenate ([ arr1 , arr2 ] , axis =0)\n",
        "print (\" Result : \\n\", c )"
      ],
      "metadata": {
        "colab": {
          "base_uri": "https://localhost:8080/"
        },
        "id": "EoH2O5XrlUFI",
        "outputId": "2e2a0be7-0fe4-4857-8379-76c6d3ac9967"
      },
      "execution_count": null,
      "outputs": [
        {
          "output_type": "stream",
          "name": "stdout",
          "text": [
            " Result : \n",
            " [[0 1 2 3 4]\n",
            " [5 6 7 8 9]\n",
            " [1 1 1 1 1]\n",
            " [1 1 1 1 1]]\n"
          ]
        }
      ]
    },
    {
      "cell_type": "code",
      "source": [
        "import numpy as np\n",
        "arr1 = np . arange (10) . reshape (2 , -1)\n",
        "arr2 = np . repeat (1 ,10) . reshape (2 , -1)\n",
        "c = np . concatenate ([ arr1 , arr2 ] , axis =1)\n",
        "print (\"C = \", c )"
      ],
      "metadata": {
        "colab": {
          "base_uri": "https://localhost:8080/"
        },
        "id": "J0FHgqpDldE0",
        "outputId": "352e77c0-158a-4c93-86a9-e8c40e84bee1"
      },
      "execution_count": null,
      "outputs": [
        {
          "output_type": "stream",
          "name": "stdout",
          "text": [
            "C =  [[0 1 2 3 4 1 1 1 1 1]\n",
            " [5 6 7 8 9 1 1 1 1 1]]\n"
          ]
        }
      ]
    },
    {
      "cell_type": "code",
      "source": [
        "import numpy as np\n",
        "arr = np . array ([1 ,2 ,3])\n",
        "print ( np . repeat ( arr ,3) )\n",
        "print ( np . tile ( arr ,3) )"
      ],
      "metadata": {
        "colab": {
          "base_uri": "https://localhost:8080/"
        },
        "id": "AvKZdsm-lo9n",
        "outputId": "19ee0866-67d7-46c6-b7b7-45d73f61c1b8"
      },
      "execution_count": null,
      "outputs": [
        {
          "output_type": "stream",
          "name": "stdout",
          "text": [
            "[1 1 1 2 2 2 3 3 3]\n",
            "[1 2 3 1 2 3 1 2 3]\n"
          ]
        }
      ]
    },
    {
      "cell_type": "code",
      "source": [
        "import numpy as np\n",
        "a = np . array ([2 ,6 ,1 ,9 ,10 ,3 ,27])\n",
        "index = np . where ((a >=5) &( a <=10) )\n",
        "print (\" result \", a [ index ])"
      ],
      "metadata": {
        "colab": {
          "base_uri": "https://localhost:8080/"
        },
        "id": "1RMDdie5lv3l",
        "outputId": "69d0ef21-e3ea-4bce-fcc2-d259b3154c5c"
      },
      "execution_count": null,
      "outputs": [
        {
          "output_type": "stream",
          "name": "stdout",
          "text": [
            " result  [ 6  9 10]\n"
          ]
        }
      ]
    },
    {
      "cell_type": "code",
      "source": [
        "import numpy as np\n",
        "\n",
        "def maxx (x , y ) :\n",
        "    if x >= y:\n",
        "        return x\n",
        "    else:\n",
        "        return y\n",
        "\n",
        "a = np.array([5, 7, 9, 8, 6, 4, 5])\n",
        "b = np.array([6, 3, 4, 8, 9, 7, 1])\n",
        "\n",
        "pair_max = np . vectorize ( maxx , otypes =[ float ])\n",
        "print ( pair_max (a , b ) )"
      ],
      "metadata": {
        "colab": {
          "base_uri": "https://localhost:8080/"
        },
        "id": "02-ejRO6l-cZ",
        "outputId": "9d06079f-5f8d-40f7-8d5c-8302090e1c20"
      },
      "execution_count": null,
      "outputs": [
        {
          "output_type": "stream",
          "name": "stdout",
          "text": [
            "[6. 7. 9. 8. 9. 7. 5.]\n"
          ]
        }
      ]
    },
    {
      "cell_type": "code",
      "source": [
        "import numpy as np\n",
        "\n",
        "a = np . array ([5 ,7 ,9 ,8 ,6 ,4 ,5])\n",
        "b = np . array ([6 ,3 ,4 ,8 ,9 ,7 ,1])\n",
        "\n",
        "print (\" Result \", np . where (a <b , b , a ) )"
      ],
      "metadata": {
        "colab": {
          "base_uri": "https://localhost:8080/"
        },
        "id": "76ggpWpqmVkA",
        "outputId": "ea1fd8be-f517-47c0-a2b1-037a820020ad"
      },
      "execution_count": null,
      "outputs": [
        {
          "output_type": "stream",
          "name": "stdout",
          "text": [
            " Result  [6 7 9 8 9 7 5]\n"
          ]
        }
      ]
    }
  ]
}