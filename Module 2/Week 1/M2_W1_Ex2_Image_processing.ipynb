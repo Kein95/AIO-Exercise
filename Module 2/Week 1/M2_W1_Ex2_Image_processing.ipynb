{
  "nbformat": 4,
  "nbformat_minor": 0,
  "metadata": {
    "colab": {
      "provenance": [],
      "machine_shape": "hm",
      "gpuType": "L4"
    },
    "kernelspec": {
      "name": "python3",
      "display_name": "Python 3"
    },
    "language_info": {
      "name": "python"
    },
    "accelerator": "GPU"
  },
  "cells": [
    {
      "cell_type": "code",
      "execution_count": null,
      "metadata": {
        "colab": {
          "base_uri": "https://localhost:8080/"
        },
        "id": "mMjwiTbknmZI",
        "outputId": "d5db0bea-2603-485e-ecb3-f5743872f32b"
      },
      "outputs": [
        {
          "output_type": "stream",
          "name": "stdout",
          "text": [
            "Downloading...\n",
            "From: https://drive.google.com/uc?id=1i9dqan21DjQoG5Q_VEvm0LrVwAlXD0vB\n",
            "To: /content/dog.jpeg\n",
            "\r  0% 0.00/33.7k [00:00<?, ?B/s]\r100% 33.7k/33.7k [00:00<00:00, 60.0MB/s]\n"
          ]
        }
      ],
      "source": [
        "# Download image\n",
        "!gdown 1i9dqan21DjQoG5Q_VEvm0LrVwAlXD0vB"
      ]
    },
    {
      "cell_type": "code",
      "source": [
        "import matplotlib.image as mpimg\n",
        "import numpy as np\n",
        "img = mpimg.imread('/content/dog.jpeg')"
      ],
      "metadata": {
        "id": "TxBpcxsgokyn"
      },
      "execution_count": null,
      "outputs": []
    },
    {
      "cell_type": "code",
      "source": [
        "gray_img_01 = np.mean([img.max(axis=2), img.min(axis=2)], axis=0)\n",
        "gray_img_01[0 , 0]"
      ],
      "metadata": {
        "colab": {
          "base_uri": "https://localhost:8080/"
        },
        "id": "SkZ-5IQUqVyd",
        "outputId": "78ba52bf-e861-4c33-950e-8e39e697b4f6"
      },
      "execution_count": null,
      "outputs": [
        {
          "output_type": "execute_result",
          "data": {
            "text/plain": [
              "102.5"
            ]
          },
          "metadata": {},
          "execution_count": 12
        }
      ]
    },
    {
      "cell_type": "code",
      "source": [
        "gray_img_02 = np.mean(img, axis=2)\n",
        "print(gray_img_02[0, 0])"
      ],
      "metadata": {
        "colab": {
          "base_uri": "https://localhost:8080/"
        },
        "id": "SbKfqDmOqxCK",
        "outputId": "e92be07a-1af2-4173-cf27-09d851ff64df"
      },
      "execution_count": null,
      "outputs": [
        {
          "output_type": "stream",
          "name": "stdout",
          "text": [
            "107.66666666666667\n"
          ]
        }
      ]
    },
    {
      "cell_type": "code",
      "source": [
        "gray_img_03 = 0.21 * img[:,:,0] + 0.72 * img[:,:,1] + 0.07 * img[:,:,2]\n",
        "print(gray_img_03[0, 0])"
      ],
      "metadata": {
        "colab": {
          "base_uri": "https://localhost:8080/"
        },
        "id": "_a3P1kI4ralf",
        "outputId": "fbf30665-fe79-4441-99cd-539267065044"
      },
      "execution_count": null,
      "outputs": [
        {
          "output_type": "stream",
          "name": "stdout",
          "text": [
            "126.22999999999999\n"
          ]
        }
      ]
    }
  ]
}