{
  "nbformat": 4,
  "nbformat_minor": 0,
  "metadata": {
    "colab": {
      "provenance": [],
      "gpuType": "L4"
    },
    "kernelspec": {
      "name": "python3",
      "display_name": "Python 3"
    },
    "language_info": {
      "name": "python"
    },
    "accelerator": "GPU"
  },
  "cells": [
    {
      "cell_type": "code",
      "execution_count": 2,
      "metadata": {
        "id": "TdpmJpaggfrB"
      },
      "outputs": [],
      "source": [
        "import torch\n",
        "import numpy as np\n",
        "import torch.nn as nn\n",
        "import torch.optim as optim\n",
        "import matplotlib.pyplot as plt\n",
        "import torch.nn.functional as F\n",
        "\n",
        "from tqdm import tqdm\n",
        "from torchsummary import summary\n",
        "from torchvision import transforms, datasets\n",
        "from torch.utils.data import DataLoader, random_split\n"
      ]
    },
    {
      "cell_type": "code",
      "source": [
        "device = torch.device(\"cuda\" if torch.cuda.is_available() else \"cpu\")\n",
        "print(\"Using device:\", device)\n"
      ],
      "metadata": {
        "colab": {
          "base_uri": "https://localhost:8080/"
        },
        "id": "NiTJU39WhJuV",
        "outputId": "93c956c4-b0a3-4d65-cafb-e5c813e3224b"
      },
      "execution_count": 3,
      "outputs": [
        {
          "output_type": "stream",
          "name": "stdout",
          "text": [
            "Using device: cuda\n"
          ]
        }
      ]
    },
    {
      "cell_type": "code",
      "source": [
        "# Hyperparameters\n",
        "batch_size = 256\n",
        "img_size = 28 # original image size is 28x28\n",
        "channels = 1 # grayscale image\n",
        "latent_dim = 2\n",
        "num_epochs = 500 # training epochs\n",
        "\n",
        "transform = transforms.Compose([\n",
        "    transforms.Resize((img_size, img_size)),\n",
        "    transforms.ToTensor(),\n",
        "])\n",
        "\n",
        "dataset = datasets.MNIST(\n",
        "    root=\"./data\", # Data storage directory\n",
        "    train=True,\n",
        "    transform=transform,\n",
        "    download=True,\n",
        ")\n"
      ],
      "metadata": {
        "colab": {
          "base_uri": "https://localhost:8080/"
        },
        "id": "ezUd-rX0hQAC",
        "outputId": "782bc1c8-fe1c-4b6d-b455-6b4576be956b"
      },
      "execution_count": 4,
      "outputs": [
        {
          "output_type": "stream",
          "name": "stderr",
          "text": [
            "100%|██████████| 9.91M/9.91M [00:00<00:00, 17.9MB/s]\n",
            "100%|██████████| 28.9k/28.9k [00:00<00:00, 480kB/s]\n",
            "100%|██████████| 1.65M/1.65M [00:00<00:00, 4.41MB/s]\n",
            "100%|██████████| 4.54k/4.54k [00:00<00:00, 10.8MB/s]\n"
          ]
        }
      ]
    },
    {
      "cell_type": "code",
      "source": [
        "# Split dataset into training (80%) and validation (20%)\n",
        "train_size = int(0.8 * len(dataset))\n",
        "val_size = len(dataset) - train_size\n",
        "train_dataset, val_dataset = random_split(dataset, [train_size, val_size])\n",
        "print(f\"Training samples: {len(train_dataset)}, Validation samples: {len(val_dataset)}\")\n",
        "\n",
        "# Create DataLoaders\n",
        "train_loader = DataLoader(train_dataset, batch_size=batch_size, shuffle=True, num_workers=2)\n",
        "val_loader = DataLoader(val_dataset, batch_size=batch_size, shuffle=False, num_workers=2)\n"
      ],
      "metadata": {
        "colab": {
          "base_uri": "https://localhost:8080/"
        },
        "id": "At2-C3DOheNF",
        "outputId": "980ab2a1-5580-4b3b-cb57-dad7e92160cf"
      },
      "execution_count": 5,
      "outputs": [
        {
          "output_type": "stream",
          "name": "stdout",
          "text": [
            "Training samples: 48000, Validation samples: 12000\n"
          ]
        }
      ]
    },
    {
      "cell_type": "code",
      "source": [
        "# Define the Variational Autoencoder (VAE) in PyTorch\n",
        "class VAE(nn.Module):\n",
        "    def __init__(self, channels, latent_dim):\n",
        "        super(VAE, self).__init__()\n",
        "        # Encoder\n",
        "        self.conv1 = nn.Conv2d(channels, 16, kernel_size=3, padding=1)\n",
        "        self.conv2 = nn.Conv2d(16, 32, kernel_size=3, stride=2, padding=1)\n",
        "        self.conv3 = nn.Conv2d(32, 64, kernel_size=3, stride=2, padding=1)\n",
        "\n",
        "        self.flatten_dim = 64 * 7 * 7\n",
        "        self.fc_mu = nn.Linear(self.flatten_dim, latent_dim)\n",
        "        self.fc_logvar = nn.Linear(self.flatten_dim, latent_dim)\n",
        "\n",
        "        # Decoder\n",
        "        self.fc_decode = nn.Linear(latent_dim, self.flatten_dim)\n",
        "        self.deconv1 = nn.ConvTranspose2d(64, 32, kernel_size=3, stride=2, padding=1, output_padding=1)\n",
        "        self.deconv2 = nn.ConvTranspose2d(32, 16, kernel_size=3, stride=2, padding=1, output_padding=1)\n",
        "        self.conv_final = nn.Conv2d(16, channels, kernel_size=3, padding=1)\n",
        "\n",
        "    def encode(self, x):\n",
        "        x = F.relu(self.conv1(x))\n",
        "        x = F.relu(self.conv2(x))\n",
        "        x = F.relu(self.conv3(x))\n",
        "        x = x.view(-1, self.flatten_dim)\n",
        "        mu = self.fc_mu(x)\n",
        "        logvar = self.fc_logvar(x)\n",
        "        return mu, logvar\n",
        "\n",
        "    def reparameterize(self, mu, logvar):\n",
        "        std = torch.exp(0.5 * logvar)\n",
        "        eps = torch.randn_like(std)\n",
        "        return mu + eps * std\n",
        "\n",
        "    def decode(self, z):\n",
        "        x = F.relu(self.fc_decode(z))\n",
        "        x = x.view(-1, 64, 7, 7)\n",
        "        x = F.relu(self.deconv1(x))\n",
        "        x = F.relu(self.deconv2(x))\n",
        "        x = torch.sigmoid(self.conv_final(x))\n",
        "        return x\n",
        "\n",
        "    def forward(self, x):\n",
        "        mu, logvar = self.encode(x)\n",
        "        z = self.reparameterize(mu, logvar)\n",
        "        recon_x = self.decode(z)\n",
        "        return recon_x, mu, logvar\n"
      ],
      "metadata": {
        "id": "6nG7wbL8hw0A"
      },
      "execution_count": 6,
      "outputs": []
    },
    {
      "cell_type": "code",
      "source": [
        "def loss_function(recon_x, x, mu, log_var, B=1000):\n",
        "    # Flatten tensors for MSE calculation\n",
        "    recon_x_flat = recon_x.view(recon_x.size(0), -1)\n",
        "    x_flat = x.view(x.size(0), -1)\n",
        "\n",
        "    # Calculate MSE (per element average)\n",
        "    mse_out = F.mse_loss(recon_x_flat, x_flat, reduction='mean')\n",
        "\n",
        "    # Scale by input dimensions\n",
        "    reconstruction_loss = mse_out * x.shape[1] * x.shape[2] * x.shape[3]\n",
        "\n",
        "    # Calculate KL divergence\n",
        "    kl_loss = -0.5 * torch.sum(1 + log_var - mu.pow(2) - log_var.exp(), axis=1)\n",
        "\n",
        "    # Compute final loss (adding B*recon_loss + kl_loss)\n",
        "    total_loss = B * reconstruction_loss + torch.mean(kl_loss)\n",
        "\n",
        "    return total_loss, reconstruction_loss, torch.mean(kl_loss)\n"
      ],
      "metadata": {
        "id": "OFFbF__ChyEh"
      },
      "execution_count": 7,
      "outputs": []
    },
    {
      "cell_type": "code",
      "source": [
        "# Create model, optimizer, etc.\n",
        "model = VAE(channels, latent_dim).to(device)\n",
        "optimizer = optim.Adam(model.parameters(), lr=1e-3, weight_decay=1e-5)\n"
      ],
      "metadata": {
        "id": "hMT7QJxbiBTJ"
      },
      "execution_count": 8,
      "outputs": []
    },
    {
      "cell_type": "code",
      "source": [
        "import os\n",
        "from datetime import datetime\n",
        "\n",
        "# Create a log directory if it doesn't exist\n",
        "log_dir = \"logs\"\n",
        "os.makedirs(log_dir, exist_ok=True)\n",
        "\n",
        "# Create a log file with timestamp\n",
        "timestamp = datetime.now().strftime(\"%Y%m%d_%H%M%S\")\n",
        "log_file = os.path.join(log_dir, f\"training_log_{timestamp}.txt\")\n",
        "\n",
        "# Open the log file\n",
        "with open(log_file, \"w\") as f:\n",
        "    f.write(f\"Training started at {datetime.now().strftime('%Y-%m-%d %H:%M:%S')}\\n\")\n",
        "    f.write(f\"Model: VAE with latent_dim={latent_dim}\\n\")\n",
        "    f.write(f\"Batch size: {batch_size}, Image size: {img_size}x{img_size}\\n\")\n",
        "    f.write(f\"Total epochs: {num_epochs}\\n\\n\")\n",
        "    f.write(\"Epoch,Avg_Loss,Recon_Loss,KL_Loss\\n\")\n",
        "\n",
        "# Training loop with logging\n",
        "model.train()\n",
        "for epoch in range(num_epochs):\n",
        "    train_loss = 0.0\n",
        "    epoch_bar = tqdm(train_loader, desc=f\"Epoch {epoch+1}/{num_epochs}\", leave=False)\n",
        "    for data, _ in epoch_bar:\n",
        "        data = data.to(device)\n",
        "        optimizer.zero_grad()\n",
        "        recon_batch, mu, logvar = model(data)\n",
        "        loss, recon_loss, kl_loss = loss_function(recon_batch, data, mu, logvar)\n",
        "        loss.backward()\n",
        "        train_loss += loss.item()\n",
        "        optimizer.step()\n",
        "        epoch_bar.set_postfix(loss=loss.item())\n",
        "\n",
        "    # Calculate average loss\n",
        "    avg_loss = train_loss / len(train_loader.dataset)\n",
        "\n",
        "    # Print epoch summary\n",
        "    print(f\"Epoch {epoch+1}/{num_epochs} Loss per sample: {avg_loss:.4f} \"\n",
        "          f\"Recon Loss: {recon_loss.item():.4f} KL Loss: {kl_loss.item():.4f}\")\n",
        "\n",
        "    # Save to log file\n",
        "    with open(log_file, \"a\") as f:\n",
        "        f.write(f\"{epoch+1},{avg_loss:.6f},{recon_loss.item():.6f},{kl_loss.item():.6f}\\n\")\n",
        "\n",
        "# Log training completion\n",
        "with open(log_file, \"a\") as f:\n",
        "    f.write(f\"\\nTraining completed at {datetime.now().strftime('%Y-%m-%d %H:%M:%S')}\\n\")\n",
        "\n",
        "print(f\"Training log saved to {log_file}\")\n"
      ],
      "metadata": {
        "colab": {
          "base_uri": "https://localhost:8080/"
        },
        "id": "_-c-w6rxiNmq",
        "outputId": "02dd8ea0-667e-4ad0-b4f7-611cddbb890f"
      },
      "execution_count": 9,
      "outputs": [
        {
          "output_type": "stream",
          "name": "stderr",
          "text": []
        },
        {
          "output_type": "stream",
          "name": "stdout",
          "text": [
            "Epoch 1/500 Loss per sample: 251.0385 Recon Loss: 49.5466 KL Loss: 53.3951\n"
          ]
        },
        {
          "output_type": "stream",
          "name": "stderr",
          "text": []
        },
        {
          "output_type": "stream",
          "name": "stdout",
          "text": [
            "Epoch 2/500 Loss per sample: 177.3092 Recon Loss: 41.8810 KL Loss: 48.6906\n"
          ]
        },
        {
          "output_type": "stream",
          "name": "stderr",
          "text": []
        },
        {
          "output_type": "stream",
          "name": "stdout",
          "text": [
            "Epoch 3/500 Loss per sample: 165.0492 Recon Loss: 41.9562 KL Loss: 32.0880\n"
          ]
        },
        {
          "output_type": "stream",
          "name": "stderr",
          "text": []
        },
        {
          "output_type": "stream",
          "name": "stdout",
          "text": [
            "Epoch 4/500 Loss per sample: 157.6199 Recon Loss: 39.1014 KL Loss: 27.1779\n"
          ]
        },
        {
          "output_type": "stream",
          "name": "stderr",
          "text": []
        },
        {
          "output_type": "stream",
          "name": "stdout",
          "text": [
            "Epoch 5/500 Loss per sample: 151.5477 Recon Loss: 37.6807 KL Loss: 26.2838\n"
          ]
        },
        {
          "output_type": "stream",
          "name": "stderr",
          "text": []
        },
        {
          "output_type": "stream",
          "name": "stdout",
          "text": [
            "Epoch 6/500 Loss per sample: 147.5924 Recon Loss: 38.3279 KL Loss: 22.9610\n"
          ]
        },
        {
          "output_type": "stream",
          "name": "stderr",
          "text": []
        },
        {
          "output_type": "stream",
          "name": "stdout",
          "text": [
            "Epoch 7/500 Loss per sample: 144.6530 Recon Loss: 35.1869 KL Loss: 23.0153\n"
          ]
        },
        {
          "output_type": "stream",
          "name": "stderr",
          "text": []
        },
        {
          "output_type": "stream",
          "name": "stdout",
          "text": [
            "Epoch 8/500 Loss per sample: 142.2010 Recon Loss: 38.2590 KL Loss: 22.0056\n"
          ]
        },
        {
          "output_type": "stream",
          "name": "stderr",
          "text": []
        },
        {
          "output_type": "stream",
          "name": "stdout",
          "text": [
            "Epoch 9/500 Loss per sample: 140.0883 Recon Loss: 34.4422 KL Loss: 23.5784\n"
          ]
        },
        {
          "output_type": "stream",
          "name": "stderr",
          "text": []
        },
        {
          "output_type": "stream",
          "name": "stdout",
          "text": [
            "Epoch 10/500 Loss per sample: 138.5647 Recon Loss: 33.9156 KL Loss: 22.4974\n"
          ]
        },
        {
          "output_type": "stream",
          "name": "stderr",
          "text": []
        },
        {
          "output_type": "stream",
          "name": "stdout",
          "text": [
            "Epoch 11/500 Loss per sample: 137.3140 Recon Loss: 35.1252 KL Loss: 23.2996\n"
          ]
        },
        {
          "output_type": "stream",
          "name": "stderr",
          "text": []
        },
        {
          "output_type": "stream",
          "name": "stdout",
          "text": [
            "Epoch 12/500 Loss per sample: 136.2646 Recon Loss: 36.1227 KL Loss: 21.8856\n"
          ]
        },
        {
          "output_type": "stream",
          "name": "stderr",
          "text": []
        },
        {
          "output_type": "stream",
          "name": "stdout",
          "text": [
            "Epoch 13/500 Loss per sample: 135.3452 Recon Loss: 35.1398 KL Loss: 21.8503\n"
          ]
        },
        {
          "output_type": "stream",
          "name": "stderr",
          "text": []
        },
        {
          "output_type": "stream",
          "name": "stdout",
          "text": [
            "Epoch 14/500 Loss per sample: 134.7130 Recon Loss: 34.4650 KL Loss: 21.0020\n"
          ]
        },
        {
          "output_type": "stream",
          "name": "stderr",
          "text": []
        },
        {
          "output_type": "stream",
          "name": "stdout",
          "text": [
            "Epoch 15/500 Loss per sample: 133.8821 Recon Loss: 37.0539 KL Loss: 19.5868\n"
          ]
        },
        {
          "output_type": "stream",
          "name": "stderr",
          "text": []
        },
        {
          "output_type": "stream",
          "name": "stdout",
          "text": [
            "Epoch 16/500 Loss per sample: 133.2748 Recon Loss: 33.8143 KL Loss: 21.1782\n"
          ]
        },
        {
          "output_type": "stream",
          "name": "stderr",
          "text": []
        },
        {
          "output_type": "stream",
          "name": "stdout",
          "text": [
            "Epoch 17/500 Loss per sample: 132.5067 Recon Loss: 33.3292 KL Loss: 21.3364\n"
          ]
        },
        {
          "output_type": "stream",
          "name": "stderr",
          "text": []
        },
        {
          "output_type": "stream",
          "name": "stdout",
          "text": [
            "Epoch 18/500 Loss per sample: 132.0635 Recon Loss: 35.2915 KL Loss: 20.5950\n"
          ]
        },
        {
          "output_type": "stream",
          "name": "stderr",
          "text": []
        },
        {
          "output_type": "stream",
          "name": "stdout",
          "text": [
            "Epoch 19/500 Loss per sample: 131.3914 Recon Loss: 32.1951 KL Loss: 20.1210\n"
          ]
        },
        {
          "output_type": "stream",
          "name": "stderr",
          "text": []
        },
        {
          "output_type": "stream",
          "name": "stdout",
          "text": [
            "Epoch 20/500 Loss per sample: 130.9682 Recon Loss: 36.3118 KL Loss: 19.0665\n"
          ]
        },
        {
          "output_type": "stream",
          "name": "stderr",
          "text": []
        },
        {
          "output_type": "stream",
          "name": "stdout",
          "text": [
            "Epoch 21/500 Loss per sample: 130.4595 Recon Loss: 33.6335 KL Loss: 20.2450\n"
          ]
        },
        {
          "output_type": "stream",
          "name": "stderr",
          "text": []
        },
        {
          "output_type": "stream",
          "name": "stdout",
          "text": [
            "Epoch 22/500 Loss per sample: 130.1128 Recon Loss: 37.3502 KL Loss: 19.1140\n"
          ]
        },
        {
          "output_type": "stream",
          "name": "stderr",
          "text": []
        },
        {
          "output_type": "stream",
          "name": "stdout",
          "text": [
            "Epoch 23/500 Loss per sample: 129.5769 Recon Loss: 34.3556 KL Loss: 20.6295\n"
          ]
        },
        {
          "output_type": "stream",
          "name": "stderr",
          "text": []
        },
        {
          "output_type": "stream",
          "name": "stdout",
          "text": [
            "Epoch 24/500 Loss per sample: 129.2021 Recon Loss: 32.5977 KL Loss: 21.0408\n"
          ]
        },
        {
          "output_type": "stream",
          "name": "stderr",
          "text": []
        },
        {
          "output_type": "stream",
          "name": "stdout",
          "text": [
            "Epoch 25/500 Loss per sample: 128.6195 Recon Loss: 30.7374 KL Loss: 21.1042\n"
          ]
        },
        {
          "output_type": "stream",
          "name": "stderr",
          "text": []
        },
        {
          "output_type": "stream",
          "name": "stdout",
          "text": [
            "Epoch 26/500 Loss per sample: 128.2425 Recon Loss: 33.9590 KL Loss: 20.3169\n"
          ]
        },
        {
          "output_type": "stream",
          "name": "stderr",
          "text": []
        },
        {
          "output_type": "stream",
          "name": "stdout",
          "text": [
            "Epoch 27/500 Loss per sample: 128.0058 Recon Loss: 34.3457 KL Loss: 18.6009\n"
          ]
        },
        {
          "output_type": "stream",
          "name": "stderr",
          "text": []
        },
        {
          "output_type": "stream",
          "name": "stdout",
          "text": [
            "Epoch 28/500 Loss per sample: 127.8236 Recon Loss: 33.5439 KL Loss: 20.1258\n"
          ]
        },
        {
          "output_type": "stream",
          "name": "stderr",
          "text": []
        },
        {
          "output_type": "stream",
          "name": "stdout",
          "text": [
            "Epoch 29/500 Loss per sample: 127.3375 Recon Loss: 33.7611 KL Loss: 18.7708\n"
          ]
        },
        {
          "output_type": "stream",
          "name": "stderr",
          "text": []
        },
        {
          "output_type": "stream",
          "name": "stdout",
          "text": [
            "Epoch 30/500 Loss per sample: 126.9379 Recon Loss: 30.0305 KL Loss: 20.7937\n"
          ]
        },
        {
          "output_type": "stream",
          "name": "stderr",
          "text": []
        },
        {
          "output_type": "stream",
          "name": "stdout",
          "text": [
            "Epoch 31/500 Loss per sample: 126.7747 Recon Loss: 31.9597 KL Loss: 21.5546\n"
          ]
        },
        {
          "output_type": "stream",
          "name": "stderr",
          "text": []
        },
        {
          "output_type": "stream",
          "name": "stdout",
          "text": [
            "Epoch 32/500 Loss per sample: 126.5989 Recon Loss: 33.7937 KL Loss: 17.0296\n"
          ]
        },
        {
          "output_type": "stream",
          "name": "stderr",
          "text": []
        },
        {
          "output_type": "stream",
          "name": "stdout",
          "text": [
            "Epoch 33/500 Loss per sample: 126.2532 Recon Loss: 31.4275 KL Loss: 22.3658\n"
          ]
        },
        {
          "output_type": "stream",
          "name": "stderr",
          "text": []
        },
        {
          "output_type": "stream",
          "name": "stdout",
          "text": [
            "Epoch 34/500 Loss per sample: 125.8027 Recon Loss: 30.0894 KL Loss: 20.5223\n"
          ]
        },
        {
          "output_type": "stream",
          "name": "stderr",
          "text": []
        },
        {
          "output_type": "stream",
          "name": "stdout",
          "text": [
            "Epoch 35/500 Loss per sample: 125.5400 Recon Loss: 31.6488 KL Loss: 18.7167\n"
          ]
        },
        {
          "output_type": "stream",
          "name": "stderr",
          "text": []
        },
        {
          "output_type": "stream",
          "name": "stdout",
          "text": [
            "Epoch 36/500 Loss per sample: 125.3456 Recon Loss: 33.1253 KL Loss: 19.6941\n"
          ]
        },
        {
          "output_type": "stream",
          "name": "stderr",
          "text": []
        },
        {
          "output_type": "stream",
          "name": "stdout",
          "text": [
            "Epoch 37/500 Loss per sample: 125.0841 Recon Loss: 31.4615 KL Loss: 19.7875\n"
          ]
        },
        {
          "output_type": "stream",
          "name": "stderr",
          "text": []
        },
        {
          "output_type": "stream",
          "name": "stdout",
          "text": [
            "Epoch 38/500 Loss per sample: 124.9083 Recon Loss: 31.6492 KL Loss: 19.9718\n"
          ]
        },
        {
          "output_type": "stream",
          "name": "stderr",
          "text": []
        },
        {
          "output_type": "stream",
          "name": "stdout",
          "text": [
            "Epoch 39/500 Loss per sample: 124.6663 Recon Loss: 32.4736 KL Loss: 19.2094\n"
          ]
        },
        {
          "output_type": "stream",
          "name": "stderr",
          "text": []
        },
        {
          "output_type": "stream",
          "name": "stdout",
          "text": [
            "Epoch 40/500 Loss per sample: 124.3346 Recon Loss: 33.0020 KL Loss: 20.0871\n"
          ]
        },
        {
          "output_type": "stream",
          "name": "stderr",
          "text": []
        },
        {
          "output_type": "stream",
          "name": "stdout",
          "text": [
            "Epoch 41/500 Loss per sample: 124.3656 Recon Loss: 32.3081 KL Loss: 20.0050\n"
          ]
        },
        {
          "output_type": "stream",
          "name": "stderr",
          "text": []
        },
        {
          "output_type": "stream",
          "name": "stdout",
          "text": [
            "Epoch 42/500 Loss per sample: 124.0701 Recon Loss: 29.9232 KL Loss: 20.7715\n"
          ]
        },
        {
          "output_type": "stream",
          "name": "stderr",
          "text": []
        },
        {
          "output_type": "stream",
          "name": "stdout",
          "text": [
            "Epoch 43/500 Loss per sample: 123.6167 Recon Loss: 30.9648 KL Loss: 20.2715\n"
          ]
        },
        {
          "output_type": "stream",
          "name": "stderr",
          "text": []
        },
        {
          "output_type": "stream",
          "name": "stdout",
          "text": [
            "Epoch 44/500 Loss per sample: 123.5777 Recon Loss: 31.7769 KL Loss: 20.6325\n"
          ]
        },
        {
          "output_type": "stream",
          "name": "stderr",
          "text": []
        },
        {
          "output_type": "stream",
          "name": "stdout",
          "text": [
            "Epoch 45/500 Loss per sample: 123.6014 Recon Loss: 29.9329 KL Loss: 19.5924\n"
          ]
        },
        {
          "output_type": "stream",
          "name": "stderr",
          "text": []
        },
        {
          "output_type": "stream",
          "name": "stdout",
          "text": [
            "Epoch 46/500 Loss per sample: 123.3544 Recon Loss: 31.4539 KL Loss: 18.8809\n"
          ]
        },
        {
          "output_type": "stream",
          "name": "stderr",
          "text": []
        },
        {
          "output_type": "stream",
          "name": "stdout",
          "text": [
            "Epoch 47/500 Loss per sample: 123.0799 Recon Loss: 30.4372 KL Loss: 21.4452\n"
          ]
        },
        {
          "output_type": "stream",
          "name": "stderr",
          "text": []
        },
        {
          "output_type": "stream",
          "name": "stdout",
          "text": [
            "Epoch 48/500 Loss per sample: 122.8368 Recon Loss: 30.0538 KL Loss: 21.8379\n"
          ]
        },
        {
          "output_type": "stream",
          "name": "stderr",
          "text": []
        },
        {
          "output_type": "stream",
          "name": "stdout",
          "text": [
            "Epoch 49/500 Loss per sample: 122.6702 Recon Loss: 32.0467 KL Loss: 19.5693\n"
          ]
        },
        {
          "output_type": "stream",
          "name": "stderr",
          "text": []
        },
        {
          "output_type": "stream",
          "name": "stdout",
          "text": [
            "Epoch 50/500 Loss per sample: 122.5425 Recon Loss: 32.9227 KL Loss: 19.7574\n"
          ]
        },
        {
          "output_type": "stream",
          "name": "stderr",
          "text": []
        },
        {
          "output_type": "stream",
          "name": "stdout",
          "text": [
            "Epoch 51/500 Loss per sample: 122.3949 Recon Loss: 30.8439 KL Loss: 20.3358\n"
          ]
        },
        {
          "output_type": "stream",
          "name": "stderr",
          "text": []
        },
        {
          "output_type": "stream",
          "name": "stdout",
          "text": [
            "Epoch 52/500 Loss per sample: 122.4043 Recon Loss: 30.7180 KL Loss: 23.9095\n"
          ]
        },
        {
          "output_type": "stream",
          "name": "stderr",
          "text": []
        },
        {
          "output_type": "stream",
          "name": "stdout",
          "text": [
            "Epoch 53/500 Loss per sample: 122.2208 Recon Loss: 31.2509 KL Loss: 19.5400\n"
          ]
        },
        {
          "output_type": "stream",
          "name": "stderr",
          "text": []
        },
        {
          "output_type": "stream",
          "name": "stdout",
          "text": [
            "Epoch 54/500 Loss per sample: 121.7981 Recon Loss: 30.7128 KL Loss: 19.4476\n"
          ]
        },
        {
          "output_type": "stream",
          "name": "stderr",
          "text": []
        },
        {
          "output_type": "stream",
          "name": "stdout",
          "text": [
            "Epoch 55/500 Loss per sample: 121.8438 Recon Loss: 29.6531 KL Loss: 20.4340\n"
          ]
        },
        {
          "output_type": "stream",
          "name": "stderr",
          "text": []
        },
        {
          "output_type": "stream",
          "name": "stdout",
          "text": [
            "Epoch 56/500 Loss per sample: 121.5460 Recon Loss: 32.8939 KL Loss: 19.7100\n"
          ]
        },
        {
          "output_type": "stream",
          "name": "stderr",
          "text": []
        },
        {
          "output_type": "stream",
          "name": "stdout",
          "text": [
            "Epoch 57/500 Loss per sample: 121.3837 Recon Loss: 30.5906 KL Loss: 21.1710\n"
          ]
        },
        {
          "output_type": "stream",
          "name": "stderr",
          "text": []
        },
        {
          "output_type": "stream",
          "name": "stdout",
          "text": [
            "Epoch 58/500 Loss per sample: 121.3686 Recon Loss: 33.9249 KL Loss: 18.3065\n"
          ]
        },
        {
          "output_type": "stream",
          "name": "stderr",
          "text": []
        },
        {
          "output_type": "stream",
          "name": "stdout",
          "text": [
            "Epoch 59/500 Loss per sample: 121.3463 Recon Loss: 29.4784 KL Loss: 21.6049\n"
          ]
        },
        {
          "output_type": "stream",
          "name": "stderr",
          "text": []
        },
        {
          "output_type": "stream",
          "name": "stdout",
          "text": [
            "Epoch 60/500 Loss per sample: 121.0844 Recon Loss: 32.7126 KL Loss: 18.9588\n"
          ]
        },
        {
          "output_type": "stream",
          "name": "stderr",
          "text": []
        },
        {
          "output_type": "stream",
          "name": "stdout",
          "text": [
            "Epoch 61/500 Loss per sample: 120.8732 Recon Loss: 30.0010 KL Loss: 21.9455\n"
          ]
        },
        {
          "output_type": "stream",
          "name": "stderr",
          "text": []
        },
        {
          "output_type": "stream",
          "name": "stdout",
          "text": [
            "Epoch 62/500 Loss per sample: 120.6105 Recon Loss: 29.7092 KL Loss: 19.3362\n"
          ]
        },
        {
          "output_type": "stream",
          "name": "stderr",
          "text": []
        },
        {
          "output_type": "stream",
          "name": "stdout",
          "text": [
            "Epoch 63/500 Loss per sample: 120.6750 Recon Loss: 32.5790 KL Loss: 18.9981\n"
          ]
        },
        {
          "output_type": "stream",
          "name": "stderr",
          "text": []
        },
        {
          "output_type": "stream",
          "name": "stdout",
          "text": [
            "Epoch 64/500 Loss per sample: 120.8799 Recon Loss: 31.4338 KL Loss: 18.6612\n"
          ]
        },
        {
          "output_type": "stream",
          "name": "stderr",
          "text": []
        },
        {
          "output_type": "stream",
          "name": "stdout",
          "text": [
            "Epoch 65/500 Loss per sample: 120.4352 Recon Loss: 31.4916 KL Loss: 19.0673\n"
          ]
        },
        {
          "output_type": "stream",
          "name": "stderr",
          "text": []
        },
        {
          "output_type": "stream",
          "name": "stdout",
          "text": [
            "Epoch 66/500 Loss per sample: 120.3542 Recon Loss: 30.1414 KL Loss: 19.6220\n"
          ]
        },
        {
          "output_type": "stream",
          "name": "stderr",
          "text": []
        },
        {
          "output_type": "stream",
          "name": "stdout",
          "text": [
            "Epoch 67/500 Loss per sample: 120.2308 Recon Loss: 28.4402 KL Loss: 20.6091\n"
          ]
        },
        {
          "output_type": "stream",
          "name": "stderr",
          "text": []
        },
        {
          "output_type": "stream",
          "name": "stdout",
          "text": [
            "Epoch 68/500 Loss per sample: 120.0193 Recon Loss: 28.0846 KL Loss: 20.7816\n"
          ]
        },
        {
          "output_type": "stream",
          "name": "stderr",
          "text": []
        },
        {
          "output_type": "stream",
          "name": "stdout",
          "text": [
            "Epoch 69/500 Loss per sample: 119.9637 Recon Loss: 32.7919 KL Loss: 20.3556\n"
          ]
        },
        {
          "output_type": "stream",
          "name": "stderr",
          "text": []
        },
        {
          "output_type": "stream",
          "name": "stdout",
          "text": [
            "Epoch 70/500 Loss per sample: 119.8512 Recon Loss: 28.2032 KL Loss: 20.3651\n"
          ]
        },
        {
          "output_type": "stream",
          "name": "stderr",
          "text": []
        },
        {
          "output_type": "stream",
          "name": "stdout",
          "text": [
            "Epoch 71/500 Loss per sample: 119.8403 Recon Loss: 30.9185 KL Loss: 19.8418\n"
          ]
        },
        {
          "output_type": "stream",
          "name": "stderr",
          "text": []
        },
        {
          "output_type": "stream",
          "name": "stdout",
          "text": [
            "Epoch 72/500 Loss per sample: 119.7109 Recon Loss: 30.8787 KL Loss: 19.7160\n"
          ]
        },
        {
          "output_type": "stream",
          "name": "stderr",
          "text": []
        },
        {
          "output_type": "stream",
          "name": "stdout",
          "text": [
            "Epoch 73/500 Loss per sample: 119.6213 Recon Loss: 31.1688 KL Loss: 19.6294\n"
          ]
        },
        {
          "output_type": "stream",
          "name": "stderr",
          "text": []
        },
        {
          "output_type": "stream",
          "name": "stdout",
          "text": [
            "Epoch 74/500 Loss per sample: 119.4280 Recon Loss: 31.5794 KL Loss: 19.4132\n"
          ]
        },
        {
          "output_type": "stream",
          "name": "stderr",
          "text": []
        },
        {
          "output_type": "stream",
          "name": "stdout",
          "text": [
            "Epoch 75/500 Loss per sample: 119.4028 Recon Loss: 31.0277 KL Loss: 20.7417\n"
          ]
        },
        {
          "output_type": "stream",
          "name": "stderr",
          "text": []
        },
        {
          "output_type": "stream",
          "name": "stdout",
          "text": [
            "Epoch 76/500 Loss per sample: 119.4159 Recon Loss: 31.3306 KL Loss: 18.9490\n"
          ]
        },
        {
          "output_type": "stream",
          "name": "stderr",
          "text": []
        },
        {
          "output_type": "stream",
          "name": "stdout",
          "text": [
            "Epoch 77/500 Loss per sample: 119.3986 Recon Loss: 31.6537 KL Loss: 19.5261\n"
          ]
        },
        {
          "output_type": "stream",
          "name": "stderr",
          "text": []
        },
        {
          "output_type": "stream",
          "name": "stdout",
          "text": [
            "Epoch 78/500 Loss per sample: 119.1265 Recon Loss: 30.5314 KL Loss: 17.6394\n"
          ]
        },
        {
          "output_type": "stream",
          "name": "stderr",
          "text": []
        },
        {
          "output_type": "stream",
          "name": "stdout",
          "text": [
            "Epoch 79/500 Loss per sample: 119.1109 Recon Loss: 31.9944 KL Loss: 19.1152\n"
          ]
        },
        {
          "output_type": "stream",
          "name": "stderr",
          "text": []
        },
        {
          "output_type": "stream",
          "name": "stdout",
          "text": [
            "Epoch 80/500 Loss per sample: 119.0086 Recon Loss: 28.8604 KL Loss: 20.6340\n"
          ]
        },
        {
          "output_type": "stream",
          "name": "stderr",
          "text": []
        },
        {
          "output_type": "stream",
          "name": "stdout",
          "text": [
            "Epoch 81/500 Loss per sample: 118.8151 Recon Loss: 29.5364 KL Loss: 21.5050\n"
          ]
        },
        {
          "output_type": "stream",
          "name": "stderr",
          "text": []
        },
        {
          "output_type": "stream",
          "name": "stdout",
          "text": [
            "Epoch 82/500 Loss per sample: 118.6479 Recon Loss: 31.0131 KL Loss: 20.0599\n"
          ]
        },
        {
          "output_type": "stream",
          "name": "stderr",
          "text": []
        },
        {
          "output_type": "stream",
          "name": "stdout",
          "text": [
            "Epoch 83/500 Loss per sample: 118.8110 Recon Loss: 28.5789 KL Loss: 20.6366\n"
          ]
        },
        {
          "output_type": "stream",
          "name": "stderr",
          "text": []
        },
        {
          "output_type": "stream",
          "name": "stdout",
          "text": [
            "Epoch 84/500 Loss per sample: 118.8110 Recon Loss: 31.1029 KL Loss: 21.1209\n"
          ]
        },
        {
          "output_type": "stream",
          "name": "stderr",
          "text": []
        },
        {
          "output_type": "stream",
          "name": "stdout",
          "text": [
            "Epoch 85/500 Loss per sample: 118.5491 Recon Loss: 31.0493 KL Loss: 20.8916\n"
          ]
        },
        {
          "output_type": "stream",
          "name": "stderr",
          "text": []
        },
        {
          "output_type": "stream",
          "name": "stdout",
          "text": [
            "Epoch 86/500 Loss per sample: 118.3518 Recon Loss: 32.4610 KL Loss: 18.8087\n"
          ]
        },
        {
          "output_type": "stream",
          "name": "stderr",
          "text": []
        },
        {
          "output_type": "stream",
          "name": "stdout",
          "text": [
            "Epoch 87/500 Loss per sample: 118.3849 Recon Loss: 31.4910 KL Loss: 20.8614\n"
          ]
        },
        {
          "output_type": "stream",
          "name": "stderr",
          "text": []
        },
        {
          "output_type": "stream",
          "name": "stdout",
          "text": [
            "Epoch 88/500 Loss per sample: 118.2388 Recon Loss: 30.9203 KL Loss: 20.7516\n"
          ]
        },
        {
          "output_type": "stream",
          "name": "stderr",
          "text": []
        },
        {
          "output_type": "stream",
          "name": "stdout",
          "text": [
            "Epoch 89/500 Loss per sample: 118.3240 Recon Loss: 30.1667 KL Loss: 18.6698\n"
          ]
        },
        {
          "output_type": "stream",
          "name": "stderr",
          "text": []
        },
        {
          "output_type": "stream",
          "name": "stdout",
          "text": [
            "Epoch 90/500 Loss per sample: 118.4013 Recon Loss: 31.7182 KL Loss: 20.5902\n"
          ]
        },
        {
          "output_type": "stream",
          "name": "stderr",
          "text": []
        },
        {
          "output_type": "stream",
          "name": "stdout",
          "text": [
            "Epoch 91/500 Loss per sample: 117.9158 Recon Loss: 30.7660 KL Loss: 19.9832\n"
          ]
        },
        {
          "output_type": "stream",
          "name": "stderr",
          "text": []
        },
        {
          "output_type": "stream",
          "name": "stdout",
          "text": [
            "Epoch 92/500 Loss per sample: 117.8880 Recon Loss: 27.4309 KL Loss: 21.5700\n"
          ]
        },
        {
          "output_type": "stream",
          "name": "stderr",
          "text": []
        },
        {
          "output_type": "stream",
          "name": "stdout",
          "text": [
            "Epoch 93/500 Loss per sample: 117.9449 Recon Loss: 30.7612 KL Loss: 21.2606\n"
          ]
        },
        {
          "output_type": "stream",
          "name": "stderr",
          "text": []
        },
        {
          "output_type": "stream",
          "name": "stdout",
          "text": [
            "Epoch 94/500 Loss per sample: 117.9342 Recon Loss: 31.8291 KL Loss: 19.2169\n"
          ]
        },
        {
          "output_type": "stream",
          "name": "stderr",
          "text": []
        },
        {
          "output_type": "stream",
          "name": "stdout",
          "text": [
            "Epoch 95/500 Loss per sample: 117.7486 Recon Loss: 30.3184 KL Loss: 18.2057\n"
          ]
        },
        {
          "output_type": "stream",
          "name": "stderr",
          "text": []
        },
        {
          "output_type": "stream",
          "name": "stdout",
          "text": [
            "Epoch 96/500 Loss per sample: 118.0509 Recon Loss: 27.9459 KL Loss: 21.8246\n"
          ]
        },
        {
          "output_type": "stream",
          "name": "stderr",
          "text": []
        },
        {
          "output_type": "stream",
          "name": "stdout",
          "text": [
            "Epoch 97/500 Loss per sample: 117.7922 Recon Loss: 31.6056 KL Loss: 19.9361\n"
          ]
        },
        {
          "output_type": "stream",
          "name": "stderr",
          "text": []
        },
        {
          "output_type": "stream",
          "name": "stdout",
          "text": [
            "Epoch 98/500 Loss per sample: 117.6314 Recon Loss: 30.3488 KL Loss: 22.5233\n"
          ]
        },
        {
          "output_type": "stream",
          "name": "stderr",
          "text": []
        },
        {
          "output_type": "stream",
          "name": "stdout",
          "text": [
            "Epoch 99/500 Loss per sample: 117.5506 Recon Loss: 29.2022 KL Loss: 18.5163\n"
          ]
        },
        {
          "output_type": "stream",
          "name": "stderr",
          "text": []
        },
        {
          "output_type": "stream",
          "name": "stdout",
          "text": [
            "Epoch 100/500 Loss per sample: 117.4276 Recon Loss: 30.8266 KL Loss: 19.1344\n"
          ]
        },
        {
          "output_type": "stream",
          "name": "stderr",
          "text": []
        },
        {
          "output_type": "stream",
          "name": "stdout",
          "text": [
            "Epoch 101/500 Loss per sample: 117.5287 Recon Loss: 31.5580 KL Loss: 21.8518\n"
          ]
        },
        {
          "output_type": "stream",
          "name": "stderr",
          "text": []
        },
        {
          "output_type": "stream",
          "name": "stdout",
          "text": [
            "Epoch 102/500 Loss per sample: 117.3138 Recon Loss: 30.5187 KL Loss: 20.0722\n"
          ]
        },
        {
          "output_type": "stream",
          "name": "stderr",
          "text": []
        },
        {
          "output_type": "stream",
          "name": "stdout",
          "text": [
            "Epoch 103/500 Loss per sample: 117.2898 Recon Loss: 31.2362 KL Loss: 21.0589\n"
          ]
        },
        {
          "output_type": "stream",
          "name": "stderr",
          "text": []
        },
        {
          "output_type": "stream",
          "name": "stdout",
          "text": [
            "Epoch 104/500 Loss per sample: 117.0576 Recon Loss: 28.0007 KL Loss: 21.5877\n"
          ]
        },
        {
          "output_type": "stream",
          "name": "stderr",
          "text": []
        },
        {
          "output_type": "stream",
          "name": "stdout",
          "text": [
            "Epoch 105/500 Loss per sample: 117.1028 Recon Loss: 31.1667 KL Loss: 20.8461\n"
          ]
        },
        {
          "output_type": "stream",
          "name": "stderr",
          "text": []
        },
        {
          "output_type": "stream",
          "name": "stdout",
          "text": [
            "Epoch 106/500 Loss per sample: 117.1144 Recon Loss: 30.7896 KL Loss: 21.3313\n"
          ]
        },
        {
          "output_type": "stream",
          "name": "stderr",
          "text": []
        },
        {
          "output_type": "stream",
          "name": "stdout",
          "text": [
            "Epoch 107/500 Loss per sample: 117.1229 Recon Loss: 29.5470 KL Loss: 19.7162\n"
          ]
        },
        {
          "output_type": "stream",
          "name": "stderr",
          "text": []
        },
        {
          "output_type": "stream",
          "name": "stdout",
          "text": [
            "Epoch 108/500 Loss per sample: 117.0254 Recon Loss: 29.3285 KL Loss: 19.0290\n"
          ]
        },
        {
          "output_type": "stream",
          "name": "stderr",
          "text": []
        },
        {
          "output_type": "stream",
          "name": "stdout",
          "text": [
            "Epoch 109/500 Loss per sample: 116.9119 Recon Loss: 30.5845 KL Loss: 23.1756\n"
          ]
        },
        {
          "output_type": "stream",
          "name": "stderr",
          "text": []
        },
        {
          "output_type": "stream",
          "name": "stdout",
          "text": [
            "Epoch 110/500 Loss per sample: 116.8222 Recon Loss: 28.5166 KL Loss: 20.5093\n"
          ]
        },
        {
          "output_type": "stream",
          "name": "stderr",
          "text": []
        },
        {
          "output_type": "stream",
          "name": "stdout",
          "text": [
            "Epoch 111/500 Loss per sample: 116.7638 Recon Loss: 27.7990 KL Loss: 21.7947\n"
          ]
        },
        {
          "output_type": "stream",
          "name": "stderr",
          "text": []
        },
        {
          "output_type": "stream",
          "name": "stdout",
          "text": [
            "Epoch 112/500 Loss per sample: 116.8761 Recon Loss: 29.7890 KL Loss: 21.2522\n"
          ]
        },
        {
          "output_type": "stream",
          "name": "stderr",
          "text": []
        },
        {
          "output_type": "stream",
          "name": "stdout",
          "text": [
            "Epoch 113/500 Loss per sample: 116.7181 Recon Loss: 27.3156 KL Loss: 22.5093\n"
          ]
        },
        {
          "output_type": "stream",
          "name": "stderr",
          "text": []
        },
        {
          "output_type": "stream",
          "name": "stdout",
          "text": [
            "Epoch 114/500 Loss per sample: 116.5739 Recon Loss: 29.1602 KL Loss: 20.8938\n"
          ]
        },
        {
          "output_type": "stream",
          "name": "stderr",
          "text": []
        },
        {
          "output_type": "stream",
          "name": "stdout",
          "text": [
            "Epoch 115/500 Loss per sample: 116.7366 Recon Loss: 29.3690 KL Loss: 20.9555\n"
          ]
        },
        {
          "output_type": "stream",
          "name": "stderr",
          "text": []
        },
        {
          "output_type": "stream",
          "name": "stdout",
          "text": [
            "Epoch 116/500 Loss per sample: 116.5110 Recon Loss: 30.0219 KL Loss: 22.1494\n"
          ]
        },
        {
          "output_type": "stream",
          "name": "stderr",
          "text": []
        },
        {
          "output_type": "stream",
          "name": "stdout",
          "text": [
            "Epoch 117/500 Loss per sample: 116.4404 Recon Loss: 28.0213 KL Loss: 23.6257\n"
          ]
        },
        {
          "output_type": "stream",
          "name": "stderr",
          "text": []
        },
        {
          "output_type": "stream",
          "name": "stdout",
          "text": [
            "Epoch 118/500 Loss per sample: 116.4337 Recon Loss: 28.8701 KL Loss: 20.0765\n"
          ]
        },
        {
          "output_type": "stream",
          "name": "stderr",
          "text": []
        },
        {
          "output_type": "stream",
          "name": "stdout",
          "text": [
            "Epoch 119/500 Loss per sample: 116.4825 Recon Loss: 29.2419 KL Loss: 21.0218\n"
          ]
        },
        {
          "output_type": "stream",
          "name": "stderr",
          "text": []
        },
        {
          "output_type": "stream",
          "name": "stdout",
          "text": [
            "Epoch 120/500 Loss per sample: 116.3679 Recon Loss: 28.8485 KL Loss: 20.0214\n"
          ]
        },
        {
          "output_type": "stream",
          "name": "stderr",
          "text": []
        },
        {
          "output_type": "stream",
          "name": "stdout",
          "text": [
            "Epoch 121/500 Loss per sample: 116.2762 Recon Loss: 30.1388 KL Loss: 17.7732\n"
          ]
        },
        {
          "output_type": "stream",
          "name": "stderr",
          "text": []
        },
        {
          "output_type": "stream",
          "name": "stdout",
          "text": [
            "Epoch 122/500 Loss per sample: 116.3833 Recon Loss: 29.8862 KL Loss: 22.0544\n"
          ]
        },
        {
          "output_type": "stream",
          "name": "stderr",
          "text": []
        },
        {
          "output_type": "stream",
          "name": "stdout",
          "text": [
            "Epoch 123/500 Loss per sample: 116.1368 Recon Loss: 27.5414 KL Loss: 24.2550\n"
          ]
        },
        {
          "output_type": "stream",
          "name": "stderr",
          "text": []
        },
        {
          "output_type": "stream",
          "name": "stdout",
          "text": [
            "Epoch 124/500 Loss per sample: 116.0749 Recon Loss: 29.6144 KL Loss: 20.2869\n"
          ]
        },
        {
          "output_type": "stream",
          "name": "stderr",
          "text": []
        },
        {
          "output_type": "stream",
          "name": "stdout",
          "text": [
            "Epoch 125/500 Loss per sample: 116.2202 Recon Loss: 30.1242 KL Loss: 20.5655\n"
          ]
        },
        {
          "output_type": "stream",
          "name": "stderr",
          "text": []
        },
        {
          "output_type": "stream",
          "name": "stdout",
          "text": [
            "Epoch 126/500 Loss per sample: 115.9824 Recon Loss: 30.0849 KL Loss: 20.0769\n"
          ]
        },
        {
          "output_type": "stream",
          "name": "stderr",
          "text": []
        },
        {
          "output_type": "stream",
          "name": "stdout",
          "text": [
            "Epoch 127/500 Loss per sample: 116.0725 Recon Loss: 29.4930 KL Loss: 20.1407\n"
          ]
        },
        {
          "output_type": "stream",
          "name": "stderr",
          "text": []
        },
        {
          "output_type": "stream",
          "name": "stdout",
          "text": [
            "Epoch 128/500 Loss per sample: 115.9988 Recon Loss: 30.6958 KL Loss: 19.3153\n"
          ]
        },
        {
          "output_type": "stream",
          "name": "stderr",
          "text": []
        },
        {
          "output_type": "stream",
          "name": "stdout",
          "text": [
            "Epoch 129/500 Loss per sample: 115.9382 Recon Loss: 28.2860 KL Loss: 21.3813\n"
          ]
        },
        {
          "output_type": "stream",
          "name": "stderr",
          "text": []
        },
        {
          "output_type": "stream",
          "name": "stdout",
          "text": [
            "Epoch 130/500 Loss per sample: 116.0071 Recon Loss: 28.7735 KL Loss: 20.0616\n"
          ]
        },
        {
          "output_type": "stream",
          "name": "stderr",
          "text": []
        },
        {
          "output_type": "stream",
          "name": "stdout",
          "text": [
            "Epoch 131/500 Loss per sample: 115.8430 Recon Loss: 29.1887 KL Loss: 20.7548\n"
          ]
        },
        {
          "output_type": "stream",
          "name": "stderr",
          "text": []
        },
        {
          "output_type": "stream",
          "name": "stdout",
          "text": [
            "Epoch 132/500 Loss per sample: 115.6909 Recon Loss: 29.2761 KL Loss: 20.7703\n"
          ]
        },
        {
          "output_type": "stream",
          "name": "stderr",
          "text": []
        },
        {
          "output_type": "stream",
          "name": "stdout",
          "text": [
            "Epoch 133/500 Loss per sample: 115.7788 Recon Loss: 28.9963 KL Loss: 21.4021\n"
          ]
        },
        {
          "output_type": "stream",
          "name": "stderr",
          "text": []
        },
        {
          "output_type": "stream",
          "name": "stdout",
          "text": [
            "Epoch 134/500 Loss per sample: 115.8595 Recon Loss: 28.3977 KL Loss: 19.7785\n"
          ]
        },
        {
          "output_type": "stream",
          "name": "stderr",
          "text": []
        },
        {
          "output_type": "stream",
          "name": "stdout",
          "text": [
            "Epoch 135/500 Loss per sample: 115.7174 Recon Loss: 28.3361 KL Loss: 21.3744\n"
          ]
        },
        {
          "output_type": "stream",
          "name": "stderr",
          "text": []
        },
        {
          "output_type": "stream",
          "name": "stdout",
          "text": [
            "Epoch 136/500 Loss per sample: 115.5778 Recon Loss: 27.4407 KL Loss: 21.7505\n"
          ]
        },
        {
          "output_type": "stream",
          "name": "stderr",
          "text": []
        },
        {
          "output_type": "stream",
          "name": "stdout",
          "text": [
            "Epoch 137/500 Loss per sample: 115.5765 Recon Loss: 29.6432 KL Loss: 20.6848\n"
          ]
        },
        {
          "output_type": "stream",
          "name": "stderr",
          "text": []
        },
        {
          "output_type": "stream",
          "name": "stdout",
          "text": [
            "Epoch 138/500 Loss per sample: 115.6361 Recon Loss: 29.9302 KL Loss: 19.5927\n"
          ]
        },
        {
          "output_type": "stream",
          "name": "stderr",
          "text": []
        },
        {
          "output_type": "stream",
          "name": "stdout",
          "text": [
            "Epoch 139/500 Loss per sample: 115.5395 Recon Loss: 28.3903 KL Loss: 21.0364\n"
          ]
        },
        {
          "output_type": "stream",
          "name": "stderr",
          "text": []
        },
        {
          "output_type": "stream",
          "name": "stdout",
          "text": [
            "Epoch 140/500 Loss per sample: 115.4921 Recon Loss: 28.6941 KL Loss: 20.8054\n"
          ]
        },
        {
          "output_type": "stream",
          "name": "stderr",
          "text": []
        },
        {
          "output_type": "stream",
          "name": "stdout",
          "text": [
            "Epoch 141/500 Loss per sample: 115.5981 Recon Loss: 29.8682 KL Loss: 20.2615\n"
          ]
        },
        {
          "output_type": "stream",
          "name": "stderr",
          "text": []
        },
        {
          "output_type": "stream",
          "name": "stdout",
          "text": [
            "Epoch 142/500 Loss per sample: 115.4160 Recon Loss: 28.0582 KL Loss: 23.2441\n"
          ]
        },
        {
          "output_type": "stream",
          "name": "stderr",
          "text": []
        },
        {
          "output_type": "stream",
          "name": "stdout",
          "text": [
            "Epoch 143/500 Loss per sample: 115.3107 Recon Loss: 30.0047 KL Loss: 21.6749\n"
          ]
        },
        {
          "output_type": "stream",
          "name": "stderr",
          "text": []
        },
        {
          "output_type": "stream",
          "name": "stdout",
          "text": [
            "Epoch 144/500 Loss per sample: 115.4917 Recon Loss: 28.2011 KL Loss: 23.1259\n"
          ]
        },
        {
          "output_type": "stream",
          "name": "stderr",
          "text": []
        },
        {
          "output_type": "stream",
          "name": "stdout",
          "text": [
            "Epoch 145/500 Loss per sample: 115.2608 Recon Loss: 28.5885 KL Loss: 21.5109\n"
          ]
        },
        {
          "output_type": "stream",
          "name": "stderr",
          "text": []
        },
        {
          "output_type": "stream",
          "name": "stdout",
          "text": [
            "Epoch 146/500 Loss per sample: 115.2939 Recon Loss: 28.2336 KL Loss: 21.1653\n"
          ]
        },
        {
          "output_type": "stream",
          "name": "stderr",
          "text": []
        },
        {
          "output_type": "stream",
          "name": "stdout",
          "text": [
            "Epoch 147/500 Loss per sample: 115.1759 Recon Loss: 28.2065 KL Loss: 22.4824\n"
          ]
        },
        {
          "output_type": "stream",
          "name": "stderr",
          "text": []
        },
        {
          "output_type": "stream",
          "name": "stdout",
          "text": [
            "Epoch 148/500 Loss per sample: 115.2577 Recon Loss: 31.2369 KL Loss: 19.7909\n"
          ]
        },
        {
          "output_type": "stream",
          "name": "stderr",
          "text": []
        },
        {
          "output_type": "stream",
          "name": "stdout",
          "text": [
            "Epoch 149/500 Loss per sample: 115.1298 Recon Loss: 30.1269 KL Loss: 21.9433\n"
          ]
        },
        {
          "output_type": "stream",
          "name": "stderr",
          "text": []
        },
        {
          "output_type": "stream",
          "name": "stdout",
          "text": [
            "Epoch 150/500 Loss per sample: 115.1188 Recon Loss: 32.2004 KL Loss: 21.5808\n"
          ]
        },
        {
          "output_type": "stream",
          "name": "stderr",
          "text": []
        },
        {
          "output_type": "stream",
          "name": "stdout",
          "text": [
            "Epoch 151/500 Loss per sample: 115.0221 Recon Loss: 30.2561 KL Loss: 22.0425\n"
          ]
        },
        {
          "output_type": "stream",
          "name": "stderr",
          "text": []
        },
        {
          "output_type": "stream",
          "name": "stdout",
          "text": [
            "Epoch 152/500 Loss per sample: 115.1017 Recon Loss: 27.4388 KL Loss: 21.1215\n"
          ]
        },
        {
          "output_type": "stream",
          "name": "stderr",
          "text": []
        },
        {
          "output_type": "stream",
          "name": "stdout",
          "text": [
            "Epoch 153/500 Loss per sample: 115.1040 Recon Loss: 28.1034 KL Loss: 23.2252\n"
          ]
        },
        {
          "output_type": "stream",
          "name": "stderr",
          "text": []
        },
        {
          "output_type": "stream",
          "name": "stdout",
          "text": [
            "Epoch 154/500 Loss per sample: 114.9472 Recon Loss: 31.2372 KL Loss: 19.4776\n"
          ]
        },
        {
          "output_type": "stream",
          "name": "stderr",
          "text": []
        },
        {
          "output_type": "stream",
          "name": "stdout",
          "text": [
            "Epoch 155/500 Loss per sample: 114.9694 Recon Loss: 28.9907 KL Loss: 21.8246\n"
          ]
        },
        {
          "output_type": "stream",
          "name": "stderr",
          "text": []
        },
        {
          "output_type": "stream",
          "name": "stdout",
          "text": [
            "Epoch 156/500 Loss per sample: 114.8551 Recon Loss: 29.2392 KL Loss: 22.5908\n"
          ]
        },
        {
          "output_type": "stream",
          "name": "stderr",
          "text": []
        },
        {
          "output_type": "stream",
          "name": "stdout",
          "text": [
            "Epoch 157/500 Loss per sample: 114.9188 Recon Loss: 29.1998 KL Loss: 21.5879\n"
          ]
        },
        {
          "output_type": "stream",
          "name": "stderr",
          "text": []
        },
        {
          "output_type": "stream",
          "name": "stdout",
          "text": [
            "Epoch 158/500 Loss per sample: 114.8720 Recon Loss: 28.8952 KL Loss: 19.5639\n"
          ]
        },
        {
          "output_type": "stream",
          "name": "stderr",
          "text": []
        },
        {
          "output_type": "stream",
          "name": "stdout",
          "text": [
            "Epoch 159/500 Loss per sample: 114.8456 Recon Loss: 29.7004 KL Loss: 21.6684\n"
          ]
        },
        {
          "output_type": "stream",
          "name": "stderr",
          "text": []
        },
        {
          "output_type": "stream",
          "name": "stdout",
          "text": [
            "Epoch 160/500 Loss per sample: 114.6939 Recon Loss: 29.2667 KL Loss: 21.6156\n"
          ]
        },
        {
          "output_type": "stream",
          "name": "stderr",
          "text": []
        },
        {
          "output_type": "stream",
          "name": "stdout",
          "text": [
            "Epoch 161/500 Loss per sample: 114.7442 Recon Loss: 29.1618 KL Loss: 20.3276\n"
          ]
        },
        {
          "output_type": "stream",
          "name": "stderr",
          "text": []
        },
        {
          "output_type": "stream",
          "name": "stdout",
          "text": [
            "Epoch 162/500 Loss per sample: 114.5883 Recon Loss: 28.5532 KL Loss: 21.7169\n"
          ]
        },
        {
          "output_type": "stream",
          "name": "stderr",
          "text": []
        },
        {
          "output_type": "stream",
          "name": "stdout",
          "text": [
            "Epoch 163/500 Loss per sample: 114.5636 Recon Loss: 29.9607 KL Loss: 21.3575\n"
          ]
        },
        {
          "output_type": "stream",
          "name": "stderr",
          "text": []
        },
        {
          "output_type": "stream",
          "name": "stdout",
          "text": [
            "Epoch 164/500 Loss per sample: 114.6860 Recon Loss: 29.7877 KL Loss: 20.4709\n"
          ]
        },
        {
          "output_type": "stream",
          "name": "stderr",
          "text": []
        },
        {
          "output_type": "stream",
          "name": "stdout",
          "text": [
            "Epoch 165/500 Loss per sample: 114.8483 Recon Loss: 29.5710 KL Loss: 20.9007\n"
          ]
        },
        {
          "output_type": "stream",
          "name": "stderr",
          "text": []
        },
        {
          "output_type": "stream",
          "name": "stdout",
          "text": [
            "Epoch 166/500 Loss per sample: 114.4528 Recon Loss: 31.2969 KL Loss: 18.7828\n"
          ]
        },
        {
          "output_type": "stream",
          "name": "stderr",
          "text": []
        },
        {
          "output_type": "stream",
          "name": "stdout",
          "text": [
            "Epoch 167/500 Loss per sample: 114.5536 Recon Loss: 26.9442 KL Loss: 20.4869\n"
          ]
        },
        {
          "output_type": "stream",
          "name": "stderr",
          "text": []
        },
        {
          "output_type": "stream",
          "name": "stdout",
          "text": [
            "Epoch 168/500 Loss per sample: 114.6499 Recon Loss: 29.2426 KL Loss: 23.4611\n"
          ]
        },
        {
          "output_type": "stream",
          "name": "stderr",
          "text": []
        },
        {
          "output_type": "stream",
          "name": "stdout",
          "text": [
            "Epoch 169/500 Loss per sample: 114.5946 Recon Loss: 31.3567 KL Loss: 19.9737\n"
          ]
        },
        {
          "output_type": "stream",
          "name": "stderr",
          "text": []
        },
        {
          "output_type": "stream",
          "name": "stdout",
          "text": [
            "Epoch 170/500 Loss per sample: 114.5903 Recon Loss: 30.3047 KL Loss: 21.9734\n"
          ]
        },
        {
          "output_type": "stream",
          "name": "stderr",
          "text": []
        },
        {
          "output_type": "stream",
          "name": "stdout",
          "text": [
            "Epoch 171/500 Loss per sample: 114.4483 Recon Loss: 28.8860 KL Loss: 22.1529\n"
          ]
        },
        {
          "output_type": "stream",
          "name": "stderr",
          "text": []
        },
        {
          "output_type": "stream",
          "name": "stdout",
          "text": [
            "Epoch 172/500 Loss per sample: 114.3935 Recon Loss: 29.5825 KL Loss: 22.2028\n"
          ]
        },
        {
          "output_type": "stream",
          "name": "stderr",
          "text": []
        },
        {
          "output_type": "stream",
          "name": "stdout",
          "text": [
            "Epoch 173/500 Loss per sample: 114.5287 Recon Loss: 29.7001 KL Loss: 22.5527\n"
          ]
        },
        {
          "output_type": "stream",
          "name": "stderr",
          "text": []
        },
        {
          "output_type": "stream",
          "name": "stdout",
          "text": [
            "Epoch 174/500 Loss per sample: 114.3214 Recon Loss: 30.0179 KL Loss: 22.6294\n"
          ]
        },
        {
          "output_type": "stream",
          "name": "stderr",
          "text": []
        },
        {
          "output_type": "stream",
          "name": "stdout",
          "text": [
            "Epoch 175/500 Loss per sample: 114.2403 Recon Loss: 28.3170 KL Loss: 22.2557\n"
          ]
        },
        {
          "output_type": "stream",
          "name": "stderr",
          "text": []
        },
        {
          "output_type": "stream",
          "name": "stdout",
          "text": [
            "Epoch 176/500 Loss per sample: 114.1873 Recon Loss: 30.2744 KL Loss: 20.9851\n"
          ]
        },
        {
          "output_type": "stream",
          "name": "stderr",
          "text": []
        },
        {
          "output_type": "stream",
          "name": "stdout",
          "text": [
            "Epoch 177/500 Loss per sample: 114.3941 Recon Loss: 30.4027 KL Loss: 21.5174\n"
          ]
        },
        {
          "output_type": "stream",
          "name": "stderr",
          "text": []
        },
        {
          "output_type": "stream",
          "name": "stdout",
          "text": [
            "Epoch 178/500 Loss per sample: 114.1194 Recon Loss: 25.9742 KL Loss: 21.5645\n"
          ]
        },
        {
          "output_type": "stream",
          "name": "stderr",
          "text": []
        },
        {
          "output_type": "stream",
          "name": "stdout",
          "text": [
            "Epoch 179/500 Loss per sample: 114.2493 Recon Loss: 27.9660 KL Loss: 23.2484\n"
          ]
        },
        {
          "output_type": "stream",
          "name": "stderr",
          "text": []
        },
        {
          "output_type": "stream",
          "name": "stdout",
          "text": [
            "Epoch 180/500 Loss per sample: 114.2755 Recon Loss: 30.4374 KL Loss: 20.1886\n"
          ]
        },
        {
          "output_type": "stream",
          "name": "stderr",
          "text": []
        },
        {
          "output_type": "stream",
          "name": "stdout",
          "text": [
            "Epoch 181/500 Loss per sample: 114.1460 Recon Loss: 28.4866 KL Loss: 24.6085\n"
          ]
        },
        {
          "output_type": "stream",
          "name": "stderr",
          "text": []
        },
        {
          "output_type": "stream",
          "name": "stdout",
          "text": [
            "Epoch 182/500 Loss per sample: 114.0588 Recon Loss: 29.7172 KL Loss: 21.6635\n"
          ]
        },
        {
          "output_type": "stream",
          "name": "stderr",
          "text": []
        },
        {
          "output_type": "stream",
          "name": "stdout",
          "text": [
            "Epoch 183/500 Loss per sample: 114.3212 Recon Loss: 33.2079 KL Loss: 23.0801\n"
          ]
        },
        {
          "output_type": "stream",
          "name": "stderr",
          "text": []
        },
        {
          "output_type": "stream",
          "name": "stdout",
          "text": [
            "Epoch 184/500 Loss per sample: 114.0901 Recon Loss: 28.9520 KL Loss: 20.4608\n"
          ]
        },
        {
          "output_type": "stream",
          "name": "stderr",
          "text": []
        },
        {
          "output_type": "stream",
          "name": "stdout",
          "text": [
            "Epoch 185/500 Loss per sample: 114.1698 Recon Loss: 28.4369 KL Loss: 19.2925\n"
          ]
        },
        {
          "output_type": "stream",
          "name": "stderr",
          "text": []
        },
        {
          "output_type": "stream",
          "name": "stdout",
          "text": [
            "Epoch 186/500 Loss per sample: 114.0226 Recon Loss: 30.0293 KL Loss: 20.9176\n"
          ]
        },
        {
          "output_type": "stream",
          "name": "stderr",
          "text": []
        },
        {
          "output_type": "stream",
          "name": "stdout",
          "text": [
            "Epoch 187/500 Loss per sample: 113.9472 Recon Loss: 28.7594 KL Loss: 23.1870\n"
          ]
        },
        {
          "output_type": "stream",
          "name": "stderr",
          "text": []
        },
        {
          "output_type": "stream",
          "name": "stdout",
          "text": [
            "Epoch 188/500 Loss per sample: 113.9391 Recon Loss: 29.5888 KL Loss: 19.5206\n"
          ]
        },
        {
          "output_type": "stream",
          "name": "stderr",
          "text": []
        },
        {
          "output_type": "stream",
          "name": "stdout",
          "text": [
            "Epoch 189/500 Loss per sample: 113.9313 Recon Loss: 30.1898 KL Loss: 20.8664\n"
          ]
        },
        {
          "output_type": "stream",
          "name": "stderr",
          "text": []
        },
        {
          "output_type": "stream",
          "name": "stdout",
          "text": [
            "Epoch 190/500 Loss per sample: 113.9369 Recon Loss: 29.0312 KL Loss: 22.4308\n"
          ]
        },
        {
          "output_type": "stream",
          "name": "stderr",
          "text": []
        },
        {
          "output_type": "stream",
          "name": "stdout",
          "text": [
            "Epoch 191/500 Loss per sample: 113.9571 Recon Loss: 29.4750 KL Loss: 25.2161\n"
          ]
        },
        {
          "output_type": "stream",
          "name": "stderr",
          "text": []
        },
        {
          "output_type": "stream",
          "name": "stdout",
          "text": [
            "Epoch 192/500 Loss per sample: 113.9762 Recon Loss: 31.6460 KL Loss: 20.4162\n"
          ]
        },
        {
          "output_type": "stream",
          "name": "stderr",
          "text": []
        },
        {
          "output_type": "stream",
          "name": "stdout",
          "text": [
            "Epoch 193/500 Loss per sample: 113.8881 Recon Loss: 28.7543 KL Loss: 22.8969\n"
          ]
        },
        {
          "output_type": "stream",
          "name": "stderr",
          "text": []
        },
        {
          "output_type": "stream",
          "name": "stdout",
          "text": [
            "Epoch 194/500 Loss per sample: 113.8080 Recon Loss: 28.6335 KL Loss: 22.9872\n"
          ]
        },
        {
          "output_type": "stream",
          "name": "stderr",
          "text": []
        },
        {
          "output_type": "stream",
          "name": "stdout",
          "text": [
            "Epoch 195/500 Loss per sample: 113.7873 Recon Loss: 29.2211 KL Loss: 23.4076\n"
          ]
        },
        {
          "output_type": "stream",
          "name": "stderr",
          "text": []
        },
        {
          "output_type": "stream",
          "name": "stdout",
          "text": [
            "Epoch 196/500 Loss per sample: 113.9090 Recon Loss: 26.1110 KL Loss: 25.0792\n"
          ]
        },
        {
          "output_type": "stream",
          "name": "stderr",
          "text": []
        },
        {
          "output_type": "stream",
          "name": "stdout",
          "text": [
            "Epoch 197/500 Loss per sample: 113.7456 Recon Loss: 31.7458 KL Loss: 21.0017\n"
          ]
        },
        {
          "output_type": "stream",
          "name": "stderr",
          "text": []
        },
        {
          "output_type": "stream",
          "name": "stdout",
          "text": [
            "Epoch 198/500 Loss per sample: 113.7308 Recon Loss: 28.9517 KL Loss: 24.1341\n"
          ]
        },
        {
          "output_type": "stream",
          "name": "stderr",
          "text": []
        },
        {
          "output_type": "stream",
          "name": "stdout",
          "text": [
            "Epoch 199/500 Loss per sample: 113.9041 Recon Loss: 30.6077 KL Loss: 21.8834\n"
          ]
        },
        {
          "output_type": "stream",
          "name": "stderr",
          "text": []
        },
        {
          "output_type": "stream",
          "name": "stdout",
          "text": [
            "Epoch 200/500 Loss per sample: 113.7479 Recon Loss: 30.0919 KL Loss: 21.8467\n"
          ]
        },
        {
          "output_type": "stream",
          "name": "stderr",
          "text": []
        },
        {
          "output_type": "stream",
          "name": "stdout",
          "text": [
            "Epoch 201/500 Loss per sample: 113.6709 Recon Loss: 29.1547 KL Loss: 22.1437\n"
          ]
        },
        {
          "output_type": "stream",
          "name": "stderr",
          "text": []
        },
        {
          "output_type": "stream",
          "name": "stdout",
          "text": [
            "Epoch 202/500 Loss per sample: 113.8098 Recon Loss: 28.5459 KL Loss: 22.3922\n"
          ]
        },
        {
          "output_type": "stream",
          "name": "stderr",
          "text": []
        },
        {
          "output_type": "stream",
          "name": "stdout",
          "text": [
            "Epoch 203/500 Loss per sample: 113.6668 Recon Loss: 29.9463 KL Loss: 22.4287\n"
          ]
        },
        {
          "output_type": "stream",
          "name": "stderr",
          "text": []
        },
        {
          "output_type": "stream",
          "name": "stdout",
          "text": [
            "Epoch 204/500 Loss per sample: 113.5587 Recon Loss: 28.3189 KL Loss: 22.6949\n"
          ]
        },
        {
          "output_type": "stream",
          "name": "stderr",
          "text": []
        },
        {
          "output_type": "stream",
          "name": "stdout",
          "text": [
            "Epoch 205/500 Loss per sample: 113.6304 Recon Loss: 29.0736 KL Loss: 23.8224\n"
          ]
        },
        {
          "output_type": "stream",
          "name": "stderr",
          "text": []
        },
        {
          "output_type": "stream",
          "name": "stdout",
          "text": [
            "Epoch 206/500 Loss per sample: 113.5159 Recon Loss: 29.8500 KL Loss: 21.9051\n"
          ]
        },
        {
          "output_type": "stream",
          "name": "stderr",
          "text": []
        },
        {
          "output_type": "stream",
          "name": "stdout",
          "text": [
            "Epoch 207/500 Loss per sample: 113.5222 Recon Loss: 28.7127 KL Loss: 19.8272\n"
          ]
        },
        {
          "output_type": "stream",
          "name": "stderr",
          "text": []
        },
        {
          "output_type": "stream",
          "name": "stdout",
          "text": [
            "Epoch 208/500 Loss per sample: 113.5939 Recon Loss: 30.3916 KL Loss: 22.5773\n"
          ]
        },
        {
          "output_type": "stream",
          "name": "stderr",
          "text": []
        },
        {
          "output_type": "stream",
          "name": "stdout",
          "text": [
            "Epoch 209/500 Loss per sample: 113.6618 Recon Loss: 28.8478 KL Loss: 22.6534\n"
          ]
        },
        {
          "output_type": "stream",
          "name": "stderr",
          "text": []
        },
        {
          "output_type": "stream",
          "name": "stdout",
          "text": [
            "Epoch 210/500 Loss per sample: 113.4573 Recon Loss: 27.9170 KL Loss: 20.0052\n"
          ]
        },
        {
          "output_type": "stream",
          "name": "stderr",
          "text": []
        },
        {
          "output_type": "stream",
          "name": "stdout",
          "text": [
            "Epoch 211/500 Loss per sample: 113.3723 Recon Loss: 27.4187 KL Loss: 24.9128\n"
          ]
        },
        {
          "output_type": "stream",
          "name": "stderr",
          "text": []
        },
        {
          "output_type": "stream",
          "name": "stdout",
          "text": [
            "Epoch 212/500 Loss per sample: 113.3386 Recon Loss: 30.2438 KL Loss: 21.2670\n"
          ]
        },
        {
          "output_type": "stream",
          "name": "stderr",
          "text": []
        },
        {
          "output_type": "stream",
          "name": "stdout",
          "text": [
            "Epoch 213/500 Loss per sample: 113.5210 Recon Loss: 28.0897 KL Loss: 26.3676\n"
          ]
        },
        {
          "output_type": "stream",
          "name": "stderr",
          "text": []
        },
        {
          "output_type": "stream",
          "name": "stdout",
          "text": [
            "Epoch 214/500 Loss per sample: 113.4261 Recon Loss: 27.1606 KL Loss: 24.5466\n"
          ]
        },
        {
          "output_type": "stream",
          "name": "stderr",
          "text": []
        },
        {
          "output_type": "stream",
          "name": "stdout",
          "text": [
            "Epoch 215/500 Loss per sample: 113.4163 Recon Loss: 28.1948 KL Loss: 23.1936\n"
          ]
        },
        {
          "output_type": "stream",
          "name": "stderr",
          "text": []
        },
        {
          "output_type": "stream",
          "name": "stdout",
          "text": [
            "Epoch 216/500 Loss per sample: 113.4380 Recon Loss: 29.3558 KL Loss: 20.1687\n"
          ]
        },
        {
          "output_type": "stream",
          "name": "stderr",
          "text": []
        },
        {
          "output_type": "stream",
          "name": "stdout",
          "text": [
            "Epoch 217/500 Loss per sample: 113.3522 Recon Loss: 28.3307 KL Loss: 23.7226\n"
          ]
        },
        {
          "output_type": "stream",
          "name": "stderr",
          "text": []
        },
        {
          "output_type": "stream",
          "name": "stdout",
          "text": [
            "Epoch 218/500 Loss per sample: 113.1548 Recon Loss: 28.2790 KL Loss: 20.7363\n"
          ]
        },
        {
          "output_type": "stream",
          "name": "stderr",
          "text": []
        },
        {
          "output_type": "stream",
          "name": "stdout",
          "text": [
            "Epoch 219/500 Loss per sample: 113.3785 Recon Loss: 29.7292 KL Loss: 20.4546\n"
          ]
        },
        {
          "output_type": "stream",
          "name": "stderr",
          "text": []
        },
        {
          "output_type": "stream",
          "name": "stdout",
          "text": [
            "Epoch 220/500 Loss per sample: 113.1985 Recon Loss: 28.6237 KL Loss: 22.7398\n"
          ]
        },
        {
          "output_type": "stream",
          "name": "stderr",
          "text": []
        },
        {
          "output_type": "stream",
          "name": "stdout",
          "text": [
            "Epoch 221/500 Loss per sample: 113.2808 Recon Loss: 28.3111 KL Loss: 20.9291\n"
          ]
        },
        {
          "output_type": "stream",
          "name": "stderr",
          "text": []
        },
        {
          "output_type": "stream",
          "name": "stdout",
          "text": [
            "Epoch 222/500 Loss per sample: 113.3633 Recon Loss: 29.8912 KL Loss: 25.8036\n"
          ]
        },
        {
          "output_type": "stream",
          "name": "stderr",
          "text": []
        },
        {
          "output_type": "stream",
          "name": "stdout",
          "text": [
            "Epoch 223/500 Loss per sample: 113.2493 Recon Loss: 30.9385 KL Loss: 23.6387\n"
          ]
        },
        {
          "output_type": "stream",
          "name": "stderr",
          "text": []
        },
        {
          "output_type": "stream",
          "name": "stdout",
          "text": [
            "Epoch 224/500 Loss per sample: 113.1946 Recon Loss: 28.4914 KL Loss: 22.2016\n"
          ]
        },
        {
          "output_type": "stream",
          "name": "stderr",
          "text": []
        },
        {
          "output_type": "stream",
          "name": "stdout",
          "text": [
            "Epoch 225/500 Loss per sample: 113.3442 Recon Loss: 30.0353 KL Loss: 21.1192\n"
          ]
        },
        {
          "output_type": "stream",
          "name": "stderr",
          "text": []
        },
        {
          "output_type": "stream",
          "name": "stdout",
          "text": [
            "Epoch 226/500 Loss per sample: 113.2408 Recon Loss: 27.6870 KL Loss: 21.9551\n"
          ]
        },
        {
          "output_type": "stream",
          "name": "stderr",
          "text": []
        },
        {
          "output_type": "stream",
          "name": "stdout",
          "text": [
            "Epoch 227/500 Loss per sample: 113.0623 Recon Loss: 28.7959 KL Loss: 21.7693\n"
          ]
        },
        {
          "output_type": "stream",
          "name": "stderr",
          "text": []
        },
        {
          "output_type": "stream",
          "name": "stdout",
          "text": [
            "Epoch 228/500 Loss per sample: 113.1479 Recon Loss: 29.9443 KL Loss: 22.0385\n"
          ]
        },
        {
          "output_type": "stream",
          "name": "stderr",
          "text": []
        },
        {
          "output_type": "stream",
          "name": "stdout",
          "text": [
            "Epoch 229/500 Loss per sample: 113.1938 Recon Loss: 29.3679 KL Loss: 20.5005\n"
          ]
        },
        {
          "output_type": "stream",
          "name": "stderr",
          "text": []
        },
        {
          "output_type": "stream",
          "name": "stdout",
          "text": [
            "Epoch 230/500 Loss per sample: 113.0816 Recon Loss: 29.0785 KL Loss: 21.8810\n"
          ]
        },
        {
          "output_type": "stream",
          "name": "stderr",
          "text": []
        },
        {
          "output_type": "stream",
          "name": "stdout",
          "text": [
            "Epoch 231/500 Loss per sample: 112.9777 Recon Loss: 30.3147 KL Loss: 22.9001\n"
          ]
        },
        {
          "output_type": "stream",
          "name": "stderr",
          "text": []
        },
        {
          "output_type": "stream",
          "name": "stdout",
          "text": [
            "Epoch 232/500 Loss per sample: 113.1878 Recon Loss: 26.8921 KL Loss: 22.0315\n"
          ]
        },
        {
          "output_type": "stream",
          "name": "stderr",
          "text": []
        },
        {
          "output_type": "stream",
          "name": "stdout",
          "text": [
            "Epoch 233/500 Loss per sample: 113.1216 Recon Loss: 29.2174 KL Loss: 20.8907\n"
          ]
        },
        {
          "output_type": "stream",
          "name": "stderr",
          "text": []
        },
        {
          "output_type": "stream",
          "name": "stdout",
          "text": [
            "Epoch 234/500 Loss per sample: 113.0789 Recon Loss: 27.6046 KL Loss: 24.1868\n"
          ]
        },
        {
          "output_type": "stream",
          "name": "stderr",
          "text": []
        },
        {
          "output_type": "stream",
          "name": "stdout",
          "text": [
            "Epoch 235/500 Loss per sample: 113.0431 Recon Loss: 30.4973 KL Loss: 21.6020\n"
          ]
        },
        {
          "output_type": "stream",
          "name": "stderr",
          "text": []
        },
        {
          "output_type": "stream",
          "name": "stdout",
          "text": [
            "Epoch 236/500 Loss per sample: 112.9231 Recon Loss: 28.3822 KL Loss: 20.8891\n"
          ]
        },
        {
          "output_type": "stream",
          "name": "stderr",
          "text": []
        },
        {
          "output_type": "stream",
          "name": "stdout",
          "text": [
            "Epoch 237/500 Loss per sample: 113.0173 Recon Loss: 29.4197 KL Loss: 21.6654\n"
          ]
        },
        {
          "output_type": "stream",
          "name": "stderr",
          "text": []
        },
        {
          "output_type": "stream",
          "name": "stdout",
          "text": [
            "Epoch 238/500 Loss per sample: 113.0155 Recon Loss: 30.2209 KL Loss: 21.0831\n"
          ]
        },
        {
          "output_type": "stream",
          "name": "stderr",
          "text": []
        },
        {
          "output_type": "stream",
          "name": "stdout",
          "text": [
            "Epoch 239/500 Loss per sample: 112.9316 Recon Loss: 26.8941 KL Loss: 25.6085\n"
          ]
        },
        {
          "output_type": "stream",
          "name": "stderr",
          "text": []
        },
        {
          "output_type": "stream",
          "name": "stdout",
          "text": [
            "Epoch 240/500 Loss per sample: 113.1611 Recon Loss: 30.4283 KL Loss: 23.0450\n"
          ]
        },
        {
          "output_type": "stream",
          "name": "stderr",
          "text": []
        },
        {
          "output_type": "stream",
          "name": "stdout",
          "text": [
            "Epoch 241/500 Loss per sample: 112.8957 Recon Loss: 30.5564 KL Loss: 21.3771\n"
          ]
        },
        {
          "output_type": "stream",
          "name": "stderr",
          "text": []
        },
        {
          "output_type": "stream",
          "name": "stdout",
          "text": [
            "Epoch 242/500 Loss per sample: 112.8338 Recon Loss: 27.9052 KL Loss: 21.8364\n"
          ]
        },
        {
          "output_type": "stream",
          "name": "stderr",
          "text": []
        },
        {
          "output_type": "stream",
          "name": "stdout",
          "text": [
            "Epoch 243/500 Loss per sample: 112.8126 Recon Loss: 30.3227 KL Loss: 21.7534\n"
          ]
        },
        {
          "output_type": "stream",
          "name": "stderr",
          "text": []
        },
        {
          "output_type": "stream",
          "name": "stdout",
          "text": [
            "Epoch 244/500 Loss per sample: 112.9220 Recon Loss: 29.1981 KL Loss: 23.8410\n"
          ]
        },
        {
          "output_type": "stream",
          "name": "stderr",
          "text": []
        },
        {
          "output_type": "stream",
          "name": "stdout",
          "text": [
            "Epoch 245/500 Loss per sample: 112.8621 Recon Loss: 27.6046 KL Loss: 25.2179\n"
          ]
        },
        {
          "output_type": "stream",
          "name": "stderr",
          "text": []
        },
        {
          "output_type": "stream",
          "name": "stdout",
          "text": [
            "Epoch 246/500 Loss per sample: 112.8333 Recon Loss: 28.4468 KL Loss: 23.9116\n"
          ]
        },
        {
          "output_type": "stream",
          "name": "stderr",
          "text": []
        },
        {
          "output_type": "stream",
          "name": "stdout",
          "text": [
            "Epoch 247/500 Loss per sample: 112.8685 Recon Loss: 28.3904 KL Loss: 23.2305\n"
          ]
        },
        {
          "output_type": "stream",
          "name": "stderr",
          "text": []
        },
        {
          "output_type": "stream",
          "name": "stdout",
          "text": [
            "Epoch 248/500 Loss per sample: 112.7802 Recon Loss: 26.5523 KL Loss: 24.6097\n"
          ]
        },
        {
          "output_type": "stream",
          "name": "stderr",
          "text": []
        },
        {
          "output_type": "stream",
          "name": "stdout",
          "text": [
            "Epoch 249/500 Loss per sample: 112.9300 Recon Loss: 29.2865 KL Loss: 23.3660\n"
          ]
        },
        {
          "output_type": "stream",
          "name": "stderr",
          "text": []
        },
        {
          "output_type": "stream",
          "name": "stdout",
          "text": [
            "Epoch 250/500 Loss per sample: 112.8498 Recon Loss: 28.1965 KL Loss: 25.0944\n"
          ]
        },
        {
          "output_type": "stream",
          "name": "stderr",
          "text": []
        },
        {
          "output_type": "stream",
          "name": "stdout",
          "text": [
            "Epoch 251/500 Loss per sample: 112.7383 Recon Loss: 27.4738 KL Loss: 23.4481\n"
          ]
        },
        {
          "output_type": "stream",
          "name": "stderr",
          "text": []
        },
        {
          "output_type": "stream",
          "name": "stdout",
          "text": [
            "Epoch 252/500 Loss per sample: 112.6958 Recon Loss: 27.1906 KL Loss: 22.1071\n"
          ]
        },
        {
          "output_type": "stream",
          "name": "stderr",
          "text": []
        },
        {
          "output_type": "stream",
          "name": "stdout",
          "text": [
            "Epoch 253/500 Loss per sample: 112.7534 Recon Loss: 28.7288 KL Loss: 20.5893\n"
          ]
        },
        {
          "output_type": "stream",
          "name": "stderr",
          "text": []
        },
        {
          "output_type": "stream",
          "name": "stdout",
          "text": [
            "Epoch 254/500 Loss per sample: 112.7589 Recon Loss: 27.9872 KL Loss: 25.7572\n"
          ]
        },
        {
          "output_type": "stream",
          "name": "stderr",
          "text": []
        },
        {
          "output_type": "stream",
          "name": "stdout",
          "text": [
            "Epoch 255/500 Loss per sample: 112.6206 Recon Loss: 28.6565 KL Loss: 24.3453\n"
          ]
        },
        {
          "output_type": "stream",
          "name": "stderr",
          "text": []
        },
        {
          "output_type": "stream",
          "name": "stdout",
          "text": [
            "Epoch 256/500 Loss per sample: 112.7526 Recon Loss: 29.1276 KL Loss: 23.9030\n"
          ]
        },
        {
          "output_type": "stream",
          "name": "stderr",
          "text": []
        },
        {
          "output_type": "stream",
          "name": "stdout",
          "text": [
            "Epoch 257/500 Loss per sample: 112.6189 Recon Loss: 30.8378 KL Loss: 21.2124\n"
          ]
        },
        {
          "output_type": "stream",
          "name": "stderr",
          "text": []
        },
        {
          "output_type": "stream",
          "name": "stdout",
          "text": [
            "Epoch 258/500 Loss per sample: 112.5408 Recon Loss: 29.8003 KL Loss: 23.4337\n"
          ]
        },
        {
          "output_type": "stream",
          "name": "stderr",
          "text": []
        },
        {
          "output_type": "stream",
          "name": "stdout",
          "text": [
            "Epoch 259/500 Loss per sample: 112.7281 Recon Loss: 32.2882 KL Loss: 20.3917\n"
          ]
        },
        {
          "output_type": "stream",
          "name": "stderr",
          "text": []
        },
        {
          "output_type": "stream",
          "name": "stdout",
          "text": [
            "Epoch 260/500 Loss per sample: 112.5881 Recon Loss: 29.0835 KL Loss: 21.6618\n"
          ]
        },
        {
          "output_type": "stream",
          "name": "stderr",
          "text": []
        },
        {
          "output_type": "stream",
          "name": "stdout",
          "text": [
            "Epoch 261/500 Loss per sample: 112.5766 Recon Loss: 28.0270 KL Loss: 23.4253\n"
          ]
        },
        {
          "output_type": "stream",
          "name": "stderr",
          "text": []
        },
        {
          "output_type": "stream",
          "name": "stdout",
          "text": [
            "Epoch 262/500 Loss per sample: 112.7150 Recon Loss: 30.8030 KL Loss: 22.3184\n"
          ]
        },
        {
          "output_type": "stream",
          "name": "stderr",
          "text": []
        },
        {
          "output_type": "stream",
          "name": "stdout",
          "text": [
            "Epoch 263/500 Loss per sample: 112.5870 Recon Loss: 27.9562 KL Loss: 27.2266\n"
          ]
        },
        {
          "output_type": "stream",
          "name": "stderr",
          "text": []
        },
        {
          "output_type": "stream",
          "name": "stdout",
          "text": [
            "Epoch 264/500 Loss per sample: 112.5445 Recon Loss: 28.3014 KL Loss: 23.2337\n"
          ]
        },
        {
          "output_type": "stream",
          "name": "stderr",
          "text": []
        },
        {
          "output_type": "stream",
          "name": "stdout",
          "text": [
            "Epoch 265/500 Loss per sample: 112.5004 Recon Loss: 26.6897 KL Loss: 20.8949\n"
          ]
        },
        {
          "output_type": "stream",
          "name": "stderr",
          "text": []
        },
        {
          "output_type": "stream",
          "name": "stdout",
          "text": [
            "Epoch 266/500 Loss per sample: 112.5605 Recon Loss: 30.5231 KL Loss: 19.9019\n"
          ]
        },
        {
          "output_type": "stream",
          "name": "stderr",
          "text": []
        },
        {
          "output_type": "stream",
          "name": "stdout",
          "text": [
            "Epoch 267/500 Loss per sample: 112.6657 Recon Loss: 27.7870 KL Loss: 24.4582\n"
          ]
        },
        {
          "output_type": "stream",
          "name": "stderr",
          "text": []
        },
        {
          "output_type": "stream",
          "name": "stdout",
          "text": [
            "Epoch 268/500 Loss per sample: 112.5819 Recon Loss: 30.1971 KL Loss: 21.3821\n"
          ]
        },
        {
          "output_type": "stream",
          "name": "stderr",
          "text": []
        },
        {
          "output_type": "stream",
          "name": "stdout",
          "text": [
            "Epoch 269/500 Loss per sample: 112.3578 Recon Loss: 26.6258 KL Loss: 23.9864\n"
          ]
        },
        {
          "output_type": "stream",
          "name": "stderr",
          "text": []
        },
        {
          "output_type": "stream",
          "name": "stdout",
          "text": [
            "Epoch 270/500 Loss per sample: 112.5342 Recon Loss: 29.2392 KL Loss: 23.3166\n"
          ]
        },
        {
          "output_type": "stream",
          "name": "stderr",
          "text": []
        },
        {
          "output_type": "stream",
          "name": "stdout",
          "text": [
            "Epoch 271/500 Loss per sample: 112.4843 Recon Loss: 28.1301 KL Loss: 22.0612\n"
          ]
        },
        {
          "output_type": "stream",
          "name": "stderr",
          "text": []
        },
        {
          "output_type": "stream",
          "name": "stdout",
          "text": [
            "Epoch 272/500 Loss per sample: 112.3996 Recon Loss: 28.1173 KL Loss: 23.6056\n"
          ]
        },
        {
          "output_type": "stream",
          "name": "stderr",
          "text": []
        },
        {
          "output_type": "stream",
          "name": "stdout",
          "text": [
            "Epoch 273/500 Loss per sample: 112.6103 Recon Loss: 29.1855 KL Loss: 21.4594\n"
          ]
        },
        {
          "output_type": "stream",
          "name": "stderr",
          "text": []
        },
        {
          "output_type": "stream",
          "name": "stdout",
          "text": [
            "Epoch 274/500 Loss per sample: 112.4676 Recon Loss: 28.5937 KL Loss: 24.2377\n"
          ]
        },
        {
          "output_type": "stream",
          "name": "stderr",
          "text": []
        },
        {
          "output_type": "stream",
          "name": "stdout",
          "text": [
            "Epoch 275/500 Loss per sample: 112.5844 Recon Loss: 29.4537 KL Loss: 25.4795\n"
          ]
        },
        {
          "output_type": "stream",
          "name": "stderr",
          "text": []
        },
        {
          "output_type": "stream",
          "name": "stdout",
          "text": [
            "Epoch 276/500 Loss per sample: 112.4641 Recon Loss: 27.5467 KL Loss: 21.5781\n"
          ]
        },
        {
          "output_type": "stream",
          "name": "stderr",
          "text": []
        },
        {
          "output_type": "stream",
          "name": "stdout",
          "text": [
            "Epoch 277/500 Loss per sample: 112.4312 Recon Loss: 30.1267 KL Loss: 20.7121\n"
          ]
        },
        {
          "output_type": "stream",
          "name": "stderr",
          "text": []
        },
        {
          "output_type": "stream",
          "name": "stdout",
          "text": [
            "Epoch 278/500 Loss per sample: 112.3231 Recon Loss: 30.7527 KL Loss: 23.8556\n"
          ]
        },
        {
          "output_type": "stream",
          "name": "stderr",
          "text": []
        },
        {
          "output_type": "stream",
          "name": "stdout",
          "text": [
            "Epoch 279/500 Loss per sample: 112.3562 Recon Loss: 28.8517 KL Loss: 26.8794\n"
          ]
        },
        {
          "output_type": "stream",
          "name": "stderr",
          "text": []
        },
        {
          "output_type": "stream",
          "name": "stdout",
          "text": [
            "Epoch 280/500 Loss per sample: 112.3934 Recon Loss: 26.3254 KL Loss: 23.6819\n"
          ]
        },
        {
          "output_type": "stream",
          "name": "stderr",
          "text": []
        },
        {
          "output_type": "stream",
          "name": "stdout",
          "text": [
            "Epoch 281/500 Loss per sample: 112.4610 Recon Loss: 29.4949 KL Loss: 23.8230\n"
          ]
        },
        {
          "output_type": "stream",
          "name": "stderr",
          "text": []
        },
        {
          "output_type": "stream",
          "name": "stdout",
          "text": [
            "Epoch 282/500 Loss per sample: 112.2592 Recon Loss: 28.7415 KL Loss: 26.2126\n"
          ]
        },
        {
          "output_type": "stream",
          "name": "stderr",
          "text": []
        },
        {
          "output_type": "stream",
          "name": "stdout",
          "text": [
            "Epoch 283/500 Loss per sample: 112.2797 Recon Loss: 27.0565 KL Loss: 24.3789\n"
          ]
        },
        {
          "output_type": "stream",
          "name": "stderr",
          "text": []
        },
        {
          "output_type": "stream",
          "name": "stdout",
          "text": [
            "Epoch 284/500 Loss per sample: 112.3160 Recon Loss: 28.5157 KL Loss: 23.0060\n"
          ]
        },
        {
          "output_type": "stream",
          "name": "stderr",
          "text": []
        },
        {
          "output_type": "stream",
          "name": "stdout",
          "text": [
            "Epoch 285/500 Loss per sample: 112.2015 Recon Loss: 26.1791 KL Loss: 28.0848\n"
          ]
        },
        {
          "output_type": "stream",
          "name": "stderr",
          "text": []
        },
        {
          "output_type": "stream",
          "name": "stdout",
          "text": [
            "Epoch 286/500 Loss per sample: 112.2536 Recon Loss: 27.9302 KL Loss: 21.5052\n"
          ]
        },
        {
          "output_type": "stream",
          "name": "stderr",
          "text": []
        },
        {
          "output_type": "stream",
          "name": "stdout",
          "text": [
            "Epoch 287/500 Loss per sample: 112.1983 Recon Loss: 26.2551 KL Loss: 25.0100\n"
          ]
        },
        {
          "output_type": "stream",
          "name": "stderr",
          "text": []
        },
        {
          "output_type": "stream",
          "name": "stdout",
          "text": [
            "Epoch 288/500 Loss per sample: 112.2796 Recon Loss: 29.5002 KL Loss: 23.1548\n"
          ]
        },
        {
          "output_type": "stream",
          "name": "stderr",
          "text": []
        },
        {
          "output_type": "stream",
          "name": "stdout",
          "text": [
            "Epoch 289/500 Loss per sample: 112.2911 Recon Loss: 30.5961 KL Loss: 22.6184\n"
          ]
        },
        {
          "output_type": "stream",
          "name": "stderr",
          "text": []
        },
        {
          "output_type": "stream",
          "name": "stdout",
          "text": [
            "Epoch 290/500 Loss per sample: 112.3240 Recon Loss: 29.4508 KL Loss: 26.3695\n"
          ]
        },
        {
          "output_type": "stream",
          "name": "stderr",
          "text": []
        },
        {
          "output_type": "stream",
          "name": "stdout",
          "text": [
            "Epoch 291/500 Loss per sample: 112.2988 Recon Loss: 29.2531 KL Loss: 22.7553\n"
          ]
        },
        {
          "output_type": "stream",
          "name": "stderr",
          "text": []
        },
        {
          "output_type": "stream",
          "name": "stdout",
          "text": [
            "Epoch 292/500 Loss per sample: 112.2252 Recon Loss: 28.8602 KL Loss: 24.7251\n"
          ]
        },
        {
          "output_type": "stream",
          "name": "stderr",
          "text": []
        },
        {
          "output_type": "stream",
          "name": "stdout",
          "text": [
            "Epoch 293/500 Loss per sample: 112.1445 Recon Loss: 29.8371 KL Loss: 22.2886\n"
          ]
        },
        {
          "output_type": "stream",
          "name": "stderr",
          "text": []
        },
        {
          "output_type": "stream",
          "name": "stdout",
          "text": [
            "Epoch 294/500 Loss per sample: 112.1063 Recon Loss: 29.1543 KL Loss: 25.1358\n"
          ]
        },
        {
          "output_type": "stream",
          "name": "stderr",
          "text": []
        },
        {
          "output_type": "stream",
          "name": "stdout",
          "text": [
            "Epoch 295/500 Loss per sample: 112.2661 Recon Loss: 30.9710 KL Loss: 20.3097\n"
          ]
        },
        {
          "output_type": "stream",
          "name": "stderr",
          "text": []
        },
        {
          "output_type": "stream",
          "name": "stdout",
          "text": [
            "Epoch 296/500 Loss per sample: 112.1778 Recon Loss: 31.5910 KL Loss: 20.3731\n"
          ]
        },
        {
          "output_type": "stream",
          "name": "stderr",
          "text": []
        },
        {
          "output_type": "stream",
          "name": "stdout",
          "text": [
            "Epoch 297/500 Loss per sample: 112.2139 Recon Loss: 28.0723 KL Loss: 26.2017\n"
          ]
        },
        {
          "output_type": "stream",
          "name": "stderr",
          "text": []
        },
        {
          "output_type": "stream",
          "name": "stdout",
          "text": [
            "Epoch 298/500 Loss per sample: 112.0818 Recon Loss: 29.7214 KL Loss: 25.0081\n"
          ]
        },
        {
          "output_type": "stream",
          "name": "stderr",
          "text": []
        },
        {
          "output_type": "stream",
          "name": "stdout",
          "text": [
            "Epoch 299/500 Loss per sample: 112.1239 Recon Loss: 28.9508 KL Loss: 22.5726\n"
          ]
        },
        {
          "output_type": "stream",
          "name": "stderr",
          "text": []
        },
        {
          "output_type": "stream",
          "name": "stdout",
          "text": [
            "Epoch 300/500 Loss per sample: 112.0596 Recon Loss: 28.1028 KL Loss: 24.0069\n"
          ]
        },
        {
          "output_type": "stream",
          "name": "stderr",
          "text": []
        },
        {
          "output_type": "stream",
          "name": "stdout",
          "text": [
            "Epoch 301/500 Loss per sample: 112.1756 Recon Loss: 28.7952 KL Loss: 24.3072\n"
          ]
        },
        {
          "output_type": "stream",
          "name": "stderr",
          "text": []
        },
        {
          "output_type": "stream",
          "name": "stdout",
          "text": [
            "Epoch 302/500 Loss per sample: 112.2494 Recon Loss: 29.0368 KL Loss: 20.6060\n"
          ]
        },
        {
          "output_type": "stream",
          "name": "stderr",
          "text": []
        },
        {
          "output_type": "stream",
          "name": "stdout",
          "text": [
            "Epoch 303/500 Loss per sample: 112.1007 Recon Loss: 30.7621 KL Loss: 20.5688\n"
          ]
        },
        {
          "output_type": "stream",
          "name": "stderr",
          "text": []
        },
        {
          "output_type": "stream",
          "name": "stdout",
          "text": [
            "Epoch 304/500 Loss per sample: 112.0430 Recon Loss: 28.2406 KL Loss: 22.4467\n"
          ]
        },
        {
          "output_type": "stream",
          "name": "stderr",
          "text": []
        },
        {
          "output_type": "stream",
          "name": "stdout",
          "text": [
            "Epoch 305/500 Loss per sample: 111.9982 Recon Loss: 26.6173 KL Loss: 28.5489\n"
          ]
        },
        {
          "output_type": "stream",
          "name": "stderr",
          "text": []
        },
        {
          "output_type": "stream",
          "name": "stdout",
          "text": [
            "Epoch 306/500 Loss per sample: 112.1790 Recon Loss: 29.0586 KL Loss: 21.1706\n"
          ]
        },
        {
          "output_type": "stream",
          "name": "stderr",
          "text": []
        },
        {
          "output_type": "stream",
          "name": "stdout",
          "text": [
            "Epoch 307/500 Loss per sample: 112.0074 Recon Loss: 29.0728 KL Loss: 22.3315\n"
          ]
        },
        {
          "output_type": "stream",
          "name": "stderr",
          "text": []
        },
        {
          "output_type": "stream",
          "name": "stdout",
          "text": [
            "Epoch 308/500 Loss per sample: 112.1109 Recon Loss: 33.8653 KL Loss: 19.7197\n"
          ]
        },
        {
          "output_type": "stream",
          "name": "stderr",
          "text": []
        },
        {
          "output_type": "stream",
          "name": "stdout",
          "text": [
            "Epoch 309/500 Loss per sample: 112.0390 Recon Loss: 28.3602 KL Loss: 25.9188\n"
          ]
        },
        {
          "output_type": "stream",
          "name": "stderr",
          "text": []
        },
        {
          "output_type": "stream",
          "name": "stdout",
          "text": [
            "Epoch 310/500 Loss per sample: 112.0565 Recon Loss: 28.7486 KL Loss: 26.9322\n"
          ]
        },
        {
          "output_type": "stream",
          "name": "stderr",
          "text": []
        },
        {
          "output_type": "stream",
          "name": "stdout",
          "text": [
            "Epoch 311/500 Loss per sample: 112.0531 Recon Loss: 30.3900 KL Loss: 21.4317\n"
          ]
        },
        {
          "output_type": "stream",
          "name": "stderr",
          "text": []
        },
        {
          "output_type": "stream",
          "name": "stdout",
          "text": [
            "Epoch 312/500 Loss per sample: 111.9212 Recon Loss: 28.0207 KL Loss: 25.1734\n"
          ]
        },
        {
          "output_type": "stream",
          "name": "stderr",
          "text": []
        },
        {
          "output_type": "stream",
          "name": "stdout",
          "text": [
            "Epoch 313/500 Loss per sample: 111.8376 Recon Loss: 27.3442 KL Loss: 24.8217\n"
          ]
        },
        {
          "output_type": "stream",
          "name": "stderr",
          "text": []
        },
        {
          "output_type": "stream",
          "name": "stdout",
          "text": [
            "Epoch 314/500 Loss per sample: 111.8714 Recon Loss: 26.6865 KL Loss: 24.2216\n"
          ]
        },
        {
          "output_type": "stream",
          "name": "stderr",
          "text": []
        },
        {
          "output_type": "stream",
          "name": "stdout",
          "text": [
            "Epoch 315/500 Loss per sample: 111.9916 Recon Loss: 29.3056 KL Loss: 22.6014\n"
          ]
        },
        {
          "output_type": "stream",
          "name": "stderr",
          "text": []
        },
        {
          "output_type": "stream",
          "name": "stdout",
          "text": [
            "Epoch 316/500 Loss per sample: 111.9745 Recon Loss: 28.0313 KL Loss: 22.4123\n"
          ]
        },
        {
          "output_type": "stream",
          "name": "stderr",
          "text": []
        },
        {
          "output_type": "stream",
          "name": "stdout",
          "text": [
            "Epoch 317/500 Loss per sample: 111.9155 Recon Loss: 28.8951 KL Loss: 24.6392\n"
          ]
        },
        {
          "output_type": "stream",
          "name": "stderr",
          "text": []
        },
        {
          "output_type": "stream",
          "name": "stdout",
          "text": [
            "Epoch 318/500 Loss per sample: 112.0635 Recon Loss: 29.4536 KL Loss: 24.9878\n"
          ]
        },
        {
          "output_type": "stream",
          "name": "stderr",
          "text": []
        },
        {
          "output_type": "stream",
          "name": "stdout",
          "text": [
            "Epoch 319/500 Loss per sample: 111.8270 Recon Loss: 28.7257 KL Loss: 21.8961\n"
          ]
        },
        {
          "output_type": "stream",
          "name": "stderr",
          "text": []
        },
        {
          "output_type": "stream",
          "name": "stdout",
          "text": [
            "Epoch 320/500 Loss per sample: 111.7945 Recon Loss: 28.1822 KL Loss: 21.2188\n"
          ]
        },
        {
          "output_type": "stream",
          "name": "stderr",
          "text": []
        },
        {
          "output_type": "stream",
          "name": "stdout",
          "text": [
            "Epoch 321/500 Loss per sample: 111.9047 Recon Loss: 28.6852 KL Loss: 24.5211\n"
          ]
        },
        {
          "output_type": "stream",
          "name": "stderr",
          "text": []
        },
        {
          "output_type": "stream",
          "name": "stdout",
          "text": [
            "Epoch 322/500 Loss per sample: 112.0412 Recon Loss: 30.0809 KL Loss: 25.3034\n"
          ]
        },
        {
          "output_type": "stream",
          "name": "stderr",
          "text": []
        },
        {
          "output_type": "stream",
          "name": "stdout",
          "text": [
            "Epoch 323/500 Loss per sample: 111.8173 Recon Loss: 30.9775 KL Loss: 25.2395\n"
          ]
        },
        {
          "output_type": "stream",
          "name": "stderr",
          "text": []
        },
        {
          "output_type": "stream",
          "name": "stdout",
          "text": [
            "Epoch 324/500 Loss per sample: 112.0017 Recon Loss: 27.9933 KL Loss: 27.9342\n"
          ]
        },
        {
          "output_type": "stream",
          "name": "stderr",
          "text": []
        },
        {
          "output_type": "stream",
          "name": "stdout",
          "text": [
            "Epoch 325/500 Loss per sample: 111.7773 Recon Loss: 26.9334 KL Loss: 23.7042\n"
          ]
        },
        {
          "output_type": "stream",
          "name": "stderr",
          "text": []
        },
        {
          "output_type": "stream",
          "name": "stdout",
          "text": [
            "Epoch 326/500 Loss per sample: 111.9126 Recon Loss: 30.5303 KL Loss: 26.3433\n"
          ]
        },
        {
          "output_type": "stream",
          "name": "stderr",
          "text": []
        },
        {
          "output_type": "stream",
          "name": "stdout",
          "text": [
            "Epoch 327/500 Loss per sample: 111.7117 Recon Loss: 29.5452 KL Loss: 24.7359\n"
          ]
        },
        {
          "output_type": "stream",
          "name": "stderr",
          "text": []
        },
        {
          "output_type": "stream",
          "name": "stdout",
          "text": [
            "Epoch 328/500 Loss per sample: 111.9624 Recon Loss: 31.2470 KL Loss: 20.2844\n"
          ]
        },
        {
          "output_type": "stream",
          "name": "stderr",
          "text": []
        },
        {
          "output_type": "stream",
          "name": "stdout",
          "text": [
            "Epoch 329/500 Loss per sample: 111.9350 Recon Loss: 28.8372 KL Loss: 24.6563\n"
          ]
        },
        {
          "output_type": "stream",
          "name": "stderr",
          "text": []
        },
        {
          "output_type": "stream",
          "name": "stdout",
          "text": [
            "Epoch 330/500 Loss per sample: 111.7970 Recon Loss: 27.9172 KL Loss: 25.5637\n"
          ]
        },
        {
          "output_type": "stream",
          "name": "stderr",
          "text": []
        },
        {
          "output_type": "stream",
          "name": "stdout",
          "text": [
            "Epoch 331/500 Loss per sample: 111.7138 Recon Loss: 29.3677 KL Loss: 24.3379\n"
          ]
        },
        {
          "output_type": "stream",
          "name": "stderr",
          "text": []
        },
        {
          "output_type": "stream",
          "name": "stdout",
          "text": [
            "Epoch 332/500 Loss per sample: 111.6588 Recon Loss: 28.5861 KL Loss: 26.6765\n"
          ]
        },
        {
          "output_type": "stream",
          "name": "stderr",
          "text": []
        },
        {
          "output_type": "stream",
          "name": "stdout",
          "text": [
            "Epoch 333/500 Loss per sample: 111.6317 Recon Loss: 27.8593 KL Loss: 26.3597\n"
          ]
        },
        {
          "output_type": "stream",
          "name": "stderr",
          "text": []
        },
        {
          "output_type": "stream",
          "name": "stdout",
          "text": [
            "Epoch 334/500 Loss per sample: 111.6577 Recon Loss: 28.8684 KL Loss: 21.9356\n"
          ]
        },
        {
          "output_type": "stream",
          "name": "stderr",
          "text": []
        },
        {
          "output_type": "stream",
          "name": "stdout",
          "text": [
            "Epoch 335/500 Loss per sample: 111.7047 Recon Loss: 28.6262 KL Loss: 23.5911\n"
          ]
        },
        {
          "output_type": "stream",
          "name": "stderr",
          "text": []
        },
        {
          "output_type": "stream",
          "name": "stdout",
          "text": [
            "Epoch 336/500 Loss per sample: 111.6656 Recon Loss: 25.8453 KL Loss: 27.1869\n"
          ]
        },
        {
          "output_type": "stream",
          "name": "stderr",
          "text": []
        },
        {
          "output_type": "stream",
          "name": "stdout",
          "text": [
            "Epoch 337/500 Loss per sample: 111.7175 Recon Loss: 28.7640 KL Loss: 23.8614\n"
          ]
        },
        {
          "output_type": "stream",
          "name": "stderr",
          "text": []
        },
        {
          "output_type": "stream",
          "name": "stdout",
          "text": [
            "Epoch 338/500 Loss per sample: 111.7514 Recon Loss: 28.7548 KL Loss: 27.8875\n"
          ]
        },
        {
          "output_type": "stream",
          "name": "stderr",
          "text": []
        },
        {
          "output_type": "stream",
          "name": "stdout",
          "text": [
            "Epoch 339/500 Loss per sample: 111.8530 Recon Loss: 27.0744 KL Loss: 28.3307\n"
          ]
        },
        {
          "output_type": "stream",
          "name": "stderr",
          "text": []
        },
        {
          "output_type": "stream",
          "name": "stdout",
          "text": [
            "Epoch 340/500 Loss per sample: 111.5167 Recon Loss: 29.2051 KL Loss: 24.2979\n"
          ]
        },
        {
          "output_type": "stream",
          "name": "stderr",
          "text": []
        },
        {
          "output_type": "stream",
          "name": "stdout",
          "text": [
            "Epoch 341/500 Loss per sample: 111.7663 Recon Loss: 29.6763 KL Loss: 22.8022\n"
          ]
        },
        {
          "output_type": "stream",
          "name": "stderr",
          "text": []
        },
        {
          "output_type": "stream",
          "name": "stdout",
          "text": [
            "Epoch 342/500 Loss per sample: 111.7017 Recon Loss: 28.8714 KL Loss: 24.7480\n"
          ]
        },
        {
          "output_type": "stream",
          "name": "stderr",
          "text": []
        },
        {
          "output_type": "stream",
          "name": "stdout",
          "text": [
            "Epoch 343/500 Loss per sample: 111.7784 Recon Loss: 27.8594 KL Loss: 26.6876\n"
          ]
        },
        {
          "output_type": "stream",
          "name": "stderr",
          "text": []
        },
        {
          "output_type": "stream",
          "name": "stdout",
          "text": [
            "Epoch 344/500 Loss per sample: 111.7386 Recon Loss: 30.1251 KL Loss: 25.1148\n"
          ]
        },
        {
          "output_type": "stream",
          "name": "stderr",
          "text": []
        },
        {
          "output_type": "stream",
          "name": "stdout",
          "text": [
            "Epoch 345/500 Loss per sample: 111.6453 Recon Loss: 30.7290 KL Loss: 20.3644\n"
          ]
        },
        {
          "output_type": "stream",
          "name": "stderr",
          "text": []
        },
        {
          "output_type": "stream",
          "name": "stdout",
          "text": [
            "Epoch 346/500 Loss per sample: 111.7137 Recon Loss: 27.9111 KL Loss: 25.2787\n"
          ]
        },
        {
          "output_type": "stream",
          "name": "stderr",
          "text": []
        },
        {
          "output_type": "stream",
          "name": "stdout",
          "text": [
            "Epoch 347/500 Loss per sample: 111.5522 Recon Loss: 29.1992 KL Loss: 25.2869\n"
          ]
        },
        {
          "output_type": "stream",
          "name": "stderr",
          "text": []
        },
        {
          "output_type": "stream",
          "name": "stdout",
          "text": [
            "Epoch 348/500 Loss per sample: 111.7032 Recon Loss: 28.9327 KL Loss: 25.8041\n"
          ]
        },
        {
          "output_type": "stream",
          "name": "stderr",
          "text": []
        },
        {
          "output_type": "stream",
          "name": "stdout",
          "text": [
            "Epoch 349/500 Loss per sample: 111.7780 Recon Loss: 28.8342 KL Loss: 23.9550\n"
          ]
        },
        {
          "output_type": "stream",
          "name": "stderr",
          "text": []
        },
        {
          "output_type": "stream",
          "name": "stdout",
          "text": [
            "Epoch 350/500 Loss per sample: 111.5872 Recon Loss: 28.7845 KL Loss: 24.5216\n"
          ]
        },
        {
          "output_type": "stream",
          "name": "stderr",
          "text": []
        },
        {
          "output_type": "stream",
          "name": "stdout",
          "text": [
            "Epoch 351/500 Loss per sample: 111.6597 Recon Loss: 28.1950 KL Loss: 27.3369\n"
          ]
        },
        {
          "output_type": "stream",
          "name": "stderr",
          "text": []
        },
        {
          "output_type": "stream",
          "name": "stdout",
          "text": [
            "Epoch 352/500 Loss per sample: 111.4815 Recon Loss: 27.3636 KL Loss: 28.4009\n"
          ]
        },
        {
          "output_type": "stream",
          "name": "stderr",
          "text": []
        },
        {
          "output_type": "stream",
          "name": "stdout",
          "text": [
            "Epoch 353/500 Loss per sample: 111.5963 Recon Loss: 31.3264 KL Loss: 24.5634\n"
          ]
        },
        {
          "output_type": "stream",
          "name": "stderr",
          "text": []
        },
        {
          "output_type": "stream",
          "name": "stdout",
          "text": [
            "Epoch 354/500 Loss per sample: 111.5884 Recon Loss: 27.0990 KL Loss: 25.8680\n"
          ]
        },
        {
          "output_type": "stream",
          "name": "stderr",
          "text": []
        },
        {
          "output_type": "stream",
          "name": "stdout",
          "text": [
            "Epoch 355/500 Loss per sample: 111.4992 Recon Loss: 28.8493 KL Loss: 20.8715\n"
          ]
        },
        {
          "output_type": "stream",
          "name": "stderr",
          "text": []
        },
        {
          "output_type": "stream",
          "name": "stdout",
          "text": [
            "Epoch 356/500 Loss per sample: 111.5876 Recon Loss: 30.3488 KL Loss: 24.1646\n"
          ]
        },
        {
          "output_type": "stream",
          "name": "stderr",
          "text": []
        },
        {
          "output_type": "stream",
          "name": "stdout",
          "text": [
            "Epoch 357/500 Loss per sample: 111.5401 Recon Loss: 28.9143 KL Loss: 24.3573\n"
          ]
        },
        {
          "output_type": "stream",
          "name": "stderr",
          "text": []
        },
        {
          "output_type": "stream",
          "name": "stdout",
          "text": [
            "Epoch 358/500 Loss per sample: 111.5307 Recon Loss: 28.8609 KL Loss: 25.8318\n"
          ]
        },
        {
          "output_type": "stream",
          "name": "stderr",
          "text": []
        },
        {
          "output_type": "stream",
          "name": "stdout",
          "text": [
            "Epoch 359/500 Loss per sample: 111.4521 Recon Loss: 27.9429 KL Loss: 24.7657\n"
          ]
        },
        {
          "output_type": "stream",
          "name": "stderr",
          "text": []
        },
        {
          "output_type": "stream",
          "name": "stdout",
          "text": [
            "Epoch 360/500 Loss per sample: 111.4625 Recon Loss: 28.0534 KL Loss: 25.9865\n"
          ]
        },
        {
          "output_type": "stream",
          "name": "stderr",
          "text": []
        },
        {
          "output_type": "stream",
          "name": "stdout",
          "text": [
            "Epoch 361/500 Loss per sample: 111.5235 Recon Loss: 27.4043 KL Loss: 24.4081\n"
          ]
        },
        {
          "output_type": "stream",
          "name": "stderr",
          "text": []
        },
        {
          "output_type": "stream",
          "name": "stdout",
          "text": [
            "Epoch 362/500 Loss per sample: 111.3581 Recon Loss: 27.8444 KL Loss: 23.9866\n"
          ]
        },
        {
          "output_type": "stream",
          "name": "stderr",
          "text": []
        },
        {
          "output_type": "stream",
          "name": "stdout",
          "text": [
            "Epoch 363/500 Loss per sample: 111.4468 Recon Loss: 30.2594 KL Loss: 24.7764\n"
          ]
        },
        {
          "output_type": "stream",
          "name": "stderr",
          "text": []
        },
        {
          "output_type": "stream",
          "name": "stdout",
          "text": [
            "Epoch 364/500 Loss per sample: 111.5057 Recon Loss: 27.8241 KL Loss: 24.1005\n"
          ]
        },
        {
          "output_type": "stream",
          "name": "stderr",
          "text": []
        },
        {
          "output_type": "stream",
          "name": "stdout",
          "text": [
            "Epoch 365/500 Loss per sample: 111.5833 Recon Loss: 27.5036 KL Loss: 21.9644\n"
          ]
        },
        {
          "output_type": "stream",
          "name": "stderr",
          "text": []
        },
        {
          "output_type": "stream",
          "name": "stdout",
          "text": [
            "Epoch 366/500 Loss per sample: 111.4577 Recon Loss: 29.9207 KL Loss: 23.8306\n"
          ]
        },
        {
          "output_type": "stream",
          "name": "stderr",
          "text": []
        },
        {
          "output_type": "stream",
          "name": "stdout",
          "text": [
            "Epoch 367/500 Loss per sample: 111.3674 Recon Loss: 29.9353 KL Loss: 23.5931\n"
          ]
        },
        {
          "output_type": "stream",
          "name": "stderr",
          "text": []
        },
        {
          "output_type": "stream",
          "name": "stdout",
          "text": [
            "Epoch 368/500 Loss per sample: 111.5371 Recon Loss: 27.7126 KL Loss: 23.3225\n"
          ]
        },
        {
          "output_type": "stream",
          "name": "stderr",
          "text": []
        },
        {
          "output_type": "stream",
          "name": "stdout",
          "text": [
            "Epoch 369/500 Loss per sample: 111.4312 Recon Loss: 28.5712 KL Loss: 21.3082\n"
          ]
        },
        {
          "output_type": "stream",
          "name": "stderr",
          "text": []
        },
        {
          "output_type": "stream",
          "name": "stdout",
          "text": [
            "Epoch 370/500 Loss per sample: 111.4519 Recon Loss: 30.9040 KL Loss: 24.8872\n"
          ]
        },
        {
          "output_type": "stream",
          "name": "stderr",
          "text": []
        },
        {
          "output_type": "stream",
          "name": "stdout",
          "text": [
            "Epoch 371/500 Loss per sample: 111.4382 Recon Loss: 28.8944 KL Loss: 23.0803\n"
          ]
        },
        {
          "output_type": "stream",
          "name": "stderr",
          "text": []
        },
        {
          "output_type": "stream",
          "name": "stdout",
          "text": [
            "Epoch 372/500 Loss per sample: 111.3893 Recon Loss: 28.0854 KL Loss: 24.8198\n"
          ]
        },
        {
          "output_type": "stream",
          "name": "stderr",
          "text": []
        },
        {
          "output_type": "stream",
          "name": "stdout",
          "text": [
            "Epoch 373/500 Loss per sample: 111.2593 Recon Loss: 27.4714 KL Loss: 23.3393\n"
          ]
        },
        {
          "output_type": "stream",
          "name": "stderr",
          "text": []
        },
        {
          "output_type": "stream",
          "name": "stdout",
          "text": [
            "Epoch 374/500 Loss per sample: 111.3132 Recon Loss: 30.1969 KL Loss: 24.2984\n"
          ]
        },
        {
          "output_type": "stream",
          "name": "stderr",
          "text": []
        },
        {
          "output_type": "stream",
          "name": "stdout",
          "text": [
            "Epoch 375/500 Loss per sample: 111.3808 Recon Loss: 30.9871 KL Loss: 23.7748\n"
          ]
        },
        {
          "output_type": "stream",
          "name": "stderr",
          "text": []
        },
        {
          "output_type": "stream",
          "name": "stdout",
          "text": [
            "Epoch 376/500 Loss per sample: 111.3610 Recon Loss: 26.0211 KL Loss: 24.8738\n"
          ]
        },
        {
          "output_type": "stream",
          "name": "stderr",
          "text": []
        },
        {
          "output_type": "stream",
          "name": "stdout",
          "text": [
            "Epoch 377/500 Loss per sample: 111.3253 Recon Loss: 31.4134 KL Loss: 25.3718\n"
          ]
        },
        {
          "output_type": "stream",
          "name": "stderr",
          "text": []
        },
        {
          "output_type": "stream",
          "name": "stdout",
          "text": [
            "Epoch 378/500 Loss per sample: 111.2789 Recon Loss: 26.6951 KL Loss: 25.6675\n"
          ]
        },
        {
          "output_type": "stream",
          "name": "stderr",
          "text": []
        },
        {
          "output_type": "stream",
          "name": "stdout",
          "text": [
            "Epoch 379/500 Loss per sample: 111.3024 Recon Loss: 26.7282 KL Loss: 24.2702\n"
          ]
        },
        {
          "output_type": "stream",
          "name": "stderr",
          "text": []
        },
        {
          "output_type": "stream",
          "name": "stdout",
          "text": [
            "Epoch 380/500 Loss per sample: 111.3597 Recon Loss: 26.8756 KL Loss: 25.7453\n"
          ]
        },
        {
          "output_type": "stream",
          "name": "stderr",
          "text": []
        },
        {
          "output_type": "stream",
          "name": "stdout",
          "text": [
            "Epoch 381/500 Loss per sample: 111.4094 Recon Loss: 28.4268 KL Loss: 25.1864\n"
          ]
        },
        {
          "output_type": "stream",
          "name": "stderr",
          "text": []
        },
        {
          "output_type": "stream",
          "name": "stdout",
          "text": [
            "Epoch 382/500 Loss per sample: 111.2475 Recon Loss: 26.4665 KL Loss: 26.6517\n"
          ]
        },
        {
          "output_type": "stream",
          "name": "stderr",
          "text": []
        },
        {
          "output_type": "stream",
          "name": "stdout",
          "text": [
            "Epoch 383/500 Loss per sample: 111.2682 Recon Loss: 26.5435 KL Loss: 32.6977\n"
          ]
        },
        {
          "output_type": "stream",
          "name": "stderr",
          "text": []
        },
        {
          "output_type": "stream",
          "name": "stdout",
          "text": [
            "Epoch 384/500 Loss per sample: 111.3214 Recon Loss: 29.3694 KL Loss: 22.0909\n"
          ]
        },
        {
          "output_type": "stream",
          "name": "stderr",
          "text": []
        },
        {
          "output_type": "stream",
          "name": "stdout",
          "text": [
            "Epoch 385/500 Loss per sample: 111.1890 Recon Loss: 26.6562 KL Loss: 26.4677\n"
          ]
        },
        {
          "output_type": "stream",
          "name": "stderr",
          "text": []
        },
        {
          "output_type": "stream",
          "name": "stdout",
          "text": [
            "Epoch 386/500 Loss per sample: 111.3733 Recon Loss: 29.0650 KL Loss: 23.1472\n"
          ]
        },
        {
          "output_type": "stream",
          "name": "stderr",
          "text": []
        },
        {
          "output_type": "stream",
          "name": "stdout",
          "text": [
            "Epoch 387/500 Loss per sample: 111.3298 Recon Loss: 29.2118 KL Loss: 26.3717\n"
          ]
        },
        {
          "output_type": "stream",
          "name": "stderr",
          "text": []
        },
        {
          "output_type": "stream",
          "name": "stdout",
          "text": [
            "Epoch 388/500 Loss per sample: 111.1659 Recon Loss: 25.4126 KL Loss: 27.7418\n"
          ]
        },
        {
          "output_type": "stream",
          "name": "stderr",
          "text": []
        },
        {
          "output_type": "stream",
          "name": "stdout",
          "text": [
            "Epoch 389/500 Loss per sample: 111.1098 Recon Loss: 28.4961 KL Loss: 25.2014\n"
          ]
        },
        {
          "output_type": "stream",
          "name": "stderr",
          "text": []
        },
        {
          "output_type": "stream",
          "name": "stdout",
          "text": [
            "Epoch 390/500 Loss per sample: 111.2158 Recon Loss: 28.6832 KL Loss: 24.6849\n"
          ]
        },
        {
          "output_type": "stream",
          "name": "stderr",
          "text": []
        },
        {
          "output_type": "stream",
          "name": "stdout",
          "text": [
            "Epoch 391/500 Loss per sample: 111.1019 Recon Loss: 28.5388 KL Loss: 26.1315\n"
          ]
        },
        {
          "output_type": "stream",
          "name": "stderr",
          "text": []
        },
        {
          "output_type": "stream",
          "name": "stdout",
          "text": [
            "Epoch 392/500 Loss per sample: 111.3720 Recon Loss: 28.6178 KL Loss: 24.6772\n"
          ]
        },
        {
          "output_type": "stream",
          "name": "stderr",
          "text": []
        },
        {
          "output_type": "stream",
          "name": "stdout",
          "text": [
            "Epoch 393/500 Loss per sample: 111.1262 Recon Loss: 27.0413 KL Loss: 25.5843\n"
          ]
        },
        {
          "output_type": "stream",
          "name": "stderr",
          "text": []
        },
        {
          "output_type": "stream",
          "name": "stdout",
          "text": [
            "Epoch 394/500 Loss per sample: 111.1398 Recon Loss: 27.9718 KL Loss: 27.0523\n"
          ]
        },
        {
          "output_type": "stream",
          "name": "stderr",
          "text": []
        },
        {
          "output_type": "stream",
          "name": "stdout",
          "text": [
            "Epoch 395/500 Loss per sample: 111.1826 Recon Loss: 25.9469 KL Loss: 25.4736\n"
          ]
        },
        {
          "output_type": "stream",
          "name": "stderr",
          "text": []
        },
        {
          "output_type": "stream",
          "name": "stdout",
          "text": [
            "Epoch 396/500 Loss per sample: 111.0799 Recon Loss: 27.8927 KL Loss: 27.9912\n"
          ]
        },
        {
          "output_type": "stream",
          "name": "stderr",
          "text": []
        },
        {
          "output_type": "stream",
          "name": "stdout",
          "text": [
            "Epoch 397/500 Loss per sample: 111.2237 Recon Loss: 29.7902 KL Loss: 22.4680\n"
          ]
        },
        {
          "output_type": "stream",
          "name": "stderr",
          "text": []
        },
        {
          "output_type": "stream",
          "name": "stdout",
          "text": [
            "Epoch 398/500 Loss per sample: 111.3561 Recon Loss: 28.9462 KL Loss: 25.2200\n"
          ]
        },
        {
          "output_type": "stream",
          "name": "stderr",
          "text": []
        },
        {
          "output_type": "stream",
          "name": "stdout",
          "text": [
            "Epoch 399/500 Loss per sample: 111.0770 Recon Loss: 28.3561 KL Loss: 23.4518\n"
          ]
        },
        {
          "output_type": "stream",
          "name": "stderr",
          "text": []
        },
        {
          "output_type": "stream",
          "name": "stdout",
          "text": [
            "Epoch 400/500 Loss per sample: 111.2430 Recon Loss: 29.4593 KL Loss: 22.5774\n"
          ]
        },
        {
          "output_type": "stream",
          "name": "stderr",
          "text": []
        },
        {
          "output_type": "stream",
          "name": "stdout",
          "text": [
            "Epoch 401/500 Loss per sample: 111.1830 Recon Loss: 29.1411 KL Loss: 25.1928\n"
          ]
        },
        {
          "output_type": "stream",
          "name": "stderr",
          "text": []
        },
        {
          "output_type": "stream",
          "name": "stdout",
          "text": [
            "Epoch 402/500 Loss per sample: 111.1112 Recon Loss: 26.4301 KL Loss: 25.7955\n"
          ]
        },
        {
          "output_type": "stream",
          "name": "stderr",
          "text": []
        },
        {
          "output_type": "stream",
          "name": "stdout",
          "text": [
            "Epoch 403/500 Loss per sample: 111.1576 Recon Loss: 28.2704 KL Loss: 24.2665\n"
          ]
        },
        {
          "output_type": "stream",
          "name": "stderr",
          "text": []
        },
        {
          "output_type": "stream",
          "name": "stdout",
          "text": [
            "Epoch 404/500 Loss per sample: 111.2954 Recon Loss: 27.7374 KL Loss: 29.1191\n"
          ]
        },
        {
          "output_type": "stream",
          "name": "stderr",
          "text": []
        },
        {
          "output_type": "stream",
          "name": "stdout",
          "text": [
            "Epoch 405/500 Loss per sample: 111.0367 Recon Loss: 26.3606 KL Loss: 29.7520\n"
          ]
        },
        {
          "output_type": "stream",
          "name": "stderr",
          "text": []
        },
        {
          "output_type": "stream",
          "name": "stdout",
          "text": [
            "Epoch 406/500 Loss per sample: 110.9615 Recon Loss: 29.7525 KL Loss: 28.2490\n"
          ]
        },
        {
          "output_type": "stream",
          "name": "stderr",
          "text": []
        },
        {
          "output_type": "stream",
          "name": "stdout",
          "text": [
            "Epoch 407/500 Loss per sample: 111.2916 Recon Loss: 28.2418 KL Loss: 23.5797\n"
          ]
        },
        {
          "output_type": "stream",
          "name": "stderr",
          "text": []
        },
        {
          "output_type": "stream",
          "name": "stdout",
          "text": [
            "Epoch 408/500 Loss per sample: 111.0906 Recon Loss: 28.0868 KL Loss: 26.8833\n"
          ]
        },
        {
          "output_type": "stream",
          "name": "stderr",
          "text": []
        },
        {
          "output_type": "stream",
          "name": "stdout",
          "text": [
            "Epoch 409/500 Loss per sample: 111.0362 Recon Loss: 29.9225 KL Loss: 20.8252\n"
          ]
        },
        {
          "output_type": "stream",
          "name": "stderr",
          "text": []
        },
        {
          "output_type": "stream",
          "name": "stdout",
          "text": [
            "Epoch 410/500 Loss per sample: 111.2600 Recon Loss: 28.5149 KL Loss: 25.6054\n"
          ]
        },
        {
          "output_type": "stream",
          "name": "stderr",
          "text": []
        },
        {
          "output_type": "stream",
          "name": "stdout",
          "text": [
            "Epoch 411/500 Loss per sample: 111.0264 Recon Loss: 27.0144 KL Loss: 23.8215\n"
          ]
        },
        {
          "output_type": "stream",
          "name": "stderr",
          "text": []
        },
        {
          "output_type": "stream",
          "name": "stdout",
          "text": [
            "Epoch 412/500 Loss per sample: 111.0256 Recon Loss: 26.6600 KL Loss: 25.9790\n"
          ]
        },
        {
          "output_type": "stream",
          "name": "stderr",
          "text": []
        },
        {
          "output_type": "stream",
          "name": "stdout",
          "text": [
            "Epoch 413/500 Loss per sample: 111.0466 Recon Loss: 28.0412 KL Loss: 27.8235\n"
          ]
        },
        {
          "output_type": "stream",
          "name": "stderr",
          "text": []
        },
        {
          "output_type": "stream",
          "name": "stdout",
          "text": [
            "Epoch 414/500 Loss per sample: 111.1651 Recon Loss: 27.2315 KL Loss: 28.0278\n"
          ]
        },
        {
          "output_type": "stream",
          "name": "stderr",
          "text": []
        },
        {
          "output_type": "stream",
          "name": "stdout",
          "text": [
            "Epoch 415/500 Loss per sample: 110.9821 Recon Loss: 29.0882 KL Loss: 23.0898\n"
          ]
        },
        {
          "output_type": "stream",
          "name": "stderr",
          "text": []
        },
        {
          "output_type": "stream",
          "name": "stdout",
          "text": [
            "Epoch 416/500 Loss per sample: 110.9737 Recon Loss: 29.4328 KL Loss: 24.6942\n"
          ]
        },
        {
          "output_type": "stream",
          "name": "stderr",
          "text": []
        },
        {
          "output_type": "stream",
          "name": "stdout",
          "text": [
            "Epoch 417/500 Loss per sample: 111.0110 Recon Loss: 30.0205 KL Loss: 22.9390\n"
          ]
        },
        {
          "output_type": "stream",
          "name": "stderr",
          "text": []
        },
        {
          "output_type": "stream",
          "name": "stdout",
          "text": [
            "Epoch 418/500 Loss per sample: 110.9545 Recon Loss: 28.3172 KL Loss: 25.3465\n"
          ]
        },
        {
          "output_type": "stream",
          "name": "stderr",
          "text": []
        },
        {
          "output_type": "stream",
          "name": "stdout",
          "text": [
            "Epoch 419/500 Loss per sample: 111.0339 Recon Loss: 29.3737 KL Loss: 25.0080\n"
          ]
        },
        {
          "output_type": "stream",
          "name": "stderr",
          "text": []
        },
        {
          "output_type": "stream",
          "name": "stdout",
          "text": [
            "Epoch 420/500 Loss per sample: 111.1062 Recon Loss: 29.9982 KL Loss: 24.7095\n"
          ]
        },
        {
          "output_type": "stream",
          "name": "stderr",
          "text": []
        },
        {
          "output_type": "stream",
          "name": "stdout",
          "text": [
            "Epoch 421/500 Loss per sample: 110.9406 Recon Loss: 28.4549 KL Loss: 27.5201\n"
          ]
        },
        {
          "output_type": "stream",
          "name": "stderr",
          "text": []
        },
        {
          "output_type": "stream",
          "name": "stdout",
          "text": [
            "Epoch 422/500 Loss per sample: 110.9657 Recon Loss: 29.7505 KL Loss: 22.4270\n"
          ]
        },
        {
          "output_type": "stream",
          "name": "stderr",
          "text": []
        },
        {
          "output_type": "stream",
          "name": "stdout",
          "text": [
            "Epoch 423/500 Loss per sample: 111.0805 Recon Loss: 29.4875 KL Loss: 26.1969\n"
          ]
        },
        {
          "output_type": "stream",
          "name": "stderr",
          "text": []
        },
        {
          "output_type": "stream",
          "name": "stdout",
          "text": [
            "Epoch 424/500 Loss per sample: 110.9560 Recon Loss: 26.1488 KL Loss: 28.2137\n"
          ]
        },
        {
          "output_type": "stream",
          "name": "stderr",
          "text": []
        },
        {
          "output_type": "stream",
          "name": "stdout",
          "text": [
            "Epoch 425/500 Loss per sample: 110.8822 Recon Loss: 28.6227 KL Loss: 25.8227\n"
          ]
        },
        {
          "output_type": "stream",
          "name": "stderr",
          "text": []
        },
        {
          "output_type": "stream",
          "name": "stdout",
          "text": [
            "Epoch 426/500 Loss per sample: 110.9468 Recon Loss: 27.9458 KL Loss: 28.7418\n"
          ]
        },
        {
          "output_type": "stream",
          "name": "stderr",
          "text": []
        },
        {
          "output_type": "stream",
          "name": "stdout",
          "text": [
            "Epoch 427/500 Loss per sample: 110.8008 Recon Loss: 26.3060 KL Loss: 34.3850\n"
          ]
        },
        {
          "output_type": "stream",
          "name": "stderr",
          "text": []
        },
        {
          "output_type": "stream",
          "name": "stdout",
          "text": [
            "Epoch 428/500 Loss per sample: 111.0158 Recon Loss: 27.9706 KL Loss: 26.4883\n"
          ]
        },
        {
          "output_type": "stream",
          "name": "stderr",
          "text": []
        },
        {
          "output_type": "stream",
          "name": "stdout",
          "text": [
            "Epoch 429/500 Loss per sample: 110.9919 Recon Loss: 27.9266 KL Loss: 24.2935\n"
          ]
        },
        {
          "output_type": "stream",
          "name": "stderr",
          "text": []
        },
        {
          "output_type": "stream",
          "name": "stdout",
          "text": [
            "Epoch 430/500 Loss per sample: 110.8027 Recon Loss: 29.6714 KL Loss: 26.8399\n"
          ]
        },
        {
          "output_type": "stream",
          "name": "stderr",
          "text": []
        },
        {
          "output_type": "stream",
          "name": "stdout",
          "text": [
            "Epoch 431/500 Loss per sample: 110.7787 Recon Loss: 27.9848 KL Loss: 27.4482\n"
          ]
        },
        {
          "output_type": "stream",
          "name": "stderr",
          "text": []
        },
        {
          "output_type": "stream",
          "name": "stdout",
          "text": [
            "Epoch 432/500 Loss per sample: 110.9251 Recon Loss: 28.4937 KL Loss: 21.7403\n"
          ]
        },
        {
          "output_type": "stream",
          "name": "stderr",
          "text": []
        },
        {
          "output_type": "stream",
          "name": "stdout",
          "text": [
            "Epoch 433/500 Loss per sample: 110.9158 Recon Loss: 27.7415 KL Loss: 27.9831\n"
          ]
        },
        {
          "output_type": "stream",
          "name": "stderr",
          "text": []
        },
        {
          "output_type": "stream",
          "name": "stdout",
          "text": [
            "Epoch 434/500 Loss per sample: 110.9019 Recon Loss: 27.5031 KL Loss: 23.2652\n"
          ]
        },
        {
          "output_type": "stream",
          "name": "stderr",
          "text": []
        },
        {
          "output_type": "stream",
          "name": "stdout",
          "text": [
            "Epoch 435/500 Loss per sample: 111.0122 Recon Loss: 28.7266 KL Loss: 26.0668\n"
          ]
        },
        {
          "output_type": "stream",
          "name": "stderr",
          "text": []
        },
        {
          "output_type": "stream",
          "name": "stdout",
          "text": [
            "Epoch 436/500 Loss per sample: 110.9390 Recon Loss: 29.6723 KL Loss: 23.5962\n"
          ]
        },
        {
          "output_type": "stream",
          "name": "stderr",
          "text": []
        },
        {
          "output_type": "stream",
          "name": "stdout",
          "text": [
            "Epoch 437/500 Loss per sample: 110.9673 Recon Loss: 30.9461 KL Loss: 24.2028\n"
          ]
        },
        {
          "output_type": "stream",
          "name": "stderr",
          "text": []
        },
        {
          "output_type": "stream",
          "name": "stdout",
          "text": [
            "Epoch 438/500 Loss per sample: 110.9916 Recon Loss: 29.7047 KL Loss: 26.7156\n"
          ]
        },
        {
          "output_type": "stream",
          "name": "stderr",
          "text": []
        },
        {
          "output_type": "stream",
          "name": "stdout",
          "text": [
            "Epoch 439/500 Loss per sample: 110.9054 Recon Loss: 29.1705 KL Loss: 30.4999\n"
          ]
        },
        {
          "output_type": "stream",
          "name": "stderr",
          "text": []
        },
        {
          "output_type": "stream",
          "name": "stdout",
          "text": [
            "Epoch 440/500 Loss per sample: 110.8992 Recon Loss: 29.4114 KL Loss: 22.6635\n"
          ]
        },
        {
          "output_type": "stream",
          "name": "stderr",
          "text": []
        },
        {
          "output_type": "stream",
          "name": "stdout",
          "text": [
            "Epoch 441/500 Loss per sample: 110.8914 Recon Loss: 28.4059 KL Loss: 26.8133\n"
          ]
        },
        {
          "output_type": "stream",
          "name": "stderr",
          "text": []
        },
        {
          "output_type": "stream",
          "name": "stdout",
          "text": [
            "Epoch 442/500 Loss per sample: 110.8193 Recon Loss: 27.2797 KL Loss: 26.2053\n"
          ]
        },
        {
          "output_type": "stream",
          "name": "stderr",
          "text": []
        },
        {
          "output_type": "stream",
          "name": "stdout",
          "text": [
            "Epoch 443/500 Loss per sample: 110.8659 Recon Loss: 28.5415 KL Loss: 27.1928\n"
          ]
        },
        {
          "output_type": "stream",
          "name": "stderr",
          "text": []
        },
        {
          "output_type": "stream",
          "name": "stdout",
          "text": [
            "Epoch 444/500 Loss per sample: 110.8768 Recon Loss: 28.2574 KL Loss: 25.1992\n"
          ]
        },
        {
          "output_type": "stream",
          "name": "stderr",
          "text": []
        },
        {
          "output_type": "stream",
          "name": "stdout",
          "text": [
            "Epoch 445/500 Loss per sample: 110.8650 Recon Loss: 28.6867 KL Loss: 25.5565\n"
          ]
        },
        {
          "output_type": "stream",
          "name": "stderr",
          "text": []
        },
        {
          "output_type": "stream",
          "name": "stdout",
          "text": [
            "Epoch 446/500 Loss per sample: 110.7417 Recon Loss: 29.4086 KL Loss: 28.7222\n"
          ]
        },
        {
          "output_type": "stream",
          "name": "stderr",
          "text": []
        },
        {
          "output_type": "stream",
          "name": "stdout",
          "text": [
            "Epoch 447/500 Loss per sample: 110.8176 Recon Loss: 29.0232 KL Loss: 28.4061\n"
          ]
        },
        {
          "output_type": "stream",
          "name": "stderr",
          "text": []
        },
        {
          "output_type": "stream",
          "name": "stdout",
          "text": [
            "Epoch 448/500 Loss per sample: 110.7872 Recon Loss: 28.4118 KL Loss: 25.7655\n"
          ]
        },
        {
          "output_type": "stream",
          "name": "stderr",
          "text": []
        },
        {
          "output_type": "stream",
          "name": "stdout",
          "text": [
            "Epoch 449/500 Loss per sample: 110.6538 Recon Loss: 29.1667 KL Loss: 25.6099\n"
          ]
        },
        {
          "output_type": "stream",
          "name": "stderr",
          "text": []
        },
        {
          "output_type": "stream",
          "name": "stdout",
          "text": [
            "Epoch 450/500 Loss per sample: 110.9203 Recon Loss: 28.4079 KL Loss: 25.0639\n"
          ]
        },
        {
          "output_type": "stream",
          "name": "stderr",
          "text": []
        },
        {
          "output_type": "stream",
          "name": "stdout",
          "text": [
            "Epoch 451/500 Loss per sample: 110.7412 Recon Loss: 26.9516 KL Loss: 30.1878\n"
          ]
        },
        {
          "output_type": "stream",
          "name": "stderr",
          "text": []
        },
        {
          "output_type": "stream",
          "name": "stdout",
          "text": [
            "Epoch 452/500 Loss per sample: 110.9084 Recon Loss: 28.7488 KL Loss: 24.9288\n"
          ]
        },
        {
          "output_type": "stream",
          "name": "stderr",
          "text": []
        },
        {
          "output_type": "stream",
          "name": "stdout",
          "text": [
            "Epoch 453/500 Loss per sample: 110.7359 Recon Loss: 30.4658 KL Loss: 25.6749\n"
          ]
        },
        {
          "output_type": "stream",
          "name": "stderr",
          "text": []
        },
        {
          "output_type": "stream",
          "name": "stdout",
          "text": [
            "Epoch 454/500 Loss per sample: 110.7952 Recon Loss: 30.7491 KL Loss: 21.3738\n"
          ]
        },
        {
          "output_type": "stream",
          "name": "stderr",
          "text": []
        },
        {
          "output_type": "stream",
          "name": "stdout",
          "text": [
            "Epoch 455/500 Loss per sample: 110.8722 Recon Loss: 26.4111 KL Loss: 27.3501\n"
          ]
        },
        {
          "output_type": "stream",
          "name": "stderr",
          "text": []
        },
        {
          "output_type": "stream",
          "name": "stdout",
          "text": [
            "Epoch 456/500 Loss per sample: 110.7778 Recon Loss: 26.2524 KL Loss: 29.6168\n"
          ]
        },
        {
          "output_type": "stream",
          "name": "stderr",
          "text": []
        },
        {
          "output_type": "stream",
          "name": "stdout",
          "text": [
            "Epoch 457/500 Loss per sample: 110.8604 Recon Loss: 26.5637 KL Loss: 25.0764\n"
          ]
        },
        {
          "output_type": "stream",
          "name": "stderr",
          "text": []
        },
        {
          "output_type": "stream",
          "name": "stdout",
          "text": [
            "Epoch 458/500 Loss per sample: 110.7724 Recon Loss: 27.9283 KL Loss: 27.4966\n"
          ]
        },
        {
          "output_type": "stream",
          "name": "stderr",
          "text": []
        },
        {
          "output_type": "stream",
          "name": "stdout",
          "text": [
            "Epoch 459/500 Loss per sample: 110.6351 Recon Loss: 28.7744 KL Loss: 28.2128\n"
          ]
        },
        {
          "output_type": "stream",
          "name": "stderr",
          "text": []
        },
        {
          "output_type": "stream",
          "name": "stdout",
          "text": [
            "Epoch 460/500 Loss per sample: 110.6463 Recon Loss: 27.7547 KL Loss: 28.4131\n"
          ]
        },
        {
          "output_type": "stream",
          "name": "stderr",
          "text": []
        },
        {
          "output_type": "stream",
          "name": "stdout",
          "text": [
            "Epoch 461/500 Loss per sample: 110.8028 Recon Loss: 28.2562 KL Loss: 29.2472\n"
          ]
        },
        {
          "output_type": "stream",
          "name": "stderr",
          "text": []
        },
        {
          "output_type": "stream",
          "name": "stdout",
          "text": [
            "Epoch 462/500 Loss per sample: 110.5712 Recon Loss: 28.6176 KL Loss: 26.9748\n"
          ]
        },
        {
          "output_type": "stream",
          "name": "stderr",
          "text": []
        },
        {
          "output_type": "stream",
          "name": "stdout",
          "text": [
            "Epoch 463/500 Loss per sample: 110.7798 Recon Loss: 29.0647 KL Loss: 25.5128\n"
          ]
        },
        {
          "output_type": "stream",
          "name": "stderr",
          "text": []
        },
        {
          "output_type": "stream",
          "name": "stdout",
          "text": [
            "Epoch 464/500 Loss per sample: 110.7048 Recon Loss: 29.0000 KL Loss: 24.9108\n"
          ]
        },
        {
          "output_type": "stream",
          "name": "stderr",
          "text": []
        },
        {
          "output_type": "stream",
          "name": "stdout",
          "text": [
            "Epoch 465/500 Loss per sample: 110.7475 Recon Loss: 28.6975 KL Loss: 32.5846\n"
          ]
        },
        {
          "output_type": "stream",
          "name": "stderr",
          "text": []
        },
        {
          "output_type": "stream",
          "name": "stdout",
          "text": [
            "Epoch 466/500 Loss per sample: 110.6294 Recon Loss: 28.2214 KL Loss: 22.6940\n"
          ]
        },
        {
          "output_type": "stream",
          "name": "stderr",
          "text": []
        },
        {
          "output_type": "stream",
          "name": "stdout",
          "text": [
            "Epoch 467/500 Loss per sample: 110.7779 Recon Loss: 27.9090 KL Loss: 29.2530\n"
          ]
        },
        {
          "output_type": "stream",
          "name": "stderr",
          "text": []
        },
        {
          "output_type": "stream",
          "name": "stdout",
          "text": [
            "Epoch 468/500 Loss per sample: 110.5868 Recon Loss: 27.5564 KL Loss: 28.6009\n"
          ]
        },
        {
          "output_type": "stream",
          "name": "stderr",
          "text": []
        },
        {
          "output_type": "stream",
          "name": "stdout",
          "text": [
            "Epoch 469/500 Loss per sample: 110.6914 Recon Loss: 28.8510 KL Loss: 29.1479\n"
          ]
        },
        {
          "output_type": "stream",
          "name": "stderr",
          "text": []
        },
        {
          "output_type": "stream",
          "name": "stdout",
          "text": [
            "Epoch 470/500 Loss per sample: 110.6573 Recon Loss: 27.7642 KL Loss: 24.8283\n"
          ]
        },
        {
          "output_type": "stream",
          "name": "stderr",
          "text": []
        },
        {
          "output_type": "stream",
          "name": "stdout",
          "text": [
            "Epoch 471/500 Loss per sample: 110.5559 Recon Loss: 29.1662 KL Loss: 23.5457\n"
          ]
        },
        {
          "output_type": "stream",
          "name": "stderr",
          "text": []
        },
        {
          "output_type": "stream",
          "name": "stdout",
          "text": [
            "Epoch 472/500 Loss per sample: 110.6863 Recon Loss: 30.0894 KL Loss: 29.2810\n"
          ]
        },
        {
          "output_type": "stream",
          "name": "stderr",
          "text": []
        },
        {
          "output_type": "stream",
          "name": "stdout",
          "text": [
            "Epoch 473/500 Loss per sample: 110.6434 Recon Loss: 28.0070 KL Loss: 26.9237\n"
          ]
        },
        {
          "output_type": "stream",
          "name": "stderr",
          "text": []
        },
        {
          "output_type": "stream",
          "name": "stdout",
          "text": [
            "Epoch 474/500 Loss per sample: 110.7088 Recon Loss: 30.1142 KL Loss: 26.2989\n"
          ]
        },
        {
          "output_type": "stream",
          "name": "stderr",
          "text": []
        },
        {
          "output_type": "stream",
          "name": "stdout",
          "text": [
            "Epoch 475/500 Loss per sample: 110.7099 Recon Loss: 27.6062 KL Loss: 30.0648\n"
          ]
        },
        {
          "output_type": "stream",
          "name": "stderr",
          "text": []
        },
        {
          "output_type": "stream",
          "name": "stdout",
          "text": [
            "Epoch 476/500 Loss per sample: 110.5294 Recon Loss: 28.1611 KL Loss: 25.1107\n"
          ]
        },
        {
          "output_type": "stream",
          "name": "stderr",
          "text": []
        },
        {
          "output_type": "stream",
          "name": "stdout",
          "text": [
            "Epoch 477/500 Loss per sample: 110.6524 Recon Loss: 27.7369 KL Loss: 28.0558\n"
          ]
        },
        {
          "output_type": "stream",
          "name": "stderr",
          "text": []
        },
        {
          "output_type": "stream",
          "name": "stdout",
          "text": [
            "Epoch 478/500 Loss per sample: 110.5440 Recon Loss: 27.8183 KL Loss: 26.6948\n"
          ]
        },
        {
          "output_type": "stream",
          "name": "stderr",
          "text": []
        },
        {
          "output_type": "stream",
          "name": "stdout",
          "text": [
            "Epoch 479/500 Loss per sample: 110.5564 Recon Loss: 28.2617 KL Loss: 28.5621\n"
          ]
        },
        {
          "output_type": "stream",
          "name": "stderr",
          "text": []
        },
        {
          "output_type": "stream",
          "name": "stdout",
          "text": [
            "Epoch 480/500 Loss per sample: 110.6730 Recon Loss: 26.9380 KL Loss: 26.0512\n"
          ]
        },
        {
          "output_type": "stream",
          "name": "stderr",
          "text": []
        },
        {
          "output_type": "stream",
          "name": "stdout",
          "text": [
            "Epoch 481/500 Loss per sample: 110.6296 Recon Loss: 27.0737 KL Loss: 29.4538\n"
          ]
        },
        {
          "output_type": "stream",
          "name": "stderr",
          "text": []
        },
        {
          "output_type": "stream",
          "name": "stdout",
          "text": [
            "Epoch 482/500 Loss per sample: 110.5764 Recon Loss: 26.3453 KL Loss: 27.9916\n"
          ]
        },
        {
          "output_type": "stream",
          "name": "stderr",
          "text": []
        },
        {
          "output_type": "stream",
          "name": "stdout",
          "text": [
            "Epoch 483/500 Loss per sample: 110.6337 Recon Loss: 27.0445 KL Loss: 27.3911\n"
          ]
        },
        {
          "output_type": "stream",
          "name": "stderr",
          "text": []
        },
        {
          "output_type": "stream",
          "name": "stdout",
          "text": [
            "Epoch 484/500 Loss per sample: 110.4649 Recon Loss: 27.3453 KL Loss: 35.0142\n"
          ]
        },
        {
          "output_type": "stream",
          "name": "stderr",
          "text": []
        },
        {
          "output_type": "stream",
          "name": "stdout",
          "text": [
            "Epoch 485/500 Loss per sample: 110.5270 Recon Loss: 29.5409 KL Loss: 23.1744\n"
          ]
        },
        {
          "output_type": "stream",
          "name": "stderr",
          "text": []
        },
        {
          "output_type": "stream",
          "name": "stdout",
          "text": [
            "Epoch 486/500 Loss per sample: 110.7055 Recon Loss: 28.1674 KL Loss: 29.7759\n"
          ]
        },
        {
          "output_type": "stream",
          "name": "stderr",
          "text": []
        },
        {
          "output_type": "stream",
          "name": "stdout",
          "text": [
            "Epoch 487/500 Loss per sample: 110.5679 Recon Loss: 26.4218 KL Loss: 30.4658\n"
          ]
        },
        {
          "output_type": "stream",
          "name": "stderr",
          "text": []
        },
        {
          "output_type": "stream",
          "name": "stdout",
          "text": [
            "Epoch 488/500 Loss per sample: 110.4707 Recon Loss: 29.5817 KL Loss: 28.6654\n"
          ]
        },
        {
          "output_type": "stream",
          "name": "stderr",
          "text": []
        },
        {
          "output_type": "stream",
          "name": "stdout",
          "text": [
            "Epoch 489/500 Loss per sample: 110.5255 Recon Loss: 28.4517 KL Loss: 22.7560\n"
          ]
        },
        {
          "output_type": "stream",
          "name": "stderr",
          "text": []
        },
        {
          "output_type": "stream",
          "name": "stdout",
          "text": [
            "Epoch 490/500 Loss per sample: 110.4594 Recon Loss: 25.2261 KL Loss: 28.0356\n"
          ]
        },
        {
          "output_type": "stream",
          "name": "stderr",
          "text": []
        },
        {
          "output_type": "stream",
          "name": "stdout",
          "text": [
            "Epoch 491/500 Loss per sample: 110.5790 Recon Loss: 30.1208 KL Loss: 23.6993\n"
          ]
        },
        {
          "output_type": "stream",
          "name": "stderr",
          "text": []
        },
        {
          "output_type": "stream",
          "name": "stdout",
          "text": [
            "Epoch 492/500 Loss per sample: 110.5450 Recon Loss: 29.3536 KL Loss: 28.3038\n"
          ]
        },
        {
          "output_type": "stream",
          "name": "stderr",
          "text": []
        },
        {
          "output_type": "stream",
          "name": "stdout",
          "text": [
            "Epoch 493/500 Loss per sample: 110.5774 Recon Loss: 28.1757 KL Loss: 32.0646\n"
          ]
        },
        {
          "output_type": "stream",
          "name": "stderr",
          "text": []
        },
        {
          "output_type": "stream",
          "name": "stdout",
          "text": [
            "Epoch 494/500 Loss per sample: 110.5287 Recon Loss: 28.4823 KL Loss: 24.8439\n"
          ]
        },
        {
          "output_type": "stream",
          "name": "stderr",
          "text": []
        },
        {
          "output_type": "stream",
          "name": "stdout",
          "text": [
            "Epoch 495/500 Loss per sample: 110.6274 Recon Loss: 30.4965 KL Loss: 27.5672\n"
          ]
        },
        {
          "output_type": "stream",
          "name": "stderr",
          "text": []
        },
        {
          "output_type": "stream",
          "name": "stdout",
          "text": [
            "Epoch 496/500 Loss per sample: 110.6430 Recon Loss: 29.4162 KL Loss: 25.1992\n"
          ]
        },
        {
          "output_type": "stream",
          "name": "stderr",
          "text": []
        },
        {
          "output_type": "stream",
          "name": "stdout",
          "text": [
            "Epoch 497/500 Loss per sample: 110.6081 Recon Loss: 29.5016 KL Loss: 25.2963\n"
          ]
        },
        {
          "output_type": "stream",
          "name": "stderr",
          "text": []
        },
        {
          "output_type": "stream",
          "name": "stdout",
          "text": [
            "Epoch 498/500 Loss per sample: 110.3772 Recon Loss: 27.3547 KL Loss: 30.3024\n"
          ]
        },
        {
          "output_type": "stream",
          "name": "stderr",
          "text": []
        },
        {
          "output_type": "stream",
          "name": "stdout",
          "text": [
            "Epoch 499/500 Loss per sample: 110.4134 Recon Loss: 27.0187 KL Loss: 27.7679\n"
          ]
        },
        {
          "output_type": "stream",
          "name": "stderr",
          "text": [
            "                                                                              "
          ]
        },
        {
          "output_type": "stream",
          "name": "stdout",
          "text": [
            "Epoch 500/500 Loss per sample: 110.5948 Recon Loss: 28.8763 KL Loss: 24.7438\n",
            "Training log saved to logs/training_log_20250403_072356.txt\n"
          ]
        },
        {
          "output_type": "stream",
          "name": "stderr",
          "text": [
            "\r"
          ]
        }
      ]
    },
    {
      "cell_type": "code",
      "source": [
        "# After training, visualize the reconstruction on validation images\n",
        "model.eval()\n",
        "with torch.no_grad():\n",
        "    data_iter = iter(val_loader)\n",
        "    images, _ = next(data_iter)\n",
        "    images = images.to(device)\n",
        "    recon_images, _, _ = model(images)\n"
      ],
      "metadata": {
        "id": "3DMJJiAQibpu"
      },
      "execution_count": 10,
      "outputs": []
    },
    {
      "cell_type": "code",
      "source": [
        "# Plot original and reconstructed images side by side\n",
        "n = 10 # number of images to display\n",
        "plt.figure(figsize=(20, 4))\n",
        "for i in range(n):\n",
        "    # Original image: (C,H,W) -> (H,W,C)\n",
        "    orig = images[i].cpu().permute(1, 2, 0).numpy()\n",
        "    recon = recon_images[i].cpu().permute(1, 2, 0).numpy()\n",
        "\n",
        "    ax = plt.subplot(2, n, i + 1)\n",
        "    plt.imshow(orig)\n",
        "    plt.title(\"Original\")\n",
        "    plt.axis('off')\n",
        "\n",
        "    ax = plt.subplot(2, n, i + 1 + n)\n",
        "    plt.imshow(recon)\n",
        "    plt.title(\"Reconstructed\")\n",
        "    plt.axis('off')\n",
        "\n",
        "plt.show()\n"
      ],
      "metadata": {
        "colab": {
          "base_uri": "https://localhost:8080/",
          "height": 259
        },
        "id": "5NJ_1ahVicW4",
        "outputId": "2bb14abf-5dc2-45ba-cf85-c4f9bb1fc744"
      },
      "execution_count": 11,
      "outputs": [
        {
          "output_type": "display_data",
          "data": {
            "text/plain": [
              "<Figure size 2000x400 with 20 Axes>"
            ],
            "image/png": "[encoded data removed]"
          },
          "metadata": {}
        }
      ]
    }
  ]
}