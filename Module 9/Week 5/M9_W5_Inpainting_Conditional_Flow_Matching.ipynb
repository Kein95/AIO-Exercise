{
  "cells": [
    {
      "cell_type": "markdown",
      "metadata": {
        "id": "jiY8BDygBB2k"
      },
      "source": [
        "# Dataset"
      ]
    },
    {
      "cell_type": "code",
      "execution_count": 2,
      "metadata": {
        "colab": {
          "base_uri": "https://localhost:8080/"
        },
        "id": "rjj8zslvBB2p",
        "outputId": "030b8acc-1592-45ec-a8ba-bfb7c6c7d644"
      },
      "outputs": [
        {
          "output_type": "stream",
          "name": "stdout",
          "text": [
            "Downloading...\n",
            "From (original): https://drive.google.com/uc?id=194DqJkUjjtlUCp7Sd2DkXgwu7SuBFsrj\n",
            "From (redirected): https://drive.google.com/uc?id=194DqJkUjjtlUCp7Sd2DkXgwu7SuBFsrj&confirm=t&uuid=3486fcc8-5fb1-4e73-912c-c1050271a474\n",
            "To: /content/celeba_hq_256.zip\n",
            "100% 297M/297M [00:03<00:00, 91.5MB/s]\n"
          ]
        }
      ],
      "source": [
        "!gdown 194DqJkUjjtlUCp7Sd2DkXgwu7SuBFsrj"
      ]
    },
    {
      "cell_type": "code",
      "execution_count": 3,
      "metadata": {
        "id": "Rqc67tHjBB3F",
        "colab": {
          "base_uri": "https://localhost:8080/"
        },
        "outputId": "dc266f5a-1986-43e4-fdf7-8a8836c479ca"
      },
      "outputs": [
        {
          "output_type": "stream",
          "name": "stdout",
          "text": [
            "\u001b[1;30;43mStreaming output truncated to the last 5000 lines.\u001b[0m\n",
            "  inflating: celeba_hq_256/25000.jpg  \n",
            "  inflating: celeba_hq_256/25001.jpg  \n",
            "  inflating: celeba_hq_256/25002.jpg  \n",
            "  inflating: celeba_hq_256/25003.jpg  \n",
            "  inflating: celeba_hq_256/25004.jpg  \n",
            "  inflating: celeba_hq_256/25005.jpg  \n",
            "  inflating: celeba_hq_256/25006.jpg  \n",
            "  inflating: celeba_hq_256/25007.jpg  \n",
            "  inflating: celeba_hq_256/25008.jpg  \n",
            "  inflating: celeba_hq_256/25009.jpg  \n",
            "  inflating: celeba_hq_256/25010.jpg  \n",
            "  inflating: celeba_hq_256/25011.jpg  \n",
            "  inflating: celeba_hq_256/25012.jpg  \n",
            "  inflating: celeba_hq_256/25013.jpg  \n",
            "  inflating: celeba_hq_256/25014.jpg  \n",
            "  inflating: celeba_hq_256/25015.jpg  \n",
            "  inflating: celeba_hq_256/25016.jpg  \n",
            "  inflating: celeba_hq_256/25017.jpg  \n",
            "  inflating: celeba_hq_256/25018.jpg  \n",
            "  inflating: celeba_hq_256/25019.jpg  \n",
            "  inflating: celeba_hq_256/25020.jpg  \n",
            "  inflating: celeba_hq_256/25021.jpg  \n",
            "  inflating: celeba_hq_256/25022.jpg  \n",
            "  inflating: celeba_hq_256/25023.jpg  \n",
            "  inflating: celeba_hq_256/25024.jpg  \n",
            "  inflating: celeba_hq_256/25025.jpg  \n",
            "  inflating: celeba_hq_256/25026.jpg  \n",
            "  inflating: celeba_hq_256/25027.jpg  \n",
            "  inflating: celeba_hq_256/25028.jpg  \n",
            "  inflating: celeba_hq_256/25029.jpg  \n",
            "  inflating: celeba_hq_256/25030.jpg  \n",
            "  inflating: celeba_hq_256/25031.jpg  \n",
            "  inflating: celeba_hq_256/25032.jpg  \n",
            "  inflating: celeba_hq_256/25033.jpg  \n",
            "  inflating: celeba_hq_256/25034.jpg  \n",
            "  inflating: celeba_hq_256/25035.jpg  \n",
            "  inflating: celeba_hq_256/25036.jpg  \n",
            "  inflating: celeba_hq_256/25037.jpg  \n",
            "  inflating: celeba_hq_256/25038.jpg  \n",
            "  inflating: celeba_hq_256/25039.jpg  \n",
            "  inflating: celeba_hq_256/25040.jpg  \n",
            "  inflating: celeba_hq_256/25041.jpg  \n",
            "  inflating: celeba_hq_256/25042.jpg  \n",
            "  inflating: celeba_hq_256/25043.jpg  \n",
            "  inflating: celeba_hq_256/25044.jpg  \n",
            "  inflating: celeba_hq_256/25045.jpg  \n",
            "  inflating: celeba_hq_256/25046.jpg  \n",
            "  inflating: celeba_hq_256/25047.jpg  \n",
            "  inflating: celeba_hq_256/25048.jpg  \n",
            "  inflating: celeba_hq_256/25049.jpg  \n",
            "  inflating: celeba_hq_256/25050.jpg  \n",
            "  inflating: celeba_hq_256/25051.jpg  \n",
            "  inflating: celeba_hq_256/25052.jpg  \n",
            "  inflating: celeba_hq_256/25053.jpg  \n",
            "  inflating: celeba_hq_256/25054.jpg  \n",
            "  inflating: celeba_hq_256/25055.jpg  \n",
            "  inflating: celeba_hq_256/25056.jpg  \n",
            "  inflating: celeba_hq_256/25057.jpg  \n",
            "  inflating: celeba_hq_256/25058.jpg  \n",
            "  inflating: celeba_hq_256/25059.jpg  \n",
            "  inflating: celeba_hq_256/25060.jpg  \n",
            "  inflating: celeba_hq_256/25061.jpg  \n",
            "  inflating: celeba_hq_256/25062.jpg  \n",
            "  inflating: celeba_hq_256/25063.jpg  \n",
            "  inflating: celeba_hq_256/25064.jpg  \n",
            "  inflating: celeba_hq_256/25065.jpg  \n",
            "  inflating: celeba_hq_256/25066.jpg  \n",
            "  inflating: celeba_hq_256/25067.jpg  \n",
            "  inflating: celeba_hq_256/25068.jpg  \n",
            "  inflating: celeba_hq_256/25069.jpg  \n",
            "  inflating: celeba_hq_256/25070.jpg  \n",
            "  inflating: celeba_hq_256/25071.jpg  \n",
            "  inflating: celeba_hq_256/25072.jpg  \n",
            "  inflating: celeba_hq_256/25073.jpg  \n",
            "  inflating: celeba_hq_256/25074.jpg  \n",
            "  inflating: celeba_hq_256/25075.jpg  \n",
            "  inflating: celeba_hq_256/25076.jpg  \n",
            "  inflating: celeba_hq_256/25077.jpg  \n",
            "  inflating: celeba_hq_256/25078.jpg  \n",
            "  inflating: celeba_hq_256/25079.jpg  \n",
            "  inflating: celeba_hq_256/25080.jpg  \n",
            "  inflating: celeba_hq_256/25081.jpg  \n",
            "  inflating: celeba_hq_256/25082.jpg  \n",
            "  inflating: celeba_hq_256/25083.jpg  \n",
            "  inflating: celeba_hq_256/25084.jpg  \n",
            "  inflating: celeba_hq_256/25085.jpg  \n",
            "  inflating: celeba_hq_256/25086.jpg  \n",
            "  inflating: celeba_hq_256/25087.jpg  \n",
            "  inflating: celeba_hq_256/25088.jpg  \n",
            "  inflating: celeba_hq_256/25089.jpg  \n",
            "  inflating: celeba_hq_256/25090.jpg  \n",
            "  inflating: celeba_hq_256/25091.jpg  \n",
            "  inflating: celeba_hq_256/25092.jpg  \n",
            "  inflating: celeba_hq_256/25093.jpg  \n",
            "  inflating: celeba_hq_256/25094.jpg  \n",
            "  inflating: celeba_hq_256/25095.jpg  \n",
            "  inflating: celeba_hq_256/25096.jpg  \n",
            "  inflating: celeba_hq_256/25097.jpg  \n",
            "  inflating: celeba_hq_256/25098.jpg  \n",
            "  inflating: celeba_hq_256/25099.jpg  \n",
            "  inflating: celeba_hq_256/25100.jpg  \n",
            "  inflating: celeba_hq_256/25101.jpg  \n",
            "  inflating: celeba_hq_256/25102.jpg  \n",
            "  inflating: celeba_hq_256/25103.jpg  \n",
            "  inflating: celeba_hq_256/25104.jpg  \n",
            "  inflating: celeba_hq_256/25105.jpg  \n",
            "  inflating: celeba_hq_256/25106.jpg  \n",
            "  inflating: celeba_hq_256/25107.jpg  \n",
            "  inflating: celeba_hq_256/25108.jpg  \n",
            "  inflating: celeba_hq_256/25109.jpg  \n",
            "  inflating: celeba_hq_256/25110.jpg  \n",
            "  inflating: celeba_hq_256/25111.jpg  \n",
            "  inflating: celeba_hq_256/25112.jpg  \n",
            "  inflating: celeba_hq_256/25113.jpg  \n",
            "  inflating: celeba_hq_256/25114.jpg  \n",
            "  inflating: celeba_hq_256/25115.jpg  \n",
            "  inflating: celeba_hq_256/25116.jpg  \n",
            "  inflating: celeba_hq_256/25117.jpg  \n",
            "  inflating: celeba_hq_256/25118.jpg  \n",
            "  inflating: celeba_hq_256/25119.jpg  \n",
            "  inflating: celeba_hq_256/25120.jpg  \n",
            "  inflating: celeba_hq_256/25121.jpg  \n",
            "  inflating: celeba_hq_256/25122.jpg  \n",
            "  inflating: celeba_hq_256/25123.jpg  \n",
            "  inflating: celeba_hq_256/25124.jpg  \n",
            "  inflating: celeba_hq_256/25125.jpg  \n",
            "  inflating: celeba_hq_256/25126.jpg  \n",
            "  inflating: celeba_hq_256/25127.jpg  \n",
            "  inflating: celeba_hq_256/25128.jpg  \n",
            "  inflating: celeba_hq_256/25129.jpg  \n",
            "  inflating: celeba_hq_256/25130.jpg  \n",
            "  inflating: celeba_hq_256/25131.jpg  \n",
            "  inflating: celeba_hq_256/25132.jpg  \n",
            "  inflating: celeba_hq_256/25133.jpg  \n",
            "  inflating: celeba_hq_256/25134.jpg  \n",
            "  inflating: celeba_hq_256/25135.jpg  \n",
            "  inflating: celeba_hq_256/25136.jpg  \n",
            "  inflating: celeba_hq_256/25137.jpg  \n",
            "  inflating: celeba_hq_256/25138.jpg  \n",
            "  inflating: celeba_hq_256/25139.jpg  \n",
            "  inflating: celeba_hq_256/25140.jpg  \n",
            "  inflating: celeba_hq_256/25141.jpg  \n",
            "  inflating: celeba_hq_256/25142.jpg  \n",
            "  inflating: celeba_hq_256/25143.jpg  \n",
            "  inflating: celeba_hq_256/25144.jpg  \n",
            "  inflating: celeba_hq_256/25145.jpg  \n",
            "  inflating: celeba_hq_256/25146.jpg  \n",
            "  inflating: celeba_hq_256/25147.jpg  \n",
            "  inflating: celeba_hq_256/25148.jpg  \n",
            "  inflating: celeba_hq_256/25149.jpg  \n",
            "  inflating: celeba_hq_256/25150.jpg  \n",
            "  inflating: celeba_hq_256/25151.jpg  \n",
            "  inflating: celeba_hq_256/25152.jpg  \n",
            "  inflating: celeba_hq_256/25153.jpg  \n",
            "  inflating: celeba_hq_256/25154.jpg  \n",
            "  inflating: celeba_hq_256/25155.jpg  \n",
            "  inflating: celeba_hq_256/25156.jpg  \n",
            "  inflating: celeba_hq_256/25157.jpg  \n",
            "  inflating: celeba_hq_256/25158.jpg  \n",
            "  inflating: celeba_hq_256/25159.jpg  \n",
            "  inflating: celeba_hq_256/25160.jpg  \n",
            "  inflating: celeba_hq_256/25161.jpg  \n",
            "  inflating: celeba_hq_256/25162.jpg  \n",
            "  inflating: celeba_hq_256/25163.jpg  \n",
            "  inflating: celeba_hq_256/25164.jpg  \n",
            "  inflating: celeba_hq_256/25165.jpg  \n",
            "  inflating: celeba_hq_256/25166.jpg  \n",
            "  inflating: celeba_hq_256/25167.jpg  \n",
            "  inflating: celeba_hq_256/25168.jpg  \n",
            "  inflating: celeba_hq_256/25169.jpg  \n",
            "  inflating: celeba_hq_256/25170.jpg  \n",
            "  inflating: celeba_hq_256/25171.jpg  \n",
            "  inflating: celeba_hq_256/25172.jpg  \n",
            "  inflating: celeba_hq_256/25173.jpg  \n",
            "  inflating: celeba_hq_256/25174.jpg  \n",
            "  inflating: celeba_hq_256/25175.jpg  \n",
            "  inflating: celeba_hq_256/25176.jpg  \n",
            "  inflating: celeba_hq_256/25177.jpg  \n",
            "  inflating: celeba_hq_256/25178.jpg  \n",
            "  inflating: celeba_hq_256/25179.jpg  \n",
            "  inflating: celeba_hq_256/25180.jpg  \n",
            "  inflating: celeba_hq_256/25181.jpg  \n",
            "  inflating: celeba_hq_256/25182.jpg  \n",
            "  inflating: celeba_hq_256/25183.jpg  \n",
            "  inflating: celeba_hq_256/25184.jpg  \n",
            "  inflating: celeba_hq_256/25185.jpg  \n",
            "  inflating: celeba_hq_256/25186.jpg  \n",
            "  inflating: celeba_hq_256/25187.jpg  \n",
            "  inflating: celeba_hq_256/25188.jpg  \n",
            "  inflating: celeba_hq_256/25189.jpg  \n",
            "  inflating: celeba_hq_256/25190.jpg  \n",
            "  inflating: celeba_hq_256/25191.jpg  \n",
            "  inflating: celeba_hq_256/25192.jpg  \n",
            "  inflating: celeba_hq_256/25193.jpg  \n",
            "  inflating: celeba_hq_256/25194.jpg  \n",
            "  inflating: celeba_hq_256/25195.jpg  \n",
            "  inflating: celeba_hq_256/25196.jpg  \n",
            "  inflating: celeba_hq_256/25197.jpg  \n",
            "  inflating: celeba_hq_256/25198.jpg  \n",
            "  inflating: celeba_hq_256/25199.jpg  \n",
            "  inflating: celeba_hq_256/25200.jpg  \n",
            "  inflating: celeba_hq_256/25201.jpg  \n",
            "  inflating: celeba_hq_256/25202.jpg  \n",
            "  inflating: celeba_hq_256/25203.jpg  \n",
            "  inflating: celeba_hq_256/25204.jpg  \n",
            "  inflating: celeba_hq_256/25205.jpg  \n",
            "  inflating: celeba_hq_256/25206.jpg  \n",
            "  inflating: celeba_hq_256/25207.jpg  \n",
            "  inflating: celeba_hq_256/25208.jpg  \n",
            "  inflating: celeba_hq_256/25209.jpg  \n",
            "  inflating: celeba_hq_256/25210.jpg  \n",
            "  inflating: celeba_hq_256/25211.jpg  \n",
            "  inflating: celeba_hq_256/25212.jpg  \n",
            "  inflating: celeba_hq_256/25213.jpg  \n",
            "  inflating: celeba_hq_256/25214.jpg  \n",
            "  inflating: celeba_hq_256/25215.jpg  \n",
            "  inflating: celeba_hq_256/25216.jpg  \n",
            "  inflating: celeba_hq_256/25217.jpg  \n",
            "  inflating: celeba_hq_256/25218.jpg  \n",
            "  inflating: celeba_hq_256/25219.jpg  \n",
            "  inflating: celeba_hq_256/25220.jpg  \n",
            "  inflating: celeba_hq_256/25221.jpg  \n",
            "  inflating: celeba_hq_256/25222.jpg  \n",
            "  inflating: celeba_hq_256/25223.jpg  \n",
            "  inflating: celeba_hq_256/25224.jpg  \n",
            "  inflating: celeba_hq_256/25225.jpg  \n",
            "  inflating: celeba_hq_256/25226.jpg  \n",
            "  inflating: celeba_hq_256/25227.jpg  \n",
            "  inflating: celeba_hq_256/25228.jpg  \n",
            "  inflating: celeba_hq_256/25229.jpg  \n",
            "  inflating: celeba_hq_256/25230.jpg  \n",
            "  inflating: celeba_hq_256/25231.jpg  \n",
            "  inflating: celeba_hq_256/25232.jpg  \n",
            "  inflating: celeba_hq_256/25233.jpg  \n",
            "  inflating: celeba_hq_256/25234.jpg  \n",
            "  inflating: celeba_hq_256/25235.jpg  \n",
            "  inflating: celeba_hq_256/25236.jpg  \n",
            "  inflating: celeba_hq_256/25237.jpg  \n",
            "  inflating: celeba_hq_256/25238.jpg  \n",
            "  inflating: celeba_hq_256/25239.jpg  \n",
            "  inflating: celeba_hq_256/25240.jpg  \n",
            "  inflating: celeba_hq_256/25241.jpg  \n",
            "  inflating: celeba_hq_256/25242.jpg  \n",
            "  inflating: celeba_hq_256/25243.jpg  \n",
            "  inflating: celeba_hq_256/25244.jpg  \n",
            "  inflating: celeba_hq_256/25245.jpg  \n",
            "  inflating: celeba_hq_256/25246.jpg  \n",
            "  inflating: celeba_hq_256/25247.jpg  \n",
            "  inflating: celeba_hq_256/25248.jpg  \n",
            "  inflating: celeba_hq_256/25249.jpg  \n",
            "  inflating: celeba_hq_256/25250.jpg  \n",
            "  inflating: celeba_hq_256/25251.jpg  \n",
            "  inflating: celeba_hq_256/25252.jpg  \n",
            "  inflating: celeba_hq_256/25253.jpg  \n",
            "  inflating: celeba_hq_256/25254.jpg  \n",
            "  inflating: celeba_hq_256/25255.jpg  \n",
            "  inflating: celeba_hq_256/25256.jpg  \n",
            "  inflating: celeba_hq_256/25257.jpg  \n",
            "  inflating: celeba_hq_256/25258.jpg  \n",
            "  inflating: celeba_hq_256/25259.jpg  \n",
            "  inflating: celeba_hq_256/25260.jpg  \n",
            "  inflating: celeba_hq_256/25261.jpg  \n",
            "  inflating: celeba_hq_256/25262.jpg  \n",
            "  inflating: celeba_hq_256/25263.jpg  \n",
            "  inflating: celeba_hq_256/25264.jpg  \n",
            "  inflating: celeba_hq_256/25265.jpg  \n",
            "  inflating: celeba_hq_256/25266.jpg  \n",
            "  inflating: celeba_hq_256/25267.jpg  \n",
            "  inflating: celeba_hq_256/25268.jpg  \n",
            "  inflating: celeba_hq_256/25269.jpg  \n",
            "  inflating: celeba_hq_256/25270.jpg  \n",
            "  inflating: celeba_hq_256/25271.jpg  \n",
            "  inflating: celeba_hq_256/25272.jpg  \n",
            "  inflating: celeba_hq_256/25273.jpg  \n",
            "  inflating: celeba_hq_256/25274.jpg  \n",
            "  inflating: celeba_hq_256/25275.jpg  \n",
            "  inflating: celeba_hq_256/25276.jpg  \n",
            "  inflating: celeba_hq_256/25277.jpg  \n",
            "  inflating: celeba_hq_256/25278.jpg  \n",
            "  inflating: celeba_hq_256/25279.jpg  \n",
            "  inflating: celeba_hq_256/25280.jpg  \n",
            "  inflating: celeba_hq_256/25281.jpg  \n",
            "  inflating: celeba_hq_256/25282.jpg  \n",
            "  inflating: celeba_hq_256/25283.jpg  \n",
            "  inflating: celeba_hq_256/25284.jpg  \n",
            "  inflating: celeba_hq_256/25285.jpg  \n",
            "  inflating: celeba_hq_256/25286.jpg  \n",
            "  inflating: celeba_hq_256/25287.jpg  \n",
            "  inflating: celeba_hq_256/25288.jpg  \n",
            "  inflating: celeba_hq_256/25289.jpg  \n",
            "  inflating: celeba_hq_256/25290.jpg  \n",
            "  inflating: celeba_hq_256/25291.jpg  \n",
            "  inflating: celeba_hq_256/25292.jpg  \n",
            "  inflating: celeba_hq_256/25293.jpg  \n",
            "  inflating: celeba_hq_256/25294.jpg  \n",
            "  inflating: celeba_hq_256/25295.jpg  \n",
            "  inflating: celeba_hq_256/25296.jpg  \n",
            "  inflating: celeba_hq_256/25297.jpg  \n",
            "  inflating: celeba_hq_256/25298.jpg  \n",
            "  inflating: celeba_hq_256/25299.jpg  \n",
            "  inflating: celeba_hq_256/25300.jpg  \n",
            "  inflating: celeba_hq_256/25301.jpg  \n",
            "  inflating: celeba_hq_256/25302.jpg  \n",
            "  inflating: celeba_hq_256/25303.jpg  \n",
            "  inflating: celeba_hq_256/25304.jpg  \n",
            "  inflating: celeba_hq_256/25305.jpg  \n",
            "  inflating: celeba_hq_256/25306.jpg  \n",
            "  inflating: celeba_hq_256/25307.jpg  \n",
            "  inflating: celeba_hq_256/25308.jpg  \n",
            "  inflating: celeba_hq_256/25309.jpg  \n",
            "  inflating: celeba_hq_256/25310.jpg  \n",
            "  inflating: celeba_hq_256/25311.jpg  \n",
            "  inflating: celeba_hq_256/25312.jpg  \n",
            "  inflating: celeba_hq_256/25313.jpg  \n",
            "  inflating: celeba_hq_256/25314.jpg  \n",
            "  inflating: celeba_hq_256/25315.jpg  \n",
            "  inflating: celeba_hq_256/25316.jpg  \n",
            "  inflating: celeba_hq_256/25317.jpg  \n",
            "  inflating: celeba_hq_256/25318.jpg  \n",
            "  inflating: celeba_hq_256/25319.jpg  \n",
            "  inflating: celeba_hq_256/25320.jpg  \n",
            "  inflating: celeba_hq_256/25321.jpg  \n",
            "  inflating: celeba_hq_256/25322.jpg  \n",
            "  inflating: celeba_hq_256/25323.jpg  \n",
            "  inflating: celeba_hq_256/25324.jpg  \n",
            "  inflating: celeba_hq_256/25325.jpg  \n",
            "  inflating: celeba_hq_256/25326.jpg  \n",
            "  inflating: celeba_hq_256/25327.jpg  \n",
            "  inflating: celeba_hq_256/25328.jpg  \n",
            "  inflating: celeba_hq_256/25329.jpg  \n",
            "  inflating: celeba_hq_256/25330.jpg  \n",
            "  inflating: celeba_hq_256/25331.jpg  \n",
            "  inflating: celeba_hq_256/25332.jpg  \n",
            "  inflating: celeba_hq_256/25333.jpg  \n",
            "  inflating: celeba_hq_256/25334.jpg  \n",
            "  inflating: celeba_hq_256/25335.jpg  \n",
            "  inflating: celeba_hq_256/25336.jpg  \n",
            "  inflating: celeba_hq_256/25337.jpg  \n",
            "  inflating: celeba_hq_256/25338.jpg  \n",
            "  inflating: celeba_hq_256/25339.jpg  \n",
            "  inflating: celeba_hq_256/25340.jpg  \n",
            "  inflating: celeba_hq_256/25341.jpg  \n",
            "  inflating: celeba_hq_256/25342.jpg  \n",
            "  inflating: celeba_hq_256/25343.jpg  \n",
            "  inflating: celeba_hq_256/25344.jpg  \n",
            "  inflating: celeba_hq_256/25345.jpg  \n",
            "  inflating: celeba_hq_256/25346.jpg  \n",
            "  inflating: celeba_hq_256/25347.jpg  \n",
            "  inflating: celeba_hq_256/25348.jpg  \n",
            "  inflating: celeba_hq_256/25349.jpg  \n",
            "  inflating: celeba_hq_256/25350.jpg  \n",
            "  inflating: celeba_hq_256/25351.jpg  \n",
            "  inflating: celeba_hq_256/25352.jpg  \n",
            "  inflating: celeba_hq_256/25353.jpg  \n",
            "  inflating: celeba_hq_256/25354.jpg  \n",
            "  inflating: celeba_hq_256/25355.jpg  \n",
            "  inflating: celeba_hq_256/25356.jpg  \n",
            "  inflating: celeba_hq_256/25357.jpg  \n",
            "  inflating: celeba_hq_256/25358.jpg  \n",
            "  inflating: celeba_hq_256/25359.jpg  \n",
            "  inflating: celeba_hq_256/25360.jpg  \n",
            "  inflating: celeba_hq_256/25361.jpg  \n",
            "  inflating: celeba_hq_256/25362.jpg  \n",
            "  inflating: celeba_hq_256/25363.jpg  \n",
            "  inflating: celeba_hq_256/25364.jpg  \n",
            "  inflating: celeba_hq_256/25365.jpg  \n",
            "  inflating: celeba_hq_256/25366.jpg  \n",
            "  inflating: celeba_hq_256/25367.jpg  \n",
            "  inflating: celeba_hq_256/25368.jpg  \n",
            "  inflating: celeba_hq_256/25369.jpg  \n",
            "  inflating: celeba_hq_256/25370.jpg  \n",
            "  inflating: celeba_hq_256/25371.jpg  \n",
            "  inflating: celeba_hq_256/25372.jpg  \n",
            "  inflating: celeba_hq_256/25373.jpg  \n",
            "  inflating: celeba_hq_256/25374.jpg  \n",
            "  inflating: celeba_hq_256/25375.jpg  \n",
            "  inflating: celeba_hq_256/25376.jpg  \n",
            "  inflating: celeba_hq_256/25377.jpg  \n",
            "  inflating: celeba_hq_256/25378.jpg  \n",
            "  inflating: celeba_hq_256/25379.jpg  \n",
            "  inflating: celeba_hq_256/25380.jpg  \n",
            "  inflating: celeba_hq_256/25381.jpg  \n",
            "  inflating: celeba_hq_256/25382.jpg  \n",
            "  inflating: celeba_hq_256/25383.jpg  \n",
            "  inflating: celeba_hq_256/25384.jpg  \n",
            "  inflating: celeba_hq_256/25385.jpg  \n",
            "  inflating: celeba_hq_256/25386.jpg  \n",
            "  inflating: celeba_hq_256/25387.jpg  \n",
            "  inflating: celeba_hq_256/25388.jpg  \n",
            "  inflating: celeba_hq_256/25389.jpg  \n",
            "  inflating: celeba_hq_256/25390.jpg  \n",
            "  inflating: celeba_hq_256/25391.jpg  \n",
            "  inflating: celeba_hq_256/25392.jpg  \n",
            "  inflating: celeba_hq_256/25393.jpg  \n",
            "  inflating: celeba_hq_256/25394.jpg  \n",
            "  inflating: celeba_hq_256/25395.jpg  \n",
            "  inflating: celeba_hq_256/25396.jpg  \n",
            "  inflating: celeba_hq_256/25397.jpg  \n",
            "  inflating: celeba_hq_256/25398.jpg  \n",
            "  inflating: celeba_hq_256/25399.jpg  \n",
            "  inflating: celeba_hq_256/25400.jpg  \n",
            "  inflating: celeba_hq_256/25401.jpg  \n",
            "  inflating: celeba_hq_256/25402.jpg  \n",
            "  inflating: celeba_hq_256/25403.jpg  \n",
            "  inflating: celeba_hq_256/25404.jpg  \n",
            "  inflating: celeba_hq_256/25405.jpg  \n",
            "  inflating: celeba_hq_256/25406.jpg  \n",
            "  inflating: celeba_hq_256/25407.jpg  \n",
            "  inflating: celeba_hq_256/25408.jpg  \n",
            "  inflating: celeba_hq_256/25409.jpg  \n",
            "  inflating: celeba_hq_256/25410.jpg  \n",
            "  inflating: celeba_hq_256/25411.jpg  \n",
            "  inflating: celeba_hq_256/25412.jpg  \n",
            "  inflating: celeba_hq_256/25413.jpg  \n",
            "  inflating: celeba_hq_256/25414.jpg  \n",
            "  inflating: celeba_hq_256/25415.jpg  \n",
            "  inflating: celeba_hq_256/25416.jpg  \n",
            "  inflating: celeba_hq_256/25417.jpg  \n",
            "  inflating: celeba_hq_256/25418.jpg  \n",
            "  inflating: celeba_hq_256/25419.jpg  \n",
            "  inflating: celeba_hq_256/25420.jpg  \n",
            "  inflating: celeba_hq_256/25421.jpg  \n",
            "  inflating: celeba_hq_256/25422.jpg  \n",
            "  inflating: celeba_hq_256/25423.jpg  \n",
            "  inflating: celeba_hq_256/25424.jpg  \n",
            "  inflating: celeba_hq_256/25425.jpg  \n",
            "  inflating: celeba_hq_256/25426.jpg  \n",
            "  inflating: celeba_hq_256/25427.jpg  \n",
            "  inflating: celeba_hq_256/25428.jpg  \n",
            "  inflating: celeba_hq_256/25429.jpg  \n",
            "  inflating: celeba_hq_256/25430.jpg  \n",
            "  inflating: celeba_hq_256/25431.jpg  \n",
            "  inflating: celeba_hq_256/25432.jpg  \n",
            "  inflating: celeba_hq_256/25433.jpg  \n",
            "  inflating: celeba_hq_256/25434.jpg  \n",
            "  inflating: celeba_hq_256/25435.jpg  \n",
            "  inflating: celeba_hq_256/25436.jpg  \n",
            "  inflating: celeba_hq_256/25437.jpg  \n",
            "  inflating: celeba_hq_256/25438.jpg  \n",
            "  inflating: celeba_hq_256/25439.jpg  \n",
            "  inflating: celeba_hq_256/25440.jpg  \n",
            "  inflating: celeba_hq_256/25441.jpg  \n",
            "  inflating: celeba_hq_256/25442.jpg  \n",
            "  inflating: celeba_hq_256/25443.jpg  \n",
            "  inflating: celeba_hq_256/25444.jpg  \n",
            "  inflating: celeba_hq_256/25445.jpg  \n",
            "  inflating: celeba_hq_256/25446.jpg  \n",
            "  inflating: celeba_hq_256/25447.jpg  \n",
            "  inflating: celeba_hq_256/25448.jpg  \n",
            "  inflating: celeba_hq_256/25449.jpg  \n",
            "  inflating: celeba_hq_256/25450.jpg  \n",
            "  inflating: celeba_hq_256/25451.jpg  \n",
            "  inflating: celeba_hq_256/25452.jpg  \n",
            "  inflating: celeba_hq_256/25453.jpg  \n",
            "  inflating: celeba_hq_256/25454.jpg  \n",
            "  inflating: celeba_hq_256/25455.jpg  \n",
            "  inflating: celeba_hq_256/25456.jpg  \n",
            "  inflating: celeba_hq_256/25457.jpg  \n",
            "  inflating: celeba_hq_256/25458.jpg  \n",
            "  inflating: celeba_hq_256/25459.jpg  \n",
            "  inflating: celeba_hq_256/25460.jpg  \n",
            "  inflating: celeba_hq_256/25461.jpg  \n",
            "  inflating: celeba_hq_256/25462.jpg  \n",
            "  inflating: celeba_hq_256/25463.jpg  \n",
            "  inflating: celeba_hq_256/25464.jpg  \n",
            "  inflating: celeba_hq_256/25465.jpg  \n",
            "  inflating: celeba_hq_256/25466.jpg  \n",
            "  inflating: celeba_hq_256/25467.jpg  \n",
            "  inflating: celeba_hq_256/25468.jpg  \n",
            "  inflating: celeba_hq_256/25469.jpg  \n",
            "  inflating: celeba_hq_256/25470.jpg  \n",
            "  inflating: celeba_hq_256/25471.jpg  \n",
            "  inflating: celeba_hq_256/25472.jpg  \n",
            "  inflating: celeba_hq_256/25473.jpg  \n",
            "  inflating: celeba_hq_256/25474.jpg  \n",
            "  inflating: celeba_hq_256/25475.jpg  \n",
            "  inflating: celeba_hq_256/25476.jpg  \n",
            "  inflating: celeba_hq_256/25477.jpg  \n",
            "  inflating: celeba_hq_256/25478.jpg  \n",
            "  inflating: celeba_hq_256/25479.jpg  \n",
            "  inflating: celeba_hq_256/25480.jpg  \n",
            "  inflating: celeba_hq_256/25481.jpg  \n",
            "  inflating: celeba_hq_256/25482.jpg  \n",
            "  inflating: celeba_hq_256/25483.jpg  \n",
            "  inflating: celeba_hq_256/25484.jpg  \n",
            "  inflating: celeba_hq_256/25485.jpg  \n",
            "  inflating: celeba_hq_256/25486.jpg  \n",
            "  inflating: celeba_hq_256/25487.jpg  \n",
            "  inflating: celeba_hq_256/25488.jpg  \n",
            "  inflating: celeba_hq_256/25489.jpg  \n",
            "  inflating: celeba_hq_256/25490.jpg  \n",
            "  inflating: celeba_hq_256/25491.jpg  \n",
            "  inflating: celeba_hq_256/25492.jpg  \n",
            "  inflating: celeba_hq_256/25493.jpg  \n",
            "  inflating: celeba_hq_256/25494.jpg  \n",
            "  inflating: celeba_hq_256/25495.jpg  \n",
            "  inflating: celeba_hq_256/25496.jpg  \n",
            "  inflating: celeba_hq_256/25497.jpg  \n",
            "  inflating: celeba_hq_256/25498.jpg  \n",
            "  inflating: celeba_hq_256/25499.jpg  \n",
            "  inflating: celeba_hq_256/25500.jpg  \n",
            "  inflating: celeba_hq_256/25501.jpg  \n",
            "  inflating: celeba_hq_256/25502.jpg  \n",
            "  inflating: celeba_hq_256/25503.jpg  \n",
            "  inflating: celeba_hq_256/25504.jpg  \n",
            "  inflating: celeba_hq_256/25505.jpg  \n",
            "  inflating: celeba_hq_256/25506.jpg  \n",
            "  inflating: celeba_hq_256/25507.jpg  \n",
            "  inflating: celeba_hq_256/25508.jpg  \n",
            "  inflating: celeba_hq_256/25509.jpg  \n",
            "  inflating: celeba_hq_256/25510.jpg  \n",
            "  inflating: celeba_hq_256/25511.jpg  \n",
            "  inflating: celeba_hq_256/25512.jpg  \n",
            "  inflating: celeba_hq_256/25513.jpg  \n",
            "  inflating: celeba_hq_256/25514.jpg  \n",
            "  inflating: celeba_hq_256/25515.jpg  \n",
            "  inflating: celeba_hq_256/25516.jpg  \n",
            "  inflating: celeba_hq_256/25517.jpg  \n",
            "  inflating: celeba_hq_256/25518.jpg  \n",
            "  inflating: celeba_hq_256/25519.jpg  \n",
            "  inflating: celeba_hq_256/25520.jpg  \n",
            "  inflating: celeba_hq_256/25521.jpg  \n",
            "  inflating: celeba_hq_256/25522.jpg  \n",
            "  inflating: celeba_hq_256/25523.jpg  \n",
            "  inflating: celeba_hq_256/25524.jpg  \n",
            "  inflating: celeba_hq_256/25525.jpg  \n",
            "  inflating: celeba_hq_256/25526.jpg  \n",
            "  inflating: celeba_hq_256/25527.jpg  \n",
            "  inflating: celeba_hq_256/25528.jpg  \n",
            "  inflating: celeba_hq_256/25529.jpg  \n",
            "  inflating: celeba_hq_256/25530.jpg  \n",
            "  inflating: celeba_hq_256/25531.jpg  \n",
            "  inflating: celeba_hq_256/25532.jpg  \n",
            "  inflating: celeba_hq_256/25533.jpg  \n",
            "  inflating: celeba_hq_256/25534.jpg  \n",
            "  inflating: celeba_hq_256/25535.jpg  \n",
            "  inflating: celeba_hq_256/25536.jpg  \n",
            "  inflating: celeba_hq_256/25537.jpg  \n",
            "  inflating: celeba_hq_256/25538.jpg  \n",
            "  inflating: celeba_hq_256/25539.jpg  \n",
            "  inflating: celeba_hq_256/25540.jpg  \n",
            "  inflating: celeba_hq_256/25541.jpg  \n",
            "  inflating: celeba_hq_256/25542.jpg  \n",
            "  inflating: celeba_hq_256/25543.jpg  \n",
            "  inflating: celeba_hq_256/25544.jpg  \n",
            "  inflating: celeba_hq_256/25545.jpg  \n",
            "  inflating: celeba_hq_256/25546.jpg  \n",
            "  inflating: celeba_hq_256/25547.jpg  \n",
            "  inflating: celeba_hq_256/25548.jpg  \n",
            "  inflating: celeba_hq_256/25549.jpg  \n",
            "  inflating: celeba_hq_256/25550.jpg  \n",
            "  inflating: celeba_hq_256/25551.jpg  \n",
            "  inflating: celeba_hq_256/25552.jpg  \n",
            "  inflating: celeba_hq_256/25553.jpg  \n",
            "  inflating: celeba_hq_256/25554.jpg  \n",
            "  inflating: celeba_hq_256/25555.jpg  \n",
            "  inflating: celeba_hq_256/25556.jpg  \n",
            "  inflating: celeba_hq_256/25557.jpg  \n",
            "  inflating: celeba_hq_256/25558.jpg  \n",
            "  inflating: celeba_hq_256/25559.jpg  \n",
            "  inflating: celeba_hq_256/25560.jpg  \n",
            "  inflating: celeba_hq_256/25561.jpg  \n",
            "  inflating: celeba_hq_256/25562.jpg  \n",
            "  inflating: celeba_hq_256/25563.jpg  \n",
            "  inflating: celeba_hq_256/25564.jpg  \n",
            "  inflating: celeba_hq_256/25565.jpg  \n",
            "  inflating: celeba_hq_256/25566.jpg  \n",
            "  inflating: celeba_hq_256/25567.jpg  \n",
            "  inflating: celeba_hq_256/25568.jpg  \n",
            "  inflating: celeba_hq_256/25569.jpg  \n",
            "  inflating: celeba_hq_256/25570.jpg  \n",
            "  inflating: celeba_hq_256/25571.jpg  \n",
            "  inflating: celeba_hq_256/25572.jpg  \n",
            "  inflating: celeba_hq_256/25573.jpg  \n",
            "  inflating: celeba_hq_256/25574.jpg  \n",
            "  inflating: celeba_hq_256/25575.jpg  \n",
            "  inflating: celeba_hq_256/25576.jpg  \n",
            "  inflating: celeba_hq_256/25577.jpg  \n",
            "  inflating: celeba_hq_256/25578.jpg  \n",
            "  inflating: celeba_hq_256/25579.jpg  \n",
            "  inflating: celeba_hq_256/25580.jpg  \n",
            "  inflating: celeba_hq_256/25581.jpg  \n",
            "  inflating: celeba_hq_256/25582.jpg  \n",
            "  inflating: celeba_hq_256/25583.jpg  \n",
            "  inflating: celeba_hq_256/25584.jpg  \n",
            "  inflating: celeba_hq_256/25585.jpg  \n",
            "  inflating: celeba_hq_256/25586.jpg  \n",
            "  inflating: celeba_hq_256/25587.jpg  \n",
            "  inflating: celeba_hq_256/25588.jpg  \n",
            "  inflating: celeba_hq_256/25589.jpg  \n",
            "  inflating: celeba_hq_256/25590.jpg  \n",
            "  inflating: celeba_hq_256/25591.jpg  \n",
            "  inflating: celeba_hq_256/25592.jpg  \n",
            "  inflating: celeba_hq_256/25593.jpg  \n",
            "  inflating: celeba_hq_256/25594.jpg  \n",
            "  inflating: celeba_hq_256/25595.jpg  \n",
            "  inflating: celeba_hq_256/25596.jpg  \n",
            "  inflating: celeba_hq_256/25597.jpg  \n",
            "  inflating: celeba_hq_256/25598.jpg  \n",
            "  inflating: celeba_hq_256/25599.jpg  \n",
            "  inflating: celeba_hq_256/25600.jpg  \n",
            "  inflating: celeba_hq_256/25601.jpg  \n",
            "  inflating: celeba_hq_256/25602.jpg  \n",
            "  inflating: celeba_hq_256/25603.jpg  \n",
            "  inflating: celeba_hq_256/25604.jpg  \n",
            "  inflating: celeba_hq_256/25605.jpg  \n",
            "  inflating: celeba_hq_256/25606.jpg  \n",
            "  inflating: celeba_hq_256/25607.jpg  \n",
            "  inflating: celeba_hq_256/25608.jpg  \n",
            "  inflating: celeba_hq_256/25609.jpg  \n",
            "  inflating: celeba_hq_256/25610.jpg  \n",
            "  inflating: celeba_hq_256/25611.jpg  \n",
            "  inflating: celeba_hq_256/25612.jpg  \n",
            "  inflating: celeba_hq_256/25613.jpg  \n",
            "  inflating: celeba_hq_256/25614.jpg  \n",
            "  inflating: celeba_hq_256/25615.jpg  \n",
            "  inflating: celeba_hq_256/25616.jpg  \n",
            "  inflating: celeba_hq_256/25617.jpg  \n",
            "  inflating: celeba_hq_256/25618.jpg  \n",
            "  inflating: celeba_hq_256/25619.jpg  \n",
            "  inflating: celeba_hq_256/25620.jpg  \n",
            "  inflating: celeba_hq_256/25621.jpg  \n",
            "  inflating: celeba_hq_256/25622.jpg  \n",
            "  inflating: celeba_hq_256/25623.jpg  \n",
            "  inflating: celeba_hq_256/25624.jpg  \n",
            "  inflating: celeba_hq_256/25625.jpg  \n",
            "  inflating: celeba_hq_256/25626.jpg  \n",
            "  inflating: celeba_hq_256/25627.jpg  \n",
            "  inflating: celeba_hq_256/25628.jpg  \n",
            "  inflating: celeba_hq_256/25629.jpg  \n",
            "  inflating: celeba_hq_256/25630.jpg  \n",
            "  inflating: celeba_hq_256/25631.jpg  \n",
            "  inflating: celeba_hq_256/25632.jpg  \n",
            "  inflating: celeba_hq_256/25633.jpg  \n",
            "  inflating: celeba_hq_256/25634.jpg  \n",
            "  inflating: celeba_hq_256/25635.jpg  \n",
            "  inflating: celeba_hq_256/25636.jpg  \n",
            "  inflating: celeba_hq_256/25637.jpg  \n",
            "  inflating: celeba_hq_256/25638.jpg  \n",
            "  inflating: celeba_hq_256/25639.jpg  \n",
            "  inflating: celeba_hq_256/25640.jpg  \n",
            "  inflating: celeba_hq_256/25641.jpg  \n",
            "  inflating: celeba_hq_256/25642.jpg  \n",
            "  inflating: celeba_hq_256/25643.jpg  \n",
            "  inflating: celeba_hq_256/25644.jpg  \n",
            "  inflating: celeba_hq_256/25645.jpg  \n",
            "  inflating: celeba_hq_256/25646.jpg  \n",
            "  inflating: celeba_hq_256/25647.jpg  \n",
            "  inflating: celeba_hq_256/25648.jpg  \n",
            "  inflating: celeba_hq_256/25649.jpg  \n",
            "  inflating: celeba_hq_256/25650.jpg  \n",
            "  inflating: celeba_hq_256/25651.jpg  \n",
            "  inflating: celeba_hq_256/25652.jpg  \n",
            "  inflating: celeba_hq_256/25653.jpg  \n",
            "  inflating: celeba_hq_256/25654.jpg  \n",
            "  inflating: celeba_hq_256/25655.jpg  \n",
            "  inflating: celeba_hq_256/25656.jpg  \n",
            "  inflating: celeba_hq_256/25657.jpg  \n",
            "  inflating: celeba_hq_256/25658.jpg  \n",
            "  inflating: celeba_hq_256/25659.jpg  \n",
            "  inflating: celeba_hq_256/25660.jpg  \n",
            "  inflating: celeba_hq_256/25661.jpg  \n",
            "  inflating: celeba_hq_256/25662.jpg  \n",
            "  inflating: celeba_hq_256/25663.jpg  \n",
            "  inflating: celeba_hq_256/25664.jpg  \n",
            "  inflating: celeba_hq_256/25665.jpg  \n",
            "  inflating: celeba_hq_256/25666.jpg  \n",
            "  inflating: celeba_hq_256/25667.jpg  \n",
            "  inflating: celeba_hq_256/25668.jpg  \n",
            "  inflating: celeba_hq_256/25669.jpg  \n",
            "  inflating: celeba_hq_256/25670.jpg  \n",
            "  inflating: celeba_hq_256/25671.jpg  \n",
            "  inflating: celeba_hq_256/25672.jpg  \n",
            "  inflating: celeba_hq_256/25673.jpg  \n",
            "  inflating: celeba_hq_256/25674.jpg  \n",
            "  inflating: celeba_hq_256/25675.jpg  \n",
            "  inflating: celeba_hq_256/25676.jpg  \n",
            "  inflating: celeba_hq_256/25677.jpg  \n",
            "  inflating: celeba_hq_256/25678.jpg  \n",
            "  inflating: celeba_hq_256/25679.jpg  \n",
            "  inflating: celeba_hq_256/25680.jpg  \n",
            "  inflating: celeba_hq_256/25681.jpg  \n",
            "  inflating: celeba_hq_256/25682.jpg  \n",
            "  inflating: celeba_hq_256/25683.jpg  \n",
            "  inflating: celeba_hq_256/25684.jpg  \n",
            "  inflating: celeba_hq_256/25685.jpg  \n",
            "  inflating: celeba_hq_256/25686.jpg  \n",
            "  inflating: celeba_hq_256/25687.jpg  \n",
            "  inflating: celeba_hq_256/25688.jpg  \n",
            "  inflating: celeba_hq_256/25689.jpg  \n",
            "  inflating: celeba_hq_256/25690.jpg  \n",
            "  inflating: celeba_hq_256/25691.jpg  \n",
            "  inflating: celeba_hq_256/25692.jpg  \n",
            "  inflating: celeba_hq_256/25693.jpg  \n",
            "  inflating: celeba_hq_256/25694.jpg  \n",
            "  inflating: celeba_hq_256/25695.jpg  \n",
            "  inflating: celeba_hq_256/25696.jpg  \n",
            "  inflating: celeba_hq_256/25697.jpg  \n",
            "  inflating: celeba_hq_256/25698.jpg  \n",
            "  inflating: celeba_hq_256/25699.jpg  \n",
            "  inflating: celeba_hq_256/25700.jpg  \n",
            "  inflating: celeba_hq_256/25701.jpg  \n",
            "  inflating: celeba_hq_256/25702.jpg  \n",
            "  inflating: celeba_hq_256/25703.jpg  \n",
            "  inflating: celeba_hq_256/25704.jpg  \n",
            "  inflating: celeba_hq_256/25705.jpg  \n",
            "  inflating: celeba_hq_256/25706.jpg  \n",
            "  inflating: celeba_hq_256/25707.jpg  \n",
            "  inflating: celeba_hq_256/25708.jpg  \n",
            "  inflating: celeba_hq_256/25709.jpg  \n",
            "  inflating: celeba_hq_256/25710.jpg  \n",
            "  inflating: celeba_hq_256/25711.jpg  \n",
            "  inflating: celeba_hq_256/25712.jpg  \n",
            "  inflating: celeba_hq_256/25713.jpg  \n",
            "  inflating: celeba_hq_256/25714.jpg  \n",
            "  inflating: celeba_hq_256/25715.jpg  \n",
            "  inflating: celeba_hq_256/25716.jpg  \n",
            "  inflating: celeba_hq_256/25717.jpg  \n",
            "  inflating: celeba_hq_256/25718.jpg  \n",
            "  inflating: celeba_hq_256/25719.jpg  \n",
            "  inflating: celeba_hq_256/25720.jpg  \n",
            "  inflating: celeba_hq_256/25721.jpg  \n",
            "  inflating: celeba_hq_256/25722.jpg  \n",
            "  inflating: celeba_hq_256/25723.jpg  \n",
            "  inflating: celeba_hq_256/25724.jpg  \n",
            "  inflating: celeba_hq_256/25725.jpg  \n",
            "  inflating: celeba_hq_256/25726.jpg  \n",
            "  inflating: celeba_hq_256/25727.jpg  \n",
            "  inflating: celeba_hq_256/25728.jpg  \n",
            "  inflating: celeba_hq_256/25729.jpg  \n",
            "  inflating: celeba_hq_256/25730.jpg  \n",
            "  inflating: celeba_hq_256/25731.jpg  \n",
            "  inflating: celeba_hq_256/25732.jpg  \n",
            "  inflating: celeba_hq_256/25733.jpg  \n",
            "  inflating: celeba_hq_256/25734.jpg  \n",
            "  inflating: celeba_hq_256/25735.jpg  \n",
            "  inflating: celeba_hq_256/25736.jpg  \n",
            "  inflating: celeba_hq_256/25737.jpg  \n",
            "  inflating: celeba_hq_256/25738.jpg  \n",
            "  inflating: celeba_hq_256/25739.jpg  \n",
            "  inflating: celeba_hq_256/25740.jpg  \n",
            "  inflating: celeba_hq_256/25741.jpg  \n",
            "  inflating: celeba_hq_256/25742.jpg  \n",
            "  inflating: celeba_hq_256/25743.jpg  \n",
            "  inflating: celeba_hq_256/25744.jpg  \n",
            "  inflating: celeba_hq_256/25745.jpg  \n",
            "  inflating: celeba_hq_256/25746.jpg  \n",
            "  inflating: celeba_hq_256/25747.jpg  \n",
            "  inflating: celeba_hq_256/25748.jpg  \n",
            "  inflating: celeba_hq_256/25749.jpg  \n",
            "  inflating: celeba_hq_256/25750.jpg  \n",
            "  inflating: celeba_hq_256/25751.jpg  \n",
            "  inflating: celeba_hq_256/25752.jpg  \n",
            "  inflating: celeba_hq_256/25753.jpg  \n",
            "  inflating: celeba_hq_256/25754.jpg  \n",
            "  inflating: celeba_hq_256/25755.jpg  \n",
            "  inflating: celeba_hq_256/25756.jpg  \n",
            "  inflating: celeba_hq_256/25757.jpg  \n",
            "  inflating: celeba_hq_256/25758.jpg  \n",
            "  inflating: celeba_hq_256/25759.jpg  \n",
            "  inflating: celeba_hq_256/25760.jpg  \n",
            "  inflating: celeba_hq_256/25761.jpg  \n",
            "  inflating: celeba_hq_256/25762.jpg  \n",
            "  inflating: celeba_hq_256/25763.jpg  \n",
            "  inflating: celeba_hq_256/25764.jpg  \n",
            "  inflating: celeba_hq_256/25765.jpg  \n",
            "  inflating: celeba_hq_256/25766.jpg  \n",
            "  inflating: celeba_hq_256/25767.jpg  \n",
            "  inflating: celeba_hq_256/25768.jpg  \n",
            "  inflating: celeba_hq_256/25769.jpg  \n",
            "  inflating: celeba_hq_256/25770.jpg  \n",
            "  inflating: celeba_hq_256/25771.jpg  \n",
            "  inflating: celeba_hq_256/25772.jpg  \n",
            "  inflating: celeba_hq_256/25773.jpg  \n",
            "  inflating: celeba_hq_256/25774.jpg  \n",
            "  inflating: celeba_hq_256/25775.jpg  \n",
            "  inflating: celeba_hq_256/25776.jpg  \n",
            "  inflating: celeba_hq_256/25777.jpg  \n",
            "  inflating: celeba_hq_256/25778.jpg  \n",
            "  inflating: celeba_hq_256/25779.jpg  \n",
            "  inflating: celeba_hq_256/25780.jpg  \n",
            "  inflating: celeba_hq_256/25781.jpg  \n",
            "  inflating: celeba_hq_256/25782.jpg  \n",
            "  inflating: celeba_hq_256/25783.jpg  \n",
            "  inflating: celeba_hq_256/25784.jpg  \n",
            "  inflating: celeba_hq_256/25785.jpg  \n",
            "  inflating: celeba_hq_256/25786.jpg  \n",
            "  inflating: celeba_hq_256/25787.jpg  \n",
            "  inflating: celeba_hq_256/25788.jpg  \n",
            "  inflating: celeba_hq_256/25789.jpg  \n",
            "  inflating: celeba_hq_256/25790.jpg  \n",
            "  inflating: celeba_hq_256/25791.jpg  \n",
            "  inflating: celeba_hq_256/25792.jpg  \n",
            "  inflating: celeba_hq_256/25793.jpg  \n",
            "  inflating: celeba_hq_256/25794.jpg  \n",
            "  inflating: celeba_hq_256/25795.jpg  \n",
            "  inflating: celeba_hq_256/25796.jpg  \n",
            "  inflating: celeba_hq_256/25797.jpg  \n",
            "  inflating: celeba_hq_256/25798.jpg  \n",
            "  inflating: celeba_hq_256/25799.jpg  \n",
            "  inflating: celeba_hq_256/25800.jpg  \n",
            "  inflating: celeba_hq_256/25801.jpg  \n",
            "  inflating: celeba_hq_256/25802.jpg  \n",
            "  inflating: celeba_hq_256/25803.jpg  \n",
            "  inflating: celeba_hq_256/25804.jpg  \n",
            "  inflating: celeba_hq_256/25805.jpg  \n",
            "  inflating: celeba_hq_256/25806.jpg  \n",
            "  inflating: celeba_hq_256/25807.jpg  \n",
            "  inflating: celeba_hq_256/25808.jpg  \n",
            "  inflating: celeba_hq_256/25809.jpg  \n",
            "  inflating: celeba_hq_256/25810.jpg  \n",
            "  inflating: celeba_hq_256/25811.jpg  \n",
            "  inflating: celeba_hq_256/25812.jpg  \n",
            "  inflating: celeba_hq_256/25813.jpg  \n",
            "  inflating: celeba_hq_256/25814.jpg  \n",
            "  inflating: celeba_hq_256/25815.jpg  \n",
            "  inflating: celeba_hq_256/25816.jpg  \n",
            "  inflating: celeba_hq_256/25817.jpg  \n",
            "  inflating: celeba_hq_256/25818.jpg  \n",
            "  inflating: celeba_hq_256/25819.jpg  \n",
            "  inflating: celeba_hq_256/25820.jpg  \n",
            "  inflating: celeba_hq_256/25821.jpg  \n",
            "  inflating: celeba_hq_256/25822.jpg  \n",
            "  inflating: celeba_hq_256/25823.jpg  \n",
            "  inflating: celeba_hq_256/25824.jpg  \n",
            "  inflating: celeba_hq_256/25825.jpg  \n",
            "  inflating: celeba_hq_256/25826.jpg  \n",
            "  inflating: celeba_hq_256/25827.jpg  \n",
            "  inflating: celeba_hq_256/25828.jpg  \n",
            "  inflating: celeba_hq_256/25829.jpg  \n",
            "  inflating: celeba_hq_256/25830.jpg  \n",
            "  inflating: celeba_hq_256/25831.jpg  \n",
            "  inflating: celeba_hq_256/25832.jpg  \n",
            "  inflating: celeba_hq_256/25833.jpg  \n",
            "  inflating: celeba_hq_256/25834.jpg  \n",
            "  inflating: celeba_hq_256/25835.jpg  \n",
            "  inflating: celeba_hq_256/25836.jpg  \n",
            "  inflating: celeba_hq_256/25837.jpg  \n",
            "  inflating: celeba_hq_256/25838.jpg  \n",
            "  inflating: celeba_hq_256/25839.jpg  \n",
            "  inflating: celeba_hq_256/25840.jpg  \n",
            "  inflating: celeba_hq_256/25841.jpg  \n",
            "  inflating: celeba_hq_256/25842.jpg  \n",
            "  inflating: celeba_hq_256/25843.jpg  \n",
            "  inflating: celeba_hq_256/25844.jpg  \n",
            "  inflating: celeba_hq_256/25845.jpg  \n",
            "  inflating: celeba_hq_256/25846.jpg  \n",
            "  inflating: celeba_hq_256/25847.jpg  \n",
            "  inflating: celeba_hq_256/25848.jpg  \n",
            "  inflating: celeba_hq_256/25849.jpg  \n",
            "  inflating: celeba_hq_256/25850.jpg  \n",
            "  inflating: celeba_hq_256/25851.jpg  \n",
            "  inflating: celeba_hq_256/25852.jpg  \n",
            "  inflating: celeba_hq_256/25853.jpg  \n",
            "  inflating: celeba_hq_256/25854.jpg  \n",
            "  inflating: celeba_hq_256/25855.jpg  \n",
            "  inflating: celeba_hq_256/25856.jpg  \n",
            "  inflating: celeba_hq_256/25857.jpg  \n",
            "  inflating: celeba_hq_256/25858.jpg  \n",
            "  inflating: celeba_hq_256/25859.jpg  \n",
            "  inflating: celeba_hq_256/25860.jpg  \n",
            "  inflating: celeba_hq_256/25861.jpg  \n",
            "  inflating: celeba_hq_256/25862.jpg  \n",
            "  inflating: celeba_hq_256/25863.jpg  \n",
            "  inflating: celeba_hq_256/25864.jpg  \n",
            "  inflating: celeba_hq_256/25865.jpg  \n",
            "  inflating: celeba_hq_256/25866.jpg  \n",
            "  inflating: celeba_hq_256/25867.jpg  \n",
            "  inflating: celeba_hq_256/25868.jpg  \n",
            "  inflating: celeba_hq_256/25869.jpg  \n",
            "  inflating: celeba_hq_256/25870.jpg  \n",
            "  inflating: celeba_hq_256/25871.jpg  \n",
            "  inflating: celeba_hq_256/25872.jpg  \n",
            "  inflating: celeba_hq_256/25873.jpg  \n",
            "  inflating: celeba_hq_256/25874.jpg  \n",
            "  inflating: celeba_hq_256/25875.jpg  \n",
            "  inflating: celeba_hq_256/25876.jpg  \n",
            "  inflating: celeba_hq_256/25877.jpg  \n",
            "  inflating: celeba_hq_256/25878.jpg  \n",
            "  inflating: celeba_hq_256/25879.jpg  \n",
            "  inflating: celeba_hq_256/25880.jpg  \n",
            "  inflating: celeba_hq_256/25881.jpg  \n",
            "  inflating: celeba_hq_256/25882.jpg  \n",
            "  inflating: celeba_hq_256/25883.jpg  \n",
            "  inflating: celeba_hq_256/25884.jpg  \n",
            "  inflating: celeba_hq_256/25885.jpg  \n",
            "  inflating: celeba_hq_256/25886.jpg  \n",
            "  inflating: celeba_hq_256/25887.jpg  \n",
            "  inflating: celeba_hq_256/25888.jpg  \n",
            "  inflating: celeba_hq_256/25889.jpg  \n",
            "  inflating: celeba_hq_256/25890.jpg  \n",
            "  inflating: celeba_hq_256/25891.jpg  \n",
            "  inflating: celeba_hq_256/25892.jpg  \n",
            "  inflating: celeba_hq_256/25893.jpg  \n",
            "  inflating: celeba_hq_256/25894.jpg  \n",
            "  inflating: celeba_hq_256/25895.jpg  \n",
            "  inflating: celeba_hq_256/25896.jpg  \n",
            "  inflating: celeba_hq_256/25897.jpg  \n",
            "  inflating: celeba_hq_256/25898.jpg  \n",
            "  inflating: celeba_hq_256/25899.jpg  \n",
            "  inflating: celeba_hq_256/25900.jpg  \n",
            "  inflating: celeba_hq_256/25901.jpg  \n",
            "  inflating: celeba_hq_256/25902.jpg  \n",
            "  inflating: celeba_hq_256/25903.jpg  \n",
            "  inflating: celeba_hq_256/25904.jpg  \n",
            "  inflating: celeba_hq_256/25905.jpg  \n",
            "  inflating: celeba_hq_256/25906.jpg  \n",
            "  inflating: celeba_hq_256/25907.jpg  \n",
            "  inflating: celeba_hq_256/25908.jpg  \n",
            "  inflating: celeba_hq_256/25909.jpg  \n",
            "  inflating: celeba_hq_256/25910.jpg  \n",
            "  inflating: celeba_hq_256/25911.jpg  \n",
            "  inflating: celeba_hq_256/25912.jpg  \n",
            "  inflating: celeba_hq_256/25913.jpg  \n",
            "  inflating: celeba_hq_256/25914.jpg  \n",
            "  inflating: celeba_hq_256/25915.jpg  \n",
            "  inflating: celeba_hq_256/25916.jpg  \n",
            "  inflating: celeba_hq_256/25917.jpg  \n",
            "  inflating: celeba_hq_256/25918.jpg  \n",
            "  inflating: celeba_hq_256/25919.jpg  \n",
            "  inflating: celeba_hq_256/25920.jpg  \n",
            "  inflating: celeba_hq_256/25921.jpg  \n",
            "  inflating: celeba_hq_256/25922.jpg  \n",
            "  inflating: celeba_hq_256/25923.jpg  \n",
            "  inflating: celeba_hq_256/25924.jpg  \n",
            "  inflating: celeba_hq_256/25925.jpg  \n",
            "  inflating: celeba_hq_256/25926.jpg  \n",
            "  inflating: celeba_hq_256/25927.jpg  \n",
            "  inflating: celeba_hq_256/25928.jpg  \n",
            "  inflating: celeba_hq_256/25929.jpg  \n",
            "  inflating: celeba_hq_256/25930.jpg  \n",
            "  inflating: celeba_hq_256/25931.jpg  \n",
            "  inflating: celeba_hq_256/25932.jpg  \n",
            "  inflating: celeba_hq_256/25933.jpg  \n",
            "  inflating: celeba_hq_256/25934.jpg  \n",
            "  inflating: celeba_hq_256/25935.jpg  \n",
            "  inflating: celeba_hq_256/25936.jpg  \n",
            "  inflating: celeba_hq_256/25937.jpg  \n",
            "  inflating: celeba_hq_256/25938.jpg  \n",
            "  inflating: celeba_hq_256/25939.jpg  \n",
            "  inflating: celeba_hq_256/25940.jpg  \n",
            "  inflating: celeba_hq_256/25941.jpg  \n",
            "  inflating: celeba_hq_256/25942.jpg  \n",
            "  inflating: celeba_hq_256/25943.jpg  \n",
            "  inflating: celeba_hq_256/25944.jpg  \n",
            "  inflating: celeba_hq_256/25945.jpg  \n",
            "  inflating: celeba_hq_256/25946.jpg  \n",
            "  inflating: celeba_hq_256/25947.jpg  \n",
            "  inflating: celeba_hq_256/25948.jpg  \n",
            "  inflating: celeba_hq_256/25949.jpg  \n",
            "  inflating: celeba_hq_256/25950.jpg  \n",
            "  inflating: celeba_hq_256/25951.jpg  \n",
            "  inflating: celeba_hq_256/25952.jpg  \n",
            "  inflating: celeba_hq_256/25953.jpg  \n",
            "  inflating: celeba_hq_256/25954.jpg  \n",
            "  inflating: celeba_hq_256/25955.jpg  \n",
            "  inflating: celeba_hq_256/25956.jpg  \n",
            "  inflating: celeba_hq_256/25957.jpg  \n",
            "  inflating: celeba_hq_256/25958.jpg  \n",
            "  inflating: celeba_hq_256/25959.jpg  \n",
            "  inflating: celeba_hq_256/25960.jpg  \n",
            "  inflating: celeba_hq_256/25961.jpg  \n",
            "  inflating: celeba_hq_256/25962.jpg  \n",
            "  inflating: celeba_hq_256/25963.jpg  \n",
            "  inflating: celeba_hq_256/25964.jpg  \n",
            "  inflating: celeba_hq_256/25965.jpg  \n",
            "  inflating: celeba_hq_256/25966.jpg  \n",
            "  inflating: celeba_hq_256/25967.jpg  \n",
            "  inflating: celeba_hq_256/25968.jpg  \n",
            "  inflating: celeba_hq_256/25969.jpg  \n",
            "  inflating: celeba_hq_256/25970.jpg  \n",
            "  inflating: celeba_hq_256/25971.jpg  \n",
            "  inflating: celeba_hq_256/25972.jpg  \n",
            "  inflating: celeba_hq_256/25973.jpg  \n",
            "  inflating: celeba_hq_256/25974.jpg  \n",
            "  inflating: celeba_hq_256/25975.jpg  \n",
            "  inflating: celeba_hq_256/25976.jpg  \n",
            "  inflating: celeba_hq_256/25977.jpg  \n",
            "  inflating: celeba_hq_256/25978.jpg  \n",
            "  inflating: celeba_hq_256/25979.jpg  \n",
            "  inflating: celeba_hq_256/25980.jpg  \n",
            "  inflating: celeba_hq_256/25981.jpg  \n",
            "  inflating: celeba_hq_256/25982.jpg  \n",
            "  inflating: celeba_hq_256/25983.jpg  \n",
            "  inflating: celeba_hq_256/25984.jpg  \n",
            "  inflating: celeba_hq_256/25985.jpg  \n",
            "  inflating: celeba_hq_256/25986.jpg  \n",
            "  inflating: celeba_hq_256/25987.jpg  \n",
            "  inflating: celeba_hq_256/25988.jpg  \n",
            "  inflating: celeba_hq_256/25989.jpg  \n",
            "  inflating: celeba_hq_256/25990.jpg  \n",
            "  inflating: celeba_hq_256/25991.jpg  \n",
            "  inflating: celeba_hq_256/25992.jpg  \n",
            "  inflating: celeba_hq_256/25993.jpg  \n",
            "  inflating: celeba_hq_256/25994.jpg  \n",
            "  inflating: celeba_hq_256/25995.jpg  \n",
            "  inflating: celeba_hq_256/25996.jpg  \n",
            "  inflating: celeba_hq_256/25997.jpg  \n",
            "  inflating: celeba_hq_256/25998.jpg  \n",
            "  inflating: celeba_hq_256/25999.jpg  \n",
            "  inflating: celeba_hq_256/26000.jpg  \n",
            "  inflating: celeba_hq_256/26001.jpg  \n",
            "  inflating: celeba_hq_256/26002.jpg  \n",
            "  inflating: celeba_hq_256/26003.jpg  \n",
            "  inflating: celeba_hq_256/26004.jpg  \n",
            "  inflating: celeba_hq_256/26005.jpg  \n",
            "  inflating: celeba_hq_256/26006.jpg  \n",
            "  inflating: celeba_hq_256/26007.jpg  \n",
            "  inflating: celeba_hq_256/26008.jpg  \n",
            "  inflating: celeba_hq_256/26009.jpg  \n",
            "  inflating: celeba_hq_256/26010.jpg  \n",
            "  inflating: celeba_hq_256/26011.jpg  \n",
            "  inflating: celeba_hq_256/26012.jpg  \n",
            "  inflating: celeba_hq_256/26013.jpg  \n",
            "  inflating: celeba_hq_256/26014.jpg  \n",
            "  inflating: celeba_hq_256/26015.jpg  \n",
            "  inflating: celeba_hq_256/26016.jpg  \n",
            "  inflating: celeba_hq_256/26017.jpg  \n",
            "  inflating: celeba_hq_256/26018.jpg  \n",
            "  inflating: celeba_hq_256/26019.jpg  \n",
            "  inflating: celeba_hq_256/26020.jpg  \n",
            "  inflating: celeba_hq_256/26021.jpg  \n",
            "  inflating: celeba_hq_256/26022.jpg  \n",
            "  inflating: celeba_hq_256/26023.jpg  \n",
            "  inflating: celeba_hq_256/26024.jpg  \n",
            "  inflating: celeba_hq_256/26025.jpg  \n",
            "  inflating: celeba_hq_256/26026.jpg  \n",
            "  inflating: celeba_hq_256/26027.jpg  \n",
            "  inflating: celeba_hq_256/26028.jpg  \n",
            "  inflating: celeba_hq_256/26029.jpg  \n",
            "  inflating: celeba_hq_256/26030.jpg  \n",
            "  inflating: celeba_hq_256/26031.jpg  \n",
            "  inflating: celeba_hq_256/26032.jpg  \n",
            "  inflating: celeba_hq_256/26033.jpg  \n",
            "  inflating: celeba_hq_256/26034.jpg  \n",
            "  inflating: celeba_hq_256/26035.jpg  \n",
            "  inflating: celeba_hq_256/26036.jpg  \n",
            "  inflating: celeba_hq_256/26037.jpg  \n",
            "  inflating: celeba_hq_256/26038.jpg  \n",
            "  inflating: celeba_hq_256/26039.jpg  \n",
            "  inflating: celeba_hq_256/26040.jpg  \n",
            "  inflating: celeba_hq_256/26041.jpg  \n",
            "  inflating: celeba_hq_256/26042.jpg  \n",
            "  inflating: celeba_hq_256/26043.jpg  \n",
            "  inflating: celeba_hq_256/26044.jpg  \n",
            "  inflating: celeba_hq_256/26045.jpg  \n",
            "  inflating: celeba_hq_256/26046.jpg  \n",
            "  inflating: celeba_hq_256/26047.jpg  \n",
            "  inflating: celeba_hq_256/26048.jpg  \n",
            "  inflating: celeba_hq_256/26049.jpg  \n",
            "  inflating: celeba_hq_256/26050.jpg  \n",
            "  inflating: celeba_hq_256/26051.jpg  \n",
            "  inflating: celeba_hq_256/26052.jpg  \n",
            "  inflating: celeba_hq_256/26053.jpg  \n",
            "  inflating: celeba_hq_256/26054.jpg  \n",
            "  inflating: celeba_hq_256/26055.jpg  \n",
            "  inflating: celeba_hq_256/26056.jpg  \n",
            "  inflating: celeba_hq_256/26057.jpg  \n",
            "  inflating: celeba_hq_256/26058.jpg  \n",
            "  inflating: celeba_hq_256/26059.jpg  \n",
            "  inflating: celeba_hq_256/26060.jpg  \n",
            "  inflating: celeba_hq_256/26061.jpg  \n",
            "  inflating: celeba_hq_256/26062.jpg  \n",
            "  inflating: celeba_hq_256/26063.jpg  \n",
            "  inflating: celeba_hq_256/26064.jpg  \n",
            "  inflating: celeba_hq_256/26065.jpg  \n",
            "  inflating: celeba_hq_256/26066.jpg  \n",
            "  inflating: celeba_hq_256/26067.jpg  \n",
            "  inflating: celeba_hq_256/26068.jpg  \n",
            "  inflating: celeba_hq_256/26069.jpg  \n",
            "  inflating: celeba_hq_256/26070.jpg  \n",
            "  inflating: celeba_hq_256/26071.jpg  \n",
            "  inflating: celeba_hq_256/26072.jpg  \n",
            "  inflating: celeba_hq_256/26073.jpg  \n",
            "  inflating: celeba_hq_256/26074.jpg  \n",
            "  inflating: celeba_hq_256/26075.jpg  \n",
            "  inflating: celeba_hq_256/26076.jpg  \n",
            "  inflating: celeba_hq_256/26077.jpg  \n",
            "  inflating: celeba_hq_256/26078.jpg  \n",
            "  inflating: celeba_hq_256/26079.jpg  \n",
            "  inflating: celeba_hq_256/26080.jpg  \n",
            "  inflating: celeba_hq_256/26081.jpg  \n",
            "  inflating: celeba_hq_256/26082.jpg  \n",
            "  inflating: celeba_hq_256/26083.jpg  \n",
            "  inflating: celeba_hq_256/26084.jpg  \n",
            "  inflating: celeba_hq_256/26085.jpg  \n",
            "  inflating: celeba_hq_256/26086.jpg  \n",
            "  inflating: celeba_hq_256/26087.jpg  \n",
            "  inflating: celeba_hq_256/26088.jpg  \n",
            "  inflating: celeba_hq_256/26089.jpg  \n",
            "  inflating: celeba_hq_256/26090.jpg  \n",
            "  inflating: celeba_hq_256/26091.jpg  \n",
            "  inflating: celeba_hq_256/26092.jpg  \n",
            "  inflating: celeba_hq_256/26093.jpg  \n",
            "  inflating: celeba_hq_256/26094.jpg  \n",
            "  inflating: celeba_hq_256/26095.jpg  \n",
            "  inflating: celeba_hq_256/26096.jpg  \n",
            "  inflating: celeba_hq_256/26097.jpg  \n",
            "  inflating: celeba_hq_256/26098.jpg  \n",
            "  inflating: celeba_hq_256/26099.jpg  \n",
            "  inflating: celeba_hq_256/26100.jpg  \n",
            "  inflating: celeba_hq_256/26101.jpg  \n",
            "  inflating: celeba_hq_256/26102.jpg  \n",
            "  inflating: celeba_hq_256/26103.jpg  \n",
            "  inflating: celeba_hq_256/26104.jpg  \n",
            "  inflating: celeba_hq_256/26105.jpg  \n",
            "  inflating: celeba_hq_256/26106.jpg  \n",
            "  inflating: celeba_hq_256/26107.jpg  \n",
            "  inflating: celeba_hq_256/26108.jpg  \n",
            "  inflating: celeba_hq_256/26109.jpg  \n",
            "  inflating: celeba_hq_256/26110.jpg  \n",
            "  inflating: celeba_hq_256/26111.jpg  \n",
            "  inflating: celeba_hq_256/26112.jpg  \n",
            "  inflating: celeba_hq_256/26113.jpg  \n",
            "  inflating: celeba_hq_256/26114.jpg  \n",
            "  inflating: celeba_hq_256/26115.jpg  \n",
            "  inflating: celeba_hq_256/26116.jpg  \n",
            "  inflating: celeba_hq_256/26117.jpg  \n",
            "  inflating: celeba_hq_256/26118.jpg  \n",
            "  inflating: celeba_hq_256/26119.jpg  \n",
            "  inflating: celeba_hq_256/26120.jpg  \n",
            "  inflating: celeba_hq_256/26121.jpg  \n",
            "  inflating: celeba_hq_256/26122.jpg  \n",
            "  inflating: celeba_hq_256/26123.jpg  \n",
            "  inflating: celeba_hq_256/26124.jpg  \n",
            "  inflating: celeba_hq_256/26125.jpg  \n",
            "  inflating: celeba_hq_256/26126.jpg  \n",
            "  inflating: celeba_hq_256/26127.jpg  \n",
            "  inflating: celeba_hq_256/26128.jpg  \n",
            "  inflating: celeba_hq_256/26129.jpg  \n",
            "  inflating: celeba_hq_256/26130.jpg  \n",
            "  inflating: celeba_hq_256/26131.jpg  \n",
            "  inflating: celeba_hq_256/26132.jpg  \n",
            "  inflating: celeba_hq_256/26133.jpg  \n",
            "  inflating: celeba_hq_256/26134.jpg  \n",
            "  inflating: celeba_hq_256/26135.jpg  \n",
            "  inflating: celeba_hq_256/26136.jpg  \n",
            "  inflating: celeba_hq_256/26137.jpg  \n",
            "  inflating: celeba_hq_256/26138.jpg  \n",
            "  inflating: celeba_hq_256/26139.jpg  \n",
            "  inflating: celeba_hq_256/26140.jpg  \n",
            "  inflating: celeba_hq_256/26141.jpg  \n",
            "  inflating: celeba_hq_256/26142.jpg  \n",
            "  inflating: celeba_hq_256/26143.jpg  \n",
            "  inflating: celeba_hq_256/26144.jpg  \n",
            "  inflating: celeba_hq_256/26145.jpg  \n",
            "  inflating: celeba_hq_256/26146.jpg  \n",
            "  inflating: celeba_hq_256/26147.jpg  \n",
            "  inflating: celeba_hq_256/26148.jpg  \n",
            "  inflating: celeba_hq_256/26149.jpg  \n",
            "  inflating: celeba_hq_256/26150.jpg  \n",
            "  inflating: celeba_hq_256/26151.jpg  \n",
            "  inflating: celeba_hq_256/26152.jpg  \n",
            "  inflating: celeba_hq_256/26153.jpg  \n",
            "  inflating: celeba_hq_256/26154.jpg  \n",
            "  inflating: celeba_hq_256/26155.jpg  \n",
            "  inflating: celeba_hq_256/26156.jpg  \n",
            "  inflating: celeba_hq_256/26157.jpg  \n",
            "  inflating: celeba_hq_256/26158.jpg  \n",
            "  inflating: celeba_hq_256/26159.jpg  \n",
            "  inflating: celeba_hq_256/26160.jpg  \n",
            "  inflating: celeba_hq_256/26161.jpg  \n",
            "  inflating: celeba_hq_256/26162.jpg  \n",
            "  inflating: celeba_hq_256/26163.jpg  \n",
            "  inflating: celeba_hq_256/26164.jpg  \n",
            "  inflating: celeba_hq_256/26165.jpg  \n",
            "  inflating: celeba_hq_256/26166.jpg  \n",
            "  inflating: celeba_hq_256/26167.jpg  \n",
            "  inflating: celeba_hq_256/26168.jpg  \n",
            "  inflating: celeba_hq_256/26169.jpg  \n",
            "  inflating: celeba_hq_256/26170.jpg  \n",
            "  inflating: celeba_hq_256/26171.jpg  \n",
            "  inflating: celeba_hq_256/26172.jpg  \n",
            "  inflating: celeba_hq_256/26173.jpg  \n",
            "  inflating: celeba_hq_256/26174.jpg  \n",
            "  inflating: celeba_hq_256/26175.jpg  \n",
            "  inflating: celeba_hq_256/26176.jpg  \n",
            "  inflating: celeba_hq_256/26177.jpg  \n",
            "  inflating: celeba_hq_256/26178.jpg  \n",
            "  inflating: celeba_hq_256/26179.jpg  \n",
            "  inflating: celeba_hq_256/26180.jpg  \n",
            "  inflating: celeba_hq_256/26181.jpg  \n",
            "  inflating: celeba_hq_256/26182.jpg  \n",
            "  inflating: celeba_hq_256/26183.jpg  \n",
            "  inflating: celeba_hq_256/26184.jpg  \n",
            "  inflating: celeba_hq_256/26185.jpg  \n",
            "  inflating: celeba_hq_256/26186.jpg  \n",
            "  inflating: celeba_hq_256/26187.jpg  \n",
            "  inflating: celeba_hq_256/26188.jpg  \n",
            "  inflating: celeba_hq_256/26189.jpg  \n",
            "  inflating: celeba_hq_256/26190.jpg  \n",
            "  inflating: celeba_hq_256/26191.jpg  \n",
            "  inflating: celeba_hq_256/26192.jpg  \n",
            "  inflating: celeba_hq_256/26193.jpg  \n",
            "  inflating: celeba_hq_256/26194.jpg  \n",
            "  inflating: celeba_hq_256/26195.jpg  \n",
            "  inflating: celeba_hq_256/26196.jpg  \n",
            "  inflating: celeba_hq_256/26197.jpg  \n",
            "  inflating: celeba_hq_256/26198.jpg  \n",
            "  inflating: celeba_hq_256/26199.jpg  \n",
            "  inflating: celeba_hq_256/26200.jpg  \n",
            "  inflating: celeba_hq_256/26201.jpg  \n",
            "  inflating: celeba_hq_256/26202.jpg  \n",
            "  inflating: celeba_hq_256/26203.jpg  \n",
            "  inflating: celeba_hq_256/26204.jpg  \n",
            "  inflating: celeba_hq_256/26205.jpg  \n",
            "  inflating: celeba_hq_256/26206.jpg  \n",
            "  inflating: celeba_hq_256/26207.jpg  \n",
            "  inflating: celeba_hq_256/26208.jpg  \n",
            "  inflating: celeba_hq_256/26209.jpg  \n",
            "  inflating: celeba_hq_256/26210.jpg  \n",
            "  inflating: celeba_hq_256/26211.jpg  \n",
            "  inflating: celeba_hq_256/26212.jpg  \n",
            "  inflating: celeba_hq_256/26213.jpg  \n",
            "  inflating: celeba_hq_256/26214.jpg  \n",
            "  inflating: celeba_hq_256/26215.jpg  \n",
            "  inflating: celeba_hq_256/26216.jpg  \n",
            "  inflating: celeba_hq_256/26217.jpg  \n",
            "  inflating: celeba_hq_256/26218.jpg  \n",
            "  inflating: celeba_hq_256/26219.jpg  \n",
            "  inflating: celeba_hq_256/26220.jpg  \n",
            "  inflating: celeba_hq_256/26221.jpg  \n",
            "  inflating: celeba_hq_256/26222.jpg  \n",
            "  inflating: celeba_hq_256/26223.jpg  \n",
            "  inflating: celeba_hq_256/26224.jpg  \n",
            "  inflating: celeba_hq_256/26225.jpg  \n",
            "  inflating: celeba_hq_256/26226.jpg  \n",
            "  inflating: celeba_hq_256/26227.jpg  \n",
            "  inflating: celeba_hq_256/26228.jpg  \n",
            "  inflating: celeba_hq_256/26229.jpg  \n",
            "  inflating: celeba_hq_256/26230.jpg  \n",
            "  inflating: celeba_hq_256/26231.jpg  \n",
            "  inflating: celeba_hq_256/26232.jpg  \n",
            "  inflating: celeba_hq_256/26233.jpg  \n",
            "  inflating: celeba_hq_256/26234.jpg  \n",
            "  inflating: celeba_hq_256/26235.jpg  \n",
            "  inflating: celeba_hq_256/26236.jpg  \n",
            "  inflating: celeba_hq_256/26237.jpg  \n",
            "  inflating: celeba_hq_256/26238.jpg  \n",
            "  inflating: celeba_hq_256/26239.jpg  \n",
            "  inflating: celeba_hq_256/26240.jpg  \n",
            "  inflating: celeba_hq_256/26241.jpg  \n",
            "  inflating: celeba_hq_256/26242.jpg  \n",
            "  inflating: celeba_hq_256/26243.jpg  \n",
            "  inflating: celeba_hq_256/26244.jpg  \n",
            "  inflating: celeba_hq_256/26245.jpg  \n",
            "  inflating: celeba_hq_256/26246.jpg  \n",
            "  inflating: celeba_hq_256/26247.jpg  \n",
            "  inflating: celeba_hq_256/26248.jpg  \n",
            "  inflating: celeba_hq_256/26249.jpg  \n",
            "  inflating: celeba_hq_256/26250.jpg  \n",
            "  inflating: celeba_hq_256/26251.jpg  \n",
            "  inflating: celeba_hq_256/26252.jpg  \n",
            "  inflating: celeba_hq_256/26253.jpg  \n",
            "  inflating: celeba_hq_256/26254.jpg  \n",
            "  inflating: celeba_hq_256/26255.jpg  \n",
            "  inflating: celeba_hq_256/26256.jpg  \n",
            "  inflating: celeba_hq_256/26257.jpg  \n",
            "  inflating: celeba_hq_256/26258.jpg  \n",
            "  inflating: celeba_hq_256/26259.jpg  \n",
            "  inflating: celeba_hq_256/26260.jpg  \n",
            "  inflating: celeba_hq_256/26261.jpg  \n",
            "  inflating: celeba_hq_256/26262.jpg  \n",
            "  inflating: celeba_hq_256/26263.jpg  \n",
            "  inflating: celeba_hq_256/26264.jpg  \n",
            "  inflating: celeba_hq_256/26265.jpg  \n",
            "  inflating: celeba_hq_256/26266.jpg  \n",
            "  inflating: celeba_hq_256/26267.jpg  \n",
            "  inflating: celeba_hq_256/26268.jpg  \n",
            "  inflating: celeba_hq_256/26269.jpg  \n",
            "  inflating: celeba_hq_256/26270.jpg  \n",
            "  inflating: celeba_hq_256/26271.jpg  \n",
            "  inflating: celeba_hq_256/26272.jpg  \n",
            "  inflating: celeba_hq_256/26273.jpg  \n",
            "  inflating: celeba_hq_256/26274.jpg  \n",
            "  inflating: celeba_hq_256/26275.jpg  \n",
            "  inflating: celeba_hq_256/26276.jpg  \n",
            "  inflating: celeba_hq_256/26277.jpg  \n",
            "  inflating: celeba_hq_256/26278.jpg  \n",
            "  inflating: celeba_hq_256/26279.jpg  \n",
            "  inflating: celeba_hq_256/26280.jpg  \n",
            "  inflating: celeba_hq_256/26281.jpg  \n",
            "  inflating: celeba_hq_256/26282.jpg  \n",
            "  inflating: celeba_hq_256/26283.jpg  \n",
            "  inflating: celeba_hq_256/26284.jpg  \n",
            "  inflating: celeba_hq_256/26285.jpg  \n",
            "  inflating: celeba_hq_256/26286.jpg  \n",
            "  inflating: celeba_hq_256/26287.jpg  \n",
            "  inflating: celeba_hq_256/26288.jpg  \n",
            "  inflating: celeba_hq_256/26289.jpg  \n",
            "  inflating: celeba_hq_256/26290.jpg  \n",
            "  inflating: celeba_hq_256/26291.jpg  \n",
            "  inflating: celeba_hq_256/26292.jpg  \n",
            "  inflating: celeba_hq_256/26293.jpg  \n",
            "  inflating: celeba_hq_256/26294.jpg  \n",
            "  inflating: celeba_hq_256/26295.jpg  \n",
            "  inflating: celeba_hq_256/26296.jpg  \n",
            "  inflating: celeba_hq_256/26297.jpg  \n",
            "  inflating: celeba_hq_256/26298.jpg  \n",
            "  inflating: celeba_hq_256/26299.jpg  \n",
            "  inflating: celeba_hq_256/26300.jpg  \n",
            "  inflating: celeba_hq_256/26301.jpg  \n",
            "  inflating: celeba_hq_256/26302.jpg  \n",
            "  inflating: celeba_hq_256/26303.jpg  \n",
            "  inflating: celeba_hq_256/26304.jpg  \n",
            "  inflating: celeba_hq_256/26305.jpg  \n",
            "  inflating: celeba_hq_256/26306.jpg  \n",
            "  inflating: celeba_hq_256/26307.jpg  \n",
            "  inflating: celeba_hq_256/26308.jpg  \n",
            "  inflating: celeba_hq_256/26309.jpg  \n",
            "  inflating: celeba_hq_256/26310.jpg  \n",
            "  inflating: celeba_hq_256/26311.jpg  \n",
            "  inflating: celeba_hq_256/26312.jpg  \n",
            "  inflating: celeba_hq_256/26313.jpg  \n",
            "  inflating: celeba_hq_256/26314.jpg  \n",
            "  inflating: celeba_hq_256/26315.jpg  \n",
            "  inflating: celeba_hq_256/26316.jpg  \n",
            "  inflating: celeba_hq_256/26317.jpg  \n",
            "  inflating: celeba_hq_256/26318.jpg  \n",
            "  inflating: celeba_hq_256/26319.jpg  \n",
            "  inflating: celeba_hq_256/26320.jpg  \n",
            "  inflating: celeba_hq_256/26321.jpg  \n",
            "  inflating: celeba_hq_256/26322.jpg  \n",
            "  inflating: celeba_hq_256/26323.jpg  \n",
            "  inflating: celeba_hq_256/26324.jpg  \n",
            "  inflating: celeba_hq_256/26325.jpg  \n",
            "  inflating: celeba_hq_256/26326.jpg  \n",
            "  inflating: celeba_hq_256/26327.jpg  \n",
            "  inflating: celeba_hq_256/26328.jpg  \n",
            "  inflating: celeba_hq_256/26329.jpg  \n",
            "  inflating: celeba_hq_256/26330.jpg  \n",
            "  inflating: celeba_hq_256/26331.jpg  \n",
            "  inflating: celeba_hq_256/26332.jpg  \n",
            "  inflating: celeba_hq_256/26333.jpg  \n",
            "  inflating: celeba_hq_256/26334.jpg  \n",
            "  inflating: celeba_hq_256/26335.jpg  \n",
            "  inflating: celeba_hq_256/26336.jpg  \n",
            "  inflating: celeba_hq_256/26337.jpg  \n",
            "  inflating: celeba_hq_256/26338.jpg  \n",
            "  inflating: celeba_hq_256/26339.jpg  \n",
            "  inflating: celeba_hq_256/26340.jpg  \n",
            "  inflating: celeba_hq_256/26341.jpg  \n",
            "  inflating: celeba_hq_256/26342.jpg  \n",
            "  inflating: celeba_hq_256/26343.jpg  \n",
            "  inflating: celeba_hq_256/26344.jpg  \n",
            "  inflating: celeba_hq_256/26345.jpg  \n",
            "  inflating: celeba_hq_256/26346.jpg  \n",
            "  inflating: celeba_hq_256/26347.jpg  \n",
            "  inflating: celeba_hq_256/26348.jpg  \n",
            "  inflating: celeba_hq_256/26349.jpg  \n",
            "  inflating: celeba_hq_256/26350.jpg  \n",
            "  inflating: celeba_hq_256/26351.jpg  \n",
            "  inflating: celeba_hq_256/26352.jpg  \n",
            "  inflating: celeba_hq_256/26353.jpg  \n",
            "  inflating: celeba_hq_256/26354.jpg  \n",
            "  inflating: celeba_hq_256/26355.jpg  \n",
            "  inflating: celeba_hq_256/26356.jpg  \n",
            "  inflating: celeba_hq_256/26357.jpg  \n",
            "  inflating: celeba_hq_256/26358.jpg  \n",
            "  inflating: celeba_hq_256/26359.jpg  \n",
            "  inflating: celeba_hq_256/26360.jpg  \n",
            "  inflating: celeba_hq_256/26361.jpg  \n",
            "  inflating: celeba_hq_256/26362.jpg  \n",
            "  inflating: celeba_hq_256/26363.jpg  \n",
            "  inflating: celeba_hq_256/26364.jpg  \n",
            "  inflating: celeba_hq_256/26365.jpg  \n",
            "  inflating: celeba_hq_256/26366.jpg  \n",
            "  inflating: celeba_hq_256/26367.jpg  \n",
            "  inflating: celeba_hq_256/26368.jpg  \n",
            "  inflating: celeba_hq_256/26369.jpg  \n",
            "  inflating: celeba_hq_256/26370.jpg  \n",
            "  inflating: celeba_hq_256/26371.jpg  \n",
            "  inflating: celeba_hq_256/26372.jpg  \n",
            "  inflating: celeba_hq_256/26373.jpg  \n",
            "  inflating: celeba_hq_256/26374.jpg  \n",
            "  inflating: celeba_hq_256/26375.jpg  \n",
            "  inflating: celeba_hq_256/26376.jpg  \n",
            "  inflating: celeba_hq_256/26377.jpg  \n",
            "  inflating: celeba_hq_256/26378.jpg  \n",
            "  inflating: celeba_hq_256/26379.jpg  \n",
            "  inflating: celeba_hq_256/26380.jpg  \n",
            "  inflating: celeba_hq_256/26381.jpg  \n",
            "  inflating: celeba_hq_256/26382.jpg  \n",
            "  inflating: celeba_hq_256/26383.jpg  \n",
            "  inflating: celeba_hq_256/26384.jpg  \n",
            "  inflating: celeba_hq_256/26385.jpg  \n",
            "  inflating: celeba_hq_256/26386.jpg  \n",
            "  inflating: celeba_hq_256/26387.jpg  \n",
            "  inflating: celeba_hq_256/26388.jpg  \n",
            "  inflating: celeba_hq_256/26389.jpg  \n",
            "  inflating: celeba_hq_256/26390.jpg  \n",
            "  inflating: celeba_hq_256/26391.jpg  \n",
            "  inflating: celeba_hq_256/26392.jpg  \n",
            "  inflating: celeba_hq_256/26393.jpg  \n",
            "  inflating: celeba_hq_256/26394.jpg  \n",
            "  inflating: celeba_hq_256/26395.jpg  \n",
            "  inflating: celeba_hq_256/26396.jpg  \n",
            "  inflating: celeba_hq_256/26397.jpg  \n",
            "  inflating: celeba_hq_256/26398.jpg  \n",
            "  inflating: celeba_hq_256/26399.jpg  \n",
            "  inflating: celeba_hq_256/26400.jpg  \n",
            "  inflating: celeba_hq_256/26401.jpg  \n",
            "  inflating: celeba_hq_256/26402.jpg  \n",
            "  inflating: celeba_hq_256/26403.jpg  \n",
            "  inflating: celeba_hq_256/26404.jpg  \n",
            "  inflating: celeba_hq_256/26405.jpg  \n",
            "  inflating: celeba_hq_256/26406.jpg  \n",
            "  inflating: celeba_hq_256/26407.jpg  \n",
            "  inflating: celeba_hq_256/26408.jpg  \n",
            "  inflating: celeba_hq_256/26409.jpg  \n",
            "  inflating: celeba_hq_256/26410.jpg  \n",
            "  inflating: celeba_hq_256/26411.jpg  \n",
            "  inflating: celeba_hq_256/26412.jpg  \n",
            "  inflating: celeba_hq_256/26413.jpg  \n",
            "  inflating: celeba_hq_256/26414.jpg  \n",
            "  inflating: celeba_hq_256/26415.jpg  \n",
            "  inflating: celeba_hq_256/26416.jpg  \n",
            "  inflating: celeba_hq_256/26417.jpg  \n",
            "  inflating: celeba_hq_256/26418.jpg  \n",
            "  inflating: celeba_hq_256/26419.jpg  \n",
            "  inflating: celeba_hq_256/26420.jpg  \n",
            "  inflating: celeba_hq_256/26421.jpg  \n",
            "  inflating: celeba_hq_256/26422.jpg  \n",
            "  inflating: celeba_hq_256/26423.jpg  \n",
            "  inflating: celeba_hq_256/26424.jpg  \n",
            "  inflating: celeba_hq_256/26425.jpg  \n",
            "  inflating: celeba_hq_256/26426.jpg  \n",
            "  inflating: celeba_hq_256/26427.jpg  \n",
            "  inflating: celeba_hq_256/26428.jpg  \n",
            "  inflating: celeba_hq_256/26429.jpg  \n",
            "  inflating: celeba_hq_256/26430.jpg  \n",
            "  inflating: celeba_hq_256/26431.jpg  \n",
            "  inflating: celeba_hq_256/26432.jpg  \n",
            "  inflating: celeba_hq_256/26433.jpg  \n",
            "  inflating: celeba_hq_256/26434.jpg  \n",
            "  inflating: celeba_hq_256/26435.jpg  \n",
            "  inflating: celeba_hq_256/26436.jpg  \n",
            "  inflating: celeba_hq_256/26437.jpg  \n",
            "  inflating: celeba_hq_256/26438.jpg  \n",
            "  inflating: celeba_hq_256/26439.jpg  \n",
            "  inflating: celeba_hq_256/26440.jpg  \n",
            "  inflating: celeba_hq_256/26441.jpg  \n",
            "  inflating: celeba_hq_256/26442.jpg  \n",
            "  inflating: celeba_hq_256/26443.jpg  \n",
            "  inflating: celeba_hq_256/26444.jpg  \n",
            "  inflating: celeba_hq_256/26445.jpg  \n",
            "  inflating: celeba_hq_256/26446.jpg  \n",
            "  inflating: celeba_hq_256/26447.jpg  \n",
            "  inflating: celeba_hq_256/26448.jpg  \n",
            "  inflating: celeba_hq_256/26449.jpg  \n",
            "  inflating: celeba_hq_256/26450.jpg  \n",
            "  inflating: celeba_hq_256/26451.jpg  \n",
            "  inflating: celeba_hq_256/26452.jpg  \n",
            "  inflating: celeba_hq_256/26453.jpg  \n",
            "  inflating: celeba_hq_256/26454.jpg  \n",
            "  inflating: celeba_hq_256/26455.jpg  \n",
            "  inflating: celeba_hq_256/26456.jpg  \n",
            "  inflating: celeba_hq_256/26457.jpg  \n",
            "  inflating: celeba_hq_256/26458.jpg  \n",
            "  inflating: celeba_hq_256/26459.jpg  \n",
            "  inflating: celeba_hq_256/26460.jpg  \n",
            "  inflating: celeba_hq_256/26461.jpg  \n",
            "  inflating: celeba_hq_256/26462.jpg  \n",
            "  inflating: celeba_hq_256/26463.jpg  \n",
            "  inflating: celeba_hq_256/26464.jpg  \n",
            "  inflating: celeba_hq_256/26465.jpg  \n",
            "  inflating: celeba_hq_256/26466.jpg  \n",
            "  inflating: celeba_hq_256/26467.jpg  \n",
            "  inflating: celeba_hq_256/26468.jpg  \n",
            "  inflating: celeba_hq_256/26469.jpg  \n",
            "  inflating: celeba_hq_256/26470.jpg  \n",
            "  inflating: celeba_hq_256/26471.jpg  \n",
            "  inflating: celeba_hq_256/26472.jpg  \n",
            "  inflating: celeba_hq_256/26473.jpg  \n",
            "  inflating: celeba_hq_256/26474.jpg  \n",
            "  inflating: celeba_hq_256/26475.jpg  \n",
            "  inflating: celeba_hq_256/26476.jpg  \n",
            "  inflating: celeba_hq_256/26477.jpg  \n",
            "  inflating: celeba_hq_256/26478.jpg  \n",
            "  inflating: celeba_hq_256/26479.jpg  \n",
            "  inflating: celeba_hq_256/26480.jpg  \n",
            "  inflating: celeba_hq_256/26481.jpg  \n",
            "  inflating: celeba_hq_256/26482.jpg  \n",
            "  inflating: celeba_hq_256/26483.jpg  \n",
            "  inflating: celeba_hq_256/26484.jpg  \n",
            "  inflating: celeba_hq_256/26485.jpg  \n",
            "  inflating: celeba_hq_256/26486.jpg  \n",
            "  inflating: celeba_hq_256/26487.jpg  \n",
            "  inflating: celeba_hq_256/26488.jpg  \n",
            "  inflating: celeba_hq_256/26489.jpg  \n",
            "  inflating: celeba_hq_256/26490.jpg  \n",
            "  inflating: celeba_hq_256/26491.jpg  \n",
            "  inflating: celeba_hq_256/26492.jpg  \n",
            "  inflating: celeba_hq_256/26493.jpg  \n",
            "  inflating: celeba_hq_256/26494.jpg  \n",
            "  inflating: celeba_hq_256/26495.jpg  \n",
            "  inflating: celeba_hq_256/26496.jpg  \n",
            "  inflating: celeba_hq_256/26497.jpg  \n",
            "  inflating: celeba_hq_256/26498.jpg  \n",
            "  inflating: celeba_hq_256/26499.jpg  \n",
            "  inflating: celeba_hq_256/26500.jpg  \n",
            "  inflating: celeba_hq_256/26501.jpg  \n",
            "  inflating: celeba_hq_256/26502.jpg  \n",
            "  inflating: celeba_hq_256/26503.jpg  \n",
            "  inflating: celeba_hq_256/26504.jpg  \n",
            "  inflating: celeba_hq_256/26505.jpg  \n",
            "  inflating: celeba_hq_256/26506.jpg  \n",
            "  inflating: celeba_hq_256/26507.jpg  \n",
            "  inflating: celeba_hq_256/26508.jpg  \n",
            "  inflating: celeba_hq_256/26509.jpg  \n",
            "  inflating: celeba_hq_256/26510.jpg  \n",
            "  inflating: celeba_hq_256/26511.jpg  \n",
            "  inflating: celeba_hq_256/26512.jpg  \n",
            "  inflating: celeba_hq_256/26513.jpg  \n",
            "  inflating: celeba_hq_256/26514.jpg  \n",
            "  inflating: celeba_hq_256/26515.jpg  \n",
            "  inflating: celeba_hq_256/26516.jpg  \n",
            "  inflating: celeba_hq_256/26517.jpg  \n",
            "  inflating: celeba_hq_256/26518.jpg  \n",
            "  inflating: celeba_hq_256/26519.jpg  \n",
            "  inflating: celeba_hq_256/26520.jpg  \n",
            "  inflating: celeba_hq_256/26521.jpg  \n",
            "  inflating: celeba_hq_256/26522.jpg  \n",
            "  inflating: celeba_hq_256/26523.jpg  \n",
            "  inflating: celeba_hq_256/26524.jpg  \n",
            "  inflating: celeba_hq_256/26525.jpg  \n",
            "  inflating: celeba_hq_256/26526.jpg  \n",
            "  inflating: celeba_hq_256/26527.jpg  \n",
            "  inflating: celeba_hq_256/26528.jpg  \n",
            "  inflating: celeba_hq_256/26529.jpg  \n",
            "  inflating: celeba_hq_256/26530.jpg  \n",
            "  inflating: celeba_hq_256/26531.jpg  \n",
            "  inflating: celeba_hq_256/26532.jpg  \n",
            "  inflating: celeba_hq_256/26533.jpg  \n",
            "  inflating: celeba_hq_256/26534.jpg  \n",
            "  inflating: celeba_hq_256/26535.jpg  \n",
            "  inflating: celeba_hq_256/26536.jpg  \n",
            "  inflating: celeba_hq_256/26537.jpg  \n",
            "  inflating: celeba_hq_256/26538.jpg  \n",
            "  inflating: celeba_hq_256/26539.jpg  \n",
            "  inflating: celeba_hq_256/26540.jpg  \n",
            "  inflating: celeba_hq_256/26541.jpg  \n",
            "  inflating: celeba_hq_256/26542.jpg  \n",
            "  inflating: celeba_hq_256/26543.jpg  \n",
            "  inflating: celeba_hq_256/26544.jpg  \n",
            "  inflating: celeba_hq_256/26545.jpg  \n",
            "  inflating: celeba_hq_256/26546.jpg  \n",
            "  inflating: celeba_hq_256/26547.jpg  \n",
            "  inflating: celeba_hq_256/26548.jpg  \n",
            "  inflating: celeba_hq_256/26549.jpg  \n",
            "  inflating: celeba_hq_256/26550.jpg  \n",
            "  inflating: celeba_hq_256/26551.jpg  \n",
            "  inflating: celeba_hq_256/26552.jpg  \n",
            "  inflating: celeba_hq_256/26553.jpg  \n",
            "  inflating: celeba_hq_256/26554.jpg  \n",
            "  inflating: celeba_hq_256/26555.jpg  \n",
            "  inflating: celeba_hq_256/26556.jpg  \n",
            "  inflating: celeba_hq_256/26557.jpg  \n",
            "  inflating: celeba_hq_256/26558.jpg  \n",
            "  inflating: celeba_hq_256/26559.jpg  \n",
            "  inflating: celeba_hq_256/26560.jpg  \n",
            "  inflating: celeba_hq_256/26561.jpg  \n",
            "  inflating: celeba_hq_256/26562.jpg  \n",
            "  inflating: celeba_hq_256/26563.jpg  \n",
            "  inflating: celeba_hq_256/26564.jpg  \n",
            "  inflating: celeba_hq_256/26565.jpg  \n",
            "  inflating: celeba_hq_256/26566.jpg  \n",
            "  inflating: celeba_hq_256/26567.jpg  \n",
            "  inflating: celeba_hq_256/26568.jpg  \n",
            "  inflating: celeba_hq_256/26569.jpg  \n",
            "  inflating: celeba_hq_256/26570.jpg  \n",
            "  inflating: celeba_hq_256/26571.jpg  \n",
            "  inflating: celeba_hq_256/26572.jpg  \n",
            "  inflating: celeba_hq_256/26573.jpg  \n",
            "  inflating: celeba_hq_256/26574.jpg  \n",
            "  inflating: celeba_hq_256/26575.jpg  \n",
            "  inflating: celeba_hq_256/26576.jpg  \n",
            "  inflating: celeba_hq_256/26577.jpg  \n",
            "  inflating: celeba_hq_256/26578.jpg  \n",
            "  inflating: celeba_hq_256/26579.jpg  \n",
            "  inflating: celeba_hq_256/26580.jpg  \n",
            "  inflating: celeba_hq_256/26581.jpg  \n",
            "  inflating: celeba_hq_256/26582.jpg  \n",
            "  inflating: celeba_hq_256/26583.jpg  \n",
            "  inflating: celeba_hq_256/26584.jpg  \n",
            "  inflating: celeba_hq_256/26585.jpg  \n",
            "  inflating: celeba_hq_256/26586.jpg  \n",
            "  inflating: celeba_hq_256/26587.jpg  \n",
            "  inflating: celeba_hq_256/26588.jpg  \n",
            "  inflating: celeba_hq_256/26589.jpg  \n",
            "  inflating: celeba_hq_256/26590.jpg  \n",
            "  inflating: celeba_hq_256/26591.jpg  \n",
            "  inflating: celeba_hq_256/26592.jpg  \n",
            "  inflating: celeba_hq_256/26593.jpg  \n",
            "  inflating: celeba_hq_256/26594.jpg  \n",
            "  inflating: celeba_hq_256/26595.jpg  \n",
            "  inflating: celeba_hq_256/26596.jpg  \n",
            "  inflating: celeba_hq_256/26597.jpg  \n",
            "  inflating: celeba_hq_256/26598.jpg  \n",
            "  inflating: celeba_hq_256/26599.jpg  \n",
            "  inflating: celeba_hq_256/26600.jpg  \n",
            "  inflating: celeba_hq_256/26601.jpg  \n",
            "  inflating: celeba_hq_256/26602.jpg  \n",
            "  inflating: celeba_hq_256/26603.jpg  \n",
            "  inflating: celeba_hq_256/26604.jpg  \n",
            "  inflating: celeba_hq_256/26605.jpg  \n",
            "  inflating: celeba_hq_256/26606.jpg  \n",
            "  inflating: celeba_hq_256/26607.jpg  \n",
            "  inflating: celeba_hq_256/26608.jpg  \n",
            "  inflating: celeba_hq_256/26609.jpg  \n",
            "  inflating: celeba_hq_256/26610.jpg  \n",
            "  inflating: celeba_hq_256/26611.jpg  \n",
            "  inflating: celeba_hq_256/26612.jpg  \n",
            "  inflating: celeba_hq_256/26613.jpg  \n",
            "  inflating: celeba_hq_256/26614.jpg  \n",
            "  inflating: celeba_hq_256/26615.jpg  \n",
            "  inflating: celeba_hq_256/26616.jpg  \n",
            "  inflating: celeba_hq_256/26617.jpg  \n",
            "  inflating: celeba_hq_256/26618.jpg  \n",
            "  inflating: celeba_hq_256/26619.jpg  \n",
            "  inflating: celeba_hq_256/26620.jpg  \n",
            "  inflating: celeba_hq_256/26621.jpg  \n",
            "  inflating: celeba_hq_256/26622.jpg  \n",
            "  inflating: celeba_hq_256/26623.jpg  \n",
            "  inflating: celeba_hq_256/26624.jpg  \n",
            "  inflating: celeba_hq_256/26625.jpg  \n",
            "  inflating: celeba_hq_256/26626.jpg  \n",
            "  inflating: celeba_hq_256/26627.jpg  \n",
            "  inflating: celeba_hq_256/26628.jpg  \n",
            "  inflating: celeba_hq_256/26629.jpg  \n",
            "  inflating: celeba_hq_256/26630.jpg  \n",
            "  inflating: celeba_hq_256/26631.jpg  \n",
            "  inflating: celeba_hq_256/26632.jpg  \n",
            "  inflating: celeba_hq_256/26633.jpg  \n",
            "  inflating: celeba_hq_256/26634.jpg  \n",
            "  inflating: celeba_hq_256/26635.jpg  \n",
            "  inflating: celeba_hq_256/26636.jpg  \n",
            "  inflating: celeba_hq_256/26637.jpg  \n",
            "  inflating: celeba_hq_256/26638.jpg  \n",
            "  inflating: celeba_hq_256/26639.jpg  \n",
            "  inflating: celeba_hq_256/26640.jpg  \n",
            "  inflating: celeba_hq_256/26641.jpg  \n",
            "  inflating: celeba_hq_256/26642.jpg  \n",
            "  inflating: celeba_hq_256/26643.jpg  \n",
            "  inflating: celeba_hq_256/26644.jpg  \n",
            "  inflating: celeba_hq_256/26645.jpg  \n",
            "  inflating: celeba_hq_256/26646.jpg  \n",
            "  inflating: celeba_hq_256/26647.jpg  \n",
            "  inflating: celeba_hq_256/26648.jpg  \n",
            "  inflating: celeba_hq_256/26649.jpg  \n",
            "  inflating: celeba_hq_256/26650.jpg  \n",
            "  inflating: celeba_hq_256/26651.jpg  \n",
            "  inflating: celeba_hq_256/26652.jpg  \n",
            "  inflating: celeba_hq_256/26653.jpg  \n",
            "  inflating: celeba_hq_256/26654.jpg  \n",
            "  inflating: celeba_hq_256/26655.jpg  \n",
            "  inflating: celeba_hq_256/26656.jpg  \n",
            "  inflating: celeba_hq_256/26657.jpg  \n",
            "  inflating: celeba_hq_256/26658.jpg  \n",
            "  inflating: celeba_hq_256/26659.jpg  \n",
            "  inflating: celeba_hq_256/26660.jpg  \n",
            "  inflating: celeba_hq_256/26661.jpg  \n",
            "  inflating: celeba_hq_256/26662.jpg  \n",
            "  inflating: celeba_hq_256/26663.jpg  \n",
            "  inflating: celeba_hq_256/26664.jpg  \n",
            "  inflating: celeba_hq_256/26665.jpg  \n",
            "  inflating: celeba_hq_256/26666.jpg  \n",
            "  inflating: celeba_hq_256/26667.jpg  \n",
            "  inflating: celeba_hq_256/26668.jpg  \n",
            "  inflating: celeba_hq_256/26669.jpg  \n",
            "  inflating: celeba_hq_256/26670.jpg  \n",
            "  inflating: celeba_hq_256/26671.jpg  \n",
            "  inflating: celeba_hq_256/26672.jpg  \n",
            "  inflating: celeba_hq_256/26673.jpg  \n",
            "  inflating: celeba_hq_256/26674.jpg  \n",
            "  inflating: celeba_hq_256/26675.jpg  \n",
            "  inflating: celeba_hq_256/26676.jpg  \n",
            "  inflating: celeba_hq_256/26677.jpg  \n",
            "  inflating: celeba_hq_256/26678.jpg  \n",
            "  inflating: celeba_hq_256/26679.jpg  \n",
            "  inflating: celeba_hq_256/26680.jpg  \n",
            "  inflating: celeba_hq_256/26681.jpg  \n",
            "  inflating: celeba_hq_256/26682.jpg  \n",
            "  inflating: celeba_hq_256/26683.jpg  \n",
            "  inflating: celeba_hq_256/26684.jpg  \n",
            "  inflating: celeba_hq_256/26685.jpg  \n",
            "  inflating: celeba_hq_256/26686.jpg  \n",
            "  inflating: celeba_hq_256/26687.jpg  \n",
            "  inflating: celeba_hq_256/26688.jpg  \n",
            "  inflating: celeba_hq_256/26689.jpg  \n",
            "  inflating: celeba_hq_256/26690.jpg  \n",
            "  inflating: celeba_hq_256/26691.jpg  \n",
            "  inflating: celeba_hq_256/26692.jpg  \n",
            "  inflating: celeba_hq_256/26693.jpg  \n",
            "  inflating: celeba_hq_256/26694.jpg  \n",
            "  inflating: celeba_hq_256/26695.jpg  \n",
            "  inflating: celeba_hq_256/26696.jpg  \n",
            "  inflating: celeba_hq_256/26697.jpg  \n",
            "  inflating: celeba_hq_256/26698.jpg  \n",
            "  inflating: celeba_hq_256/26699.jpg  \n",
            "  inflating: celeba_hq_256/26700.jpg  \n",
            "  inflating: celeba_hq_256/26701.jpg  \n",
            "  inflating: celeba_hq_256/26702.jpg  \n",
            "  inflating: celeba_hq_256/26703.jpg  \n",
            "  inflating: celeba_hq_256/26704.jpg  \n",
            "  inflating: celeba_hq_256/26705.jpg  \n",
            "  inflating: celeba_hq_256/26706.jpg  \n",
            "  inflating: celeba_hq_256/26707.jpg  \n",
            "  inflating: celeba_hq_256/26708.jpg  \n",
            "  inflating: celeba_hq_256/26709.jpg  \n",
            "  inflating: celeba_hq_256/26710.jpg  \n",
            "  inflating: celeba_hq_256/26711.jpg  \n",
            "  inflating: celeba_hq_256/26712.jpg  \n",
            "  inflating: celeba_hq_256/26713.jpg  \n",
            "  inflating: celeba_hq_256/26714.jpg  \n",
            "  inflating: celeba_hq_256/26715.jpg  \n",
            "  inflating: celeba_hq_256/26716.jpg  \n",
            "  inflating: celeba_hq_256/26717.jpg  \n",
            "  inflating: celeba_hq_256/26718.jpg  \n",
            "  inflating: celeba_hq_256/26719.jpg  \n",
            "  inflating: celeba_hq_256/26720.jpg  \n",
            "  inflating: celeba_hq_256/26721.jpg  \n",
            "  inflating: celeba_hq_256/26722.jpg  \n",
            "  inflating: celeba_hq_256/26723.jpg  \n",
            "  inflating: celeba_hq_256/26724.jpg  \n",
            "  inflating: celeba_hq_256/26725.jpg  \n",
            "  inflating: celeba_hq_256/26726.jpg  \n",
            "  inflating: celeba_hq_256/26727.jpg  \n",
            "  inflating: celeba_hq_256/26728.jpg  \n",
            "  inflating: celeba_hq_256/26729.jpg  \n",
            "  inflating: celeba_hq_256/26730.jpg  \n",
            "  inflating: celeba_hq_256/26731.jpg  \n",
            "  inflating: celeba_hq_256/26732.jpg  \n",
            "  inflating: celeba_hq_256/26733.jpg  \n",
            "  inflating: celeba_hq_256/26734.jpg  \n",
            "  inflating: celeba_hq_256/26735.jpg  \n",
            "  inflating: celeba_hq_256/26736.jpg  \n",
            "  inflating: celeba_hq_256/26737.jpg  \n",
            "  inflating: celeba_hq_256/26738.jpg  \n",
            "  inflating: celeba_hq_256/26739.jpg  \n",
            "  inflating: celeba_hq_256/26740.jpg  \n",
            "  inflating: celeba_hq_256/26741.jpg  \n",
            "  inflating: celeba_hq_256/26742.jpg  \n",
            "  inflating: celeba_hq_256/26743.jpg  \n",
            "  inflating: celeba_hq_256/26744.jpg  \n",
            "  inflating: celeba_hq_256/26745.jpg  \n",
            "  inflating: celeba_hq_256/26746.jpg  \n",
            "  inflating: celeba_hq_256/26747.jpg  \n",
            "  inflating: celeba_hq_256/26748.jpg  \n",
            "  inflating: celeba_hq_256/26749.jpg  \n",
            "  inflating: celeba_hq_256/26750.jpg  \n",
            "  inflating: celeba_hq_256/26751.jpg  \n",
            "  inflating: celeba_hq_256/26752.jpg  \n",
            "  inflating: celeba_hq_256/26753.jpg  \n",
            "  inflating: celeba_hq_256/26754.jpg  \n",
            "  inflating: celeba_hq_256/26755.jpg  \n",
            "  inflating: celeba_hq_256/26756.jpg  \n",
            "  inflating: celeba_hq_256/26757.jpg  \n",
            "  inflating: celeba_hq_256/26758.jpg  \n",
            "  inflating: celeba_hq_256/26759.jpg  \n",
            "  inflating: celeba_hq_256/26760.jpg  \n",
            "  inflating: celeba_hq_256/26761.jpg  \n",
            "  inflating: celeba_hq_256/26762.jpg  \n",
            "  inflating: celeba_hq_256/26763.jpg  \n",
            "  inflating: celeba_hq_256/26764.jpg  \n",
            "  inflating: celeba_hq_256/26765.jpg  \n",
            "  inflating: celeba_hq_256/26766.jpg  \n",
            "  inflating: celeba_hq_256/26767.jpg  \n",
            "  inflating: celeba_hq_256/26768.jpg  \n",
            "  inflating: celeba_hq_256/26769.jpg  \n",
            "  inflating: celeba_hq_256/26770.jpg  \n",
            "  inflating: celeba_hq_256/26771.jpg  \n",
            "  inflating: celeba_hq_256/26772.jpg  \n",
            "  inflating: celeba_hq_256/26773.jpg  \n",
            "  inflating: celeba_hq_256/26774.jpg  \n",
            "  inflating: celeba_hq_256/26775.jpg  \n",
            "  inflating: celeba_hq_256/26776.jpg  \n",
            "  inflating: celeba_hq_256/26777.jpg  \n",
            "  inflating: celeba_hq_256/26778.jpg  \n",
            "  inflating: celeba_hq_256/26779.jpg  \n",
            "  inflating: celeba_hq_256/26780.jpg  \n",
            "  inflating: celeba_hq_256/26781.jpg  \n",
            "  inflating: celeba_hq_256/26782.jpg  \n",
            "  inflating: celeba_hq_256/26783.jpg  \n",
            "  inflating: celeba_hq_256/26784.jpg  \n",
            "  inflating: celeba_hq_256/26785.jpg  \n",
            "  inflating: celeba_hq_256/26786.jpg  \n",
            "  inflating: celeba_hq_256/26787.jpg  \n",
            "  inflating: celeba_hq_256/26788.jpg  \n",
            "  inflating: celeba_hq_256/26789.jpg  \n",
            "  inflating: celeba_hq_256/26790.jpg  \n",
            "  inflating: celeba_hq_256/26791.jpg  \n",
            "  inflating: celeba_hq_256/26792.jpg  \n",
            "  inflating: celeba_hq_256/26793.jpg  \n",
            "  inflating: celeba_hq_256/26794.jpg  \n",
            "  inflating: celeba_hq_256/26795.jpg  \n",
            "  inflating: celeba_hq_256/26796.jpg  \n",
            "  inflating: celeba_hq_256/26797.jpg  \n",
            "  inflating: celeba_hq_256/26798.jpg  \n",
            "  inflating: celeba_hq_256/26799.jpg  \n",
            "  inflating: celeba_hq_256/26800.jpg  \n",
            "  inflating: celeba_hq_256/26801.jpg  \n",
            "  inflating: celeba_hq_256/26802.jpg  \n",
            "  inflating: celeba_hq_256/26803.jpg  \n",
            "  inflating: celeba_hq_256/26804.jpg  \n",
            "  inflating: celeba_hq_256/26805.jpg  \n",
            "  inflating: celeba_hq_256/26806.jpg  \n",
            "  inflating: celeba_hq_256/26807.jpg  \n",
            "  inflating: celeba_hq_256/26808.jpg  \n",
            "  inflating: celeba_hq_256/26809.jpg  \n",
            "  inflating: celeba_hq_256/26810.jpg  \n",
            "  inflating: celeba_hq_256/26811.jpg  \n",
            "  inflating: celeba_hq_256/26812.jpg  \n",
            "  inflating: celeba_hq_256/26813.jpg  \n",
            "  inflating: celeba_hq_256/26814.jpg  \n",
            "  inflating: celeba_hq_256/26815.jpg  \n",
            "  inflating: celeba_hq_256/26816.jpg  \n",
            "  inflating: celeba_hq_256/26817.jpg  \n",
            "  inflating: celeba_hq_256/26818.jpg  \n",
            "  inflating: celeba_hq_256/26819.jpg  \n",
            "  inflating: celeba_hq_256/26820.jpg  \n",
            "  inflating: celeba_hq_256/26821.jpg  \n",
            "  inflating: celeba_hq_256/26822.jpg  \n",
            "  inflating: celeba_hq_256/26823.jpg  \n",
            "  inflating: celeba_hq_256/26824.jpg  \n",
            "  inflating: celeba_hq_256/26825.jpg  \n",
            "  inflating: celeba_hq_256/26826.jpg  \n",
            "  inflating: celeba_hq_256/26827.jpg  \n",
            "  inflating: celeba_hq_256/26828.jpg  \n",
            "  inflating: celeba_hq_256/26829.jpg  \n",
            "  inflating: celeba_hq_256/26830.jpg  \n",
            "  inflating: celeba_hq_256/26831.jpg  \n",
            "  inflating: celeba_hq_256/26832.jpg  \n",
            "  inflating: celeba_hq_256/26833.jpg  \n",
            "  inflating: celeba_hq_256/26834.jpg  \n",
            "  inflating: celeba_hq_256/26835.jpg  \n",
            "  inflating: celeba_hq_256/26836.jpg  \n",
            "  inflating: celeba_hq_256/26837.jpg  \n",
            "  inflating: celeba_hq_256/26838.jpg  \n",
            "  inflating: celeba_hq_256/26839.jpg  \n",
            "  inflating: celeba_hq_256/26840.jpg  \n",
            "  inflating: celeba_hq_256/26841.jpg  \n",
            "  inflating: celeba_hq_256/26842.jpg  \n",
            "  inflating: celeba_hq_256/26843.jpg  \n",
            "  inflating: celeba_hq_256/26844.jpg  \n",
            "  inflating: celeba_hq_256/26845.jpg  \n",
            "  inflating: celeba_hq_256/26846.jpg  \n",
            "  inflating: celeba_hq_256/26847.jpg  \n",
            "  inflating: celeba_hq_256/26848.jpg  \n",
            "  inflating: celeba_hq_256/26849.jpg  \n",
            "  inflating: celeba_hq_256/26850.jpg  \n",
            "  inflating: celeba_hq_256/26851.jpg  \n",
            "  inflating: celeba_hq_256/26852.jpg  \n",
            "  inflating: celeba_hq_256/26853.jpg  \n",
            "  inflating: celeba_hq_256/26854.jpg  \n",
            "  inflating: celeba_hq_256/26855.jpg  \n",
            "  inflating: celeba_hq_256/26856.jpg  \n",
            "  inflating: celeba_hq_256/26857.jpg  \n",
            "  inflating: celeba_hq_256/26858.jpg  \n",
            "  inflating: celeba_hq_256/26859.jpg  \n",
            "  inflating: celeba_hq_256/26860.jpg  \n",
            "  inflating: celeba_hq_256/26861.jpg  \n",
            "  inflating: celeba_hq_256/26862.jpg  \n",
            "  inflating: celeba_hq_256/26863.jpg  \n",
            "  inflating: celeba_hq_256/26864.jpg  \n",
            "  inflating: celeba_hq_256/26865.jpg  \n",
            "  inflating: celeba_hq_256/26866.jpg  \n",
            "  inflating: celeba_hq_256/26867.jpg  \n",
            "  inflating: celeba_hq_256/26868.jpg  \n",
            "  inflating: celeba_hq_256/26869.jpg  \n",
            "  inflating: celeba_hq_256/26870.jpg  \n",
            "  inflating: celeba_hq_256/26871.jpg  \n",
            "  inflating: celeba_hq_256/26872.jpg  \n",
            "  inflating: celeba_hq_256/26873.jpg  \n",
            "  inflating: celeba_hq_256/26874.jpg  \n",
            "  inflating: celeba_hq_256/26875.jpg  \n",
            "  inflating: celeba_hq_256/26876.jpg  \n",
            "  inflating: celeba_hq_256/26877.jpg  \n",
            "  inflating: celeba_hq_256/26878.jpg  \n",
            "  inflating: celeba_hq_256/26879.jpg  \n",
            "  inflating: celeba_hq_256/26880.jpg  \n",
            "  inflating: celeba_hq_256/26881.jpg  \n",
            "  inflating: celeba_hq_256/26882.jpg  \n",
            "  inflating: celeba_hq_256/26883.jpg  \n",
            "  inflating: celeba_hq_256/26884.jpg  \n",
            "  inflating: celeba_hq_256/26885.jpg  \n",
            "  inflating: celeba_hq_256/26886.jpg  \n",
            "  inflating: celeba_hq_256/26887.jpg  \n",
            "  inflating: celeba_hq_256/26888.jpg  \n",
            "  inflating: celeba_hq_256/26889.jpg  \n",
            "  inflating: celeba_hq_256/26890.jpg  \n",
            "  inflating: celeba_hq_256/26891.jpg  \n",
            "  inflating: celeba_hq_256/26892.jpg  \n",
            "  inflating: celeba_hq_256/26893.jpg  \n",
            "  inflating: celeba_hq_256/26894.jpg  \n",
            "  inflating: celeba_hq_256/26895.jpg  \n",
            "  inflating: celeba_hq_256/26896.jpg  \n",
            "  inflating: celeba_hq_256/26897.jpg  \n",
            "  inflating: celeba_hq_256/26898.jpg  \n",
            "  inflating: celeba_hq_256/26899.jpg  \n",
            "  inflating: celeba_hq_256/26900.jpg  \n",
            "  inflating: celeba_hq_256/26901.jpg  \n",
            "  inflating: celeba_hq_256/26902.jpg  \n",
            "  inflating: celeba_hq_256/26903.jpg  \n",
            "  inflating: celeba_hq_256/26904.jpg  \n",
            "  inflating: celeba_hq_256/26905.jpg  \n",
            "  inflating: celeba_hq_256/26906.jpg  \n",
            "  inflating: celeba_hq_256/26907.jpg  \n",
            "  inflating: celeba_hq_256/26908.jpg  \n",
            "  inflating: celeba_hq_256/26909.jpg  \n",
            "  inflating: celeba_hq_256/26910.jpg  \n",
            "  inflating: celeba_hq_256/26911.jpg  \n",
            "  inflating: celeba_hq_256/26912.jpg  \n",
            "  inflating: celeba_hq_256/26913.jpg  \n",
            "  inflating: celeba_hq_256/26914.jpg  \n",
            "  inflating: celeba_hq_256/26915.jpg  \n",
            "  inflating: celeba_hq_256/26916.jpg  \n",
            "  inflating: celeba_hq_256/26917.jpg  \n",
            "  inflating: celeba_hq_256/26918.jpg  \n",
            "  inflating: celeba_hq_256/26919.jpg  \n",
            "  inflating: celeba_hq_256/26920.jpg  \n",
            "  inflating: celeba_hq_256/26921.jpg  \n",
            "  inflating: celeba_hq_256/26922.jpg  \n",
            "  inflating: celeba_hq_256/26923.jpg  \n",
            "  inflating: celeba_hq_256/26924.jpg  \n",
            "  inflating: celeba_hq_256/26925.jpg  \n",
            "  inflating: celeba_hq_256/26926.jpg  \n",
            "  inflating: celeba_hq_256/26927.jpg  \n",
            "  inflating: celeba_hq_256/26928.jpg  \n",
            "  inflating: celeba_hq_256/26929.jpg  \n",
            "  inflating: celeba_hq_256/26930.jpg  \n",
            "  inflating: celeba_hq_256/26931.jpg  \n",
            "  inflating: celeba_hq_256/26932.jpg  \n",
            "  inflating: celeba_hq_256/26933.jpg  \n",
            "  inflating: celeba_hq_256/26934.jpg  \n",
            "  inflating: celeba_hq_256/26935.jpg  \n",
            "  inflating: celeba_hq_256/26936.jpg  \n",
            "  inflating: celeba_hq_256/26937.jpg  \n",
            "  inflating: celeba_hq_256/26938.jpg  \n",
            "  inflating: celeba_hq_256/26939.jpg  \n",
            "  inflating: celeba_hq_256/26940.jpg  \n",
            "  inflating: celeba_hq_256/26941.jpg  \n",
            "  inflating: celeba_hq_256/26942.jpg  \n",
            "  inflating: celeba_hq_256/26943.jpg  \n",
            "  inflating: celeba_hq_256/26944.jpg  \n",
            "  inflating: celeba_hq_256/26945.jpg  \n",
            "  inflating: celeba_hq_256/26946.jpg  \n",
            "  inflating: celeba_hq_256/26947.jpg  \n",
            "  inflating: celeba_hq_256/26948.jpg  \n",
            "  inflating: celeba_hq_256/26949.jpg  \n",
            "  inflating: celeba_hq_256/26950.jpg  \n",
            "  inflating: celeba_hq_256/26951.jpg  \n",
            "  inflating: celeba_hq_256/26952.jpg  \n",
            "  inflating: celeba_hq_256/26953.jpg  \n",
            "  inflating: celeba_hq_256/26954.jpg  \n",
            "  inflating: celeba_hq_256/26955.jpg  \n",
            "  inflating: celeba_hq_256/26956.jpg  \n",
            "  inflating: celeba_hq_256/26957.jpg  \n",
            "  inflating: celeba_hq_256/26958.jpg  \n",
            "  inflating: celeba_hq_256/26959.jpg  \n",
            "  inflating: celeba_hq_256/26960.jpg  \n",
            "  inflating: celeba_hq_256/26961.jpg  \n",
            "  inflating: celeba_hq_256/26962.jpg  \n",
            "  inflating: celeba_hq_256/26963.jpg  \n",
            "  inflating: celeba_hq_256/26964.jpg  \n",
            "  inflating: celeba_hq_256/26965.jpg  \n",
            "  inflating: celeba_hq_256/26966.jpg  \n",
            "  inflating: celeba_hq_256/26967.jpg  \n",
            "  inflating: celeba_hq_256/26968.jpg  \n",
            "  inflating: celeba_hq_256/26969.jpg  \n",
            "  inflating: celeba_hq_256/26970.jpg  \n",
            "  inflating: celeba_hq_256/26971.jpg  \n",
            "  inflating: celeba_hq_256/26972.jpg  \n",
            "  inflating: celeba_hq_256/26973.jpg  \n",
            "  inflating: celeba_hq_256/26974.jpg  \n",
            "  inflating: celeba_hq_256/26975.jpg  \n",
            "  inflating: celeba_hq_256/26976.jpg  \n",
            "  inflating: celeba_hq_256/26977.jpg  \n",
            "  inflating: celeba_hq_256/26978.jpg  \n",
            "  inflating: celeba_hq_256/26979.jpg  \n",
            "  inflating: celeba_hq_256/26980.jpg  \n",
            "  inflating: celeba_hq_256/26981.jpg  \n",
            "  inflating: celeba_hq_256/26982.jpg  \n",
            "  inflating: celeba_hq_256/26983.jpg  \n",
            "  inflating: celeba_hq_256/26984.jpg  \n",
            "  inflating: celeba_hq_256/26985.jpg  \n",
            "  inflating: celeba_hq_256/26986.jpg  \n",
            "  inflating: celeba_hq_256/26987.jpg  \n",
            "  inflating: celeba_hq_256/26988.jpg  \n",
            "  inflating: celeba_hq_256/26989.jpg  \n",
            "  inflating: celeba_hq_256/26990.jpg  \n",
            "  inflating: celeba_hq_256/26991.jpg  \n",
            "  inflating: celeba_hq_256/26992.jpg  \n",
            "  inflating: celeba_hq_256/26993.jpg  \n",
            "  inflating: celeba_hq_256/26994.jpg  \n",
            "  inflating: celeba_hq_256/26995.jpg  \n",
            "  inflating: celeba_hq_256/26996.jpg  \n",
            "  inflating: celeba_hq_256/26997.jpg  \n",
            "  inflating: celeba_hq_256/26998.jpg  \n",
            "  inflating: celeba_hq_256/26999.jpg  \n",
            "  inflating: celeba_hq_256/27000.jpg  \n",
            "  inflating: celeba_hq_256/27001.jpg  \n",
            "  inflating: celeba_hq_256/27002.jpg  \n",
            "  inflating: celeba_hq_256/27003.jpg  \n",
            "  inflating: celeba_hq_256/27004.jpg  \n",
            "  inflating: celeba_hq_256/27005.jpg  \n",
            "  inflating: celeba_hq_256/27006.jpg  \n",
            "  inflating: celeba_hq_256/27007.jpg  \n",
            "  inflating: celeba_hq_256/27008.jpg  \n",
            "  inflating: celeba_hq_256/27009.jpg  \n",
            "  inflating: celeba_hq_256/27010.jpg  \n",
            "  inflating: celeba_hq_256/27011.jpg  \n",
            "  inflating: celeba_hq_256/27012.jpg  \n",
            "  inflating: celeba_hq_256/27013.jpg  \n",
            "  inflating: celeba_hq_256/27014.jpg  \n",
            "  inflating: celeba_hq_256/27015.jpg  \n",
            "  inflating: celeba_hq_256/27016.jpg  \n",
            "  inflating: celeba_hq_256/27017.jpg  \n",
            "  inflating: celeba_hq_256/27018.jpg  \n",
            "  inflating: celeba_hq_256/27019.jpg  \n",
            "  inflating: celeba_hq_256/27020.jpg  \n",
            "  inflating: celeba_hq_256/27021.jpg  \n",
            "  inflating: celeba_hq_256/27022.jpg  \n",
            "  inflating: celeba_hq_256/27023.jpg  \n",
            "  inflating: celeba_hq_256/27024.jpg  \n",
            "  inflating: celeba_hq_256/27025.jpg  \n",
            "  inflating: celeba_hq_256/27026.jpg  \n",
            "  inflating: celeba_hq_256/27027.jpg  \n",
            "  inflating: celeba_hq_256/27028.jpg  \n",
            "  inflating: celeba_hq_256/27029.jpg  \n",
            "  inflating: celeba_hq_256/27030.jpg  \n",
            "  inflating: celeba_hq_256/27031.jpg  \n",
            "  inflating: celeba_hq_256/27032.jpg  \n",
            "  inflating: celeba_hq_256/27033.jpg  \n",
            "  inflating: celeba_hq_256/27034.jpg  \n",
            "  inflating: celeba_hq_256/27035.jpg  \n",
            "  inflating: celeba_hq_256/27036.jpg  \n",
            "  inflating: celeba_hq_256/27037.jpg  \n",
            "  inflating: celeba_hq_256/27038.jpg  \n",
            "  inflating: celeba_hq_256/27039.jpg  \n",
            "  inflating: celeba_hq_256/27040.jpg  \n",
            "  inflating: celeba_hq_256/27041.jpg  \n",
            "  inflating: celeba_hq_256/27042.jpg  \n",
            "  inflating: celeba_hq_256/27043.jpg  \n",
            "  inflating: celeba_hq_256/27044.jpg  \n",
            "  inflating: celeba_hq_256/27045.jpg  \n",
            "  inflating: celeba_hq_256/27046.jpg  \n",
            "  inflating: celeba_hq_256/27047.jpg  \n",
            "  inflating: celeba_hq_256/27048.jpg  \n",
            "  inflating: celeba_hq_256/27049.jpg  \n",
            "  inflating: celeba_hq_256/27050.jpg  \n",
            "  inflating: celeba_hq_256/27051.jpg  \n",
            "  inflating: celeba_hq_256/27052.jpg  \n",
            "  inflating: celeba_hq_256/27053.jpg  \n",
            "  inflating: celeba_hq_256/27054.jpg  \n",
            "  inflating: celeba_hq_256/27055.jpg  \n",
            "  inflating: celeba_hq_256/27056.jpg  \n",
            "  inflating: celeba_hq_256/27057.jpg  \n",
            "  inflating: celeba_hq_256/27058.jpg  \n",
            "  inflating: celeba_hq_256/27059.jpg  \n",
            "  inflating: celeba_hq_256/27060.jpg  \n",
            "  inflating: celeba_hq_256/27061.jpg  \n",
            "  inflating: celeba_hq_256/27062.jpg  \n",
            "  inflating: celeba_hq_256/27063.jpg  \n",
            "  inflating: celeba_hq_256/27064.jpg  \n",
            "  inflating: celeba_hq_256/27065.jpg  \n",
            "  inflating: celeba_hq_256/27066.jpg  \n",
            "  inflating: celeba_hq_256/27067.jpg  \n",
            "  inflating: celeba_hq_256/27068.jpg  \n",
            "  inflating: celeba_hq_256/27069.jpg  \n",
            "  inflating: celeba_hq_256/27070.jpg  \n",
            "  inflating: celeba_hq_256/27071.jpg  \n",
            "  inflating: celeba_hq_256/27072.jpg  \n",
            "  inflating: celeba_hq_256/27073.jpg  \n",
            "  inflating: celeba_hq_256/27074.jpg  \n",
            "  inflating: celeba_hq_256/27075.jpg  \n",
            "  inflating: celeba_hq_256/27076.jpg  \n",
            "  inflating: celeba_hq_256/27077.jpg  \n",
            "  inflating: celeba_hq_256/27078.jpg  \n",
            "  inflating: celeba_hq_256/27079.jpg  \n",
            "  inflating: celeba_hq_256/27080.jpg  \n",
            "  inflating: celeba_hq_256/27081.jpg  \n",
            "  inflating: celeba_hq_256/27082.jpg  \n",
            "  inflating: celeba_hq_256/27083.jpg  \n",
            "  inflating: celeba_hq_256/27084.jpg  \n",
            "  inflating: celeba_hq_256/27085.jpg  \n",
            "  inflating: celeba_hq_256/27086.jpg  \n",
            "  inflating: celeba_hq_256/27087.jpg  \n",
            "  inflating: celeba_hq_256/27088.jpg  \n",
            "  inflating: celeba_hq_256/27089.jpg  \n",
            "  inflating: celeba_hq_256/27090.jpg  \n",
            "  inflating: celeba_hq_256/27091.jpg  \n",
            "  inflating: celeba_hq_256/27092.jpg  \n",
            "  inflating: celeba_hq_256/27093.jpg  \n",
            "  inflating: celeba_hq_256/27094.jpg  \n",
            "  inflating: celeba_hq_256/27095.jpg  \n",
            "  inflating: celeba_hq_256/27096.jpg  \n",
            "  inflating: celeba_hq_256/27097.jpg  \n",
            "  inflating: celeba_hq_256/27098.jpg  \n",
            "  inflating: celeba_hq_256/27099.jpg  \n",
            "  inflating: celeba_hq_256/27100.jpg  \n",
            "  inflating: celeba_hq_256/27101.jpg  \n",
            "  inflating: celeba_hq_256/27102.jpg  \n",
            "  inflating: celeba_hq_256/27103.jpg  \n",
            "  inflating: celeba_hq_256/27104.jpg  \n",
            "  inflating: celeba_hq_256/27105.jpg  \n",
            "  inflating: celeba_hq_256/27106.jpg  \n",
            "  inflating: celeba_hq_256/27107.jpg  \n",
            "  inflating: celeba_hq_256/27108.jpg  \n",
            "  inflating: celeba_hq_256/27109.jpg  \n",
            "  inflating: celeba_hq_256/27110.jpg  \n",
            "  inflating: celeba_hq_256/27111.jpg  \n",
            "  inflating: celeba_hq_256/27112.jpg  \n",
            "  inflating: celeba_hq_256/27113.jpg  \n",
            "  inflating: celeba_hq_256/27114.jpg  \n",
            "  inflating: celeba_hq_256/27115.jpg  \n",
            "  inflating: celeba_hq_256/27116.jpg  \n",
            "  inflating: celeba_hq_256/27117.jpg  \n",
            "  inflating: celeba_hq_256/27118.jpg  \n",
            "  inflating: celeba_hq_256/27119.jpg  \n",
            "  inflating: celeba_hq_256/27120.jpg  \n",
            "  inflating: celeba_hq_256/27121.jpg  \n",
            "  inflating: celeba_hq_256/27122.jpg  \n",
            "  inflating: celeba_hq_256/27123.jpg  \n",
            "  inflating: celeba_hq_256/27124.jpg  \n",
            "  inflating: celeba_hq_256/27125.jpg  \n",
            "  inflating: celeba_hq_256/27126.jpg  \n",
            "  inflating: celeba_hq_256/27127.jpg  \n",
            "  inflating: celeba_hq_256/27128.jpg  \n",
            "  inflating: celeba_hq_256/27129.jpg  \n",
            "  inflating: celeba_hq_256/27130.jpg  \n",
            "  inflating: celeba_hq_256/27131.jpg  \n",
            "  inflating: celeba_hq_256/27132.jpg  \n",
            "  inflating: celeba_hq_256/27133.jpg  \n",
            "  inflating: celeba_hq_256/27134.jpg  \n",
            "  inflating: celeba_hq_256/27135.jpg  \n",
            "  inflating: celeba_hq_256/27136.jpg  \n",
            "  inflating: celeba_hq_256/27137.jpg  \n",
            "  inflating: celeba_hq_256/27138.jpg  \n",
            "  inflating: celeba_hq_256/27139.jpg  \n",
            "  inflating: celeba_hq_256/27140.jpg  \n",
            "  inflating: celeba_hq_256/27141.jpg  \n",
            "  inflating: celeba_hq_256/27142.jpg  \n",
            "  inflating: celeba_hq_256/27143.jpg  \n",
            "  inflating: celeba_hq_256/27144.jpg  \n",
            "  inflating: celeba_hq_256/27145.jpg  \n",
            "  inflating: celeba_hq_256/27146.jpg  \n",
            "  inflating: celeba_hq_256/27147.jpg  \n",
            "  inflating: celeba_hq_256/27148.jpg  \n",
            "  inflating: celeba_hq_256/27149.jpg  \n",
            "  inflating: celeba_hq_256/27150.jpg  \n",
            "  inflating: celeba_hq_256/27151.jpg  \n",
            "  inflating: celeba_hq_256/27152.jpg  \n",
            "  inflating: celeba_hq_256/27153.jpg  \n",
            "  inflating: celeba_hq_256/27154.jpg  \n",
            "  inflating: celeba_hq_256/27155.jpg  \n",
            "  inflating: celeba_hq_256/27156.jpg  \n",
            "  inflating: celeba_hq_256/27157.jpg  \n",
            "  inflating: celeba_hq_256/27158.jpg  \n",
            "  inflating: celeba_hq_256/27159.jpg  \n",
            "  inflating: celeba_hq_256/27160.jpg  \n",
            "  inflating: celeba_hq_256/27161.jpg  \n",
            "  inflating: celeba_hq_256/27162.jpg  \n",
            "  inflating: celeba_hq_256/27163.jpg  \n",
            "  inflating: celeba_hq_256/27164.jpg  \n",
            "  inflating: celeba_hq_256/27165.jpg  \n",
            "  inflating: celeba_hq_256/27166.jpg  \n",
            "  inflating: celeba_hq_256/27167.jpg  \n",
            "  inflating: celeba_hq_256/27168.jpg  \n",
            "  inflating: celeba_hq_256/27169.jpg  \n",
            "  inflating: celeba_hq_256/27170.jpg  \n",
            "  inflating: celeba_hq_256/27171.jpg  \n",
            "  inflating: celeba_hq_256/27172.jpg  \n",
            "  inflating: celeba_hq_256/27173.jpg  \n",
            "  inflating: celeba_hq_256/27174.jpg  \n",
            "  inflating: celeba_hq_256/27175.jpg  \n",
            "  inflating: celeba_hq_256/27176.jpg  \n",
            "  inflating: celeba_hq_256/27177.jpg  \n",
            "  inflating: celeba_hq_256/27178.jpg  \n",
            "  inflating: celeba_hq_256/27179.jpg  \n",
            "  inflating: celeba_hq_256/27180.jpg  \n",
            "  inflating: celeba_hq_256/27181.jpg  \n",
            "  inflating: celeba_hq_256/27182.jpg  \n",
            "  inflating: celeba_hq_256/27183.jpg  \n",
            "  inflating: celeba_hq_256/27184.jpg  \n",
            "  inflating: celeba_hq_256/27185.jpg  \n",
            "  inflating: celeba_hq_256/27186.jpg  \n",
            "  inflating: celeba_hq_256/27187.jpg  \n",
            "  inflating: celeba_hq_256/27188.jpg  \n",
            "  inflating: celeba_hq_256/27189.jpg  \n",
            "  inflating: celeba_hq_256/27190.jpg  \n",
            "  inflating: celeba_hq_256/27191.jpg  \n",
            "  inflating: celeba_hq_256/27192.jpg  \n",
            "  inflating: celeba_hq_256/27193.jpg  \n",
            "  inflating: celeba_hq_256/27194.jpg  \n",
            "  inflating: celeba_hq_256/27195.jpg  \n",
            "  inflating: celeba_hq_256/27196.jpg  \n",
            "  inflating: celeba_hq_256/27197.jpg  \n",
            "  inflating: celeba_hq_256/27198.jpg  \n",
            "  inflating: celeba_hq_256/27199.jpg  \n",
            "  inflating: celeba_hq_256/27200.jpg  \n",
            "  inflating: celeba_hq_256/27201.jpg  \n",
            "  inflating: celeba_hq_256/27202.jpg  \n",
            "  inflating: celeba_hq_256/27203.jpg  \n",
            "  inflating: celeba_hq_256/27204.jpg  \n",
            "  inflating: celeba_hq_256/27205.jpg  \n",
            "  inflating: celeba_hq_256/27206.jpg  \n",
            "  inflating: celeba_hq_256/27207.jpg  \n",
            "  inflating: celeba_hq_256/27208.jpg  \n",
            "  inflating: celeba_hq_256/27209.jpg  \n",
            "  inflating: celeba_hq_256/27210.jpg  \n",
            "  inflating: celeba_hq_256/27211.jpg  \n",
            "  inflating: celeba_hq_256/27212.jpg  \n",
            "  inflating: celeba_hq_256/27213.jpg  \n",
            "  inflating: celeba_hq_256/27214.jpg  \n",
            "  inflating: celeba_hq_256/27215.jpg  \n",
            "  inflating: celeba_hq_256/27216.jpg  \n",
            "  inflating: celeba_hq_256/27217.jpg  \n",
            "  inflating: celeba_hq_256/27218.jpg  \n",
            "  inflating: celeba_hq_256/27219.jpg  \n",
            "  inflating: celeba_hq_256/27220.jpg  \n",
            "  inflating: celeba_hq_256/27221.jpg  \n",
            "  inflating: celeba_hq_256/27222.jpg  \n",
            "  inflating: celeba_hq_256/27223.jpg  \n",
            "  inflating: celeba_hq_256/27224.jpg  \n",
            "  inflating: celeba_hq_256/27225.jpg  \n",
            "  inflating: celeba_hq_256/27226.jpg  \n",
            "  inflating: celeba_hq_256/27227.jpg  \n",
            "  inflating: celeba_hq_256/27228.jpg  \n",
            "  inflating: celeba_hq_256/27229.jpg  \n",
            "  inflating: celeba_hq_256/27230.jpg  \n",
            "  inflating: celeba_hq_256/27231.jpg  \n",
            "  inflating: celeba_hq_256/27232.jpg  \n",
            "  inflating: celeba_hq_256/27233.jpg  \n",
            "  inflating: celeba_hq_256/27234.jpg  \n",
            "  inflating: celeba_hq_256/27235.jpg  \n",
            "  inflating: celeba_hq_256/27236.jpg  \n",
            "  inflating: celeba_hq_256/27237.jpg  \n",
            "  inflating: celeba_hq_256/27238.jpg  \n",
            "  inflating: celeba_hq_256/27239.jpg  \n",
            "  inflating: celeba_hq_256/27240.jpg  \n",
            "  inflating: celeba_hq_256/27241.jpg  \n",
            "  inflating: celeba_hq_256/27242.jpg  \n",
            "  inflating: celeba_hq_256/27243.jpg  \n",
            "  inflating: celeba_hq_256/27244.jpg  \n",
            "  inflating: celeba_hq_256/27245.jpg  \n",
            "  inflating: celeba_hq_256/27246.jpg  \n",
            "  inflating: celeba_hq_256/27247.jpg  \n",
            "  inflating: celeba_hq_256/27248.jpg  \n",
            "  inflating: celeba_hq_256/27249.jpg  \n",
            "  inflating: celeba_hq_256/27250.jpg  \n",
            "  inflating: celeba_hq_256/27251.jpg  \n",
            "  inflating: celeba_hq_256/27252.jpg  \n",
            "  inflating: celeba_hq_256/27253.jpg  \n",
            "  inflating: celeba_hq_256/27254.jpg  \n",
            "  inflating: celeba_hq_256/27255.jpg  \n",
            "  inflating: celeba_hq_256/27256.jpg  \n",
            "  inflating: celeba_hq_256/27257.jpg  \n",
            "  inflating: celeba_hq_256/27258.jpg  \n",
            "  inflating: celeba_hq_256/27259.jpg  \n",
            "  inflating: celeba_hq_256/27260.jpg  \n",
            "  inflating: celeba_hq_256/27261.jpg  \n",
            "  inflating: celeba_hq_256/27262.jpg  \n",
            "  inflating: celeba_hq_256/27263.jpg  \n",
            "  inflating: celeba_hq_256/27264.jpg  \n",
            "  inflating: celeba_hq_256/27265.jpg  \n",
            "  inflating: celeba_hq_256/27266.jpg  \n",
            "  inflating: celeba_hq_256/27267.jpg  \n",
            "  inflating: celeba_hq_256/27268.jpg  \n",
            "  inflating: celeba_hq_256/27269.jpg  \n",
            "  inflating: celeba_hq_256/27270.jpg  \n",
            "  inflating: celeba_hq_256/27271.jpg  \n",
            "  inflating: celeba_hq_256/27272.jpg  \n",
            "  inflating: celeba_hq_256/27273.jpg  \n",
            "  inflating: celeba_hq_256/27274.jpg  \n",
            "  inflating: celeba_hq_256/27275.jpg  \n",
            "  inflating: celeba_hq_256/27276.jpg  \n",
            "  inflating: celeba_hq_256/27277.jpg  \n",
            "  inflating: celeba_hq_256/27278.jpg  \n",
            "  inflating: celeba_hq_256/27279.jpg  \n",
            "  inflating: celeba_hq_256/27280.jpg  \n",
            "  inflating: celeba_hq_256/27281.jpg  \n",
            "  inflating: celeba_hq_256/27282.jpg  \n",
            "  inflating: celeba_hq_256/27283.jpg  \n",
            "  inflating: celeba_hq_256/27284.jpg  \n",
            "  inflating: celeba_hq_256/27285.jpg  \n",
            "  inflating: celeba_hq_256/27286.jpg  \n",
            "  inflating: celeba_hq_256/27287.jpg  \n",
            "  inflating: celeba_hq_256/27288.jpg  \n",
            "  inflating: celeba_hq_256/27289.jpg  \n",
            "  inflating: celeba_hq_256/27290.jpg  \n",
            "  inflating: celeba_hq_256/27291.jpg  \n",
            "  inflating: celeba_hq_256/27292.jpg  \n",
            "  inflating: celeba_hq_256/27293.jpg  \n",
            "  inflating: celeba_hq_256/27294.jpg  \n",
            "  inflating: celeba_hq_256/27295.jpg  \n",
            "  inflating: celeba_hq_256/27296.jpg  \n",
            "  inflating: celeba_hq_256/27297.jpg  \n",
            "  inflating: celeba_hq_256/27298.jpg  \n",
            "  inflating: celeba_hq_256/27299.jpg  \n",
            "  inflating: celeba_hq_256/27300.jpg  \n",
            "  inflating: celeba_hq_256/27301.jpg  \n",
            "  inflating: celeba_hq_256/27302.jpg  \n",
            "  inflating: celeba_hq_256/27303.jpg  \n",
            "  inflating: celeba_hq_256/27304.jpg  \n",
            "  inflating: celeba_hq_256/27305.jpg  \n",
            "  inflating: celeba_hq_256/27306.jpg  \n",
            "  inflating: celeba_hq_256/27307.jpg  \n",
            "  inflating: celeba_hq_256/27308.jpg  \n",
            "  inflating: celeba_hq_256/27309.jpg  \n",
            "  inflating: celeba_hq_256/27310.jpg  \n",
            "  inflating: celeba_hq_256/27311.jpg  \n",
            "  inflating: celeba_hq_256/27312.jpg  \n",
            "  inflating: celeba_hq_256/27313.jpg  \n",
            "  inflating: celeba_hq_256/27314.jpg  \n",
            "  inflating: celeba_hq_256/27315.jpg  \n",
            "  inflating: celeba_hq_256/27316.jpg  \n",
            "  inflating: celeba_hq_256/27317.jpg  \n",
            "  inflating: celeba_hq_256/27318.jpg  \n",
            "  inflating: celeba_hq_256/27319.jpg  \n",
            "  inflating: celeba_hq_256/27320.jpg  \n",
            "  inflating: celeba_hq_256/27321.jpg  \n",
            "  inflating: celeba_hq_256/27322.jpg  \n",
            "  inflating: celeba_hq_256/27323.jpg  \n",
            "  inflating: celeba_hq_256/27324.jpg  \n",
            "  inflating: celeba_hq_256/27325.jpg  \n",
            "  inflating: celeba_hq_256/27326.jpg  \n",
            "  inflating: celeba_hq_256/27327.jpg  \n",
            "  inflating: celeba_hq_256/27328.jpg  \n",
            "  inflating: celeba_hq_256/27329.jpg  \n",
            "  inflating: celeba_hq_256/27330.jpg  \n",
            "  inflating: celeba_hq_256/27331.jpg  \n",
            "  inflating: celeba_hq_256/27332.jpg  \n",
            "  inflating: celeba_hq_256/27333.jpg  \n",
            "  inflating: celeba_hq_256/27334.jpg  \n",
            "  inflating: celeba_hq_256/27335.jpg  \n",
            "  inflating: celeba_hq_256/27336.jpg  \n",
            "  inflating: celeba_hq_256/27337.jpg  \n",
            "  inflating: celeba_hq_256/27338.jpg  \n",
            "  inflating: celeba_hq_256/27339.jpg  \n",
            "  inflating: celeba_hq_256/27340.jpg  \n",
            "  inflating: celeba_hq_256/27341.jpg  \n",
            "  inflating: celeba_hq_256/27342.jpg  \n",
            "  inflating: celeba_hq_256/27343.jpg  \n",
            "  inflating: celeba_hq_256/27344.jpg  \n",
            "  inflating: celeba_hq_256/27345.jpg  \n",
            "  inflating: celeba_hq_256/27346.jpg  \n",
            "  inflating: celeba_hq_256/27347.jpg  \n",
            "  inflating: celeba_hq_256/27348.jpg  \n",
            "  inflating: celeba_hq_256/27349.jpg  \n",
            "  inflating: celeba_hq_256/27350.jpg  \n",
            "  inflating: celeba_hq_256/27351.jpg  \n",
            "  inflating: celeba_hq_256/27352.jpg  \n",
            "  inflating: celeba_hq_256/27353.jpg  \n",
            "  inflating: celeba_hq_256/27354.jpg  \n",
            "  inflating: celeba_hq_256/27355.jpg  \n",
            "  inflating: celeba_hq_256/27356.jpg  \n",
            "  inflating: celeba_hq_256/27357.jpg  \n",
            "  inflating: celeba_hq_256/27358.jpg  \n",
            "  inflating: celeba_hq_256/27359.jpg  \n",
            "  inflating: celeba_hq_256/27360.jpg  \n",
            "  inflating: celeba_hq_256/27361.jpg  \n",
            "  inflating: celeba_hq_256/27362.jpg  \n",
            "  inflating: celeba_hq_256/27363.jpg  \n",
            "  inflating: celeba_hq_256/27364.jpg  \n",
            "  inflating: celeba_hq_256/27365.jpg  \n",
            "  inflating: celeba_hq_256/27366.jpg  \n",
            "  inflating: celeba_hq_256/27367.jpg  \n",
            "  inflating: celeba_hq_256/27368.jpg  \n",
            "  inflating: celeba_hq_256/27369.jpg  \n",
            "  inflating: celeba_hq_256/27370.jpg  \n",
            "  inflating: celeba_hq_256/27371.jpg  \n",
            "  inflating: celeba_hq_256/27372.jpg  \n",
            "  inflating: celeba_hq_256/27373.jpg  \n",
            "  inflating: celeba_hq_256/27374.jpg  \n",
            "  inflating: celeba_hq_256/27375.jpg  \n",
            "  inflating: celeba_hq_256/27376.jpg  \n",
            "  inflating: celeba_hq_256/27377.jpg  \n",
            "  inflating: celeba_hq_256/27378.jpg  \n",
            "  inflating: celeba_hq_256/27379.jpg  \n",
            "  inflating: celeba_hq_256/27380.jpg  \n",
            "  inflating: celeba_hq_256/27381.jpg  \n",
            "  inflating: celeba_hq_256/27382.jpg  \n",
            "  inflating: celeba_hq_256/27383.jpg  \n",
            "  inflating: celeba_hq_256/27384.jpg  \n",
            "  inflating: celeba_hq_256/27385.jpg  \n",
            "  inflating: celeba_hq_256/27386.jpg  \n",
            "  inflating: celeba_hq_256/27387.jpg  \n",
            "  inflating: celeba_hq_256/27388.jpg  \n",
            "  inflating: celeba_hq_256/27389.jpg  \n",
            "  inflating: celeba_hq_256/27390.jpg  \n",
            "  inflating: celeba_hq_256/27391.jpg  \n",
            "  inflating: celeba_hq_256/27392.jpg  \n",
            "  inflating: celeba_hq_256/27393.jpg  \n",
            "  inflating: celeba_hq_256/27394.jpg  \n",
            "  inflating: celeba_hq_256/27395.jpg  \n",
            "  inflating: celeba_hq_256/27396.jpg  \n",
            "  inflating: celeba_hq_256/27397.jpg  \n",
            "  inflating: celeba_hq_256/27398.jpg  \n",
            "  inflating: celeba_hq_256/27399.jpg  \n",
            "  inflating: celeba_hq_256/27400.jpg  \n",
            "  inflating: celeba_hq_256/27401.jpg  \n",
            "  inflating: celeba_hq_256/27402.jpg  \n",
            "  inflating: celeba_hq_256/27403.jpg  \n",
            "  inflating: celeba_hq_256/27404.jpg  \n",
            "  inflating: celeba_hq_256/27405.jpg  \n",
            "  inflating: celeba_hq_256/27406.jpg  \n",
            "  inflating: celeba_hq_256/27407.jpg  \n",
            "  inflating: celeba_hq_256/27408.jpg  \n",
            "  inflating: celeba_hq_256/27409.jpg  \n",
            "  inflating: celeba_hq_256/27410.jpg  \n",
            "  inflating: celeba_hq_256/27411.jpg  \n",
            "  inflating: celeba_hq_256/27412.jpg  \n",
            "  inflating: celeba_hq_256/27413.jpg  \n",
            "  inflating: celeba_hq_256/27414.jpg  \n",
            "  inflating: celeba_hq_256/27415.jpg  \n",
            "  inflating: celeba_hq_256/27416.jpg  \n",
            "  inflating: celeba_hq_256/27417.jpg  \n",
            "  inflating: celeba_hq_256/27418.jpg  \n",
            "  inflating: celeba_hq_256/27419.jpg  \n",
            "  inflating: celeba_hq_256/27420.jpg  \n",
            "  inflating: celeba_hq_256/27421.jpg  \n",
            "  inflating: celeba_hq_256/27422.jpg  \n",
            "  inflating: celeba_hq_256/27423.jpg  \n",
            "  inflating: celeba_hq_256/27424.jpg  \n",
            "  inflating: celeba_hq_256/27425.jpg  \n",
            "  inflating: celeba_hq_256/27426.jpg  \n",
            "  inflating: celeba_hq_256/27427.jpg  \n",
            "  inflating: celeba_hq_256/27428.jpg  \n",
            "  inflating: celeba_hq_256/27429.jpg  \n",
            "  inflating: celeba_hq_256/27430.jpg  \n",
            "  inflating: celeba_hq_256/27431.jpg  \n",
            "  inflating: celeba_hq_256/27432.jpg  \n",
            "  inflating: celeba_hq_256/27433.jpg  \n",
            "  inflating: celeba_hq_256/27434.jpg  \n",
            "  inflating: celeba_hq_256/27435.jpg  \n",
            "  inflating: celeba_hq_256/27436.jpg  \n",
            "  inflating: celeba_hq_256/27437.jpg  \n",
            "  inflating: celeba_hq_256/27438.jpg  \n",
            "  inflating: celeba_hq_256/27439.jpg  \n",
            "  inflating: celeba_hq_256/27440.jpg  \n",
            "  inflating: celeba_hq_256/27441.jpg  \n",
            "  inflating: celeba_hq_256/27442.jpg  \n",
            "  inflating: celeba_hq_256/27443.jpg  \n",
            "  inflating: celeba_hq_256/27444.jpg  \n",
            "  inflating: celeba_hq_256/27445.jpg  \n",
            "  inflating: celeba_hq_256/27446.jpg  \n",
            "  inflating: celeba_hq_256/27447.jpg  \n",
            "  inflating: celeba_hq_256/27448.jpg  \n",
            "  inflating: celeba_hq_256/27449.jpg  \n",
            "  inflating: celeba_hq_256/27450.jpg  \n",
            "  inflating: celeba_hq_256/27451.jpg  \n",
            "  inflating: celeba_hq_256/27452.jpg  \n",
            "  inflating: celeba_hq_256/27453.jpg  \n",
            "  inflating: celeba_hq_256/27454.jpg  \n",
            "  inflating: celeba_hq_256/27455.jpg  \n",
            "  inflating: celeba_hq_256/27456.jpg  \n",
            "  inflating: celeba_hq_256/27457.jpg  \n",
            "  inflating: celeba_hq_256/27458.jpg  \n",
            "  inflating: celeba_hq_256/27459.jpg  \n",
            "  inflating: celeba_hq_256/27460.jpg  \n",
            "  inflating: celeba_hq_256/27461.jpg  \n",
            "  inflating: celeba_hq_256/27462.jpg  \n",
            "  inflating: celeba_hq_256/27463.jpg  \n",
            "  inflating: celeba_hq_256/27464.jpg  \n",
            "  inflating: celeba_hq_256/27465.jpg  \n",
            "  inflating: celeba_hq_256/27466.jpg  \n",
            "  inflating: celeba_hq_256/27467.jpg  \n",
            "  inflating: celeba_hq_256/27468.jpg  \n",
            "  inflating: celeba_hq_256/27469.jpg  \n",
            "  inflating: celeba_hq_256/27470.jpg  \n",
            "  inflating: celeba_hq_256/27471.jpg  \n",
            "  inflating: celeba_hq_256/27472.jpg  \n",
            "  inflating: celeba_hq_256/27473.jpg  \n",
            "  inflating: celeba_hq_256/27474.jpg  \n",
            "  inflating: celeba_hq_256/27475.jpg  \n",
            "  inflating: celeba_hq_256/27476.jpg  \n",
            "  inflating: celeba_hq_256/27477.jpg  \n",
            "  inflating: celeba_hq_256/27478.jpg  \n",
            "  inflating: celeba_hq_256/27479.jpg  \n",
            "  inflating: celeba_hq_256/27480.jpg  \n",
            "  inflating: celeba_hq_256/27481.jpg  \n",
            "  inflating: celeba_hq_256/27482.jpg  \n",
            "  inflating: celeba_hq_256/27483.jpg  \n",
            "  inflating: celeba_hq_256/27484.jpg  \n",
            "  inflating: celeba_hq_256/27485.jpg  \n",
            "  inflating: celeba_hq_256/27486.jpg  \n",
            "  inflating: celeba_hq_256/27487.jpg  \n",
            "  inflating: celeba_hq_256/27488.jpg  \n",
            "  inflating: celeba_hq_256/27489.jpg  \n",
            "  inflating: celeba_hq_256/27490.jpg  \n",
            "  inflating: celeba_hq_256/27491.jpg  \n",
            "  inflating: celeba_hq_256/27492.jpg  \n",
            "  inflating: celeba_hq_256/27493.jpg  \n",
            "  inflating: celeba_hq_256/27494.jpg  \n",
            "  inflating: celeba_hq_256/27495.jpg  \n",
            "  inflating: celeba_hq_256/27496.jpg  \n",
            "  inflating: celeba_hq_256/27497.jpg  \n",
            "  inflating: celeba_hq_256/27498.jpg  \n",
            "  inflating: celeba_hq_256/27499.jpg  \n",
            "  inflating: celeba_hq_256/27500.jpg  \n",
            "  inflating: celeba_hq_256/27501.jpg  \n",
            "  inflating: celeba_hq_256/27502.jpg  \n",
            "  inflating: celeba_hq_256/27503.jpg  \n",
            "  inflating: celeba_hq_256/27504.jpg  \n",
            "  inflating: celeba_hq_256/27505.jpg  \n",
            "  inflating: celeba_hq_256/27506.jpg  \n",
            "  inflating: celeba_hq_256/27507.jpg  \n",
            "  inflating: celeba_hq_256/27508.jpg  \n",
            "  inflating: celeba_hq_256/27509.jpg  \n",
            "  inflating: celeba_hq_256/27510.jpg  \n",
            "  inflating: celeba_hq_256/27511.jpg  \n",
            "  inflating: celeba_hq_256/27512.jpg  \n",
            "  inflating: celeba_hq_256/27513.jpg  \n",
            "  inflating: celeba_hq_256/27514.jpg  \n",
            "  inflating: celeba_hq_256/27515.jpg  \n",
            "  inflating: celeba_hq_256/27516.jpg  \n",
            "  inflating: celeba_hq_256/27517.jpg  \n",
            "  inflating: celeba_hq_256/27518.jpg  \n",
            "  inflating: celeba_hq_256/27519.jpg  \n",
            "  inflating: celeba_hq_256/27520.jpg  \n",
            "  inflating: celeba_hq_256/27521.jpg  \n",
            "  inflating: celeba_hq_256/27522.jpg  \n",
            "  inflating: celeba_hq_256/27523.jpg  \n",
            "  inflating: celeba_hq_256/27524.jpg  \n",
            "  inflating: celeba_hq_256/27525.jpg  \n",
            "  inflating: celeba_hq_256/27526.jpg  \n",
            "  inflating: celeba_hq_256/27527.jpg  \n",
            "  inflating: celeba_hq_256/27528.jpg  \n",
            "  inflating: celeba_hq_256/27529.jpg  \n",
            "  inflating: celeba_hq_256/27530.jpg  \n",
            "  inflating: celeba_hq_256/27531.jpg  \n",
            "  inflating: celeba_hq_256/27532.jpg  \n",
            "  inflating: celeba_hq_256/27533.jpg  \n",
            "  inflating: celeba_hq_256/27534.jpg  \n",
            "  inflating: celeba_hq_256/27535.jpg  \n",
            "  inflating: celeba_hq_256/27536.jpg  \n",
            "  inflating: celeba_hq_256/27537.jpg  \n",
            "  inflating: celeba_hq_256/27538.jpg  \n",
            "  inflating: celeba_hq_256/27539.jpg  \n",
            "  inflating: celeba_hq_256/27540.jpg  \n",
            "  inflating: celeba_hq_256/27541.jpg  \n",
            "  inflating: celeba_hq_256/27542.jpg  \n",
            "  inflating: celeba_hq_256/27543.jpg  \n",
            "  inflating: celeba_hq_256/27544.jpg  \n",
            "  inflating: celeba_hq_256/27545.jpg  \n",
            "  inflating: celeba_hq_256/27546.jpg  \n",
            "  inflating: celeba_hq_256/27547.jpg  \n",
            "  inflating: celeba_hq_256/27548.jpg  \n",
            "  inflating: celeba_hq_256/27549.jpg  \n",
            "  inflating: celeba_hq_256/27550.jpg  \n",
            "  inflating: celeba_hq_256/27551.jpg  \n",
            "  inflating: celeba_hq_256/27552.jpg  \n",
            "  inflating: celeba_hq_256/27553.jpg  \n",
            "  inflating: celeba_hq_256/27554.jpg  \n",
            "  inflating: celeba_hq_256/27555.jpg  \n",
            "  inflating: celeba_hq_256/27556.jpg  \n",
            "  inflating: celeba_hq_256/27557.jpg  \n",
            "  inflating: celeba_hq_256/27558.jpg  \n",
            "  inflating: celeba_hq_256/27559.jpg  \n",
            "  inflating: celeba_hq_256/27560.jpg  \n",
            "  inflating: celeba_hq_256/27561.jpg  \n",
            "  inflating: celeba_hq_256/27562.jpg  \n",
            "  inflating: celeba_hq_256/27563.jpg  \n",
            "  inflating: celeba_hq_256/27564.jpg  \n",
            "  inflating: celeba_hq_256/27565.jpg  \n",
            "  inflating: celeba_hq_256/27566.jpg  \n",
            "  inflating: celeba_hq_256/27567.jpg  \n",
            "  inflating: celeba_hq_256/27568.jpg  \n",
            "  inflating: celeba_hq_256/27569.jpg  \n",
            "  inflating: celeba_hq_256/27570.jpg  \n",
            "  inflating: celeba_hq_256/27571.jpg  \n",
            "  inflating: celeba_hq_256/27572.jpg  \n",
            "  inflating: celeba_hq_256/27573.jpg  \n",
            "  inflating: celeba_hq_256/27574.jpg  \n",
            "  inflating: celeba_hq_256/27575.jpg  \n",
            "  inflating: celeba_hq_256/27576.jpg  \n",
            "  inflating: celeba_hq_256/27577.jpg  \n",
            "  inflating: celeba_hq_256/27578.jpg  \n",
            "  inflating: celeba_hq_256/27579.jpg  \n",
            "  inflating: celeba_hq_256/27580.jpg  \n",
            "  inflating: celeba_hq_256/27581.jpg  \n",
            "  inflating: celeba_hq_256/27582.jpg  \n",
            "  inflating: celeba_hq_256/27583.jpg  \n",
            "  inflating: celeba_hq_256/27584.jpg  \n",
            "  inflating: celeba_hq_256/27585.jpg  \n",
            "  inflating: celeba_hq_256/27586.jpg  \n",
            "  inflating: celeba_hq_256/27587.jpg  \n",
            "  inflating: celeba_hq_256/27588.jpg  \n",
            "  inflating: celeba_hq_256/27589.jpg  \n",
            "  inflating: celeba_hq_256/27590.jpg  \n",
            "  inflating: celeba_hq_256/27591.jpg  \n",
            "  inflating: celeba_hq_256/27592.jpg  \n",
            "  inflating: celeba_hq_256/27593.jpg  \n",
            "  inflating: celeba_hq_256/27594.jpg  \n",
            "  inflating: celeba_hq_256/27595.jpg  \n",
            "  inflating: celeba_hq_256/27596.jpg  \n",
            "  inflating: celeba_hq_256/27597.jpg  \n",
            "  inflating: celeba_hq_256/27598.jpg  \n",
            "  inflating: celeba_hq_256/27599.jpg  \n",
            "  inflating: celeba_hq_256/27600.jpg  \n",
            "  inflating: celeba_hq_256/27601.jpg  \n",
            "  inflating: celeba_hq_256/27602.jpg  \n",
            "  inflating: celeba_hq_256/27603.jpg  \n",
            "  inflating: celeba_hq_256/27604.jpg  \n",
            "  inflating: celeba_hq_256/27605.jpg  \n",
            "  inflating: celeba_hq_256/27606.jpg  \n",
            "  inflating: celeba_hq_256/27607.jpg  \n",
            "  inflating: celeba_hq_256/27608.jpg  \n",
            "  inflating: celeba_hq_256/27609.jpg  \n",
            "  inflating: celeba_hq_256/27610.jpg  \n",
            "  inflating: celeba_hq_256/27611.jpg  \n",
            "  inflating: celeba_hq_256/27612.jpg  \n",
            "  inflating: celeba_hq_256/27613.jpg  \n",
            "  inflating: celeba_hq_256/27614.jpg  \n",
            "  inflating: celeba_hq_256/27615.jpg  \n",
            "  inflating: celeba_hq_256/27616.jpg  \n",
            "  inflating: celeba_hq_256/27617.jpg  \n",
            "  inflating: celeba_hq_256/27618.jpg  \n",
            "  inflating: celeba_hq_256/27619.jpg  \n",
            "  inflating: celeba_hq_256/27620.jpg  \n",
            "  inflating: celeba_hq_256/27621.jpg  \n",
            "  inflating: celeba_hq_256/27622.jpg  \n",
            "  inflating: celeba_hq_256/27623.jpg  \n",
            "  inflating: celeba_hq_256/27624.jpg  \n",
            "  inflating: celeba_hq_256/27625.jpg  \n",
            "  inflating: celeba_hq_256/27626.jpg  \n",
            "  inflating: celeba_hq_256/27627.jpg  \n",
            "  inflating: celeba_hq_256/27628.jpg  \n",
            "  inflating: celeba_hq_256/27629.jpg  \n",
            "  inflating: celeba_hq_256/27630.jpg  \n",
            "  inflating: celeba_hq_256/27631.jpg  \n",
            "  inflating: celeba_hq_256/27632.jpg  \n",
            "  inflating: celeba_hq_256/27633.jpg  \n",
            "  inflating: celeba_hq_256/27634.jpg  \n",
            "  inflating: celeba_hq_256/27635.jpg  \n",
            "  inflating: celeba_hq_256/27636.jpg  \n",
            "  inflating: celeba_hq_256/27637.jpg  \n",
            "  inflating: celeba_hq_256/27638.jpg  \n",
            "  inflating: celeba_hq_256/27639.jpg  \n",
            "  inflating: celeba_hq_256/27640.jpg  \n",
            "  inflating: celeba_hq_256/27641.jpg  \n",
            "  inflating: celeba_hq_256/27642.jpg  \n",
            "  inflating: celeba_hq_256/27643.jpg  \n",
            "  inflating: celeba_hq_256/27644.jpg  \n",
            "  inflating: celeba_hq_256/27645.jpg  \n",
            "  inflating: celeba_hq_256/27646.jpg  \n",
            "  inflating: celeba_hq_256/27647.jpg  \n",
            "  inflating: celeba_hq_256/27648.jpg  \n",
            "  inflating: celeba_hq_256/27649.jpg  \n",
            "  inflating: celeba_hq_256/27650.jpg  \n",
            "  inflating: celeba_hq_256/27651.jpg  \n",
            "  inflating: celeba_hq_256/27652.jpg  \n",
            "  inflating: celeba_hq_256/27653.jpg  \n",
            "  inflating: celeba_hq_256/27654.jpg  \n",
            "  inflating: celeba_hq_256/27655.jpg  \n",
            "  inflating: celeba_hq_256/27656.jpg  \n",
            "  inflating: celeba_hq_256/27657.jpg  \n",
            "  inflating: celeba_hq_256/27658.jpg  \n",
            "  inflating: celeba_hq_256/27659.jpg  \n",
            "  inflating: celeba_hq_256/27660.jpg  \n",
            "  inflating: celeba_hq_256/27661.jpg  \n",
            "  inflating: celeba_hq_256/27662.jpg  \n",
            "  inflating: celeba_hq_256/27663.jpg  \n",
            "  inflating: celeba_hq_256/27664.jpg  \n",
            "  inflating: celeba_hq_256/27665.jpg  \n",
            "  inflating: celeba_hq_256/27666.jpg  \n",
            "  inflating: celeba_hq_256/27667.jpg  \n",
            "  inflating: celeba_hq_256/27668.jpg  \n",
            "  inflating: celeba_hq_256/27669.jpg  \n",
            "  inflating: celeba_hq_256/27670.jpg  \n",
            "  inflating: celeba_hq_256/27671.jpg  \n",
            "  inflating: celeba_hq_256/27672.jpg  \n",
            "  inflating: celeba_hq_256/27673.jpg  \n",
            "  inflating: celeba_hq_256/27674.jpg  \n",
            "  inflating: celeba_hq_256/27675.jpg  \n",
            "  inflating: celeba_hq_256/27676.jpg  \n",
            "  inflating: celeba_hq_256/27677.jpg  \n",
            "  inflating: celeba_hq_256/27678.jpg  \n",
            "  inflating: celeba_hq_256/27679.jpg  \n",
            "  inflating: celeba_hq_256/27680.jpg  \n",
            "  inflating: celeba_hq_256/27681.jpg  \n",
            "  inflating: celeba_hq_256/27682.jpg  \n",
            "  inflating: celeba_hq_256/27683.jpg  \n",
            "  inflating: celeba_hq_256/27684.jpg  \n",
            "  inflating: celeba_hq_256/27685.jpg  \n",
            "  inflating: celeba_hq_256/27686.jpg  \n",
            "  inflating: celeba_hq_256/27687.jpg  \n",
            "  inflating: celeba_hq_256/27688.jpg  \n",
            "  inflating: celeba_hq_256/27689.jpg  \n",
            "  inflating: celeba_hq_256/27690.jpg  \n",
            "  inflating: celeba_hq_256/27691.jpg  \n",
            "  inflating: celeba_hq_256/27692.jpg  \n",
            "  inflating: celeba_hq_256/27693.jpg  \n",
            "  inflating: celeba_hq_256/27694.jpg  \n",
            "  inflating: celeba_hq_256/27695.jpg  \n",
            "  inflating: celeba_hq_256/27696.jpg  \n",
            "  inflating: celeba_hq_256/27697.jpg  \n",
            "  inflating: celeba_hq_256/27698.jpg  \n",
            "  inflating: celeba_hq_256/27699.jpg  \n",
            "  inflating: celeba_hq_256/27700.jpg  \n",
            "  inflating: celeba_hq_256/27701.jpg  \n",
            "  inflating: celeba_hq_256/27702.jpg  \n",
            "  inflating: celeba_hq_256/27703.jpg  \n",
            "  inflating: celeba_hq_256/27704.jpg  \n",
            "  inflating: celeba_hq_256/27705.jpg  \n",
            "  inflating: celeba_hq_256/27706.jpg  \n",
            "  inflating: celeba_hq_256/27707.jpg  \n",
            "  inflating: celeba_hq_256/27708.jpg  \n",
            "  inflating: celeba_hq_256/27709.jpg  \n",
            "  inflating: celeba_hq_256/27710.jpg  \n",
            "  inflating: celeba_hq_256/27711.jpg  \n",
            "  inflating: celeba_hq_256/27712.jpg  \n",
            "  inflating: celeba_hq_256/27713.jpg  \n",
            "  inflating: celeba_hq_256/27714.jpg  \n",
            "  inflating: celeba_hq_256/27715.jpg  \n",
            "  inflating: celeba_hq_256/27716.jpg  \n",
            "  inflating: celeba_hq_256/27717.jpg  \n",
            "  inflating: celeba_hq_256/27718.jpg  \n",
            "  inflating: celeba_hq_256/27719.jpg  \n",
            "  inflating: celeba_hq_256/27720.jpg  \n",
            "  inflating: celeba_hq_256/27721.jpg  \n",
            "  inflating: celeba_hq_256/27722.jpg  \n",
            "  inflating: celeba_hq_256/27723.jpg  \n",
            "  inflating: celeba_hq_256/27724.jpg  \n",
            "  inflating: celeba_hq_256/27725.jpg  \n",
            "  inflating: celeba_hq_256/27726.jpg  \n",
            "  inflating: celeba_hq_256/27727.jpg  \n",
            "  inflating: celeba_hq_256/27728.jpg  \n",
            "  inflating: celeba_hq_256/27729.jpg  \n",
            "  inflating: celeba_hq_256/27730.jpg  \n",
            "  inflating: celeba_hq_256/27731.jpg  \n",
            "  inflating: celeba_hq_256/27732.jpg  \n",
            "  inflating: celeba_hq_256/27733.jpg  \n",
            "  inflating: celeba_hq_256/27734.jpg  \n",
            "  inflating: celeba_hq_256/27735.jpg  \n",
            "  inflating: celeba_hq_256/27736.jpg  \n",
            "  inflating: celeba_hq_256/27737.jpg  \n",
            "  inflating: celeba_hq_256/27738.jpg  \n",
            "  inflating: celeba_hq_256/27739.jpg  \n",
            "  inflating: celeba_hq_256/27740.jpg  \n",
            "  inflating: celeba_hq_256/27741.jpg  \n",
            "  inflating: celeba_hq_256/27742.jpg  \n",
            "  inflating: celeba_hq_256/27743.jpg  \n",
            "  inflating: celeba_hq_256/27744.jpg  \n",
            "  inflating: celeba_hq_256/27745.jpg  \n",
            "  inflating: celeba_hq_256/27746.jpg  \n",
            "  inflating: celeba_hq_256/27747.jpg  \n",
            "  inflating: celeba_hq_256/27748.jpg  \n",
            "  inflating: celeba_hq_256/27749.jpg  \n",
            "  inflating: celeba_hq_256/27750.jpg  \n",
            "  inflating: celeba_hq_256/27751.jpg  \n",
            "  inflating: celeba_hq_256/27752.jpg  \n",
            "  inflating: celeba_hq_256/27753.jpg  \n",
            "  inflating: celeba_hq_256/27754.jpg  \n",
            "  inflating: celeba_hq_256/27755.jpg  \n",
            "  inflating: celeba_hq_256/27756.jpg  \n",
            "  inflating: celeba_hq_256/27757.jpg  \n",
            "  inflating: celeba_hq_256/27758.jpg  \n",
            "  inflating: celeba_hq_256/27759.jpg  \n",
            "  inflating: celeba_hq_256/27760.jpg  \n",
            "  inflating: celeba_hq_256/27761.jpg  \n",
            "  inflating: celeba_hq_256/27762.jpg  \n",
            "  inflating: celeba_hq_256/27763.jpg  \n",
            "  inflating: celeba_hq_256/27764.jpg  \n",
            "  inflating: celeba_hq_256/27765.jpg  \n",
            "  inflating: celeba_hq_256/27766.jpg  \n",
            "  inflating: celeba_hq_256/27767.jpg  \n",
            "  inflating: celeba_hq_256/27768.jpg  \n",
            "  inflating: celeba_hq_256/27769.jpg  \n",
            "  inflating: celeba_hq_256/27770.jpg  \n",
            "  inflating: celeba_hq_256/27771.jpg  \n",
            "  inflating: celeba_hq_256/27772.jpg  \n",
            "  inflating: celeba_hq_256/27773.jpg  \n",
            "  inflating: celeba_hq_256/27774.jpg  \n",
            "  inflating: celeba_hq_256/27775.jpg  \n",
            "  inflating: celeba_hq_256/27776.jpg  \n",
            "  inflating: celeba_hq_256/27777.jpg  \n",
            "  inflating: celeba_hq_256/27778.jpg  \n",
            "  inflating: celeba_hq_256/27779.jpg  \n",
            "  inflating: celeba_hq_256/27780.jpg  \n",
            "  inflating: celeba_hq_256/27781.jpg  \n",
            "  inflating: celeba_hq_256/27782.jpg  \n",
            "  inflating: celeba_hq_256/27783.jpg  \n",
            "  inflating: celeba_hq_256/27784.jpg  \n",
            "  inflating: celeba_hq_256/27785.jpg  \n",
            "  inflating: celeba_hq_256/27786.jpg  \n",
            "  inflating: celeba_hq_256/27787.jpg  \n",
            "  inflating: celeba_hq_256/27788.jpg  \n",
            "  inflating: celeba_hq_256/27789.jpg  \n",
            "  inflating: celeba_hq_256/27790.jpg  \n",
            "  inflating: celeba_hq_256/27791.jpg  \n",
            "  inflating: celeba_hq_256/27792.jpg  \n",
            "  inflating: celeba_hq_256/27793.jpg  \n",
            "  inflating: celeba_hq_256/27794.jpg  \n",
            "  inflating: celeba_hq_256/27795.jpg  \n",
            "  inflating: celeba_hq_256/27796.jpg  \n",
            "  inflating: celeba_hq_256/27797.jpg  \n",
            "  inflating: celeba_hq_256/27798.jpg  \n",
            "  inflating: celeba_hq_256/27799.jpg  \n",
            "  inflating: celeba_hq_256/27800.jpg  \n",
            "  inflating: celeba_hq_256/27801.jpg  \n",
            "  inflating: celeba_hq_256/27802.jpg  \n",
            "  inflating: celeba_hq_256/27803.jpg  \n",
            "  inflating: celeba_hq_256/27804.jpg  \n",
            "  inflating: celeba_hq_256/27805.jpg  \n",
            "  inflating: celeba_hq_256/27806.jpg  \n",
            "  inflating: celeba_hq_256/27807.jpg  \n",
            "  inflating: celeba_hq_256/27808.jpg  \n",
            "  inflating: celeba_hq_256/27809.jpg  \n",
            "  inflating: celeba_hq_256/27810.jpg  \n",
            "  inflating: celeba_hq_256/27811.jpg  \n",
            "  inflating: celeba_hq_256/27812.jpg  \n",
            "  inflating: celeba_hq_256/27813.jpg  \n",
            "  inflating: celeba_hq_256/27814.jpg  \n",
            "  inflating: celeba_hq_256/27815.jpg  \n",
            "  inflating: celeba_hq_256/27816.jpg  \n",
            "  inflating: celeba_hq_256/27817.jpg  \n",
            "  inflating: celeba_hq_256/27818.jpg  \n",
            "  inflating: celeba_hq_256/27819.jpg  \n",
            "  inflating: celeba_hq_256/27820.jpg  \n",
            "  inflating: celeba_hq_256/27821.jpg  \n",
            "  inflating: celeba_hq_256/27822.jpg  \n",
            "  inflating: celeba_hq_256/27823.jpg  \n",
            "  inflating: celeba_hq_256/27824.jpg  \n",
            "  inflating: celeba_hq_256/27825.jpg  \n",
            "  inflating: celeba_hq_256/27826.jpg  \n",
            "  inflating: celeba_hq_256/27827.jpg  \n",
            "  inflating: celeba_hq_256/27828.jpg  \n",
            "  inflating: celeba_hq_256/27829.jpg  \n",
            "  inflating: celeba_hq_256/27830.jpg  \n",
            "  inflating: celeba_hq_256/27831.jpg  \n",
            "  inflating: celeba_hq_256/27832.jpg  \n",
            "  inflating: celeba_hq_256/27833.jpg  \n",
            "  inflating: celeba_hq_256/27834.jpg  \n",
            "  inflating: celeba_hq_256/27835.jpg  \n",
            "  inflating: celeba_hq_256/27836.jpg  \n",
            "  inflating: celeba_hq_256/27837.jpg  \n",
            "  inflating: celeba_hq_256/27838.jpg  \n",
            "  inflating: celeba_hq_256/27839.jpg  \n",
            "  inflating: celeba_hq_256/27840.jpg  \n",
            "  inflating: celeba_hq_256/27841.jpg  \n",
            "  inflating: celeba_hq_256/27842.jpg  \n",
            "  inflating: celeba_hq_256/27843.jpg  \n",
            "  inflating: celeba_hq_256/27844.jpg  \n",
            "  inflating: celeba_hq_256/27845.jpg  \n",
            "  inflating: celeba_hq_256/27846.jpg  \n",
            "  inflating: celeba_hq_256/27847.jpg  \n",
            "  inflating: celeba_hq_256/27848.jpg  \n",
            "  inflating: celeba_hq_256/27849.jpg  \n",
            "  inflating: celeba_hq_256/27850.jpg  \n",
            "  inflating: celeba_hq_256/27851.jpg  \n",
            "  inflating: celeba_hq_256/27852.jpg  \n",
            "  inflating: celeba_hq_256/27853.jpg  \n",
            "  inflating: celeba_hq_256/27854.jpg  \n",
            "  inflating: celeba_hq_256/27855.jpg  \n",
            "  inflating: celeba_hq_256/27856.jpg  \n",
            "  inflating: celeba_hq_256/27857.jpg  \n",
            "  inflating: celeba_hq_256/27858.jpg  \n",
            "  inflating: celeba_hq_256/27859.jpg  \n",
            "  inflating: celeba_hq_256/27860.jpg  \n",
            "  inflating: celeba_hq_256/27861.jpg  \n",
            "  inflating: celeba_hq_256/27862.jpg  \n",
            "  inflating: celeba_hq_256/27863.jpg  \n",
            "  inflating: celeba_hq_256/27864.jpg  \n",
            "  inflating: celeba_hq_256/27865.jpg  \n",
            "  inflating: celeba_hq_256/27866.jpg  \n",
            "  inflating: celeba_hq_256/27867.jpg  \n",
            "  inflating: celeba_hq_256/27868.jpg  \n",
            "  inflating: celeba_hq_256/27869.jpg  \n",
            "  inflating: celeba_hq_256/27870.jpg  \n",
            "  inflating: celeba_hq_256/27871.jpg  \n",
            "  inflating: celeba_hq_256/27872.jpg  \n",
            "  inflating: celeba_hq_256/27873.jpg  \n",
            "  inflating: celeba_hq_256/27874.jpg  \n",
            "  inflating: celeba_hq_256/27875.jpg  \n",
            "  inflating: celeba_hq_256/27876.jpg  \n",
            "  inflating: celeba_hq_256/27877.jpg  \n",
            "  inflating: celeba_hq_256/27878.jpg  \n",
            "  inflating: celeba_hq_256/27879.jpg  \n",
            "  inflating: celeba_hq_256/27880.jpg  \n",
            "  inflating: celeba_hq_256/27881.jpg  \n",
            "  inflating: celeba_hq_256/27882.jpg  \n",
            "  inflating: celeba_hq_256/27883.jpg  \n",
            "  inflating: celeba_hq_256/27884.jpg  \n",
            "  inflating: celeba_hq_256/27885.jpg  \n",
            "  inflating: celeba_hq_256/27886.jpg  \n",
            "  inflating: celeba_hq_256/27887.jpg  \n",
            "  inflating: celeba_hq_256/27888.jpg  \n",
            "  inflating: celeba_hq_256/27889.jpg  \n",
            "  inflating: celeba_hq_256/27890.jpg  \n",
            "  inflating: celeba_hq_256/27891.jpg  \n",
            "  inflating: celeba_hq_256/27892.jpg  \n",
            "  inflating: celeba_hq_256/27893.jpg  \n",
            "  inflating: celeba_hq_256/27894.jpg  \n",
            "  inflating: celeba_hq_256/27895.jpg  \n",
            "  inflating: celeba_hq_256/27896.jpg  \n",
            "  inflating: celeba_hq_256/27897.jpg  \n",
            "  inflating: celeba_hq_256/27898.jpg  \n",
            "  inflating: celeba_hq_256/27899.jpg  \n",
            "  inflating: celeba_hq_256/27900.jpg  \n",
            "  inflating: celeba_hq_256/27901.jpg  \n",
            "  inflating: celeba_hq_256/27902.jpg  \n",
            "  inflating: celeba_hq_256/27903.jpg  \n",
            "  inflating: celeba_hq_256/27904.jpg  \n",
            "  inflating: celeba_hq_256/27905.jpg  \n",
            "  inflating: celeba_hq_256/27906.jpg  \n",
            "  inflating: celeba_hq_256/27907.jpg  \n",
            "  inflating: celeba_hq_256/27908.jpg  \n",
            "  inflating: celeba_hq_256/27909.jpg  \n",
            "  inflating: celeba_hq_256/27910.jpg  \n",
            "  inflating: celeba_hq_256/27911.jpg  \n",
            "  inflating: celeba_hq_256/27912.jpg  \n",
            "  inflating: celeba_hq_256/27913.jpg  \n",
            "  inflating: celeba_hq_256/27914.jpg  \n",
            "  inflating: celeba_hq_256/27915.jpg  \n",
            "  inflating: celeba_hq_256/27916.jpg  \n",
            "  inflating: celeba_hq_256/27917.jpg  \n",
            "  inflating: celeba_hq_256/27918.jpg  \n",
            "  inflating: celeba_hq_256/27919.jpg  \n",
            "  inflating: celeba_hq_256/27920.jpg  \n",
            "  inflating: celeba_hq_256/27921.jpg  \n",
            "  inflating: celeba_hq_256/27922.jpg  \n",
            "  inflating: celeba_hq_256/27923.jpg  \n",
            "  inflating: celeba_hq_256/27924.jpg  \n",
            "  inflating: celeba_hq_256/27925.jpg  \n",
            "  inflating: celeba_hq_256/27926.jpg  \n",
            "  inflating: celeba_hq_256/27927.jpg  \n",
            "  inflating: celeba_hq_256/27928.jpg  \n",
            "  inflating: celeba_hq_256/27929.jpg  \n",
            "  inflating: celeba_hq_256/27930.jpg  \n",
            "  inflating: celeba_hq_256/27931.jpg  \n",
            "  inflating: celeba_hq_256/27932.jpg  \n",
            "  inflating: celeba_hq_256/27933.jpg  \n",
            "  inflating: celeba_hq_256/27934.jpg  \n",
            "  inflating: celeba_hq_256/27935.jpg  \n",
            "  inflating: celeba_hq_256/27936.jpg  \n",
            "  inflating: celeba_hq_256/27937.jpg  \n",
            "  inflating: celeba_hq_256/27938.jpg  \n",
            "  inflating: celeba_hq_256/27939.jpg  \n",
            "  inflating: celeba_hq_256/27940.jpg  \n",
            "  inflating: celeba_hq_256/27941.jpg  \n",
            "  inflating: celeba_hq_256/27942.jpg  \n",
            "  inflating: celeba_hq_256/27943.jpg  \n",
            "  inflating: celeba_hq_256/27944.jpg  \n",
            "  inflating: celeba_hq_256/27945.jpg  \n",
            "  inflating: celeba_hq_256/27946.jpg  \n",
            "  inflating: celeba_hq_256/27947.jpg  \n",
            "  inflating: celeba_hq_256/27948.jpg  \n",
            "  inflating: celeba_hq_256/27949.jpg  \n",
            "  inflating: celeba_hq_256/27950.jpg  \n",
            "  inflating: celeba_hq_256/27951.jpg  \n",
            "  inflating: celeba_hq_256/27952.jpg  \n",
            "  inflating: celeba_hq_256/27953.jpg  \n",
            "  inflating: celeba_hq_256/27954.jpg  \n",
            "  inflating: celeba_hq_256/27955.jpg  \n",
            "  inflating: celeba_hq_256/27956.jpg  \n",
            "  inflating: celeba_hq_256/27957.jpg  \n",
            "  inflating: celeba_hq_256/27958.jpg  \n",
            "  inflating: celeba_hq_256/27959.jpg  \n",
            "  inflating: celeba_hq_256/27960.jpg  \n",
            "  inflating: celeba_hq_256/27961.jpg  \n",
            "  inflating: celeba_hq_256/27962.jpg  \n",
            "  inflating: celeba_hq_256/27963.jpg  \n",
            "  inflating: celeba_hq_256/27964.jpg  \n",
            "  inflating: celeba_hq_256/27965.jpg  \n",
            "  inflating: celeba_hq_256/27966.jpg  \n",
            "  inflating: celeba_hq_256/27967.jpg  \n",
            "  inflating: celeba_hq_256/27968.jpg  \n",
            "  inflating: celeba_hq_256/27969.jpg  \n",
            "  inflating: celeba_hq_256/27970.jpg  \n",
            "  inflating: celeba_hq_256/27971.jpg  \n",
            "  inflating: celeba_hq_256/27972.jpg  \n",
            "  inflating: celeba_hq_256/27973.jpg  \n",
            "  inflating: celeba_hq_256/27974.jpg  \n",
            "  inflating: celeba_hq_256/27975.jpg  \n",
            "  inflating: celeba_hq_256/27976.jpg  \n",
            "  inflating: celeba_hq_256/27977.jpg  \n",
            "  inflating: celeba_hq_256/27978.jpg  \n",
            "  inflating: celeba_hq_256/27979.jpg  \n",
            "  inflating: celeba_hq_256/27980.jpg  \n",
            "  inflating: celeba_hq_256/27981.jpg  \n",
            "  inflating: celeba_hq_256/27982.jpg  \n",
            "  inflating: celeba_hq_256/27983.jpg  \n",
            "  inflating: celeba_hq_256/27984.jpg  \n",
            "  inflating: celeba_hq_256/27985.jpg  \n",
            "  inflating: celeba_hq_256/27986.jpg  \n",
            "  inflating: celeba_hq_256/27987.jpg  \n",
            "  inflating: celeba_hq_256/27988.jpg  \n",
            "  inflating: celeba_hq_256/27989.jpg  \n",
            "  inflating: celeba_hq_256/27990.jpg  \n",
            "  inflating: celeba_hq_256/27991.jpg  \n",
            "  inflating: celeba_hq_256/27992.jpg  \n",
            "  inflating: celeba_hq_256/27993.jpg  \n",
            "  inflating: celeba_hq_256/27994.jpg  \n",
            "  inflating: celeba_hq_256/27995.jpg  \n",
            "  inflating: celeba_hq_256/27996.jpg  \n",
            "  inflating: celeba_hq_256/27997.jpg  \n",
            "  inflating: celeba_hq_256/27998.jpg  \n",
            "  inflating: celeba_hq_256/27999.jpg  \n",
            "  inflating: celeba_hq_256/28000.jpg  \n",
            "  inflating: celeba_hq_256/28001.jpg  \n",
            "  inflating: celeba_hq_256/28002.jpg  \n",
            "  inflating: celeba_hq_256/28003.jpg  \n",
            "  inflating: celeba_hq_256/28004.jpg  \n",
            "  inflating: celeba_hq_256/28005.jpg  \n",
            "  inflating: celeba_hq_256/28006.jpg  \n",
            "  inflating: celeba_hq_256/28007.jpg  \n",
            "  inflating: celeba_hq_256/28008.jpg  \n",
            "  inflating: celeba_hq_256/28009.jpg  \n",
            "  inflating: celeba_hq_256/28010.jpg  \n",
            "  inflating: celeba_hq_256/28011.jpg  \n",
            "  inflating: celeba_hq_256/28012.jpg  \n",
            "  inflating: celeba_hq_256/28013.jpg  \n",
            "  inflating: celeba_hq_256/28014.jpg  \n",
            "  inflating: celeba_hq_256/28015.jpg  \n",
            "  inflating: celeba_hq_256/28016.jpg  \n",
            "  inflating: celeba_hq_256/28017.jpg  \n",
            "  inflating: celeba_hq_256/28018.jpg  \n",
            "  inflating: celeba_hq_256/28019.jpg  \n",
            "  inflating: celeba_hq_256/28020.jpg  \n",
            "  inflating: celeba_hq_256/28021.jpg  \n",
            "  inflating: celeba_hq_256/28022.jpg  \n",
            "  inflating: celeba_hq_256/28023.jpg  \n",
            "  inflating: celeba_hq_256/28024.jpg  \n",
            "  inflating: celeba_hq_256/28025.jpg  \n",
            "  inflating: celeba_hq_256/28026.jpg  \n",
            "  inflating: celeba_hq_256/28027.jpg  \n",
            "  inflating: celeba_hq_256/28028.jpg  \n",
            "  inflating: celeba_hq_256/28029.jpg  \n",
            "  inflating: celeba_hq_256/28030.jpg  \n",
            "  inflating: celeba_hq_256/28031.jpg  \n",
            "  inflating: celeba_hq_256/28032.jpg  \n",
            "  inflating: celeba_hq_256/28033.jpg  \n",
            "  inflating: celeba_hq_256/28034.jpg  \n",
            "  inflating: celeba_hq_256/28035.jpg  \n",
            "  inflating: celeba_hq_256/28036.jpg  \n",
            "  inflating: celeba_hq_256/28037.jpg  \n",
            "  inflating: celeba_hq_256/28038.jpg  \n",
            "  inflating: celeba_hq_256/28039.jpg  \n",
            "  inflating: celeba_hq_256/28040.jpg  \n",
            "  inflating: celeba_hq_256/28041.jpg  \n",
            "  inflating: celeba_hq_256/28042.jpg  \n",
            "  inflating: celeba_hq_256/28043.jpg  \n",
            "  inflating: celeba_hq_256/28044.jpg  \n",
            "  inflating: celeba_hq_256/28045.jpg  \n",
            "  inflating: celeba_hq_256/28046.jpg  \n",
            "  inflating: celeba_hq_256/28047.jpg  \n",
            "  inflating: celeba_hq_256/28048.jpg  \n",
            "  inflating: celeba_hq_256/28049.jpg  \n",
            "  inflating: celeba_hq_256/28050.jpg  \n",
            "  inflating: celeba_hq_256/28051.jpg  \n",
            "  inflating: celeba_hq_256/28052.jpg  \n",
            "  inflating: celeba_hq_256/28053.jpg  \n",
            "  inflating: celeba_hq_256/28054.jpg  \n",
            "  inflating: celeba_hq_256/28055.jpg  \n",
            "  inflating: celeba_hq_256/28056.jpg  \n",
            "  inflating: celeba_hq_256/28057.jpg  \n",
            "  inflating: celeba_hq_256/28058.jpg  \n",
            "  inflating: celeba_hq_256/28059.jpg  \n",
            "  inflating: celeba_hq_256/28060.jpg  \n",
            "  inflating: celeba_hq_256/28061.jpg  \n",
            "  inflating: celeba_hq_256/28062.jpg  \n",
            "  inflating: celeba_hq_256/28063.jpg  \n",
            "  inflating: celeba_hq_256/28064.jpg  \n",
            "  inflating: celeba_hq_256/28065.jpg  \n",
            "  inflating: celeba_hq_256/28066.jpg  \n",
            "  inflating: celeba_hq_256/28067.jpg  \n",
            "  inflating: celeba_hq_256/28068.jpg  \n",
            "  inflating: celeba_hq_256/28069.jpg  \n",
            "  inflating: celeba_hq_256/28070.jpg  \n",
            "  inflating: celeba_hq_256/28071.jpg  \n",
            "  inflating: celeba_hq_256/28072.jpg  \n",
            "  inflating: celeba_hq_256/28073.jpg  \n",
            "  inflating: celeba_hq_256/28074.jpg  \n",
            "  inflating: celeba_hq_256/28075.jpg  \n",
            "  inflating: celeba_hq_256/28076.jpg  \n",
            "  inflating: celeba_hq_256/28077.jpg  \n",
            "  inflating: celeba_hq_256/28078.jpg  \n",
            "  inflating: celeba_hq_256/28079.jpg  \n",
            "  inflating: celeba_hq_256/28080.jpg  \n",
            "  inflating: celeba_hq_256/28081.jpg  \n",
            "  inflating: celeba_hq_256/28082.jpg  \n",
            "  inflating: celeba_hq_256/28083.jpg  \n",
            "  inflating: celeba_hq_256/28084.jpg  \n",
            "  inflating: celeba_hq_256/28085.jpg  \n",
            "  inflating: celeba_hq_256/28086.jpg  \n",
            "  inflating: celeba_hq_256/28087.jpg  \n",
            "  inflating: celeba_hq_256/28088.jpg  \n",
            "  inflating: celeba_hq_256/28089.jpg  \n",
            "  inflating: celeba_hq_256/28090.jpg  \n",
            "  inflating: celeba_hq_256/28091.jpg  \n",
            "  inflating: celeba_hq_256/28092.jpg  \n",
            "  inflating: celeba_hq_256/28093.jpg  \n",
            "  inflating: celeba_hq_256/28094.jpg  \n",
            "  inflating: celeba_hq_256/28095.jpg  \n",
            "  inflating: celeba_hq_256/28096.jpg  \n",
            "  inflating: celeba_hq_256/28097.jpg  \n",
            "  inflating: celeba_hq_256/28098.jpg  \n",
            "  inflating: celeba_hq_256/28099.jpg  \n",
            "  inflating: celeba_hq_256/28100.jpg  \n",
            "  inflating: celeba_hq_256/28101.jpg  \n",
            "  inflating: celeba_hq_256/28102.jpg  \n",
            "  inflating: celeba_hq_256/28103.jpg  \n",
            "  inflating: celeba_hq_256/28104.jpg  \n",
            "  inflating: celeba_hq_256/28105.jpg  \n",
            "  inflating: celeba_hq_256/28106.jpg  \n",
            "  inflating: celeba_hq_256/28107.jpg  \n",
            "  inflating: celeba_hq_256/28108.jpg  \n",
            "  inflating: celeba_hq_256/28109.jpg  \n",
            "  inflating: celeba_hq_256/28110.jpg  \n",
            "  inflating: celeba_hq_256/28111.jpg  \n",
            "  inflating: celeba_hq_256/28112.jpg  \n",
            "  inflating: celeba_hq_256/28113.jpg  \n",
            "  inflating: celeba_hq_256/28114.jpg  \n",
            "  inflating: celeba_hq_256/28115.jpg  \n",
            "  inflating: celeba_hq_256/28116.jpg  \n",
            "  inflating: celeba_hq_256/28117.jpg  \n",
            "  inflating: celeba_hq_256/28118.jpg  \n",
            "  inflating: celeba_hq_256/28119.jpg  \n",
            "  inflating: celeba_hq_256/28120.jpg  \n",
            "  inflating: celeba_hq_256/28121.jpg  \n",
            "  inflating: celeba_hq_256/28122.jpg  \n",
            "  inflating: celeba_hq_256/28123.jpg  \n",
            "  inflating: celeba_hq_256/28124.jpg  \n",
            "  inflating: celeba_hq_256/28125.jpg  \n",
            "  inflating: celeba_hq_256/28126.jpg  \n",
            "  inflating: celeba_hq_256/28127.jpg  \n",
            "  inflating: celeba_hq_256/28128.jpg  \n",
            "  inflating: celeba_hq_256/28129.jpg  \n",
            "  inflating: celeba_hq_256/28130.jpg  \n",
            "  inflating: celeba_hq_256/28131.jpg  \n",
            "  inflating: celeba_hq_256/28132.jpg  \n",
            "  inflating: celeba_hq_256/28133.jpg  \n",
            "  inflating: celeba_hq_256/28134.jpg  \n",
            "  inflating: celeba_hq_256/28135.jpg  \n",
            "  inflating: celeba_hq_256/28136.jpg  \n",
            "  inflating: celeba_hq_256/28137.jpg  \n",
            "  inflating: celeba_hq_256/28138.jpg  \n",
            "  inflating: celeba_hq_256/28139.jpg  \n",
            "  inflating: celeba_hq_256/28140.jpg  \n",
            "  inflating: celeba_hq_256/28141.jpg  \n",
            "  inflating: celeba_hq_256/28142.jpg  \n",
            "  inflating: celeba_hq_256/28143.jpg  \n",
            "  inflating: celeba_hq_256/28144.jpg  \n",
            "  inflating: celeba_hq_256/28145.jpg  \n",
            "  inflating: celeba_hq_256/28146.jpg  \n",
            "  inflating: celeba_hq_256/28147.jpg  \n",
            "  inflating: celeba_hq_256/28148.jpg  \n",
            "  inflating: celeba_hq_256/28149.jpg  \n",
            "  inflating: celeba_hq_256/28150.jpg  \n",
            "  inflating: celeba_hq_256/28151.jpg  \n",
            "  inflating: celeba_hq_256/28152.jpg  \n",
            "  inflating: celeba_hq_256/28153.jpg  \n",
            "  inflating: celeba_hq_256/28154.jpg  \n",
            "  inflating: celeba_hq_256/28155.jpg  \n",
            "  inflating: celeba_hq_256/28156.jpg  \n",
            "  inflating: celeba_hq_256/28157.jpg  \n",
            "  inflating: celeba_hq_256/28158.jpg  \n",
            "  inflating: celeba_hq_256/28159.jpg  \n",
            "  inflating: celeba_hq_256/28160.jpg  \n",
            "  inflating: celeba_hq_256/28161.jpg  \n",
            "  inflating: celeba_hq_256/28162.jpg  \n",
            "  inflating: celeba_hq_256/28163.jpg  \n",
            "  inflating: celeba_hq_256/28164.jpg  \n",
            "  inflating: celeba_hq_256/28165.jpg  \n",
            "  inflating: celeba_hq_256/28166.jpg  \n",
            "  inflating: celeba_hq_256/28167.jpg  \n",
            "  inflating: celeba_hq_256/28168.jpg  \n",
            "  inflating: celeba_hq_256/28169.jpg  \n",
            "  inflating: celeba_hq_256/28170.jpg  \n",
            "  inflating: celeba_hq_256/28171.jpg  \n",
            "  inflating: celeba_hq_256/28172.jpg  \n",
            "  inflating: celeba_hq_256/28173.jpg  \n",
            "  inflating: celeba_hq_256/28174.jpg  \n",
            "  inflating: celeba_hq_256/28175.jpg  \n",
            "  inflating: celeba_hq_256/28176.jpg  \n",
            "  inflating: celeba_hq_256/28177.jpg  \n",
            "  inflating: celeba_hq_256/28178.jpg  \n",
            "  inflating: celeba_hq_256/28179.jpg  \n",
            "  inflating: celeba_hq_256/28180.jpg  \n",
            "  inflating: celeba_hq_256/28181.jpg  \n",
            "  inflating: celeba_hq_256/28182.jpg  \n",
            "  inflating: celeba_hq_256/28183.jpg  \n",
            "  inflating: celeba_hq_256/28184.jpg  \n",
            "  inflating: celeba_hq_256/28185.jpg  \n",
            "  inflating: celeba_hq_256/28186.jpg  \n",
            "  inflating: celeba_hq_256/28187.jpg  \n",
            "  inflating: celeba_hq_256/28188.jpg  \n",
            "  inflating: celeba_hq_256/28189.jpg  \n",
            "  inflating: celeba_hq_256/28190.jpg  \n",
            "  inflating: celeba_hq_256/28191.jpg  \n",
            "  inflating: celeba_hq_256/28192.jpg  \n",
            "  inflating: celeba_hq_256/28193.jpg  \n",
            "  inflating: celeba_hq_256/28194.jpg  \n",
            "  inflating: celeba_hq_256/28195.jpg  \n",
            "  inflating: celeba_hq_256/28196.jpg  \n",
            "  inflating: celeba_hq_256/28197.jpg  \n",
            "  inflating: celeba_hq_256/28198.jpg  \n",
            "  inflating: celeba_hq_256/28199.jpg  \n",
            "  inflating: celeba_hq_256/28200.jpg  \n",
            "  inflating: celeba_hq_256/28201.jpg  \n",
            "  inflating: celeba_hq_256/28202.jpg  \n",
            "  inflating: celeba_hq_256/28203.jpg  \n",
            "  inflating: celeba_hq_256/28204.jpg  \n",
            "  inflating: celeba_hq_256/28205.jpg  \n",
            "  inflating: celeba_hq_256/28206.jpg  \n",
            "  inflating: celeba_hq_256/28207.jpg  \n",
            "  inflating: celeba_hq_256/28208.jpg  \n",
            "  inflating: celeba_hq_256/28209.jpg  \n",
            "  inflating: celeba_hq_256/28210.jpg  \n",
            "  inflating: celeba_hq_256/28211.jpg  \n",
            "  inflating: celeba_hq_256/28212.jpg  \n",
            "  inflating: celeba_hq_256/28213.jpg  \n",
            "  inflating: celeba_hq_256/28214.jpg  \n",
            "  inflating: celeba_hq_256/28215.jpg  \n",
            "  inflating: celeba_hq_256/28216.jpg  \n",
            "  inflating: celeba_hq_256/28217.jpg  \n",
            "  inflating: celeba_hq_256/28218.jpg  \n",
            "  inflating: celeba_hq_256/28219.jpg  \n",
            "  inflating: celeba_hq_256/28220.jpg  \n",
            "  inflating: celeba_hq_256/28221.jpg  \n",
            "  inflating: celeba_hq_256/28222.jpg  \n",
            "  inflating: celeba_hq_256/28223.jpg  \n",
            "  inflating: celeba_hq_256/28224.jpg  \n",
            "  inflating: celeba_hq_256/28225.jpg  \n",
            "  inflating: celeba_hq_256/28226.jpg  \n",
            "  inflating: celeba_hq_256/28227.jpg  \n",
            "  inflating: celeba_hq_256/28228.jpg  \n",
            "  inflating: celeba_hq_256/28229.jpg  \n",
            "  inflating: celeba_hq_256/28230.jpg  \n",
            "  inflating: celeba_hq_256/28231.jpg  \n",
            "  inflating: celeba_hq_256/28232.jpg  \n",
            "  inflating: celeba_hq_256/28233.jpg  \n",
            "  inflating: celeba_hq_256/28234.jpg  \n",
            "  inflating: celeba_hq_256/28235.jpg  \n",
            "  inflating: celeba_hq_256/28236.jpg  \n",
            "  inflating: celeba_hq_256/28237.jpg  \n",
            "  inflating: celeba_hq_256/28238.jpg  \n",
            "  inflating: celeba_hq_256/28239.jpg  \n",
            "  inflating: celeba_hq_256/28240.jpg  \n",
            "  inflating: celeba_hq_256/28241.jpg  \n",
            "  inflating: celeba_hq_256/28242.jpg  \n",
            "  inflating: celeba_hq_256/28243.jpg  \n",
            "  inflating: celeba_hq_256/28244.jpg  \n",
            "  inflating: celeba_hq_256/28245.jpg  \n",
            "  inflating: celeba_hq_256/28246.jpg  \n",
            "  inflating: celeba_hq_256/28247.jpg  \n",
            "  inflating: celeba_hq_256/28248.jpg  \n",
            "  inflating: celeba_hq_256/28249.jpg  \n",
            "  inflating: celeba_hq_256/28250.jpg  \n",
            "  inflating: celeba_hq_256/28251.jpg  \n",
            "  inflating: celeba_hq_256/28252.jpg  \n",
            "  inflating: celeba_hq_256/28253.jpg  \n",
            "  inflating: celeba_hq_256/28254.jpg  \n",
            "  inflating: celeba_hq_256/28255.jpg  \n",
            "  inflating: celeba_hq_256/28256.jpg  \n",
            "  inflating: celeba_hq_256/28257.jpg  \n",
            "  inflating: celeba_hq_256/28258.jpg  \n",
            "  inflating: celeba_hq_256/28259.jpg  \n",
            "  inflating: celeba_hq_256/28260.jpg  \n",
            "  inflating: celeba_hq_256/28261.jpg  \n",
            "  inflating: celeba_hq_256/28262.jpg  \n",
            "  inflating: celeba_hq_256/28263.jpg  \n",
            "  inflating: celeba_hq_256/28264.jpg  \n",
            "  inflating: celeba_hq_256/28265.jpg  \n",
            "  inflating: celeba_hq_256/28266.jpg  \n",
            "  inflating: celeba_hq_256/28267.jpg  \n",
            "  inflating: celeba_hq_256/28268.jpg  \n",
            "  inflating: celeba_hq_256/28269.jpg  \n",
            "  inflating: celeba_hq_256/28270.jpg  \n",
            "  inflating: celeba_hq_256/28271.jpg  \n",
            "  inflating: celeba_hq_256/28272.jpg  \n",
            "  inflating: celeba_hq_256/28273.jpg  \n",
            "  inflating: celeba_hq_256/28274.jpg  \n",
            "  inflating: celeba_hq_256/28275.jpg  \n",
            "  inflating: celeba_hq_256/28276.jpg  \n",
            "  inflating: celeba_hq_256/28277.jpg  \n",
            "  inflating: celeba_hq_256/28278.jpg  \n",
            "  inflating: celeba_hq_256/28279.jpg  \n",
            "  inflating: celeba_hq_256/28280.jpg  \n",
            "  inflating: celeba_hq_256/28281.jpg  \n",
            "  inflating: celeba_hq_256/28282.jpg  \n",
            "  inflating: celeba_hq_256/28283.jpg  \n",
            "  inflating: celeba_hq_256/28284.jpg  \n",
            "  inflating: celeba_hq_256/28285.jpg  \n",
            "  inflating: celeba_hq_256/28286.jpg  \n",
            "  inflating: celeba_hq_256/28287.jpg  \n",
            "  inflating: celeba_hq_256/28288.jpg  \n",
            "  inflating: celeba_hq_256/28289.jpg  \n",
            "  inflating: celeba_hq_256/28290.jpg  \n",
            "  inflating: celeba_hq_256/28291.jpg  \n",
            "  inflating: celeba_hq_256/28292.jpg  \n",
            "  inflating: celeba_hq_256/28293.jpg  \n",
            "  inflating: celeba_hq_256/28294.jpg  \n",
            "  inflating: celeba_hq_256/28295.jpg  \n",
            "  inflating: celeba_hq_256/28296.jpg  \n",
            "  inflating: celeba_hq_256/28297.jpg  \n",
            "  inflating: celeba_hq_256/28298.jpg  \n",
            "  inflating: celeba_hq_256/28299.jpg  \n",
            "  inflating: celeba_hq_256/28300.jpg  \n",
            "  inflating: celeba_hq_256/28301.jpg  \n",
            "  inflating: celeba_hq_256/28302.jpg  \n",
            "  inflating: celeba_hq_256/28303.jpg  \n",
            "  inflating: celeba_hq_256/28304.jpg  \n",
            "  inflating: celeba_hq_256/28305.jpg  \n",
            "  inflating: celeba_hq_256/28306.jpg  \n",
            "  inflating: celeba_hq_256/28307.jpg  \n",
            "  inflating: celeba_hq_256/28308.jpg  \n",
            "  inflating: celeba_hq_256/28309.jpg  \n",
            "  inflating: celeba_hq_256/28310.jpg  \n",
            "  inflating: celeba_hq_256/28311.jpg  \n",
            "  inflating: celeba_hq_256/28312.jpg  \n",
            "  inflating: celeba_hq_256/28313.jpg  \n",
            "  inflating: celeba_hq_256/28314.jpg  \n",
            "  inflating: celeba_hq_256/28315.jpg  \n",
            "  inflating: celeba_hq_256/28316.jpg  \n",
            "  inflating: celeba_hq_256/28317.jpg  \n",
            "  inflating: celeba_hq_256/28318.jpg  \n",
            "  inflating: celeba_hq_256/28319.jpg  \n",
            "  inflating: celeba_hq_256/28320.jpg  \n",
            "  inflating: celeba_hq_256/28321.jpg  \n",
            "  inflating: celeba_hq_256/28322.jpg  \n",
            "  inflating: celeba_hq_256/28323.jpg  \n",
            "  inflating: celeba_hq_256/28324.jpg  \n",
            "  inflating: celeba_hq_256/28325.jpg  \n",
            "  inflating: celeba_hq_256/28326.jpg  \n",
            "  inflating: celeba_hq_256/28327.jpg  \n",
            "  inflating: celeba_hq_256/28328.jpg  \n",
            "  inflating: celeba_hq_256/28329.jpg  \n",
            "  inflating: celeba_hq_256/28330.jpg  \n",
            "  inflating: celeba_hq_256/28331.jpg  \n",
            "  inflating: celeba_hq_256/28332.jpg  \n",
            "  inflating: celeba_hq_256/28333.jpg  \n",
            "  inflating: celeba_hq_256/28334.jpg  \n",
            "  inflating: celeba_hq_256/28335.jpg  \n",
            "  inflating: celeba_hq_256/28336.jpg  \n",
            "  inflating: celeba_hq_256/28337.jpg  \n",
            "  inflating: celeba_hq_256/28338.jpg  \n",
            "  inflating: celeba_hq_256/28339.jpg  \n",
            "  inflating: celeba_hq_256/28340.jpg  \n",
            "  inflating: celeba_hq_256/28341.jpg  \n",
            "  inflating: celeba_hq_256/28342.jpg  \n",
            "  inflating: celeba_hq_256/28343.jpg  \n",
            "  inflating: celeba_hq_256/28344.jpg  \n",
            "  inflating: celeba_hq_256/28345.jpg  \n",
            "  inflating: celeba_hq_256/28346.jpg  \n",
            "  inflating: celeba_hq_256/28347.jpg  \n",
            "  inflating: celeba_hq_256/28348.jpg  \n",
            "  inflating: celeba_hq_256/28349.jpg  \n",
            "  inflating: celeba_hq_256/28350.jpg  \n",
            "  inflating: celeba_hq_256/28351.jpg  \n",
            "  inflating: celeba_hq_256/28352.jpg  \n",
            "  inflating: celeba_hq_256/28353.jpg  \n",
            "  inflating: celeba_hq_256/28354.jpg  \n",
            "  inflating: celeba_hq_256/28355.jpg  \n",
            "  inflating: celeba_hq_256/28356.jpg  \n",
            "  inflating: celeba_hq_256/28357.jpg  \n",
            "  inflating: celeba_hq_256/28358.jpg  \n",
            "  inflating: celeba_hq_256/28359.jpg  \n",
            "  inflating: celeba_hq_256/28360.jpg  \n",
            "  inflating: celeba_hq_256/28361.jpg  \n",
            "  inflating: celeba_hq_256/28362.jpg  \n",
            "  inflating: celeba_hq_256/28363.jpg  \n",
            "  inflating: celeba_hq_256/28364.jpg  \n",
            "  inflating: celeba_hq_256/28365.jpg  \n",
            "  inflating: celeba_hq_256/28366.jpg  \n",
            "  inflating: celeba_hq_256/28367.jpg  \n",
            "  inflating: celeba_hq_256/28368.jpg  \n",
            "  inflating: celeba_hq_256/28369.jpg  \n",
            "  inflating: celeba_hq_256/28370.jpg  \n",
            "  inflating: celeba_hq_256/28371.jpg  \n",
            "  inflating: celeba_hq_256/28372.jpg  \n",
            "  inflating: celeba_hq_256/28373.jpg  \n",
            "  inflating: celeba_hq_256/28374.jpg  \n",
            "  inflating: celeba_hq_256/28375.jpg  \n",
            "  inflating: celeba_hq_256/28376.jpg  \n",
            "  inflating: celeba_hq_256/28377.jpg  \n",
            "  inflating: celeba_hq_256/28378.jpg  \n",
            "  inflating: celeba_hq_256/28379.jpg  \n",
            "  inflating: celeba_hq_256/28380.jpg  \n",
            "  inflating: celeba_hq_256/28381.jpg  \n",
            "  inflating: celeba_hq_256/28382.jpg  \n",
            "  inflating: celeba_hq_256/28383.jpg  \n",
            "  inflating: celeba_hq_256/28384.jpg  \n",
            "  inflating: celeba_hq_256/28385.jpg  \n",
            "  inflating: celeba_hq_256/28386.jpg  \n",
            "  inflating: celeba_hq_256/28387.jpg  \n",
            "  inflating: celeba_hq_256/28388.jpg  \n",
            "  inflating: celeba_hq_256/28389.jpg  \n",
            "  inflating: celeba_hq_256/28390.jpg  \n",
            "  inflating: celeba_hq_256/28391.jpg  \n",
            "  inflating: celeba_hq_256/28392.jpg  \n",
            "  inflating: celeba_hq_256/28393.jpg  \n",
            "  inflating: celeba_hq_256/28394.jpg  \n",
            "  inflating: celeba_hq_256/28395.jpg  \n",
            "  inflating: celeba_hq_256/28396.jpg  \n",
            "  inflating: celeba_hq_256/28397.jpg  \n",
            "  inflating: celeba_hq_256/28398.jpg  \n",
            "  inflating: celeba_hq_256/28399.jpg  \n",
            "  inflating: celeba_hq_256/28400.jpg  \n",
            "  inflating: celeba_hq_256/28401.jpg  \n",
            "  inflating: celeba_hq_256/28402.jpg  \n",
            "  inflating: celeba_hq_256/28403.jpg  \n",
            "  inflating: celeba_hq_256/28404.jpg  \n",
            "  inflating: celeba_hq_256/28405.jpg  \n",
            "  inflating: celeba_hq_256/28406.jpg  \n",
            "  inflating: celeba_hq_256/28407.jpg  \n",
            "  inflating: celeba_hq_256/28408.jpg  \n",
            "  inflating: celeba_hq_256/28409.jpg  \n",
            "  inflating: celeba_hq_256/28410.jpg  \n",
            "  inflating: celeba_hq_256/28411.jpg  \n",
            "  inflating: celeba_hq_256/28412.jpg  \n",
            "  inflating: celeba_hq_256/28413.jpg  \n",
            "  inflating: celeba_hq_256/28414.jpg  \n",
            "  inflating: celeba_hq_256/28415.jpg  \n",
            "  inflating: celeba_hq_256/28416.jpg  \n",
            "  inflating: celeba_hq_256/28417.jpg  \n",
            "  inflating: celeba_hq_256/28418.jpg  \n",
            "  inflating: celeba_hq_256/28419.jpg  \n",
            "  inflating: celeba_hq_256/28420.jpg  \n",
            "  inflating: celeba_hq_256/28421.jpg  \n",
            "  inflating: celeba_hq_256/28422.jpg  \n",
            "  inflating: celeba_hq_256/28423.jpg  \n",
            "  inflating: celeba_hq_256/28424.jpg  \n",
            "  inflating: celeba_hq_256/28425.jpg  \n",
            "  inflating: celeba_hq_256/28426.jpg  \n",
            "  inflating: celeba_hq_256/28427.jpg  \n",
            "  inflating: celeba_hq_256/28428.jpg  \n",
            "  inflating: celeba_hq_256/28429.jpg  \n",
            "  inflating: celeba_hq_256/28430.jpg  \n",
            "  inflating: celeba_hq_256/28431.jpg  \n",
            "  inflating: celeba_hq_256/28432.jpg  \n",
            "  inflating: celeba_hq_256/28433.jpg  \n",
            "  inflating: celeba_hq_256/28434.jpg  \n",
            "  inflating: celeba_hq_256/28435.jpg  \n",
            "  inflating: celeba_hq_256/28436.jpg  \n",
            "  inflating: celeba_hq_256/28437.jpg  \n",
            "  inflating: celeba_hq_256/28438.jpg  \n",
            "  inflating: celeba_hq_256/28439.jpg  \n",
            "  inflating: celeba_hq_256/28440.jpg  \n",
            "  inflating: celeba_hq_256/28441.jpg  \n",
            "  inflating: celeba_hq_256/28442.jpg  \n",
            "  inflating: celeba_hq_256/28443.jpg  \n",
            "  inflating: celeba_hq_256/28444.jpg  \n",
            "  inflating: celeba_hq_256/28445.jpg  \n",
            "  inflating: celeba_hq_256/28446.jpg  \n",
            "  inflating: celeba_hq_256/28447.jpg  \n",
            "  inflating: celeba_hq_256/28448.jpg  \n",
            "  inflating: celeba_hq_256/28449.jpg  \n",
            "  inflating: celeba_hq_256/28450.jpg  \n",
            "  inflating: celeba_hq_256/28451.jpg  \n",
            "  inflating: celeba_hq_256/28452.jpg  \n",
            "  inflating: celeba_hq_256/28453.jpg  \n",
            "  inflating: celeba_hq_256/28454.jpg  \n",
            "  inflating: celeba_hq_256/28455.jpg  \n",
            "  inflating: celeba_hq_256/28456.jpg  \n",
            "  inflating: celeba_hq_256/28457.jpg  \n",
            "  inflating: celeba_hq_256/28458.jpg  \n",
            "  inflating: celeba_hq_256/28459.jpg  \n",
            "  inflating: celeba_hq_256/28460.jpg  \n",
            "  inflating: celeba_hq_256/28461.jpg  \n",
            "  inflating: celeba_hq_256/28462.jpg  \n",
            "  inflating: celeba_hq_256/28463.jpg  \n",
            "  inflating: celeba_hq_256/28464.jpg  \n",
            "  inflating: celeba_hq_256/28465.jpg  \n",
            "  inflating: celeba_hq_256/28466.jpg  \n",
            "  inflating: celeba_hq_256/28467.jpg  \n",
            "  inflating: celeba_hq_256/28468.jpg  \n",
            "  inflating: celeba_hq_256/28469.jpg  \n",
            "  inflating: celeba_hq_256/28470.jpg  \n",
            "  inflating: celeba_hq_256/28471.jpg  \n",
            "  inflating: celeba_hq_256/28472.jpg  \n",
            "  inflating: celeba_hq_256/28473.jpg  \n",
            "  inflating: celeba_hq_256/28474.jpg  \n",
            "  inflating: celeba_hq_256/28475.jpg  \n",
            "  inflating: celeba_hq_256/28476.jpg  \n",
            "  inflating: celeba_hq_256/28477.jpg  \n",
            "  inflating: celeba_hq_256/28478.jpg  \n",
            "  inflating: celeba_hq_256/28479.jpg  \n",
            "  inflating: celeba_hq_256/28480.jpg  \n",
            "  inflating: celeba_hq_256/28481.jpg  \n",
            "  inflating: celeba_hq_256/28482.jpg  \n",
            "  inflating: celeba_hq_256/28483.jpg  \n",
            "  inflating: celeba_hq_256/28484.jpg  \n",
            "  inflating: celeba_hq_256/28485.jpg  \n",
            "  inflating: celeba_hq_256/28486.jpg  \n",
            "  inflating: celeba_hq_256/28487.jpg  \n",
            "  inflating: celeba_hq_256/28488.jpg  \n",
            "  inflating: celeba_hq_256/28489.jpg  \n",
            "  inflating: celeba_hq_256/28490.jpg  \n",
            "  inflating: celeba_hq_256/28491.jpg  \n",
            "  inflating: celeba_hq_256/28492.jpg  \n",
            "  inflating: celeba_hq_256/28493.jpg  \n",
            "  inflating: celeba_hq_256/28494.jpg  \n",
            "  inflating: celeba_hq_256/28495.jpg  \n",
            "  inflating: celeba_hq_256/28496.jpg  \n",
            "  inflating: celeba_hq_256/28497.jpg  \n",
            "  inflating: celeba_hq_256/28498.jpg  \n",
            "  inflating: celeba_hq_256/28499.jpg  \n",
            "  inflating: celeba_hq_256/28500.jpg  \n",
            "  inflating: celeba_hq_256/28501.jpg  \n",
            "  inflating: celeba_hq_256/28502.jpg  \n",
            "  inflating: celeba_hq_256/28503.jpg  \n",
            "  inflating: celeba_hq_256/28504.jpg  \n",
            "  inflating: celeba_hq_256/28505.jpg  \n",
            "  inflating: celeba_hq_256/28506.jpg  \n",
            "  inflating: celeba_hq_256/28507.jpg  \n",
            "  inflating: celeba_hq_256/28508.jpg  \n",
            "  inflating: celeba_hq_256/28509.jpg  \n",
            "  inflating: celeba_hq_256/28510.jpg  \n",
            "  inflating: celeba_hq_256/28511.jpg  \n",
            "  inflating: celeba_hq_256/28512.jpg  \n",
            "  inflating: celeba_hq_256/28513.jpg  \n",
            "  inflating: celeba_hq_256/28514.jpg  \n",
            "  inflating: celeba_hq_256/28515.jpg  \n",
            "  inflating: celeba_hq_256/28516.jpg  \n",
            "  inflating: celeba_hq_256/28517.jpg  \n",
            "  inflating: celeba_hq_256/28518.jpg  \n",
            "  inflating: celeba_hq_256/28519.jpg  \n",
            "  inflating: celeba_hq_256/28520.jpg  \n",
            "  inflating: celeba_hq_256/28521.jpg  \n",
            "  inflating: celeba_hq_256/28522.jpg  \n",
            "  inflating: celeba_hq_256/28523.jpg  \n",
            "  inflating: celeba_hq_256/28524.jpg  \n",
            "  inflating: celeba_hq_256/28525.jpg  \n",
            "  inflating: celeba_hq_256/28526.jpg  \n",
            "  inflating: celeba_hq_256/28527.jpg  \n",
            "  inflating: celeba_hq_256/28528.jpg  \n",
            "  inflating: celeba_hq_256/28529.jpg  \n",
            "  inflating: celeba_hq_256/28530.jpg  \n",
            "  inflating: celeba_hq_256/28531.jpg  \n",
            "  inflating: celeba_hq_256/28532.jpg  \n",
            "  inflating: celeba_hq_256/28533.jpg  \n",
            "  inflating: celeba_hq_256/28534.jpg  \n",
            "  inflating: celeba_hq_256/28535.jpg  \n",
            "  inflating: celeba_hq_256/28536.jpg  \n",
            "  inflating: celeba_hq_256/28537.jpg  \n",
            "  inflating: celeba_hq_256/28538.jpg  \n",
            "  inflating: celeba_hq_256/28539.jpg  \n",
            "  inflating: celeba_hq_256/28540.jpg  \n",
            "  inflating: celeba_hq_256/28541.jpg  \n",
            "  inflating: celeba_hq_256/28542.jpg  \n",
            "  inflating: celeba_hq_256/28543.jpg  \n",
            "  inflating: celeba_hq_256/28544.jpg  \n",
            "  inflating: celeba_hq_256/28545.jpg  \n",
            "  inflating: celeba_hq_256/28546.jpg  \n",
            "  inflating: celeba_hq_256/28547.jpg  \n",
            "  inflating: celeba_hq_256/28548.jpg  \n",
            "  inflating: celeba_hq_256/28549.jpg  \n",
            "  inflating: celeba_hq_256/28550.jpg  \n",
            "  inflating: celeba_hq_256/28551.jpg  \n",
            "  inflating: celeba_hq_256/28552.jpg  \n",
            "  inflating: celeba_hq_256/28553.jpg  \n",
            "  inflating: celeba_hq_256/28554.jpg  \n",
            "  inflating: celeba_hq_256/28555.jpg  \n",
            "  inflating: celeba_hq_256/28556.jpg  \n",
            "  inflating: celeba_hq_256/28557.jpg  \n",
            "  inflating: celeba_hq_256/28558.jpg  \n",
            "  inflating: celeba_hq_256/28559.jpg  \n",
            "  inflating: celeba_hq_256/28560.jpg  \n",
            "  inflating: celeba_hq_256/28561.jpg  \n",
            "  inflating: celeba_hq_256/28562.jpg  \n",
            "  inflating: celeba_hq_256/28563.jpg  \n",
            "  inflating: celeba_hq_256/28564.jpg  \n",
            "  inflating: celeba_hq_256/28565.jpg  \n",
            "  inflating: celeba_hq_256/28566.jpg  \n",
            "  inflating: celeba_hq_256/28567.jpg  \n",
            "  inflating: celeba_hq_256/28568.jpg  \n",
            "  inflating: celeba_hq_256/28569.jpg  \n",
            "  inflating: celeba_hq_256/28570.jpg  \n",
            "  inflating: celeba_hq_256/28571.jpg  \n",
            "  inflating: celeba_hq_256/28572.jpg  \n",
            "  inflating: celeba_hq_256/28573.jpg  \n",
            "  inflating: celeba_hq_256/28574.jpg  \n",
            "  inflating: celeba_hq_256/28575.jpg  \n",
            "  inflating: celeba_hq_256/28576.jpg  \n",
            "  inflating: celeba_hq_256/28577.jpg  \n",
            "  inflating: celeba_hq_256/28578.jpg  \n",
            "  inflating: celeba_hq_256/28579.jpg  \n",
            "  inflating: celeba_hq_256/28580.jpg  \n",
            "  inflating: celeba_hq_256/28581.jpg  \n",
            "  inflating: celeba_hq_256/28582.jpg  \n",
            "  inflating: celeba_hq_256/28583.jpg  \n",
            "  inflating: celeba_hq_256/28584.jpg  \n",
            "  inflating: celeba_hq_256/28585.jpg  \n",
            "  inflating: celeba_hq_256/28586.jpg  \n",
            "  inflating: celeba_hq_256/28587.jpg  \n",
            "  inflating: celeba_hq_256/28588.jpg  \n",
            "  inflating: celeba_hq_256/28589.jpg  \n",
            "  inflating: celeba_hq_256/28590.jpg  \n",
            "  inflating: celeba_hq_256/28591.jpg  \n",
            "  inflating: celeba_hq_256/28592.jpg  \n",
            "  inflating: celeba_hq_256/28593.jpg  \n",
            "  inflating: celeba_hq_256/28594.jpg  \n",
            "  inflating: celeba_hq_256/28595.jpg  \n",
            "  inflating: celeba_hq_256/28596.jpg  \n",
            "  inflating: celeba_hq_256/28597.jpg  \n",
            "  inflating: celeba_hq_256/28598.jpg  \n",
            "  inflating: celeba_hq_256/28599.jpg  \n",
            "  inflating: celeba_hq_256/28600.jpg  \n",
            "  inflating: celeba_hq_256/28601.jpg  \n",
            "  inflating: celeba_hq_256/28602.jpg  \n",
            "  inflating: celeba_hq_256/28603.jpg  \n",
            "  inflating: celeba_hq_256/28604.jpg  \n",
            "  inflating: celeba_hq_256/28605.jpg  \n",
            "  inflating: celeba_hq_256/28606.jpg  \n",
            "  inflating: celeba_hq_256/28607.jpg  \n",
            "  inflating: celeba_hq_256/28608.jpg  \n",
            "  inflating: celeba_hq_256/28609.jpg  \n",
            "  inflating: celeba_hq_256/28610.jpg  \n",
            "  inflating: celeba_hq_256/28611.jpg  \n",
            "  inflating: celeba_hq_256/28612.jpg  \n",
            "  inflating: celeba_hq_256/28613.jpg  \n",
            "  inflating: celeba_hq_256/28614.jpg  \n",
            "  inflating: celeba_hq_256/28615.jpg  \n",
            "  inflating: celeba_hq_256/28616.jpg  \n",
            "  inflating: celeba_hq_256/28617.jpg  \n",
            "  inflating: celeba_hq_256/28618.jpg  \n",
            "  inflating: celeba_hq_256/28619.jpg  \n",
            "  inflating: celeba_hq_256/28620.jpg  \n",
            "  inflating: celeba_hq_256/28621.jpg  \n",
            "  inflating: celeba_hq_256/28622.jpg  \n",
            "  inflating: celeba_hq_256/28623.jpg  \n",
            "  inflating: celeba_hq_256/28624.jpg  \n",
            "  inflating: celeba_hq_256/28625.jpg  \n",
            "  inflating: celeba_hq_256/28626.jpg  \n",
            "  inflating: celeba_hq_256/28627.jpg  \n",
            "  inflating: celeba_hq_256/28628.jpg  \n",
            "  inflating: celeba_hq_256/28629.jpg  \n",
            "  inflating: celeba_hq_256/28630.jpg  \n",
            "  inflating: celeba_hq_256/28631.jpg  \n",
            "  inflating: celeba_hq_256/28632.jpg  \n",
            "  inflating: celeba_hq_256/28633.jpg  \n",
            "  inflating: celeba_hq_256/28634.jpg  \n",
            "  inflating: celeba_hq_256/28635.jpg  \n",
            "  inflating: celeba_hq_256/28636.jpg  \n",
            "  inflating: celeba_hq_256/28637.jpg  \n",
            "  inflating: celeba_hq_256/28638.jpg  \n",
            "  inflating: celeba_hq_256/28639.jpg  \n",
            "  inflating: celeba_hq_256/28640.jpg  \n",
            "  inflating: celeba_hq_256/28641.jpg  \n",
            "  inflating: celeba_hq_256/28642.jpg  \n",
            "  inflating: celeba_hq_256/28643.jpg  \n",
            "  inflating: celeba_hq_256/28644.jpg  \n",
            "  inflating: celeba_hq_256/28645.jpg  \n",
            "  inflating: celeba_hq_256/28646.jpg  \n",
            "  inflating: celeba_hq_256/28647.jpg  \n",
            "  inflating: celeba_hq_256/28648.jpg  \n",
            "  inflating: celeba_hq_256/28649.jpg  \n",
            "  inflating: celeba_hq_256/28650.jpg  \n",
            "  inflating: celeba_hq_256/28651.jpg  \n",
            "  inflating: celeba_hq_256/28652.jpg  \n",
            "  inflating: celeba_hq_256/28653.jpg  \n",
            "  inflating: celeba_hq_256/28654.jpg  \n",
            "  inflating: celeba_hq_256/28655.jpg  \n",
            "  inflating: celeba_hq_256/28656.jpg  \n",
            "  inflating: celeba_hq_256/28657.jpg  \n",
            "  inflating: celeba_hq_256/28658.jpg  \n",
            "  inflating: celeba_hq_256/28659.jpg  \n",
            "  inflating: celeba_hq_256/28660.jpg  \n",
            "  inflating: celeba_hq_256/28661.jpg  \n",
            "  inflating: celeba_hq_256/28662.jpg  \n",
            "  inflating: celeba_hq_256/28663.jpg  \n",
            "  inflating: celeba_hq_256/28664.jpg  \n",
            "  inflating: celeba_hq_256/28665.jpg  \n",
            "  inflating: celeba_hq_256/28666.jpg  \n",
            "  inflating: celeba_hq_256/28667.jpg  \n",
            "  inflating: celeba_hq_256/28668.jpg  \n",
            "  inflating: celeba_hq_256/28669.jpg  \n",
            "  inflating: celeba_hq_256/28670.jpg  \n",
            "  inflating: celeba_hq_256/28671.jpg  \n",
            "  inflating: celeba_hq_256/28672.jpg  \n",
            "  inflating: celeba_hq_256/28673.jpg  \n",
            "  inflating: celeba_hq_256/28674.jpg  \n",
            "  inflating: celeba_hq_256/28675.jpg  \n",
            "  inflating: celeba_hq_256/28676.jpg  \n",
            "  inflating: celeba_hq_256/28677.jpg  \n",
            "  inflating: celeba_hq_256/28678.jpg  \n",
            "  inflating: celeba_hq_256/28679.jpg  \n",
            "  inflating: celeba_hq_256/28680.jpg  \n",
            "  inflating: celeba_hq_256/28681.jpg  \n",
            "  inflating: celeba_hq_256/28682.jpg  \n",
            "  inflating: celeba_hq_256/28683.jpg  \n",
            "  inflating: celeba_hq_256/28684.jpg  \n",
            "  inflating: celeba_hq_256/28685.jpg  \n",
            "  inflating: celeba_hq_256/28686.jpg  \n",
            "  inflating: celeba_hq_256/28687.jpg  \n",
            "  inflating: celeba_hq_256/28688.jpg  \n",
            "  inflating: celeba_hq_256/28689.jpg  \n",
            "  inflating: celeba_hq_256/28690.jpg  \n",
            "  inflating: celeba_hq_256/28691.jpg  \n",
            "  inflating: celeba_hq_256/28692.jpg  \n",
            "  inflating: celeba_hq_256/28693.jpg  \n",
            "  inflating: celeba_hq_256/28694.jpg  \n",
            "  inflating: celeba_hq_256/28695.jpg  \n",
            "  inflating: celeba_hq_256/28696.jpg  \n",
            "  inflating: celeba_hq_256/28697.jpg  \n",
            "  inflating: celeba_hq_256/28698.jpg  \n",
            "  inflating: celeba_hq_256/28699.jpg  \n",
            "  inflating: celeba_hq_256/28700.jpg  \n",
            "  inflating: celeba_hq_256/28701.jpg  \n",
            "  inflating: celeba_hq_256/28702.jpg  \n",
            "  inflating: celeba_hq_256/28703.jpg  \n",
            "  inflating: celeba_hq_256/28704.jpg  \n",
            "  inflating: celeba_hq_256/28705.jpg  \n",
            "  inflating: celeba_hq_256/28706.jpg  \n",
            "  inflating: celeba_hq_256/28707.jpg  \n",
            "  inflating: celeba_hq_256/28708.jpg  \n",
            "  inflating: celeba_hq_256/28709.jpg  \n",
            "  inflating: celeba_hq_256/28710.jpg  \n",
            "  inflating: celeba_hq_256/28711.jpg  \n",
            "  inflating: celeba_hq_256/28712.jpg  \n",
            "  inflating: celeba_hq_256/28713.jpg  \n",
            "  inflating: celeba_hq_256/28714.jpg  \n",
            "  inflating: celeba_hq_256/28715.jpg  \n",
            "  inflating: celeba_hq_256/28716.jpg  \n",
            "  inflating: celeba_hq_256/28717.jpg  \n",
            "  inflating: celeba_hq_256/28718.jpg  \n",
            "  inflating: celeba_hq_256/28719.jpg  \n",
            "  inflating: celeba_hq_256/28720.jpg  \n",
            "  inflating: celeba_hq_256/28721.jpg  \n",
            "  inflating: celeba_hq_256/28722.jpg  \n",
            "  inflating: celeba_hq_256/28723.jpg  \n",
            "  inflating: celeba_hq_256/28724.jpg  \n",
            "  inflating: celeba_hq_256/28725.jpg  \n",
            "  inflating: celeba_hq_256/28726.jpg  \n",
            "  inflating: celeba_hq_256/28727.jpg  \n",
            "  inflating: celeba_hq_256/28728.jpg  \n",
            "  inflating: celeba_hq_256/28729.jpg  \n",
            "  inflating: celeba_hq_256/28730.jpg  \n",
            "  inflating: celeba_hq_256/28731.jpg  \n",
            "  inflating: celeba_hq_256/28732.jpg  \n",
            "  inflating: celeba_hq_256/28733.jpg  \n",
            "  inflating: celeba_hq_256/28734.jpg  \n",
            "  inflating: celeba_hq_256/28735.jpg  \n",
            "  inflating: celeba_hq_256/28736.jpg  \n",
            "  inflating: celeba_hq_256/28737.jpg  \n",
            "  inflating: celeba_hq_256/28738.jpg  \n",
            "  inflating: celeba_hq_256/28739.jpg  \n",
            "  inflating: celeba_hq_256/28740.jpg  \n",
            "  inflating: celeba_hq_256/28741.jpg  \n",
            "  inflating: celeba_hq_256/28742.jpg  \n",
            "  inflating: celeba_hq_256/28743.jpg  \n",
            "  inflating: celeba_hq_256/28744.jpg  \n",
            "  inflating: celeba_hq_256/28745.jpg  \n",
            "  inflating: celeba_hq_256/28746.jpg  \n",
            "  inflating: celeba_hq_256/28747.jpg  \n",
            "  inflating: celeba_hq_256/28748.jpg  \n",
            "  inflating: celeba_hq_256/28749.jpg  \n",
            "  inflating: celeba_hq_256/28750.jpg  \n",
            "  inflating: celeba_hq_256/28751.jpg  \n",
            "  inflating: celeba_hq_256/28752.jpg  \n",
            "  inflating: celeba_hq_256/28753.jpg  \n",
            "  inflating: celeba_hq_256/28754.jpg  \n",
            "  inflating: celeba_hq_256/28755.jpg  \n",
            "  inflating: celeba_hq_256/28756.jpg  \n",
            "  inflating: celeba_hq_256/28757.jpg  \n",
            "  inflating: celeba_hq_256/28758.jpg  \n",
            "  inflating: celeba_hq_256/28759.jpg  \n",
            "  inflating: celeba_hq_256/28760.jpg  \n",
            "  inflating: celeba_hq_256/28761.jpg  \n",
            "  inflating: celeba_hq_256/28762.jpg  \n",
            "  inflating: celeba_hq_256/28763.jpg  \n",
            "  inflating: celeba_hq_256/28764.jpg  \n",
            "  inflating: celeba_hq_256/28765.jpg  \n",
            "  inflating: celeba_hq_256/28766.jpg  \n",
            "  inflating: celeba_hq_256/28767.jpg  \n",
            "  inflating: celeba_hq_256/28768.jpg  \n",
            "  inflating: celeba_hq_256/28769.jpg  \n",
            "  inflating: celeba_hq_256/28770.jpg  \n",
            "  inflating: celeba_hq_256/28771.jpg  \n",
            "  inflating: celeba_hq_256/28772.jpg  \n",
            "  inflating: celeba_hq_256/28773.jpg  \n",
            "  inflating: celeba_hq_256/28774.jpg  \n",
            "  inflating: celeba_hq_256/28775.jpg  \n",
            "  inflating: celeba_hq_256/28776.jpg  \n",
            "  inflating: celeba_hq_256/28777.jpg  \n",
            "  inflating: celeba_hq_256/28778.jpg  \n",
            "  inflating: celeba_hq_256/28779.jpg  \n",
            "  inflating: celeba_hq_256/28780.jpg  \n",
            "  inflating: celeba_hq_256/28781.jpg  \n",
            "  inflating: celeba_hq_256/28782.jpg  \n",
            "  inflating: celeba_hq_256/28783.jpg  \n",
            "  inflating: celeba_hq_256/28784.jpg  \n",
            "  inflating: celeba_hq_256/28785.jpg  \n",
            "  inflating: celeba_hq_256/28786.jpg  \n",
            "  inflating: celeba_hq_256/28787.jpg  \n",
            "  inflating: celeba_hq_256/28788.jpg  \n",
            "  inflating: celeba_hq_256/28789.jpg  \n",
            "  inflating: celeba_hq_256/28790.jpg  \n",
            "  inflating: celeba_hq_256/28791.jpg  \n",
            "  inflating: celeba_hq_256/28792.jpg  \n",
            "  inflating: celeba_hq_256/28793.jpg  \n",
            "  inflating: celeba_hq_256/28794.jpg  \n",
            "  inflating: celeba_hq_256/28795.jpg  \n",
            "  inflating: celeba_hq_256/28796.jpg  \n",
            "  inflating: celeba_hq_256/28797.jpg  \n",
            "  inflating: celeba_hq_256/28798.jpg  \n",
            "  inflating: celeba_hq_256/28799.jpg  \n",
            "  inflating: celeba_hq_256/28800.jpg  \n",
            "  inflating: celeba_hq_256/28801.jpg  \n",
            "  inflating: celeba_hq_256/28802.jpg  \n",
            "  inflating: celeba_hq_256/28803.jpg  \n",
            "  inflating: celeba_hq_256/28804.jpg  \n",
            "  inflating: celeba_hq_256/28805.jpg  \n",
            "  inflating: celeba_hq_256/28806.jpg  \n",
            "  inflating: celeba_hq_256/28807.jpg  \n",
            "  inflating: celeba_hq_256/28808.jpg  \n",
            "  inflating: celeba_hq_256/28809.jpg  \n",
            "  inflating: celeba_hq_256/28810.jpg  \n",
            "  inflating: celeba_hq_256/28811.jpg  \n",
            "  inflating: celeba_hq_256/28812.jpg  \n",
            "  inflating: celeba_hq_256/28813.jpg  \n",
            "  inflating: celeba_hq_256/28814.jpg  \n",
            "  inflating: celeba_hq_256/28815.jpg  \n",
            "  inflating: celeba_hq_256/28816.jpg  \n",
            "  inflating: celeba_hq_256/28817.jpg  \n",
            "  inflating: celeba_hq_256/28818.jpg  \n",
            "  inflating: celeba_hq_256/28819.jpg  \n",
            "  inflating: celeba_hq_256/28820.jpg  \n",
            "  inflating: celeba_hq_256/28821.jpg  \n",
            "  inflating: celeba_hq_256/28822.jpg  \n",
            "  inflating: celeba_hq_256/28823.jpg  \n",
            "  inflating: celeba_hq_256/28824.jpg  \n",
            "  inflating: celeba_hq_256/28825.jpg  \n",
            "  inflating: celeba_hq_256/28826.jpg  \n",
            "  inflating: celeba_hq_256/28827.jpg  \n",
            "  inflating: celeba_hq_256/28828.jpg  \n",
            "  inflating: celeba_hq_256/28829.jpg  \n",
            "  inflating: celeba_hq_256/28830.jpg  \n",
            "  inflating: celeba_hq_256/28831.jpg  \n",
            "  inflating: celeba_hq_256/28832.jpg  \n",
            "  inflating: celeba_hq_256/28833.jpg  \n",
            "  inflating: celeba_hq_256/28834.jpg  \n",
            "  inflating: celeba_hq_256/28835.jpg  \n",
            "  inflating: celeba_hq_256/28836.jpg  \n",
            "  inflating: celeba_hq_256/28837.jpg  \n",
            "  inflating: celeba_hq_256/28838.jpg  \n",
            "  inflating: celeba_hq_256/28839.jpg  \n",
            "  inflating: celeba_hq_256/28840.jpg  \n",
            "  inflating: celeba_hq_256/28841.jpg  \n",
            "  inflating: celeba_hq_256/28842.jpg  \n",
            "  inflating: celeba_hq_256/28843.jpg  \n",
            "  inflating: celeba_hq_256/28844.jpg  \n",
            "  inflating: celeba_hq_256/28845.jpg  \n",
            "  inflating: celeba_hq_256/28846.jpg  \n",
            "  inflating: celeba_hq_256/28847.jpg  \n",
            "  inflating: celeba_hq_256/28848.jpg  \n",
            "  inflating: celeba_hq_256/28849.jpg  \n",
            "  inflating: celeba_hq_256/28850.jpg  \n",
            "  inflating: celeba_hq_256/28851.jpg  \n",
            "  inflating: celeba_hq_256/28852.jpg  \n",
            "  inflating: celeba_hq_256/28853.jpg  \n",
            "  inflating: celeba_hq_256/28854.jpg  \n",
            "  inflating: celeba_hq_256/28855.jpg  \n",
            "  inflating: celeba_hq_256/28856.jpg  \n",
            "  inflating: celeba_hq_256/28857.jpg  \n",
            "  inflating: celeba_hq_256/28858.jpg  \n",
            "  inflating: celeba_hq_256/28859.jpg  \n",
            "  inflating: celeba_hq_256/28860.jpg  \n",
            "  inflating: celeba_hq_256/28861.jpg  \n",
            "  inflating: celeba_hq_256/28862.jpg  \n",
            "  inflating: celeba_hq_256/28863.jpg  \n",
            "  inflating: celeba_hq_256/28864.jpg  \n",
            "  inflating: celeba_hq_256/28865.jpg  \n",
            "  inflating: celeba_hq_256/28866.jpg  \n",
            "  inflating: celeba_hq_256/28867.jpg  \n",
            "  inflating: celeba_hq_256/28868.jpg  \n",
            "  inflating: celeba_hq_256/28869.jpg  \n",
            "  inflating: celeba_hq_256/28870.jpg  \n",
            "  inflating: celeba_hq_256/28871.jpg  \n",
            "  inflating: celeba_hq_256/28872.jpg  \n",
            "  inflating: celeba_hq_256/28873.jpg  \n",
            "  inflating: celeba_hq_256/28874.jpg  \n",
            "  inflating: celeba_hq_256/28875.jpg  \n",
            "  inflating: celeba_hq_256/28876.jpg  \n",
            "  inflating: celeba_hq_256/28877.jpg  \n",
            "  inflating: celeba_hq_256/28878.jpg  \n",
            "  inflating: celeba_hq_256/28879.jpg  \n",
            "  inflating: celeba_hq_256/28880.jpg  \n",
            "  inflating: celeba_hq_256/28881.jpg  \n",
            "  inflating: celeba_hq_256/28882.jpg  \n",
            "  inflating: celeba_hq_256/28883.jpg  \n",
            "  inflating: celeba_hq_256/28884.jpg  \n",
            "  inflating: celeba_hq_256/28885.jpg  \n",
            "  inflating: celeba_hq_256/28886.jpg  \n",
            "  inflating: celeba_hq_256/28887.jpg  \n",
            "  inflating: celeba_hq_256/28888.jpg  \n",
            "  inflating: celeba_hq_256/28889.jpg  \n",
            "  inflating: celeba_hq_256/28890.jpg  \n",
            "  inflating: celeba_hq_256/28891.jpg  \n",
            "  inflating: celeba_hq_256/28892.jpg  \n",
            "  inflating: celeba_hq_256/28893.jpg  \n",
            "  inflating: celeba_hq_256/28894.jpg  \n",
            "  inflating: celeba_hq_256/28895.jpg  \n",
            "  inflating: celeba_hq_256/28896.jpg  \n",
            "  inflating: celeba_hq_256/28897.jpg  \n",
            "  inflating: celeba_hq_256/28898.jpg  \n",
            "  inflating: celeba_hq_256/28899.jpg  \n",
            "  inflating: celeba_hq_256/28900.jpg  \n",
            "  inflating: celeba_hq_256/28901.jpg  \n",
            "  inflating: celeba_hq_256/28902.jpg  \n",
            "  inflating: celeba_hq_256/28903.jpg  \n",
            "  inflating: celeba_hq_256/28904.jpg  \n",
            "  inflating: celeba_hq_256/28905.jpg  \n",
            "  inflating: celeba_hq_256/28906.jpg  \n",
            "  inflating: celeba_hq_256/28907.jpg  \n",
            "  inflating: celeba_hq_256/28908.jpg  \n",
            "  inflating: celeba_hq_256/28909.jpg  \n",
            "  inflating: celeba_hq_256/28910.jpg  \n",
            "  inflating: celeba_hq_256/28911.jpg  \n",
            "  inflating: celeba_hq_256/28912.jpg  \n",
            "  inflating: celeba_hq_256/28913.jpg  \n",
            "  inflating: celeba_hq_256/28914.jpg  \n",
            "  inflating: celeba_hq_256/28915.jpg  \n",
            "  inflating: celeba_hq_256/28916.jpg  \n",
            "  inflating: celeba_hq_256/28917.jpg  \n",
            "  inflating: celeba_hq_256/28918.jpg  \n",
            "  inflating: celeba_hq_256/28919.jpg  \n",
            "  inflating: celeba_hq_256/28920.jpg  \n",
            "  inflating: celeba_hq_256/28921.jpg  \n",
            "  inflating: celeba_hq_256/28922.jpg  \n",
            "  inflating: celeba_hq_256/28923.jpg  \n",
            "  inflating: celeba_hq_256/28924.jpg  \n",
            "  inflating: celeba_hq_256/28925.jpg  \n",
            "  inflating: celeba_hq_256/28926.jpg  \n",
            "  inflating: celeba_hq_256/28927.jpg  \n",
            "  inflating: celeba_hq_256/28928.jpg  \n",
            "  inflating: celeba_hq_256/28929.jpg  \n",
            "  inflating: celeba_hq_256/28930.jpg  \n",
            "  inflating: celeba_hq_256/28931.jpg  \n",
            "  inflating: celeba_hq_256/28932.jpg  \n",
            "  inflating: celeba_hq_256/28933.jpg  \n",
            "  inflating: celeba_hq_256/28934.jpg  \n",
            "  inflating: celeba_hq_256/28935.jpg  \n",
            "  inflating: celeba_hq_256/28936.jpg  \n",
            "  inflating: celeba_hq_256/28937.jpg  \n",
            "  inflating: celeba_hq_256/28938.jpg  \n",
            "  inflating: celeba_hq_256/28939.jpg  \n",
            "  inflating: celeba_hq_256/28940.jpg  \n",
            "  inflating: celeba_hq_256/28941.jpg  \n",
            "  inflating: celeba_hq_256/28942.jpg  \n",
            "  inflating: celeba_hq_256/28943.jpg  \n",
            "  inflating: celeba_hq_256/28944.jpg  \n",
            "  inflating: celeba_hq_256/28945.jpg  \n",
            "  inflating: celeba_hq_256/28946.jpg  \n",
            "  inflating: celeba_hq_256/28947.jpg  \n",
            "  inflating: celeba_hq_256/28948.jpg  \n",
            "  inflating: celeba_hq_256/28949.jpg  \n",
            "  inflating: celeba_hq_256/28950.jpg  \n",
            "  inflating: celeba_hq_256/28951.jpg  \n",
            "  inflating: celeba_hq_256/28952.jpg  \n",
            "  inflating: celeba_hq_256/28953.jpg  \n",
            "  inflating: celeba_hq_256/28954.jpg  \n",
            "  inflating: celeba_hq_256/28955.jpg  \n",
            "  inflating: celeba_hq_256/28956.jpg  \n",
            "  inflating: celeba_hq_256/28957.jpg  \n",
            "  inflating: celeba_hq_256/28958.jpg  \n",
            "  inflating: celeba_hq_256/28959.jpg  \n",
            "  inflating: celeba_hq_256/28960.jpg  \n",
            "  inflating: celeba_hq_256/28961.jpg  \n",
            "  inflating: celeba_hq_256/28962.jpg  \n",
            "  inflating: celeba_hq_256/28963.jpg  \n",
            "  inflating: celeba_hq_256/28964.jpg  \n",
            "  inflating: celeba_hq_256/28965.jpg  \n",
            "  inflating: celeba_hq_256/28966.jpg  \n",
            "  inflating: celeba_hq_256/28967.jpg  \n",
            "  inflating: celeba_hq_256/28968.jpg  \n",
            "  inflating: celeba_hq_256/28969.jpg  \n",
            "  inflating: celeba_hq_256/28970.jpg  \n",
            "  inflating: celeba_hq_256/28971.jpg  \n",
            "  inflating: celeba_hq_256/28972.jpg  \n",
            "  inflating: celeba_hq_256/28973.jpg  \n",
            "  inflating: celeba_hq_256/28974.jpg  \n",
            "  inflating: celeba_hq_256/28975.jpg  \n",
            "  inflating: celeba_hq_256/28976.jpg  \n",
            "  inflating: celeba_hq_256/28977.jpg  \n",
            "  inflating: celeba_hq_256/28978.jpg  \n",
            "  inflating: celeba_hq_256/28979.jpg  \n",
            "  inflating: celeba_hq_256/28980.jpg  \n",
            "  inflating: celeba_hq_256/28981.jpg  \n",
            "  inflating: celeba_hq_256/28982.jpg  \n",
            "  inflating: celeba_hq_256/28983.jpg  \n",
            "  inflating: celeba_hq_256/28984.jpg  \n",
            "  inflating: celeba_hq_256/28985.jpg  \n",
            "  inflating: celeba_hq_256/28986.jpg  \n",
            "  inflating: celeba_hq_256/28987.jpg  \n",
            "  inflating: celeba_hq_256/28988.jpg  \n",
            "  inflating: celeba_hq_256/28989.jpg  \n",
            "  inflating: celeba_hq_256/28990.jpg  \n",
            "  inflating: celeba_hq_256/28991.jpg  \n",
            "  inflating: celeba_hq_256/28992.jpg  \n",
            "  inflating: celeba_hq_256/28993.jpg  \n",
            "  inflating: celeba_hq_256/28994.jpg  \n",
            "  inflating: celeba_hq_256/28995.jpg  \n",
            "  inflating: celeba_hq_256/28996.jpg  \n",
            "  inflating: celeba_hq_256/28997.jpg  \n",
            "  inflating: celeba_hq_256/28998.jpg  \n",
            "  inflating: celeba_hq_256/28999.jpg  \n",
            "  inflating: celeba_hq_256/29000.jpg  \n",
            "  inflating: celeba_hq_256/29001.jpg  \n",
            "  inflating: celeba_hq_256/29002.jpg  \n",
            "  inflating: celeba_hq_256/29003.jpg  \n",
            "  inflating: celeba_hq_256/29004.jpg  \n",
            "  inflating: celeba_hq_256/29005.jpg  \n",
            "  inflating: celeba_hq_256/29006.jpg  \n",
            "  inflating: celeba_hq_256/29007.jpg  \n",
            "  inflating: celeba_hq_256/29008.jpg  \n",
            "  inflating: celeba_hq_256/29009.jpg  \n",
            "  inflating: celeba_hq_256/29010.jpg  \n",
            "  inflating: celeba_hq_256/29011.jpg  \n",
            "  inflating: celeba_hq_256/29012.jpg  \n",
            "  inflating: celeba_hq_256/29013.jpg  \n",
            "  inflating: celeba_hq_256/29014.jpg  \n",
            "  inflating: celeba_hq_256/29015.jpg  \n",
            "  inflating: celeba_hq_256/29016.jpg  \n",
            "  inflating: celeba_hq_256/29017.jpg  \n",
            "  inflating: celeba_hq_256/29018.jpg  \n",
            "  inflating: celeba_hq_256/29019.jpg  \n",
            "  inflating: celeba_hq_256/29020.jpg  \n",
            "  inflating: celeba_hq_256/29021.jpg  \n",
            "  inflating: celeba_hq_256/29022.jpg  \n",
            "  inflating: celeba_hq_256/29023.jpg  \n",
            "  inflating: celeba_hq_256/29024.jpg  \n",
            "  inflating: celeba_hq_256/29025.jpg  \n",
            "  inflating: celeba_hq_256/29026.jpg  \n",
            "  inflating: celeba_hq_256/29027.jpg  \n",
            "  inflating: celeba_hq_256/29028.jpg  \n",
            "  inflating: celeba_hq_256/29029.jpg  \n",
            "  inflating: celeba_hq_256/29030.jpg  \n",
            "  inflating: celeba_hq_256/29031.jpg  \n",
            "  inflating: celeba_hq_256/29032.jpg  \n",
            "  inflating: celeba_hq_256/29033.jpg  \n",
            "  inflating: celeba_hq_256/29034.jpg  \n",
            "  inflating: celeba_hq_256/29035.jpg  \n",
            "  inflating: celeba_hq_256/29036.jpg  \n",
            "  inflating: celeba_hq_256/29037.jpg  \n",
            "  inflating: celeba_hq_256/29038.jpg  \n",
            "  inflating: celeba_hq_256/29039.jpg  \n",
            "  inflating: celeba_hq_256/29040.jpg  \n",
            "  inflating: celeba_hq_256/29041.jpg  \n",
            "  inflating: celeba_hq_256/29042.jpg  \n",
            "  inflating: celeba_hq_256/29043.jpg  \n",
            "  inflating: celeba_hq_256/29044.jpg  \n",
            "  inflating: celeba_hq_256/29045.jpg  \n",
            "  inflating: celeba_hq_256/29046.jpg  \n",
            "  inflating: celeba_hq_256/29047.jpg  \n",
            "  inflating: celeba_hq_256/29048.jpg  \n",
            "  inflating: celeba_hq_256/29049.jpg  \n",
            "  inflating: celeba_hq_256/29050.jpg  \n",
            "  inflating: celeba_hq_256/29051.jpg  \n",
            "  inflating: celeba_hq_256/29052.jpg  \n",
            "  inflating: celeba_hq_256/29053.jpg  \n",
            "  inflating: celeba_hq_256/29054.jpg  \n",
            "  inflating: celeba_hq_256/29055.jpg  \n",
            "  inflating: celeba_hq_256/29056.jpg  \n",
            "  inflating: celeba_hq_256/29057.jpg  \n",
            "  inflating: celeba_hq_256/29058.jpg  \n",
            "  inflating: celeba_hq_256/29059.jpg  \n",
            "  inflating: celeba_hq_256/29060.jpg  \n",
            "  inflating: celeba_hq_256/29061.jpg  \n",
            "  inflating: celeba_hq_256/29062.jpg  \n",
            "  inflating: celeba_hq_256/29063.jpg  \n",
            "  inflating: celeba_hq_256/29064.jpg  \n",
            "  inflating: celeba_hq_256/29065.jpg  \n",
            "  inflating: celeba_hq_256/29066.jpg  \n",
            "  inflating: celeba_hq_256/29067.jpg  \n",
            "  inflating: celeba_hq_256/29068.jpg  \n",
            "  inflating: celeba_hq_256/29069.jpg  \n",
            "  inflating: celeba_hq_256/29070.jpg  \n",
            "  inflating: celeba_hq_256/29071.jpg  \n",
            "  inflating: celeba_hq_256/29072.jpg  \n",
            "  inflating: celeba_hq_256/29073.jpg  \n",
            "  inflating: celeba_hq_256/29074.jpg  \n",
            "  inflating: celeba_hq_256/29075.jpg  \n",
            "  inflating: celeba_hq_256/29076.jpg  \n",
            "  inflating: celeba_hq_256/29077.jpg  \n",
            "  inflating: celeba_hq_256/29078.jpg  \n",
            "  inflating: celeba_hq_256/29079.jpg  \n",
            "  inflating: celeba_hq_256/29080.jpg  \n",
            "  inflating: celeba_hq_256/29081.jpg  \n",
            "  inflating: celeba_hq_256/29082.jpg  \n",
            "  inflating: celeba_hq_256/29083.jpg  \n",
            "  inflating: celeba_hq_256/29084.jpg  \n",
            "  inflating: celeba_hq_256/29085.jpg  \n",
            "  inflating: celeba_hq_256/29086.jpg  \n",
            "  inflating: celeba_hq_256/29087.jpg  \n",
            "  inflating: celeba_hq_256/29088.jpg  \n",
            "  inflating: celeba_hq_256/29089.jpg  \n",
            "  inflating: celeba_hq_256/29090.jpg  \n",
            "  inflating: celeba_hq_256/29091.jpg  \n",
            "  inflating: celeba_hq_256/29092.jpg  \n",
            "  inflating: celeba_hq_256/29093.jpg  \n",
            "  inflating: celeba_hq_256/29094.jpg  \n",
            "  inflating: celeba_hq_256/29095.jpg  \n",
            "  inflating: celeba_hq_256/29096.jpg  \n",
            "  inflating: celeba_hq_256/29097.jpg  \n",
            "  inflating: celeba_hq_256/29098.jpg  \n",
            "  inflating: celeba_hq_256/29099.jpg  \n",
            "  inflating: celeba_hq_256/29100.jpg  \n",
            "  inflating: celeba_hq_256/29101.jpg  \n",
            "  inflating: celeba_hq_256/29102.jpg  \n",
            "  inflating: celeba_hq_256/29103.jpg  \n",
            "  inflating: celeba_hq_256/29104.jpg  \n",
            "  inflating: celeba_hq_256/29105.jpg  \n",
            "  inflating: celeba_hq_256/29106.jpg  \n",
            "  inflating: celeba_hq_256/29107.jpg  \n",
            "  inflating: celeba_hq_256/29108.jpg  \n",
            "  inflating: celeba_hq_256/29109.jpg  \n",
            "  inflating: celeba_hq_256/29110.jpg  \n",
            "  inflating: celeba_hq_256/29111.jpg  \n",
            "  inflating: celeba_hq_256/29112.jpg  \n",
            "  inflating: celeba_hq_256/29113.jpg  \n",
            "  inflating: celeba_hq_256/29114.jpg  \n",
            "  inflating: celeba_hq_256/29115.jpg  \n",
            "  inflating: celeba_hq_256/29116.jpg  \n",
            "  inflating: celeba_hq_256/29117.jpg  \n",
            "  inflating: celeba_hq_256/29118.jpg  \n",
            "  inflating: celeba_hq_256/29119.jpg  \n",
            "  inflating: celeba_hq_256/29120.jpg  \n",
            "  inflating: celeba_hq_256/29121.jpg  \n",
            "  inflating: celeba_hq_256/29122.jpg  \n",
            "  inflating: celeba_hq_256/29123.jpg  \n",
            "  inflating: celeba_hq_256/29124.jpg  \n",
            "  inflating: celeba_hq_256/29125.jpg  \n",
            "  inflating: celeba_hq_256/29126.jpg  \n",
            "  inflating: celeba_hq_256/29127.jpg  \n",
            "  inflating: celeba_hq_256/29128.jpg  \n",
            "  inflating: celeba_hq_256/29129.jpg  \n",
            "  inflating: celeba_hq_256/29130.jpg  \n",
            "  inflating: celeba_hq_256/29131.jpg  \n",
            "  inflating: celeba_hq_256/29132.jpg  \n",
            "  inflating: celeba_hq_256/29133.jpg  \n",
            "  inflating: celeba_hq_256/29134.jpg  \n",
            "  inflating: celeba_hq_256/29135.jpg  \n",
            "  inflating: celeba_hq_256/29136.jpg  \n",
            "  inflating: celeba_hq_256/29137.jpg  \n",
            "  inflating: celeba_hq_256/29138.jpg  \n",
            "  inflating: celeba_hq_256/29139.jpg  \n",
            "  inflating: celeba_hq_256/29140.jpg  \n",
            "  inflating: celeba_hq_256/29141.jpg  \n",
            "  inflating: celeba_hq_256/29142.jpg  \n",
            "  inflating: celeba_hq_256/29143.jpg  \n",
            "  inflating: celeba_hq_256/29144.jpg  \n",
            "  inflating: celeba_hq_256/29145.jpg  \n",
            "  inflating: celeba_hq_256/29146.jpg  \n",
            "  inflating: celeba_hq_256/29147.jpg  \n",
            "  inflating: celeba_hq_256/29148.jpg  \n",
            "  inflating: celeba_hq_256/29149.jpg  \n",
            "  inflating: celeba_hq_256/29150.jpg  \n",
            "  inflating: celeba_hq_256/29151.jpg  \n",
            "  inflating: celeba_hq_256/29152.jpg  \n",
            "  inflating: celeba_hq_256/29153.jpg  \n",
            "  inflating: celeba_hq_256/29154.jpg  \n",
            "  inflating: celeba_hq_256/29155.jpg  \n",
            "  inflating: celeba_hq_256/29156.jpg  \n",
            "  inflating: celeba_hq_256/29157.jpg  \n",
            "  inflating: celeba_hq_256/29158.jpg  \n",
            "  inflating: celeba_hq_256/29159.jpg  \n",
            "  inflating: celeba_hq_256/29160.jpg  \n",
            "  inflating: celeba_hq_256/29161.jpg  \n",
            "  inflating: celeba_hq_256/29162.jpg  \n",
            "  inflating: celeba_hq_256/29163.jpg  \n",
            "  inflating: celeba_hq_256/29164.jpg  \n",
            "  inflating: celeba_hq_256/29165.jpg  \n",
            "  inflating: celeba_hq_256/29166.jpg  \n",
            "  inflating: celeba_hq_256/29167.jpg  \n",
            "  inflating: celeba_hq_256/29168.jpg  \n",
            "  inflating: celeba_hq_256/29169.jpg  \n",
            "  inflating: celeba_hq_256/29170.jpg  \n",
            "  inflating: celeba_hq_256/29171.jpg  \n",
            "  inflating: celeba_hq_256/29172.jpg  \n",
            "  inflating: celeba_hq_256/29173.jpg  \n",
            "  inflating: celeba_hq_256/29174.jpg  \n",
            "  inflating: celeba_hq_256/29175.jpg  \n",
            "  inflating: celeba_hq_256/29176.jpg  \n",
            "  inflating: celeba_hq_256/29177.jpg  \n",
            "  inflating: celeba_hq_256/29178.jpg  \n",
            "  inflating: celeba_hq_256/29179.jpg  \n",
            "  inflating: celeba_hq_256/29180.jpg  \n",
            "  inflating: celeba_hq_256/29181.jpg  \n",
            "  inflating: celeba_hq_256/29182.jpg  \n",
            "  inflating: celeba_hq_256/29183.jpg  \n",
            "  inflating: celeba_hq_256/29184.jpg  \n",
            "  inflating: celeba_hq_256/29185.jpg  \n",
            "  inflating: celeba_hq_256/29186.jpg  \n",
            "  inflating: celeba_hq_256/29187.jpg  \n",
            "  inflating: celeba_hq_256/29188.jpg  \n",
            "  inflating: celeba_hq_256/29189.jpg  \n",
            "  inflating: celeba_hq_256/29190.jpg  \n",
            "  inflating: celeba_hq_256/29191.jpg  \n",
            "  inflating: celeba_hq_256/29192.jpg  \n",
            "  inflating: celeba_hq_256/29193.jpg  \n",
            "  inflating: celeba_hq_256/29194.jpg  \n",
            "  inflating: celeba_hq_256/29195.jpg  \n",
            "  inflating: celeba_hq_256/29196.jpg  \n",
            "  inflating: celeba_hq_256/29197.jpg  \n",
            "  inflating: celeba_hq_256/29198.jpg  \n",
            "  inflating: celeba_hq_256/29199.jpg  \n",
            "  inflating: celeba_hq_256/29200.jpg  \n",
            "  inflating: celeba_hq_256/29201.jpg  \n",
            "  inflating: celeba_hq_256/29202.jpg  \n",
            "  inflating: celeba_hq_256/29203.jpg  \n",
            "  inflating: celeba_hq_256/29204.jpg  \n",
            "  inflating: celeba_hq_256/29205.jpg  \n",
            "  inflating: celeba_hq_256/29206.jpg  \n",
            "  inflating: celeba_hq_256/29207.jpg  \n",
            "  inflating: celeba_hq_256/29208.jpg  \n",
            "  inflating: celeba_hq_256/29209.jpg  \n",
            "  inflating: celeba_hq_256/29210.jpg  \n",
            "  inflating: celeba_hq_256/29211.jpg  \n",
            "  inflating: celeba_hq_256/29212.jpg  \n",
            "  inflating: celeba_hq_256/29213.jpg  \n",
            "  inflating: celeba_hq_256/29214.jpg  \n",
            "  inflating: celeba_hq_256/29215.jpg  \n",
            "  inflating: celeba_hq_256/29216.jpg  \n",
            "  inflating: celeba_hq_256/29217.jpg  \n",
            "  inflating: celeba_hq_256/29218.jpg  \n",
            "  inflating: celeba_hq_256/29219.jpg  \n",
            "  inflating: celeba_hq_256/29220.jpg  \n",
            "  inflating: celeba_hq_256/29221.jpg  \n",
            "  inflating: celeba_hq_256/29222.jpg  \n",
            "  inflating: celeba_hq_256/29223.jpg  \n",
            "  inflating: celeba_hq_256/29224.jpg  \n",
            "  inflating: celeba_hq_256/29225.jpg  \n",
            "  inflating: celeba_hq_256/29226.jpg  \n",
            "  inflating: celeba_hq_256/29227.jpg  \n",
            "  inflating: celeba_hq_256/29228.jpg  \n",
            "  inflating: celeba_hq_256/29229.jpg  \n",
            "  inflating: celeba_hq_256/29230.jpg  \n",
            "  inflating: celeba_hq_256/29231.jpg  \n",
            "  inflating: celeba_hq_256/29232.jpg  \n",
            "  inflating: celeba_hq_256/29233.jpg  \n",
            "  inflating: celeba_hq_256/29234.jpg  \n",
            "  inflating: celeba_hq_256/29235.jpg  \n",
            "  inflating: celeba_hq_256/29236.jpg  \n",
            "  inflating: celeba_hq_256/29237.jpg  \n",
            "  inflating: celeba_hq_256/29238.jpg  \n",
            "  inflating: celeba_hq_256/29239.jpg  \n",
            "  inflating: celeba_hq_256/29240.jpg  \n",
            "  inflating: celeba_hq_256/29241.jpg  \n",
            "  inflating: celeba_hq_256/29242.jpg  \n",
            "  inflating: celeba_hq_256/29243.jpg  \n",
            "  inflating: celeba_hq_256/29244.jpg  \n",
            "  inflating: celeba_hq_256/29245.jpg  \n",
            "  inflating: celeba_hq_256/29246.jpg  \n",
            "  inflating: celeba_hq_256/29247.jpg  \n",
            "  inflating: celeba_hq_256/29248.jpg  \n",
            "  inflating: celeba_hq_256/29249.jpg  \n",
            "  inflating: celeba_hq_256/29250.jpg  \n",
            "  inflating: celeba_hq_256/29251.jpg  \n",
            "  inflating: celeba_hq_256/29252.jpg  \n",
            "  inflating: celeba_hq_256/29253.jpg  \n",
            "  inflating: celeba_hq_256/29254.jpg  \n",
            "  inflating: celeba_hq_256/29255.jpg  \n",
            "  inflating: celeba_hq_256/29256.jpg  \n",
            "  inflating: celeba_hq_256/29257.jpg  \n",
            "  inflating: celeba_hq_256/29258.jpg  \n",
            "  inflating: celeba_hq_256/29259.jpg  \n",
            "  inflating: celeba_hq_256/29260.jpg  \n",
            "  inflating: celeba_hq_256/29261.jpg  \n",
            "  inflating: celeba_hq_256/29262.jpg  \n",
            "  inflating: celeba_hq_256/29263.jpg  \n",
            "  inflating: celeba_hq_256/29264.jpg  \n",
            "  inflating: celeba_hq_256/29265.jpg  \n",
            "  inflating: celeba_hq_256/29266.jpg  \n",
            "  inflating: celeba_hq_256/29267.jpg  \n",
            "  inflating: celeba_hq_256/29268.jpg  \n",
            "  inflating: celeba_hq_256/29269.jpg  \n",
            "  inflating: celeba_hq_256/29270.jpg  \n",
            "  inflating: celeba_hq_256/29271.jpg  \n",
            "  inflating: celeba_hq_256/29272.jpg  \n",
            "  inflating: celeba_hq_256/29273.jpg  \n",
            "  inflating: celeba_hq_256/29274.jpg  \n",
            "  inflating: celeba_hq_256/29275.jpg  \n",
            "  inflating: celeba_hq_256/29276.jpg  \n",
            "  inflating: celeba_hq_256/29277.jpg  \n",
            "  inflating: celeba_hq_256/29278.jpg  \n",
            "  inflating: celeba_hq_256/29279.jpg  \n",
            "  inflating: celeba_hq_256/29280.jpg  \n",
            "  inflating: celeba_hq_256/29281.jpg  \n",
            "  inflating: celeba_hq_256/29282.jpg  \n",
            "  inflating: celeba_hq_256/29283.jpg  \n",
            "  inflating: celeba_hq_256/29284.jpg  \n",
            "  inflating: celeba_hq_256/29285.jpg  \n",
            "  inflating: celeba_hq_256/29286.jpg  \n",
            "  inflating: celeba_hq_256/29287.jpg  \n",
            "  inflating: celeba_hq_256/29288.jpg  \n",
            "  inflating: celeba_hq_256/29289.jpg  \n",
            "  inflating: celeba_hq_256/29290.jpg  \n",
            "  inflating: celeba_hq_256/29291.jpg  \n",
            "  inflating: celeba_hq_256/29292.jpg  \n",
            "  inflating: celeba_hq_256/29293.jpg  \n",
            "  inflating: celeba_hq_256/29294.jpg  \n",
            "  inflating: celeba_hq_256/29295.jpg  \n",
            "  inflating: celeba_hq_256/29296.jpg  \n",
            "  inflating: celeba_hq_256/29297.jpg  \n",
            "  inflating: celeba_hq_256/29298.jpg  \n",
            "  inflating: celeba_hq_256/29299.jpg  \n",
            "  inflating: celeba_hq_256/29300.jpg  \n",
            "  inflating: celeba_hq_256/29301.jpg  \n",
            "  inflating: celeba_hq_256/29302.jpg  \n",
            "  inflating: celeba_hq_256/29303.jpg  \n",
            "  inflating: celeba_hq_256/29304.jpg  \n",
            "  inflating: celeba_hq_256/29305.jpg  \n",
            "  inflating: celeba_hq_256/29306.jpg  \n",
            "  inflating: celeba_hq_256/29307.jpg  \n",
            "  inflating: celeba_hq_256/29308.jpg  \n",
            "  inflating: celeba_hq_256/29309.jpg  \n",
            "  inflating: celeba_hq_256/29310.jpg  \n",
            "  inflating: celeba_hq_256/29311.jpg  \n",
            "  inflating: celeba_hq_256/29312.jpg  \n",
            "  inflating: celeba_hq_256/29313.jpg  \n",
            "  inflating: celeba_hq_256/29314.jpg  \n",
            "  inflating: celeba_hq_256/29315.jpg  \n",
            "  inflating: celeba_hq_256/29316.jpg  \n",
            "  inflating: celeba_hq_256/29317.jpg  \n",
            "  inflating: celeba_hq_256/29318.jpg  \n",
            "  inflating: celeba_hq_256/29319.jpg  \n",
            "  inflating: celeba_hq_256/29320.jpg  \n",
            "  inflating: celeba_hq_256/29321.jpg  \n",
            "  inflating: celeba_hq_256/29322.jpg  \n",
            "  inflating: celeba_hq_256/29323.jpg  \n",
            "  inflating: celeba_hq_256/29324.jpg  \n",
            "  inflating: celeba_hq_256/29325.jpg  \n",
            "  inflating: celeba_hq_256/29326.jpg  \n",
            "  inflating: celeba_hq_256/29327.jpg  \n",
            "  inflating: celeba_hq_256/29328.jpg  \n",
            "  inflating: celeba_hq_256/29329.jpg  \n",
            "  inflating: celeba_hq_256/29330.jpg  \n",
            "  inflating: celeba_hq_256/29331.jpg  \n",
            "  inflating: celeba_hq_256/29332.jpg  \n",
            "  inflating: celeba_hq_256/29333.jpg  \n",
            "  inflating: celeba_hq_256/29334.jpg  \n",
            "  inflating: celeba_hq_256/29335.jpg  \n",
            "  inflating: celeba_hq_256/29336.jpg  \n",
            "  inflating: celeba_hq_256/29337.jpg  \n",
            "  inflating: celeba_hq_256/29338.jpg  \n",
            "  inflating: celeba_hq_256/29339.jpg  \n",
            "  inflating: celeba_hq_256/29340.jpg  \n",
            "  inflating: celeba_hq_256/29341.jpg  \n",
            "  inflating: celeba_hq_256/29342.jpg  \n",
            "  inflating: celeba_hq_256/29343.jpg  \n",
            "  inflating: celeba_hq_256/29344.jpg  \n",
            "  inflating: celeba_hq_256/29345.jpg  \n",
            "  inflating: celeba_hq_256/29346.jpg  \n",
            "  inflating: celeba_hq_256/29347.jpg  \n",
            "  inflating: celeba_hq_256/29348.jpg  \n",
            "  inflating: celeba_hq_256/29349.jpg  \n",
            "  inflating: celeba_hq_256/29350.jpg  \n",
            "  inflating: celeba_hq_256/29351.jpg  \n",
            "  inflating: celeba_hq_256/29352.jpg  \n",
            "  inflating: celeba_hq_256/29353.jpg  \n",
            "  inflating: celeba_hq_256/29354.jpg  \n",
            "  inflating: celeba_hq_256/29355.jpg  \n",
            "  inflating: celeba_hq_256/29356.jpg  \n",
            "  inflating: celeba_hq_256/29357.jpg  \n",
            "  inflating: celeba_hq_256/29358.jpg  \n",
            "  inflating: celeba_hq_256/29359.jpg  \n",
            "  inflating: celeba_hq_256/29360.jpg  \n",
            "  inflating: celeba_hq_256/29361.jpg  \n",
            "  inflating: celeba_hq_256/29362.jpg  \n",
            "  inflating: celeba_hq_256/29363.jpg  \n",
            "  inflating: celeba_hq_256/29364.jpg  \n",
            "  inflating: celeba_hq_256/29365.jpg  \n",
            "  inflating: celeba_hq_256/29366.jpg  \n",
            "  inflating: celeba_hq_256/29367.jpg  \n",
            "  inflating: celeba_hq_256/29368.jpg  \n",
            "  inflating: celeba_hq_256/29369.jpg  \n",
            "  inflating: celeba_hq_256/29370.jpg  \n",
            "  inflating: celeba_hq_256/29371.jpg  \n",
            "  inflating: celeba_hq_256/29372.jpg  \n",
            "  inflating: celeba_hq_256/29373.jpg  \n",
            "  inflating: celeba_hq_256/29374.jpg  \n",
            "  inflating: celeba_hq_256/29375.jpg  \n",
            "  inflating: celeba_hq_256/29376.jpg  \n",
            "  inflating: celeba_hq_256/29377.jpg  \n",
            "  inflating: celeba_hq_256/29378.jpg  \n",
            "  inflating: celeba_hq_256/29379.jpg  \n",
            "  inflating: celeba_hq_256/29380.jpg  \n",
            "  inflating: celeba_hq_256/29381.jpg  \n",
            "  inflating: celeba_hq_256/29382.jpg  \n",
            "  inflating: celeba_hq_256/29383.jpg  \n",
            "  inflating: celeba_hq_256/29384.jpg  \n",
            "  inflating: celeba_hq_256/29385.jpg  \n",
            "  inflating: celeba_hq_256/29386.jpg  \n",
            "  inflating: celeba_hq_256/29387.jpg  \n",
            "  inflating: celeba_hq_256/29388.jpg  \n",
            "  inflating: celeba_hq_256/29389.jpg  \n",
            "  inflating: celeba_hq_256/29390.jpg  \n",
            "  inflating: celeba_hq_256/29391.jpg  \n",
            "  inflating: celeba_hq_256/29392.jpg  \n",
            "  inflating: celeba_hq_256/29393.jpg  \n",
            "  inflating: celeba_hq_256/29394.jpg  \n",
            "  inflating: celeba_hq_256/29395.jpg  \n",
            "  inflating: celeba_hq_256/29396.jpg  \n",
            "  inflating: celeba_hq_256/29397.jpg  \n",
            "  inflating: celeba_hq_256/29398.jpg  \n",
            "  inflating: celeba_hq_256/29399.jpg  \n",
            "  inflating: celeba_hq_256/29400.jpg  \n",
            "  inflating: celeba_hq_256/29401.jpg  \n",
            "  inflating: celeba_hq_256/29402.jpg  \n",
            "  inflating: celeba_hq_256/29403.jpg  \n",
            "  inflating: celeba_hq_256/29404.jpg  \n",
            "  inflating: celeba_hq_256/29405.jpg  \n",
            "  inflating: celeba_hq_256/29406.jpg  \n",
            "  inflating: celeba_hq_256/29407.jpg  \n",
            "  inflating: celeba_hq_256/29408.jpg  \n",
            "  inflating: celeba_hq_256/29409.jpg  \n",
            "  inflating: celeba_hq_256/29410.jpg  \n",
            "  inflating: celeba_hq_256/29411.jpg  \n",
            "  inflating: celeba_hq_256/29412.jpg  \n",
            "  inflating: celeba_hq_256/29413.jpg  \n",
            "  inflating: celeba_hq_256/29414.jpg  \n",
            "  inflating: celeba_hq_256/29415.jpg  \n",
            "  inflating: celeba_hq_256/29416.jpg  \n",
            "  inflating: celeba_hq_256/29417.jpg  \n",
            "  inflating: celeba_hq_256/29418.jpg  \n",
            "  inflating: celeba_hq_256/29419.jpg  \n",
            "  inflating: celeba_hq_256/29420.jpg  \n",
            "  inflating: celeba_hq_256/29421.jpg  \n",
            "  inflating: celeba_hq_256/29422.jpg  \n",
            "  inflating: celeba_hq_256/29423.jpg  \n",
            "  inflating: celeba_hq_256/29424.jpg  \n",
            "  inflating: celeba_hq_256/29425.jpg  \n",
            "  inflating: celeba_hq_256/29426.jpg  \n",
            "  inflating: celeba_hq_256/29427.jpg  \n",
            "  inflating: celeba_hq_256/29428.jpg  \n",
            "  inflating: celeba_hq_256/29429.jpg  \n",
            "  inflating: celeba_hq_256/29430.jpg  \n",
            "  inflating: celeba_hq_256/29431.jpg  \n",
            "  inflating: celeba_hq_256/29432.jpg  \n",
            "  inflating: celeba_hq_256/29433.jpg  \n",
            "  inflating: celeba_hq_256/29434.jpg  \n",
            "  inflating: celeba_hq_256/29435.jpg  \n",
            "  inflating: celeba_hq_256/29436.jpg  \n",
            "  inflating: celeba_hq_256/29437.jpg  \n",
            "  inflating: celeba_hq_256/29438.jpg  \n",
            "  inflating: celeba_hq_256/29439.jpg  \n",
            "  inflating: celeba_hq_256/29440.jpg  \n",
            "  inflating: celeba_hq_256/29441.jpg  \n",
            "  inflating: celeba_hq_256/29442.jpg  \n",
            "  inflating: celeba_hq_256/29443.jpg  \n",
            "  inflating: celeba_hq_256/29444.jpg  \n",
            "  inflating: celeba_hq_256/29445.jpg  \n",
            "  inflating: celeba_hq_256/29446.jpg  \n",
            "  inflating: celeba_hq_256/29447.jpg  \n",
            "  inflating: celeba_hq_256/29448.jpg  \n",
            "  inflating: celeba_hq_256/29449.jpg  \n",
            "  inflating: celeba_hq_256/29450.jpg  \n",
            "  inflating: celeba_hq_256/29451.jpg  \n",
            "  inflating: celeba_hq_256/29452.jpg  \n",
            "  inflating: celeba_hq_256/29453.jpg  \n",
            "  inflating: celeba_hq_256/29454.jpg  \n",
            "  inflating: celeba_hq_256/29455.jpg  \n",
            "  inflating: celeba_hq_256/29456.jpg  \n",
            "  inflating: celeba_hq_256/29457.jpg  \n",
            "  inflating: celeba_hq_256/29458.jpg  \n",
            "  inflating: celeba_hq_256/29459.jpg  \n",
            "  inflating: celeba_hq_256/29460.jpg  \n",
            "  inflating: celeba_hq_256/29461.jpg  \n",
            "  inflating: celeba_hq_256/29462.jpg  \n",
            "  inflating: celeba_hq_256/29463.jpg  \n",
            "  inflating: celeba_hq_256/29464.jpg  \n",
            "  inflating: celeba_hq_256/29465.jpg  \n",
            "  inflating: celeba_hq_256/29466.jpg  \n",
            "  inflating: celeba_hq_256/29467.jpg  \n",
            "  inflating: celeba_hq_256/29468.jpg  \n",
            "  inflating: celeba_hq_256/29469.jpg  \n",
            "  inflating: celeba_hq_256/29470.jpg  \n",
            "  inflating: celeba_hq_256/29471.jpg  \n",
            "  inflating: celeba_hq_256/29472.jpg  \n",
            "  inflating: celeba_hq_256/29473.jpg  \n",
            "  inflating: celeba_hq_256/29474.jpg  \n",
            "  inflating: celeba_hq_256/29475.jpg  \n",
            "  inflating: celeba_hq_256/29476.jpg  \n",
            "  inflating: celeba_hq_256/29477.jpg  \n",
            "  inflating: celeba_hq_256/29478.jpg  \n",
            "  inflating: celeba_hq_256/29479.jpg  \n",
            "  inflating: celeba_hq_256/29480.jpg  \n",
            "  inflating: celeba_hq_256/29481.jpg  \n",
            "  inflating: celeba_hq_256/29482.jpg  \n",
            "  inflating: celeba_hq_256/29483.jpg  \n",
            "  inflating: celeba_hq_256/29484.jpg  \n",
            "  inflating: celeba_hq_256/29485.jpg  \n",
            "  inflating: celeba_hq_256/29486.jpg  \n",
            "  inflating: celeba_hq_256/29487.jpg  \n",
            "  inflating: celeba_hq_256/29488.jpg  \n",
            "  inflating: celeba_hq_256/29489.jpg  \n",
            "  inflating: celeba_hq_256/29490.jpg  \n",
            "  inflating: celeba_hq_256/29491.jpg  \n",
            "  inflating: celeba_hq_256/29492.jpg  \n",
            "  inflating: celeba_hq_256/29493.jpg  \n",
            "  inflating: celeba_hq_256/29494.jpg  \n",
            "  inflating: celeba_hq_256/29495.jpg  \n",
            "  inflating: celeba_hq_256/29496.jpg  \n",
            "  inflating: celeba_hq_256/29497.jpg  \n",
            "  inflating: celeba_hq_256/29498.jpg  \n",
            "  inflating: celeba_hq_256/29499.jpg  \n",
            "  inflating: celeba_hq_256/29500.jpg  \n",
            "  inflating: celeba_hq_256/29501.jpg  \n",
            "  inflating: celeba_hq_256/29502.jpg  \n",
            "  inflating: celeba_hq_256/29503.jpg  \n",
            "  inflating: celeba_hq_256/29504.jpg  \n",
            "  inflating: celeba_hq_256/29505.jpg  \n",
            "  inflating: celeba_hq_256/29506.jpg  \n",
            "  inflating: celeba_hq_256/29507.jpg  \n",
            "  inflating: celeba_hq_256/29508.jpg  \n",
            "  inflating: celeba_hq_256/29509.jpg  \n",
            "  inflating: celeba_hq_256/29510.jpg  \n",
            "  inflating: celeba_hq_256/29511.jpg  \n",
            "  inflating: celeba_hq_256/29512.jpg  \n",
            "  inflating: celeba_hq_256/29513.jpg  \n",
            "  inflating: celeba_hq_256/29514.jpg  \n",
            "  inflating: celeba_hq_256/29515.jpg  \n",
            "  inflating: celeba_hq_256/29516.jpg  \n",
            "  inflating: celeba_hq_256/29517.jpg  \n",
            "  inflating: celeba_hq_256/29518.jpg  \n",
            "  inflating: celeba_hq_256/29519.jpg  \n",
            "  inflating: celeba_hq_256/29520.jpg  \n",
            "  inflating: celeba_hq_256/29521.jpg  \n",
            "  inflating: celeba_hq_256/29522.jpg  \n",
            "  inflating: celeba_hq_256/29523.jpg  \n",
            "  inflating: celeba_hq_256/29524.jpg  \n",
            "  inflating: celeba_hq_256/29525.jpg  \n",
            "  inflating: celeba_hq_256/29526.jpg  \n",
            "  inflating: celeba_hq_256/29527.jpg  \n",
            "  inflating: celeba_hq_256/29528.jpg  \n",
            "  inflating: celeba_hq_256/29529.jpg  \n",
            "  inflating: celeba_hq_256/29530.jpg  \n",
            "  inflating: celeba_hq_256/29531.jpg  \n",
            "  inflating: celeba_hq_256/29532.jpg  \n",
            "  inflating: celeba_hq_256/29533.jpg  \n",
            "  inflating: celeba_hq_256/29534.jpg  \n",
            "  inflating: celeba_hq_256/29535.jpg  \n",
            "  inflating: celeba_hq_256/29536.jpg  \n",
            "  inflating: celeba_hq_256/29537.jpg  \n",
            "  inflating: celeba_hq_256/29538.jpg  \n",
            "  inflating: celeba_hq_256/29539.jpg  \n",
            "  inflating: celeba_hq_256/29540.jpg  \n",
            "  inflating: celeba_hq_256/29541.jpg  \n",
            "  inflating: celeba_hq_256/29542.jpg  \n",
            "  inflating: celeba_hq_256/29543.jpg  \n",
            "  inflating: celeba_hq_256/29544.jpg  \n",
            "  inflating: celeba_hq_256/29545.jpg  \n",
            "  inflating: celeba_hq_256/29546.jpg  \n",
            "  inflating: celeba_hq_256/29547.jpg  \n",
            "  inflating: celeba_hq_256/29548.jpg  \n",
            "  inflating: celeba_hq_256/29549.jpg  \n",
            "  inflating: celeba_hq_256/29550.jpg  \n",
            "  inflating: celeba_hq_256/29551.jpg  \n",
            "  inflating: celeba_hq_256/29552.jpg  \n",
            "  inflating: celeba_hq_256/29553.jpg  \n",
            "  inflating: celeba_hq_256/29554.jpg  \n",
            "  inflating: celeba_hq_256/29555.jpg  \n",
            "  inflating: celeba_hq_256/29556.jpg  \n",
            "  inflating: celeba_hq_256/29557.jpg  \n",
            "  inflating: celeba_hq_256/29558.jpg  \n",
            "  inflating: celeba_hq_256/29559.jpg  \n",
            "  inflating: celeba_hq_256/29560.jpg  \n",
            "  inflating: celeba_hq_256/29561.jpg  \n",
            "  inflating: celeba_hq_256/29562.jpg  \n",
            "  inflating: celeba_hq_256/29563.jpg  \n",
            "  inflating: celeba_hq_256/29564.jpg  \n",
            "  inflating: celeba_hq_256/29565.jpg  \n",
            "  inflating: celeba_hq_256/29566.jpg  \n",
            "  inflating: celeba_hq_256/29567.jpg  \n",
            "  inflating: celeba_hq_256/29568.jpg  \n",
            "  inflating: celeba_hq_256/29569.jpg  \n",
            "  inflating: celeba_hq_256/29570.jpg  \n",
            "  inflating: celeba_hq_256/29571.jpg  \n",
            "  inflating: celeba_hq_256/29572.jpg  \n",
            "  inflating: celeba_hq_256/29573.jpg  \n",
            "  inflating: celeba_hq_256/29574.jpg  \n",
            "  inflating: celeba_hq_256/29575.jpg  \n",
            "  inflating: celeba_hq_256/29576.jpg  \n",
            "  inflating: celeba_hq_256/29577.jpg  \n",
            "  inflating: celeba_hq_256/29578.jpg  \n",
            "  inflating: celeba_hq_256/29579.jpg  \n",
            "  inflating: celeba_hq_256/29580.jpg  \n",
            "  inflating: celeba_hq_256/29581.jpg  \n",
            "  inflating: celeba_hq_256/29582.jpg  \n",
            "  inflating: celeba_hq_256/29583.jpg  \n",
            "  inflating: celeba_hq_256/29584.jpg  \n",
            "  inflating: celeba_hq_256/29585.jpg  \n",
            "  inflating: celeba_hq_256/29586.jpg  \n",
            "  inflating: celeba_hq_256/29587.jpg  \n",
            "  inflating: celeba_hq_256/29588.jpg  \n",
            "  inflating: celeba_hq_256/29589.jpg  \n",
            "  inflating: celeba_hq_256/29590.jpg  \n",
            "  inflating: celeba_hq_256/29591.jpg  \n",
            "  inflating: celeba_hq_256/29592.jpg  \n",
            "  inflating: celeba_hq_256/29593.jpg  \n",
            "  inflating: celeba_hq_256/29594.jpg  \n",
            "  inflating: celeba_hq_256/29595.jpg  \n",
            "  inflating: celeba_hq_256/29596.jpg  \n",
            "  inflating: celeba_hq_256/29597.jpg  \n",
            "  inflating: celeba_hq_256/29598.jpg  \n",
            "  inflating: celeba_hq_256/29599.jpg  \n",
            "  inflating: celeba_hq_256/29600.jpg  \n",
            "  inflating: celeba_hq_256/29601.jpg  \n",
            "  inflating: celeba_hq_256/29602.jpg  \n",
            "  inflating: celeba_hq_256/29603.jpg  \n",
            "  inflating: celeba_hq_256/29604.jpg  \n",
            "  inflating: celeba_hq_256/29605.jpg  \n",
            "  inflating: celeba_hq_256/29606.jpg  \n",
            "  inflating: celeba_hq_256/29607.jpg  \n",
            "  inflating: celeba_hq_256/29608.jpg  \n",
            "  inflating: celeba_hq_256/29609.jpg  \n",
            "  inflating: celeba_hq_256/29610.jpg  \n",
            "  inflating: celeba_hq_256/29611.jpg  \n",
            "  inflating: celeba_hq_256/29612.jpg  \n",
            "  inflating: celeba_hq_256/29613.jpg  \n",
            "  inflating: celeba_hq_256/29614.jpg  \n",
            "  inflating: celeba_hq_256/29615.jpg  \n",
            "  inflating: celeba_hq_256/29616.jpg  \n",
            "  inflating: celeba_hq_256/29617.jpg  \n",
            "  inflating: celeba_hq_256/29618.jpg  \n",
            "  inflating: celeba_hq_256/29619.jpg  \n",
            "  inflating: celeba_hq_256/29620.jpg  \n",
            "  inflating: celeba_hq_256/29621.jpg  \n",
            "  inflating: celeba_hq_256/29622.jpg  \n",
            "  inflating: celeba_hq_256/29623.jpg  \n",
            "  inflating: celeba_hq_256/29624.jpg  \n",
            "  inflating: celeba_hq_256/29625.jpg  \n",
            "  inflating: celeba_hq_256/29626.jpg  \n",
            "  inflating: celeba_hq_256/29627.jpg  \n",
            "  inflating: celeba_hq_256/29628.jpg  \n",
            "  inflating: celeba_hq_256/29629.jpg  \n",
            "  inflating: celeba_hq_256/29630.jpg  \n",
            "  inflating: celeba_hq_256/29631.jpg  \n",
            "  inflating: celeba_hq_256/29632.jpg  \n",
            "  inflating: celeba_hq_256/29633.jpg  \n",
            "  inflating: celeba_hq_256/29634.jpg  \n",
            "  inflating: celeba_hq_256/29635.jpg  \n",
            "  inflating: celeba_hq_256/29636.jpg  \n",
            "  inflating: celeba_hq_256/29637.jpg  \n",
            "  inflating: celeba_hq_256/29638.jpg  \n",
            "  inflating: celeba_hq_256/29639.jpg  \n",
            "  inflating: celeba_hq_256/29640.jpg  \n",
            "  inflating: celeba_hq_256/29641.jpg  \n",
            "  inflating: celeba_hq_256/29642.jpg  \n",
            "  inflating: celeba_hq_256/29643.jpg  \n",
            "  inflating: celeba_hq_256/29644.jpg  \n",
            "  inflating: celeba_hq_256/29645.jpg  \n",
            "  inflating: celeba_hq_256/29646.jpg  \n",
            "  inflating: celeba_hq_256/29647.jpg  \n",
            "  inflating: celeba_hq_256/29648.jpg  \n",
            "  inflating: celeba_hq_256/29649.jpg  \n",
            "  inflating: celeba_hq_256/29650.jpg  \n",
            "  inflating: celeba_hq_256/29651.jpg  \n",
            "  inflating: celeba_hq_256/29652.jpg  \n",
            "  inflating: celeba_hq_256/29653.jpg  \n",
            "  inflating: celeba_hq_256/29654.jpg  \n",
            "  inflating: celeba_hq_256/29655.jpg  \n",
            "  inflating: celeba_hq_256/29656.jpg  \n",
            "  inflating: celeba_hq_256/29657.jpg  \n",
            "  inflating: celeba_hq_256/29658.jpg  \n",
            "  inflating: celeba_hq_256/29659.jpg  \n",
            "  inflating: celeba_hq_256/29660.jpg  \n",
            "  inflating: celeba_hq_256/29661.jpg  \n",
            "  inflating: celeba_hq_256/29662.jpg  \n",
            "  inflating: celeba_hq_256/29663.jpg  \n",
            "  inflating: celeba_hq_256/29664.jpg  \n",
            "  inflating: celeba_hq_256/29665.jpg  \n",
            "  inflating: celeba_hq_256/29666.jpg  \n",
            "  inflating: celeba_hq_256/29667.jpg  \n",
            "  inflating: celeba_hq_256/29668.jpg  \n",
            "  inflating: celeba_hq_256/29669.jpg  \n",
            "  inflating: celeba_hq_256/29670.jpg  \n",
            "  inflating: celeba_hq_256/29671.jpg  \n",
            "  inflating: celeba_hq_256/29672.jpg  \n",
            "  inflating: celeba_hq_256/29673.jpg  \n",
            "  inflating: celeba_hq_256/29674.jpg  \n",
            "  inflating: celeba_hq_256/29675.jpg  \n",
            "  inflating: celeba_hq_256/29676.jpg  \n",
            "  inflating: celeba_hq_256/29677.jpg  \n",
            "  inflating: celeba_hq_256/29678.jpg  \n",
            "  inflating: celeba_hq_256/29679.jpg  \n",
            "  inflating: celeba_hq_256/29680.jpg  \n",
            "  inflating: celeba_hq_256/29681.jpg  \n",
            "  inflating: celeba_hq_256/29682.jpg  \n",
            "  inflating: celeba_hq_256/29683.jpg  \n",
            "  inflating: celeba_hq_256/29684.jpg  \n",
            "  inflating: celeba_hq_256/29685.jpg  \n",
            "  inflating: celeba_hq_256/29686.jpg  \n",
            "  inflating: celeba_hq_256/29687.jpg  \n",
            "  inflating: celeba_hq_256/29688.jpg  \n",
            "  inflating: celeba_hq_256/29689.jpg  \n",
            "  inflating: celeba_hq_256/29690.jpg  \n",
            "  inflating: celeba_hq_256/29691.jpg  \n",
            "  inflating: celeba_hq_256/29692.jpg  \n",
            "  inflating: celeba_hq_256/29693.jpg  \n",
            "  inflating: celeba_hq_256/29694.jpg  \n",
            "  inflating: celeba_hq_256/29695.jpg  \n",
            "  inflating: celeba_hq_256/29696.jpg  \n",
            "  inflating: celeba_hq_256/29697.jpg  \n",
            "  inflating: celeba_hq_256/29698.jpg  \n",
            "  inflating: celeba_hq_256/29699.jpg  \n",
            "  inflating: celeba_hq_256/29700.jpg  \n",
            "  inflating: celeba_hq_256/29701.jpg  \n",
            "  inflating: celeba_hq_256/29702.jpg  \n",
            "  inflating: celeba_hq_256/29703.jpg  \n",
            "  inflating: celeba_hq_256/29704.jpg  \n",
            "  inflating: celeba_hq_256/29705.jpg  \n",
            "  inflating: celeba_hq_256/29706.jpg  \n",
            "  inflating: celeba_hq_256/29707.jpg  \n",
            "  inflating: celeba_hq_256/29708.jpg  \n",
            "  inflating: celeba_hq_256/29709.jpg  \n",
            "  inflating: celeba_hq_256/29710.jpg  \n",
            "  inflating: celeba_hq_256/29711.jpg  \n",
            "  inflating: celeba_hq_256/29712.jpg  \n",
            "  inflating: celeba_hq_256/29713.jpg  \n",
            "  inflating: celeba_hq_256/29714.jpg  \n",
            "  inflating: celeba_hq_256/29715.jpg  \n",
            "  inflating: celeba_hq_256/29716.jpg  \n",
            "  inflating: celeba_hq_256/29717.jpg  \n",
            "  inflating: celeba_hq_256/29718.jpg  \n",
            "  inflating: celeba_hq_256/29719.jpg  \n",
            "  inflating: celeba_hq_256/29720.jpg  \n",
            "  inflating: celeba_hq_256/29721.jpg  \n",
            "  inflating: celeba_hq_256/29722.jpg  \n",
            "  inflating: celeba_hq_256/29723.jpg  \n",
            "  inflating: celeba_hq_256/29724.jpg  \n",
            "  inflating: celeba_hq_256/29725.jpg  \n",
            "  inflating: celeba_hq_256/29726.jpg  \n",
            "  inflating: celeba_hq_256/29727.jpg  \n",
            "  inflating: celeba_hq_256/29728.jpg  \n",
            "  inflating: celeba_hq_256/29729.jpg  \n",
            "  inflating: celeba_hq_256/29730.jpg  \n",
            "  inflating: celeba_hq_256/29731.jpg  \n",
            "  inflating: celeba_hq_256/29732.jpg  \n",
            "  inflating: celeba_hq_256/29733.jpg  \n",
            "  inflating: celeba_hq_256/29734.jpg  \n",
            "  inflating: celeba_hq_256/29735.jpg  \n",
            "  inflating: celeba_hq_256/29736.jpg  \n",
            "  inflating: celeba_hq_256/29737.jpg  \n",
            "  inflating: celeba_hq_256/29738.jpg  \n",
            "  inflating: celeba_hq_256/29739.jpg  \n",
            "  inflating: celeba_hq_256/29740.jpg  \n",
            "  inflating: celeba_hq_256/29741.jpg  \n",
            "  inflating: celeba_hq_256/29742.jpg  \n",
            "  inflating: celeba_hq_256/29743.jpg  \n",
            "  inflating: celeba_hq_256/29744.jpg  \n",
            "  inflating: celeba_hq_256/29745.jpg  \n",
            "  inflating: celeba_hq_256/29746.jpg  \n",
            "  inflating: celeba_hq_256/29747.jpg  \n",
            "  inflating: celeba_hq_256/29748.jpg  \n",
            "  inflating: celeba_hq_256/29749.jpg  \n",
            "  inflating: celeba_hq_256/29750.jpg  \n",
            "  inflating: celeba_hq_256/29751.jpg  \n",
            "  inflating: celeba_hq_256/29752.jpg  \n",
            "  inflating: celeba_hq_256/29753.jpg  \n",
            "  inflating: celeba_hq_256/29754.jpg  \n",
            "  inflating: celeba_hq_256/29755.jpg  \n",
            "  inflating: celeba_hq_256/29756.jpg  \n",
            "  inflating: celeba_hq_256/29757.jpg  \n",
            "  inflating: celeba_hq_256/29758.jpg  \n",
            "  inflating: celeba_hq_256/29759.jpg  \n",
            "  inflating: celeba_hq_256/29760.jpg  \n",
            "  inflating: celeba_hq_256/29761.jpg  \n",
            "  inflating: celeba_hq_256/29762.jpg  \n",
            "  inflating: celeba_hq_256/29763.jpg  \n",
            "  inflating: celeba_hq_256/29764.jpg  \n",
            "  inflating: celeba_hq_256/29765.jpg  \n",
            "  inflating: celeba_hq_256/29766.jpg  \n",
            "  inflating: celeba_hq_256/29767.jpg  \n",
            "  inflating: celeba_hq_256/29768.jpg  \n",
            "  inflating: celeba_hq_256/29769.jpg  \n",
            "  inflating: celeba_hq_256/29770.jpg  \n",
            "  inflating: celeba_hq_256/29771.jpg  \n",
            "  inflating: celeba_hq_256/29772.jpg  \n",
            "  inflating: celeba_hq_256/29773.jpg  \n",
            "  inflating: celeba_hq_256/29774.jpg  \n",
            "  inflating: celeba_hq_256/29775.jpg  \n",
            "  inflating: celeba_hq_256/29776.jpg  \n",
            "  inflating: celeba_hq_256/29777.jpg  \n",
            "  inflating: celeba_hq_256/29778.jpg  \n",
            "  inflating: celeba_hq_256/29779.jpg  \n",
            "  inflating: celeba_hq_256/29780.jpg  \n",
            "  inflating: celeba_hq_256/29781.jpg  \n",
            "  inflating: celeba_hq_256/29782.jpg  \n",
            "  inflating: celeba_hq_256/29783.jpg  \n",
            "  inflating: celeba_hq_256/29784.jpg  \n",
            "  inflating: celeba_hq_256/29785.jpg  \n",
            "  inflating: celeba_hq_256/29786.jpg  \n",
            "  inflating: celeba_hq_256/29787.jpg  \n",
            "  inflating: celeba_hq_256/29788.jpg  \n",
            "  inflating: celeba_hq_256/29789.jpg  \n",
            "  inflating: celeba_hq_256/29790.jpg  \n",
            "  inflating: celeba_hq_256/29791.jpg  \n",
            "  inflating: celeba_hq_256/29792.jpg  \n",
            "  inflating: celeba_hq_256/29793.jpg  \n",
            "  inflating: celeba_hq_256/29794.jpg  \n",
            "  inflating: celeba_hq_256/29795.jpg  \n",
            "  inflating: celeba_hq_256/29796.jpg  \n",
            "  inflating: celeba_hq_256/29797.jpg  \n",
            "  inflating: celeba_hq_256/29798.jpg  \n",
            "  inflating: celeba_hq_256/29799.jpg  \n",
            "  inflating: celeba_hq_256/29800.jpg  \n",
            "  inflating: celeba_hq_256/29801.jpg  \n",
            "  inflating: celeba_hq_256/29802.jpg  \n",
            "  inflating: celeba_hq_256/29803.jpg  \n",
            "  inflating: celeba_hq_256/29804.jpg  \n",
            "  inflating: celeba_hq_256/29805.jpg  \n",
            "  inflating: celeba_hq_256/29806.jpg  \n",
            "  inflating: celeba_hq_256/29807.jpg  \n",
            "  inflating: celeba_hq_256/29808.jpg  \n",
            "  inflating: celeba_hq_256/29809.jpg  \n",
            "  inflating: celeba_hq_256/29810.jpg  \n",
            "  inflating: celeba_hq_256/29811.jpg  \n",
            "  inflating: celeba_hq_256/29812.jpg  \n",
            "  inflating: celeba_hq_256/29813.jpg  \n",
            "  inflating: celeba_hq_256/29814.jpg  \n",
            "  inflating: celeba_hq_256/29815.jpg  \n",
            "  inflating: celeba_hq_256/29816.jpg  \n",
            "  inflating: celeba_hq_256/29817.jpg  \n",
            "  inflating: celeba_hq_256/29818.jpg  \n",
            "  inflating: celeba_hq_256/29819.jpg  \n",
            "  inflating: celeba_hq_256/29820.jpg  \n",
            "  inflating: celeba_hq_256/29821.jpg  \n",
            "  inflating: celeba_hq_256/29822.jpg  \n",
            "  inflating: celeba_hq_256/29823.jpg  \n",
            "  inflating: celeba_hq_256/29824.jpg  \n",
            "  inflating: celeba_hq_256/29825.jpg  \n",
            "  inflating: celeba_hq_256/29826.jpg  \n",
            "  inflating: celeba_hq_256/29827.jpg  \n",
            "  inflating: celeba_hq_256/29828.jpg  \n",
            "  inflating: celeba_hq_256/29829.jpg  \n",
            "  inflating: celeba_hq_256/29830.jpg  \n",
            "  inflating: celeba_hq_256/29831.jpg  \n",
            "  inflating: celeba_hq_256/29832.jpg  \n",
            "  inflating: celeba_hq_256/29833.jpg  \n",
            "  inflating: celeba_hq_256/29834.jpg  \n",
            "  inflating: celeba_hq_256/29835.jpg  \n",
            "  inflating: celeba_hq_256/29836.jpg  \n",
            "  inflating: celeba_hq_256/29837.jpg  \n",
            "  inflating: celeba_hq_256/29838.jpg  \n",
            "  inflating: celeba_hq_256/29839.jpg  \n",
            "  inflating: celeba_hq_256/29840.jpg  \n",
            "  inflating: celeba_hq_256/29841.jpg  \n",
            "  inflating: celeba_hq_256/29842.jpg  \n",
            "  inflating: celeba_hq_256/29843.jpg  \n",
            "  inflating: celeba_hq_256/29844.jpg  \n",
            "  inflating: celeba_hq_256/29845.jpg  \n",
            "  inflating: celeba_hq_256/29846.jpg  \n",
            "  inflating: celeba_hq_256/29847.jpg  \n",
            "  inflating: celeba_hq_256/29848.jpg  \n",
            "  inflating: celeba_hq_256/29849.jpg  \n",
            "  inflating: celeba_hq_256/29850.jpg  \n",
            "  inflating: celeba_hq_256/29851.jpg  \n",
            "  inflating: celeba_hq_256/29852.jpg  \n",
            "  inflating: celeba_hq_256/29853.jpg  \n",
            "  inflating: celeba_hq_256/29854.jpg  \n",
            "  inflating: celeba_hq_256/29855.jpg  \n",
            "  inflating: celeba_hq_256/29856.jpg  \n",
            "  inflating: celeba_hq_256/29857.jpg  \n",
            "  inflating: celeba_hq_256/29858.jpg  \n",
            "  inflating: celeba_hq_256/29859.jpg  \n",
            "  inflating: celeba_hq_256/29860.jpg  \n",
            "  inflating: celeba_hq_256/29861.jpg  \n",
            "  inflating: celeba_hq_256/29862.jpg  \n",
            "  inflating: celeba_hq_256/29863.jpg  \n",
            "  inflating: celeba_hq_256/29864.jpg  \n",
            "  inflating: celeba_hq_256/29865.jpg  \n",
            "  inflating: celeba_hq_256/29866.jpg  \n",
            "  inflating: celeba_hq_256/29867.jpg  \n",
            "  inflating: celeba_hq_256/29868.jpg  \n",
            "  inflating: celeba_hq_256/29869.jpg  \n",
            "  inflating: celeba_hq_256/29870.jpg  \n",
            "  inflating: celeba_hq_256/29871.jpg  \n",
            "  inflating: celeba_hq_256/29872.jpg  \n",
            "  inflating: celeba_hq_256/29873.jpg  \n",
            "  inflating: celeba_hq_256/29874.jpg  \n",
            "  inflating: celeba_hq_256/29875.jpg  \n",
            "  inflating: celeba_hq_256/29876.jpg  \n",
            "  inflating: celeba_hq_256/29877.jpg  \n",
            "  inflating: celeba_hq_256/29878.jpg  \n",
            "  inflating: celeba_hq_256/29879.jpg  \n",
            "  inflating: celeba_hq_256/29880.jpg  \n",
            "  inflating: celeba_hq_256/29881.jpg  \n",
            "  inflating: celeba_hq_256/29882.jpg  \n",
            "  inflating: celeba_hq_256/29883.jpg  \n",
            "  inflating: celeba_hq_256/29884.jpg  \n",
            "  inflating: celeba_hq_256/29885.jpg  \n",
            "  inflating: celeba_hq_256/29886.jpg  \n",
            "  inflating: celeba_hq_256/29887.jpg  \n",
            "  inflating: celeba_hq_256/29888.jpg  \n",
            "  inflating: celeba_hq_256/29889.jpg  \n",
            "  inflating: celeba_hq_256/29890.jpg  \n",
            "  inflating: celeba_hq_256/29891.jpg  \n",
            "  inflating: celeba_hq_256/29892.jpg  \n",
            "  inflating: celeba_hq_256/29893.jpg  \n",
            "  inflating: celeba_hq_256/29894.jpg  \n",
            "  inflating: celeba_hq_256/29895.jpg  \n",
            "  inflating: celeba_hq_256/29896.jpg  \n",
            "  inflating: celeba_hq_256/29897.jpg  \n",
            "  inflating: celeba_hq_256/29898.jpg  \n",
            "  inflating: celeba_hq_256/29899.jpg  \n",
            "  inflating: celeba_hq_256/29900.jpg  \n",
            "  inflating: celeba_hq_256/29901.jpg  \n",
            "  inflating: celeba_hq_256/29902.jpg  \n",
            "  inflating: celeba_hq_256/29903.jpg  \n",
            "  inflating: celeba_hq_256/29904.jpg  \n",
            "  inflating: celeba_hq_256/29905.jpg  \n",
            "  inflating: celeba_hq_256/29906.jpg  \n",
            "  inflating: celeba_hq_256/29907.jpg  \n",
            "  inflating: celeba_hq_256/29908.jpg  \n",
            "  inflating: celeba_hq_256/29909.jpg  \n",
            "  inflating: celeba_hq_256/29910.jpg  \n",
            "  inflating: celeba_hq_256/29911.jpg  \n",
            "  inflating: celeba_hq_256/29912.jpg  \n",
            "  inflating: celeba_hq_256/29913.jpg  \n",
            "  inflating: celeba_hq_256/29914.jpg  \n",
            "  inflating: celeba_hq_256/29915.jpg  \n",
            "  inflating: celeba_hq_256/29916.jpg  \n",
            "  inflating: celeba_hq_256/29917.jpg  \n",
            "  inflating: celeba_hq_256/29918.jpg  \n",
            "  inflating: celeba_hq_256/29919.jpg  \n",
            "  inflating: celeba_hq_256/29920.jpg  \n",
            "  inflating: celeba_hq_256/29921.jpg  \n",
            "  inflating: celeba_hq_256/29922.jpg  \n",
            "  inflating: celeba_hq_256/29923.jpg  \n",
            "  inflating: celeba_hq_256/29924.jpg  \n",
            "  inflating: celeba_hq_256/29925.jpg  \n",
            "  inflating: celeba_hq_256/29926.jpg  \n",
            "  inflating: celeba_hq_256/29927.jpg  \n",
            "  inflating: celeba_hq_256/29928.jpg  \n",
            "  inflating: celeba_hq_256/29929.jpg  \n",
            "  inflating: celeba_hq_256/29930.jpg  \n",
            "  inflating: celeba_hq_256/29931.jpg  \n",
            "  inflating: celeba_hq_256/29932.jpg  \n",
            "  inflating: celeba_hq_256/29933.jpg  \n",
            "  inflating: celeba_hq_256/29934.jpg  \n",
            "  inflating: celeba_hq_256/29935.jpg  \n",
            "  inflating: celeba_hq_256/29936.jpg  \n",
            "  inflating: celeba_hq_256/29937.jpg  \n",
            "  inflating: celeba_hq_256/29938.jpg  \n",
            "  inflating: celeba_hq_256/29939.jpg  \n",
            "  inflating: celeba_hq_256/29940.jpg  \n",
            "  inflating: celeba_hq_256/29941.jpg  \n",
            "  inflating: celeba_hq_256/29942.jpg  \n",
            "  inflating: celeba_hq_256/29943.jpg  \n",
            "  inflating: celeba_hq_256/29944.jpg  \n",
            "  inflating: celeba_hq_256/29945.jpg  \n",
            "  inflating: celeba_hq_256/29946.jpg  \n",
            "  inflating: celeba_hq_256/29947.jpg  \n",
            "  inflating: celeba_hq_256/29948.jpg  \n",
            "  inflating: celeba_hq_256/29949.jpg  \n",
            "  inflating: celeba_hq_256/29950.jpg  \n",
            "  inflating: celeba_hq_256/29951.jpg  \n",
            "  inflating: celeba_hq_256/29952.jpg  \n",
            "  inflating: celeba_hq_256/29953.jpg  \n",
            "  inflating: celeba_hq_256/29954.jpg  \n",
            "  inflating: celeba_hq_256/29955.jpg  \n",
            "  inflating: celeba_hq_256/29956.jpg  \n",
            "  inflating: celeba_hq_256/29957.jpg  \n",
            "  inflating: celeba_hq_256/29958.jpg  \n",
            "  inflating: celeba_hq_256/29959.jpg  \n",
            "  inflating: celeba_hq_256/29960.jpg  \n",
            "  inflating: celeba_hq_256/29961.jpg  \n",
            "  inflating: celeba_hq_256/29962.jpg  \n",
            "  inflating: celeba_hq_256/29963.jpg  \n",
            "  inflating: celeba_hq_256/29964.jpg  \n",
            "  inflating: celeba_hq_256/29965.jpg  \n",
            "  inflating: celeba_hq_256/29966.jpg  \n",
            "  inflating: celeba_hq_256/29967.jpg  \n",
            "  inflating: celeba_hq_256/29968.jpg  \n",
            "  inflating: celeba_hq_256/29969.jpg  \n",
            "  inflating: celeba_hq_256/29970.jpg  \n",
            "  inflating: celeba_hq_256/29971.jpg  \n",
            "  inflating: celeba_hq_256/29972.jpg  \n",
            "  inflating: celeba_hq_256/29973.jpg  \n",
            "  inflating: celeba_hq_256/29974.jpg  \n",
            "  inflating: celeba_hq_256/29975.jpg  \n",
            "  inflating: celeba_hq_256/29976.jpg  \n",
            "  inflating: celeba_hq_256/29977.jpg  \n",
            "  inflating: celeba_hq_256/29978.jpg  \n",
            "  inflating: celeba_hq_256/29979.jpg  \n",
            "  inflating: celeba_hq_256/29980.jpg  \n",
            "  inflating: celeba_hq_256/29981.jpg  \n",
            "  inflating: celeba_hq_256/29982.jpg  \n",
            "  inflating: celeba_hq_256/29983.jpg  \n",
            "  inflating: celeba_hq_256/29984.jpg  \n",
            "  inflating: celeba_hq_256/29985.jpg  \n",
            "  inflating: celeba_hq_256/29986.jpg  \n",
            "  inflating: celeba_hq_256/29987.jpg  \n",
            "  inflating: celeba_hq_256/29988.jpg  \n",
            "  inflating: celeba_hq_256/29989.jpg  \n",
            "  inflating: celeba_hq_256/29990.jpg  \n",
            "  inflating: celeba_hq_256/29991.jpg  \n",
            "  inflating: celeba_hq_256/29992.jpg  \n",
            "  inflating: celeba_hq_256/29993.jpg  \n",
            "  inflating: celeba_hq_256/29994.jpg  \n",
            "  inflating: celeba_hq_256/29995.jpg  \n",
            "  inflating: celeba_hq_256/29996.jpg  \n",
            "  inflating: celeba_hq_256/29997.jpg  \n",
            "  inflating: celeba_hq_256/29998.jpg  \n",
            "  inflating: celeba_hq_256/29999.jpg  \n"
          ]
        }
      ],
      "source": [
        "!unzip celeba_hq_256.zip"
      ]
    },
    {
      "cell_type": "code",
      "execution_count": 4,
      "metadata": {
        "colab": {
          "base_uri": "https://localhost:8080/"
        },
        "id": "mEixZv6kBB3G",
        "outputId": "73b7dd23-da50-488d-99d0-68d1a24c76f8"
      },
      "outputs": [
        {
          "output_type": "execute_result",
          "data": {
            "text/plain": [
              "30000"
            ]
          },
          "metadata": {},
          "execution_count": 4
        }
      ],
      "source": [
        "import os\n",
        "\n",
        "file_names = os.listdir('./celeba_hq_256')\n",
        "img_paths = ['./celeba_hq_256/' + file_name for file_name in file_names]\n",
        "len(img_paths)"
      ]
    },
    {
      "cell_type": "code",
      "execution_count": 5,
      "metadata": {
        "id": "j42j1MSoBB3I"
      },
      "outputs": [],
      "source": [
        "import random\n",
        "\n",
        "sample_size = int(len(img_paths) * 0.9)\n",
        "train_imgpaths = random.sample(img_paths, sample_size)\n",
        "val_imgpaths = [img_path for img_path in img_paths if img_path not in train_imgpaths]\n",
        "train_imgpaths = img_paths[:100]\n",
        "val_imgpaths = img_paths[:50]"
      ]
    },
    {
      "cell_type": "code",
      "execution_count": 6,
      "metadata": {
        "colab": {
          "base_uri": "https://localhost:8080/"
        },
        "id": "nr31fC8OBB3J",
        "outputId": "6b1c6f8a-8898-47c5-885d-08df116a3669"
      },
      "outputs": [
        {
          "output_type": "execute_result",
          "data": {
            "text/plain": [
              "(100, 50)"
            ]
          },
          "metadata": {},
          "execution_count": 6
        }
      ],
      "source": [
        "len(train_imgpaths), len(val_imgpaths)"
      ]
    },
    {
      "cell_type": "code",
      "execution_count": 7,
      "metadata": {
        "id": "IB1-rgxqBB3L"
      },
      "outputs": [],
      "source": [
        "import numpy as np\n",
        "\n",
        "def bbox2mask(img_shape, bbox, dtype='uint8'):\n",
        "    \"\"\"\n",
        "    Generate mask in ndarray from bbox.\n",
        "    bbox (tuple[int]): Configuration tuple, (top, left, height, width)\n",
        "    \"\"\"\n",
        "\n",
        "    height, width = img_shape[:2]\n",
        "\n",
        "    mask = np.zeros((height, width, 1), dtype=dtype)\n",
        "    mask[bbox[0]:bbox[0] + bbox[2], bbox[1]:bbox[1] + bbox[3], :] = 1\n",
        "\n",
        "    return mask"
      ]
    },
    {
      "cell_type": "code",
      "execution_count": 8,
      "metadata": {
        "id": "Lk2c77YEBB3M"
      },
      "outputs": [],
      "source": [
        "import torch\n",
        "from PIL import Image\n",
        "from torchvision import transforms\n",
        "from torch.utils.data import Dataset\n",
        "\n",
        "class InpaintingDataset(Dataset):\n",
        "    def __init__(self, img_paths, image_size=[256, 256]):\n",
        "        self.img_paths = img_paths\n",
        "        self.tfs = transforms.Compose([\n",
        "                transforms.Resize((image_size[0], image_size[1])),\n",
        "                transforms.ToTensor(),\n",
        "                # transforms.Normalize(mean=[0.5, 0.5, 0.5], std=[0.5,0.5, 0.5])\n",
        "        ])\n",
        "        self.image_size = image_size\n",
        "\n",
        "    def __getitem__(self, index):\n",
        "        img_path = self.img_paths[index]\n",
        "        img = Image.open(img_path).convert('RGB')\n",
        "        img = self.tfs(img)\n",
        "        mask = self.get_mask()\n",
        "        cond_image = img*(1. - mask) + mask*torch.randn_like(img)\n",
        "        mask_img = img*(1. - mask) + mask\n",
        "        return {\n",
        "            'gt_image': img,\n",
        "            'cond_image': cond_image,\n",
        "            'mask_image': mask_img,\n",
        "            'mask': mask,\n",
        "            'path': img_path\n",
        "        }\n",
        "\n",
        "    def __len__(self):\n",
        "        return len(self.img_paths)\n",
        "\n",
        "    def get_mask(self):\n",
        "        # Center mask\n",
        "        h, w = self.image_size\n",
        "        mask = bbox2mask(self.image_size, (h//4, w//4, h//4, w//4))\n",
        "        return torch.from_numpy(mask).permute(2,0,1)"
      ]
    },
    {
      "cell_type": "code",
      "execution_count": 10,
      "metadata": {
        "id": "DZFVlpekBB3O"
      },
      "outputs": [],
      "source": [
        "train_dataset = InpaintingDataset(train_imgpaths)\n",
        "val_dataset = InpaintingDataset(val_imgpaths)"
      ]
    },
    {
      "cell_type": "code",
      "execution_count": 11,
      "metadata": {
        "id": "JOW7FOcGBB3P"
      },
      "outputs": [],
      "source": [
        "sample = next(iter(train_dataset))"
      ]
    },
    {
      "cell_type": "code",
      "execution_count": 12,
      "metadata": {
        "colab": {
          "base_uri": "https://localhost:8080/",
          "height": 314
        },
        "id": "n73v3EUZBB3Q",
        "outputId": "f0d50a30-059a-468f-c035-009eeb068e67"
      },
      "outputs": [
        {
          "output_type": "display_data",
          "data": {
            "text/plain": [
              "<Figure size 640x480 with 1 Axes>"
            ],
            "image/png": "[encoded data removed]"
          },
          "metadata": {}
        }
      ],
      "source": [
        "import matplotlib.pyplot as plt\n",
        "from torchvision.transforms import ToPILImage\n",
        "from torchvision.utils import make_grid\n",
        "\n",
        "grid = make_grid([sample['cond_image'], sample['gt_image']])\n",
        "img = ToPILImage()(grid)\n",
        "plt.imshow(img)\n",
        "plt.show()"
      ]
    },
    {
      "cell_type": "code",
      "execution_count": 13,
      "metadata": {
        "id": "P5N3v9P6BB3Q"
      },
      "outputs": [],
      "source": [
        "batch_size = 64\n",
        "\n",
        "train_loader = torch.utils.data.DataLoader(\n",
        "    train_dataset, batch_size=batch_size, shuffle=True, drop_last=True\n",
        ")"
      ]
    },
    {
      "cell_type": "code",
      "execution_count": 14,
      "metadata": {
        "colab": {
          "base_uri": "https://localhost:8080/"
        },
        "id": "BhWSwukWBB3R",
        "outputId": "2f3a1e04-b80b-4636-bb2c-4dc4b64e89b9"
      },
      "outputs": [
        {
          "output_type": "execute_result",
          "data": {
            "text/plain": [
              "1"
            ]
          },
          "metadata": {},
          "execution_count": 14
        }
      ],
      "source": [
        "len(train_loader)"
      ]
    },
    {
      "cell_type": "markdown",
      "metadata": {
        "id": "90LAwWPIBB3R"
      },
      "source": [
        "# Training"
      ]
    },
    {
      "cell_type": "code",
      "execution_count": 15,
      "metadata": {
        "id": "hdDTilrzBB3S"
      },
      "outputs": [],
      "source": [
        "! pip install -q torchcfm"
      ]
    },
    {
      "cell_type": "code",
      "execution_count": 16,
      "metadata": {
        "id": "ZXTWCuLmBB3S"
      },
      "outputs": [],
      "source": [
        "from torchcfm.models.unet import UNetModel\n",
        "device = torch.device(\"cuda\" if torch.cuda.is_available() else \"cpu\")\n",
        "model = UNetModel(dim=(3, 256, 256), num_channels=32, num_res_blocks=1).to(device)\n",
        "optimizer = torch.optim.Adam(model.parameters())"
      ]
    },
    {
      "cell_type": "code",
      "source": [
        "n_epochs = 1\n",
        "\n",
        "from tqdm import tqdm\n",
        "for epoch in range(n_epochs):\n",
        "    losses = []\n",
        "    for i, data in tqdm(enumerate(train_loader)):\n",
        "        optimizer.zero_grad()\n",
        "\n",
        "        x1 = data['gt_image'].to(device)\n",
        "        mask = data['mask'].to(device)\n",
        "\n",
        "        x0 = torch.randn_like(x1).to(device)\n",
        "        x_noise = (1.0-mask)*x1 + mask*x0\n",
        "\n",
        "        t = torch.rand(x0.shape[0], 1, 1, 1).to(device)\n",
        "\n",
        "        xt = t * x1 + (1 - t) * x_noise\n",
        "        ut = x1 - x_noise\n",
        "\n",
        "        t = t.squeeze()\n",
        "\n",
        "        x_cond = xt*mask + (1.0-mask)*x1\n",
        "\n",
        "        vt = model(t, x_cond)\n",
        "\n",
        "        loss = torch.mean(((vt - ut) ** 2)*mask)\n",
        "\n",
        "        loss.backward()\n",
        "        optimizer.step()\n",
        "        losses.append(loss.item())\n",
        "\n",
        "    avg_loss = sum(losses) / len(losses)\n",
        "    print(f\"epoch: {epoch}, loss: {avg_loss:.4}\")"
      ],
      "metadata": {
        "colab": {
          "base_uri": "https://localhost:8080/"
        },
        "id": "oNF4tz12HE7F",
        "outputId": "a49384f7-44c7-463b-efc0-0c9914424ca3"
      },
      "execution_count": 17,
      "outputs": [
        {
          "output_type": "stream",
          "name": "stderr",
          "text": [
            "1it [00:01,  1.39s/it]"
          ]
        },
        {
          "output_type": "stream",
          "name": "stdout",
          "text": [
            "epoch: 0, loss: 0.0813\n"
          ]
        },
        {
          "output_type": "stream",
          "name": "stderr",
          "text": [
            "\n"
          ]
        }
      ]
    },
    {
      "cell_type": "code",
      "execution_count": 18,
      "metadata": {
        "id": "m7m9OMEYBB3S",
        "colab": {
          "base_uri": "https://localhost:8080/"
        },
        "outputId": "c7983b67-5919-40b1-ea7c-e31c7f0700ef"
      },
      "outputs": [
        {
          "output_type": "stream",
          "name": "stderr",
          "text": [
            "1it [00:00,  1.72it/s]\n"
          ]
        },
        {
          "output_type": "stream",
          "name": "stdout",
          "text": [
            "epoch: 0, loss: 0.07167\n"
          ]
        },
        {
          "output_type": "stream",
          "name": "stderr",
          "text": [
            "1it [00:00,  1.99it/s]\n"
          ]
        },
        {
          "output_type": "stream",
          "name": "stdout",
          "text": [
            "epoch: 1, loss: 0.08347\n"
          ]
        },
        {
          "output_type": "stream",
          "name": "stderr",
          "text": [
            "1it [00:00,  1.98it/s]\n"
          ]
        },
        {
          "output_type": "stream",
          "name": "stdout",
          "text": [
            "epoch: 2, loss: 0.06788\n"
          ]
        },
        {
          "output_type": "stream",
          "name": "stderr",
          "text": [
            "1it [00:00,  1.97it/s]\n"
          ]
        },
        {
          "output_type": "stream",
          "name": "stdout",
          "text": [
            "epoch: 3, loss: 0.06567\n"
          ]
        },
        {
          "output_type": "stream",
          "name": "stderr",
          "text": [
            "1it [00:00,  2.01it/s]\n"
          ]
        },
        {
          "output_type": "stream",
          "name": "stdout",
          "text": [
            "epoch: 4, loss: 0.06177\n"
          ]
        },
        {
          "output_type": "stream",
          "name": "stderr",
          "text": [
            "1it [00:00,  1.96it/s]\n"
          ]
        },
        {
          "output_type": "stream",
          "name": "stdout",
          "text": [
            "epoch: 5, loss: 0.05713\n"
          ]
        },
        {
          "output_type": "stream",
          "name": "stderr",
          "text": [
            "1it [00:00,  1.99it/s]\n"
          ]
        },
        {
          "output_type": "stream",
          "name": "stdout",
          "text": [
            "epoch: 6, loss: 0.05483\n"
          ]
        },
        {
          "output_type": "stream",
          "name": "stderr",
          "text": [
            "1it [00:00,  1.98it/s]\n"
          ]
        },
        {
          "output_type": "stream",
          "name": "stdout",
          "text": [
            "epoch: 7, loss: 0.05215\n"
          ]
        },
        {
          "output_type": "stream",
          "name": "stderr",
          "text": [
            "1it [00:00,  2.01it/s]\n"
          ]
        },
        {
          "output_type": "stream",
          "name": "stdout",
          "text": [
            "epoch: 8, loss: 0.0496\n"
          ]
        },
        {
          "output_type": "stream",
          "name": "stderr",
          "text": [
            "1it [00:00,  1.99it/s]\n"
          ]
        },
        {
          "output_type": "stream",
          "name": "stdout",
          "text": [
            "epoch: 9, loss: 0.04799\n"
          ]
        },
        {
          "output_type": "stream",
          "name": "stderr",
          "text": [
            "1it [00:00,  1.99it/s]\n"
          ]
        },
        {
          "output_type": "stream",
          "name": "stdout",
          "text": [
            "epoch: 10, loss: 0.0424\n"
          ]
        },
        {
          "output_type": "stream",
          "name": "stderr",
          "text": [
            "1it [00:00,  1.99it/s]\n"
          ]
        },
        {
          "output_type": "stream",
          "name": "stdout",
          "text": [
            "epoch: 11, loss: 0.037\n"
          ]
        },
        {
          "output_type": "stream",
          "name": "stderr",
          "text": [
            "1it [00:00,  1.94it/s]\n"
          ]
        },
        {
          "output_type": "stream",
          "name": "stdout",
          "text": [
            "epoch: 12, loss: 0.03652\n"
          ]
        },
        {
          "output_type": "stream",
          "name": "stderr",
          "text": [
            "1it [00:00,  1.81it/s]\n"
          ]
        },
        {
          "output_type": "stream",
          "name": "stdout",
          "text": [
            "epoch: 13, loss: 0.03362\n"
          ]
        },
        {
          "output_type": "stream",
          "name": "stderr",
          "text": [
            "1it [00:00,  1.78it/s]\n"
          ]
        },
        {
          "output_type": "stream",
          "name": "stdout",
          "text": [
            "epoch: 14, loss: 0.03168\n"
          ]
        },
        {
          "output_type": "stream",
          "name": "stderr",
          "text": [
            "1it [00:00,  1.80it/s]\n"
          ]
        },
        {
          "output_type": "stream",
          "name": "stdout",
          "text": [
            "epoch: 15, loss: 0.02761\n"
          ]
        },
        {
          "output_type": "stream",
          "name": "stderr",
          "text": [
            "1it [00:00,  1.99it/s]\n"
          ]
        },
        {
          "output_type": "stream",
          "name": "stdout",
          "text": [
            "epoch: 16, loss: 0.02687\n"
          ]
        },
        {
          "output_type": "stream",
          "name": "stderr",
          "text": [
            "1it [00:00,  1.97it/s]\n"
          ]
        },
        {
          "output_type": "stream",
          "name": "stdout",
          "text": [
            "epoch: 17, loss: 0.02861\n"
          ]
        },
        {
          "output_type": "stream",
          "name": "stderr",
          "text": [
            "1it [00:00,  1.94it/s]\n"
          ]
        },
        {
          "output_type": "stream",
          "name": "stdout",
          "text": [
            "epoch: 18, loss: 0.02021\n"
          ]
        },
        {
          "output_type": "stream",
          "name": "stderr",
          "text": [
            "1it [00:00,  1.97it/s]\n"
          ]
        },
        {
          "output_type": "stream",
          "name": "stdout",
          "text": [
            "epoch: 19, loss: 0.01882\n"
          ]
        },
        {
          "output_type": "stream",
          "name": "stderr",
          "text": [
            "1it [00:00,  1.98it/s]\n"
          ]
        },
        {
          "output_type": "stream",
          "name": "stdout",
          "text": [
            "epoch: 20, loss: 0.01651\n"
          ]
        },
        {
          "output_type": "stream",
          "name": "stderr",
          "text": [
            "1it [00:00,  1.99it/s]\n"
          ]
        },
        {
          "output_type": "stream",
          "name": "stdout",
          "text": [
            "epoch: 21, loss: 0.0176\n"
          ]
        },
        {
          "output_type": "stream",
          "name": "stderr",
          "text": [
            "1it [00:00,  1.97it/s]\n"
          ]
        },
        {
          "output_type": "stream",
          "name": "stdout",
          "text": [
            "epoch: 22, loss: 0.01384\n"
          ]
        },
        {
          "output_type": "stream",
          "name": "stderr",
          "text": [
            "1it [00:00,  1.98it/s]\n"
          ]
        },
        {
          "output_type": "stream",
          "name": "stdout",
          "text": [
            "epoch: 23, loss: 0.01445\n"
          ]
        },
        {
          "output_type": "stream",
          "name": "stderr",
          "text": [
            "1it [00:00,  1.98it/s]\n"
          ]
        },
        {
          "output_type": "stream",
          "name": "stdout",
          "text": [
            "epoch: 24, loss: 0.01441\n"
          ]
        },
        {
          "output_type": "stream",
          "name": "stderr",
          "text": [
            "1it [00:00,  1.99it/s]\n"
          ]
        },
        {
          "output_type": "stream",
          "name": "stdout",
          "text": [
            "epoch: 25, loss: 0.01401\n"
          ]
        },
        {
          "output_type": "stream",
          "name": "stderr",
          "text": [
            "1it [00:00,  1.94it/s]\n"
          ]
        },
        {
          "output_type": "stream",
          "name": "stdout",
          "text": [
            "epoch: 26, loss: 0.01309\n"
          ]
        },
        {
          "output_type": "stream",
          "name": "stderr",
          "text": [
            "1it [00:00,  2.00it/s]\n"
          ]
        },
        {
          "output_type": "stream",
          "name": "stdout",
          "text": [
            "epoch: 27, loss: 0.01548\n"
          ]
        },
        {
          "output_type": "stream",
          "name": "stderr",
          "text": [
            "1it [00:00,  1.97it/s]\n"
          ]
        },
        {
          "output_type": "stream",
          "name": "stdout",
          "text": [
            "epoch: 28, loss: 0.01276\n"
          ]
        },
        {
          "output_type": "stream",
          "name": "stderr",
          "text": [
            "1it [00:00,  2.01it/s]\n"
          ]
        },
        {
          "output_type": "stream",
          "name": "stdout",
          "text": [
            "epoch: 29, loss: 0.01386\n"
          ]
        },
        {
          "output_type": "stream",
          "name": "stderr",
          "text": [
            "1it [00:00,  1.97it/s]\n"
          ]
        },
        {
          "output_type": "stream",
          "name": "stdout",
          "text": [
            "epoch: 30, loss: 0.01318\n"
          ]
        },
        {
          "output_type": "stream",
          "name": "stderr",
          "text": [
            "1it [00:00,  2.00it/s]\n"
          ]
        },
        {
          "output_type": "stream",
          "name": "stdout",
          "text": [
            "epoch: 31, loss: 0.009008\n"
          ]
        },
        {
          "output_type": "stream",
          "name": "stderr",
          "text": [
            "1it [00:00,  1.84it/s]\n"
          ]
        },
        {
          "output_type": "stream",
          "name": "stdout",
          "text": [
            "epoch: 32, loss: 0.01135\n"
          ]
        },
        {
          "output_type": "stream",
          "name": "stderr",
          "text": [
            "1it [00:00,  1.96it/s]\n"
          ]
        },
        {
          "output_type": "stream",
          "name": "stdout",
          "text": [
            "epoch: 33, loss: 0.01119\n"
          ]
        },
        {
          "output_type": "stream",
          "name": "stderr",
          "text": [
            "1it [00:00,  1.99it/s]\n"
          ]
        },
        {
          "output_type": "stream",
          "name": "stdout",
          "text": [
            "epoch: 34, loss: 0.01308\n"
          ]
        },
        {
          "output_type": "stream",
          "name": "stderr",
          "text": [
            "1it [00:00,  1.83it/s]\n"
          ]
        },
        {
          "output_type": "stream",
          "name": "stdout",
          "text": [
            "epoch: 35, loss: 0.01118\n"
          ]
        },
        {
          "output_type": "stream",
          "name": "stderr",
          "text": [
            "1it [00:00,  1.94it/s]\n"
          ]
        },
        {
          "output_type": "stream",
          "name": "stdout",
          "text": [
            "epoch: 36, loss: 0.01148\n"
          ]
        },
        {
          "output_type": "stream",
          "name": "stderr",
          "text": [
            "1it [00:00,  1.84it/s]\n"
          ]
        },
        {
          "output_type": "stream",
          "name": "stdout",
          "text": [
            "epoch: 37, loss: 0.01168\n"
          ]
        },
        {
          "output_type": "stream",
          "name": "stderr",
          "text": [
            "1it [00:00,  1.90it/s]\n"
          ]
        },
        {
          "output_type": "stream",
          "name": "stdout",
          "text": [
            "epoch: 38, loss: 0.01228\n"
          ]
        },
        {
          "output_type": "stream",
          "name": "stderr",
          "text": [
            "1it [00:00,  1.97it/s]\n"
          ]
        },
        {
          "output_type": "stream",
          "name": "stdout",
          "text": [
            "epoch: 39, loss: 0.009538\n"
          ]
        },
        {
          "output_type": "stream",
          "name": "stderr",
          "text": [
            "1it [00:00,  1.96it/s]\n"
          ]
        },
        {
          "output_type": "stream",
          "name": "stdout",
          "text": [
            "epoch: 40, loss: 0.00954\n"
          ]
        },
        {
          "output_type": "stream",
          "name": "stderr",
          "text": [
            "1it [00:00,  1.90it/s]\n"
          ]
        },
        {
          "output_type": "stream",
          "name": "stdout",
          "text": [
            "epoch: 41, loss: 0.008627\n"
          ]
        },
        {
          "output_type": "stream",
          "name": "stderr",
          "text": [
            "1it [00:00,  2.01it/s]\n"
          ]
        },
        {
          "output_type": "stream",
          "name": "stdout",
          "text": [
            "epoch: 42, loss: 0.009819\n"
          ]
        },
        {
          "output_type": "stream",
          "name": "stderr",
          "text": [
            "1it [00:00,  2.00it/s]\n"
          ]
        },
        {
          "output_type": "stream",
          "name": "stdout",
          "text": [
            "epoch: 43, loss: 0.009258\n"
          ]
        },
        {
          "output_type": "stream",
          "name": "stderr",
          "text": [
            "1it [00:00,  1.98it/s]\n"
          ]
        },
        {
          "output_type": "stream",
          "name": "stdout",
          "text": [
            "epoch: 44, loss: 0.008975\n"
          ]
        },
        {
          "output_type": "stream",
          "name": "stderr",
          "text": [
            "1it [00:00,  1.94it/s]\n"
          ]
        },
        {
          "output_type": "stream",
          "name": "stdout",
          "text": [
            "epoch: 45, loss: 0.009055\n"
          ]
        },
        {
          "output_type": "stream",
          "name": "stderr",
          "text": [
            "1it [00:00,  1.98it/s]\n"
          ]
        },
        {
          "output_type": "stream",
          "name": "stdout",
          "text": [
            "epoch: 46, loss: 0.009462\n"
          ]
        },
        {
          "output_type": "stream",
          "name": "stderr",
          "text": [
            "1it [00:00,  1.96it/s]\n"
          ]
        },
        {
          "output_type": "stream",
          "name": "stdout",
          "text": [
            "epoch: 47, loss: 0.0102\n"
          ]
        },
        {
          "output_type": "stream",
          "name": "stderr",
          "text": [
            "1it [00:00,  1.94it/s]\n"
          ]
        },
        {
          "output_type": "stream",
          "name": "stdout",
          "text": [
            "epoch: 48, loss: 0.009958\n"
          ]
        },
        {
          "output_type": "stream",
          "name": "stderr",
          "text": [
            "1it [00:00,  1.99it/s]\n"
          ]
        },
        {
          "output_type": "stream",
          "name": "stdout",
          "text": [
            "epoch: 49, loss: 0.007996\n"
          ]
        },
        {
          "output_type": "stream",
          "name": "stderr",
          "text": [
            "1it [00:00,  1.95it/s]\n"
          ]
        },
        {
          "output_type": "stream",
          "name": "stdout",
          "text": [
            "epoch: 50, loss: 0.005931\n"
          ]
        },
        {
          "output_type": "stream",
          "name": "stderr",
          "text": [
            "1it [00:00,  1.97it/s]\n"
          ]
        },
        {
          "output_type": "stream",
          "name": "stdout",
          "text": [
            "epoch: 51, loss: 0.007863\n"
          ]
        },
        {
          "output_type": "stream",
          "name": "stderr",
          "text": [
            "1it [00:00,  1.97it/s]\n"
          ]
        },
        {
          "output_type": "stream",
          "name": "stdout",
          "text": [
            "epoch: 52, loss: 0.006306\n"
          ]
        },
        {
          "output_type": "stream",
          "name": "stderr",
          "text": [
            "1it [00:00,  2.00it/s]\n"
          ]
        },
        {
          "output_type": "stream",
          "name": "stdout",
          "text": [
            "epoch: 53, loss: 0.006439\n"
          ]
        },
        {
          "output_type": "stream",
          "name": "stderr",
          "text": [
            "1it [00:00,  1.86it/s]\n"
          ]
        },
        {
          "output_type": "stream",
          "name": "stdout",
          "text": [
            "epoch: 54, loss: 0.004751\n"
          ]
        },
        {
          "output_type": "stream",
          "name": "stderr",
          "text": [
            "1it [00:00,  1.99it/s]\n"
          ]
        },
        {
          "output_type": "stream",
          "name": "stdout",
          "text": [
            "epoch: 55, loss: 0.00718\n"
          ]
        },
        {
          "output_type": "stream",
          "name": "stderr",
          "text": [
            "1it [00:00,  1.96it/s]\n"
          ]
        },
        {
          "output_type": "stream",
          "name": "stdout",
          "text": [
            "epoch: 56, loss: 0.008216\n"
          ]
        },
        {
          "output_type": "stream",
          "name": "stderr",
          "text": [
            "1it [00:00,  1.98it/s]\n"
          ]
        },
        {
          "output_type": "stream",
          "name": "stdout",
          "text": [
            "epoch: 57, loss: 0.004477\n"
          ]
        },
        {
          "output_type": "stream",
          "name": "stderr",
          "text": [
            "1it [00:00,  1.93it/s]\n"
          ]
        },
        {
          "output_type": "stream",
          "name": "stdout",
          "text": [
            "epoch: 58, loss: 0.00922\n"
          ]
        },
        {
          "output_type": "stream",
          "name": "stderr",
          "text": [
            "1it [00:00,  1.88it/s]\n"
          ]
        },
        {
          "output_type": "stream",
          "name": "stdout",
          "text": [
            "epoch: 59, loss: 0.008905\n"
          ]
        },
        {
          "output_type": "stream",
          "name": "stderr",
          "text": [
            "1it [00:00,  1.93it/s]\n"
          ]
        },
        {
          "output_type": "stream",
          "name": "stdout",
          "text": [
            "epoch: 60, loss: 0.007248\n"
          ]
        },
        {
          "output_type": "stream",
          "name": "stderr",
          "text": [
            "1it [00:00,  1.94it/s]\n"
          ]
        },
        {
          "output_type": "stream",
          "name": "stdout",
          "text": [
            "epoch: 61, loss: 0.006263\n"
          ]
        },
        {
          "output_type": "stream",
          "name": "stderr",
          "text": [
            "1it [00:00,  1.97it/s]\n"
          ]
        },
        {
          "output_type": "stream",
          "name": "stdout",
          "text": [
            "epoch: 62, loss: 0.009168\n"
          ]
        },
        {
          "output_type": "stream",
          "name": "stderr",
          "text": [
            "1it [00:00,  1.94it/s]\n"
          ]
        },
        {
          "output_type": "stream",
          "name": "stdout",
          "text": [
            "epoch: 63, loss: 0.006047\n"
          ]
        },
        {
          "output_type": "stream",
          "name": "stderr",
          "text": [
            "1it [00:00,  1.99it/s]\n"
          ]
        },
        {
          "output_type": "stream",
          "name": "stdout",
          "text": [
            "epoch: 64, loss: 0.00592\n"
          ]
        },
        {
          "output_type": "stream",
          "name": "stderr",
          "text": [
            "1it [00:00,  1.95it/s]\n"
          ]
        },
        {
          "output_type": "stream",
          "name": "stdout",
          "text": [
            "epoch: 65, loss: 0.009002\n"
          ]
        },
        {
          "output_type": "stream",
          "name": "stderr",
          "text": [
            "1it [00:00,  1.99it/s]\n"
          ]
        },
        {
          "output_type": "stream",
          "name": "stdout",
          "text": [
            "epoch: 66, loss: 0.008239\n"
          ]
        },
        {
          "output_type": "stream",
          "name": "stderr",
          "text": [
            "1it [00:00,  1.99it/s]\n"
          ]
        },
        {
          "output_type": "stream",
          "name": "stdout",
          "text": [
            "epoch: 67, loss: 0.005884\n"
          ]
        },
        {
          "output_type": "stream",
          "name": "stderr",
          "text": [
            "1it [00:00,  1.99it/s]\n"
          ]
        },
        {
          "output_type": "stream",
          "name": "stdout",
          "text": [
            "epoch: 68, loss: 0.006203\n"
          ]
        },
        {
          "output_type": "stream",
          "name": "stderr",
          "text": [
            "1it [00:00,  1.99it/s]\n"
          ]
        },
        {
          "output_type": "stream",
          "name": "stdout",
          "text": [
            "epoch: 69, loss: 0.005111\n"
          ]
        },
        {
          "output_type": "stream",
          "name": "stderr",
          "text": [
            "1it [00:00,  1.96it/s]\n"
          ]
        },
        {
          "output_type": "stream",
          "name": "stdout",
          "text": [
            "epoch: 70, loss: 0.005462\n"
          ]
        },
        {
          "output_type": "stream",
          "name": "stderr",
          "text": [
            "1it [00:00,  1.99it/s]\n"
          ]
        },
        {
          "output_type": "stream",
          "name": "stdout",
          "text": [
            "epoch: 71, loss: 0.004668\n"
          ]
        },
        {
          "output_type": "stream",
          "name": "stderr",
          "text": [
            "1it [00:00,  1.99it/s]\n"
          ]
        },
        {
          "output_type": "stream",
          "name": "stdout",
          "text": [
            "epoch: 72, loss: 0.006821\n"
          ]
        },
        {
          "output_type": "stream",
          "name": "stderr",
          "text": [
            "1it [00:00,  1.89it/s]\n"
          ]
        },
        {
          "output_type": "stream",
          "name": "stdout",
          "text": [
            "epoch: 73, loss: 0.004037\n"
          ]
        },
        {
          "output_type": "stream",
          "name": "stderr",
          "text": [
            "1it [00:00,  1.98it/s]\n"
          ]
        },
        {
          "output_type": "stream",
          "name": "stdout",
          "text": [
            "epoch: 74, loss: 0.006277\n"
          ]
        },
        {
          "output_type": "stream",
          "name": "stderr",
          "text": [
            "1it [00:00,  1.97it/s]\n"
          ]
        },
        {
          "output_type": "stream",
          "name": "stdout",
          "text": [
            "epoch: 75, loss: 0.00698\n"
          ]
        },
        {
          "output_type": "stream",
          "name": "stderr",
          "text": [
            "1it [00:00,  1.96it/s]\n"
          ]
        },
        {
          "output_type": "stream",
          "name": "stdout",
          "text": [
            "epoch: 76, loss: 0.004716\n"
          ]
        },
        {
          "output_type": "stream",
          "name": "stderr",
          "text": [
            "1it [00:00,  1.98it/s]\n"
          ]
        },
        {
          "output_type": "stream",
          "name": "stdout",
          "text": [
            "epoch: 77, loss: 0.004905\n"
          ]
        },
        {
          "output_type": "stream",
          "name": "stderr",
          "text": [
            "1it [00:00,  1.94it/s]\n"
          ]
        },
        {
          "output_type": "stream",
          "name": "stdout",
          "text": [
            "epoch: 78, loss: 0.00505\n"
          ]
        },
        {
          "output_type": "stream",
          "name": "stderr",
          "text": [
            "1it [00:00,  2.00it/s]\n"
          ]
        },
        {
          "output_type": "stream",
          "name": "stdout",
          "text": [
            "epoch: 79, loss: 0.005925\n"
          ]
        },
        {
          "output_type": "stream",
          "name": "stderr",
          "text": [
            "1it [00:00,  1.93it/s]\n"
          ]
        },
        {
          "output_type": "stream",
          "name": "stdout",
          "text": [
            "epoch: 80, loss: 0.006276\n"
          ]
        },
        {
          "output_type": "stream",
          "name": "stderr",
          "text": [
            "1it [00:00,  1.90it/s]\n"
          ]
        },
        {
          "output_type": "stream",
          "name": "stdout",
          "text": [
            "epoch: 81, loss: 0.007225\n"
          ]
        },
        {
          "output_type": "stream",
          "name": "stderr",
          "text": [
            "1it [00:00,  1.96it/s]\n"
          ]
        },
        {
          "output_type": "stream",
          "name": "stdout",
          "text": [
            "epoch: 82, loss: 0.006226\n"
          ]
        },
        {
          "output_type": "stream",
          "name": "stderr",
          "text": [
            "1it [00:00,  1.91it/s]\n"
          ]
        },
        {
          "output_type": "stream",
          "name": "stdout",
          "text": [
            "epoch: 83, loss: 0.003897\n"
          ]
        },
        {
          "output_type": "stream",
          "name": "stderr",
          "text": [
            "1it [00:00,  1.97it/s]\n"
          ]
        },
        {
          "output_type": "stream",
          "name": "stdout",
          "text": [
            "epoch: 84, loss: 0.004532\n"
          ]
        },
        {
          "output_type": "stream",
          "name": "stderr",
          "text": [
            "1it [00:00,  1.96it/s]\n"
          ]
        },
        {
          "output_type": "stream",
          "name": "stdout",
          "text": [
            "epoch: 85, loss: 0.005741\n"
          ]
        },
        {
          "output_type": "stream",
          "name": "stderr",
          "text": [
            "1it [00:00,  1.96it/s]\n"
          ]
        },
        {
          "output_type": "stream",
          "name": "stdout",
          "text": [
            "epoch: 86, loss: 0.005989\n"
          ]
        },
        {
          "output_type": "stream",
          "name": "stderr",
          "text": [
            "1it [00:00,  1.99it/s]\n"
          ]
        },
        {
          "output_type": "stream",
          "name": "stdout",
          "text": [
            "epoch: 87, loss: 0.005264\n"
          ]
        },
        {
          "output_type": "stream",
          "name": "stderr",
          "text": [
            "1it [00:00,  1.94it/s]\n"
          ]
        },
        {
          "output_type": "stream",
          "name": "stdout",
          "text": [
            "epoch: 88, loss: 0.006301\n"
          ]
        },
        {
          "output_type": "stream",
          "name": "stderr",
          "text": [
            "1it [00:00,  1.99it/s]\n"
          ]
        },
        {
          "output_type": "stream",
          "name": "stdout",
          "text": [
            "epoch: 89, loss: 0.005294\n"
          ]
        },
        {
          "output_type": "stream",
          "name": "stderr",
          "text": [
            "1it [00:00,  1.99it/s]\n"
          ]
        },
        {
          "output_type": "stream",
          "name": "stdout",
          "text": [
            "epoch: 90, loss: 0.003774\n"
          ]
        },
        {
          "output_type": "stream",
          "name": "stderr",
          "text": [
            "1it [00:00,  2.00it/s]\n"
          ]
        },
        {
          "output_type": "stream",
          "name": "stdout",
          "text": [
            "epoch: 91, loss: 0.005583\n"
          ]
        },
        {
          "output_type": "stream",
          "name": "stderr",
          "text": [
            "1it [00:00,  1.92it/s]\n"
          ]
        },
        {
          "output_type": "stream",
          "name": "stdout",
          "text": [
            "epoch: 92, loss: 0.005236\n"
          ]
        },
        {
          "output_type": "stream",
          "name": "stderr",
          "text": [
            "1it [00:00,  1.98it/s]\n"
          ]
        },
        {
          "output_type": "stream",
          "name": "stdout",
          "text": [
            "epoch: 93, loss: 0.004435\n"
          ]
        },
        {
          "output_type": "stream",
          "name": "stderr",
          "text": [
            "1it [00:00,  1.99it/s]\n"
          ]
        },
        {
          "output_type": "stream",
          "name": "stdout",
          "text": [
            "epoch: 94, loss: 0.007835\n"
          ]
        },
        {
          "output_type": "stream",
          "name": "stderr",
          "text": [
            "1it [00:00,  1.87it/s]\n"
          ]
        },
        {
          "output_type": "stream",
          "name": "stdout",
          "text": [
            "epoch: 95, loss: 0.003846\n"
          ]
        },
        {
          "output_type": "stream",
          "name": "stderr",
          "text": [
            "1it [00:00,  1.97it/s]\n"
          ]
        },
        {
          "output_type": "stream",
          "name": "stdout",
          "text": [
            "epoch: 96, loss: 0.005242\n"
          ]
        },
        {
          "output_type": "stream",
          "name": "stderr",
          "text": [
            "1it [00:00,  1.99it/s]\n"
          ]
        },
        {
          "output_type": "stream",
          "name": "stdout",
          "text": [
            "epoch: 97, loss: 0.005715\n"
          ]
        },
        {
          "output_type": "stream",
          "name": "stderr",
          "text": [
            "1it [00:00,  1.99it/s]\n"
          ]
        },
        {
          "output_type": "stream",
          "name": "stdout",
          "text": [
            "epoch: 98, loss: 0.003698\n"
          ]
        },
        {
          "output_type": "stream",
          "name": "stderr",
          "text": [
            "1it [00:00,  1.96it/s]\n"
          ]
        },
        {
          "output_type": "stream",
          "name": "stdout",
          "text": [
            "epoch: 99, loss: 0.005217\n"
          ]
        },
        {
          "output_type": "stream",
          "name": "stderr",
          "text": [
            "1it [00:00,  2.00it/s]\n"
          ]
        },
        {
          "output_type": "stream",
          "name": "stdout",
          "text": [
            "epoch: 100, loss: 0.00488\n"
          ]
        },
        {
          "output_type": "stream",
          "name": "stderr",
          "text": [
            "1it [00:00,  1.96it/s]\n"
          ]
        },
        {
          "output_type": "stream",
          "name": "stdout",
          "text": [
            "epoch: 101, loss: 0.007132\n"
          ]
        },
        {
          "output_type": "stream",
          "name": "stderr",
          "text": [
            "1it [00:00,  1.97it/s]\n"
          ]
        },
        {
          "output_type": "stream",
          "name": "stdout",
          "text": [
            "epoch: 102, loss: 0.006583\n"
          ]
        },
        {
          "output_type": "stream",
          "name": "stderr",
          "text": [
            "1it [00:00,  1.99it/s]\n"
          ]
        },
        {
          "output_type": "stream",
          "name": "stdout",
          "text": [
            "epoch: 103, loss: 0.005501\n"
          ]
        },
        {
          "output_type": "stream",
          "name": "stderr",
          "text": [
            "1it [00:00,  1.94it/s]\n"
          ]
        },
        {
          "output_type": "stream",
          "name": "stdout",
          "text": [
            "epoch: 104, loss: 0.00431\n"
          ]
        },
        {
          "output_type": "stream",
          "name": "stderr",
          "text": [
            "1it [00:00,  1.79it/s]\n"
          ]
        },
        {
          "output_type": "stream",
          "name": "stdout",
          "text": [
            "epoch: 105, loss: 0.005058\n"
          ]
        },
        {
          "output_type": "stream",
          "name": "stderr",
          "text": [
            "1it [00:00,  1.90it/s]\n"
          ]
        },
        {
          "output_type": "stream",
          "name": "stdout",
          "text": [
            "epoch: 106, loss: 0.006982\n"
          ]
        },
        {
          "output_type": "stream",
          "name": "stderr",
          "text": [
            "1it [00:00,  1.81it/s]\n"
          ]
        },
        {
          "output_type": "stream",
          "name": "stdout",
          "text": [
            "epoch: 107, loss: 0.004804\n"
          ]
        },
        {
          "output_type": "stream",
          "name": "stderr",
          "text": [
            "1it [00:00,  1.98it/s]\n"
          ]
        },
        {
          "output_type": "stream",
          "name": "stdout",
          "text": [
            "epoch: 108, loss: 0.006981\n"
          ]
        },
        {
          "output_type": "stream",
          "name": "stderr",
          "text": [
            "1it [00:00,  1.94it/s]\n"
          ]
        },
        {
          "output_type": "stream",
          "name": "stdout",
          "text": [
            "epoch: 109, loss: 0.005068\n"
          ]
        },
        {
          "output_type": "stream",
          "name": "stderr",
          "text": [
            "1it [00:00,  1.99it/s]\n"
          ]
        },
        {
          "output_type": "stream",
          "name": "stdout",
          "text": [
            "epoch: 110, loss: 0.003971\n"
          ]
        },
        {
          "output_type": "stream",
          "name": "stderr",
          "text": [
            "1it [00:00,  2.00it/s]\n"
          ]
        },
        {
          "output_type": "stream",
          "name": "stdout",
          "text": [
            "epoch: 111, loss: 0.005892\n"
          ]
        },
        {
          "output_type": "stream",
          "name": "stderr",
          "text": [
            "1it [00:00,  1.93it/s]\n"
          ]
        },
        {
          "output_type": "stream",
          "name": "stdout",
          "text": [
            "epoch: 112, loss: 0.005071\n"
          ]
        },
        {
          "output_type": "stream",
          "name": "stderr",
          "text": [
            "1it [00:00,  1.97it/s]\n"
          ]
        },
        {
          "output_type": "stream",
          "name": "stdout",
          "text": [
            "epoch: 113, loss: 0.004534\n"
          ]
        },
        {
          "output_type": "stream",
          "name": "stderr",
          "text": [
            "1it [00:00,  1.92it/s]\n"
          ]
        },
        {
          "output_type": "stream",
          "name": "stdout",
          "text": [
            "epoch: 114, loss: 0.00438\n"
          ]
        },
        {
          "output_type": "stream",
          "name": "stderr",
          "text": [
            "1it [00:00,  2.01it/s]\n"
          ]
        },
        {
          "output_type": "stream",
          "name": "stdout",
          "text": [
            "epoch: 115, loss: 0.004411\n"
          ]
        },
        {
          "output_type": "stream",
          "name": "stderr",
          "text": [
            "1it [00:00,  1.94it/s]\n"
          ]
        },
        {
          "output_type": "stream",
          "name": "stdout",
          "text": [
            "epoch: 116, loss: 0.00429\n"
          ]
        },
        {
          "output_type": "stream",
          "name": "stderr",
          "text": [
            "1it [00:00,  1.98it/s]\n"
          ]
        },
        {
          "output_type": "stream",
          "name": "stdout",
          "text": [
            "epoch: 117, loss: 0.003989\n"
          ]
        },
        {
          "output_type": "stream",
          "name": "stderr",
          "text": [
            "1it [00:00,  1.96it/s]\n"
          ]
        },
        {
          "output_type": "stream",
          "name": "stdout",
          "text": [
            "epoch: 118, loss: 0.00464\n"
          ]
        },
        {
          "output_type": "stream",
          "name": "stderr",
          "text": [
            "1it [00:00,  1.95it/s]\n"
          ]
        },
        {
          "output_type": "stream",
          "name": "stdout",
          "text": [
            "epoch: 119, loss: 0.004819\n"
          ]
        },
        {
          "output_type": "stream",
          "name": "stderr",
          "text": [
            "1it [00:00,  1.99it/s]\n"
          ]
        },
        {
          "output_type": "stream",
          "name": "stdout",
          "text": [
            "epoch: 120, loss: 0.005675\n"
          ]
        },
        {
          "output_type": "stream",
          "name": "stderr",
          "text": [
            "1it [00:00,  2.01it/s]\n"
          ]
        },
        {
          "output_type": "stream",
          "name": "stdout",
          "text": [
            "epoch: 121, loss: 0.004048\n"
          ]
        },
        {
          "output_type": "stream",
          "name": "stderr",
          "text": [
            "1it [00:00,  1.98it/s]\n"
          ]
        },
        {
          "output_type": "stream",
          "name": "stdout",
          "text": [
            "epoch: 122, loss: 0.005173\n"
          ]
        },
        {
          "output_type": "stream",
          "name": "stderr",
          "text": [
            "1it [00:00,  1.97it/s]\n"
          ]
        },
        {
          "output_type": "stream",
          "name": "stdout",
          "text": [
            "epoch: 123, loss: 0.006812\n"
          ]
        },
        {
          "output_type": "stream",
          "name": "stderr",
          "text": [
            "1it [00:00,  1.95it/s]\n"
          ]
        },
        {
          "output_type": "stream",
          "name": "stdout",
          "text": [
            "epoch: 124, loss: 0.005454\n"
          ]
        },
        {
          "output_type": "stream",
          "name": "stderr",
          "text": [
            "1it [00:00,  1.91it/s]\n"
          ]
        },
        {
          "output_type": "stream",
          "name": "stdout",
          "text": [
            "epoch: 125, loss: 0.005572\n"
          ]
        },
        {
          "output_type": "stream",
          "name": "stderr",
          "text": [
            "1it [00:00,  1.98it/s]\n"
          ]
        },
        {
          "output_type": "stream",
          "name": "stdout",
          "text": [
            "epoch: 126, loss: 0.005111\n"
          ]
        },
        {
          "output_type": "stream",
          "name": "stderr",
          "text": [
            "1it [00:00,  1.88it/s]\n"
          ]
        },
        {
          "output_type": "stream",
          "name": "stdout",
          "text": [
            "epoch: 127, loss: 0.004537\n"
          ]
        },
        {
          "output_type": "stream",
          "name": "stderr",
          "text": [
            "1it [00:00,  1.82it/s]\n"
          ]
        },
        {
          "output_type": "stream",
          "name": "stdout",
          "text": [
            "epoch: 128, loss: 0.00409\n"
          ]
        },
        {
          "output_type": "stream",
          "name": "stderr",
          "text": [
            "1it [00:00,  1.84it/s]\n"
          ]
        },
        {
          "output_type": "stream",
          "name": "stdout",
          "text": [
            "epoch: 129, loss: 0.00412\n"
          ]
        },
        {
          "output_type": "stream",
          "name": "stderr",
          "text": [
            "1it [00:00,  1.84it/s]\n"
          ]
        },
        {
          "output_type": "stream",
          "name": "stdout",
          "text": [
            "epoch: 130, loss: 0.004526\n"
          ]
        },
        {
          "output_type": "stream",
          "name": "stderr",
          "text": [
            "1it [00:00,  2.01it/s]\n"
          ]
        },
        {
          "output_type": "stream",
          "name": "stdout",
          "text": [
            "epoch: 131, loss: 0.005578\n"
          ]
        },
        {
          "output_type": "stream",
          "name": "stderr",
          "text": [
            "1it [00:00,  1.99it/s]\n"
          ]
        },
        {
          "output_type": "stream",
          "name": "stdout",
          "text": [
            "epoch: 132, loss: 0.00446\n"
          ]
        },
        {
          "output_type": "stream",
          "name": "stderr",
          "text": [
            "1it [00:00,  1.91it/s]\n"
          ]
        },
        {
          "output_type": "stream",
          "name": "stdout",
          "text": [
            "epoch: 133, loss: 0.008124\n"
          ]
        },
        {
          "output_type": "stream",
          "name": "stderr",
          "text": [
            "1it [00:00,  1.96it/s]\n"
          ]
        },
        {
          "output_type": "stream",
          "name": "stdout",
          "text": [
            "epoch: 134, loss: 0.004122\n"
          ]
        },
        {
          "output_type": "stream",
          "name": "stderr",
          "text": [
            "1it [00:00,  2.01it/s]\n"
          ]
        },
        {
          "output_type": "stream",
          "name": "stdout",
          "text": [
            "epoch: 135, loss: 0.004279\n"
          ]
        },
        {
          "output_type": "stream",
          "name": "stderr",
          "text": [
            "1it [00:00,  1.97it/s]\n"
          ]
        },
        {
          "output_type": "stream",
          "name": "stdout",
          "text": [
            "epoch: 136, loss: 0.004277\n"
          ]
        },
        {
          "output_type": "stream",
          "name": "stderr",
          "text": [
            "1it [00:00,  1.99it/s]\n"
          ]
        },
        {
          "output_type": "stream",
          "name": "stdout",
          "text": [
            "epoch: 137, loss: 0.004015\n"
          ]
        },
        {
          "output_type": "stream",
          "name": "stderr",
          "text": [
            "1it [00:00,  1.96it/s]\n"
          ]
        },
        {
          "output_type": "stream",
          "name": "stdout",
          "text": [
            "epoch: 138, loss: 0.004881\n"
          ]
        },
        {
          "output_type": "stream",
          "name": "stderr",
          "text": [
            "1it [00:00,  1.96it/s]\n"
          ]
        },
        {
          "output_type": "stream",
          "name": "stdout",
          "text": [
            "epoch: 139, loss: 0.003965\n"
          ]
        },
        {
          "output_type": "stream",
          "name": "stderr",
          "text": [
            "1it [00:00,  1.94it/s]\n"
          ]
        },
        {
          "output_type": "stream",
          "name": "stdout",
          "text": [
            "epoch: 140, loss: 0.005986\n"
          ]
        },
        {
          "output_type": "stream",
          "name": "stderr",
          "text": [
            "1it [00:00,  1.96it/s]\n"
          ]
        },
        {
          "output_type": "stream",
          "name": "stdout",
          "text": [
            "epoch: 141, loss: 0.003945\n"
          ]
        },
        {
          "output_type": "stream",
          "name": "stderr",
          "text": [
            "1it [00:00,  1.91it/s]\n"
          ]
        },
        {
          "output_type": "stream",
          "name": "stdout",
          "text": [
            "epoch: 142, loss: 0.004275\n"
          ]
        },
        {
          "output_type": "stream",
          "name": "stderr",
          "text": [
            "1it [00:00,  1.96it/s]\n"
          ]
        },
        {
          "output_type": "stream",
          "name": "stdout",
          "text": [
            "epoch: 143, loss: 0.003758\n"
          ]
        },
        {
          "output_type": "stream",
          "name": "stderr",
          "text": [
            "1it [00:00,  1.94it/s]\n"
          ]
        },
        {
          "output_type": "stream",
          "name": "stdout",
          "text": [
            "epoch: 144, loss: 0.005012\n"
          ]
        },
        {
          "output_type": "stream",
          "name": "stderr",
          "text": [
            "1it [00:00,  1.95it/s]\n"
          ]
        },
        {
          "output_type": "stream",
          "name": "stdout",
          "text": [
            "epoch: 145, loss: 0.004018\n"
          ]
        },
        {
          "output_type": "stream",
          "name": "stderr",
          "text": [
            "1it [00:00,  1.99it/s]\n"
          ]
        },
        {
          "output_type": "stream",
          "name": "stdout",
          "text": [
            "epoch: 146, loss: 0.00566\n"
          ]
        },
        {
          "output_type": "stream",
          "name": "stderr",
          "text": [
            "1it [00:00,  2.00it/s]\n"
          ]
        },
        {
          "output_type": "stream",
          "name": "stdout",
          "text": [
            "epoch: 147, loss: 0.004489\n"
          ]
        },
        {
          "output_type": "stream",
          "name": "stderr",
          "text": [
            "1it [00:00,  1.97it/s]\n"
          ]
        },
        {
          "output_type": "stream",
          "name": "stdout",
          "text": [
            "epoch: 148, loss: 0.004403\n"
          ]
        },
        {
          "output_type": "stream",
          "name": "stderr",
          "text": [
            "1it [00:00,  2.00it/s]\n"
          ]
        },
        {
          "output_type": "stream",
          "name": "stdout",
          "text": [
            "epoch: 149, loss: 0.00349\n"
          ]
        },
        {
          "output_type": "stream",
          "name": "stderr",
          "text": [
            "1it [00:00,  1.94it/s]\n"
          ]
        },
        {
          "output_type": "stream",
          "name": "stdout",
          "text": [
            "epoch: 150, loss: 0.003195\n"
          ]
        },
        {
          "output_type": "stream",
          "name": "stderr",
          "text": [
            "1it [00:00,  1.95it/s]\n"
          ]
        },
        {
          "output_type": "stream",
          "name": "stdout",
          "text": [
            "epoch: 151, loss: 0.003343\n"
          ]
        },
        {
          "output_type": "stream",
          "name": "stderr",
          "text": [
            "1it [00:00,  1.82it/s]\n"
          ]
        },
        {
          "output_type": "stream",
          "name": "stdout",
          "text": [
            "epoch: 152, loss: 0.00319\n"
          ]
        },
        {
          "output_type": "stream",
          "name": "stderr",
          "text": [
            "1it [00:00,  1.95it/s]\n"
          ]
        },
        {
          "output_type": "stream",
          "name": "stdout",
          "text": [
            "epoch: 153, loss: 0.00643\n"
          ]
        },
        {
          "output_type": "stream",
          "name": "stderr",
          "text": [
            "1it [00:00,  2.01it/s]\n"
          ]
        },
        {
          "output_type": "stream",
          "name": "stdout",
          "text": [
            "epoch: 154, loss: 0.004558\n"
          ]
        },
        {
          "output_type": "stream",
          "name": "stderr",
          "text": [
            "1it [00:00,  1.97it/s]\n"
          ]
        },
        {
          "output_type": "stream",
          "name": "stdout",
          "text": [
            "epoch: 155, loss: 0.005534\n"
          ]
        },
        {
          "output_type": "stream",
          "name": "stderr",
          "text": [
            "1it [00:00,  2.00it/s]\n"
          ]
        },
        {
          "output_type": "stream",
          "name": "stdout",
          "text": [
            "epoch: 156, loss: 0.006086\n"
          ]
        },
        {
          "output_type": "stream",
          "name": "stderr",
          "text": [
            "1it [00:00,  1.97it/s]\n"
          ]
        },
        {
          "output_type": "stream",
          "name": "stdout",
          "text": [
            "epoch: 157, loss: 0.003775\n"
          ]
        },
        {
          "output_type": "stream",
          "name": "stderr",
          "text": [
            "1it [00:00,  1.94it/s]\n"
          ]
        },
        {
          "output_type": "stream",
          "name": "stdout",
          "text": [
            "epoch: 158, loss: 0.004241\n"
          ]
        },
        {
          "output_type": "stream",
          "name": "stderr",
          "text": [
            "1it [00:00,  1.98it/s]\n"
          ]
        },
        {
          "output_type": "stream",
          "name": "stdout",
          "text": [
            "epoch: 159, loss: 0.003676\n"
          ]
        },
        {
          "output_type": "stream",
          "name": "stderr",
          "text": [
            "1it [00:00,  1.97it/s]\n"
          ]
        },
        {
          "output_type": "stream",
          "name": "stdout",
          "text": [
            "epoch: 160, loss: 0.004151\n"
          ]
        },
        {
          "output_type": "stream",
          "name": "stderr",
          "text": [
            "1it [00:00,  1.98it/s]\n"
          ]
        },
        {
          "output_type": "stream",
          "name": "stdout",
          "text": [
            "epoch: 161, loss: 0.003924\n"
          ]
        },
        {
          "output_type": "stream",
          "name": "stderr",
          "text": [
            "1it [00:00,  1.90it/s]\n"
          ]
        },
        {
          "output_type": "stream",
          "name": "stdout",
          "text": [
            "epoch: 162, loss: 0.003358\n"
          ]
        },
        {
          "output_type": "stream",
          "name": "stderr",
          "text": [
            "1it [00:00,  1.99it/s]\n"
          ]
        },
        {
          "output_type": "stream",
          "name": "stdout",
          "text": [
            "epoch: 163, loss: 0.004689\n"
          ]
        },
        {
          "output_type": "stream",
          "name": "stderr",
          "text": [
            "1it [00:00,  1.94it/s]\n"
          ]
        },
        {
          "output_type": "stream",
          "name": "stdout",
          "text": [
            "epoch: 164, loss: 0.003535\n"
          ]
        },
        {
          "output_type": "stream",
          "name": "stderr",
          "text": [
            "1it [00:00,  1.96it/s]\n"
          ]
        },
        {
          "output_type": "stream",
          "name": "stdout",
          "text": [
            "epoch: 165, loss: 0.003822\n"
          ]
        },
        {
          "output_type": "stream",
          "name": "stderr",
          "text": [
            "1it [00:00,  1.97it/s]\n"
          ]
        },
        {
          "output_type": "stream",
          "name": "stdout",
          "text": [
            "epoch: 166, loss: 0.004246\n"
          ]
        },
        {
          "output_type": "stream",
          "name": "stderr",
          "text": [
            "1it [00:00,  1.97it/s]\n"
          ]
        },
        {
          "output_type": "stream",
          "name": "stdout",
          "text": [
            "epoch: 167, loss: 0.004396\n"
          ]
        },
        {
          "output_type": "stream",
          "name": "stderr",
          "text": [
            "1it [00:00,  1.99it/s]\n"
          ]
        },
        {
          "output_type": "stream",
          "name": "stdout",
          "text": [
            "epoch: 168, loss: 0.003708\n"
          ]
        },
        {
          "output_type": "stream",
          "name": "stderr",
          "text": [
            "1it [00:00,  1.95it/s]\n"
          ]
        },
        {
          "output_type": "stream",
          "name": "stdout",
          "text": [
            "epoch: 169, loss: 0.003101\n"
          ]
        },
        {
          "output_type": "stream",
          "name": "stderr",
          "text": [
            "1it [00:00,  1.94it/s]\n"
          ]
        },
        {
          "output_type": "stream",
          "name": "stdout",
          "text": [
            "epoch: 170, loss: 0.004062\n"
          ]
        },
        {
          "output_type": "stream",
          "name": "stderr",
          "text": [
            "1it [00:00,  1.96it/s]\n"
          ]
        },
        {
          "output_type": "stream",
          "name": "stdout",
          "text": [
            "epoch: 171, loss: 0.00349\n"
          ]
        },
        {
          "output_type": "stream",
          "name": "stderr",
          "text": [
            "1it [00:00,  1.95it/s]\n"
          ]
        },
        {
          "output_type": "stream",
          "name": "stdout",
          "text": [
            "epoch: 172, loss: 0.004429\n"
          ]
        },
        {
          "output_type": "stream",
          "name": "stderr",
          "text": [
            "1it [00:00,  1.87it/s]\n"
          ]
        },
        {
          "output_type": "stream",
          "name": "stdout",
          "text": [
            "epoch: 173, loss: 0.005215\n"
          ]
        },
        {
          "output_type": "stream",
          "name": "stderr",
          "text": [
            "1it [00:00,  1.99it/s]\n"
          ]
        },
        {
          "output_type": "stream",
          "name": "stdout",
          "text": [
            "epoch: 174, loss: 0.006063\n"
          ]
        },
        {
          "output_type": "stream",
          "name": "stderr",
          "text": [
            "1it [00:00,  1.91it/s]\n"
          ]
        },
        {
          "output_type": "stream",
          "name": "stdout",
          "text": [
            "epoch: 175, loss: 0.004952\n"
          ]
        },
        {
          "output_type": "stream",
          "name": "stderr",
          "text": [
            "1it [00:00,  1.95it/s]\n"
          ]
        },
        {
          "output_type": "stream",
          "name": "stdout",
          "text": [
            "epoch: 176, loss: 0.003447\n"
          ]
        },
        {
          "output_type": "stream",
          "name": "stderr",
          "text": [
            "1it [00:00,  1.98it/s]\n"
          ]
        },
        {
          "output_type": "stream",
          "name": "stdout",
          "text": [
            "epoch: 177, loss: 0.004956\n"
          ]
        },
        {
          "output_type": "stream",
          "name": "stderr",
          "text": [
            "1it [00:00,  1.98it/s]\n"
          ]
        },
        {
          "output_type": "stream",
          "name": "stdout",
          "text": [
            "epoch: 178, loss: 0.004722\n"
          ]
        },
        {
          "output_type": "stream",
          "name": "stderr",
          "text": [
            "1it [00:00,  1.99it/s]\n"
          ]
        },
        {
          "output_type": "stream",
          "name": "stdout",
          "text": [
            "epoch: 179, loss: 0.006107\n"
          ]
        },
        {
          "output_type": "stream",
          "name": "stderr",
          "text": [
            "1it [00:00,  1.95it/s]\n"
          ]
        },
        {
          "output_type": "stream",
          "name": "stdout",
          "text": [
            "epoch: 180, loss: 0.005283\n"
          ]
        },
        {
          "output_type": "stream",
          "name": "stderr",
          "text": [
            "1it [00:00,  1.99it/s]\n"
          ]
        },
        {
          "output_type": "stream",
          "name": "stdout",
          "text": [
            "epoch: 181, loss: 0.004673\n"
          ]
        },
        {
          "output_type": "stream",
          "name": "stderr",
          "text": [
            "1it [00:00,  1.97it/s]\n"
          ]
        },
        {
          "output_type": "stream",
          "name": "stdout",
          "text": [
            "epoch: 182, loss: 0.004347\n"
          ]
        },
        {
          "output_type": "stream",
          "name": "stderr",
          "text": [
            "1it [00:00,  1.88it/s]\n"
          ]
        },
        {
          "output_type": "stream",
          "name": "stdout",
          "text": [
            "epoch: 183, loss: 0.004251\n"
          ]
        },
        {
          "output_type": "stream",
          "name": "stderr",
          "text": [
            "1it [00:00,  1.98it/s]\n"
          ]
        },
        {
          "output_type": "stream",
          "name": "stdout",
          "text": [
            "epoch: 184, loss: 0.00289\n"
          ]
        },
        {
          "output_type": "stream",
          "name": "stderr",
          "text": [
            "1it [00:00,  1.96it/s]\n"
          ]
        },
        {
          "output_type": "stream",
          "name": "stdout",
          "text": [
            "epoch: 185, loss: 0.004023\n"
          ]
        },
        {
          "output_type": "stream",
          "name": "stderr",
          "text": [
            "1it [00:00,  1.99it/s]\n"
          ]
        },
        {
          "output_type": "stream",
          "name": "stdout",
          "text": [
            "epoch: 186, loss: 0.004955\n"
          ]
        },
        {
          "output_type": "stream",
          "name": "stderr",
          "text": [
            "1it [00:00,  1.99it/s]\n"
          ]
        },
        {
          "output_type": "stream",
          "name": "stdout",
          "text": [
            "epoch: 187, loss: 0.003241\n"
          ]
        },
        {
          "output_type": "stream",
          "name": "stderr",
          "text": [
            "1it [00:00,  1.98it/s]\n"
          ]
        },
        {
          "output_type": "stream",
          "name": "stdout",
          "text": [
            "epoch: 188, loss: 0.004006\n"
          ]
        },
        {
          "output_type": "stream",
          "name": "stderr",
          "text": [
            "1it [00:00,  1.88it/s]\n"
          ]
        },
        {
          "output_type": "stream",
          "name": "stdout",
          "text": [
            "epoch: 189, loss: 0.004044\n"
          ]
        },
        {
          "output_type": "stream",
          "name": "stderr",
          "text": [
            "1it [00:00,  1.99it/s]\n"
          ]
        },
        {
          "output_type": "stream",
          "name": "stdout",
          "text": [
            "epoch: 190, loss: 0.003799\n"
          ]
        },
        {
          "output_type": "stream",
          "name": "stderr",
          "text": [
            "1it [00:00,  1.97it/s]\n"
          ]
        },
        {
          "output_type": "stream",
          "name": "stdout",
          "text": [
            "epoch: 191, loss: 0.004593\n"
          ]
        },
        {
          "output_type": "stream",
          "name": "stderr",
          "text": [
            "1it [00:00,  1.97it/s]\n"
          ]
        },
        {
          "output_type": "stream",
          "name": "stdout",
          "text": [
            "epoch: 192, loss: 0.003745\n"
          ]
        },
        {
          "output_type": "stream",
          "name": "stderr",
          "text": [
            "1it [00:00,  1.99it/s]\n"
          ]
        },
        {
          "output_type": "stream",
          "name": "stdout",
          "text": [
            "epoch: 193, loss: 0.002812\n"
          ]
        },
        {
          "output_type": "stream",
          "name": "stderr",
          "text": [
            "1it [00:00,  1.97it/s]\n"
          ]
        },
        {
          "output_type": "stream",
          "name": "stdout",
          "text": [
            "epoch: 194, loss: 0.004182\n"
          ]
        },
        {
          "output_type": "stream",
          "name": "stderr",
          "text": [
            "1it [00:00,  1.96it/s]\n"
          ]
        },
        {
          "output_type": "stream",
          "name": "stdout",
          "text": [
            "epoch: 195, loss: 0.005465\n"
          ]
        },
        {
          "output_type": "stream",
          "name": "stderr",
          "text": [
            "1it [00:00,  1.80it/s]\n"
          ]
        },
        {
          "output_type": "stream",
          "name": "stdout",
          "text": [
            "epoch: 196, loss: 0.003485\n"
          ]
        },
        {
          "output_type": "stream",
          "name": "stderr",
          "text": [
            "1it [00:00,  1.97it/s]\n"
          ]
        },
        {
          "output_type": "stream",
          "name": "stdout",
          "text": [
            "epoch: 197, loss: 0.004323\n"
          ]
        },
        {
          "output_type": "stream",
          "name": "stderr",
          "text": [
            "1it [00:00,  1.89it/s]\n"
          ]
        },
        {
          "output_type": "stream",
          "name": "stdout",
          "text": [
            "epoch: 198, loss: 0.005052\n"
          ]
        },
        {
          "output_type": "stream",
          "name": "stderr",
          "text": [
            "1it [00:00,  1.96it/s]\n"
          ]
        },
        {
          "output_type": "stream",
          "name": "stdout",
          "text": [
            "epoch: 199, loss: 0.003885\n"
          ]
        },
        {
          "output_type": "stream",
          "name": "stderr",
          "text": [
            "1it [00:00,  1.96it/s]\n"
          ]
        },
        {
          "output_type": "stream",
          "name": "stdout",
          "text": [
            "epoch: 200, loss: 0.005133\n"
          ]
        },
        {
          "output_type": "stream",
          "name": "stderr",
          "text": [
            "1it [00:00,  2.00it/s]\n"
          ]
        },
        {
          "output_type": "stream",
          "name": "stdout",
          "text": [
            "epoch: 201, loss: 0.004549\n"
          ]
        },
        {
          "output_type": "stream",
          "name": "stderr",
          "text": [
            "1it [00:00,  1.93it/s]\n"
          ]
        },
        {
          "output_type": "stream",
          "name": "stdout",
          "text": [
            "epoch: 202, loss: 0.003984\n"
          ]
        },
        {
          "output_type": "stream",
          "name": "stderr",
          "text": [
            "1it [00:00,  1.99it/s]\n"
          ]
        },
        {
          "output_type": "stream",
          "name": "stdout",
          "text": [
            "epoch: 203, loss: 0.00391\n"
          ]
        },
        {
          "output_type": "stream",
          "name": "stderr",
          "text": [
            "1it [00:00,  1.93it/s]\n"
          ]
        },
        {
          "output_type": "stream",
          "name": "stdout",
          "text": [
            "epoch: 204, loss: 0.003599\n"
          ]
        },
        {
          "output_type": "stream",
          "name": "stderr",
          "text": [
            "1it [00:00,  1.97it/s]\n"
          ]
        },
        {
          "output_type": "stream",
          "name": "stdout",
          "text": [
            "epoch: 205, loss: 0.005932\n"
          ]
        },
        {
          "output_type": "stream",
          "name": "stderr",
          "text": [
            "1it [00:00,  1.98it/s]\n"
          ]
        },
        {
          "output_type": "stream",
          "name": "stdout",
          "text": [
            "epoch: 206, loss: 0.004232\n"
          ]
        },
        {
          "output_type": "stream",
          "name": "stderr",
          "text": [
            "1it [00:00,  1.95it/s]\n"
          ]
        },
        {
          "output_type": "stream",
          "name": "stdout",
          "text": [
            "epoch: 207, loss: 0.003602\n"
          ]
        },
        {
          "output_type": "stream",
          "name": "stderr",
          "text": [
            "1it [00:00,  1.98it/s]\n"
          ]
        },
        {
          "output_type": "stream",
          "name": "stdout",
          "text": [
            "epoch: 208, loss: 0.00411\n"
          ]
        },
        {
          "output_type": "stream",
          "name": "stderr",
          "text": [
            "1it [00:00,  1.95it/s]\n"
          ]
        },
        {
          "output_type": "stream",
          "name": "stdout",
          "text": [
            "epoch: 209, loss: 0.002566\n"
          ]
        },
        {
          "output_type": "stream",
          "name": "stderr",
          "text": [
            "1it [00:00,  1.99it/s]\n"
          ]
        },
        {
          "output_type": "stream",
          "name": "stdout",
          "text": [
            "epoch: 210, loss: 0.003953\n"
          ]
        },
        {
          "output_type": "stream",
          "name": "stderr",
          "text": [
            "1it [00:00,  1.96it/s]\n"
          ]
        },
        {
          "output_type": "stream",
          "name": "stdout",
          "text": [
            "epoch: 211, loss: 0.003523\n"
          ]
        },
        {
          "output_type": "stream",
          "name": "stderr",
          "text": [
            "1it [00:00,  1.89it/s]\n"
          ]
        },
        {
          "output_type": "stream",
          "name": "stdout",
          "text": [
            "epoch: 212, loss: 0.002722\n"
          ]
        },
        {
          "output_type": "stream",
          "name": "stderr",
          "text": [
            "1it [00:00,  1.99it/s]\n"
          ]
        },
        {
          "output_type": "stream",
          "name": "stdout",
          "text": [
            "epoch: 213, loss: 0.005193\n"
          ]
        },
        {
          "output_type": "stream",
          "name": "stderr",
          "text": [
            "1it [00:00,  1.97it/s]\n"
          ]
        },
        {
          "output_type": "stream",
          "name": "stdout",
          "text": [
            "epoch: 214, loss: 0.003834\n"
          ]
        },
        {
          "output_type": "stream",
          "name": "stderr",
          "text": [
            "1it [00:00,  2.00it/s]\n"
          ]
        },
        {
          "output_type": "stream",
          "name": "stdout",
          "text": [
            "epoch: 215, loss: 0.003038\n"
          ]
        },
        {
          "output_type": "stream",
          "name": "stderr",
          "text": [
            "1it [00:00,  1.98it/s]\n"
          ]
        },
        {
          "output_type": "stream",
          "name": "stdout",
          "text": [
            "epoch: 216, loss: 0.003422\n"
          ]
        },
        {
          "output_type": "stream",
          "name": "stderr",
          "text": [
            "1it [00:00,  2.02it/s]\n"
          ]
        },
        {
          "output_type": "stream",
          "name": "stdout",
          "text": [
            "epoch: 217, loss: 0.005178\n"
          ]
        },
        {
          "output_type": "stream",
          "name": "stderr",
          "text": [
            "1it [00:00,  1.99it/s]\n"
          ]
        },
        {
          "output_type": "stream",
          "name": "stdout",
          "text": [
            "epoch: 218, loss: 0.003672\n"
          ]
        },
        {
          "output_type": "stream",
          "name": "stderr",
          "text": [
            "1it [00:00,  1.82it/s]\n"
          ]
        },
        {
          "output_type": "stream",
          "name": "stdout",
          "text": [
            "epoch: 219, loss: 0.005129\n"
          ]
        },
        {
          "output_type": "stream",
          "name": "stderr",
          "text": [
            "1it [00:00,  1.82it/s]\n"
          ]
        },
        {
          "output_type": "stream",
          "name": "stdout",
          "text": [
            "epoch: 220, loss: 0.003409\n"
          ]
        },
        {
          "output_type": "stream",
          "name": "stderr",
          "text": [
            "1it [00:00,  1.89it/s]\n"
          ]
        },
        {
          "output_type": "stream",
          "name": "stdout",
          "text": [
            "epoch: 221, loss: 0.003818\n"
          ]
        },
        {
          "output_type": "stream",
          "name": "stderr",
          "text": [
            "1it [00:00,  1.83it/s]\n"
          ]
        },
        {
          "output_type": "stream",
          "name": "stdout",
          "text": [
            "epoch: 222, loss: 0.003962\n"
          ]
        },
        {
          "output_type": "stream",
          "name": "stderr",
          "text": [
            "1it [00:00,  2.01it/s]\n"
          ]
        },
        {
          "output_type": "stream",
          "name": "stdout",
          "text": [
            "epoch: 223, loss: 0.00287\n"
          ]
        },
        {
          "output_type": "stream",
          "name": "stderr",
          "text": [
            "1it [00:00,  1.95it/s]\n"
          ]
        },
        {
          "output_type": "stream",
          "name": "stdout",
          "text": [
            "epoch: 224, loss: 0.00312\n"
          ]
        },
        {
          "output_type": "stream",
          "name": "stderr",
          "text": [
            "1it [00:00,  2.00it/s]\n"
          ]
        },
        {
          "output_type": "stream",
          "name": "stdout",
          "text": [
            "epoch: 225, loss: 0.003653\n"
          ]
        },
        {
          "output_type": "stream",
          "name": "stderr",
          "text": [
            "1it [00:00,  1.98it/s]\n"
          ]
        },
        {
          "output_type": "stream",
          "name": "stdout",
          "text": [
            "epoch: 226, loss: 0.0032\n"
          ]
        },
        {
          "output_type": "stream",
          "name": "stderr",
          "text": [
            "1it [00:00,  1.94it/s]\n"
          ]
        },
        {
          "output_type": "stream",
          "name": "stdout",
          "text": [
            "epoch: 227, loss: 0.003468\n"
          ]
        },
        {
          "output_type": "stream",
          "name": "stderr",
          "text": [
            "1it [00:00,  1.96it/s]\n"
          ]
        },
        {
          "output_type": "stream",
          "name": "stdout",
          "text": [
            "epoch: 228, loss: 0.00326\n"
          ]
        },
        {
          "output_type": "stream",
          "name": "stderr",
          "text": [
            "1it [00:00,  1.95it/s]\n"
          ]
        },
        {
          "output_type": "stream",
          "name": "stdout",
          "text": [
            "epoch: 229, loss: 0.004059\n"
          ]
        },
        {
          "output_type": "stream",
          "name": "stderr",
          "text": [
            "1it [00:00,  1.99it/s]\n"
          ]
        },
        {
          "output_type": "stream",
          "name": "stdout",
          "text": [
            "epoch: 230, loss: 0.003964\n"
          ]
        },
        {
          "output_type": "stream",
          "name": "stderr",
          "text": [
            "1it [00:00,  1.99it/s]\n"
          ]
        },
        {
          "output_type": "stream",
          "name": "stdout",
          "text": [
            "epoch: 231, loss: 0.004335\n"
          ]
        },
        {
          "output_type": "stream",
          "name": "stderr",
          "text": [
            "1it [00:00,  1.99it/s]\n"
          ]
        },
        {
          "output_type": "stream",
          "name": "stdout",
          "text": [
            "epoch: 232, loss: 0.003525\n"
          ]
        },
        {
          "output_type": "stream",
          "name": "stderr",
          "text": [
            "1it [00:00,  1.96it/s]\n"
          ]
        },
        {
          "output_type": "stream",
          "name": "stdout",
          "text": [
            "epoch: 233, loss: 0.002806\n"
          ]
        },
        {
          "output_type": "stream",
          "name": "stderr",
          "text": [
            "1it [00:00,  1.99it/s]\n"
          ]
        },
        {
          "output_type": "stream",
          "name": "stdout",
          "text": [
            "epoch: 234, loss: 0.004302\n"
          ]
        },
        {
          "output_type": "stream",
          "name": "stderr",
          "text": [
            "1it [00:00,  1.99it/s]\n"
          ]
        },
        {
          "output_type": "stream",
          "name": "stdout",
          "text": [
            "epoch: 235, loss: 0.002614\n"
          ]
        },
        {
          "output_type": "stream",
          "name": "stderr",
          "text": [
            "1it [00:00,  1.99it/s]\n"
          ]
        },
        {
          "output_type": "stream",
          "name": "stdout",
          "text": [
            "epoch: 236, loss: 0.002919\n"
          ]
        },
        {
          "output_type": "stream",
          "name": "stderr",
          "text": [
            "1it [00:00,  1.93it/s]\n"
          ]
        },
        {
          "output_type": "stream",
          "name": "stdout",
          "text": [
            "epoch: 237, loss: 0.006205\n"
          ]
        },
        {
          "output_type": "stream",
          "name": "stderr",
          "text": [
            "1it [00:00,  2.00it/s]\n"
          ]
        },
        {
          "output_type": "stream",
          "name": "stdout",
          "text": [
            "epoch: 238, loss: 0.004449\n"
          ]
        },
        {
          "output_type": "stream",
          "name": "stderr",
          "text": [
            "1it [00:00,  1.98it/s]\n"
          ]
        },
        {
          "output_type": "stream",
          "name": "stdout",
          "text": [
            "epoch: 239, loss: 0.004416\n"
          ]
        },
        {
          "output_type": "stream",
          "name": "stderr",
          "text": [
            "1it [00:00,  1.98it/s]\n"
          ]
        },
        {
          "output_type": "stream",
          "name": "stdout",
          "text": [
            "epoch: 240, loss: 0.00428\n"
          ]
        },
        {
          "output_type": "stream",
          "name": "stderr",
          "text": [
            "1it [00:00,  1.99it/s]\n"
          ]
        },
        {
          "output_type": "stream",
          "name": "stdout",
          "text": [
            "epoch: 241, loss: 0.004763\n"
          ]
        },
        {
          "output_type": "stream",
          "name": "stderr",
          "text": [
            "1it [00:00,  1.82it/s]\n"
          ]
        },
        {
          "output_type": "stream",
          "name": "stdout",
          "text": [
            "epoch: 242, loss: 0.003073\n"
          ]
        },
        {
          "output_type": "stream",
          "name": "stderr",
          "text": [
            "1it [00:00,  1.96it/s]\n"
          ]
        },
        {
          "output_type": "stream",
          "name": "stdout",
          "text": [
            "epoch: 243, loss: 0.003151\n"
          ]
        },
        {
          "output_type": "stream",
          "name": "stderr",
          "text": [
            "1it [00:00,  1.81it/s]\n"
          ]
        },
        {
          "output_type": "stream",
          "name": "stdout",
          "text": [
            "epoch: 244, loss: 0.003541\n"
          ]
        },
        {
          "output_type": "stream",
          "name": "stderr",
          "text": [
            "1it [00:00,  1.96it/s]\n"
          ]
        },
        {
          "output_type": "stream",
          "name": "stdout",
          "text": [
            "epoch: 245, loss: 0.003755\n"
          ]
        },
        {
          "output_type": "stream",
          "name": "stderr",
          "text": [
            "1it [00:00,  1.90it/s]\n"
          ]
        },
        {
          "output_type": "stream",
          "name": "stdout",
          "text": [
            "epoch: 246, loss: 0.00306\n"
          ]
        },
        {
          "output_type": "stream",
          "name": "stderr",
          "text": [
            "1it [00:00,  2.00it/s]\n"
          ]
        },
        {
          "output_type": "stream",
          "name": "stdout",
          "text": [
            "epoch: 247, loss: 0.003765\n"
          ]
        },
        {
          "output_type": "stream",
          "name": "stderr",
          "text": [
            "1it [00:00,  1.98it/s]\n"
          ]
        },
        {
          "output_type": "stream",
          "name": "stdout",
          "text": [
            "epoch: 248, loss: 0.004173\n"
          ]
        },
        {
          "output_type": "stream",
          "name": "stderr",
          "text": [
            "1it [00:00,  1.95it/s]\n"
          ]
        },
        {
          "output_type": "stream",
          "name": "stdout",
          "text": [
            "epoch: 249, loss: 0.003261\n"
          ]
        },
        {
          "output_type": "stream",
          "name": "stderr",
          "text": [
            "1it [00:00,  1.96it/s]\n"
          ]
        },
        {
          "output_type": "stream",
          "name": "stdout",
          "text": [
            "epoch: 250, loss: 0.002956\n"
          ]
        },
        {
          "output_type": "stream",
          "name": "stderr",
          "text": [
            "1it [00:00,  1.97it/s]\n"
          ]
        },
        {
          "output_type": "stream",
          "name": "stdout",
          "text": [
            "epoch: 251, loss: 0.003301\n"
          ]
        },
        {
          "output_type": "stream",
          "name": "stderr",
          "text": [
            "1it [00:00,  1.97it/s]\n"
          ]
        },
        {
          "output_type": "stream",
          "name": "stdout",
          "text": [
            "epoch: 252, loss: 0.003626\n"
          ]
        },
        {
          "output_type": "stream",
          "name": "stderr",
          "text": [
            "1it [00:00,  2.01it/s]\n"
          ]
        },
        {
          "output_type": "stream",
          "name": "stdout",
          "text": [
            "epoch: 253, loss: 0.003795\n"
          ]
        },
        {
          "output_type": "stream",
          "name": "stderr",
          "text": [
            "1it [00:00,  1.95it/s]\n"
          ]
        },
        {
          "output_type": "stream",
          "name": "stdout",
          "text": [
            "epoch: 254, loss: 0.003033\n"
          ]
        },
        {
          "output_type": "stream",
          "name": "stderr",
          "text": [
            "1it [00:00,  1.94it/s]\n"
          ]
        },
        {
          "output_type": "stream",
          "name": "stdout",
          "text": [
            "epoch: 255, loss: 0.004769\n"
          ]
        },
        {
          "output_type": "stream",
          "name": "stderr",
          "text": [
            "1it [00:00,  1.96it/s]\n"
          ]
        },
        {
          "output_type": "stream",
          "name": "stdout",
          "text": [
            "epoch: 256, loss: 0.004608\n"
          ]
        },
        {
          "output_type": "stream",
          "name": "stderr",
          "text": [
            "1it [00:00,  2.01it/s]\n"
          ]
        },
        {
          "output_type": "stream",
          "name": "stdout",
          "text": [
            "epoch: 257, loss: 0.002291\n"
          ]
        },
        {
          "output_type": "stream",
          "name": "stderr",
          "text": [
            "1it [00:00,  1.94it/s]\n"
          ]
        },
        {
          "output_type": "stream",
          "name": "stdout",
          "text": [
            "epoch: 258, loss: 0.003998\n"
          ]
        },
        {
          "output_type": "stream",
          "name": "stderr",
          "text": [
            "1it [00:00,  1.94it/s]\n"
          ]
        },
        {
          "output_type": "stream",
          "name": "stdout",
          "text": [
            "epoch: 259, loss: 0.003046\n"
          ]
        },
        {
          "output_type": "stream",
          "name": "stderr",
          "text": [
            "1it [00:00,  1.97it/s]\n"
          ]
        },
        {
          "output_type": "stream",
          "name": "stdout",
          "text": [
            "epoch: 260, loss: 0.004087\n"
          ]
        },
        {
          "output_type": "stream",
          "name": "stderr",
          "text": [
            "1it [00:00,  2.01it/s]\n"
          ]
        },
        {
          "output_type": "stream",
          "name": "stdout",
          "text": [
            "epoch: 261, loss: 0.003587\n"
          ]
        },
        {
          "output_type": "stream",
          "name": "stderr",
          "text": [
            "1it [00:00,  1.95it/s]\n"
          ]
        },
        {
          "output_type": "stream",
          "name": "stdout",
          "text": [
            "epoch: 262, loss: 0.002929\n"
          ]
        },
        {
          "output_type": "stream",
          "name": "stderr",
          "text": [
            "1it [00:00,  2.01it/s]\n"
          ]
        },
        {
          "output_type": "stream",
          "name": "stdout",
          "text": [
            "epoch: 263, loss: 0.002927\n"
          ]
        },
        {
          "output_type": "stream",
          "name": "stderr",
          "text": [
            "1it [00:00,  1.96it/s]\n"
          ]
        },
        {
          "output_type": "stream",
          "name": "stdout",
          "text": [
            "epoch: 264, loss: 0.005218\n"
          ]
        },
        {
          "output_type": "stream",
          "name": "stderr",
          "text": [
            "1it [00:00,  1.88it/s]\n"
          ]
        },
        {
          "output_type": "stream",
          "name": "stdout",
          "text": [
            "epoch: 265, loss: 0.00427\n"
          ]
        },
        {
          "output_type": "stream",
          "name": "stderr",
          "text": [
            "1it [00:00,  1.98it/s]\n"
          ]
        },
        {
          "output_type": "stream",
          "name": "stdout",
          "text": [
            "epoch: 266, loss: 0.004058\n"
          ]
        },
        {
          "output_type": "stream",
          "name": "stderr",
          "text": [
            "1it [00:00,  1.85it/s]\n"
          ]
        },
        {
          "output_type": "stream",
          "name": "stdout",
          "text": [
            "epoch: 267, loss: 0.005696\n"
          ]
        },
        {
          "output_type": "stream",
          "name": "stderr",
          "text": [
            "1it [00:00,  1.97it/s]\n"
          ]
        },
        {
          "output_type": "stream",
          "name": "stdout",
          "text": [
            "epoch: 268, loss: 0.00272\n"
          ]
        },
        {
          "output_type": "stream",
          "name": "stderr",
          "text": [
            "1it [00:00,  2.00it/s]\n"
          ]
        },
        {
          "output_type": "stream",
          "name": "stdout",
          "text": [
            "epoch: 269, loss: 0.002977\n"
          ]
        },
        {
          "output_type": "stream",
          "name": "stderr",
          "text": [
            "1it [00:00,  1.95it/s]\n"
          ]
        },
        {
          "output_type": "stream",
          "name": "stdout",
          "text": [
            "epoch: 270, loss: 0.004352\n"
          ]
        },
        {
          "output_type": "stream",
          "name": "stderr",
          "text": [
            "1it [00:00,  1.98it/s]\n"
          ]
        },
        {
          "output_type": "stream",
          "name": "stdout",
          "text": [
            "epoch: 271, loss: 0.005333\n"
          ]
        },
        {
          "output_type": "stream",
          "name": "stderr",
          "text": [
            "1it [00:00,  1.97it/s]\n"
          ]
        },
        {
          "output_type": "stream",
          "name": "stdout",
          "text": [
            "epoch: 272, loss: 0.00437\n"
          ]
        },
        {
          "output_type": "stream",
          "name": "stderr",
          "text": [
            "1it [00:00,  1.99it/s]\n"
          ]
        },
        {
          "output_type": "stream",
          "name": "stdout",
          "text": [
            "epoch: 273, loss: 0.005903\n"
          ]
        },
        {
          "output_type": "stream",
          "name": "stderr",
          "text": [
            "1it [00:00,  1.95it/s]\n"
          ]
        },
        {
          "output_type": "stream",
          "name": "stdout",
          "text": [
            "epoch: 274, loss: 0.002715\n"
          ]
        },
        {
          "output_type": "stream",
          "name": "stderr",
          "text": [
            "1it [00:00,  1.99it/s]\n"
          ]
        },
        {
          "output_type": "stream",
          "name": "stdout",
          "text": [
            "epoch: 275, loss: 0.004599\n"
          ]
        },
        {
          "output_type": "stream",
          "name": "stderr",
          "text": [
            "1it [00:00,  2.00it/s]\n"
          ]
        },
        {
          "output_type": "stream",
          "name": "stdout",
          "text": [
            "epoch: 276, loss: 0.003567\n"
          ]
        },
        {
          "output_type": "stream",
          "name": "stderr",
          "text": [
            "1it [00:00,  2.00it/s]\n"
          ]
        },
        {
          "output_type": "stream",
          "name": "stdout",
          "text": [
            "epoch: 277, loss: 0.003149\n"
          ]
        },
        {
          "output_type": "stream",
          "name": "stderr",
          "text": [
            "1it [00:00,  1.98it/s]\n"
          ]
        },
        {
          "output_type": "stream",
          "name": "stdout",
          "text": [
            "epoch: 278, loss: 0.00368\n"
          ]
        },
        {
          "output_type": "stream",
          "name": "stderr",
          "text": [
            "1it [00:00,  1.99it/s]\n"
          ]
        },
        {
          "output_type": "stream",
          "name": "stdout",
          "text": [
            "epoch: 279, loss: 0.0044\n"
          ]
        },
        {
          "output_type": "stream",
          "name": "stderr",
          "text": [
            "1it [00:00,  1.96it/s]\n"
          ]
        },
        {
          "output_type": "stream",
          "name": "stdout",
          "text": [
            "epoch: 280, loss: 0.004831\n"
          ]
        },
        {
          "output_type": "stream",
          "name": "stderr",
          "text": [
            "1it [00:00,  1.99it/s]\n"
          ]
        },
        {
          "output_type": "stream",
          "name": "stdout",
          "text": [
            "epoch: 281, loss: 0.002853\n"
          ]
        },
        {
          "output_type": "stream",
          "name": "stderr",
          "text": [
            "1it [00:00,  1.93it/s]\n"
          ]
        },
        {
          "output_type": "stream",
          "name": "stdout",
          "text": [
            "epoch: 282, loss: 0.003954\n"
          ]
        },
        {
          "output_type": "stream",
          "name": "stderr",
          "text": [
            "1it [00:00,  1.98it/s]\n"
          ]
        },
        {
          "output_type": "stream",
          "name": "stdout",
          "text": [
            "epoch: 283, loss: 0.004198\n"
          ]
        },
        {
          "output_type": "stream",
          "name": "stderr",
          "text": [
            "1it [00:00,  1.98it/s]\n"
          ]
        },
        {
          "output_type": "stream",
          "name": "stdout",
          "text": [
            "epoch: 284, loss: 0.004921\n"
          ]
        },
        {
          "output_type": "stream",
          "name": "stderr",
          "text": [
            "1it [00:00,  2.00it/s]\n"
          ]
        },
        {
          "output_type": "stream",
          "name": "stdout",
          "text": [
            "epoch: 285, loss: 0.003888\n"
          ]
        },
        {
          "output_type": "stream",
          "name": "stderr",
          "text": [
            "1it [00:00,  1.98it/s]\n"
          ]
        },
        {
          "output_type": "stream",
          "name": "stdout",
          "text": [
            "epoch: 286, loss: 0.003201\n"
          ]
        },
        {
          "output_type": "stream",
          "name": "stderr",
          "text": [
            "1it [00:00,  1.96it/s]\n"
          ]
        },
        {
          "output_type": "stream",
          "name": "stdout",
          "text": [
            "epoch: 287, loss: 0.00285\n"
          ]
        },
        {
          "output_type": "stream",
          "name": "stderr",
          "text": [
            "1it [00:00,  1.93it/s]\n"
          ]
        },
        {
          "output_type": "stream",
          "name": "stdout",
          "text": [
            "epoch: 288, loss: 0.003751\n"
          ]
        },
        {
          "output_type": "stream",
          "name": "stderr",
          "text": [
            "1it [00:00,  1.95it/s]\n"
          ]
        },
        {
          "output_type": "stream",
          "name": "stdout",
          "text": [
            "epoch: 289, loss: 0.003287\n"
          ]
        },
        {
          "output_type": "stream",
          "name": "stderr",
          "text": [
            "1it [00:00,  1.93it/s]\n"
          ]
        },
        {
          "output_type": "stream",
          "name": "stdout",
          "text": [
            "epoch: 290, loss: 0.002784\n"
          ]
        },
        {
          "output_type": "stream",
          "name": "stderr",
          "text": [
            "1it [00:00,  1.82it/s]\n"
          ]
        },
        {
          "output_type": "stream",
          "name": "stdout",
          "text": [
            "epoch: 291, loss: 0.00372\n"
          ]
        },
        {
          "output_type": "stream",
          "name": "stderr",
          "text": [
            "1it [00:00,  1.96it/s]\n"
          ]
        },
        {
          "output_type": "stream",
          "name": "stdout",
          "text": [
            "epoch: 292, loss: 0.003905\n"
          ]
        },
        {
          "output_type": "stream",
          "name": "stderr",
          "text": [
            "1it [00:00,  2.00it/s]\n"
          ]
        },
        {
          "output_type": "stream",
          "name": "stdout",
          "text": [
            "epoch: 293, loss: 0.004785\n"
          ]
        },
        {
          "output_type": "stream",
          "name": "stderr",
          "text": [
            "1it [00:00,  2.01it/s]\n"
          ]
        },
        {
          "output_type": "stream",
          "name": "stdout",
          "text": [
            "epoch: 294, loss: 0.004568\n"
          ]
        },
        {
          "output_type": "stream",
          "name": "stderr",
          "text": [
            "1it [00:00,  1.96it/s]\n"
          ]
        },
        {
          "output_type": "stream",
          "name": "stdout",
          "text": [
            "epoch: 295, loss: 0.004264\n"
          ]
        },
        {
          "output_type": "stream",
          "name": "stderr",
          "text": [
            "1it [00:00,  1.99it/s]\n"
          ]
        },
        {
          "output_type": "stream",
          "name": "stdout",
          "text": [
            "epoch: 296, loss: 0.003268\n"
          ]
        },
        {
          "output_type": "stream",
          "name": "stderr",
          "text": [
            "1it [00:00,  1.96it/s]\n"
          ]
        },
        {
          "output_type": "stream",
          "name": "stdout",
          "text": [
            "epoch: 297, loss: 0.004196\n"
          ]
        },
        {
          "output_type": "stream",
          "name": "stderr",
          "text": [
            "1it [00:00,  2.00it/s]\n"
          ]
        },
        {
          "output_type": "stream",
          "name": "stdout",
          "text": [
            "epoch: 298, loss: 0.003366\n"
          ]
        },
        {
          "output_type": "stream",
          "name": "stderr",
          "text": [
            "1it [00:00,  1.95it/s]\n"
          ]
        },
        {
          "output_type": "stream",
          "name": "stdout",
          "text": [
            "epoch: 299, loss: 0.003312\n"
          ]
        },
        {
          "output_type": "stream",
          "name": "stderr",
          "text": [
            "1it [00:00,  2.00it/s]\n"
          ]
        },
        {
          "output_type": "stream",
          "name": "stdout",
          "text": [
            "epoch: 300, loss: 0.002654\n"
          ]
        },
        {
          "output_type": "stream",
          "name": "stderr",
          "text": [
            "1it [00:00,  2.00it/s]\n"
          ]
        },
        {
          "output_type": "stream",
          "name": "stdout",
          "text": [
            "epoch: 301, loss: 0.002347\n"
          ]
        },
        {
          "output_type": "stream",
          "name": "stderr",
          "text": [
            "1it [00:00,  1.91it/s]\n"
          ]
        },
        {
          "output_type": "stream",
          "name": "stdout",
          "text": [
            "epoch: 302, loss: 0.00331\n"
          ]
        },
        {
          "output_type": "stream",
          "name": "stderr",
          "text": [
            "1it [00:00,  2.00it/s]\n"
          ]
        },
        {
          "output_type": "stream",
          "name": "stdout",
          "text": [
            "epoch: 303, loss: 0.003673\n"
          ]
        },
        {
          "output_type": "stream",
          "name": "stderr",
          "text": [
            "1it [00:00,  1.98it/s]\n"
          ]
        },
        {
          "output_type": "stream",
          "name": "stdout",
          "text": [
            "epoch: 304, loss: 0.002433\n"
          ]
        },
        {
          "output_type": "stream",
          "name": "stderr",
          "text": [
            "1it [00:00,  1.94it/s]\n"
          ]
        },
        {
          "output_type": "stream",
          "name": "stdout",
          "text": [
            "epoch: 305, loss: 0.002772\n"
          ]
        },
        {
          "output_type": "stream",
          "name": "stderr",
          "text": [
            "1it [00:00,  1.98it/s]\n"
          ]
        },
        {
          "output_type": "stream",
          "name": "stdout",
          "text": [
            "epoch: 306, loss: 0.002358\n"
          ]
        },
        {
          "output_type": "stream",
          "name": "stderr",
          "text": [
            "1it [00:00,  1.95it/s]\n"
          ]
        },
        {
          "output_type": "stream",
          "name": "stdout",
          "text": [
            "epoch: 307, loss: 0.005174\n"
          ]
        },
        {
          "output_type": "stream",
          "name": "stderr",
          "text": [
            "1it [00:00,  1.97it/s]\n"
          ]
        },
        {
          "output_type": "stream",
          "name": "stdout",
          "text": [
            "epoch: 308, loss: 0.004115\n"
          ]
        },
        {
          "output_type": "stream",
          "name": "stderr",
          "text": [
            "1it [00:00,  2.00it/s]\n"
          ]
        },
        {
          "output_type": "stream",
          "name": "stdout",
          "text": [
            "epoch: 309, loss: 0.003069\n"
          ]
        },
        {
          "output_type": "stream",
          "name": "stderr",
          "text": [
            "1it [00:00,  1.97it/s]\n"
          ]
        },
        {
          "output_type": "stream",
          "name": "stdout",
          "text": [
            "epoch: 310, loss: 0.003283\n"
          ]
        },
        {
          "output_type": "stream",
          "name": "stderr",
          "text": [
            "1it [00:00,  1.92it/s]\n"
          ]
        },
        {
          "output_type": "stream",
          "name": "stdout",
          "text": [
            "epoch: 311, loss: 0.0045\n"
          ]
        },
        {
          "output_type": "stream",
          "name": "stderr",
          "text": [
            "1it [00:00,  1.88it/s]\n"
          ]
        },
        {
          "output_type": "stream",
          "name": "stdout",
          "text": [
            "epoch: 312, loss: 0.004185\n"
          ]
        },
        {
          "output_type": "stream",
          "name": "stderr",
          "text": [
            "1it [00:00,  1.84it/s]\n"
          ]
        },
        {
          "output_type": "stream",
          "name": "stdout",
          "text": [
            "epoch: 313, loss: 0.002916\n"
          ]
        },
        {
          "output_type": "stream",
          "name": "stderr",
          "text": [
            "1it [00:00,  1.95it/s]\n"
          ]
        },
        {
          "output_type": "stream",
          "name": "stdout",
          "text": [
            "epoch: 314, loss: 0.002372\n"
          ]
        },
        {
          "output_type": "stream",
          "name": "stderr",
          "text": [
            "1it [00:00,  1.85it/s]\n"
          ]
        },
        {
          "output_type": "stream",
          "name": "stdout",
          "text": [
            "epoch: 315, loss: 0.002633\n"
          ]
        },
        {
          "output_type": "stream",
          "name": "stderr",
          "text": [
            "1it [00:00,  1.99it/s]\n"
          ]
        },
        {
          "output_type": "stream",
          "name": "stdout",
          "text": [
            "epoch: 316, loss: 0.003457\n"
          ]
        },
        {
          "output_type": "stream",
          "name": "stderr",
          "text": [
            "1it [00:00,  1.98it/s]\n"
          ]
        },
        {
          "output_type": "stream",
          "name": "stdout",
          "text": [
            "epoch: 317, loss: 0.003244\n"
          ]
        },
        {
          "output_type": "stream",
          "name": "stderr",
          "text": [
            "1it [00:00,  1.96it/s]\n"
          ]
        },
        {
          "output_type": "stream",
          "name": "stdout",
          "text": [
            "epoch: 318, loss: 0.003815\n"
          ]
        },
        {
          "output_type": "stream",
          "name": "stderr",
          "text": [
            "1it [00:00,  1.97it/s]\n"
          ]
        },
        {
          "output_type": "stream",
          "name": "stdout",
          "text": [
            "epoch: 319, loss: 0.002834\n"
          ]
        },
        {
          "output_type": "stream",
          "name": "stderr",
          "text": [
            "1it [00:00,  1.99it/s]\n"
          ]
        },
        {
          "output_type": "stream",
          "name": "stdout",
          "text": [
            "epoch: 320, loss: 0.002594\n"
          ]
        },
        {
          "output_type": "stream",
          "name": "stderr",
          "text": [
            "1it [00:00,  1.97it/s]\n"
          ]
        },
        {
          "output_type": "stream",
          "name": "stdout",
          "text": [
            "epoch: 321, loss: 0.003489\n"
          ]
        },
        {
          "output_type": "stream",
          "name": "stderr",
          "text": [
            "1it [00:00,  2.01it/s]\n"
          ]
        },
        {
          "output_type": "stream",
          "name": "stdout",
          "text": [
            "epoch: 322, loss: 0.003137\n"
          ]
        },
        {
          "output_type": "stream",
          "name": "stderr",
          "text": [
            "1it [00:00,  2.01it/s]\n"
          ]
        },
        {
          "output_type": "stream",
          "name": "stdout",
          "text": [
            "epoch: 323, loss: 0.003075\n"
          ]
        },
        {
          "output_type": "stream",
          "name": "stderr",
          "text": [
            "1it [00:00,  1.99it/s]\n"
          ]
        },
        {
          "output_type": "stream",
          "name": "stdout",
          "text": [
            "epoch: 324, loss: 0.002557\n"
          ]
        },
        {
          "output_type": "stream",
          "name": "stderr",
          "text": [
            "1it [00:00,  1.99it/s]\n"
          ]
        },
        {
          "output_type": "stream",
          "name": "stdout",
          "text": [
            "epoch: 325, loss: 0.005352\n"
          ]
        },
        {
          "output_type": "stream",
          "name": "stderr",
          "text": [
            "1it [00:00,  1.99it/s]\n"
          ]
        },
        {
          "output_type": "stream",
          "name": "stdout",
          "text": [
            "epoch: 326, loss: 0.002654\n"
          ]
        },
        {
          "output_type": "stream",
          "name": "stderr",
          "text": [
            "1it [00:00,  1.96it/s]\n"
          ]
        },
        {
          "output_type": "stream",
          "name": "stdout",
          "text": [
            "epoch: 327, loss: 0.003093\n"
          ]
        },
        {
          "output_type": "stream",
          "name": "stderr",
          "text": [
            "1it [00:00,  1.95it/s]\n"
          ]
        },
        {
          "output_type": "stream",
          "name": "stdout",
          "text": [
            "epoch: 328, loss: 0.004617\n"
          ]
        },
        {
          "output_type": "stream",
          "name": "stderr",
          "text": [
            "1it [00:00,  1.96it/s]\n"
          ]
        },
        {
          "output_type": "stream",
          "name": "stdout",
          "text": [
            "epoch: 329, loss: 0.002526\n"
          ]
        },
        {
          "output_type": "stream",
          "name": "stderr",
          "text": [
            "1it [00:00,  1.97it/s]\n"
          ]
        },
        {
          "output_type": "stream",
          "name": "stdout",
          "text": [
            "epoch: 330, loss: 0.002072\n"
          ]
        },
        {
          "output_type": "stream",
          "name": "stderr",
          "text": [
            "1it [00:00,  1.97it/s]\n"
          ]
        },
        {
          "output_type": "stream",
          "name": "stdout",
          "text": [
            "epoch: 331, loss: 0.003665\n"
          ]
        },
        {
          "output_type": "stream",
          "name": "stderr",
          "text": [
            "1it [00:00,  1.98it/s]\n"
          ]
        },
        {
          "output_type": "stream",
          "name": "stdout",
          "text": [
            "epoch: 332, loss: 0.004982\n"
          ]
        },
        {
          "output_type": "stream",
          "name": "stderr",
          "text": [
            "1it [00:00,  1.98it/s]\n"
          ]
        },
        {
          "output_type": "stream",
          "name": "stdout",
          "text": [
            "epoch: 333, loss: 0.004063\n"
          ]
        },
        {
          "output_type": "stream",
          "name": "stderr",
          "text": [
            "1it [00:00,  1.82it/s]\n"
          ]
        },
        {
          "output_type": "stream",
          "name": "stdout",
          "text": [
            "epoch: 334, loss: 0.004257\n"
          ]
        },
        {
          "output_type": "stream",
          "name": "stderr",
          "text": [
            "1it [00:00,  1.79it/s]\n"
          ]
        },
        {
          "output_type": "stream",
          "name": "stdout",
          "text": [
            "epoch: 335, loss: 0.003995\n"
          ]
        },
        {
          "output_type": "stream",
          "name": "stderr",
          "text": [
            "1it [00:00,  1.90it/s]\n"
          ]
        },
        {
          "output_type": "stream",
          "name": "stdout",
          "text": [
            "epoch: 336, loss: 0.004199\n"
          ]
        },
        {
          "output_type": "stream",
          "name": "stderr",
          "text": [
            "1it [00:00,  1.95it/s]\n"
          ]
        },
        {
          "output_type": "stream",
          "name": "stdout",
          "text": [
            "epoch: 337, loss: 0.003008\n"
          ]
        },
        {
          "output_type": "stream",
          "name": "stderr",
          "text": [
            "1it [00:00,  2.00it/s]\n"
          ]
        },
        {
          "output_type": "stream",
          "name": "stdout",
          "text": [
            "epoch: 338, loss: 0.004518\n"
          ]
        },
        {
          "output_type": "stream",
          "name": "stderr",
          "text": [
            "1it [00:00,  1.98it/s]\n"
          ]
        },
        {
          "output_type": "stream",
          "name": "stdout",
          "text": [
            "epoch: 339, loss: 0.002901\n"
          ]
        },
        {
          "output_type": "stream",
          "name": "stderr",
          "text": [
            "1it [00:00,  1.97it/s]\n"
          ]
        },
        {
          "output_type": "stream",
          "name": "stdout",
          "text": [
            "epoch: 340, loss: 0.003707\n"
          ]
        },
        {
          "output_type": "stream",
          "name": "stderr",
          "text": [
            "1it [00:00,  1.99it/s]\n"
          ]
        },
        {
          "output_type": "stream",
          "name": "stdout",
          "text": [
            "epoch: 341, loss: 0.00335\n"
          ]
        },
        {
          "output_type": "stream",
          "name": "stderr",
          "text": [
            "1it [00:00,  1.99it/s]\n"
          ]
        },
        {
          "output_type": "stream",
          "name": "stdout",
          "text": [
            "epoch: 342, loss: 0.002942\n"
          ]
        },
        {
          "output_type": "stream",
          "name": "stderr",
          "text": [
            "1it [00:00,  1.93it/s]\n"
          ]
        },
        {
          "output_type": "stream",
          "name": "stdout",
          "text": [
            "epoch: 343, loss: 0.002321\n"
          ]
        },
        {
          "output_type": "stream",
          "name": "stderr",
          "text": [
            "1it [00:00,  1.96it/s]\n"
          ]
        },
        {
          "output_type": "stream",
          "name": "stdout",
          "text": [
            "epoch: 344, loss: 0.005071\n"
          ]
        },
        {
          "output_type": "stream",
          "name": "stderr",
          "text": [
            "1it [00:00,  1.89it/s]\n"
          ]
        },
        {
          "output_type": "stream",
          "name": "stdout",
          "text": [
            "epoch: 345, loss: 0.003411\n"
          ]
        },
        {
          "output_type": "stream",
          "name": "stderr",
          "text": [
            "1it [00:00,  1.98it/s]\n"
          ]
        },
        {
          "output_type": "stream",
          "name": "stdout",
          "text": [
            "epoch: 346, loss: 0.003151\n"
          ]
        },
        {
          "output_type": "stream",
          "name": "stderr",
          "text": [
            "1it [00:00,  1.98it/s]\n"
          ]
        },
        {
          "output_type": "stream",
          "name": "stdout",
          "text": [
            "epoch: 347, loss: 0.00292\n"
          ]
        },
        {
          "output_type": "stream",
          "name": "stderr",
          "text": [
            "1it [00:00,  1.95it/s]\n"
          ]
        },
        {
          "output_type": "stream",
          "name": "stdout",
          "text": [
            "epoch: 348, loss: 0.002391\n"
          ]
        },
        {
          "output_type": "stream",
          "name": "stderr",
          "text": [
            "1it [00:00,  1.97it/s]\n"
          ]
        },
        {
          "output_type": "stream",
          "name": "stdout",
          "text": [
            "epoch: 349, loss: 0.002661\n"
          ]
        },
        {
          "output_type": "stream",
          "name": "stderr",
          "text": [
            "1it [00:00,  1.96it/s]\n"
          ]
        },
        {
          "output_type": "stream",
          "name": "stdout",
          "text": [
            "epoch: 350, loss: 0.002472\n"
          ]
        },
        {
          "output_type": "stream",
          "name": "stderr",
          "text": [
            "1it [00:00,  2.01it/s]\n"
          ]
        },
        {
          "output_type": "stream",
          "name": "stdout",
          "text": [
            "epoch: 351, loss: 0.003283\n"
          ]
        },
        {
          "output_type": "stream",
          "name": "stderr",
          "text": [
            "1it [00:00,  1.93it/s]\n"
          ]
        },
        {
          "output_type": "stream",
          "name": "stdout",
          "text": [
            "epoch: 352, loss: 0.003258\n"
          ]
        },
        {
          "output_type": "stream",
          "name": "stderr",
          "text": [
            "1it [00:00,  2.01it/s]\n"
          ]
        },
        {
          "output_type": "stream",
          "name": "stdout",
          "text": [
            "epoch: 353, loss: 0.003978\n"
          ]
        },
        {
          "output_type": "stream",
          "name": "stderr",
          "text": [
            "1it [00:00,  1.96it/s]\n"
          ]
        },
        {
          "output_type": "stream",
          "name": "stdout",
          "text": [
            "epoch: 354, loss: 0.002565\n"
          ]
        },
        {
          "output_type": "stream",
          "name": "stderr",
          "text": [
            "1it [00:00,  1.99it/s]\n"
          ]
        },
        {
          "output_type": "stream",
          "name": "stdout",
          "text": [
            "epoch: 355, loss: 0.002562\n"
          ]
        },
        {
          "output_type": "stream",
          "name": "stderr",
          "text": [
            "1it [00:00,  1.93it/s]\n"
          ]
        },
        {
          "output_type": "stream",
          "name": "stdout",
          "text": [
            "epoch: 356, loss: 0.002359\n"
          ]
        },
        {
          "output_type": "stream",
          "name": "stderr",
          "text": [
            "1it [00:00,  1.80it/s]\n"
          ]
        },
        {
          "output_type": "stream",
          "name": "stdout",
          "text": [
            "epoch: 357, loss: 0.002715\n"
          ]
        },
        {
          "output_type": "stream",
          "name": "stderr",
          "text": [
            "1it [00:00,  1.95it/s]\n"
          ]
        },
        {
          "output_type": "stream",
          "name": "stdout",
          "text": [
            "epoch: 358, loss: 0.003035\n"
          ]
        },
        {
          "output_type": "stream",
          "name": "stderr",
          "text": [
            "1it [00:00,  1.91it/s]\n"
          ]
        },
        {
          "output_type": "stream",
          "name": "stdout",
          "text": [
            "epoch: 359, loss: 0.002312\n"
          ]
        },
        {
          "output_type": "stream",
          "name": "stderr",
          "text": [
            "1it [00:00,  1.95it/s]\n"
          ]
        },
        {
          "output_type": "stream",
          "name": "stdout",
          "text": [
            "epoch: 360, loss: 0.002996\n"
          ]
        },
        {
          "output_type": "stream",
          "name": "stderr",
          "text": [
            "1it [00:00,  1.94it/s]\n"
          ]
        },
        {
          "output_type": "stream",
          "name": "stdout",
          "text": [
            "epoch: 361, loss: 0.00298\n"
          ]
        },
        {
          "output_type": "stream",
          "name": "stderr",
          "text": [
            "1it [00:00,  1.98it/s]\n"
          ]
        },
        {
          "output_type": "stream",
          "name": "stdout",
          "text": [
            "epoch: 362, loss: 0.003355\n"
          ]
        },
        {
          "output_type": "stream",
          "name": "stderr",
          "text": [
            "1it [00:00,  1.99it/s]\n"
          ]
        },
        {
          "output_type": "stream",
          "name": "stdout",
          "text": [
            "epoch: 363, loss: 0.004671\n"
          ]
        },
        {
          "output_type": "stream",
          "name": "stderr",
          "text": [
            "1it [00:00,  1.96it/s]\n"
          ]
        },
        {
          "output_type": "stream",
          "name": "stdout",
          "text": [
            "epoch: 364, loss: 0.005701\n"
          ]
        },
        {
          "output_type": "stream",
          "name": "stderr",
          "text": [
            "1it [00:00,  2.00it/s]\n"
          ]
        },
        {
          "output_type": "stream",
          "name": "stdout",
          "text": [
            "epoch: 365, loss: 0.003888\n"
          ]
        },
        {
          "output_type": "stream",
          "name": "stderr",
          "text": [
            "1it [00:00,  2.01it/s]\n"
          ]
        },
        {
          "output_type": "stream",
          "name": "stdout",
          "text": [
            "epoch: 366, loss: 0.004448\n"
          ]
        },
        {
          "output_type": "stream",
          "name": "stderr",
          "text": [
            "1it [00:00,  1.98it/s]\n"
          ]
        },
        {
          "output_type": "stream",
          "name": "stdout",
          "text": [
            "epoch: 367, loss: 0.004504\n"
          ]
        },
        {
          "output_type": "stream",
          "name": "stderr",
          "text": [
            "1it [00:00,  2.00it/s]\n"
          ]
        },
        {
          "output_type": "stream",
          "name": "stdout",
          "text": [
            "epoch: 368, loss: 0.003335\n"
          ]
        },
        {
          "output_type": "stream",
          "name": "stderr",
          "text": [
            "1it [00:00,  1.95it/s]\n"
          ]
        },
        {
          "output_type": "stream",
          "name": "stdout",
          "text": [
            "epoch: 369, loss: 0.003815\n"
          ]
        },
        {
          "output_type": "stream",
          "name": "stderr",
          "text": [
            "1it [00:00,  1.99it/s]\n"
          ]
        },
        {
          "output_type": "stream",
          "name": "stdout",
          "text": [
            "epoch: 370, loss: 0.003473\n"
          ]
        },
        {
          "output_type": "stream",
          "name": "stderr",
          "text": [
            "1it [00:00,  1.97it/s]\n"
          ]
        },
        {
          "output_type": "stream",
          "name": "stdout",
          "text": [
            "epoch: 371, loss: 0.003738\n"
          ]
        },
        {
          "output_type": "stream",
          "name": "stderr",
          "text": [
            "1it [00:00,  2.01it/s]\n"
          ]
        },
        {
          "output_type": "stream",
          "name": "stdout",
          "text": [
            "epoch: 372, loss: 0.002904\n"
          ]
        },
        {
          "output_type": "stream",
          "name": "stderr",
          "text": [
            "1it [00:00,  1.94it/s]\n"
          ]
        },
        {
          "output_type": "stream",
          "name": "stdout",
          "text": [
            "epoch: 373, loss: 0.004402\n"
          ]
        },
        {
          "output_type": "stream",
          "name": "stderr",
          "text": [
            "1it [00:00,  1.99it/s]\n"
          ]
        },
        {
          "output_type": "stream",
          "name": "stdout",
          "text": [
            "epoch: 374, loss: 0.00433\n"
          ]
        },
        {
          "output_type": "stream",
          "name": "stderr",
          "text": [
            "1it [00:00,  1.98it/s]\n"
          ]
        },
        {
          "output_type": "stream",
          "name": "stdout",
          "text": [
            "epoch: 375, loss: 0.003291\n"
          ]
        },
        {
          "output_type": "stream",
          "name": "stderr",
          "text": [
            "1it [00:00,  1.93it/s]\n"
          ]
        },
        {
          "output_type": "stream",
          "name": "stdout",
          "text": [
            "epoch: 376, loss: 0.003492\n"
          ]
        },
        {
          "output_type": "stream",
          "name": "stderr",
          "text": [
            "1it [00:00,  1.95it/s]\n"
          ]
        },
        {
          "output_type": "stream",
          "name": "stdout",
          "text": [
            "epoch: 377, loss: 0.003189\n"
          ]
        },
        {
          "output_type": "stream",
          "name": "stderr",
          "text": [
            "1it [00:00,  1.98it/s]\n"
          ]
        },
        {
          "output_type": "stream",
          "name": "stdout",
          "text": [
            "epoch: 378, loss: 0.003196\n"
          ]
        },
        {
          "output_type": "stream",
          "name": "stderr",
          "text": [
            "1it [00:00,  1.92it/s]\n"
          ]
        },
        {
          "output_type": "stream",
          "name": "stdout",
          "text": [
            "epoch: 379, loss: 0.00345\n"
          ]
        },
        {
          "output_type": "stream",
          "name": "stderr",
          "text": [
            "1it [00:00,  1.94it/s]\n"
          ]
        },
        {
          "output_type": "stream",
          "name": "stdout",
          "text": [
            "epoch: 380, loss: 0.0029\n"
          ]
        },
        {
          "output_type": "stream",
          "name": "stderr",
          "text": [
            "1it [00:00,  1.92it/s]\n"
          ]
        },
        {
          "output_type": "stream",
          "name": "stdout",
          "text": [
            "epoch: 381, loss: 0.003285\n"
          ]
        },
        {
          "output_type": "stream",
          "name": "stderr",
          "text": [
            "1it [00:00,  1.93it/s]\n"
          ]
        },
        {
          "output_type": "stream",
          "name": "stdout",
          "text": [
            "epoch: 382, loss: 0.002885\n"
          ]
        },
        {
          "output_type": "stream",
          "name": "stderr",
          "text": [
            "1it [00:00,  1.73it/s]\n"
          ]
        },
        {
          "output_type": "stream",
          "name": "stdout",
          "text": [
            "epoch: 383, loss: 0.002801\n"
          ]
        },
        {
          "output_type": "stream",
          "name": "stderr",
          "text": [
            "1it [00:00,  2.00it/s]\n"
          ]
        },
        {
          "output_type": "stream",
          "name": "stdout",
          "text": [
            "epoch: 384, loss: 0.002891\n"
          ]
        },
        {
          "output_type": "stream",
          "name": "stderr",
          "text": [
            "1it [00:00,  1.97it/s]\n"
          ]
        },
        {
          "output_type": "stream",
          "name": "stdout",
          "text": [
            "epoch: 385, loss: 0.002223\n"
          ]
        },
        {
          "output_type": "stream",
          "name": "stderr",
          "text": [
            "1it [00:00,  1.98it/s]\n"
          ]
        },
        {
          "output_type": "stream",
          "name": "stdout",
          "text": [
            "epoch: 386, loss: 0.002428\n"
          ]
        },
        {
          "output_type": "stream",
          "name": "stderr",
          "text": [
            "1it [00:00,  1.95it/s]\n"
          ]
        },
        {
          "output_type": "stream",
          "name": "stdout",
          "text": [
            "epoch: 387, loss: 0.002829\n"
          ]
        },
        {
          "output_type": "stream",
          "name": "stderr",
          "text": [
            "1it [00:00,  1.98it/s]\n"
          ]
        },
        {
          "output_type": "stream",
          "name": "stdout",
          "text": [
            "epoch: 388, loss: 0.002587\n"
          ]
        },
        {
          "output_type": "stream",
          "name": "stderr",
          "text": [
            "1it [00:00,  1.95it/s]\n"
          ]
        },
        {
          "output_type": "stream",
          "name": "stdout",
          "text": [
            "epoch: 389, loss: 0.002586\n"
          ]
        },
        {
          "output_type": "stream",
          "name": "stderr",
          "text": [
            "1it [00:00,  1.90it/s]\n"
          ]
        },
        {
          "output_type": "stream",
          "name": "stdout",
          "text": [
            "epoch: 390, loss: 0.002595\n"
          ]
        },
        {
          "output_type": "stream",
          "name": "stderr",
          "text": [
            "1it [00:00,  1.88it/s]\n"
          ]
        },
        {
          "output_type": "stream",
          "name": "stdout",
          "text": [
            "epoch: 391, loss: 0.002209\n"
          ]
        },
        {
          "output_type": "stream",
          "name": "stderr",
          "text": [
            "1it [00:00,  2.00it/s]\n"
          ]
        },
        {
          "output_type": "stream",
          "name": "stdout",
          "text": [
            "epoch: 392, loss: 0.003917\n"
          ]
        },
        {
          "output_type": "stream",
          "name": "stderr",
          "text": [
            "1it [00:00,  2.00it/s]\n"
          ]
        },
        {
          "output_type": "stream",
          "name": "stdout",
          "text": [
            "epoch: 393, loss: 0.003175\n"
          ]
        },
        {
          "output_type": "stream",
          "name": "stderr",
          "text": [
            "1it [00:00,  2.00it/s]\n"
          ]
        },
        {
          "output_type": "stream",
          "name": "stdout",
          "text": [
            "epoch: 394, loss: 0.002886\n"
          ]
        },
        {
          "output_type": "stream",
          "name": "stderr",
          "text": [
            "1it [00:00,  1.98it/s]\n"
          ]
        },
        {
          "output_type": "stream",
          "name": "stdout",
          "text": [
            "epoch: 395, loss: 0.004367\n"
          ]
        },
        {
          "output_type": "stream",
          "name": "stderr",
          "text": [
            "1it [00:00,  1.93it/s]\n"
          ]
        },
        {
          "output_type": "stream",
          "name": "stdout",
          "text": [
            "epoch: 396, loss: 0.002233\n"
          ]
        },
        {
          "output_type": "stream",
          "name": "stderr",
          "text": [
            "1it [00:00,  1.99it/s]\n"
          ]
        },
        {
          "output_type": "stream",
          "name": "stdout",
          "text": [
            "epoch: 397, loss: 0.002973\n"
          ]
        },
        {
          "output_type": "stream",
          "name": "stderr",
          "text": [
            "1it [00:00,  1.97it/s]\n"
          ]
        },
        {
          "output_type": "stream",
          "name": "stdout",
          "text": [
            "epoch: 398, loss: 0.002468\n"
          ]
        },
        {
          "output_type": "stream",
          "name": "stderr",
          "text": [
            "1it [00:00,  1.97it/s]\n"
          ]
        },
        {
          "output_type": "stream",
          "name": "stdout",
          "text": [
            "epoch: 399, loss: 0.004335\n"
          ]
        },
        {
          "output_type": "stream",
          "name": "stderr",
          "text": [
            "1it [00:00,  2.01it/s]\n"
          ]
        },
        {
          "output_type": "stream",
          "name": "stdout",
          "text": [
            "epoch: 400, loss: 0.002593\n"
          ]
        },
        {
          "output_type": "stream",
          "name": "stderr",
          "text": [
            "1it [00:00,  1.95it/s]\n"
          ]
        },
        {
          "output_type": "stream",
          "name": "stdout",
          "text": [
            "epoch: 401, loss: 0.003117\n"
          ]
        },
        {
          "output_type": "stream",
          "name": "stderr",
          "text": [
            "1it [00:00,  2.00it/s]\n"
          ]
        },
        {
          "output_type": "stream",
          "name": "stdout",
          "text": [
            "epoch: 402, loss: 0.00353\n"
          ]
        },
        {
          "output_type": "stream",
          "name": "stderr",
          "text": [
            "1it [00:00,  1.89it/s]\n"
          ]
        },
        {
          "output_type": "stream",
          "name": "stdout",
          "text": [
            "epoch: 403, loss: 0.002093\n"
          ]
        },
        {
          "output_type": "stream",
          "name": "stderr",
          "text": [
            "1it [00:00,  1.92it/s]\n"
          ]
        },
        {
          "output_type": "stream",
          "name": "stdout",
          "text": [
            "epoch: 404, loss: 0.00301\n"
          ]
        },
        {
          "output_type": "stream",
          "name": "stderr",
          "text": [
            "1it [00:00,  1.93it/s]\n"
          ]
        },
        {
          "output_type": "stream",
          "name": "stdout",
          "text": [
            "epoch: 405, loss: 0.003382\n"
          ]
        },
        {
          "output_type": "stream",
          "name": "stderr",
          "text": [
            "1it [00:00,  1.93it/s]\n"
          ]
        },
        {
          "output_type": "stream",
          "name": "stdout",
          "text": [
            "epoch: 406, loss: 0.003624\n"
          ]
        },
        {
          "output_type": "stream",
          "name": "stderr",
          "text": [
            "1it [00:00,  1.99it/s]\n"
          ]
        },
        {
          "output_type": "stream",
          "name": "stdout",
          "text": [
            "epoch: 407, loss: 0.003936\n"
          ]
        },
        {
          "output_type": "stream",
          "name": "stderr",
          "text": [
            "1it [00:00,  1.99it/s]\n"
          ]
        },
        {
          "output_type": "stream",
          "name": "stdout",
          "text": [
            "epoch: 408, loss: 0.002452\n"
          ]
        },
        {
          "output_type": "stream",
          "name": "stderr",
          "text": [
            "1it [00:00,  2.00it/s]\n"
          ]
        },
        {
          "output_type": "stream",
          "name": "stdout",
          "text": [
            "epoch: 409, loss: 0.00316\n"
          ]
        },
        {
          "output_type": "stream",
          "name": "stderr",
          "text": [
            "1it [00:00,  1.96it/s]\n"
          ]
        },
        {
          "output_type": "stream",
          "name": "stdout",
          "text": [
            "epoch: 410, loss: 0.003296\n"
          ]
        },
        {
          "output_type": "stream",
          "name": "stderr",
          "text": [
            "1it [00:00,  1.97it/s]\n"
          ]
        },
        {
          "output_type": "stream",
          "name": "stdout",
          "text": [
            "epoch: 411, loss: 0.002229\n"
          ]
        },
        {
          "output_type": "stream",
          "name": "stderr",
          "text": [
            "1it [00:00,  2.00it/s]\n"
          ]
        },
        {
          "output_type": "stream",
          "name": "stdout",
          "text": [
            "epoch: 412, loss: 0.002434\n"
          ]
        },
        {
          "output_type": "stream",
          "name": "stderr",
          "text": [
            "1it [00:00,  1.96it/s]\n"
          ]
        },
        {
          "output_type": "stream",
          "name": "stdout",
          "text": [
            "epoch: 413, loss: 0.004521\n"
          ]
        },
        {
          "output_type": "stream",
          "name": "stderr",
          "text": [
            "1it [00:00,  1.99it/s]\n"
          ]
        },
        {
          "output_type": "stream",
          "name": "stdout",
          "text": [
            "epoch: 414, loss: 0.002987\n"
          ]
        },
        {
          "output_type": "stream",
          "name": "stderr",
          "text": [
            "1it [00:00,  1.98it/s]\n"
          ]
        },
        {
          "output_type": "stream",
          "name": "stdout",
          "text": [
            "epoch: 415, loss: 0.002581\n"
          ]
        },
        {
          "output_type": "stream",
          "name": "stderr",
          "text": [
            "1it [00:00,  1.92it/s]\n"
          ]
        },
        {
          "output_type": "stream",
          "name": "stdout",
          "text": [
            "epoch: 416, loss: 0.004431\n"
          ]
        },
        {
          "output_type": "stream",
          "name": "stderr",
          "text": [
            "1it [00:00,  1.97it/s]\n"
          ]
        },
        {
          "output_type": "stream",
          "name": "stdout",
          "text": [
            "epoch: 417, loss: 0.002913\n"
          ]
        },
        {
          "output_type": "stream",
          "name": "stderr",
          "text": [
            "1it [00:00,  1.97it/s]\n"
          ]
        },
        {
          "output_type": "stream",
          "name": "stdout",
          "text": [
            "epoch: 418, loss: 0.003138\n"
          ]
        },
        {
          "output_type": "stream",
          "name": "stderr",
          "text": [
            "1it [00:00,  1.95it/s]\n"
          ]
        },
        {
          "output_type": "stream",
          "name": "stdout",
          "text": [
            "epoch: 419, loss: 0.004908\n"
          ]
        },
        {
          "output_type": "stream",
          "name": "stderr",
          "text": [
            "1it [00:00,  1.96it/s]\n"
          ]
        },
        {
          "output_type": "stream",
          "name": "stdout",
          "text": [
            "epoch: 420, loss: 0.002456\n"
          ]
        },
        {
          "output_type": "stream",
          "name": "stderr",
          "text": [
            "1it [00:00,  1.97it/s]\n"
          ]
        },
        {
          "output_type": "stream",
          "name": "stdout",
          "text": [
            "epoch: 421, loss: 0.003322\n"
          ]
        },
        {
          "output_type": "stream",
          "name": "stderr",
          "text": [
            "1it [00:00,  2.00it/s]\n"
          ]
        },
        {
          "output_type": "stream",
          "name": "stdout",
          "text": [
            "epoch: 422, loss: 0.003234\n"
          ]
        },
        {
          "output_type": "stream",
          "name": "stderr",
          "text": [
            "1it [00:00,  1.97it/s]\n"
          ]
        },
        {
          "output_type": "stream",
          "name": "stdout",
          "text": [
            "epoch: 423, loss: 0.002695\n"
          ]
        },
        {
          "output_type": "stream",
          "name": "stderr",
          "text": [
            "1it [00:00,  2.01it/s]\n"
          ]
        },
        {
          "output_type": "stream",
          "name": "stdout",
          "text": [
            "epoch: 424, loss: 0.004932\n"
          ]
        },
        {
          "output_type": "stream",
          "name": "stderr",
          "text": [
            "1it [00:00,  1.94it/s]\n"
          ]
        },
        {
          "output_type": "stream",
          "name": "stdout",
          "text": [
            "epoch: 425, loss: 0.003919\n"
          ]
        },
        {
          "output_type": "stream",
          "name": "stderr",
          "text": [
            "1it [00:00,  1.90it/s]\n"
          ]
        },
        {
          "output_type": "stream",
          "name": "stdout",
          "text": [
            "epoch: 426, loss: 0.002903\n"
          ]
        },
        {
          "output_type": "stream",
          "name": "stderr",
          "text": [
            "1it [00:00,  1.84it/s]\n"
          ]
        },
        {
          "output_type": "stream",
          "name": "stdout",
          "text": [
            "epoch: 427, loss: 0.003077\n"
          ]
        },
        {
          "output_type": "stream",
          "name": "stderr",
          "text": [
            "1it [00:00,  1.90it/s]\n"
          ]
        },
        {
          "output_type": "stream",
          "name": "stdout",
          "text": [
            "epoch: 428, loss: 0.003145\n"
          ]
        },
        {
          "output_type": "stream",
          "name": "stderr",
          "text": [
            "1it [00:00,  1.89it/s]\n"
          ]
        },
        {
          "output_type": "stream",
          "name": "stdout",
          "text": [
            "epoch: 429, loss: 0.003133\n"
          ]
        },
        {
          "output_type": "stream",
          "name": "stderr",
          "text": [
            "1it [00:00,  1.94it/s]\n"
          ]
        },
        {
          "output_type": "stream",
          "name": "stdout",
          "text": [
            "epoch: 430, loss: 0.002601\n"
          ]
        },
        {
          "output_type": "stream",
          "name": "stderr",
          "text": [
            "1it [00:00,  1.93it/s]\n"
          ]
        },
        {
          "output_type": "stream",
          "name": "stdout",
          "text": [
            "epoch: 431, loss: 0.005971\n"
          ]
        },
        {
          "output_type": "stream",
          "name": "stderr",
          "text": [
            "1it [00:00,  1.89it/s]\n"
          ]
        },
        {
          "output_type": "stream",
          "name": "stdout",
          "text": [
            "epoch: 432, loss: 0.003502\n"
          ]
        },
        {
          "output_type": "stream",
          "name": "stderr",
          "text": [
            "1it [00:00,  1.96it/s]\n"
          ]
        },
        {
          "output_type": "stream",
          "name": "stdout",
          "text": [
            "epoch: 433, loss: 0.002303\n"
          ]
        },
        {
          "output_type": "stream",
          "name": "stderr",
          "text": [
            "1it [00:00,  1.97it/s]\n"
          ]
        },
        {
          "output_type": "stream",
          "name": "stdout",
          "text": [
            "epoch: 434, loss: 0.003501\n"
          ]
        },
        {
          "output_type": "stream",
          "name": "stderr",
          "text": [
            "1it [00:00,  1.98it/s]\n"
          ]
        },
        {
          "output_type": "stream",
          "name": "stdout",
          "text": [
            "epoch: 435, loss: 0.00298\n"
          ]
        },
        {
          "output_type": "stream",
          "name": "stderr",
          "text": [
            "1it [00:00,  2.01it/s]\n"
          ]
        },
        {
          "output_type": "stream",
          "name": "stdout",
          "text": [
            "epoch: 436, loss: 0.002858\n"
          ]
        },
        {
          "output_type": "stream",
          "name": "stderr",
          "text": [
            "1it [00:00,  1.97it/s]\n"
          ]
        },
        {
          "output_type": "stream",
          "name": "stdout",
          "text": [
            "epoch: 437, loss: 0.002608\n"
          ]
        },
        {
          "output_type": "stream",
          "name": "stderr",
          "text": [
            "1it [00:00,  1.99it/s]\n"
          ]
        },
        {
          "output_type": "stream",
          "name": "stdout",
          "text": [
            "epoch: 438, loss: 0.003494\n"
          ]
        },
        {
          "output_type": "stream",
          "name": "stderr",
          "text": [
            "1it [00:00,  1.91it/s]\n"
          ]
        },
        {
          "output_type": "stream",
          "name": "stdout",
          "text": [
            "epoch: 439, loss: 0.002494\n"
          ]
        },
        {
          "output_type": "stream",
          "name": "stderr",
          "text": [
            "1it [00:00,  1.99it/s]\n"
          ]
        },
        {
          "output_type": "stream",
          "name": "stdout",
          "text": [
            "epoch: 440, loss: 0.002698\n"
          ]
        },
        {
          "output_type": "stream",
          "name": "stderr",
          "text": [
            "1it [00:00,  1.97it/s]\n"
          ]
        },
        {
          "output_type": "stream",
          "name": "stdout",
          "text": [
            "epoch: 441, loss: 0.003151\n"
          ]
        },
        {
          "output_type": "stream",
          "name": "stderr",
          "text": [
            "1it [00:00,  1.96it/s]\n"
          ]
        },
        {
          "output_type": "stream",
          "name": "stdout",
          "text": [
            "epoch: 442, loss: 0.002176\n"
          ]
        },
        {
          "output_type": "stream",
          "name": "stderr",
          "text": [
            "1it [00:00,  1.94it/s]\n"
          ]
        },
        {
          "output_type": "stream",
          "name": "stdout",
          "text": [
            "epoch: 443, loss: 0.00299\n"
          ]
        },
        {
          "output_type": "stream",
          "name": "stderr",
          "text": [
            "1it [00:00,  1.99it/s]\n"
          ]
        },
        {
          "output_type": "stream",
          "name": "stdout",
          "text": [
            "epoch: 444, loss: 0.002824\n"
          ]
        },
        {
          "output_type": "stream",
          "name": "stderr",
          "text": [
            "1it [00:00,  1.99it/s]\n"
          ]
        },
        {
          "output_type": "stream",
          "name": "stdout",
          "text": [
            "epoch: 445, loss: 0.003371\n"
          ]
        },
        {
          "output_type": "stream",
          "name": "stderr",
          "text": [
            "1it [00:00,  1.94it/s]\n"
          ]
        },
        {
          "output_type": "stream",
          "name": "stdout",
          "text": [
            "epoch: 446, loss: 0.004192\n"
          ]
        },
        {
          "output_type": "stream",
          "name": "stderr",
          "text": [
            "1it [00:00,  1.98it/s]\n"
          ]
        },
        {
          "output_type": "stream",
          "name": "stdout",
          "text": [
            "epoch: 447, loss: 0.002488\n"
          ]
        },
        {
          "output_type": "stream",
          "name": "stderr",
          "text": [
            "1it [00:00,  1.92it/s]\n"
          ]
        },
        {
          "output_type": "stream",
          "name": "stdout",
          "text": [
            "epoch: 448, loss: 0.002723\n"
          ]
        },
        {
          "output_type": "stream",
          "name": "stderr",
          "text": [
            "1it [00:00,  1.91it/s]\n"
          ]
        },
        {
          "output_type": "stream",
          "name": "stdout",
          "text": [
            "epoch: 449, loss: 0.003369\n"
          ]
        },
        {
          "output_type": "stream",
          "name": "stderr",
          "text": [
            "1it [00:00,  1.94it/s]\n"
          ]
        },
        {
          "output_type": "stream",
          "name": "stdout",
          "text": [
            "epoch: 450, loss: 0.00209\n"
          ]
        },
        {
          "output_type": "stream",
          "name": "stderr",
          "text": [
            "1it [00:00,  1.94it/s]\n"
          ]
        },
        {
          "output_type": "stream",
          "name": "stdout",
          "text": [
            "epoch: 451, loss: 0.001862\n"
          ]
        },
        {
          "output_type": "stream",
          "name": "stderr",
          "text": [
            "1it [00:00,  1.80it/s]\n"
          ]
        },
        {
          "output_type": "stream",
          "name": "stdout",
          "text": [
            "epoch: 452, loss: 0.002614\n"
          ]
        },
        {
          "output_type": "stream",
          "name": "stderr",
          "text": [
            "1it [00:00,  1.90it/s]\n"
          ]
        },
        {
          "output_type": "stream",
          "name": "stdout",
          "text": [
            "epoch: 453, loss: 0.003237\n"
          ]
        },
        {
          "output_type": "stream",
          "name": "stderr",
          "text": [
            "1it [00:00,  1.94it/s]\n"
          ]
        },
        {
          "output_type": "stream",
          "name": "stdout",
          "text": [
            "epoch: 454, loss: 0.002415\n"
          ]
        },
        {
          "output_type": "stream",
          "name": "stderr",
          "text": [
            "1it [00:00,  1.98it/s]\n"
          ]
        },
        {
          "output_type": "stream",
          "name": "stdout",
          "text": [
            "epoch: 455, loss: 0.002837\n"
          ]
        },
        {
          "output_type": "stream",
          "name": "stderr",
          "text": [
            "1it [00:00,  1.98it/s]\n"
          ]
        },
        {
          "output_type": "stream",
          "name": "stdout",
          "text": [
            "epoch: 456, loss: 0.003327\n"
          ]
        },
        {
          "output_type": "stream",
          "name": "stderr",
          "text": [
            "1it [00:00,  1.96it/s]\n"
          ]
        },
        {
          "output_type": "stream",
          "name": "stdout",
          "text": [
            "epoch: 457, loss: 0.002701\n"
          ]
        },
        {
          "output_type": "stream",
          "name": "stderr",
          "text": [
            "1it [00:00,  1.99it/s]\n"
          ]
        },
        {
          "output_type": "stream",
          "name": "stdout",
          "text": [
            "epoch: 458, loss: 0.003345\n"
          ]
        },
        {
          "output_type": "stream",
          "name": "stderr",
          "text": [
            "1it [00:00,  2.00it/s]\n"
          ]
        },
        {
          "output_type": "stream",
          "name": "stdout",
          "text": [
            "epoch: 459, loss: 0.002361\n"
          ]
        },
        {
          "output_type": "stream",
          "name": "stderr",
          "text": [
            "1it [00:00,  1.96it/s]\n"
          ]
        },
        {
          "output_type": "stream",
          "name": "stdout",
          "text": [
            "epoch: 460, loss: 0.002963\n"
          ]
        },
        {
          "output_type": "stream",
          "name": "stderr",
          "text": [
            "1it [00:00,  1.96it/s]\n"
          ]
        },
        {
          "output_type": "stream",
          "name": "stdout",
          "text": [
            "epoch: 461, loss: 0.002823\n"
          ]
        },
        {
          "output_type": "stream",
          "name": "stderr",
          "text": [
            "1it [00:00,  1.97it/s]\n"
          ]
        },
        {
          "output_type": "stream",
          "name": "stdout",
          "text": [
            "epoch: 462, loss: 0.002867\n"
          ]
        },
        {
          "output_type": "stream",
          "name": "stderr",
          "text": [
            "1it [00:00,  1.98it/s]\n"
          ]
        },
        {
          "output_type": "stream",
          "name": "stdout",
          "text": [
            "epoch: 463, loss: 0.00444\n"
          ]
        },
        {
          "output_type": "stream",
          "name": "stderr",
          "text": [
            "1it [00:00,  1.99it/s]\n"
          ]
        },
        {
          "output_type": "stream",
          "name": "stdout",
          "text": [
            "epoch: 464, loss: 0.002661\n"
          ]
        },
        {
          "output_type": "stream",
          "name": "stderr",
          "text": [
            "1it [00:00,  1.96it/s]\n"
          ]
        },
        {
          "output_type": "stream",
          "name": "stdout",
          "text": [
            "epoch: 465, loss: 0.0036\n"
          ]
        },
        {
          "output_type": "stream",
          "name": "stderr",
          "text": [
            "1it [00:00,  1.96it/s]\n"
          ]
        },
        {
          "output_type": "stream",
          "name": "stdout",
          "text": [
            "epoch: 466, loss: 0.002742\n"
          ]
        },
        {
          "output_type": "stream",
          "name": "stderr",
          "text": [
            "1it [00:00,  1.97it/s]\n"
          ]
        },
        {
          "output_type": "stream",
          "name": "stdout",
          "text": [
            "epoch: 467, loss: 0.002044\n"
          ]
        },
        {
          "output_type": "stream",
          "name": "stderr",
          "text": [
            "1it [00:00,  1.94it/s]\n"
          ]
        },
        {
          "output_type": "stream",
          "name": "stdout",
          "text": [
            "epoch: 468, loss: 0.002286\n"
          ]
        },
        {
          "output_type": "stream",
          "name": "stderr",
          "text": [
            "1it [00:00,  1.97it/s]\n"
          ]
        },
        {
          "output_type": "stream",
          "name": "stdout",
          "text": [
            "epoch: 469, loss: 0.003585\n"
          ]
        },
        {
          "output_type": "stream",
          "name": "stderr",
          "text": [
            "1it [00:00,  1.96it/s]\n"
          ]
        },
        {
          "output_type": "stream",
          "name": "stdout",
          "text": [
            "epoch: 470, loss: 0.0024\n"
          ]
        },
        {
          "output_type": "stream",
          "name": "stderr",
          "text": [
            "1it [00:00,  1.93it/s]\n"
          ]
        },
        {
          "output_type": "stream",
          "name": "stdout",
          "text": [
            "epoch: 471, loss: 0.001899\n"
          ]
        },
        {
          "output_type": "stream",
          "name": "stderr",
          "text": [
            "1it [00:00,  1.90it/s]\n"
          ]
        },
        {
          "output_type": "stream",
          "name": "stdout",
          "text": [
            "epoch: 472, loss: 0.002901\n"
          ]
        },
        {
          "output_type": "stream",
          "name": "stderr",
          "text": [
            "1it [00:00,  1.87it/s]\n"
          ]
        },
        {
          "output_type": "stream",
          "name": "stdout",
          "text": [
            "epoch: 473, loss: 0.002099\n"
          ]
        },
        {
          "output_type": "stream",
          "name": "stderr",
          "text": [
            "1it [00:00,  1.89it/s]\n"
          ]
        },
        {
          "output_type": "stream",
          "name": "stdout",
          "text": [
            "epoch: 474, loss: 0.002843\n"
          ]
        },
        {
          "output_type": "stream",
          "name": "stderr",
          "text": [
            "1it [00:00,  1.80it/s]\n"
          ]
        },
        {
          "output_type": "stream",
          "name": "stdout",
          "text": [
            "epoch: 475, loss: 0.00256\n"
          ]
        },
        {
          "output_type": "stream",
          "name": "stderr",
          "text": [
            "1it [00:00,  1.97it/s]\n"
          ]
        },
        {
          "output_type": "stream",
          "name": "stdout",
          "text": [
            "epoch: 476, loss: 0.003471\n"
          ]
        },
        {
          "output_type": "stream",
          "name": "stderr",
          "text": [
            "1it [00:00,  1.91it/s]\n"
          ]
        },
        {
          "output_type": "stream",
          "name": "stdout",
          "text": [
            "epoch: 477, loss: 0.002088\n"
          ]
        },
        {
          "output_type": "stream",
          "name": "stderr",
          "text": [
            "1it [00:00,  1.96it/s]\n"
          ]
        },
        {
          "output_type": "stream",
          "name": "stdout",
          "text": [
            "epoch: 478, loss: 0.002256\n"
          ]
        },
        {
          "output_type": "stream",
          "name": "stderr",
          "text": [
            "1it [00:00,  1.89it/s]\n"
          ]
        },
        {
          "output_type": "stream",
          "name": "stdout",
          "text": [
            "epoch: 479, loss: 0.003035\n"
          ]
        },
        {
          "output_type": "stream",
          "name": "stderr",
          "text": [
            "1it [00:00,  1.95it/s]\n"
          ]
        },
        {
          "output_type": "stream",
          "name": "stdout",
          "text": [
            "epoch: 480, loss: 0.001665\n"
          ]
        },
        {
          "output_type": "stream",
          "name": "stderr",
          "text": [
            "1it [00:00,  1.95it/s]\n"
          ]
        },
        {
          "output_type": "stream",
          "name": "stdout",
          "text": [
            "epoch: 481, loss: 0.002987\n"
          ]
        },
        {
          "output_type": "stream",
          "name": "stderr",
          "text": [
            "1it [00:00,  2.00it/s]\n"
          ]
        },
        {
          "output_type": "stream",
          "name": "stdout",
          "text": [
            "epoch: 482, loss: 0.001628\n"
          ]
        },
        {
          "output_type": "stream",
          "name": "stderr",
          "text": [
            "1it [00:00,  1.97it/s]\n"
          ]
        },
        {
          "output_type": "stream",
          "name": "stdout",
          "text": [
            "epoch: 483, loss: 0.003072\n"
          ]
        },
        {
          "output_type": "stream",
          "name": "stderr",
          "text": [
            "1it [00:00,  2.00it/s]\n"
          ]
        },
        {
          "output_type": "stream",
          "name": "stdout",
          "text": [
            "epoch: 484, loss: 0.002895\n"
          ]
        },
        {
          "output_type": "stream",
          "name": "stderr",
          "text": [
            "1it [00:00,  1.86it/s]\n"
          ]
        },
        {
          "output_type": "stream",
          "name": "stdout",
          "text": [
            "epoch: 485, loss: 0.002452\n"
          ]
        },
        {
          "output_type": "stream",
          "name": "stderr",
          "text": [
            "1it [00:00,  1.96it/s]\n"
          ]
        },
        {
          "output_type": "stream",
          "name": "stdout",
          "text": [
            "epoch: 486, loss: 0.003485\n"
          ]
        },
        {
          "output_type": "stream",
          "name": "stderr",
          "text": [
            "1it [00:00,  2.00it/s]\n"
          ]
        },
        {
          "output_type": "stream",
          "name": "stdout",
          "text": [
            "epoch: 487, loss: 0.003383\n"
          ]
        },
        {
          "output_type": "stream",
          "name": "stderr",
          "text": [
            "1it [00:00,  1.99it/s]\n"
          ]
        },
        {
          "output_type": "stream",
          "name": "stdout",
          "text": [
            "epoch: 488, loss: 0.002277\n"
          ]
        },
        {
          "output_type": "stream",
          "name": "stderr",
          "text": [
            "1it [00:00,  1.94it/s]\n"
          ]
        },
        {
          "output_type": "stream",
          "name": "stdout",
          "text": [
            "epoch: 489, loss: 0.003058\n"
          ]
        },
        {
          "output_type": "stream",
          "name": "stderr",
          "text": [
            "1it [00:00,  1.88it/s]\n"
          ]
        },
        {
          "output_type": "stream",
          "name": "stdout",
          "text": [
            "epoch: 490, loss: 0.003138\n"
          ]
        },
        {
          "output_type": "stream",
          "name": "stderr",
          "text": [
            "1it [00:00,  1.92it/s]\n"
          ]
        },
        {
          "output_type": "stream",
          "name": "stdout",
          "text": [
            "epoch: 491, loss: 0.00475\n"
          ]
        },
        {
          "output_type": "stream",
          "name": "stderr",
          "text": [
            "1it [00:00,  1.99it/s]\n"
          ]
        },
        {
          "output_type": "stream",
          "name": "stdout",
          "text": [
            "epoch: 492, loss: 0.003003\n"
          ]
        },
        {
          "output_type": "stream",
          "name": "stderr",
          "text": [
            "1it [00:00,  1.94it/s]\n"
          ]
        },
        {
          "output_type": "stream",
          "name": "stdout",
          "text": [
            "epoch: 493, loss: 0.002386\n"
          ]
        },
        {
          "output_type": "stream",
          "name": "stderr",
          "text": [
            "1it [00:00,  1.99it/s]\n"
          ]
        },
        {
          "output_type": "stream",
          "name": "stdout",
          "text": [
            "epoch: 494, loss: 0.002426\n"
          ]
        },
        {
          "output_type": "stream",
          "name": "stderr",
          "text": [
            "1it [00:00,  1.63it/s]\n"
          ]
        },
        {
          "output_type": "stream",
          "name": "stdout",
          "text": [
            "epoch: 495, loss: 0.002221\n"
          ]
        },
        {
          "output_type": "stream",
          "name": "stderr",
          "text": [
            "1it [00:00,  1.81it/s]\n"
          ]
        },
        {
          "output_type": "stream",
          "name": "stdout",
          "text": [
            "epoch: 496, loss: 0.004034\n"
          ]
        },
        {
          "output_type": "stream",
          "name": "stderr",
          "text": [
            "1it [00:00,  1.77it/s]\n"
          ]
        },
        {
          "output_type": "stream",
          "name": "stdout",
          "text": [
            "epoch: 497, loss: 0.002399\n"
          ]
        },
        {
          "output_type": "stream",
          "name": "stderr",
          "text": [
            "1it [00:00,  1.87it/s]\n"
          ]
        },
        {
          "output_type": "stream",
          "name": "stdout",
          "text": [
            "epoch: 498, loss: 0.002631\n"
          ]
        },
        {
          "output_type": "stream",
          "name": "stderr",
          "text": [
            "1it [00:00,  1.93it/s]\n"
          ]
        },
        {
          "output_type": "stream",
          "name": "stdout",
          "text": [
            "epoch: 499, loss: 0.002867\n"
          ]
        },
        {
          "output_type": "stream",
          "name": "stderr",
          "text": [
            "1it [00:00,  1.96it/s]\n"
          ]
        },
        {
          "output_type": "stream",
          "name": "stdout",
          "text": [
            "epoch: 500, loss: 0.002879\n"
          ]
        },
        {
          "output_type": "stream",
          "name": "stderr",
          "text": [
            "1it [00:00,  2.01it/s]\n"
          ]
        },
        {
          "output_type": "stream",
          "name": "stdout",
          "text": [
            "epoch: 501, loss: 0.002943\n"
          ]
        },
        {
          "output_type": "stream",
          "name": "stderr",
          "text": [
            "1it [00:00,  1.86it/s]\n"
          ]
        },
        {
          "output_type": "stream",
          "name": "stdout",
          "text": [
            "epoch: 502, loss: 0.001803\n"
          ]
        },
        {
          "output_type": "stream",
          "name": "stderr",
          "text": [
            "1it [00:00,  1.97it/s]\n"
          ]
        },
        {
          "output_type": "stream",
          "name": "stdout",
          "text": [
            "epoch: 503, loss: 0.002493\n"
          ]
        },
        {
          "output_type": "stream",
          "name": "stderr",
          "text": [
            "1it [00:00,  1.98it/s]\n"
          ]
        },
        {
          "output_type": "stream",
          "name": "stdout",
          "text": [
            "epoch: 504, loss: 0.001796\n"
          ]
        },
        {
          "output_type": "stream",
          "name": "stderr",
          "text": [
            "1it [00:00,  1.95it/s]\n"
          ]
        },
        {
          "output_type": "stream",
          "name": "stdout",
          "text": [
            "epoch: 505, loss: 0.004236\n"
          ]
        },
        {
          "output_type": "stream",
          "name": "stderr",
          "text": [
            "1it [00:00,  1.99it/s]\n"
          ]
        },
        {
          "output_type": "stream",
          "name": "stdout",
          "text": [
            "epoch: 506, loss: 0.001779\n"
          ]
        },
        {
          "output_type": "stream",
          "name": "stderr",
          "text": [
            "1it [00:00,  2.01it/s]\n"
          ]
        },
        {
          "output_type": "stream",
          "name": "stdout",
          "text": [
            "epoch: 507, loss: 0.002719\n"
          ]
        },
        {
          "output_type": "stream",
          "name": "stderr",
          "text": [
            "1it [00:00,  1.98it/s]\n"
          ]
        },
        {
          "output_type": "stream",
          "name": "stdout",
          "text": [
            "epoch: 508, loss: 0.004102\n"
          ]
        },
        {
          "output_type": "stream",
          "name": "stderr",
          "text": [
            "1it [00:00,  1.95it/s]\n"
          ]
        },
        {
          "output_type": "stream",
          "name": "stdout",
          "text": [
            "epoch: 509, loss: 0.001955\n"
          ]
        },
        {
          "output_type": "stream",
          "name": "stderr",
          "text": [
            "1it [00:00,  1.99it/s]\n"
          ]
        },
        {
          "output_type": "stream",
          "name": "stdout",
          "text": [
            "epoch: 510, loss: 0.003166\n"
          ]
        },
        {
          "output_type": "stream",
          "name": "stderr",
          "text": [
            "1it [00:00,  1.97it/s]\n"
          ]
        },
        {
          "output_type": "stream",
          "name": "stdout",
          "text": [
            "epoch: 511, loss: 0.002985\n"
          ]
        },
        {
          "output_type": "stream",
          "name": "stderr",
          "text": [
            "1it [00:00,  1.97it/s]\n"
          ]
        },
        {
          "output_type": "stream",
          "name": "stdout",
          "text": [
            "epoch: 512, loss: 0.003978\n"
          ]
        },
        {
          "output_type": "stream",
          "name": "stderr",
          "text": [
            "1it [00:00,  2.01it/s]\n"
          ]
        },
        {
          "output_type": "stream",
          "name": "stdout",
          "text": [
            "epoch: 513, loss: 0.00283\n"
          ]
        },
        {
          "output_type": "stream",
          "name": "stderr",
          "text": [
            "1it [00:00,  1.99it/s]\n"
          ]
        },
        {
          "output_type": "stream",
          "name": "stdout",
          "text": [
            "epoch: 514, loss: 0.002475\n"
          ]
        },
        {
          "output_type": "stream",
          "name": "stderr",
          "text": [
            "1it [00:00,  1.96it/s]\n"
          ]
        },
        {
          "output_type": "stream",
          "name": "stdout",
          "text": [
            "epoch: 515, loss: 0.003539\n"
          ]
        },
        {
          "output_type": "stream",
          "name": "stderr",
          "text": [
            "1it [00:00,  1.94it/s]\n"
          ]
        },
        {
          "output_type": "stream",
          "name": "stdout",
          "text": [
            "epoch: 516, loss: 0.002651\n"
          ]
        },
        {
          "output_type": "stream",
          "name": "stderr",
          "text": [
            "1it [00:00,  1.95it/s]\n"
          ]
        },
        {
          "output_type": "stream",
          "name": "stdout",
          "text": [
            "epoch: 517, loss: 0.003751\n"
          ]
        },
        {
          "output_type": "stream",
          "name": "stderr",
          "text": [
            "1it [00:00,  1.96it/s]\n"
          ]
        },
        {
          "output_type": "stream",
          "name": "stdout",
          "text": [
            "epoch: 518, loss: 0.002438\n"
          ]
        },
        {
          "output_type": "stream",
          "name": "stderr",
          "text": [
            "1it [00:00,  1.95it/s]\n"
          ]
        },
        {
          "output_type": "stream",
          "name": "stdout",
          "text": [
            "epoch: 519, loss: 0.003634\n"
          ]
        },
        {
          "output_type": "stream",
          "name": "stderr",
          "text": [
            "1it [00:00,  1.80it/s]\n"
          ]
        },
        {
          "output_type": "stream",
          "name": "stdout",
          "text": [
            "epoch: 520, loss: 0.0028\n"
          ]
        },
        {
          "output_type": "stream",
          "name": "stderr",
          "text": [
            "1it [00:00,  1.98it/s]\n"
          ]
        },
        {
          "output_type": "stream",
          "name": "stdout",
          "text": [
            "epoch: 521, loss: 0.002531\n"
          ]
        },
        {
          "output_type": "stream",
          "name": "stderr",
          "text": [
            "1it [00:00,  1.96it/s]\n"
          ]
        },
        {
          "output_type": "stream",
          "name": "stdout",
          "text": [
            "epoch: 522, loss: 0.002802\n"
          ]
        },
        {
          "output_type": "stream",
          "name": "stderr",
          "text": [
            "1it [00:00,  1.99it/s]\n"
          ]
        },
        {
          "output_type": "stream",
          "name": "stdout",
          "text": [
            "epoch: 523, loss: 0.002758\n"
          ]
        },
        {
          "output_type": "stream",
          "name": "stderr",
          "text": [
            "1it [00:00,  1.97it/s]\n"
          ]
        },
        {
          "output_type": "stream",
          "name": "stdout",
          "text": [
            "epoch: 524, loss: 0.001891\n"
          ]
        },
        {
          "output_type": "stream",
          "name": "stderr",
          "text": [
            "1it [00:00,  2.01it/s]\n"
          ]
        },
        {
          "output_type": "stream",
          "name": "stdout",
          "text": [
            "epoch: 525, loss: 0.002588\n"
          ]
        },
        {
          "output_type": "stream",
          "name": "stderr",
          "text": [
            "1it [00:00,  1.92it/s]\n"
          ]
        },
        {
          "output_type": "stream",
          "name": "stdout",
          "text": [
            "epoch: 526, loss: 0.001571\n"
          ]
        },
        {
          "output_type": "stream",
          "name": "stderr",
          "text": [
            "1it [00:00,  1.94it/s]\n"
          ]
        },
        {
          "output_type": "stream",
          "name": "stdout",
          "text": [
            "epoch: 527, loss: 0.002238\n"
          ]
        },
        {
          "output_type": "stream",
          "name": "stderr",
          "text": [
            "1it [00:00,  1.93it/s]\n"
          ]
        },
        {
          "output_type": "stream",
          "name": "stdout",
          "text": [
            "epoch: 528, loss: 0.003463\n"
          ]
        },
        {
          "output_type": "stream",
          "name": "stderr",
          "text": [
            "1it [00:00,  1.99it/s]\n"
          ]
        },
        {
          "output_type": "stream",
          "name": "stdout",
          "text": [
            "epoch: 529, loss: 0.00207\n"
          ]
        },
        {
          "output_type": "stream",
          "name": "stderr",
          "text": [
            "1it [00:00,  1.94it/s]\n"
          ]
        },
        {
          "output_type": "stream",
          "name": "stdout",
          "text": [
            "epoch: 530, loss: 0.003252\n"
          ]
        },
        {
          "output_type": "stream",
          "name": "stderr",
          "text": [
            "1it [00:00,  1.87it/s]\n"
          ]
        },
        {
          "output_type": "stream",
          "name": "stdout",
          "text": [
            "epoch: 531, loss: 0.003318\n"
          ]
        },
        {
          "output_type": "stream",
          "name": "stderr",
          "text": [
            "1it [00:00,  1.96it/s]\n"
          ]
        },
        {
          "output_type": "stream",
          "name": "stdout",
          "text": [
            "epoch: 532, loss: 0.002484\n"
          ]
        },
        {
          "output_type": "stream",
          "name": "stderr",
          "text": [
            "1it [00:00,  1.93it/s]\n"
          ]
        },
        {
          "output_type": "stream",
          "name": "stdout",
          "text": [
            "epoch: 533, loss: 0.003219\n"
          ]
        },
        {
          "output_type": "stream",
          "name": "stderr",
          "text": [
            "1it [00:00,  1.99it/s]\n"
          ]
        },
        {
          "output_type": "stream",
          "name": "stdout",
          "text": [
            "epoch: 534, loss: 0.002838\n"
          ]
        },
        {
          "output_type": "stream",
          "name": "stderr",
          "text": [
            "1it [00:00,  1.96it/s]\n"
          ]
        },
        {
          "output_type": "stream",
          "name": "stdout",
          "text": [
            "epoch: 535, loss: 0.002989\n"
          ]
        },
        {
          "output_type": "stream",
          "name": "stderr",
          "text": [
            "1it [00:00,  1.99it/s]\n"
          ]
        },
        {
          "output_type": "stream",
          "name": "stdout",
          "text": [
            "epoch: 536, loss: 0.004053\n"
          ]
        },
        {
          "output_type": "stream",
          "name": "stderr",
          "text": [
            "1it [00:00,  1.99it/s]\n"
          ]
        },
        {
          "output_type": "stream",
          "name": "stdout",
          "text": [
            "epoch: 537, loss: 0.003969\n"
          ]
        },
        {
          "output_type": "stream",
          "name": "stderr",
          "text": [
            "1it [00:00,  1.93it/s]\n"
          ]
        },
        {
          "output_type": "stream",
          "name": "stdout",
          "text": [
            "epoch: 538, loss: 0.00224\n"
          ]
        },
        {
          "output_type": "stream",
          "name": "stderr",
          "text": [
            "1it [00:00,  1.99it/s]\n"
          ]
        },
        {
          "output_type": "stream",
          "name": "stdout",
          "text": [
            "epoch: 539, loss: 0.003433\n"
          ]
        },
        {
          "output_type": "stream",
          "name": "stderr",
          "text": [
            "1it [00:00,  1.94it/s]\n"
          ]
        },
        {
          "output_type": "stream",
          "name": "stdout",
          "text": [
            "epoch: 540, loss: 0.002681\n"
          ]
        },
        {
          "output_type": "stream",
          "name": "stderr",
          "text": [
            "1it [00:00,  1.90it/s]\n"
          ]
        },
        {
          "output_type": "stream",
          "name": "stdout",
          "text": [
            "epoch: 541, loss: 0.00493\n"
          ]
        },
        {
          "output_type": "stream",
          "name": "stderr",
          "text": [
            "1it [00:00,  1.92it/s]\n"
          ]
        },
        {
          "output_type": "stream",
          "name": "stdout",
          "text": [
            "epoch: 542, loss: 0.004036\n"
          ]
        },
        {
          "output_type": "stream",
          "name": "stderr",
          "text": [
            "1it [00:00,  1.87it/s]\n"
          ]
        },
        {
          "output_type": "stream",
          "name": "stdout",
          "text": [
            "epoch: 543, loss: 0.003821\n"
          ]
        },
        {
          "output_type": "stream",
          "name": "stderr",
          "text": [
            "1it [00:00,  1.91it/s]\n"
          ]
        },
        {
          "output_type": "stream",
          "name": "stdout",
          "text": [
            "epoch: 544, loss: 0.001885\n"
          ]
        },
        {
          "output_type": "stream",
          "name": "stderr",
          "text": [
            "1it [00:00,  1.95it/s]\n"
          ]
        },
        {
          "output_type": "stream",
          "name": "stdout",
          "text": [
            "epoch: 545, loss: 0.002335\n"
          ]
        },
        {
          "output_type": "stream",
          "name": "stderr",
          "text": [
            "1it [00:00,  1.98it/s]\n"
          ]
        },
        {
          "output_type": "stream",
          "name": "stdout",
          "text": [
            "epoch: 546, loss: 0.005148\n"
          ]
        },
        {
          "output_type": "stream",
          "name": "stderr",
          "text": [
            "1it [00:00,  1.94it/s]\n"
          ]
        },
        {
          "output_type": "stream",
          "name": "stdout",
          "text": [
            "epoch: 547, loss: 0.001817\n"
          ]
        },
        {
          "output_type": "stream",
          "name": "stderr",
          "text": [
            "1it [00:00,  1.98it/s]\n"
          ]
        },
        {
          "output_type": "stream",
          "name": "stdout",
          "text": [
            "epoch: 548, loss: 0.003788\n"
          ]
        },
        {
          "output_type": "stream",
          "name": "stderr",
          "text": [
            "1it [00:00,  2.00it/s]\n"
          ]
        },
        {
          "output_type": "stream",
          "name": "stdout",
          "text": [
            "epoch: 549, loss: 0.002299\n"
          ]
        },
        {
          "output_type": "stream",
          "name": "stderr",
          "text": [
            "1it [00:00,  1.91it/s]\n"
          ]
        },
        {
          "output_type": "stream",
          "name": "stdout",
          "text": [
            "epoch: 550, loss: 0.003474\n"
          ]
        },
        {
          "output_type": "stream",
          "name": "stderr",
          "text": [
            "1it [00:00,  1.98it/s]\n"
          ]
        },
        {
          "output_type": "stream",
          "name": "stdout",
          "text": [
            "epoch: 551, loss: 0.003327\n"
          ]
        },
        {
          "output_type": "stream",
          "name": "stderr",
          "text": [
            "1it [00:00,  2.00it/s]\n"
          ]
        },
        {
          "output_type": "stream",
          "name": "stdout",
          "text": [
            "epoch: 552, loss: 0.002609\n"
          ]
        },
        {
          "output_type": "stream",
          "name": "stderr",
          "text": [
            "1it [00:00,  1.93it/s]\n"
          ]
        },
        {
          "output_type": "stream",
          "name": "stdout",
          "text": [
            "epoch: 553, loss: 0.002895\n"
          ]
        },
        {
          "output_type": "stream",
          "name": "stderr",
          "text": [
            "1it [00:00,  1.98it/s]\n"
          ]
        },
        {
          "output_type": "stream",
          "name": "stdout",
          "text": [
            "epoch: 554, loss: 0.004107\n"
          ]
        },
        {
          "output_type": "stream",
          "name": "stderr",
          "text": [
            "1it [00:00,  1.95it/s]\n"
          ]
        },
        {
          "output_type": "stream",
          "name": "stdout",
          "text": [
            "epoch: 555, loss: 0.00248\n"
          ]
        },
        {
          "output_type": "stream",
          "name": "stderr",
          "text": [
            "1it [00:00,  1.95it/s]\n"
          ]
        },
        {
          "output_type": "stream",
          "name": "stdout",
          "text": [
            "epoch: 556, loss: 0.002428\n"
          ]
        },
        {
          "output_type": "stream",
          "name": "stderr",
          "text": [
            "1it [00:00,  1.96it/s]\n"
          ]
        },
        {
          "output_type": "stream",
          "name": "stdout",
          "text": [
            "epoch: 557, loss: 0.002502\n"
          ]
        },
        {
          "output_type": "stream",
          "name": "stderr",
          "text": [
            "1it [00:00,  1.94it/s]\n"
          ]
        },
        {
          "output_type": "stream",
          "name": "stdout",
          "text": [
            "epoch: 558, loss: 0.002428\n"
          ]
        },
        {
          "output_type": "stream",
          "name": "stderr",
          "text": [
            "1it [00:00,  1.99it/s]\n"
          ]
        },
        {
          "output_type": "stream",
          "name": "stdout",
          "text": [
            "epoch: 559, loss: 0.002509\n"
          ]
        },
        {
          "output_type": "stream",
          "name": "stderr",
          "text": [
            "1it [00:00,  1.96it/s]\n"
          ]
        },
        {
          "output_type": "stream",
          "name": "stdout",
          "text": [
            "epoch: 560, loss: 0.002493\n"
          ]
        },
        {
          "output_type": "stream",
          "name": "stderr",
          "text": [
            "1it [00:00,  1.98it/s]\n"
          ]
        },
        {
          "output_type": "stream",
          "name": "stdout",
          "text": [
            "epoch: 561, loss: 0.002252\n"
          ]
        },
        {
          "output_type": "stream",
          "name": "stderr",
          "text": [
            "1it [00:00,  1.99it/s]\n"
          ]
        },
        {
          "output_type": "stream",
          "name": "stdout",
          "text": [
            "epoch: 562, loss: 0.004163\n"
          ]
        },
        {
          "output_type": "stream",
          "name": "stderr",
          "text": [
            "1it [00:00,  1.96it/s]\n"
          ]
        },
        {
          "output_type": "stream",
          "name": "stdout",
          "text": [
            "epoch: 563, loss: 0.00248\n"
          ]
        },
        {
          "output_type": "stream",
          "name": "stderr",
          "text": [
            "1it [00:00,  1.91it/s]\n"
          ]
        },
        {
          "output_type": "stream",
          "name": "stdout",
          "text": [
            "epoch: 564, loss: 0.002571\n"
          ]
        },
        {
          "output_type": "stream",
          "name": "stderr",
          "text": [
            "1it [00:00,  1.94it/s]\n"
          ]
        },
        {
          "output_type": "stream",
          "name": "stdout",
          "text": [
            "epoch: 565, loss: 0.00312\n"
          ]
        },
        {
          "output_type": "stream",
          "name": "stderr",
          "text": [
            "1it [00:00,  1.78it/s]\n"
          ]
        },
        {
          "output_type": "stream",
          "name": "stdout",
          "text": [
            "epoch: 566, loss: 0.003651\n"
          ]
        },
        {
          "output_type": "stream",
          "name": "stderr",
          "text": [
            "1it [00:00,  1.98it/s]\n"
          ]
        },
        {
          "output_type": "stream",
          "name": "stdout",
          "text": [
            "epoch: 567, loss: 0.002655\n"
          ]
        },
        {
          "output_type": "stream",
          "name": "stderr",
          "text": [
            "1it [00:00,  1.97it/s]\n"
          ]
        },
        {
          "output_type": "stream",
          "name": "stdout",
          "text": [
            "epoch: 568, loss: 0.002028\n"
          ]
        },
        {
          "output_type": "stream",
          "name": "stderr",
          "text": [
            "1it [00:00,  1.83it/s]\n"
          ]
        },
        {
          "output_type": "stream",
          "name": "stdout",
          "text": [
            "epoch: 569, loss: 0.002508\n"
          ]
        },
        {
          "output_type": "stream",
          "name": "stderr",
          "text": [
            "1it [00:00,  1.84it/s]\n"
          ]
        },
        {
          "output_type": "stream",
          "name": "stdout",
          "text": [
            "epoch: 570, loss: 0.002821\n"
          ]
        },
        {
          "output_type": "stream",
          "name": "stderr",
          "text": [
            "1it [00:00,  1.96it/s]\n"
          ]
        },
        {
          "output_type": "stream",
          "name": "stdout",
          "text": [
            "epoch: 571, loss: 0.004051\n"
          ]
        },
        {
          "output_type": "stream",
          "name": "stderr",
          "text": [
            "1it [00:00,  1.94it/s]\n"
          ]
        },
        {
          "output_type": "stream",
          "name": "stdout",
          "text": [
            "epoch: 572, loss: 0.002347\n"
          ]
        },
        {
          "output_type": "stream",
          "name": "stderr",
          "text": [
            "1it [00:00,  1.96it/s]\n"
          ]
        },
        {
          "output_type": "stream",
          "name": "stdout",
          "text": [
            "epoch: 573, loss: 0.00254\n"
          ]
        },
        {
          "output_type": "stream",
          "name": "stderr",
          "text": [
            "1it [00:00,  1.87it/s]\n"
          ]
        },
        {
          "output_type": "stream",
          "name": "stdout",
          "text": [
            "epoch: 574, loss: 0.003257\n"
          ]
        },
        {
          "output_type": "stream",
          "name": "stderr",
          "text": [
            "1it [00:00,  2.01it/s]\n"
          ]
        },
        {
          "output_type": "stream",
          "name": "stdout",
          "text": [
            "epoch: 575, loss: 0.001904\n"
          ]
        },
        {
          "output_type": "stream",
          "name": "stderr",
          "text": [
            "1it [00:00,  1.97it/s]\n"
          ]
        },
        {
          "output_type": "stream",
          "name": "stdout",
          "text": [
            "epoch: 576, loss: 0.001866\n"
          ]
        },
        {
          "output_type": "stream",
          "name": "stderr",
          "text": [
            "1it [00:00,  1.93it/s]\n"
          ]
        },
        {
          "output_type": "stream",
          "name": "stdout",
          "text": [
            "epoch: 577, loss: 0.00316\n"
          ]
        },
        {
          "output_type": "stream",
          "name": "stderr",
          "text": [
            "1it [00:00,  1.98it/s]\n"
          ]
        },
        {
          "output_type": "stream",
          "name": "stdout",
          "text": [
            "epoch: 578, loss: 0.00185\n"
          ]
        },
        {
          "output_type": "stream",
          "name": "stderr",
          "text": [
            "1it [00:00,  1.99it/s]\n"
          ]
        },
        {
          "output_type": "stream",
          "name": "stdout",
          "text": [
            "epoch: 579, loss: 0.003364\n"
          ]
        },
        {
          "output_type": "stream",
          "name": "stderr",
          "text": [
            "1it [00:00,  1.91it/s]\n"
          ]
        },
        {
          "output_type": "stream",
          "name": "stdout",
          "text": [
            "epoch: 580, loss: 0.002816\n"
          ]
        },
        {
          "output_type": "stream",
          "name": "stderr",
          "text": [
            "1it [00:00,  1.99it/s]\n"
          ]
        },
        {
          "output_type": "stream",
          "name": "stdout",
          "text": [
            "epoch: 581, loss: 0.002017\n"
          ]
        },
        {
          "output_type": "stream",
          "name": "stderr",
          "text": [
            "1it [00:00,  1.95it/s]\n"
          ]
        },
        {
          "output_type": "stream",
          "name": "stdout",
          "text": [
            "epoch: 582, loss: 0.001913\n"
          ]
        },
        {
          "output_type": "stream",
          "name": "stderr",
          "text": [
            "1it [00:00,  1.99it/s]\n"
          ]
        },
        {
          "output_type": "stream",
          "name": "stdout",
          "text": [
            "epoch: 583, loss: 0.002109\n"
          ]
        },
        {
          "output_type": "stream",
          "name": "stderr",
          "text": [
            "1it [00:00,  1.99it/s]\n"
          ]
        },
        {
          "output_type": "stream",
          "name": "stdout",
          "text": [
            "epoch: 584, loss: 0.002416\n"
          ]
        },
        {
          "output_type": "stream",
          "name": "stderr",
          "text": [
            "1it [00:00,  1.97it/s]\n"
          ]
        },
        {
          "output_type": "stream",
          "name": "stdout",
          "text": [
            "epoch: 585, loss: 0.001726\n"
          ]
        },
        {
          "output_type": "stream",
          "name": "stderr",
          "text": [
            "1it [00:00,  2.00it/s]\n"
          ]
        },
        {
          "output_type": "stream",
          "name": "stdout",
          "text": [
            "epoch: 586, loss: 0.002462\n"
          ]
        },
        {
          "output_type": "stream",
          "name": "stderr",
          "text": [
            "1it [00:00,  1.92it/s]\n"
          ]
        },
        {
          "output_type": "stream",
          "name": "stdout",
          "text": [
            "epoch: 587, loss: 0.002055\n"
          ]
        },
        {
          "output_type": "stream",
          "name": "stderr",
          "text": [
            "1it [00:00,  1.93it/s]\n"
          ]
        },
        {
          "output_type": "stream",
          "name": "stdout",
          "text": [
            "epoch: 588, loss: 0.002232\n"
          ]
        },
        {
          "output_type": "stream",
          "name": "stderr",
          "text": [
            "1it [00:00,  1.93it/s]\n"
          ]
        },
        {
          "output_type": "stream",
          "name": "stdout",
          "text": [
            "epoch: 589, loss: 0.002157\n"
          ]
        },
        {
          "output_type": "stream",
          "name": "stderr",
          "text": [
            "1it [00:00,  1.97it/s]\n"
          ]
        },
        {
          "output_type": "stream",
          "name": "stdout",
          "text": [
            "epoch: 590, loss: 0.002075\n"
          ]
        },
        {
          "output_type": "stream",
          "name": "stderr",
          "text": [
            "1it [00:00,  2.00it/s]\n"
          ]
        },
        {
          "output_type": "stream",
          "name": "stdout",
          "text": [
            "epoch: 591, loss: 0.005166\n"
          ]
        },
        {
          "output_type": "stream",
          "name": "stderr",
          "text": [
            "1it [00:00,  1.98it/s]\n"
          ]
        },
        {
          "output_type": "stream",
          "name": "stdout",
          "text": [
            "epoch: 592, loss: 0.00175\n"
          ]
        },
        {
          "output_type": "stream",
          "name": "stderr",
          "text": [
            "1it [00:00,  1.96it/s]\n"
          ]
        },
        {
          "output_type": "stream",
          "name": "stdout",
          "text": [
            "epoch: 593, loss: 0.002661\n"
          ]
        },
        {
          "output_type": "stream",
          "name": "stderr",
          "text": [
            "1it [00:00,  1.95it/s]\n"
          ]
        },
        {
          "output_type": "stream",
          "name": "stdout",
          "text": [
            "epoch: 594, loss: 0.003919\n"
          ]
        },
        {
          "output_type": "stream",
          "name": "stderr",
          "text": [
            "1it [00:00,  1.95it/s]\n"
          ]
        },
        {
          "output_type": "stream",
          "name": "stdout",
          "text": [
            "epoch: 595, loss: 0.003692\n"
          ]
        },
        {
          "output_type": "stream",
          "name": "stderr",
          "text": [
            "1it [00:00,  1.98it/s]\n"
          ]
        },
        {
          "output_type": "stream",
          "name": "stdout",
          "text": [
            "epoch: 596, loss: 0.003574\n"
          ]
        },
        {
          "output_type": "stream",
          "name": "stderr",
          "text": [
            "1it [00:00,  1.93it/s]\n"
          ]
        },
        {
          "output_type": "stream",
          "name": "stdout",
          "text": [
            "epoch: 597, loss: 0.0032\n"
          ]
        },
        {
          "output_type": "stream",
          "name": "stderr",
          "text": [
            "1it [00:00,  2.00it/s]\n"
          ]
        },
        {
          "output_type": "stream",
          "name": "stdout",
          "text": [
            "epoch: 598, loss: 0.002975\n"
          ]
        },
        {
          "output_type": "stream",
          "name": "stderr",
          "text": [
            "1it [00:00,  1.97it/s]\n"
          ]
        },
        {
          "output_type": "stream",
          "name": "stdout",
          "text": [
            "epoch: 599, loss: 0.001901\n"
          ]
        },
        {
          "output_type": "stream",
          "name": "stderr",
          "text": [
            "1it [00:00,  1.98it/s]\n"
          ]
        },
        {
          "output_type": "stream",
          "name": "stdout",
          "text": [
            "epoch: 600, loss: 0.003474\n"
          ]
        },
        {
          "output_type": "stream",
          "name": "stderr",
          "text": [
            "1it [00:00,  1.99it/s]\n"
          ]
        },
        {
          "output_type": "stream",
          "name": "stdout",
          "text": [
            "epoch: 601, loss: 0.002271\n"
          ]
        },
        {
          "output_type": "stream",
          "name": "stderr",
          "text": [
            "1it [00:00,  1.98it/s]\n"
          ]
        },
        {
          "output_type": "stream",
          "name": "stdout",
          "text": [
            "epoch: 602, loss: 0.004102\n"
          ]
        },
        {
          "output_type": "stream",
          "name": "stderr",
          "text": [
            "1it [00:00,  1.96it/s]\n"
          ]
        },
        {
          "output_type": "stream",
          "name": "stdout",
          "text": [
            "epoch: 603, loss: 0.001915\n"
          ]
        },
        {
          "output_type": "stream",
          "name": "stderr",
          "text": [
            "1it [00:00,  1.95it/s]\n"
          ]
        },
        {
          "output_type": "stream",
          "name": "stdout",
          "text": [
            "epoch: 604, loss: 0.00204\n"
          ]
        },
        {
          "output_type": "stream",
          "name": "stderr",
          "text": [
            "1it [00:00,  1.95it/s]\n"
          ]
        },
        {
          "output_type": "stream",
          "name": "stdout",
          "text": [
            "epoch: 605, loss: 0.002859\n"
          ]
        },
        {
          "output_type": "stream",
          "name": "stderr",
          "text": [
            "1it [00:00,  1.99it/s]\n"
          ]
        },
        {
          "output_type": "stream",
          "name": "stdout",
          "text": [
            "epoch: 606, loss: 0.002805\n"
          ]
        },
        {
          "output_type": "stream",
          "name": "stderr",
          "text": [
            "1it [00:00,  2.00it/s]\n"
          ]
        },
        {
          "output_type": "stream",
          "name": "stdout",
          "text": [
            "epoch: 607, loss: 0.003791\n"
          ]
        },
        {
          "output_type": "stream",
          "name": "stderr",
          "text": [
            "1it [00:00,  2.00it/s]\n"
          ]
        },
        {
          "output_type": "stream",
          "name": "stdout",
          "text": [
            "epoch: 608, loss: 0.004265\n"
          ]
        },
        {
          "output_type": "stream",
          "name": "stderr",
          "text": [
            "1it [00:00,  1.89it/s]\n"
          ]
        },
        {
          "output_type": "stream",
          "name": "stdout",
          "text": [
            "epoch: 609, loss: 0.002906\n"
          ]
        },
        {
          "output_type": "stream",
          "name": "stderr",
          "text": [
            "1it [00:00,  1.96it/s]\n"
          ]
        },
        {
          "output_type": "stream",
          "name": "stdout",
          "text": [
            "epoch: 610, loss: 0.001746\n"
          ]
        },
        {
          "output_type": "stream",
          "name": "stderr",
          "text": [
            "1it [00:00,  1.95it/s]\n"
          ]
        },
        {
          "output_type": "stream",
          "name": "stdout",
          "text": [
            "epoch: 611, loss: 0.003465\n"
          ]
        },
        {
          "output_type": "stream",
          "name": "stderr",
          "text": [
            "1it [00:00,  1.78it/s]\n"
          ]
        },
        {
          "output_type": "stream",
          "name": "stdout",
          "text": [
            "epoch: 612, loss: 0.002387\n"
          ]
        },
        {
          "output_type": "stream",
          "name": "stderr",
          "text": [
            "1it [00:00,  1.97it/s]\n"
          ]
        },
        {
          "output_type": "stream",
          "name": "stdout",
          "text": [
            "epoch: 613, loss: 0.003934\n"
          ]
        },
        {
          "output_type": "stream",
          "name": "stderr",
          "text": [
            "1it [00:00,  1.90it/s]\n"
          ]
        },
        {
          "output_type": "stream",
          "name": "stdout",
          "text": [
            "epoch: 614, loss: 0.002258\n"
          ]
        },
        {
          "output_type": "stream",
          "name": "stderr",
          "text": [
            "1it [00:00,  2.00it/s]\n"
          ]
        },
        {
          "output_type": "stream",
          "name": "stdout",
          "text": [
            "epoch: 615, loss: 0.002264\n"
          ]
        },
        {
          "output_type": "stream",
          "name": "stderr",
          "text": [
            "1it [00:00,  1.95it/s]\n"
          ]
        },
        {
          "output_type": "stream",
          "name": "stdout",
          "text": [
            "epoch: 616, loss: 0.003193\n"
          ]
        },
        {
          "output_type": "stream",
          "name": "stderr",
          "text": [
            "1it [00:00,  2.00it/s]\n"
          ]
        },
        {
          "output_type": "stream",
          "name": "stdout",
          "text": [
            "epoch: 617, loss: 0.001613\n"
          ]
        },
        {
          "output_type": "stream",
          "name": "stderr",
          "text": [
            "1it [00:00,  1.95it/s]\n"
          ]
        },
        {
          "output_type": "stream",
          "name": "stdout",
          "text": [
            "epoch: 618, loss: 0.002386\n"
          ]
        },
        {
          "output_type": "stream",
          "name": "stderr",
          "text": [
            "1it [00:00,  2.03it/s]\n"
          ]
        },
        {
          "output_type": "stream",
          "name": "stdout",
          "text": [
            "epoch: 619, loss: 0.002018\n"
          ]
        },
        {
          "output_type": "stream",
          "name": "stderr",
          "text": [
            "1it [00:00,  1.93it/s]\n"
          ]
        },
        {
          "output_type": "stream",
          "name": "stdout",
          "text": [
            "epoch: 620, loss: 0.00189\n"
          ]
        },
        {
          "output_type": "stream",
          "name": "stderr",
          "text": [
            "1it [00:00,  2.00it/s]\n"
          ]
        },
        {
          "output_type": "stream",
          "name": "stdout",
          "text": [
            "epoch: 621, loss: 0.001688\n"
          ]
        },
        {
          "output_type": "stream",
          "name": "stderr",
          "text": [
            "1it [00:00,  1.99it/s]\n"
          ]
        },
        {
          "output_type": "stream",
          "name": "stdout",
          "text": [
            "epoch: 622, loss: 0.002238\n"
          ]
        },
        {
          "output_type": "stream",
          "name": "stderr",
          "text": [
            "1it [00:00,  1.96it/s]\n"
          ]
        },
        {
          "output_type": "stream",
          "name": "stdout",
          "text": [
            "epoch: 623, loss: 0.002245\n"
          ]
        },
        {
          "output_type": "stream",
          "name": "stderr",
          "text": [
            "1it [00:00,  1.98it/s]\n"
          ]
        },
        {
          "output_type": "stream",
          "name": "stdout",
          "text": [
            "epoch: 624, loss: 0.001937\n"
          ]
        },
        {
          "output_type": "stream",
          "name": "stderr",
          "text": [
            "1it [00:00,  2.00it/s]\n"
          ]
        },
        {
          "output_type": "stream",
          "name": "stdout",
          "text": [
            "epoch: 625, loss: 0.001542\n"
          ]
        },
        {
          "output_type": "stream",
          "name": "stderr",
          "text": [
            "1it [00:00,  2.00it/s]\n"
          ]
        },
        {
          "output_type": "stream",
          "name": "stdout",
          "text": [
            "epoch: 626, loss: 0.002427\n"
          ]
        },
        {
          "output_type": "stream",
          "name": "stderr",
          "text": [
            "1it [00:00,  2.00it/s]\n"
          ]
        },
        {
          "output_type": "stream",
          "name": "stdout",
          "text": [
            "epoch: 627, loss: 0.001891\n"
          ]
        },
        {
          "output_type": "stream",
          "name": "stderr",
          "text": [
            "1it [00:00,  1.95it/s]\n"
          ]
        },
        {
          "output_type": "stream",
          "name": "stdout",
          "text": [
            "epoch: 628, loss: 0.002405\n"
          ]
        },
        {
          "output_type": "stream",
          "name": "stderr",
          "text": [
            "1it [00:00,  2.02it/s]\n"
          ]
        },
        {
          "output_type": "stream",
          "name": "stdout",
          "text": [
            "epoch: 629, loss: 0.001298\n"
          ]
        },
        {
          "output_type": "stream",
          "name": "stderr",
          "text": [
            "1it [00:00,  1.99it/s]\n"
          ]
        },
        {
          "output_type": "stream",
          "name": "stdout",
          "text": [
            "epoch: 630, loss: 0.002186\n"
          ]
        },
        {
          "output_type": "stream",
          "name": "stderr",
          "text": [
            "1it [00:00,  2.00it/s]\n"
          ]
        },
        {
          "output_type": "stream",
          "name": "stdout",
          "text": [
            "epoch: 631, loss: 0.002086\n"
          ]
        },
        {
          "output_type": "stream",
          "name": "stderr",
          "text": [
            "1it [00:00,  1.93it/s]\n"
          ]
        },
        {
          "output_type": "stream",
          "name": "stdout",
          "text": [
            "epoch: 632, loss: 0.002833\n"
          ]
        },
        {
          "output_type": "stream",
          "name": "stderr",
          "text": [
            "1it [00:00,  1.93it/s]\n"
          ]
        },
        {
          "output_type": "stream",
          "name": "stdout",
          "text": [
            "epoch: 633, loss: 0.002904\n"
          ]
        },
        {
          "output_type": "stream",
          "name": "stderr",
          "text": [
            "1it [00:00,  1.93it/s]\n"
          ]
        },
        {
          "output_type": "stream",
          "name": "stdout",
          "text": [
            "epoch: 634, loss: 0.003032\n"
          ]
        },
        {
          "output_type": "stream",
          "name": "stderr",
          "text": [
            "1it [00:00,  1.87it/s]\n"
          ]
        },
        {
          "output_type": "stream",
          "name": "stdout",
          "text": [
            "epoch: 635, loss: 0.002188\n"
          ]
        },
        {
          "output_type": "stream",
          "name": "stderr",
          "text": [
            "1it [00:00,  1.89it/s]\n"
          ]
        },
        {
          "output_type": "stream",
          "name": "stdout",
          "text": [
            "epoch: 636, loss: 0.002204\n"
          ]
        },
        {
          "output_type": "stream",
          "name": "stderr",
          "text": [
            "1it [00:00,  1.96it/s]\n"
          ]
        },
        {
          "output_type": "stream",
          "name": "stdout",
          "text": [
            "epoch: 637, loss: 0.001815\n"
          ]
        },
        {
          "output_type": "stream",
          "name": "stderr",
          "text": [
            "1it [00:00,  1.98it/s]\n"
          ]
        },
        {
          "output_type": "stream",
          "name": "stdout",
          "text": [
            "epoch: 638, loss: 0.001886\n"
          ]
        },
        {
          "output_type": "stream",
          "name": "stderr",
          "text": [
            "1it [00:00,  1.96it/s]\n"
          ]
        },
        {
          "output_type": "stream",
          "name": "stdout",
          "text": [
            "epoch: 639, loss: 0.003293\n"
          ]
        },
        {
          "output_type": "stream",
          "name": "stderr",
          "text": [
            "1it [00:00,  1.95it/s]\n"
          ]
        },
        {
          "output_type": "stream",
          "name": "stdout",
          "text": [
            "epoch: 640, loss: 0.002644\n"
          ]
        },
        {
          "output_type": "stream",
          "name": "stderr",
          "text": [
            "1it [00:00,  1.91it/s]\n"
          ]
        },
        {
          "output_type": "stream",
          "name": "stdout",
          "text": [
            "epoch: 641, loss: 0.003224\n"
          ]
        },
        {
          "output_type": "stream",
          "name": "stderr",
          "text": [
            "1it [00:00,  2.01it/s]\n"
          ]
        },
        {
          "output_type": "stream",
          "name": "stdout",
          "text": [
            "epoch: 642, loss: 0.003094\n"
          ]
        },
        {
          "output_type": "stream",
          "name": "stderr",
          "text": [
            "1it [00:00,  1.98it/s]\n"
          ]
        },
        {
          "output_type": "stream",
          "name": "stdout",
          "text": [
            "epoch: 643, loss: 0.002041\n"
          ]
        },
        {
          "output_type": "stream",
          "name": "stderr",
          "text": [
            "1it [00:00,  2.01it/s]\n"
          ]
        },
        {
          "output_type": "stream",
          "name": "stdout",
          "text": [
            "epoch: 644, loss: 0.003454\n"
          ]
        },
        {
          "output_type": "stream",
          "name": "stderr",
          "text": [
            "1it [00:00,  1.95it/s]\n"
          ]
        },
        {
          "output_type": "stream",
          "name": "stdout",
          "text": [
            "epoch: 645, loss: 0.002257\n"
          ]
        },
        {
          "output_type": "stream",
          "name": "stderr",
          "text": [
            "1it [00:00,  1.97it/s]\n"
          ]
        },
        {
          "output_type": "stream",
          "name": "stdout",
          "text": [
            "epoch: 646, loss: 0.00171\n"
          ]
        },
        {
          "output_type": "stream",
          "name": "stderr",
          "text": [
            "1it [00:00,  1.96it/s]\n"
          ]
        },
        {
          "output_type": "stream",
          "name": "stdout",
          "text": [
            "epoch: 647, loss: 0.003676\n"
          ]
        },
        {
          "output_type": "stream",
          "name": "stderr",
          "text": [
            "1it [00:00,  1.96it/s]\n"
          ]
        },
        {
          "output_type": "stream",
          "name": "stdout",
          "text": [
            "epoch: 648, loss: 0.001217\n"
          ]
        },
        {
          "output_type": "stream",
          "name": "stderr",
          "text": [
            "1it [00:00,  1.92it/s]\n"
          ]
        },
        {
          "output_type": "stream",
          "name": "stdout",
          "text": [
            "epoch: 649, loss: 0.002128\n"
          ]
        },
        {
          "output_type": "stream",
          "name": "stderr",
          "text": [
            "1it [00:00,  1.98it/s]\n"
          ]
        },
        {
          "output_type": "stream",
          "name": "stdout",
          "text": [
            "epoch: 650, loss: 0.002938\n"
          ]
        },
        {
          "output_type": "stream",
          "name": "stderr",
          "text": [
            "1it [00:00,  1.99it/s]\n"
          ]
        },
        {
          "output_type": "stream",
          "name": "stdout",
          "text": [
            "epoch: 651, loss: 0.001665\n"
          ]
        },
        {
          "output_type": "stream",
          "name": "stderr",
          "text": [
            "1it [00:00,  1.92it/s]\n"
          ]
        },
        {
          "output_type": "stream",
          "name": "stdout",
          "text": [
            "epoch: 652, loss: 0.003388\n"
          ]
        },
        {
          "output_type": "stream",
          "name": "stderr",
          "text": [
            "1it [00:00,  1.98it/s]\n"
          ]
        },
        {
          "output_type": "stream",
          "name": "stdout",
          "text": [
            "epoch: 653, loss: 0.002019\n"
          ]
        },
        {
          "output_type": "stream",
          "name": "stderr",
          "text": [
            "1it [00:00,  1.99it/s]\n"
          ]
        },
        {
          "output_type": "stream",
          "name": "stdout",
          "text": [
            "epoch: 654, loss: 0.002664\n"
          ]
        },
        {
          "output_type": "stream",
          "name": "stderr",
          "text": [
            "1it [00:00,  1.93it/s]\n"
          ]
        },
        {
          "output_type": "stream",
          "name": "stdout",
          "text": [
            "epoch: 655, loss: 0.003248\n"
          ]
        },
        {
          "output_type": "stream",
          "name": "stderr",
          "text": [
            "1it [00:00,  1.82it/s]\n"
          ]
        },
        {
          "output_type": "stream",
          "name": "stdout",
          "text": [
            "epoch: 656, loss: 0.002687\n"
          ]
        },
        {
          "output_type": "stream",
          "name": "stderr",
          "text": [
            "1it [00:00,  1.82it/s]\n"
          ]
        },
        {
          "output_type": "stream",
          "name": "stdout",
          "text": [
            "epoch: 657, loss: 0.002452\n"
          ]
        },
        {
          "output_type": "stream",
          "name": "stderr",
          "text": [
            "1it [00:00,  1.81it/s]\n"
          ]
        },
        {
          "output_type": "stream",
          "name": "stdout",
          "text": [
            "epoch: 658, loss: 0.001957\n"
          ]
        },
        {
          "output_type": "stream",
          "name": "stderr",
          "text": [
            "1it [00:00,  1.93it/s]\n"
          ]
        },
        {
          "output_type": "stream",
          "name": "stdout",
          "text": [
            "epoch: 659, loss: 0.002519\n"
          ]
        },
        {
          "output_type": "stream",
          "name": "stderr",
          "text": [
            "1it [00:00,  1.81it/s]\n"
          ]
        },
        {
          "output_type": "stream",
          "name": "stdout",
          "text": [
            "epoch: 660, loss: 0.002541\n"
          ]
        },
        {
          "output_type": "stream",
          "name": "stderr",
          "text": [
            "1it [00:00,  1.95it/s]\n"
          ]
        },
        {
          "output_type": "stream",
          "name": "stdout",
          "text": [
            "epoch: 661, loss: 0.002659\n"
          ]
        },
        {
          "output_type": "stream",
          "name": "stderr",
          "text": [
            "1it [00:00,  1.96it/s]\n"
          ]
        },
        {
          "output_type": "stream",
          "name": "stdout",
          "text": [
            "epoch: 662, loss: 0.002404\n"
          ]
        },
        {
          "output_type": "stream",
          "name": "stderr",
          "text": [
            "1it [00:00,  1.94it/s]\n"
          ]
        },
        {
          "output_type": "stream",
          "name": "stdout",
          "text": [
            "epoch: 663, loss: 0.00263\n"
          ]
        },
        {
          "output_type": "stream",
          "name": "stderr",
          "text": [
            "1it [00:00,  1.97it/s]\n"
          ]
        },
        {
          "output_type": "stream",
          "name": "stdout",
          "text": [
            "epoch: 664, loss: 0.002441\n"
          ]
        },
        {
          "output_type": "stream",
          "name": "stderr",
          "text": [
            "1it [00:00,  1.94it/s]\n"
          ]
        },
        {
          "output_type": "stream",
          "name": "stdout",
          "text": [
            "epoch: 665, loss: 0.002554\n"
          ]
        },
        {
          "output_type": "stream",
          "name": "stderr",
          "text": [
            "1it [00:00,  1.99it/s]\n"
          ]
        },
        {
          "output_type": "stream",
          "name": "stdout",
          "text": [
            "epoch: 666, loss: 0.004416\n"
          ]
        },
        {
          "output_type": "stream",
          "name": "stderr",
          "text": [
            "1it [00:00,  1.98it/s]\n"
          ]
        },
        {
          "output_type": "stream",
          "name": "stdout",
          "text": [
            "epoch: 667, loss: 0.00169\n"
          ]
        },
        {
          "output_type": "stream",
          "name": "stderr",
          "text": [
            "1it [00:00,  1.97it/s]\n"
          ]
        },
        {
          "output_type": "stream",
          "name": "stdout",
          "text": [
            "epoch: 668, loss: 0.003225\n"
          ]
        },
        {
          "output_type": "stream",
          "name": "stderr",
          "text": [
            "1it [00:00,  1.95it/s]\n"
          ]
        },
        {
          "output_type": "stream",
          "name": "stdout",
          "text": [
            "epoch: 669, loss: 0.002376\n"
          ]
        },
        {
          "output_type": "stream",
          "name": "stderr",
          "text": [
            "1it [00:00,  1.98it/s]\n"
          ]
        },
        {
          "output_type": "stream",
          "name": "stdout",
          "text": [
            "epoch: 670, loss: 0.002457\n"
          ]
        },
        {
          "output_type": "stream",
          "name": "stderr",
          "text": [
            "1it [00:00,  1.99it/s]\n"
          ]
        },
        {
          "output_type": "stream",
          "name": "stdout",
          "text": [
            "epoch: 671, loss: 0.001984\n"
          ]
        },
        {
          "output_type": "stream",
          "name": "stderr",
          "text": [
            "1it [00:00,  1.95it/s]\n"
          ]
        },
        {
          "output_type": "stream",
          "name": "stdout",
          "text": [
            "epoch: 672, loss: 0.002298\n"
          ]
        },
        {
          "output_type": "stream",
          "name": "stderr",
          "text": [
            "1it [00:00,  1.96it/s]\n"
          ]
        },
        {
          "output_type": "stream",
          "name": "stdout",
          "text": [
            "epoch: 673, loss: 0.003116\n"
          ]
        },
        {
          "output_type": "stream",
          "name": "stderr",
          "text": [
            "1it [00:00,  1.94it/s]\n"
          ]
        },
        {
          "output_type": "stream",
          "name": "stdout",
          "text": [
            "epoch: 674, loss: 0.003857\n"
          ]
        },
        {
          "output_type": "stream",
          "name": "stderr",
          "text": [
            "1it [00:00,  1.88it/s]\n"
          ]
        },
        {
          "output_type": "stream",
          "name": "stdout",
          "text": [
            "epoch: 675, loss: 0.00227\n"
          ]
        },
        {
          "output_type": "stream",
          "name": "stderr",
          "text": [
            "1it [00:00,  1.98it/s]\n"
          ]
        },
        {
          "output_type": "stream",
          "name": "stdout",
          "text": [
            "epoch: 676, loss: 0.003887\n"
          ]
        },
        {
          "output_type": "stream",
          "name": "stderr",
          "text": [
            "1it [00:00,  2.00it/s]\n"
          ]
        },
        {
          "output_type": "stream",
          "name": "stdout",
          "text": [
            "epoch: 677, loss: 0.004097\n"
          ]
        },
        {
          "output_type": "stream",
          "name": "stderr",
          "text": [
            "1it [00:00,  1.93it/s]\n"
          ]
        },
        {
          "output_type": "stream",
          "name": "stdout",
          "text": [
            "epoch: 678, loss: 0.002651\n"
          ]
        },
        {
          "output_type": "stream",
          "name": "stderr",
          "text": [
            "1it [00:00,  1.81it/s]\n"
          ]
        },
        {
          "output_type": "stream",
          "name": "stdout",
          "text": [
            "epoch: 679, loss: 0.001817\n"
          ]
        },
        {
          "output_type": "stream",
          "name": "stderr",
          "text": [
            "1it [00:00,  1.91it/s]\n"
          ]
        },
        {
          "output_type": "stream",
          "name": "stdout",
          "text": [
            "epoch: 680, loss: 0.002012\n"
          ]
        },
        {
          "output_type": "stream",
          "name": "stderr",
          "text": [
            "1it [00:00,  1.93it/s]\n"
          ]
        },
        {
          "output_type": "stream",
          "name": "stdout",
          "text": [
            "epoch: 681, loss: 0.003137\n"
          ]
        },
        {
          "output_type": "stream",
          "name": "stderr",
          "text": [
            "1it [00:00,  2.00it/s]\n"
          ]
        },
        {
          "output_type": "stream",
          "name": "stdout",
          "text": [
            "epoch: 682, loss: 0.004014\n"
          ]
        },
        {
          "output_type": "stream",
          "name": "stderr",
          "text": [
            "1it [00:00,  1.99it/s]\n"
          ]
        },
        {
          "output_type": "stream",
          "name": "stdout",
          "text": [
            "epoch: 683, loss: 0.003983\n"
          ]
        },
        {
          "output_type": "stream",
          "name": "stderr",
          "text": [
            "1it [00:00,  1.96it/s]\n"
          ]
        },
        {
          "output_type": "stream",
          "name": "stdout",
          "text": [
            "epoch: 684, loss: 0.00318\n"
          ]
        },
        {
          "output_type": "stream",
          "name": "stderr",
          "text": [
            "1it [00:00,  1.96it/s]\n"
          ]
        },
        {
          "output_type": "stream",
          "name": "stdout",
          "text": [
            "epoch: 685, loss: 0.003421\n"
          ]
        },
        {
          "output_type": "stream",
          "name": "stderr",
          "text": [
            "1it [00:00,  1.98it/s]\n"
          ]
        },
        {
          "output_type": "stream",
          "name": "stdout",
          "text": [
            "epoch: 686, loss: 0.002466\n"
          ]
        },
        {
          "output_type": "stream",
          "name": "stderr",
          "text": [
            "1it [00:00,  1.97it/s]\n"
          ]
        },
        {
          "output_type": "stream",
          "name": "stdout",
          "text": [
            "epoch: 687, loss: 0.004015\n"
          ]
        },
        {
          "output_type": "stream",
          "name": "stderr",
          "text": [
            "1it [00:00,  1.99it/s]\n"
          ]
        },
        {
          "output_type": "stream",
          "name": "stdout",
          "text": [
            "epoch: 688, loss: 0.00362\n"
          ]
        },
        {
          "output_type": "stream",
          "name": "stderr",
          "text": [
            "1it [00:00,  1.94it/s]\n"
          ]
        },
        {
          "output_type": "stream",
          "name": "stdout",
          "text": [
            "epoch: 689, loss: 0.004543\n"
          ]
        },
        {
          "output_type": "stream",
          "name": "stderr",
          "text": [
            "1it [00:00,  1.99it/s]\n"
          ]
        },
        {
          "output_type": "stream",
          "name": "stdout",
          "text": [
            "epoch: 690, loss: 0.004262\n"
          ]
        },
        {
          "output_type": "stream",
          "name": "stderr",
          "text": [
            "1it [00:00,  1.97it/s]\n"
          ]
        },
        {
          "output_type": "stream",
          "name": "stdout",
          "text": [
            "epoch: 691, loss: 0.002992\n"
          ]
        },
        {
          "output_type": "stream",
          "name": "stderr",
          "text": [
            "1it [00:00,  1.98it/s]\n"
          ]
        },
        {
          "output_type": "stream",
          "name": "stdout",
          "text": [
            "epoch: 692, loss: 0.002211\n"
          ]
        },
        {
          "output_type": "stream",
          "name": "stderr",
          "text": [
            "1it [00:00,  1.99it/s]\n"
          ]
        },
        {
          "output_type": "stream",
          "name": "stdout",
          "text": [
            "epoch: 693, loss: 0.003325\n"
          ]
        },
        {
          "output_type": "stream",
          "name": "stderr",
          "text": [
            "1it [00:00,  1.99it/s]\n"
          ]
        },
        {
          "output_type": "stream",
          "name": "stdout",
          "text": [
            "epoch: 694, loss: 0.001716\n"
          ]
        },
        {
          "output_type": "stream",
          "name": "stderr",
          "text": [
            "1it [00:00,  1.96it/s]\n"
          ]
        },
        {
          "output_type": "stream",
          "name": "stdout",
          "text": [
            "epoch: 695, loss: 0.003041\n"
          ]
        },
        {
          "output_type": "stream",
          "name": "stderr",
          "text": [
            "1it [00:00,  1.96it/s]\n"
          ]
        },
        {
          "output_type": "stream",
          "name": "stdout",
          "text": [
            "epoch: 696, loss: 0.003392\n"
          ]
        },
        {
          "output_type": "stream",
          "name": "stderr",
          "text": [
            "1it [00:00,  1.93it/s]\n"
          ]
        },
        {
          "output_type": "stream",
          "name": "stdout",
          "text": [
            "epoch: 697, loss: 0.002532\n"
          ]
        },
        {
          "output_type": "stream",
          "name": "stderr",
          "text": [
            "1it [00:00,  1.98it/s]\n"
          ]
        },
        {
          "output_type": "stream",
          "name": "stdout",
          "text": [
            "epoch: 698, loss: 0.001947\n"
          ]
        },
        {
          "output_type": "stream",
          "name": "stderr",
          "text": [
            "1it [00:00,  1.98it/s]\n"
          ]
        },
        {
          "output_type": "stream",
          "name": "stdout",
          "text": [
            "epoch: 699, loss: 0.003247\n"
          ]
        },
        {
          "output_type": "stream",
          "name": "stderr",
          "text": [
            "1it [00:00,  1.99it/s]\n"
          ]
        },
        {
          "output_type": "stream",
          "name": "stdout",
          "text": [
            "epoch: 700, loss: 0.003716\n"
          ]
        },
        {
          "output_type": "stream",
          "name": "stderr",
          "text": [
            "1it [00:00,  1.91it/s]\n"
          ]
        },
        {
          "output_type": "stream",
          "name": "stdout",
          "text": [
            "epoch: 701, loss: 0.002687\n"
          ]
        },
        {
          "output_type": "stream",
          "name": "stderr",
          "text": [
            "1it [00:00,  1.95it/s]\n"
          ]
        },
        {
          "output_type": "stream",
          "name": "stdout",
          "text": [
            "epoch: 702, loss: 0.003229\n"
          ]
        },
        {
          "output_type": "stream",
          "name": "stderr",
          "text": [
            "1it [00:00,  1.82it/s]\n"
          ]
        },
        {
          "output_type": "stream",
          "name": "stdout",
          "text": [
            "epoch: 703, loss: 0.003986\n"
          ]
        },
        {
          "output_type": "stream",
          "name": "stderr",
          "text": [
            "1it [00:00,  1.81it/s]\n"
          ]
        },
        {
          "output_type": "stream",
          "name": "stdout",
          "text": [
            "epoch: 704, loss: 0.002297\n"
          ]
        },
        {
          "output_type": "stream",
          "name": "stderr",
          "text": [
            "1it [00:00,  1.97it/s]\n"
          ]
        },
        {
          "output_type": "stream",
          "name": "stdout",
          "text": [
            "epoch: 705, loss: 0.002547\n"
          ]
        },
        {
          "output_type": "stream",
          "name": "stderr",
          "text": [
            "1it [00:00,  1.96it/s]\n"
          ]
        },
        {
          "output_type": "stream",
          "name": "stdout",
          "text": [
            "epoch: 706, loss: 0.002397\n"
          ]
        },
        {
          "output_type": "stream",
          "name": "stderr",
          "text": [
            "1it [00:00,  1.97it/s]\n"
          ]
        },
        {
          "output_type": "stream",
          "name": "stdout",
          "text": [
            "epoch: 707, loss: 0.00272\n"
          ]
        },
        {
          "output_type": "stream",
          "name": "stderr",
          "text": [
            "1it [00:00,  2.00it/s]\n"
          ]
        },
        {
          "output_type": "stream",
          "name": "stdout",
          "text": [
            "epoch: 708, loss: 0.002931\n"
          ]
        },
        {
          "output_type": "stream",
          "name": "stderr",
          "text": [
            "1it [00:00,  1.96it/s]\n"
          ]
        },
        {
          "output_type": "stream",
          "name": "stdout",
          "text": [
            "epoch: 709, loss: 0.002281\n"
          ]
        },
        {
          "output_type": "stream",
          "name": "stderr",
          "text": [
            "1it [00:00,  1.98it/s]\n"
          ]
        },
        {
          "output_type": "stream",
          "name": "stdout",
          "text": [
            "epoch: 710, loss: 0.002197\n"
          ]
        },
        {
          "output_type": "stream",
          "name": "stderr",
          "text": [
            "1it [00:00,  1.98it/s]\n"
          ]
        },
        {
          "output_type": "stream",
          "name": "stdout",
          "text": [
            "epoch: 711, loss: 0.002201\n"
          ]
        },
        {
          "output_type": "stream",
          "name": "stderr",
          "text": [
            "1it [00:00,  1.97it/s]\n"
          ]
        },
        {
          "output_type": "stream",
          "name": "stdout",
          "text": [
            "epoch: 712, loss: 0.002012\n"
          ]
        },
        {
          "output_type": "stream",
          "name": "stderr",
          "text": [
            "1it [00:00,  1.90it/s]\n"
          ]
        },
        {
          "output_type": "stream",
          "name": "stdout",
          "text": [
            "epoch: 713, loss: 0.001644\n"
          ]
        },
        {
          "output_type": "stream",
          "name": "stderr",
          "text": [
            "1it [00:00,  1.97it/s]\n"
          ]
        },
        {
          "output_type": "stream",
          "name": "stdout",
          "text": [
            "epoch: 714, loss: 0.002414\n"
          ]
        },
        {
          "output_type": "stream",
          "name": "stderr",
          "text": [
            "1it [00:00,  1.96it/s]\n"
          ]
        },
        {
          "output_type": "stream",
          "name": "stdout",
          "text": [
            "epoch: 715, loss: 0.002789\n"
          ]
        },
        {
          "output_type": "stream",
          "name": "stderr",
          "text": [
            "1it [00:00,  2.00it/s]\n"
          ]
        },
        {
          "output_type": "stream",
          "name": "stdout",
          "text": [
            "epoch: 716, loss: 0.002437\n"
          ]
        },
        {
          "output_type": "stream",
          "name": "stderr",
          "text": [
            "1it [00:00,  1.97it/s]\n"
          ]
        },
        {
          "output_type": "stream",
          "name": "stdout",
          "text": [
            "epoch: 717, loss: 0.002563\n"
          ]
        },
        {
          "output_type": "stream",
          "name": "stderr",
          "text": [
            "1it [00:00,  1.92it/s]\n"
          ]
        },
        {
          "output_type": "stream",
          "name": "stdout",
          "text": [
            "epoch: 718, loss: 0.00175\n"
          ]
        },
        {
          "output_type": "stream",
          "name": "stderr",
          "text": [
            "1it [00:00,  1.97it/s]\n"
          ]
        },
        {
          "output_type": "stream",
          "name": "stdout",
          "text": [
            "epoch: 719, loss: 0.001801\n"
          ]
        },
        {
          "output_type": "stream",
          "name": "stderr",
          "text": [
            "1it [00:00,  1.96it/s]\n"
          ]
        },
        {
          "output_type": "stream",
          "name": "stdout",
          "text": [
            "epoch: 720, loss: 0.002601\n"
          ]
        },
        {
          "output_type": "stream",
          "name": "stderr",
          "text": [
            "1it [00:00,  1.94it/s]\n"
          ]
        },
        {
          "output_type": "stream",
          "name": "stdout",
          "text": [
            "epoch: 721, loss: 0.002932\n"
          ]
        },
        {
          "output_type": "stream",
          "name": "stderr",
          "text": [
            "1it [00:00,  1.94it/s]\n"
          ]
        },
        {
          "output_type": "stream",
          "name": "stdout",
          "text": [
            "epoch: 722, loss: 0.00181\n"
          ]
        },
        {
          "output_type": "stream",
          "name": "stderr",
          "text": [
            "1it [00:00,  1.97it/s]\n"
          ]
        },
        {
          "output_type": "stream",
          "name": "stdout",
          "text": [
            "epoch: 723, loss: 0.001622\n"
          ]
        },
        {
          "output_type": "stream",
          "name": "stderr",
          "text": [
            "1it [00:00,  1.82it/s]\n"
          ]
        },
        {
          "output_type": "stream",
          "name": "stdout",
          "text": [
            "epoch: 724, loss: 0.002541\n"
          ]
        },
        {
          "output_type": "stream",
          "name": "stderr",
          "text": [
            "1it [00:00,  1.92it/s]\n"
          ]
        },
        {
          "output_type": "stream",
          "name": "stdout",
          "text": [
            "epoch: 725, loss: 0.002278\n"
          ]
        },
        {
          "output_type": "stream",
          "name": "stderr",
          "text": [
            "1it [00:00,  1.89it/s]\n"
          ]
        },
        {
          "output_type": "stream",
          "name": "stdout",
          "text": [
            "epoch: 726, loss: 0.001756\n"
          ]
        },
        {
          "output_type": "stream",
          "name": "stderr",
          "text": [
            "1it [00:00,  1.96it/s]\n"
          ]
        },
        {
          "output_type": "stream",
          "name": "stdout",
          "text": [
            "epoch: 727, loss: 0.002146\n"
          ]
        },
        {
          "output_type": "stream",
          "name": "stderr",
          "text": [
            "1it [00:00,  2.01it/s]\n"
          ]
        },
        {
          "output_type": "stream",
          "name": "stdout",
          "text": [
            "epoch: 728, loss: 0.001686\n"
          ]
        },
        {
          "output_type": "stream",
          "name": "stderr",
          "text": [
            "1it [00:00,  1.98it/s]\n"
          ]
        },
        {
          "output_type": "stream",
          "name": "stdout",
          "text": [
            "epoch: 729, loss: 0.002473\n"
          ]
        },
        {
          "output_type": "stream",
          "name": "stderr",
          "text": [
            "1it [00:00,  1.95it/s]\n"
          ]
        },
        {
          "output_type": "stream",
          "name": "stdout",
          "text": [
            "epoch: 730, loss: 0.001824\n"
          ]
        },
        {
          "output_type": "stream",
          "name": "stderr",
          "text": [
            "1it [00:00,  1.91it/s]\n"
          ]
        },
        {
          "output_type": "stream",
          "name": "stdout",
          "text": [
            "epoch: 731, loss: 0.001853\n"
          ]
        },
        {
          "output_type": "stream",
          "name": "stderr",
          "text": [
            "1it [00:00,  1.96it/s]\n"
          ]
        },
        {
          "output_type": "stream",
          "name": "stdout",
          "text": [
            "epoch: 732, loss: 0.002887\n"
          ]
        },
        {
          "output_type": "stream",
          "name": "stderr",
          "text": [
            "1it [00:00,  1.93it/s]\n"
          ]
        },
        {
          "output_type": "stream",
          "name": "stdout",
          "text": [
            "epoch: 733, loss: 0.002056\n"
          ]
        },
        {
          "output_type": "stream",
          "name": "stderr",
          "text": [
            "1it [00:00,  1.97it/s]\n"
          ]
        },
        {
          "output_type": "stream",
          "name": "stdout",
          "text": [
            "epoch: 734, loss: 0.002313\n"
          ]
        },
        {
          "output_type": "stream",
          "name": "stderr",
          "text": [
            "1it [00:00,  1.99it/s]\n"
          ]
        },
        {
          "output_type": "stream",
          "name": "stdout",
          "text": [
            "epoch: 735, loss: 0.001909\n"
          ]
        },
        {
          "output_type": "stream",
          "name": "stderr",
          "text": [
            "1it [00:00,  1.91it/s]\n"
          ]
        },
        {
          "output_type": "stream",
          "name": "stdout",
          "text": [
            "epoch: 736, loss: 0.003655\n"
          ]
        },
        {
          "output_type": "stream",
          "name": "stderr",
          "text": [
            "1it [00:00,  1.95it/s]\n"
          ]
        },
        {
          "output_type": "stream",
          "name": "stdout",
          "text": [
            "epoch: 737, loss: 0.002466\n"
          ]
        },
        {
          "output_type": "stream",
          "name": "stderr",
          "text": [
            "1it [00:00,  1.96it/s]\n"
          ]
        },
        {
          "output_type": "stream",
          "name": "stdout",
          "text": [
            "epoch: 738, loss: 0.001796\n"
          ]
        },
        {
          "output_type": "stream",
          "name": "stderr",
          "text": [
            "1it [00:00,  1.99it/s]\n"
          ]
        },
        {
          "output_type": "stream",
          "name": "stdout",
          "text": [
            "epoch: 739, loss: 0.002893\n"
          ]
        },
        {
          "output_type": "stream",
          "name": "stderr",
          "text": [
            "1it [00:00,  1.94it/s]\n"
          ]
        },
        {
          "output_type": "stream",
          "name": "stdout",
          "text": [
            "epoch: 740, loss: 0.001596\n"
          ]
        },
        {
          "output_type": "stream",
          "name": "stderr",
          "text": [
            "1it [00:00,  1.97it/s]\n"
          ]
        },
        {
          "output_type": "stream",
          "name": "stdout",
          "text": [
            "epoch: 741, loss: 0.003416\n"
          ]
        },
        {
          "output_type": "stream",
          "name": "stderr",
          "text": [
            "1it [00:00,  1.94it/s]\n"
          ]
        },
        {
          "output_type": "stream",
          "name": "stdout",
          "text": [
            "epoch: 742, loss: 0.001586\n"
          ]
        },
        {
          "output_type": "stream",
          "name": "stderr",
          "text": [
            "1it [00:00,  1.99it/s]\n"
          ]
        },
        {
          "output_type": "stream",
          "name": "stdout",
          "text": [
            "epoch: 743, loss: 0.002529\n"
          ]
        },
        {
          "output_type": "stream",
          "name": "stderr",
          "text": [
            "1it [00:00,  1.98it/s]\n"
          ]
        },
        {
          "output_type": "stream",
          "name": "stdout",
          "text": [
            "epoch: 744, loss: 0.002195\n"
          ]
        },
        {
          "output_type": "stream",
          "name": "stderr",
          "text": [
            "1it [00:00,  1.96it/s]\n"
          ]
        },
        {
          "output_type": "stream",
          "name": "stdout",
          "text": [
            "epoch: 745, loss: 0.002336\n"
          ]
        },
        {
          "output_type": "stream",
          "name": "stderr",
          "text": [
            "1it [00:00,  1.98it/s]\n"
          ]
        },
        {
          "output_type": "stream",
          "name": "stdout",
          "text": [
            "epoch: 746, loss: 0.001987\n"
          ]
        },
        {
          "output_type": "stream",
          "name": "stderr",
          "text": [
            "1it [00:00,  1.93it/s]\n"
          ]
        },
        {
          "output_type": "stream",
          "name": "stdout",
          "text": [
            "epoch: 747, loss: 0.001648\n"
          ]
        },
        {
          "output_type": "stream",
          "name": "stderr",
          "text": [
            "1it [00:00,  1.93it/s]\n"
          ]
        },
        {
          "output_type": "stream",
          "name": "stdout",
          "text": [
            "epoch: 748, loss: 0.002545\n"
          ]
        },
        {
          "output_type": "stream",
          "name": "stderr",
          "text": [
            "1it [00:00,  1.92it/s]\n"
          ]
        },
        {
          "output_type": "stream",
          "name": "stdout",
          "text": [
            "epoch: 749, loss: 0.002626\n"
          ]
        },
        {
          "output_type": "stream",
          "name": "stderr",
          "text": [
            "1it [00:00,  1.91it/s]\n"
          ]
        },
        {
          "output_type": "stream",
          "name": "stdout",
          "text": [
            "epoch: 750, loss: 0.001814\n"
          ]
        },
        {
          "output_type": "stream",
          "name": "stderr",
          "text": [
            "1it [00:00,  2.00it/s]\n"
          ]
        },
        {
          "output_type": "stream",
          "name": "stdout",
          "text": [
            "epoch: 751, loss: 0.002911\n"
          ]
        },
        {
          "output_type": "stream",
          "name": "stderr",
          "text": [
            "1it [00:00,  1.95it/s]\n"
          ]
        },
        {
          "output_type": "stream",
          "name": "stdout",
          "text": [
            "epoch: 752, loss: 0.002389\n"
          ]
        },
        {
          "output_type": "stream",
          "name": "stderr",
          "text": [
            "1it [00:00,  1.94it/s]\n"
          ]
        },
        {
          "output_type": "stream",
          "name": "stdout",
          "text": [
            "epoch: 753, loss: 0.00194\n"
          ]
        },
        {
          "output_type": "stream",
          "name": "stderr",
          "text": [
            "1it [00:00,  1.97it/s]\n"
          ]
        },
        {
          "output_type": "stream",
          "name": "stdout",
          "text": [
            "epoch: 754, loss: 0.001955\n"
          ]
        },
        {
          "output_type": "stream",
          "name": "stderr",
          "text": [
            "1it [00:00,  1.97it/s]\n"
          ]
        },
        {
          "output_type": "stream",
          "name": "stdout",
          "text": [
            "epoch: 755, loss: 0.004497\n"
          ]
        },
        {
          "output_type": "stream",
          "name": "stderr",
          "text": [
            "1it [00:00,  1.86it/s]\n"
          ]
        },
        {
          "output_type": "stream",
          "name": "stdout",
          "text": [
            "epoch: 756, loss: 0.004125\n"
          ]
        },
        {
          "output_type": "stream",
          "name": "stderr",
          "text": [
            "1it [00:00,  1.96it/s]\n"
          ]
        },
        {
          "output_type": "stream",
          "name": "stdout",
          "text": [
            "epoch: 757, loss: 0.001906\n"
          ]
        },
        {
          "output_type": "stream",
          "name": "stderr",
          "text": [
            "1it [00:00,  1.95it/s]\n"
          ]
        },
        {
          "output_type": "stream",
          "name": "stdout",
          "text": [
            "epoch: 758, loss: 0.001764\n"
          ]
        },
        {
          "output_type": "stream",
          "name": "stderr",
          "text": [
            "1it [00:00,  1.97it/s]\n"
          ]
        },
        {
          "output_type": "stream",
          "name": "stdout",
          "text": [
            "epoch: 759, loss: 0.002324\n"
          ]
        },
        {
          "output_type": "stream",
          "name": "stderr",
          "text": [
            "1it [00:00,  1.94it/s]\n"
          ]
        },
        {
          "output_type": "stream",
          "name": "stdout",
          "text": [
            "epoch: 760, loss: 0.003042\n"
          ]
        },
        {
          "output_type": "stream",
          "name": "stderr",
          "text": [
            "1it [00:00,  1.91it/s]\n"
          ]
        },
        {
          "output_type": "stream",
          "name": "stdout",
          "text": [
            "epoch: 761, loss: 0.002235\n"
          ]
        },
        {
          "output_type": "stream",
          "name": "stderr",
          "text": [
            "1it [00:00,  2.01it/s]\n"
          ]
        },
        {
          "output_type": "stream",
          "name": "stdout",
          "text": [
            "epoch: 762, loss: 0.003701\n"
          ]
        },
        {
          "output_type": "stream",
          "name": "stderr",
          "text": [
            "1it [00:00,  1.95it/s]\n"
          ]
        },
        {
          "output_type": "stream",
          "name": "stdout",
          "text": [
            "epoch: 763, loss: 0.001703\n"
          ]
        },
        {
          "output_type": "stream",
          "name": "stderr",
          "text": [
            "1it [00:00,  1.97it/s]\n"
          ]
        },
        {
          "output_type": "stream",
          "name": "stdout",
          "text": [
            "epoch: 764, loss: 0.002717\n"
          ]
        },
        {
          "output_type": "stream",
          "name": "stderr",
          "text": [
            "1it [00:00,  1.92it/s]\n"
          ]
        },
        {
          "output_type": "stream",
          "name": "stdout",
          "text": [
            "epoch: 765, loss: 0.00285\n"
          ]
        },
        {
          "output_type": "stream",
          "name": "stderr",
          "text": [
            "1it [00:00,  1.99it/s]\n"
          ]
        },
        {
          "output_type": "stream",
          "name": "stdout",
          "text": [
            "epoch: 766, loss: 0.001824\n"
          ]
        },
        {
          "output_type": "stream",
          "name": "stderr",
          "text": [
            "1it [00:00,  1.93it/s]\n"
          ]
        },
        {
          "output_type": "stream",
          "name": "stdout",
          "text": [
            "epoch: 767, loss: 0.003977\n"
          ]
        },
        {
          "output_type": "stream",
          "name": "stderr",
          "text": [
            "1it [00:00,  1.93it/s]\n"
          ]
        },
        {
          "output_type": "stream",
          "name": "stdout",
          "text": [
            "epoch: 768, loss: 0.002584\n"
          ]
        },
        {
          "output_type": "stream",
          "name": "stderr",
          "text": [
            "1it [00:00,  1.99it/s]\n"
          ]
        },
        {
          "output_type": "stream",
          "name": "stdout",
          "text": [
            "epoch: 769, loss: 0.00187\n"
          ]
        },
        {
          "output_type": "stream",
          "name": "stderr",
          "text": [
            "1it [00:00,  1.79it/s]\n"
          ]
        },
        {
          "output_type": "stream",
          "name": "stdout",
          "text": [
            "epoch: 770, loss: 0.002016\n"
          ]
        },
        {
          "output_type": "stream",
          "name": "stderr",
          "text": [
            "1it [00:00,  1.83it/s]\n"
          ]
        },
        {
          "output_type": "stream",
          "name": "stdout",
          "text": [
            "epoch: 771, loss: 0.001401\n"
          ]
        },
        {
          "output_type": "stream",
          "name": "stderr",
          "text": [
            "1it [00:00,  1.80it/s]\n"
          ]
        },
        {
          "output_type": "stream",
          "name": "stdout",
          "text": [
            "epoch: 772, loss: 0.001879\n"
          ]
        },
        {
          "output_type": "stream",
          "name": "stderr",
          "text": [
            "1it [00:00,  1.98it/s]\n"
          ]
        },
        {
          "output_type": "stream",
          "name": "stdout",
          "text": [
            "epoch: 773, loss: 0.001653\n"
          ]
        },
        {
          "output_type": "stream",
          "name": "stderr",
          "text": [
            "1it [00:00,  1.99it/s]\n"
          ]
        },
        {
          "output_type": "stream",
          "name": "stdout",
          "text": [
            "epoch: 774, loss: 0.001835\n"
          ]
        },
        {
          "output_type": "stream",
          "name": "stderr",
          "text": [
            "1it [00:00,  2.01it/s]\n"
          ]
        },
        {
          "output_type": "stream",
          "name": "stdout",
          "text": [
            "epoch: 775, loss: 0.001578\n"
          ]
        },
        {
          "output_type": "stream",
          "name": "stderr",
          "text": [
            "1it [00:00,  1.96it/s]\n"
          ]
        },
        {
          "output_type": "stream",
          "name": "stdout",
          "text": [
            "epoch: 776, loss: 0.001611\n"
          ]
        },
        {
          "output_type": "stream",
          "name": "stderr",
          "text": [
            "1it [00:00,  1.97it/s]\n"
          ]
        },
        {
          "output_type": "stream",
          "name": "stdout",
          "text": [
            "epoch: 777, loss: 0.002364\n"
          ]
        },
        {
          "output_type": "stream",
          "name": "stderr",
          "text": [
            "1it [00:00,  1.99it/s]\n"
          ]
        },
        {
          "output_type": "stream",
          "name": "stdout",
          "text": [
            "epoch: 778, loss: 0.007028\n"
          ]
        },
        {
          "output_type": "stream",
          "name": "stderr",
          "text": [
            "1it [00:00,  1.86it/s]\n"
          ]
        },
        {
          "output_type": "stream",
          "name": "stdout",
          "text": [
            "epoch: 779, loss: 0.002161\n"
          ]
        },
        {
          "output_type": "stream",
          "name": "stderr",
          "text": [
            "1it [00:00,  1.97it/s]\n"
          ]
        },
        {
          "output_type": "stream",
          "name": "stdout",
          "text": [
            "epoch: 780, loss: 0.001574\n"
          ]
        },
        {
          "output_type": "stream",
          "name": "stderr",
          "text": [
            "1it [00:00,  1.90it/s]\n"
          ]
        },
        {
          "output_type": "stream",
          "name": "stdout",
          "text": [
            "epoch: 781, loss: 0.001586\n"
          ]
        },
        {
          "output_type": "stream",
          "name": "stderr",
          "text": [
            "1it [00:00,  1.99it/s]\n"
          ]
        },
        {
          "output_type": "stream",
          "name": "stdout",
          "text": [
            "epoch: 782, loss: 0.002411\n"
          ]
        },
        {
          "output_type": "stream",
          "name": "stderr",
          "text": [
            "1it [00:00,  1.98it/s]\n"
          ]
        },
        {
          "output_type": "stream",
          "name": "stdout",
          "text": [
            "epoch: 783, loss: 0.001777\n"
          ]
        },
        {
          "output_type": "stream",
          "name": "stderr",
          "text": [
            "1it [00:00,  1.93it/s]\n"
          ]
        },
        {
          "output_type": "stream",
          "name": "stdout",
          "text": [
            "epoch: 784, loss: 0.002995\n"
          ]
        },
        {
          "output_type": "stream",
          "name": "stderr",
          "text": [
            "1it [00:00,  2.00it/s]\n"
          ]
        },
        {
          "output_type": "stream",
          "name": "stdout",
          "text": [
            "epoch: 785, loss: 0.003165\n"
          ]
        },
        {
          "output_type": "stream",
          "name": "stderr",
          "text": [
            "1it [00:00,  1.99it/s]\n"
          ]
        },
        {
          "output_type": "stream",
          "name": "stdout",
          "text": [
            "epoch: 786, loss: 0.001684\n"
          ]
        },
        {
          "output_type": "stream",
          "name": "stderr",
          "text": [
            "1it [00:00,  2.00it/s]\n"
          ]
        },
        {
          "output_type": "stream",
          "name": "stdout",
          "text": [
            "epoch: 787, loss: 0.002112\n"
          ]
        },
        {
          "output_type": "stream",
          "name": "stderr",
          "text": [
            "1it [00:00,  1.89it/s]\n"
          ]
        },
        {
          "output_type": "stream",
          "name": "stdout",
          "text": [
            "epoch: 788, loss: 0.001525\n"
          ]
        },
        {
          "output_type": "stream",
          "name": "stderr",
          "text": [
            "1it [00:00,  1.99it/s]\n"
          ]
        },
        {
          "output_type": "stream",
          "name": "stdout",
          "text": [
            "epoch: 789, loss: 0.001795\n"
          ]
        },
        {
          "output_type": "stream",
          "name": "stderr",
          "text": [
            "1it [00:00,  1.97it/s]\n"
          ]
        },
        {
          "output_type": "stream",
          "name": "stdout",
          "text": [
            "epoch: 790, loss: 0.001939\n"
          ]
        },
        {
          "output_type": "stream",
          "name": "stderr",
          "text": [
            "1it [00:00,  2.00it/s]\n"
          ]
        },
        {
          "output_type": "stream",
          "name": "stdout",
          "text": [
            "epoch: 791, loss: 0.001487\n"
          ]
        },
        {
          "output_type": "stream",
          "name": "stderr",
          "text": [
            "1it [00:00,  1.92it/s]\n"
          ]
        },
        {
          "output_type": "stream",
          "name": "stdout",
          "text": [
            "epoch: 792, loss: 0.002119\n"
          ]
        },
        {
          "output_type": "stream",
          "name": "stderr",
          "text": [
            "1it [00:00,  1.92it/s]\n"
          ]
        },
        {
          "output_type": "stream",
          "name": "stdout",
          "text": [
            "epoch: 793, loss: 0.002282\n"
          ]
        },
        {
          "output_type": "stream",
          "name": "stderr",
          "text": [
            "1it [00:00,  1.93it/s]\n"
          ]
        },
        {
          "output_type": "stream",
          "name": "stdout",
          "text": [
            "epoch: 794, loss: 0.002418\n"
          ]
        },
        {
          "output_type": "stream",
          "name": "stderr",
          "text": [
            "1it [00:00,  1.86it/s]\n"
          ]
        },
        {
          "output_type": "stream",
          "name": "stdout",
          "text": [
            "epoch: 795, loss: 0.001738\n"
          ]
        },
        {
          "output_type": "stream",
          "name": "stderr",
          "text": [
            "1it [00:00,  1.93it/s]\n"
          ]
        },
        {
          "output_type": "stream",
          "name": "stdout",
          "text": [
            "epoch: 796, loss: 0.001309\n"
          ]
        },
        {
          "output_type": "stream",
          "name": "stderr",
          "text": [
            "1it [00:00,  1.94it/s]\n"
          ]
        },
        {
          "output_type": "stream",
          "name": "stdout",
          "text": [
            "epoch: 797, loss: 0.001976\n"
          ]
        },
        {
          "output_type": "stream",
          "name": "stderr",
          "text": [
            "1it [00:00,  1.88it/s]\n"
          ]
        },
        {
          "output_type": "stream",
          "name": "stdout",
          "text": [
            "epoch: 798, loss: 0.002204\n"
          ]
        },
        {
          "output_type": "stream",
          "name": "stderr",
          "text": [
            "1it [00:00,  1.96it/s]\n"
          ]
        },
        {
          "output_type": "stream",
          "name": "stdout",
          "text": [
            "epoch: 799, loss: 0.001528\n"
          ]
        },
        {
          "output_type": "stream",
          "name": "stderr",
          "text": [
            "1it [00:00,  1.96it/s]\n"
          ]
        },
        {
          "output_type": "stream",
          "name": "stdout",
          "text": [
            "epoch: 800, loss: 0.00157\n"
          ]
        },
        {
          "output_type": "stream",
          "name": "stderr",
          "text": [
            "1it [00:00,  1.97it/s]\n"
          ]
        },
        {
          "output_type": "stream",
          "name": "stdout",
          "text": [
            "epoch: 801, loss: 0.002722\n"
          ]
        },
        {
          "output_type": "stream",
          "name": "stderr",
          "text": [
            "1it [00:00,  1.95it/s]\n"
          ]
        },
        {
          "output_type": "stream",
          "name": "stdout",
          "text": [
            "epoch: 802, loss: 0.001951\n"
          ]
        },
        {
          "output_type": "stream",
          "name": "stderr",
          "text": [
            "1it [00:00,  1.87it/s]\n"
          ]
        },
        {
          "output_type": "stream",
          "name": "stdout",
          "text": [
            "epoch: 803, loss: 0.001681\n"
          ]
        },
        {
          "output_type": "stream",
          "name": "stderr",
          "text": [
            "1it [00:00,  1.93it/s]\n"
          ]
        },
        {
          "output_type": "stream",
          "name": "stdout",
          "text": [
            "epoch: 804, loss: 0.003289\n"
          ]
        },
        {
          "output_type": "stream",
          "name": "stderr",
          "text": [
            "1it [00:00,  1.96it/s]\n"
          ]
        },
        {
          "output_type": "stream",
          "name": "stdout",
          "text": [
            "epoch: 805, loss: 0.00285\n"
          ]
        },
        {
          "output_type": "stream",
          "name": "stderr",
          "text": [
            "1it [00:00,  1.93it/s]\n"
          ]
        },
        {
          "output_type": "stream",
          "name": "stdout",
          "text": [
            "epoch: 806, loss: 0.0023\n"
          ]
        },
        {
          "output_type": "stream",
          "name": "stderr",
          "text": [
            "1it [00:00,  1.96it/s]\n"
          ]
        },
        {
          "output_type": "stream",
          "name": "stdout",
          "text": [
            "epoch: 807, loss: 0.002581\n"
          ]
        },
        {
          "output_type": "stream",
          "name": "stderr",
          "text": [
            "1it [00:00,  1.93it/s]\n"
          ]
        },
        {
          "output_type": "stream",
          "name": "stdout",
          "text": [
            "epoch: 808, loss: 0.001953\n"
          ]
        },
        {
          "output_type": "stream",
          "name": "stderr",
          "text": [
            "1it [00:00,  1.95it/s]\n"
          ]
        },
        {
          "output_type": "stream",
          "name": "stdout",
          "text": [
            "epoch: 809, loss: 0.001944\n"
          ]
        },
        {
          "output_type": "stream",
          "name": "stderr",
          "text": [
            "1it [00:00,  1.95it/s]\n"
          ]
        },
        {
          "output_type": "stream",
          "name": "stdout",
          "text": [
            "epoch: 810, loss: 0.001487\n"
          ]
        },
        {
          "output_type": "stream",
          "name": "stderr",
          "text": [
            "1it [00:00,  1.84it/s]\n"
          ]
        },
        {
          "output_type": "stream",
          "name": "stdout",
          "text": [
            "epoch: 811, loss: 0.003131\n"
          ]
        },
        {
          "output_type": "stream",
          "name": "stderr",
          "text": [
            "1it [00:00,  1.98it/s]\n"
          ]
        },
        {
          "output_type": "stream",
          "name": "stdout",
          "text": [
            "epoch: 812, loss: 0.002506\n"
          ]
        },
        {
          "output_type": "stream",
          "name": "stderr",
          "text": [
            "1it [00:00,  1.95it/s]\n"
          ]
        },
        {
          "output_type": "stream",
          "name": "stdout",
          "text": [
            "epoch: 813, loss: 0.001983\n"
          ]
        },
        {
          "output_type": "stream",
          "name": "stderr",
          "text": [
            "1it [00:00,  1.99it/s]\n"
          ]
        },
        {
          "output_type": "stream",
          "name": "stdout",
          "text": [
            "epoch: 814, loss: 0.001527\n"
          ]
        },
        {
          "output_type": "stream",
          "name": "stderr",
          "text": [
            "1it [00:00,  1.93it/s]\n"
          ]
        },
        {
          "output_type": "stream",
          "name": "stdout",
          "text": [
            "epoch: 815, loss: 0.001962\n"
          ]
        },
        {
          "output_type": "stream",
          "name": "stderr",
          "text": [
            "1it [00:00,  1.94it/s]\n"
          ]
        },
        {
          "output_type": "stream",
          "name": "stdout",
          "text": [
            "epoch: 816, loss: 0.001775\n"
          ]
        },
        {
          "output_type": "stream",
          "name": "stderr",
          "text": [
            "1it [00:00,  1.86it/s]\n"
          ]
        },
        {
          "output_type": "stream",
          "name": "stdout",
          "text": [
            "epoch: 817, loss: 0.001803\n"
          ]
        },
        {
          "output_type": "stream",
          "name": "stderr",
          "text": [
            "1it [00:00,  1.81it/s]\n"
          ]
        },
        {
          "output_type": "stream",
          "name": "stdout",
          "text": [
            "epoch: 818, loss: 0.001723\n"
          ]
        },
        {
          "output_type": "stream",
          "name": "stderr",
          "text": [
            "1it [00:00,  1.94it/s]\n"
          ]
        },
        {
          "output_type": "stream",
          "name": "stdout",
          "text": [
            "epoch: 819, loss: 0.002045\n"
          ]
        },
        {
          "output_type": "stream",
          "name": "stderr",
          "text": [
            "1it [00:00,  1.97it/s]\n"
          ]
        },
        {
          "output_type": "stream",
          "name": "stdout",
          "text": [
            "epoch: 820, loss: 0.002142\n"
          ]
        },
        {
          "output_type": "stream",
          "name": "stderr",
          "text": [
            "1it [00:00,  1.92it/s]\n"
          ]
        },
        {
          "output_type": "stream",
          "name": "stdout",
          "text": [
            "epoch: 821, loss: 0.003263\n"
          ]
        },
        {
          "output_type": "stream",
          "name": "stderr",
          "text": [
            "1it [00:00,  1.99it/s]\n"
          ]
        },
        {
          "output_type": "stream",
          "name": "stdout",
          "text": [
            "epoch: 822, loss: 0.002155\n"
          ]
        },
        {
          "output_type": "stream",
          "name": "stderr",
          "text": [
            "1it [00:00,  1.99it/s]\n"
          ]
        },
        {
          "output_type": "stream",
          "name": "stdout",
          "text": [
            "epoch: 823, loss: 0.002804\n"
          ]
        },
        {
          "output_type": "stream",
          "name": "stderr",
          "text": [
            "1it [00:00,  1.96it/s]\n"
          ]
        },
        {
          "output_type": "stream",
          "name": "stdout",
          "text": [
            "epoch: 824, loss: 0.002282\n"
          ]
        },
        {
          "output_type": "stream",
          "name": "stderr",
          "text": [
            "1it [00:00,  1.96it/s]\n"
          ]
        },
        {
          "output_type": "stream",
          "name": "stdout",
          "text": [
            "epoch: 825, loss: 0.002743\n"
          ]
        },
        {
          "output_type": "stream",
          "name": "stderr",
          "text": [
            "1it [00:00,  1.97it/s]\n"
          ]
        },
        {
          "output_type": "stream",
          "name": "stdout",
          "text": [
            "epoch: 826, loss: 0.003157\n"
          ]
        },
        {
          "output_type": "stream",
          "name": "stderr",
          "text": [
            "1it [00:00,  1.89it/s]\n"
          ]
        },
        {
          "output_type": "stream",
          "name": "stdout",
          "text": [
            "epoch: 827, loss: 0.002852\n"
          ]
        },
        {
          "output_type": "stream",
          "name": "stderr",
          "text": [
            "1it [00:00,  1.98it/s]\n"
          ]
        },
        {
          "output_type": "stream",
          "name": "stdout",
          "text": [
            "epoch: 828, loss: 0.002121\n"
          ]
        },
        {
          "output_type": "stream",
          "name": "stderr",
          "text": [
            "1it [00:00,  1.95it/s]\n"
          ]
        },
        {
          "output_type": "stream",
          "name": "stdout",
          "text": [
            "epoch: 829, loss: 0.001557\n"
          ]
        },
        {
          "output_type": "stream",
          "name": "stderr",
          "text": [
            "1it [00:00,  1.98it/s]\n"
          ]
        },
        {
          "output_type": "stream",
          "name": "stdout",
          "text": [
            "epoch: 830, loss: 0.002456\n"
          ]
        },
        {
          "output_type": "stream",
          "name": "stderr",
          "text": [
            "1it [00:00,  1.91it/s]\n"
          ]
        },
        {
          "output_type": "stream",
          "name": "stdout",
          "text": [
            "epoch: 831, loss: 0.00205\n"
          ]
        },
        {
          "output_type": "stream",
          "name": "stderr",
          "text": [
            "1it [00:00,  1.97it/s]\n"
          ]
        },
        {
          "output_type": "stream",
          "name": "stdout",
          "text": [
            "epoch: 832, loss: 0.001818\n"
          ]
        },
        {
          "output_type": "stream",
          "name": "stderr",
          "text": [
            "1it [00:00,  1.95it/s]\n"
          ]
        },
        {
          "output_type": "stream",
          "name": "stdout",
          "text": [
            "epoch: 833, loss: 0.001915\n"
          ]
        },
        {
          "output_type": "stream",
          "name": "stderr",
          "text": [
            "1it [00:00,  1.95it/s]\n"
          ]
        },
        {
          "output_type": "stream",
          "name": "stdout",
          "text": [
            "epoch: 834, loss: 0.002677\n"
          ]
        },
        {
          "output_type": "stream",
          "name": "stderr",
          "text": [
            "1it [00:00,  1.91it/s]\n"
          ]
        },
        {
          "output_type": "stream",
          "name": "stdout",
          "text": [
            "epoch: 835, loss: 0.002123\n"
          ]
        },
        {
          "output_type": "stream",
          "name": "stderr",
          "text": [
            "1it [00:00,  1.99it/s]\n"
          ]
        },
        {
          "output_type": "stream",
          "name": "stdout",
          "text": [
            "epoch: 836, loss: 0.001564\n"
          ]
        },
        {
          "output_type": "stream",
          "name": "stderr",
          "text": [
            "1it [00:00,  2.00it/s]\n"
          ]
        },
        {
          "output_type": "stream",
          "name": "stdout",
          "text": [
            "epoch: 837, loss: 0.002557\n"
          ]
        },
        {
          "output_type": "stream",
          "name": "stderr",
          "text": [
            "1it [00:00,  1.93it/s]\n"
          ]
        },
        {
          "output_type": "stream",
          "name": "stdout",
          "text": [
            "epoch: 838, loss: 0.002446\n"
          ]
        },
        {
          "output_type": "stream",
          "name": "stderr",
          "text": [
            "1it [00:00,  1.80it/s]\n"
          ]
        },
        {
          "output_type": "stream",
          "name": "stdout",
          "text": [
            "epoch: 839, loss: 0.003119\n"
          ]
        },
        {
          "output_type": "stream",
          "name": "stderr",
          "text": [
            "1it [00:00,  1.91it/s]\n"
          ]
        },
        {
          "output_type": "stream",
          "name": "stdout",
          "text": [
            "epoch: 840, loss: 0.003031\n"
          ]
        },
        {
          "output_type": "stream",
          "name": "stderr",
          "text": [
            "1it [00:00,  1.89it/s]\n"
          ]
        },
        {
          "output_type": "stream",
          "name": "stdout",
          "text": [
            "epoch: 841, loss: 0.002112\n"
          ]
        },
        {
          "output_type": "stream",
          "name": "stderr",
          "text": [
            "1it [00:00,  1.96it/s]\n"
          ]
        },
        {
          "output_type": "stream",
          "name": "stdout",
          "text": [
            "epoch: 842, loss: 0.002321\n"
          ]
        },
        {
          "output_type": "stream",
          "name": "stderr",
          "text": [
            "1it [00:00,  1.95it/s]\n"
          ]
        },
        {
          "output_type": "stream",
          "name": "stdout",
          "text": [
            "epoch: 843, loss: 0.002902\n"
          ]
        },
        {
          "output_type": "stream",
          "name": "stderr",
          "text": [
            "1it [00:00,  1.98it/s]\n"
          ]
        },
        {
          "output_type": "stream",
          "name": "stdout",
          "text": [
            "epoch: 844, loss: 0.001679\n"
          ]
        },
        {
          "output_type": "stream",
          "name": "stderr",
          "text": [
            "1it [00:00,  1.89it/s]\n"
          ]
        },
        {
          "output_type": "stream",
          "name": "stdout",
          "text": [
            "epoch: 845, loss: 0.003814\n"
          ]
        },
        {
          "output_type": "stream",
          "name": "stderr",
          "text": [
            "1it [00:00,  1.99it/s]\n"
          ]
        },
        {
          "output_type": "stream",
          "name": "stdout",
          "text": [
            "epoch: 846, loss: 0.001753\n"
          ]
        },
        {
          "output_type": "stream",
          "name": "stderr",
          "text": [
            "1it [00:00,  2.00it/s]\n"
          ]
        },
        {
          "output_type": "stream",
          "name": "stdout",
          "text": [
            "epoch: 847, loss: 0.001952\n"
          ]
        },
        {
          "output_type": "stream",
          "name": "stderr",
          "text": [
            "1it [00:00,  1.97it/s]\n"
          ]
        },
        {
          "output_type": "stream",
          "name": "stdout",
          "text": [
            "epoch: 848, loss: 0.001245\n"
          ]
        },
        {
          "output_type": "stream",
          "name": "stderr",
          "text": [
            "1it [00:00,  1.95it/s]\n"
          ]
        },
        {
          "output_type": "stream",
          "name": "stdout",
          "text": [
            "epoch: 849, loss: 0.001839\n"
          ]
        },
        {
          "output_type": "stream",
          "name": "stderr",
          "text": [
            "1it [00:00,  1.94it/s]\n"
          ]
        },
        {
          "output_type": "stream",
          "name": "stdout",
          "text": [
            "epoch: 850, loss: 0.002574\n"
          ]
        },
        {
          "output_type": "stream",
          "name": "stderr",
          "text": [
            "1it [00:00,  1.96it/s]\n"
          ]
        },
        {
          "output_type": "stream",
          "name": "stdout",
          "text": [
            "epoch: 851, loss: 0.002081\n"
          ]
        },
        {
          "output_type": "stream",
          "name": "stderr",
          "text": [
            "1it [00:00,  1.98it/s]\n"
          ]
        },
        {
          "output_type": "stream",
          "name": "stdout",
          "text": [
            "epoch: 852, loss: 0.00225\n"
          ]
        },
        {
          "output_type": "stream",
          "name": "stderr",
          "text": [
            "1it [00:00,  1.90it/s]\n"
          ]
        },
        {
          "output_type": "stream",
          "name": "stdout",
          "text": [
            "epoch: 853, loss: 0.002212\n"
          ]
        },
        {
          "output_type": "stream",
          "name": "stderr",
          "text": [
            "1it [00:00,  2.00it/s]\n"
          ]
        },
        {
          "output_type": "stream",
          "name": "stdout",
          "text": [
            "epoch: 854, loss: 0.0015\n"
          ]
        },
        {
          "output_type": "stream",
          "name": "stderr",
          "text": [
            "1it [00:00,  1.92it/s]\n"
          ]
        },
        {
          "output_type": "stream",
          "name": "stdout",
          "text": [
            "epoch: 855, loss: 0.002865\n"
          ]
        },
        {
          "output_type": "stream",
          "name": "stderr",
          "text": [
            "1it [00:00,  1.95it/s]\n"
          ]
        },
        {
          "output_type": "stream",
          "name": "stdout",
          "text": [
            "epoch: 856, loss: 0.001517\n"
          ]
        },
        {
          "output_type": "stream",
          "name": "stderr",
          "text": [
            "1it [00:00,  1.98it/s]\n"
          ]
        },
        {
          "output_type": "stream",
          "name": "stdout",
          "text": [
            "epoch: 857, loss: 0.00283\n"
          ]
        },
        {
          "output_type": "stream",
          "name": "stderr",
          "text": [
            "1it [00:00,  1.98it/s]\n"
          ]
        },
        {
          "output_type": "stream",
          "name": "stdout",
          "text": [
            "epoch: 858, loss: 0.001476\n"
          ]
        },
        {
          "output_type": "stream",
          "name": "stderr",
          "text": [
            "1it [00:00,  1.94it/s]\n"
          ]
        },
        {
          "output_type": "stream",
          "name": "stdout",
          "text": [
            "epoch: 859, loss: 0.001213\n"
          ]
        },
        {
          "output_type": "stream",
          "name": "stderr",
          "text": [
            "1it [00:00,  1.92it/s]\n"
          ]
        },
        {
          "output_type": "stream",
          "name": "stdout",
          "text": [
            "epoch: 860, loss: 0.001292\n"
          ]
        },
        {
          "output_type": "stream",
          "name": "stderr",
          "text": [
            "1it [00:00,  1.89it/s]\n"
          ]
        },
        {
          "output_type": "stream",
          "name": "stdout",
          "text": [
            "epoch: 861, loss: 0.003147\n"
          ]
        },
        {
          "output_type": "stream",
          "name": "stderr",
          "text": [
            "1it [00:00,  1.89it/s]\n"
          ]
        },
        {
          "output_type": "stream",
          "name": "stdout",
          "text": [
            "epoch: 862, loss: 0.001904\n"
          ]
        },
        {
          "output_type": "stream",
          "name": "stderr",
          "text": [
            "1it [00:00,  1.83it/s]\n"
          ]
        },
        {
          "output_type": "stream",
          "name": "stdout",
          "text": [
            "epoch: 863, loss: 0.003986\n"
          ]
        },
        {
          "output_type": "stream",
          "name": "stderr",
          "text": [
            "1it [00:00,  1.80it/s]\n"
          ]
        },
        {
          "output_type": "stream",
          "name": "stdout",
          "text": [
            "epoch: 864, loss: 0.002834\n"
          ]
        },
        {
          "output_type": "stream",
          "name": "stderr",
          "text": [
            "1it [00:00,  1.92it/s]\n"
          ]
        },
        {
          "output_type": "stream",
          "name": "stdout",
          "text": [
            "epoch: 865, loss: 0.003555\n"
          ]
        },
        {
          "output_type": "stream",
          "name": "stderr",
          "text": [
            "1it [00:00,  1.95it/s]\n"
          ]
        },
        {
          "output_type": "stream",
          "name": "stdout",
          "text": [
            "epoch: 866, loss: 0.001583\n"
          ]
        },
        {
          "output_type": "stream",
          "name": "stderr",
          "text": [
            "1it [00:00,  1.98it/s]\n"
          ]
        },
        {
          "output_type": "stream",
          "name": "stdout",
          "text": [
            "epoch: 867, loss: 0.002097\n"
          ]
        },
        {
          "output_type": "stream",
          "name": "stderr",
          "text": [
            "1it [00:00,  1.93it/s]\n"
          ]
        },
        {
          "output_type": "stream",
          "name": "stdout",
          "text": [
            "epoch: 868, loss: 0.004211\n"
          ]
        },
        {
          "output_type": "stream",
          "name": "stderr",
          "text": [
            "1it [00:00,  1.96it/s]\n"
          ]
        },
        {
          "output_type": "stream",
          "name": "stdout",
          "text": [
            "epoch: 869, loss: 0.002306\n"
          ]
        },
        {
          "output_type": "stream",
          "name": "stderr",
          "text": [
            "1it [00:00,  1.99it/s]\n"
          ]
        },
        {
          "output_type": "stream",
          "name": "stdout",
          "text": [
            "epoch: 870, loss: 0.002388\n"
          ]
        },
        {
          "output_type": "stream",
          "name": "stderr",
          "text": [
            "1it [00:00,  1.82it/s]\n"
          ]
        },
        {
          "output_type": "stream",
          "name": "stdout",
          "text": [
            "epoch: 871, loss: 0.001791\n"
          ]
        },
        {
          "output_type": "stream",
          "name": "stderr",
          "text": [
            "1it [00:00,  1.95it/s]\n"
          ]
        },
        {
          "output_type": "stream",
          "name": "stdout",
          "text": [
            "epoch: 872, loss: 0.002551\n"
          ]
        },
        {
          "output_type": "stream",
          "name": "stderr",
          "text": [
            "1it [00:00,  1.97it/s]\n"
          ]
        },
        {
          "output_type": "stream",
          "name": "stdout",
          "text": [
            "epoch: 873, loss: 0.001869\n"
          ]
        },
        {
          "output_type": "stream",
          "name": "stderr",
          "text": [
            "1it [00:00,  1.97it/s]\n"
          ]
        },
        {
          "output_type": "stream",
          "name": "stdout",
          "text": [
            "epoch: 874, loss: 0.001221\n"
          ]
        },
        {
          "output_type": "stream",
          "name": "stderr",
          "text": [
            "1it [00:00,  1.98it/s]\n"
          ]
        },
        {
          "output_type": "stream",
          "name": "stdout",
          "text": [
            "epoch: 875, loss: 0.002509\n"
          ]
        },
        {
          "output_type": "stream",
          "name": "stderr",
          "text": [
            "1it [00:00,  1.99it/s]\n"
          ]
        },
        {
          "output_type": "stream",
          "name": "stdout",
          "text": [
            "epoch: 876, loss: 0.002747\n"
          ]
        },
        {
          "output_type": "stream",
          "name": "stderr",
          "text": [
            "1it [00:00,  1.96it/s]\n"
          ]
        },
        {
          "output_type": "stream",
          "name": "stdout",
          "text": [
            "epoch: 877, loss: 0.001852\n"
          ]
        },
        {
          "output_type": "stream",
          "name": "stderr",
          "text": [
            "1it [00:00,  1.98it/s]\n"
          ]
        },
        {
          "output_type": "stream",
          "name": "stdout",
          "text": [
            "epoch: 878, loss: 0.002239\n"
          ]
        },
        {
          "output_type": "stream",
          "name": "stderr",
          "text": [
            "1it [00:00,  1.97it/s]\n"
          ]
        },
        {
          "output_type": "stream",
          "name": "stdout",
          "text": [
            "epoch: 879, loss: 0.001982\n"
          ]
        },
        {
          "output_type": "stream",
          "name": "stderr",
          "text": [
            "1it [00:00,  1.99it/s]\n"
          ]
        },
        {
          "output_type": "stream",
          "name": "stdout",
          "text": [
            "epoch: 880, loss: 0.001555\n"
          ]
        },
        {
          "output_type": "stream",
          "name": "stderr",
          "text": [
            "1it [00:00,  1.93it/s]\n"
          ]
        },
        {
          "output_type": "stream",
          "name": "stdout",
          "text": [
            "epoch: 881, loss: 0.002188\n"
          ]
        },
        {
          "output_type": "stream",
          "name": "stderr",
          "text": [
            "1it [00:00,  1.98it/s]\n"
          ]
        },
        {
          "output_type": "stream",
          "name": "stdout",
          "text": [
            "epoch: 882, loss: 0.001817\n"
          ]
        },
        {
          "output_type": "stream",
          "name": "stderr",
          "text": [
            "1it [00:00,  1.95it/s]\n"
          ]
        },
        {
          "output_type": "stream",
          "name": "stdout",
          "text": [
            "epoch: 883, loss: 0.001078\n"
          ]
        },
        {
          "output_type": "stream",
          "name": "stderr",
          "text": [
            "1it [00:00,  1.88it/s]\n"
          ]
        },
        {
          "output_type": "stream",
          "name": "stdout",
          "text": [
            "epoch: 884, loss: 0.00254\n"
          ]
        },
        {
          "output_type": "stream",
          "name": "stderr",
          "text": [
            "1it [00:00,  1.97it/s]\n"
          ]
        },
        {
          "output_type": "stream",
          "name": "stdout",
          "text": [
            "epoch: 885, loss: 0.001339\n"
          ]
        },
        {
          "output_type": "stream",
          "name": "stderr",
          "text": [
            "1it [00:00,  1.92it/s]\n"
          ]
        },
        {
          "output_type": "stream",
          "name": "stdout",
          "text": [
            "epoch: 886, loss: 0.002113\n"
          ]
        },
        {
          "output_type": "stream",
          "name": "stderr",
          "text": [
            "1it [00:00,  1.87it/s]\n"
          ]
        },
        {
          "output_type": "stream",
          "name": "stdout",
          "text": [
            "epoch: 887, loss: 0.00151\n"
          ]
        },
        {
          "output_type": "stream",
          "name": "stderr",
          "text": [
            "1it [00:00,  1.91it/s]\n"
          ]
        },
        {
          "output_type": "stream",
          "name": "stdout",
          "text": [
            "epoch: 888, loss: 0.00247\n"
          ]
        },
        {
          "output_type": "stream",
          "name": "stderr",
          "text": [
            "1it [00:00,  1.99it/s]\n"
          ]
        },
        {
          "output_type": "stream",
          "name": "stdout",
          "text": [
            "epoch: 889, loss: 0.001821\n"
          ]
        },
        {
          "output_type": "stream",
          "name": "stderr",
          "text": [
            "1it [00:00,  1.93it/s]\n"
          ]
        },
        {
          "output_type": "stream",
          "name": "stdout",
          "text": [
            "epoch: 890, loss: 0.002356\n"
          ]
        },
        {
          "output_type": "stream",
          "name": "stderr",
          "text": [
            "1it [00:00,  1.87it/s]\n"
          ]
        },
        {
          "output_type": "stream",
          "name": "stdout",
          "text": [
            "epoch: 891, loss: 0.001685\n"
          ]
        },
        {
          "output_type": "stream",
          "name": "stderr",
          "text": [
            "1it [00:00,  2.00it/s]\n"
          ]
        },
        {
          "output_type": "stream",
          "name": "stdout",
          "text": [
            "epoch: 892, loss: 0.003039\n"
          ]
        },
        {
          "output_type": "stream",
          "name": "stderr",
          "text": [
            "1it [00:00,  1.95it/s]\n"
          ]
        },
        {
          "output_type": "stream",
          "name": "stdout",
          "text": [
            "epoch: 893, loss: 0.001926\n"
          ]
        },
        {
          "output_type": "stream",
          "name": "stderr",
          "text": [
            "1it [00:00,  2.00it/s]\n"
          ]
        },
        {
          "output_type": "stream",
          "name": "stdout",
          "text": [
            "epoch: 894, loss: 0.002221\n"
          ]
        },
        {
          "output_type": "stream",
          "name": "stderr",
          "text": [
            "1it [00:00,  1.97it/s]\n"
          ]
        },
        {
          "output_type": "stream",
          "name": "stdout",
          "text": [
            "epoch: 895, loss: 0.00254\n"
          ]
        },
        {
          "output_type": "stream",
          "name": "stderr",
          "text": [
            "1it [00:00,  1.99it/s]\n"
          ]
        },
        {
          "output_type": "stream",
          "name": "stdout",
          "text": [
            "epoch: 896, loss: 0.001143\n"
          ]
        },
        {
          "output_type": "stream",
          "name": "stderr",
          "text": [
            "1it [00:00,  1.94it/s]\n"
          ]
        },
        {
          "output_type": "stream",
          "name": "stdout",
          "text": [
            "epoch: 897, loss: 0.002176\n"
          ]
        },
        {
          "output_type": "stream",
          "name": "stderr",
          "text": [
            "1it [00:00,  1.98it/s]\n"
          ]
        },
        {
          "output_type": "stream",
          "name": "stdout",
          "text": [
            "epoch: 898, loss: 0.002421\n"
          ]
        },
        {
          "output_type": "stream",
          "name": "stderr",
          "text": [
            "1it [00:00,  1.91it/s]\n"
          ]
        },
        {
          "output_type": "stream",
          "name": "stdout",
          "text": [
            "epoch: 899, loss: 0.001939\n"
          ]
        },
        {
          "output_type": "stream",
          "name": "stderr",
          "text": [
            "1it [00:00,  1.97it/s]\n"
          ]
        },
        {
          "output_type": "stream",
          "name": "stdout",
          "text": [
            "epoch: 900, loss: 0.001628\n"
          ]
        },
        {
          "output_type": "stream",
          "name": "stderr",
          "text": [
            "1it [00:00,  1.98it/s]\n"
          ]
        },
        {
          "output_type": "stream",
          "name": "stdout",
          "text": [
            "epoch: 901, loss: 0.001911\n"
          ]
        },
        {
          "output_type": "stream",
          "name": "stderr",
          "text": [
            "1it [00:00,  1.98it/s]\n"
          ]
        },
        {
          "output_type": "stream",
          "name": "stdout",
          "text": [
            "epoch: 902, loss: 0.001738\n"
          ]
        },
        {
          "output_type": "stream",
          "name": "stderr",
          "text": [
            "1it [00:00,  1.93it/s]\n"
          ]
        },
        {
          "output_type": "stream",
          "name": "stdout",
          "text": [
            "epoch: 903, loss: 0.001905\n"
          ]
        },
        {
          "output_type": "stream",
          "name": "stderr",
          "text": [
            "1it [00:00,  2.00it/s]\n"
          ]
        },
        {
          "output_type": "stream",
          "name": "stdout",
          "text": [
            "epoch: 904, loss: 0.001206\n"
          ]
        },
        {
          "output_type": "stream",
          "name": "stderr",
          "text": [
            "1it [00:00,  1.99it/s]\n"
          ]
        },
        {
          "output_type": "stream",
          "name": "stdout",
          "text": [
            "epoch: 905, loss: 0.001182\n"
          ]
        },
        {
          "output_type": "stream",
          "name": "stderr",
          "text": [
            "1it [00:00,  1.98it/s]\n"
          ]
        },
        {
          "output_type": "stream",
          "name": "stdout",
          "text": [
            "epoch: 906, loss: 0.001221\n"
          ]
        },
        {
          "output_type": "stream",
          "name": "stderr",
          "text": [
            "1it [00:00,  1.80it/s]\n"
          ]
        },
        {
          "output_type": "stream",
          "name": "stdout",
          "text": [
            "epoch: 907, loss: 0.002023\n"
          ]
        },
        {
          "output_type": "stream",
          "name": "stderr",
          "text": [
            "1it [00:00,  1.91it/s]\n"
          ]
        },
        {
          "output_type": "stream",
          "name": "stdout",
          "text": [
            "epoch: 908, loss: 0.001622\n"
          ]
        },
        {
          "output_type": "stream",
          "name": "stderr",
          "text": [
            "1it [00:00,  1.83it/s]\n"
          ]
        },
        {
          "output_type": "stream",
          "name": "stdout",
          "text": [
            "epoch: 909, loss: 0.002174\n"
          ]
        },
        {
          "output_type": "stream",
          "name": "stderr",
          "text": [
            "1it [00:00,  1.93it/s]\n"
          ]
        },
        {
          "output_type": "stream",
          "name": "stdout",
          "text": [
            "epoch: 910, loss: 0.001411\n"
          ]
        },
        {
          "output_type": "stream",
          "name": "stderr",
          "text": [
            "1it [00:00,  1.93it/s]\n"
          ]
        },
        {
          "output_type": "stream",
          "name": "stdout",
          "text": [
            "epoch: 911, loss: 0.001592\n"
          ]
        },
        {
          "output_type": "stream",
          "name": "stderr",
          "text": [
            "1it [00:00,  1.97it/s]\n"
          ]
        },
        {
          "output_type": "stream",
          "name": "stdout",
          "text": [
            "epoch: 912, loss: 0.001252\n"
          ]
        },
        {
          "output_type": "stream",
          "name": "stderr",
          "text": [
            "1it [00:00,  1.84it/s]\n"
          ]
        },
        {
          "output_type": "stream",
          "name": "stdout",
          "text": [
            "epoch: 913, loss: 0.001966\n"
          ]
        },
        {
          "output_type": "stream",
          "name": "stderr",
          "text": [
            "1it [00:00,  1.93it/s]\n"
          ]
        },
        {
          "output_type": "stream",
          "name": "stdout",
          "text": [
            "epoch: 914, loss: 0.00188\n"
          ]
        },
        {
          "output_type": "stream",
          "name": "stderr",
          "text": [
            "1it [00:00,  1.93it/s]\n"
          ]
        },
        {
          "output_type": "stream",
          "name": "stdout",
          "text": [
            "epoch: 915, loss: 0.002802\n"
          ]
        },
        {
          "output_type": "stream",
          "name": "stderr",
          "text": [
            "1it [00:00,  1.94it/s]\n"
          ]
        },
        {
          "output_type": "stream",
          "name": "stdout",
          "text": [
            "epoch: 916, loss: 0.001958\n"
          ]
        },
        {
          "output_type": "stream",
          "name": "stderr",
          "text": [
            "1it [00:00,  1.97it/s]\n"
          ]
        },
        {
          "output_type": "stream",
          "name": "stdout",
          "text": [
            "epoch: 917, loss: 0.002547\n"
          ]
        },
        {
          "output_type": "stream",
          "name": "stderr",
          "text": [
            "1it [00:00,  1.95it/s]\n"
          ]
        },
        {
          "output_type": "stream",
          "name": "stdout",
          "text": [
            "epoch: 918, loss: 0.002061\n"
          ]
        },
        {
          "output_type": "stream",
          "name": "stderr",
          "text": [
            "1it [00:00,  2.00it/s]\n"
          ]
        },
        {
          "output_type": "stream",
          "name": "stdout",
          "text": [
            "epoch: 919, loss: 0.00278\n"
          ]
        },
        {
          "output_type": "stream",
          "name": "stderr",
          "text": [
            "1it [00:00,  1.94it/s]\n"
          ]
        },
        {
          "output_type": "stream",
          "name": "stdout",
          "text": [
            "epoch: 920, loss: 0.001788\n"
          ]
        },
        {
          "output_type": "stream",
          "name": "stderr",
          "text": [
            "1it [00:00,  1.95it/s]\n"
          ]
        },
        {
          "output_type": "stream",
          "name": "stdout",
          "text": [
            "epoch: 921, loss: 0.002411\n"
          ]
        },
        {
          "output_type": "stream",
          "name": "stderr",
          "text": [
            "1it [00:00,  1.95it/s]\n"
          ]
        },
        {
          "output_type": "stream",
          "name": "stdout",
          "text": [
            "epoch: 922, loss: 0.001488\n"
          ]
        },
        {
          "output_type": "stream",
          "name": "stderr",
          "text": [
            "1it [00:00,  1.98it/s]\n"
          ]
        },
        {
          "output_type": "stream",
          "name": "stdout",
          "text": [
            "epoch: 923, loss: 0.00281\n"
          ]
        },
        {
          "output_type": "stream",
          "name": "stderr",
          "text": [
            "1it [00:00,  1.99it/s]\n"
          ]
        },
        {
          "output_type": "stream",
          "name": "stdout",
          "text": [
            "epoch: 924, loss: 0.002996\n"
          ]
        },
        {
          "output_type": "stream",
          "name": "stderr",
          "text": [
            "1it [00:00,  1.99it/s]\n"
          ]
        },
        {
          "output_type": "stream",
          "name": "stdout",
          "text": [
            "epoch: 925, loss: 0.001501\n"
          ]
        },
        {
          "output_type": "stream",
          "name": "stderr",
          "text": [
            "1it [00:00,  1.94it/s]\n"
          ]
        },
        {
          "output_type": "stream",
          "name": "stdout",
          "text": [
            "epoch: 926, loss: 0.001606\n"
          ]
        },
        {
          "output_type": "stream",
          "name": "stderr",
          "text": [
            "1it [00:00,  1.99it/s]\n"
          ]
        },
        {
          "output_type": "stream",
          "name": "stdout",
          "text": [
            "epoch: 927, loss: 0.001753\n"
          ]
        },
        {
          "output_type": "stream",
          "name": "stderr",
          "text": [
            "1it [00:00,  1.92it/s]\n"
          ]
        },
        {
          "output_type": "stream",
          "name": "stdout",
          "text": [
            "epoch: 928, loss: 0.001943\n"
          ]
        },
        {
          "output_type": "stream",
          "name": "stderr",
          "text": [
            "1it [00:00,  1.93it/s]\n"
          ]
        },
        {
          "output_type": "stream",
          "name": "stdout",
          "text": [
            "epoch: 929, loss: 0.003031\n"
          ]
        },
        {
          "output_type": "stream",
          "name": "stderr",
          "text": [
            "1it [00:00,  1.96it/s]\n"
          ]
        },
        {
          "output_type": "stream",
          "name": "stdout",
          "text": [
            "epoch: 930, loss: 0.001689\n"
          ]
        },
        {
          "output_type": "stream",
          "name": "stderr",
          "text": [
            "1it [00:00,  1.91it/s]\n"
          ]
        },
        {
          "output_type": "stream",
          "name": "stdout",
          "text": [
            "epoch: 931, loss: 0.002058\n"
          ]
        },
        {
          "output_type": "stream",
          "name": "stderr",
          "text": [
            "1it [00:00,  1.93it/s]\n"
          ]
        },
        {
          "output_type": "stream",
          "name": "stdout",
          "text": [
            "epoch: 932, loss: 0.001519\n"
          ]
        },
        {
          "output_type": "stream",
          "name": "stderr",
          "text": [
            "1it [00:00,  1.97it/s]\n"
          ]
        },
        {
          "output_type": "stream",
          "name": "stdout",
          "text": [
            "epoch: 933, loss: 0.001755\n"
          ]
        },
        {
          "output_type": "stream",
          "name": "stderr",
          "text": [
            "1it [00:00,  1.94it/s]\n"
          ]
        },
        {
          "output_type": "stream",
          "name": "stdout",
          "text": [
            "epoch: 934, loss: 0.001264\n"
          ]
        },
        {
          "output_type": "stream",
          "name": "stderr",
          "text": [
            "1it [00:00,  1.97it/s]\n"
          ]
        },
        {
          "output_type": "stream",
          "name": "stdout",
          "text": [
            "epoch: 935, loss: 0.001864\n"
          ]
        },
        {
          "output_type": "stream",
          "name": "stderr",
          "text": [
            "1it [00:00,  1.95it/s]\n"
          ]
        },
        {
          "output_type": "stream",
          "name": "stdout",
          "text": [
            "epoch: 936, loss: 0.002026\n"
          ]
        },
        {
          "output_type": "stream",
          "name": "stderr",
          "text": [
            "1it [00:00,  1.98it/s]\n"
          ]
        },
        {
          "output_type": "stream",
          "name": "stdout",
          "text": [
            "epoch: 937, loss: 0.002162\n"
          ]
        },
        {
          "output_type": "stream",
          "name": "stderr",
          "text": [
            "1it [00:00,  1.94it/s]\n"
          ]
        },
        {
          "output_type": "stream",
          "name": "stdout",
          "text": [
            "epoch: 938, loss: 0.001516\n"
          ]
        },
        {
          "output_type": "stream",
          "name": "stderr",
          "text": [
            "1it [00:00,  1.99it/s]\n"
          ]
        },
        {
          "output_type": "stream",
          "name": "stdout",
          "text": [
            "epoch: 939, loss: 0.001765\n"
          ]
        },
        {
          "output_type": "stream",
          "name": "stderr",
          "text": [
            "1it [00:00,  1.94it/s]\n"
          ]
        },
        {
          "output_type": "stream",
          "name": "stdout",
          "text": [
            "epoch: 940, loss: 0.002024\n"
          ]
        },
        {
          "output_type": "stream",
          "name": "stderr",
          "text": [
            "1it [00:00,  2.01it/s]\n"
          ]
        },
        {
          "output_type": "stream",
          "name": "stdout",
          "text": [
            "epoch: 941, loss: 0.0009529\n"
          ]
        },
        {
          "output_type": "stream",
          "name": "stderr",
          "text": [
            "1it [00:00,  1.94it/s]\n"
          ]
        },
        {
          "output_type": "stream",
          "name": "stdout",
          "text": [
            "epoch: 942, loss: 0.002327\n"
          ]
        },
        {
          "output_type": "stream",
          "name": "stderr",
          "text": [
            "1it [00:00,  1.97it/s]\n"
          ]
        },
        {
          "output_type": "stream",
          "name": "stdout",
          "text": [
            "epoch: 943, loss: 0.001447\n"
          ]
        },
        {
          "output_type": "stream",
          "name": "stderr",
          "text": [
            "1it [00:00,  1.97it/s]\n"
          ]
        },
        {
          "output_type": "stream",
          "name": "stdout",
          "text": [
            "epoch: 944, loss: 0.001767\n"
          ]
        },
        {
          "output_type": "stream",
          "name": "stderr",
          "text": [
            "1it [00:00,  1.93it/s]\n"
          ]
        },
        {
          "output_type": "stream",
          "name": "stdout",
          "text": [
            "epoch: 945, loss: 0.002076\n"
          ]
        },
        {
          "output_type": "stream",
          "name": "stderr",
          "text": [
            "1it [00:00,  1.84it/s]\n"
          ]
        },
        {
          "output_type": "stream",
          "name": "stdout",
          "text": [
            "epoch: 946, loss: 0.002852\n"
          ]
        },
        {
          "output_type": "stream",
          "name": "stderr",
          "text": [
            "1it [00:00,  1.95it/s]\n"
          ]
        },
        {
          "output_type": "stream",
          "name": "stdout",
          "text": [
            "epoch: 947, loss: 0.002747\n"
          ]
        },
        {
          "output_type": "stream",
          "name": "stderr",
          "text": [
            "1it [00:00,  1.96it/s]\n"
          ]
        },
        {
          "output_type": "stream",
          "name": "stdout",
          "text": [
            "epoch: 948, loss: 0.001624\n"
          ]
        },
        {
          "output_type": "stream",
          "name": "stderr",
          "text": [
            "1it [00:00,  1.97it/s]\n"
          ]
        },
        {
          "output_type": "stream",
          "name": "stdout",
          "text": [
            "epoch: 949, loss: 0.00155\n"
          ]
        },
        {
          "output_type": "stream",
          "name": "stderr",
          "text": [
            "1it [00:00,  2.00it/s]\n"
          ]
        },
        {
          "output_type": "stream",
          "name": "stdout",
          "text": [
            "epoch: 950, loss: 0.001874\n"
          ]
        },
        {
          "output_type": "stream",
          "name": "stderr",
          "text": [
            "1it [00:00,  1.94it/s]\n"
          ]
        },
        {
          "output_type": "stream",
          "name": "stdout",
          "text": [
            "epoch: 951, loss: 0.00305\n"
          ]
        },
        {
          "output_type": "stream",
          "name": "stderr",
          "text": [
            "1it [00:00,  1.98it/s]\n"
          ]
        },
        {
          "output_type": "stream",
          "name": "stdout",
          "text": [
            "epoch: 952, loss: 0.001171\n"
          ]
        },
        {
          "output_type": "stream",
          "name": "stderr",
          "text": [
            "1it [00:00,  1.98it/s]\n"
          ]
        },
        {
          "output_type": "stream",
          "name": "stdout",
          "text": [
            "epoch: 953, loss: 0.003335\n"
          ]
        },
        {
          "output_type": "stream",
          "name": "stderr",
          "text": [
            "1it [00:00,  1.89it/s]\n"
          ]
        },
        {
          "output_type": "stream",
          "name": "stdout",
          "text": [
            "epoch: 954, loss: 0.001601\n"
          ]
        },
        {
          "output_type": "stream",
          "name": "stderr",
          "text": [
            "1it [00:00,  1.95it/s]\n"
          ]
        },
        {
          "output_type": "stream",
          "name": "stdout",
          "text": [
            "epoch: 955, loss: 0.001826\n"
          ]
        },
        {
          "output_type": "stream",
          "name": "stderr",
          "text": [
            "1it [00:00,  1.98it/s]\n"
          ]
        },
        {
          "output_type": "stream",
          "name": "stdout",
          "text": [
            "epoch: 956, loss: 0.003713\n"
          ]
        },
        {
          "output_type": "stream",
          "name": "stderr",
          "text": [
            "1it [00:00,  2.00it/s]\n"
          ]
        },
        {
          "output_type": "stream",
          "name": "stdout",
          "text": [
            "epoch: 957, loss: 0.001307\n"
          ]
        },
        {
          "output_type": "stream",
          "name": "stderr",
          "text": [
            "1it [00:00,  1.96it/s]\n"
          ]
        },
        {
          "output_type": "stream",
          "name": "stdout",
          "text": [
            "epoch: 958, loss: 0.001625\n"
          ]
        },
        {
          "output_type": "stream",
          "name": "stderr",
          "text": [
            "1it [00:00,  1.98it/s]\n"
          ]
        },
        {
          "output_type": "stream",
          "name": "stdout",
          "text": [
            "epoch: 959, loss: 0.001445\n"
          ]
        },
        {
          "output_type": "stream",
          "name": "stderr",
          "text": [
            "1it [00:00,  1.99it/s]\n"
          ]
        },
        {
          "output_type": "stream",
          "name": "stdout",
          "text": [
            "epoch: 960, loss: 0.002603\n"
          ]
        },
        {
          "output_type": "stream",
          "name": "stderr",
          "text": [
            "1it [00:00,  1.96it/s]\n"
          ]
        },
        {
          "output_type": "stream",
          "name": "stdout",
          "text": [
            "epoch: 961, loss: 0.001614\n"
          ]
        },
        {
          "output_type": "stream",
          "name": "stderr",
          "text": [
            "1it [00:00,  2.00it/s]\n"
          ]
        },
        {
          "output_type": "stream",
          "name": "stdout",
          "text": [
            "epoch: 962, loss: 0.001403\n"
          ]
        },
        {
          "output_type": "stream",
          "name": "stderr",
          "text": [
            "1it [00:00,  1.98it/s]\n"
          ]
        },
        {
          "output_type": "stream",
          "name": "stdout",
          "text": [
            "epoch: 963, loss: 0.0017\n"
          ]
        },
        {
          "output_type": "stream",
          "name": "stderr",
          "text": [
            "1it [00:00,  1.99it/s]\n"
          ]
        },
        {
          "output_type": "stream",
          "name": "stdout",
          "text": [
            "epoch: 964, loss: 0.00221\n"
          ]
        },
        {
          "output_type": "stream",
          "name": "stderr",
          "text": [
            "1it [00:00,  1.96it/s]\n"
          ]
        },
        {
          "output_type": "stream",
          "name": "stdout",
          "text": [
            "epoch: 965, loss: 0.002458\n"
          ]
        },
        {
          "output_type": "stream",
          "name": "stderr",
          "text": [
            "1it [00:00,  1.97it/s]\n"
          ]
        },
        {
          "output_type": "stream",
          "name": "stdout",
          "text": [
            "epoch: 966, loss: 0.0036\n"
          ]
        },
        {
          "output_type": "stream",
          "name": "stderr",
          "text": [
            "1it [00:00,  1.98it/s]\n"
          ]
        },
        {
          "output_type": "stream",
          "name": "stdout",
          "text": [
            "epoch: 967, loss: 0.002072\n"
          ]
        },
        {
          "output_type": "stream",
          "name": "stderr",
          "text": [
            "1it [00:00,  2.00it/s]\n"
          ]
        },
        {
          "output_type": "stream",
          "name": "stdout",
          "text": [
            "epoch: 968, loss: 0.002262\n"
          ]
        },
        {
          "output_type": "stream",
          "name": "stderr",
          "text": [
            "1it [00:00,  1.92it/s]\n"
          ]
        },
        {
          "output_type": "stream",
          "name": "stdout",
          "text": [
            "epoch: 969, loss: 0.002261\n"
          ]
        },
        {
          "output_type": "stream",
          "name": "stderr",
          "text": [
            "1it [00:00,  2.00it/s]\n"
          ]
        },
        {
          "output_type": "stream",
          "name": "stdout",
          "text": [
            "epoch: 970, loss: 0.002057\n"
          ]
        },
        {
          "output_type": "stream",
          "name": "stderr",
          "text": [
            "1it [00:00,  2.00it/s]\n"
          ]
        },
        {
          "output_type": "stream",
          "name": "stdout",
          "text": [
            "epoch: 971, loss: 0.001825\n"
          ]
        },
        {
          "output_type": "stream",
          "name": "stderr",
          "text": [
            "1it [00:00,  1.95it/s]\n"
          ]
        },
        {
          "output_type": "stream",
          "name": "stdout",
          "text": [
            "epoch: 972, loss: 0.001553\n"
          ]
        },
        {
          "output_type": "stream",
          "name": "stderr",
          "text": [
            "1it [00:00,  1.92it/s]\n"
          ]
        },
        {
          "output_type": "stream",
          "name": "stdout",
          "text": [
            "epoch: 973, loss: 0.001803\n"
          ]
        },
        {
          "output_type": "stream",
          "name": "stderr",
          "text": [
            "1it [00:00,  1.98it/s]\n"
          ]
        },
        {
          "output_type": "stream",
          "name": "stdout",
          "text": [
            "epoch: 974, loss: 0.001776\n"
          ]
        },
        {
          "output_type": "stream",
          "name": "stderr",
          "text": [
            "1it [00:00,  1.97it/s]\n"
          ]
        },
        {
          "output_type": "stream",
          "name": "stdout",
          "text": [
            "epoch: 975, loss: 0.001864\n"
          ]
        },
        {
          "output_type": "stream",
          "name": "stderr",
          "text": [
            "1it [00:00,  1.95it/s]\n"
          ]
        },
        {
          "output_type": "stream",
          "name": "stdout",
          "text": [
            "epoch: 976, loss: 0.002059\n"
          ]
        },
        {
          "output_type": "stream",
          "name": "stderr",
          "text": [
            "1it [00:00,  1.70it/s]\n"
          ]
        },
        {
          "output_type": "stream",
          "name": "stdout",
          "text": [
            "epoch: 977, loss: 0.001577\n"
          ]
        },
        {
          "output_type": "stream",
          "name": "stderr",
          "text": [
            "1it [00:00,  1.93it/s]\n"
          ]
        },
        {
          "output_type": "stream",
          "name": "stdout",
          "text": [
            "epoch: 978, loss: 0.001738\n"
          ]
        },
        {
          "output_type": "stream",
          "name": "stderr",
          "text": [
            "1it [00:00,  1.89it/s]\n"
          ]
        },
        {
          "output_type": "stream",
          "name": "stdout",
          "text": [
            "epoch: 979, loss: 0.002228\n"
          ]
        },
        {
          "output_type": "stream",
          "name": "stderr",
          "text": [
            "1it [00:00,  1.92it/s]\n"
          ]
        },
        {
          "output_type": "stream",
          "name": "stdout",
          "text": [
            "epoch: 980, loss: 0.001497\n"
          ]
        },
        {
          "output_type": "stream",
          "name": "stderr",
          "text": [
            "1it [00:00,  1.99it/s]\n"
          ]
        },
        {
          "output_type": "stream",
          "name": "stdout",
          "text": [
            "epoch: 981, loss: 0.001619\n"
          ]
        },
        {
          "output_type": "stream",
          "name": "stderr",
          "text": [
            "1it [00:00,  1.98it/s]\n"
          ]
        },
        {
          "output_type": "stream",
          "name": "stdout",
          "text": [
            "epoch: 982, loss: 0.003316\n"
          ]
        },
        {
          "output_type": "stream",
          "name": "stderr",
          "text": [
            "1it [00:00,  1.99it/s]\n"
          ]
        },
        {
          "output_type": "stream",
          "name": "stdout",
          "text": [
            "epoch: 983, loss: 0.00131\n"
          ]
        },
        {
          "output_type": "stream",
          "name": "stderr",
          "text": [
            "1it [00:00,  1.96it/s]\n"
          ]
        },
        {
          "output_type": "stream",
          "name": "stdout",
          "text": [
            "epoch: 984, loss: 0.002072\n"
          ]
        },
        {
          "output_type": "stream",
          "name": "stderr",
          "text": [
            "1it [00:00,  2.01it/s]\n"
          ]
        },
        {
          "output_type": "stream",
          "name": "stdout",
          "text": [
            "epoch: 985, loss: 0.00127\n"
          ]
        },
        {
          "output_type": "stream",
          "name": "stderr",
          "text": [
            "1it [00:00,  1.97it/s]\n"
          ]
        },
        {
          "output_type": "stream",
          "name": "stdout",
          "text": [
            "epoch: 986, loss: 0.001948\n"
          ]
        },
        {
          "output_type": "stream",
          "name": "stderr",
          "text": [
            "1it [00:00,  1.97it/s]\n"
          ]
        },
        {
          "output_type": "stream",
          "name": "stdout",
          "text": [
            "epoch: 987, loss: 0.002431\n"
          ]
        },
        {
          "output_type": "stream",
          "name": "stderr",
          "text": [
            "1it [00:00,  1.99it/s]\n"
          ]
        },
        {
          "output_type": "stream",
          "name": "stdout",
          "text": [
            "epoch: 988, loss: 0.003768\n"
          ]
        },
        {
          "output_type": "stream",
          "name": "stderr",
          "text": [
            "1it [00:00,  1.94it/s]\n"
          ]
        },
        {
          "output_type": "stream",
          "name": "stdout",
          "text": [
            "epoch: 989, loss: 0.002456\n"
          ]
        },
        {
          "output_type": "stream",
          "name": "stderr",
          "text": [
            "1it [00:00,  1.93it/s]\n"
          ]
        },
        {
          "output_type": "stream",
          "name": "stdout",
          "text": [
            "epoch: 990, loss: 0.001739\n"
          ]
        },
        {
          "output_type": "stream",
          "name": "stderr",
          "text": [
            "1it [00:00,  1.98it/s]\n"
          ]
        },
        {
          "output_type": "stream",
          "name": "stdout",
          "text": [
            "epoch: 991, loss: 0.003109\n"
          ]
        },
        {
          "output_type": "stream",
          "name": "stderr",
          "text": [
            "1it [00:00,  1.97it/s]\n"
          ]
        },
        {
          "output_type": "stream",
          "name": "stdout",
          "text": [
            "epoch: 992, loss: 0.002478\n"
          ]
        },
        {
          "output_type": "stream",
          "name": "stderr",
          "text": [
            "1it [00:00,  1.98it/s]\n"
          ]
        },
        {
          "output_type": "stream",
          "name": "stdout",
          "text": [
            "epoch: 993, loss: 0.001275\n"
          ]
        },
        {
          "output_type": "stream",
          "name": "stderr",
          "text": [
            "1it [00:00,  1.90it/s]\n"
          ]
        },
        {
          "output_type": "stream",
          "name": "stdout",
          "text": [
            "epoch: 994, loss: 0.002059\n"
          ]
        },
        {
          "output_type": "stream",
          "name": "stderr",
          "text": [
            "1it [00:00,  1.99it/s]\n"
          ]
        },
        {
          "output_type": "stream",
          "name": "stdout",
          "text": [
            "epoch: 995, loss: 0.002394\n"
          ]
        },
        {
          "output_type": "stream",
          "name": "stderr",
          "text": [
            "1it [00:00,  1.98it/s]\n"
          ]
        },
        {
          "output_type": "stream",
          "name": "stdout",
          "text": [
            "epoch: 996, loss: 0.001569\n"
          ]
        },
        {
          "output_type": "stream",
          "name": "stderr",
          "text": [
            "1it [00:00,  1.94it/s]\n"
          ]
        },
        {
          "output_type": "stream",
          "name": "stdout",
          "text": [
            "epoch: 997, loss: 0.004718\n"
          ]
        },
        {
          "output_type": "stream",
          "name": "stderr",
          "text": [
            "1it [00:00,  1.93it/s]\n"
          ]
        },
        {
          "output_type": "stream",
          "name": "stdout",
          "text": [
            "epoch: 998, loss: 0.002829\n"
          ]
        },
        {
          "output_type": "stream",
          "name": "stderr",
          "text": [
            "1it [00:00,  1.88it/s]"
          ]
        },
        {
          "output_type": "stream",
          "name": "stdout",
          "text": [
            "epoch: 999, loss: 0.001538\n"
          ]
        },
        {
          "output_type": "stream",
          "name": "stderr",
          "text": [
            "\n"
          ]
        }
      ],
      "source": [
        "n_epochs = 1000\n",
        "\n",
        "from tqdm import tqdm\n",
        "for epoch in range(n_epochs):\n",
        "    losses = []\n",
        "    for i, data in tqdm(enumerate(train_loader)):\n",
        "        optimizer.zero_grad()\n",
        "\n",
        "        x1 = data['gt_image'].to(device)\n",
        "        mask = data['mask'].to(device)\n",
        "\n",
        "        x0 = torch.randn_like(x1).to(device)\n",
        "        x_noise = (1.0-mask)*x1 + mask*x0\n",
        "\n",
        "        t = torch.rand(x0.shape[0], 1, 1, 1).to(device)\n",
        "\n",
        "        xt = t * x1 + (1 - t) * x_noise\n",
        "        ut = x1 - x_noise\n",
        "\n",
        "        t = t.squeeze()\n",
        "\n",
        "        x_cond = xt*mask + (1.0-mask)*x1\n",
        "\n",
        "        vt = model(t, x_cond)\n",
        "\n",
        "        loss = torch.mean(((vt - ut) ** 2)*mask)\n",
        "\n",
        "        loss.backward()\n",
        "        optimizer.step()\n",
        "        losses.append(loss.item())\n",
        "\n",
        "    avg_loss = sum(losses) / len(losses)\n",
        "    print(f\"epoch: {epoch}, loss: {avg_loss:.4}\")"
      ]
    },
    {
      "cell_type": "code",
      "execution_count": 19,
      "metadata": {
        "id": "CwZYcsonBB3T"
      },
      "outputs": [],
      "source": [
        "model.eval()\n",
        "def euler_method(model, cond_image, t_steps, dt, mask):\n",
        "    y = cond_image\n",
        "    y_values = [y]\n",
        "    with torch.no_grad():\n",
        "        for t in t_steps[1:]:\n",
        "            t = t.reshape(-1, )\n",
        "            dy = model(t.to(device), y)\n",
        "            y = y + dy * dt\n",
        "            y = cond_image*(1. - mask) + mask*y\n",
        "            y_values.append(y)\n",
        "    return torch.stack(y_values)\n",
        "\n",
        "# Initial random image and class (optional)\n",
        "sample = next(iter(train_loader))\n",
        "gt_image = sample['gt_image'].to(device)\n",
        "noise = torch.randn_like(gt_image, device=device)\n",
        "mask = sample['mask'].to(device)\n",
        "cond_image = gt_image*(1. - mask) + mask*noise\n",
        "\n",
        "# Time parameters\n",
        "t_steps = torch.linspace(0, 1, 50, device=device)  # Two time steps from 0 to 1\n",
        "dt = t_steps[1] - t_steps[0]  # Time step\n",
        "\n",
        "# Solve the ODE using Euler method\n",
        "traj = euler_method(model, cond_image, t_steps, dt, mask)"
      ]
    },
    {
      "cell_type": "code",
      "execution_count": 20,
      "metadata": {
        "id": "TYspbdEIBB3T",
        "outputId": "be847ea5-08a2-4682-e073-d02df094e4fd",
        "colab": {
          "base_uri": "https://localhost:8080/",
          "height": 165
        }
      },
      "outputs": [
        {
          "output_type": "display_data",
          "data": {
            "text/plain": [
              "<Figure size 640x480 with 1 Axes>"
            ],
            "image/png": "[encoded data removed]"
          },
          "metadata": {}
        }
      ],
      "source": [
        "import matplotlib.pyplot as plt\n",
        "from torchvision.transforms import ToPILImage\n",
        "from torchvision.utils import make_grid\n",
        "\n",
        "grid = make_grid(\n",
        "    traj[-1, -5:].view([-1, 3, 256, 256]).clip(-1, 1), value_range=(-1, 1), padding=0, nrow=10\n",
        ")\n",
        "img = ToPILImage()(grid)\n",
        "plt.imshow(img)\n",
        "plt.show()"
      ]
    },
    {
      "cell_type": "code",
      "execution_count": 21,
      "metadata": {
        "id": "OTJAJr-SBB3T"
      },
      "outputs": [],
      "source": [
        "torch.save(model.state_dict(), \"model_best.pth\")"
      ]
    }
  ],
  "metadata": {
    "kernelspec": {
      "display_name": "Python 3",
      "name": "python3"
    },
    "language_info": {
      "codemirror_mode": {
        "name": "ipython",
        "version": 3
      },
      "file_extension": ".py",
      "mimetype": "text/x-python",
      "name": "python",
      "nbconvert_exporter": "python",
      "pygments_lexer": "ipython3",
      "version": "3.10.14"
    },
    "colab": {
      "provenance": [],
      "gpuType": "A100"
    },
    "accelerator": "GPU"
  },
  "nbformat": 4,
  "nbformat_minor": 0
}