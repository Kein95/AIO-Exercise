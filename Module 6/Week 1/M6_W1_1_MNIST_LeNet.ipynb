{
  "nbformat": 4,
  "nbformat_minor": 0,
  "metadata": {
    "colab": {
      "provenance": [],
      "toc_visible": true,
      "gpuType": "T4"
    },
    "kernelspec": {
      "name": "python3",
      "display_name": "Python 3"
    },
    "language_info": {
      "name": "python"
    },
    "accelerator": "GPU"
  },
  "cells": [
    {
      "cell_type": "code",
      "execution_count": 1,
      "metadata": {
        "colab": {
          "base_uri": "https://localhost:8080/"
        },
        "id": "ljrxYgIEhvd5",
        "outputId": "89cea953-c730-40fd-89c7-177e8c341446"
      },
      "outputs": [
        {
          "output_type": "stream",
          "name": "stdout",
          "text": [
            "Downloading http://yann.lecun.com/exdb/mnist/train-images-idx3-ubyte.gz\n",
            "Failed to download (trying next):\n",
            "HTTP Error 403: Forbidden\n",
            "\n",
            "Downloading https://ossci-datasets.s3.amazonaws.com/mnist/train-images-idx3-ubyte.gz\n",
            "Downloading https://ossci-datasets.s3.amazonaws.com/mnist/train-images-idx3-ubyte.gz to ./data/MNIST/raw/train-images-idx3-ubyte.gz\n"
          ]
        },
        {
          "output_type": "stream",
          "name": "stderr",
          "text": [
            "100%|██████████| 9.91M/9.91M [00:00<00:00, 16.4MB/s]\n"
          ]
        },
        {
          "output_type": "stream",
          "name": "stdout",
          "text": [
            "Extracting ./data/MNIST/raw/train-images-idx3-ubyte.gz to ./data/MNIST/raw\n",
            "\n",
            "Downloading http://yann.lecun.com/exdb/mnist/train-labels-idx1-ubyte.gz\n",
            "Failed to download (trying next):\n",
            "HTTP Error 403: Forbidden\n",
            "\n",
            "Downloading https://ossci-datasets.s3.amazonaws.com/mnist/train-labels-idx1-ubyte.gz\n",
            "Downloading https://ossci-datasets.s3.amazonaws.com/mnist/train-labels-idx1-ubyte.gz to ./data/MNIST/raw/train-labels-idx1-ubyte.gz\n"
          ]
        },
        {
          "output_type": "stream",
          "name": "stderr",
          "text": [
            "100%|██████████| 28.9k/28.9k [00:00<00:00, 498kB/s]\n"
          ]
        },
        {
          "output_type": "stream",
          "name": "stdout",
          "text": [
            "Extracting ./data/MNIST/raw/train-labels-idx1-ubyte.gz to ./data/MNIST/raw\n",
            "\n",
            "Downloading http://yann.lecun.com/exdb/mnist/t10k-images-idx3-ubyte.gz\n",
            "Failed to download (trying next):\n",
            "HTTP Error 403: Forbidden\n",
            "\n",
            "Downloading https://ossci-datasets.s3.amazonaws.com/mnist/t10k-images-idx3-ubyte.gz\n",
            "Downloading https://ossci-datasets.s3.amazonaws.com/mnist/t10k-images-idx3-ubyte.gz to ./data/MNIST/raw/t10k-images-idx3-ubyte.gz\n"
          ]
        },
        {
          "output_type": "stream",
          "name": "stderr",
          "text": [
            "100%|██████████| 1.65M/1.65M [00:00<00:00, 4.56MB/s]\n"
          ]
        },
        {
          "output_type": "stream",
          "name": "stdout",
          "text": [
            "Extracting ./data/MNIST/raw/t10k-images-idx3-ubyte.gz to ./data/MNIST/raw\n",
            "\n",
            "Downloading http://yann.lecun.com/exdb/mnist/t10k-labels-idx1-ubyte.gz\n",
            "Failed to download (trying next):\n",
            "HTTP Error 403: Forbidden\n",
            "\n",
            "Downloading https://ossci-datasets.s3.amazonaws.com/mnist/t10k-labels-idx1-ubyte.gz\n",
            "Downloading https://ossci-datasets.s3.amazonaws.com/mnist/t10k-labels-idx1-ubyte.gz to ./data/MNIST/raw/t10k-labels-idx1-ubyte.gz\n"
          ]
        },
        {
          "output_type": "stream",
          "name": "stderr",
          "text": [
            "100%|██████████| 4.54k/4.54k [00:00<00:00, 4.04MB/s]"
          ]
        },
        {
          "output_type": "stream",
          "name": "stdout",
          "text": [
            "Extracting ./data/MNIST/raw/t10k-labels-idx1-ubyte.gz to ./data/MNIST/raw\n",
            "\n"
          ]
        },
        {
          "output_type": "stream",
          "name": "stderr",
          "text": [
            "\n"
          ]
        }
      ],
      "source": [
        "# Import necessary libraries\n",
        "import os\n",
        "import random\n",
        "import numpy as np\n",
        "import torch\n",
        "import torch.nn as nn\n",
        "import torch.optim as optim\n",
        "import torch.nn.functional as F\n",
        "import torch.utils.data as data\n",
        "import torchvision.transforms as transforms\n",
        "import torchvision.datasets as datasets\n",
        "from torchsummary import summary\n",
        "import matplotlib.pyplot as plt\n",
        "from PIL import Image\n",
        "\n",
        "# PART 1: DATA LOADING AND PREPROCESSING\n",
        "# Define constants\n",
        "ROOT = './data'\n",
        "VALID_RATIO = 0.9\n",
        "BATCH_SIZE = 256\n",
        "\n",
        "# Load the MNIST dataset\n",
        "train_data = datasets.MNIST(\n",
        "    root=ROOT,\n",
        "    train=True,\n",
        "    download=True\n",
        ")\n",
        "test_data = datasets.MNIST(\n",
        "    root=ROOT,\n",
        "    train=False,\n",
        "    download=True\n",
        ")"
      ]
    },
    {
      "cell_type": "code",
      "source": [
        "# Split training: validation = 0.9 : 0.1\n",
        "VALID_RATIO = 0.9\n",
        "\n",
        "n_train_examples = int(len(train_data) * VALID_RATIO)\n",
        "n_valid_examples = len(train_data) - n_train_examples\n",
        "\n",
        "train_data, valid_data = data.random_split(\n",
        "    train_data,\n",
        "    [n_train_examples, n_valid_examples]\n",
        ")\n",
        "\n",
        "# Compute mean and std for normalization\n",
        "mean = train_data.dataset.data.float().mean() / 255\n",
        "std = train_data.dataset.data.float().std() / 255\n",
        "\n",
        "train_transforms = transforms.Compose([\n",
        "    transforms.ToTensor(),\n",
        "    transforms.Normalize(mean=[mean], std=[std])\n",
        "])\n",
        "\n",
        "test_transforms = transforms.Compose([\n",
        "    transforms.ToTensor(),\n",
        "    transforms.Normalize(mean=[mean], std=[std])\n",
        "])\n",
        "\n",
        "# Apply transformations\n",
        "train_data.dataset.transform = train_transforms\n",
        "valid_data.dataset.transform = test_transforms\n",
        "\n",
        "# Create dataloaders\n",
        "BATCH_SIZE = 256\n",
        "\n",
        "train_dataloader = data.DataLoader(\n",
        "    train_data,\n",
        "    shuffle=True,\n",
        "    batch_size=BATCH_SIZE\n",
        ")\n",
        "\n",
        "valid_dataloader = data.DataLoader(\n",
        "    valid_data,\n",
        "    batch_size=BATCH_SIZE\n",
        ")\n"
      ],
      "metadata": {
        "id": "uvVrKn63iXSH"
      },
      "execution_count": 2,
      "outputs": []
    },
    {
      "cell_type": "code",
      "source": [
        "class LeNetClassifier(nn.Module):\n",
        "    def __init__(self, num_classes):\n",
        "        super().__init__()\n",
        "        self.conv1 = nn.Conv2d(\n",
        "            in_channels=1, out_channels=6, kernel_size=5, padding='same'\n",
        "        )\n",
        "        self.avgpool1 = nn.AvgPool2d(kernel_size=2)\n",
        "        self.conv2 = nn.Conv2d(\n",
        "            in_channels=6, out_channels=16, kernel_size=5\n",
        "        )\n",
        "        self.avgpool2 = nn.AvgPool2d(kernel_size=2)\n",
        "        self.flatten = nn.Flatten()\n",
        "        self.fc_1 = nn.Linear(16 * 5 * 5, 120)\n",
        "        self.fc_2 = nn.Linear(120, 84)\n",
        "        self.fc_3 = nn.Linear(84, num_classes)\n",
        "\n",
        "    def forward(self, inputs):\n",
        "        outputs = self.conv1(inputs)\n",
        "        outputs = self.avgpool1(outputs)\n",
        "        outputs = F.relu(outputs)\n",
        "        outputs = self.conv2(outputs)\n",
        "        outputs = self.avgpool2(outputs)\n",
        "        outputs = F.relu(outputs)\n",
        "        outputs = self.flatten(outputs)\n",
        "        outputs = self.fc_1(outputs)\n",
        "        outputs = self.fc_2(outputs)\n",
        "        outputs = self.fc_3(outputs)\n",
        "        return outputs\n"
      ],
      "metadata": {
        "id": "G7pgHZQeixn8"
      },
      "execution_count": 3,
      "outputs": []
    },
    {
      "cell_type": "code",
      "source": [
        "# Training function\n",
        "def train(model, optimizer, criterion, train_dataloader, device, epoch=0, log_interval=50):\n",
        "    model.train()\n",
        "    total_acc, total_count = 0, 0\n",
        "    losses = []\n",
        "    start_time = time.time()\n",
        "\n",
        "    for idx, (inputs, labels) in enumerate(train_dataloader):\n",
        "        inputs = inputs.to(device)\n",
        "        labels = labels.to(device)\n",
        "\n",
        "        optimizer.zero_grad()\n",
        "\n",
        "        # Forward pass\n",
        "        predictions = model(inputs)\n",
        "\n",
        "        # Compute loss\n",
        "        loss = criterion(predictions, labels)\n",
        "        losses.append(loss.item())\n",
        "\n",
        "        # Backward pass\n",
        "        loss.backward()\n",
        "        torch.nn.utils.clip_grad_norm_(model.parameters(), 0.1)\n",
        "        optimizer.step()\n",
        "\n",
        "        total_acc += (predictions.argmax(1) == labels).sum().item()\n",
        "        total_count += labels.size(0)\n",
        "\n",
        "        if idx % log_interval == 0 and idx > 0:\n",
        "            elapsed = time.time() - start_time\n",
        "            print(\n",
        "                f\"| epoch {epoch:3d} | {idx:5d}/{len(train_dataloader):5d} batches \"\n",
        "                f\"| accuracy {total_acc / total_count:8.3f}\"\n",
        "            )\n",
        "            total_acc, total_count = 0, 0\n",
        "            start_time = time.time()\n",
        "\n",
        "    epoch_acc = total_acc / total_count\n",
        "    epoch_loss = sum(losses) / len(losses)\n",
        "    return epoch_acc, epoch_loss\n",
        "\n",
        "\n",
        "# Evaluation function\n",
        "def evaluate(model, criterion, valid_dataloader):\n",
        "    model.eval()\n",
        "    total_acc, total_count = 0, 0\n",
        "    losses = []\n",
        "\n",
        "    with torch.no_grad():\n",
        "        for idx, (inputs, labels) in enumerate(valid_dataloader):\n",
        "            inputs = inputs.to(device)\n",
        "            labels = labels.to(device)\n",
        "\n",
        "            # Forward pass\n",
        "            predictions = model(inputs)\n",
        "\n",
        "            # Compute loss\n",
        "            loss = criterion(predictions, labels)\n",
        "            losses.append(loss.item())\n",
        "\n",
        "            total_acc += (predictions.argmax(1) == labels).sum().item()\n",
        "            total_count += labels.size(0)\n",
        "\n",
        "    epoch_acc = total_acc / total_count\n",
        "    epoch_loss = sum(losses) / len(losses)\n",
        "    return epoch_acc, epoch_loss\n"
      ],
      "metadata": {
        "id": "m_U5E7Pzi5vW"
      },
      "execution_count": 4,
      "outputs": []
    },
    {
      "cell_type": "code",
      "source": [
        "import time\n",
        "# Create the directory if it does not exist\n",
        "if not os.path.exists(save_model):\n",
        "    os.makedirs(save_model)"
      ],
      "metadata": {
        "id": "4ivz7y7Ajalf"
      },
      "execution_count": 8,
      "outputs": []
    },
    {
      "cell_type": "code",
      "source": [
        "num_classes = len(train_data.dataset.classes)\n",
        "\n",
        "device = torch.device('cuda' if torch.cuda.is_available() else 'cpu')\n",
        "\n",
        "# Initialize the model, criterion, and optimizer\n",
        "lenet_model = LeNetClassifier(num_classes)\n",
        "lenet_model.to(device)\n",
        "\n",
        "criterion = torch.nn.CrossEntropyLoss()\n",
        "optimizer = optim.Adam(lenet_model.parameters())\n",
        "\n",
        "# Training configuration\n",
        "num_epochs = 10\n",
        "save_model = './model'\n",
        "\n",
        "train_accs, train_losses = [], []\n",
        "eval_accs, eval_losses = [], []\n",
        "best_loss_eval = 100\n",
        "\n",
        "# Training loop\n",
        "for epoch in range(1, num_epochs + 1):\n",
        "    epoch_start_time = time.time()\n",
        "\n",
        "    # Training\n",
        "    train_acc, train_loss = train(lenet_model, optimizer, criterion, train_dataloader, device, epoch)\n",
        "    train_accs.append(train_acc)\n",
        "    train_losses.append(train_loss)\n",
        "\n",
        "    # Evaluation\n",
        "    eval_acc, eval_loss = evaluate(lenet_model, criterion, valid_dataloader)\n",
        "    eval_accs.append(eval_acc)\n",
        "    eval_losses.append(eval_loss)\n",
        "\n",
        "    # Save the best model\n",
        "    if eval_loss < best_loss_eval:\n",
        "        torch.save(lenet_model.state_dict(), save_model + '/lenet_model.pt')\n",
        "        best_loss_eval = eval_loss\n",
        "\n",
        "    # Print summary at the end of each epoch\n",
        "    print(\"-\" * 59)\n",
        "    print(\n",
        "        f\"| End of epoch {epoch:3d} | Time: {time.time() - epoch_start_time:5.2f}s | \"\n",
        "        f\"Train Accuracy {train_acc:8.3f} | Train Loss {train_loss:8.3f} \"\n",
        "        f\"| Valid Accuracy {eval_acc:8.3f} | Valid Loss {eval_loss:8.3f} \"\n",
        "    )\n",
        "    print(\"-\" * 59)\n",
        "\n",
        "# Load the best model\n",
        "lenet_model.load_state_dict(torch.load(save_model + '/lenet_model.pt'))\n",
        "lenet_model.eval()\n"
      ],
      "metadata": {
        "colab": {
          "base_uri": "https://localhost:8080/"
        },
        "id": "piDaP-U-jE3b",
        "outputId": "e4e9f297-95c1-498d-f777-75d250305262"
      },
      "execution_count": 9,
      "outputs": [
        {
          "output_type": "stream",
          "name": "stdout",
          "text": [
            "| epoch   1 |    50/  211 batches | accuracy    0.666\n",
            "| epoch   1 |   100/  211 batches | accuracy    0.888\n",
            "| epoch   1 |   150/  211 batches | accuracy    0.909\n",
            "| epoch   1 |   200/  211 batches | accuracy    0.935\n",
            "-----------------------------------------------------------\n",
            "| End of epoch   1 | Time: 13.27s | Train Accuracy    0.937 | Train Loss    0.511 | Valid Accuracy    0.941 | Valid Loss    0.204 \n",
            "-----------------------------------------------------------\n",
            "| epoch   2 |    50/  211 batches | accuracy    0.945\n",
            "| epoch   2 |   100/  211 batches | accuracy    0.955\n",
            "| epoch   2 |   150/  211 batches | accuracy    0.964\n",
            "| epoch   2 |   200/  211 batches | accuracy    0.967\n",
            "-----------------------------------------------------------\n",
            "| End of epoch   2 | Time: 13.28s | Train Accuracy    0.971 | Train Loss    0.136 | Valid Accuracy    0.969 | Valid Loss    0.112 \n",
            "-----------------------------------------------------------\n",
            "| epoch   3 |    50/  211 batches | accuracy    0.969\n",
            "| epoch   3 |   100/  211 batches | accuracy    0.972\n",
            "| epoch   3 |   150/  211 batches | accuracy    0.972\n",
            "| epoch   3 |   200/  211 batches | accuracy    0.974\n",
            "-----------------------------------------------------------\n",
            "| End of epoch   3 | Time: 13.24s | Train Accuracy    0.971 | Train Loss    0.091 | Valid Accuracy    0.976 | Valid Loss    0.084 \n",
            "-----------------------------------------------------------\n",
            "| epoch   4 |    50/  211 batches | accuracy    0.976\n",
            "| epoch   4 |   100/  211 batches | accuracy    0.975\n",
            "| epoch   4 |   150/  211 batches | accuracy    0.977\n",
            "| epoch   4 |   200/  211 batches | accuracy    0.979\n",
            "-----------------------------------------------------------\n",
            "| End of epoch   4 | Time: 13.40s | Train Accuracy    0.976 | Train Loss    0.074 | Valid Accuracy    0.975 | Valid Loss    0.091 \n",
            "-----------------------------------------------------------\n",
            "| epoch   5 |    50/  211 batches | accuracy    0.980\n",
            "| epoch   5 |   100/  211 batches | accuracy    0.978\n",
            "| epoch   5 |   150/  211 batches | accuracy    0.983\n",
            "| epoch   5 |   200/  211 batches | accuracy    0.981\n",
            "-----------------------------------------------------------\n",
            "| End of epoch   5 | Time: 13.34s | Train Accuracy    0.979 | Train Loss    0.064 | Valid Accuracy    0.981 | Valid Loss    0.066 \n",
            "-----------------------------------------------------------\n",
            "| epoch   6 |    50/  211 batches | accuracy    0.981\n",
            "| epoch   6 |   100/  211 batches | accuracy    0.982\n",
            "| epoch   6 |   150/  211 batches | accuracy    0.982\n",
            "| epoch   6 |   200/  211 batches | accuracy    0.982\n",
            "-----------------------------------------------------------\n",
            "| End of epoch   6 | Time: 14.03s | Train Accuracy    0.983 | Train Loss    0.058 | Valid Accuracy    0.983 | Valid Loss    0.070 \n",
            "-----------------------------------------------------------\n",
            "| epoch   7 |    50/  211 batches | accuracy    0.983\n",
            "| epoch   7 |   100/  211 batches | accuracy    0.984\n",
            "| epoch   7 |   150/  211 batches | accuracy    0.985\n",
            "| epoch   7 |   200/  211 batches | accuracy    0.983\n",
            "-----------------------------------------------------------\n",
            "| End of epoch   7 | Time: 13.53s | Train Accuracy    0.987 | Train Loss    0.050 | Valid Accuracy    0.981 | Valid Loss    0.068 \n",
            "-----------------------------------------------------------\n",
            "| epoch   8 |    50/  211 batches | accuracy    0.983\n",
            "| epoch   8 |   100/  211 batches | accuracy    0.987\n",
            "| epoch   8 |   150/  211 batches | accuracy    0.984\n",
            "| epoch   8 |   200/  211 batches | accuracy    0.986\n",
            "-----------------------------------------------------------\n",
            "| End of epoch   8 | Time: 13.33s | Train Accuracy    0.989 | Train Loss    0.048 | Valid Accuracy    0.983 | Valid Loss    0.065 \n",
            "-----------------------------------------------------------\n",
            "| epoch   9 |    50/  211 batches | accuracy    0.986\n",
            "| epoch   9 |   100/  211 batches | accuracy    0.986\n",
            "| epoch   9 |   150/  211 batches | accuracy    0.987\n",
            "| epoch   9 |   200/  211 batches | accuracy    0.985\n",
            "-----------------------------------------------------------\n",
            "| End of epoch   9 | Time: 13.32s | Train Accuracy    0.988 | Train Loss    0.044 | Valid Accuracy    0.985 | Valid Loss    0.057 \n",
            "-----------------------------------------------------------\n",
            "| epoch  10 |    50/  211 batches | accuracy    0.987\n",
            "| epoch  10 |   100/  211 batches | accuracy    0.985\n",
            "| epoch  10 |   150/  211 batches | accuracy    0.987\n",
            "| epoch  10 |   200/  211 batches | accuracy    0.988\n",
            "-----------------------------------------------------------\n",
            "| End of epoch  10 | Time: 13.18s | Train Accuracy    0.989 | Train Loss    0.041 | Valid Accuracy    0.986 | Valid Loss    0.058 \n",
            "-----------------------------------------------------------\n"
          ]
        },
        {
          "output_type": "stream",
          "name": "stderr",
          "text": [
            "<ipython-input-9-8ea3bcf13042>:49: FutureWarning: You are using `torch.load` with `weights_only=False` (the current default value), which uses the default pickle module implicitly. It is possible to construct malicious pickle data which will execute arbitrary code during unpickling (See https://github.com/pytorch/pytorch/blob/main/SECURITY.md#untrusted-models for more details). In a future release, the default value for `weights_only` will be flipped to `True`. This limits the functions that could be executed during unpickling. Arbitrary objects will no longer be allowed to be loaded via this mode unless they are explicitly allowlisted by the user via `torch.serialization.add_safe_globals`. We recommend you start setting `weights_only=True` for any use case where you don't have full control of the loaded file. Please open an issue on GitHub for any issues related to this experimental feature.\n",
            "  lenet_model.load_state_dict(torch.load(save_model + '/lenet_model.pt'))\n"
          ]
        },
        {
          "output_type": "execute_result",
          "data": {
            "text/plain": [
              "LeNetClassifier(\n",
              "  (conv1): Conv2d(1, 6, kernel_size=(5, 5), stride=(1, 1), padding=same)\n",
              "  (avgpool1): AvgPool2d(kernel_size=2, stride=2, padding=0)\n",
              "  (conv2): Conv2d(6, 16, kernel_size=(5, 5), stride=(1, 1))\n",
              "  (avgpool2): AvgPool2d(kernel_size=2, stride=2, padding=0)\n",
              "  (flatten): Flatten(start_dim=1, end_dim=-1)\n",
              "  (fc_1): Linear(in_features=400, out_features=120, bias=True)\n",
              "  (fc_2): Linear(in_features=120, out_features=84, bias=True)\n",
              "  (fc_3): Linear(in_features=84, out_features=10, bias=True)\n",
              ")"
            ]
          },
          "metadata": {},
          "execution_count": 9
        }
      ]
    },
    {
      "cell_type": "code",
      "source": [
        "# Apply test transforms\n",
        "test_data.transform = test_transforms\n",
        "\n",
        "# Create DataLoader for the test data\n",
        "test_dataloader = data.DataLoader(\n",
        "    test_data,\n",
        "    batch_size=BATCH_SIZE\n",
        ")\n",
        "\n",
        "# Evaluate the model on the test data\n",
        "test_acc, test_loss = evaluate(lenet_model, criterion, test_dataloader)\n",
        "\n",
        "# Print the test accuracy and loss\n",
        "print(f\"Test Accuracy: {test_acc:.3f}, Test Loss: {test_loss:.3f}\")\n"
      ],
      "metadata": {
        "colab": {
          "base_uri": "https://localhost:8080/"
        },
        "id": "LemfO1bkkf6R",
        "outputId": "a128b803-54ea-4d56-eca7-722012b273d2"
      },
      "execution_count": 10,
      "outputs": [
        {
          "output_type": "stream",
          "name": "stdout",
          "text": [
            "Test Accuracy: 0.987, Test Loss: 0.041\n"
          ]
        }
      ]
    }
  ]
}