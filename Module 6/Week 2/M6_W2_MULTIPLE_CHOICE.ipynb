{
  "nbformat": 4,
  "nbformat_minor": 0,
  "metadata": {
    "colab": {
      "provenance": [],
      "machine_shape": "hm",
      "gpuType": "L4"
    },
    "kernelspec": {
      "name": "python3",
      "display_name": "Python 3"
    },
    "language_info": {
      "name": "python"
    },
    "accelerator": "GPU"
  },
  "cells": [
    {
      "cell_type": "code",
      "execution_count": 1,
      "metadata": {
        "colab": {
          "base_uri": "https://localhost:8080/"
        },
        "id": "8_6anhHClYne",
        "outputId": "69949732-cfbd-48a0-f537-95c9cf08bd86"
      },
      "outputs": [
        {
          "output_type": "stream",
          "name": "stdout",
          "text": [
            "tensor([[[[-1.3867,  1.3867],\n",
            "          [-0.2773,  0.2773]]]])\n"
          ]
        }
      ],
      "source": [
        "#Q1\n",
        "import torch\n",
        "import torch.nn as nn\n",
        "import numpy as np\n",
        "\n",
        "data = np.array([[[1, 6], [3, 4]]])\n",
        "data = torch.tensor(data, dtype=torch.float32)\n",
        "\n",
        "bnorm = nn.BatchNorm2d(1)\n",
        "data = data.unsqueeze(0)\n",
        "with torch.no_grad():\n",
        "    output = bnorm(data)\n",
        "print(output)\n"
      ]
    },
    {
      "cell_type": "code",
      "source": [
        "#Q2\n",
        "import torch\n",
        "\n",
        "a = torch.tensor([[1, 2], [3, 4]])\n",
        "b = torch.tensor([[1, 2], [3, 4]])\n",
        "\n",
        "a = a.reshape(1, 2, 2)\n",
        "b = b.reshape(1, 2, 2)\n",
        "\n",
        "c = torch.cat((a, b), dim=0)\n",
        "print(c)\n"
      ],
      "metadata": {
        "colab": {
          "base_uri": "https://localhost:8080/"
        },
        "id": "An3X5yeil2hB",
        "outputId": "5e88bcca-2eec-4134-894d-b45836bf62e3"
      },
      "execution_count": 2,
      "outputs": [
        {
          "output_type": "stream",
          "name": "stdout",
          "text": [
            "tensor([[[1, 2],\n",
            "         [3, 4]],\n",
            "\n",
            "        [[1, 2],\n",
            "         [3, 4]]])\n"
          ]
        }
      ]
    },
    {
      "cell_type": "code",
      "source": [
        "#Q4\n",
        "import torch\n",
        "import torch.nn as nn\n",
        "\n",
        "seed = 1\n",
        "torch.manual_seed(seed)\n",
        "\n",
        "input_tensor = torch.tensor([[[[1.0, 2.0], [3.0, 4.0]]]])\n",
        "\n",
        "conv_layer = nn.Conv2d(in_channels=1, out_channels=1, kernel_size=1)\n",
        "conv_output = conv_layer(input_tensor)\n",
        "\n",
        "with torch.no_grad():\n",
        "    output = conv_output + input_tensor\n",
        "print(output)\n"
      ],
      "metadata": {
        "colab": {
          "base_uri": "https://localhost:8080/"
        },
        "id": "7bx6nLq7l-st",
        "outputId": "4299fed4-1318-47d5-e4c6-807e345b7c41"
      },
      "execution_count": 3,
      "outputs": [
        {
          "output_type": "stream",
          "name": "stdout",
          "text": [
            "tensor([[[[1.0739, 2.5891],\n",
            "          [4.1044, 5.6197]]]])\n"
          ]
        }
      ]
    }
  ]
}