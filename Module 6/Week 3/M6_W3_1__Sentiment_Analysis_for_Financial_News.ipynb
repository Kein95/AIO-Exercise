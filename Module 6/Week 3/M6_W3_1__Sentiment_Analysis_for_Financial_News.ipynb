{
  "nbformat": 4,
  "nbformat_minor": 0,
  "metadata": {
    "colab": {
      "provenance": [],
      "machine_shape": "hm",
      "gpuType": "A100"
    },
    "kernelspec": {
      "name": "python3",
      "display_name": "Python 3"
    },
    "language_info": {
      "name": "python"
    },
    "accelerator": "GPU"
  },
  "cells": [
    {
      "cell_type": "code",
      "source": [
        "!pip install unidecode\n"
      ],
      "metadata": {
        "colab": {
          "base_uri": "https://localhost:8080/"
        },
        "id": "HSUNXEOL3bVT",
        "outputId": "c28f5846-18c8-452a-c669-0823fd71449a"
      },
      "execution_count": 2,
      "outputs": [
        {
          "output_type": "stream",
          "name": "stdout",
          "text": [
            "Collecting unidecode\n",
            "  Downloading Unidecode-1.3.8-py3-none-any.whl.metadata (13 kB)\n",
            "Downloading Unidecode-1.3.8-py3-none-any.whl (235 kB)\n",
            "\u001b[?25l   \u001b[90m━━━━━━━━━━━━━━━━━━━━━━━━━━━━━━━━━━━━━━━━\u001b[0m \u001b[32m0.0/235.5 kB\u001b[0m \u001b[31m?\u001b[0m eta \u001b[36m-:--:--\u001b[0m\r\u001b[2K   \u001b[91m━━━━━━━━━━━━━━━━━━━━━━━━━━━\u001b[0m\u001b[91m╸\u001b[0m\u001b[90m━━━━━━━━━━━━\u001b[0m \u001b[32m163.8/235.5 kB\u001b[0m \u001b[31m4.6 MB/s\u001b[0m eta \u001b[36m0:00:01\u001b[0m\r\u001b[2K   \u001b[90m━━━━━━━━━━━━━━━━━━━━━━━━━━━━━━━━━━━━━━━━\u001b[0m \u001b[32m235.5/235.5 kB\u001b[0m \u001b[31m4.7 MB/s\u001b[0m eta \u001b[36m0:00:00\u001b[0m\n",
            "\u001b[?25hInstalling collected packages: unidecode\n",
            "Successfully installed unidecode-1.3.8\n"
          ]
        }
      ]
    },
    {
      "cell_type": "code",
      "source": [
        "import unidecode\n"
      ],
      "metadata": {
        "id": "rG-l_Vj13dHY"
      },
      "execution_count": 3,
      "outputs": []
    },
    {
      "cell_type": "code",
      "execution_count": 4,
      "metadata": {
        "colab": {
          "base_uri": "https://localhost:8080/"
        },
        "id": "sMUlYwnq2hdG",
        "outputId": "b11eb547-cae1-4133-b2dc-8177ef614378"
      },
      "outputs": [
        {
          "output_type": "stream",
          "name": "stderr",
          "text": [
            "[nltk_data] Downloading package stopwords to /root/nltk_data...\n",
            "[nltk_data]   Unzipping corpora/stopwords.zip.\n"
          ]
        }
      ],
      "source": [
        "import torch\n",
        "import torch.nn as nn\n",
        "\n",
        "# Set a random seed for reproducibility\n",
        "seed = 1\n",
        "torch.manual_seed(seed)\n",
        "\n",
        "import os\n",
        "import numpy as np\n",
        "import pandas as pd\n",
        "import matplotlib.pyplot as plt\n",
        "import re\n",
        "import nltk\n",
        "import unidecode\n",
        "\n",
        "# Download stopwords for NLTK\n",
        "nltk.download('stopwords')\n",
        "from nltk.corpus import stopwords\n",
        "from nltk.stem.porter import PorterStemmer\n",
        "\n",
        "from torch.utils.data import Dataset, DataLoader\n",
        "from sklearn.model_selection import train_test_split\n"
      ]
    },
    {
      "cell_type": "code",
      "source": [
        "# Đường dẫn tới file CSV\n",
        "dataset_path = '/content/all-data.csv'\n",
        "\n",
        "# Định nghĩa tiêu đề các cột\n",
        "headers = ['sentiment', 'content']\n",
        "\n",
        "# Đọc dữ liệu từ file CSV\n",
        "df = pd.read_csv(\n",
        "    dataset_path,\n",
        "    names=headers,\n",
        "    encoding='ISO-8859-1'\n",
        ")\n"
      ],
      "metadata": {
        "id": "oqeChUVf37so"
      },
      "execution_count": 5,
      "outputs": []
    },
    {
      "cell_type": "code",
      "source": [
        "# Tạo dictionary để ánh xạ nhãn sentiment thành số nguyên\n",
        "classes = {\n",
        "    class_name: idx for idx, class_name in enumerate(df['sentiment'].unique().tolist())\n",
        "}\n",
        "\n",
        "# Áp dụng ánh xạ để chuyển đổi cột 'sentiment' từ chuỗi thành số nguyên\n",
        "df['sentiment'] = df['sentiment'].apply(lambda x: classes[x])\n"
      ],
      "metadata": {
        "id": "R_KnQMnH4AB3"
      },
      "execution_count": 6,
      "outputs": []
    },
    {
      "cell_type": "code",
      "source": [
        "print(classes)  # Hiển thị dictionary ánh xạ\n",
        "print(df.head())  # Xem vài dòng đầu tiên của dataframe\n"
      ],
      "metadata": {
        "colab": {
          "base_uri": "https://localhost:8080/"
        },
        "id": "dDbP4cEW4IXd",
        "outputId": "5b6fb6aa-6771-44d3-f9f8-d9cba6c7dcae"
      },
      "execution_count": 7,
      "outputs": [
        {
          "output_type": "stream",
          "name": "stdout",
          "text": [
            "{'neutral': 0, 'negative': 1, 'positive': 2}\n",
            "   sentiment                                            content\n",
            "0          0  According to Gran , the company has no plans t...\n",
            "1          0  Technopolis plans to develop in stages an area...\n",
            "2          1  The international electronic industry company ...\n",
            "3          2  With the new production plant the company woul...\n",
            "4          2  According to the company 's updated strategy f...\n"
          ]
        }
      ]
    },
    {
      "cell_type": "code",
      "source": [
        "# Danh sách stopwords tiếng Anh\n",
        "english_stop_words = stopwords.words('english')\n",
        "\n",
        "# Tạo stemmer\n",
        "stemmer = PorterStemmer()\n",
        "\n",
        "# Hàm chuẩn hóa văn bản\n",
        "def text_normalize(text):\n",
        "    text = text.lower()  # Chuyển thành chữ thường\n",
        "    text = unidecode.unidecode(text)  # Loại bỏ dấu (nếu có)\n",
        "    text = text.strip()  # Loại bỏ khoảng trắng thừa ở đầu/cuối\n",
        "    text = re.sub(r'[^\\w\\s]', '', text)  # Loại bỏ dấu câu\n",
        "    text = ' '.join([word for word in text.split() if word not in english_stop_words])  # Xóa stopwords\n",
        "    text = ' '.join([stemmer.stem(word) for word in text.split()])  # Áp dụng stemming\n",
        "    return text\n"
      ],
      "metadata": {
        "id": "BDrtrDAm4Kcn"
      },
      "execution_count": 8,
      "outputs": []
    },
    {
      "cell_type": "code",
      "source": [
        "df['content'] = df['content'].apply(lambda x: text_normalize(x))\n"
      ],
      "metadata": {
        "id": "4BY2eYyY4RJQ"
      },
      "execution_count": 9,
      "outputs": []
    },
    {
      "cell_type": "code",
      "source": [
        "print(df.head())\n"
      ],
      "metadata": {
        "colab": {
          "base_uri": "https://localhost:8080/"
        },
        "id": "iiWlnH8y4ZxN",
        "outputId": "33b4bc55-37b6-4a03-9b18-0fb9bcf6f962"
      },
      "execution_count": 10,
      "outputs": [
        {
          "output_type": "stream",
          "name": "stdout",
          "text": [
            "   sentiment                                            content\n",
            "0          0  accord gran compani plan move product russia a...\n",
            "1          0  technopoli plan develop stage area less 100000...\n",
            "2          1  intern electron industri compani elcoteq laid ...\n",
            "3          2  new product plant compani would increas capac ...\n",
            "4          2  accord compani updat strategi year 20092012 ba...\n"
          ]
        }
      ]
    },
    {
      "cell_type": "code",
      "source": [
        "# Khởi tạo danh sách vocab\n",
        "vocab = []\n",
        "\n",
        "# Duyệt qua từng câu trong cột 'content'\n",
        "for sentence in df['content'].tolist():\n",
        "    tokens = sentence.split()  # Tách câu thành danh sách từ (tokens)\n",
        "    for token in tokens:\n",
        "        if token not in vocab:\n",
        "            vocab.append(token)\n",
        "\n",
        "# Thêm token đặc biệt 'UNK' và 'PAD'\n",
        "vocab.append('UNK')\n",
        "vocab.append('PAD')\n",
        "\n",
        "# Tạo dictionary ánh xạ từ → index\n",
        "word_to_idx = {word: idx for idx, word in enumerate(vocab)}\n",
        "\n",
        "# Kích thước từ vựng\n",
        "vocab_size = len(vocab)\n"
      ],
      "metadata": {
        "id": "WKZukM5p4bud"
      },
      "execution_count": 11,
      "outputs": []
    },
    {
      "cell_type": "code",
      "source": [
        "print(f\"Vocabulary size: {vocab_size}\")\n",
        "print(f\"First 10 words in vocab: {vocab[:10]}\")\n"
      ],
      "metadata": {
        "colab": {
          "base_uri": "https://localhost:8080/"
        },
        "id": "MiWsS8Hy4ic1",
        "outputId": "613baf8e-8919-4bac-dd3a-2300b8796dd1"
      },
      "execution_count": 12,
      "outputs": [
        {
          "output_type": "stream",
          "name": "stdout",
          "text": [
            "Vocabulary size: 8908\n",
            "First 10 words in vocab: ['accord', 'gran', 'compani', 'plan', 'move', 'product', 'russia', 'although', 'grow', 'technopoli']\n"
          ]
        }
      ]
    },
    {
      "cell_type": "code",
      "source": [
        "def transform(text, word_to_idx, max_seq_len):\n",
        "    tokens = []\n",
        "    # Duyệt qua từng từ trong văn bản\n",
        "    for w in text.split():\n",
        "        try:\n",
        "            w_ids = word_to_idx[w]  # Lấy ID từ bộ từ điển\n",
        "        except KeyError:\n",
        "            w_ids = word_to_idx['UNK']  # Nếu từ không có trong từ điển, dùng 'UNK'\n",
        "        tokens.append(w_ids)\n",
        "\n",
        "    # Chuẩn hóa độ dài của chuỗi\n",
        "    if len(tokens) < max_seq_len:\n",
        "        tokens += [word_to_idx['PAD']] * (max_seq_len - len(tokens))  # Thêm 'PAD' nếu ngắn\n",
        "    elif len(tokens) > max_seq_len:\n",
        "        tokens = tokens[:max_seq_len]  # Cắt chuỗi nếu dài hơn\n",
        "\n",
        "    return tokens\n"
      ],
      "metadata": {
        "id": "qEuwvQGy4mTD"
      },
      "execution_count": 13,
      "outputs": []
    },
    {
      "cell_type": "code",
      "source": [
        "# Kích thước tập validation và test\n",
        "val_size = 0.2\n",
        "test_size = 0.125\n",
        "\n",
        "# Có trộn dữ liệu hay không\n",
        "is_shuffle = True\n",
        "\n",
        "# Chuyển dữ liệu từ DataFrame thành danh sách\n",
        "texts = df['content'].tolist()\n",
        "labels = df['sentiment'].tolist()\n",
        "\n",
        "# Chia dữ liệu thành train và validation\n",
        "X_train, X_val, y_train, y_val = train_test_split(\n",
        "    texts, labels,\n",
        "    test_size=val_size,\n",
        "    random_state=seed,\n",
        "    shuffle=is_shuffle\n",
        ")\n",
        "\n",
        "# Chia tiếp tập train thành train và test\n",
        "X_train, X_test, y_train, y_test = train_test_split(\n",
        "    X_train, y_train,\n",
        "    test_size=test_size,\n",
        "    random_state=seed,\n",
        "    shuffle=is_shuffle\n",
        ")\n"
      ],
      "metadata": {
        "id": "vpPeEHWi4paP"
      },
      "execution_count": 14,
      "outputs": []
    },
    {
      "cell_type": "code",
      "source": [
        "class FinancialNews(Dataset):\n",
        "    def __init__(self, X, y, word_to_idx, max_seq_len, transform=None):\n",
        "        \"\"\"\n",
        "        Khởi tạo dataset cho bài toán phân loại tin tức tài chính.\n",
        "\n",
        "        Args:\n",
        "            X (list): Danh sách văn bản.\n",
        "            y (list): Danh sách nhãn.\n",
        "            word_to_idx (dict): Từ điển ánh xạ từ → chỉ số.\n",
        "            max_seq_len (int): Độ dài tối đa của chuỗi.\n",
        "            transform (func): Hàm để chuyển đổi văn bản thành danh sách các chỉ số.\n",
        "        \"\"\"\n",
        "        self.texts = X\n",
        "        self.labels = y\n",
        "        self.word_to_idx = word_to_idx\n",
        "        self.max_seq_len = max_seq_len\n",
        "        self.transform = transform\n",
        "\n",
        "    def __len__(self):\n",
        "        \"\"\"Trả về số lượng mẫu trong dataset.\"\"\"\n",
        "        return len(self.texts)\n",
        "\n",
        "    def __getitem__(self, idx):\n",
        "        \"\"\"\n",
        "        Trả về một mẫu tại vị trí idx.\n",
        "\n",
        "        Args:\n",
        "            idx (int): Chỉ số của mẫu cần lấy.\n",
        "\n",
        "        Returns:\n",
        "            tuple: (text_tensor, label)\n",
        "                   text_tensor: Dữ liệu văn bản dưới dạng tensor.\n",
        "                   label: Nhãn tương ứng.\n",
        "        \"\"\"\n",
        "        text = self.texts[idx]\n",
        "        label = self.labels[idx]\n",
        "\n",
        "        if self.transform:\n",
        "            text = self.transform(\n",
        "                text,\n",
        "                self.word_to_idx,\n",
        "                self.max_seq_len\n",
        "            )\n",
        "        # Chuyển đổi thành tensor\n",
        "        text = torch.tensor(text, dtype=torch.long)\n",
        "\n",
        "        return text, label\n"
      ],
      "metadata": {
        "id": "cwXCfIiW47iu"
      },
      "execution_count": 15,
      "outputs": []
    },
    {
      "cell_type": "code",
      "source": [
        "# Đặt độ dài tối đa của chuỗi\n",
        "max_seq_len = 32\n",
        "\n",
        "# Tạo các dataset cho tập train, validation, và test\n",
        "train_dataset = FinancialNews(\n",
        "    X_train, y_train,\n",
        "    word_to_idx=word_to_idx,\n",
        "    max_seq_len=max_seq_len,\n",
        "    transform=transform\n",
        ")\n",
        "\n",
        "val_dataset = FinancialNews(\n",
        "    X_val, y_val,\n",
        "    word_to_idx=word_to_idx,\n",
        "    max_seq_len=max_seq_len,\n",
        "    transform=transform\n",
        ")\n",
        "\n",
        "test_dataset = FinancialNews(\n",
        "    X_test, y_test,\n",
        "    word_to_idx=word_to_idx,\n",
        "    max_seq_len=max_seq_len,\n",
        "    transform=transform\n",
        ")\n",
        "\n",
        "# Kích thước batch\n",
        "train_batch_size = 128\n",
        "test_batch_size = 8\n",
        "\n",
        "# Tạo DataLoader cho các tập dữ liệu\n",
        "train_loader = DataLoader(\n",
        "    train_dataset,\n",
        "    batch_size=train_batch_size,\n",
        "    shuffle=True\n",
        ")\n",
        "\n",
        "val_loader = DataLoader(\n",
        "    val_dataset,\n",
        "    batch_size=test_batch_size,\n",
        "    shuffle=False\n",
        ")\n",
        "\n",
        "test_loader = DataLoader(\n",
        "    test_dataset,\n",
        "    batch_size=test_batch_size,\n",
        "    shuffle=False\n",
        ")\n"
      ],
      "metadata": {
        "id": "mRLljZrY5Ah8"
      },
      "execution_count": 16,
      "outputs": []
    },
    {
      "cell_type": "code",
      "source": [
        "class SentimentClassifier(nn.Module):\n",
        "    def __init__(self, vocab_size, embedding_dim, hidden_size, n_layers, n_classes, dropout_prob):\n",
        "        \"\"\"\n",
        "        Mô hình phân loại cảm xúc sử dụng RNN.\n",
        "\n",
        "        Args:\n",
        "            vocab_size (int): Kích thước từ vựng.\n",
        "            embedding_dim (int): Số chiều của embedding.\n",
        "            hidden_size (int): Số chiều của hidden state trong RNN.\n",
        "            n_layers (int): Số lớp RNN.\n",
        "            n_classes (int): Số lớp nhãn đầu ra.\n",
        "            dropout_prob (float): Xác suất dropout.\n",
        "        \"\"\"\n",
        "        super(SentimentClassifier, self).__init__()\n",
        "        self.embedding = nn.Embedding(vocab_size, embedding_dim)\n",
        "        self.rnn = nn.RNN(embedding_dim, hidden_size, n_layers, batch_first=True)\n",
        "        self.norm = nn.LayerNorm(hidden_size)\n",
        "        self.dropout = nn.Dropout(dropout_prob)\n",
        "        self.fc1 = nn.Linear(hidden_size, 16)\n",
        "        self.relu = nn.ReLU()\n",
        "        self.fc2 = nn.Linear(16, n_classes)\n",
        "\n",
        "    def forward(self, x):\n",
        "        \"\"\"\n",
        "        Hàm chuyển tiếp dữ liệu qua mô hình.\n",
        "\n",
        "        Args:\n",
        "            x (Tensor): Input tensor (batch_size, seq_len).\n",
        "\n",
        "        Returns:\n",
        "            Tensor: Output tensor (batch_size, n_classes).\n",
        "        \"\"\"\n",
        "        x = self.embedding(x)  # Embedding layer\n",
        "        x, hn = self.rnn(x)   # RNN layer\n",
        "        x = x[:, -1, :]       # Lấy hidden state cuối cùng\n",
        "        x = self.norm(x)      # Normalization\n",
        "        x = self.dropout(x)   # Dropout\n",
        "        x = self.fc1(x)       # Fully connected layer 1\n",
        "        x = self.relu(x)      # ReLU activation\n",
        "        x = self.fc2(x)       # Fully connected layer 2\n",
        "        return x\n"
      ],
      "metadata": {
        "id": "Rat2vPWK5ToK"
      },
      "execution_count": 17,
      "outputs": []
    },
    {
      "cell_type": "code",
      "source": [
        "# Số lượng lớp đầu ra\n",
        "n_classes = len(list(classes.keys()))\n",
        "\n",
        "# Số chiều của embedding\n",
        "embedding_dim = 64\n",
        "\n",
        "# Số chiều của hidden state\n",
        "hidden_size = 64\n",
        "\n",
        "# Số lớp RNN\n",
        "n_layers = 2\n",
        "\n",
        "# Xác suất dropout\n",
        "dropout_prob = 0.2\n",
        "\n",
        "# Kiểm tra nếu có GPU thì sử dụng, nếu không sử dụng CPU\n",
        "device = 'cuda' if torch.cuda.is_available() else 'cpu'\n",
        "\n",
        "# Khởi tạo mô hình SentimentClassifier\n",
        "model = SentimentClassifier(\n",
        "    vocab_size=vocab_size,\n",
        "    embedding_dim=embedding_dim,\n",
        "    hidden_size=hidden_size,\n",
        "    n_layers=n_layers,\n",
        "    n_classes=n_classes,\n",
        "    dropout_prob=dropout_prob\n",
        ").to(device)  # Đưa mô hình lên thiết bị (GPU hoặc CPU)\n",
        "\n",
        "# Kiểm tra mô hình\n",
        "print(model)\n"
      ],
      "metadata": {
        "colab": {
          "base_uri": "https://localhost:8080/"
        },
        "id": "pIGiCT3I5WuH",
        "outputId": "3b7b71d6-671d-449f-971e-3f3986cece3b"
      },
      "execution_count": 18,
      "outputs": [
        {
          "output_type": "stream",
          "name": "stdout",
          "text": [
            "SentimentClassifier(\n",
            "  (embedding): Embedding(8908, 64)\n",
            "  (rnn): RNN(64, 64, num_layers=2, batch_first=True)\n",
            "  (norm): LayerNorm((64,), eps=1e-05, elementwise_affine=True)\n",
            "  (dropout): Dropout(p=0.2, inplace=False)\n",
            "  (fc1): Linear(in_features=64, out_features=16, bias=True)\n",
            "  (relu): ReLU()\n",
            "  (fc2): Linear(in_features=16, out_features=3, bias=True)\n",
            ")\n"
          ]
        }
      ]
    },
    {
      "cell_type": "code",
      "source": [
        "# Learning rate và số epochs\n",
        "lr = 1e-4\n",
        "epochs = 50\n",
        "\n",
        "# Hàm mất mát (Loss function)\n",
        "criterion = nn.CrossEntropyLoss()\n",
        "\n",
        "# Optimizer (Adam)\n",
        "optimizer = torch.optim.Adam(\n",
        "    model.parameters(),\n",
        "    lr=lr\n",
        ")\n",
        "\n",
        "# Kiểm tra cấu hình của optimizer và loss function\n",
        "print(f\"Learning rate: {lr}\")\n",
        "print(f\"Epochs: {epochs}\")\n",
        "print(f\"Loss function: {criterion}\")\n",
        "print(f\"Optimizer: {optimizer}\")\n"
      ],
      "metadata": {
        "colab": {
          "base_uri": "https://localhost:8080/"
        },
        "id": "6c97NqbN5ecJ",
        "outputId": "5da06363-b6b9-4e48-e45a-9bde46d31cc5"
      },
      "execution_count": 19,
      "outputs": [
        {
          "output_type": "stream",
          "name": "stdout",
          "text": [
            "Learning rate: 0.0001\n",
            "Epochs: 50\n",
            "Loss function: CrossEntropyLoss()\n",
            "Optimizer: Adam (\n",
            "Parameter Group 0\n",
            "    amsgrad: False\n",
            "    betas: (0.9, 0.999)\n",
            "    capturable: False\n",
            "    differentiable: False\n",
            "    eps: 1e-08\n",
            "    foreach: None\n",
            "    fused: None\n",
            "    lr: 0.0001\n",
            "    maximize: False\n",
            "    weight_decay: 0\n",
            ")\n"
          ]
        }
      ]
    },
    {
      "cell_type": "code",
      "source": [
        "def fit(model, train_loader, val_loader, criterion, optimizer, device, epochs):\n",
        "    \"\"\"\n",
        "    Hàm huấn luyện mô hình.\n",
        "\n",
        "    Args:\n",
        "        model (nn.Module): Mô hình cần huấn luyện.\n",
        "        train_loader (DataLoader): Bộ dữ liệu huấn luyện.\n",
        "        val_loader (DataLoader): Bộ dữ liệu validation.\n",
        "        criterion (nn.Module): Hàm mất mát.\n",
        "        optimizer (torch.optim): Bộ tối ưu hóa.\n",
        "        device (str): Thiết bị ('cuda' hoặc 'cpu').\n",
        "        epochs (int): Số lượng epochs.\n",
        "\n",
        "    Returns:\n",
        "        tuple: train_losses, val_losses - danh sách loss trong mỗi epoch.\n",
        "    \"\"\"\n",
        "    train_losses = []\n",
        "    val_losses = []\n",
        "\n",
        "    for epoch in range(epochs):\n",
        "        batch_train_losses = []\n",
        "        model.train()  # Chuyển mô hình sang chế độ train\n",
        "\n",
        "        for idx, (inputs, labels) in enumerate(train_loader):\n",
        "            # Đưa dữ liệu vào device\n",
        "            inputs, labels = inputs.to(device), labels.to(device)\n",
        "\n",
        "            # Đặt lại gradient\n",
        "            optimizer.zero_grad()\n",
        "\n",
        "            # Tính toán đầu ra và loss\n",
        "            outputs = model(inputs)\n",
        "            loss = criterion(outputs, labels)\n",
        "\n",
        "            # Lan truyền ngược (backpropagation) và cập nhật trọng số\n",
        "            loss.backward()\n",
        "            optimizer.step()\n",
        "\n",
        "            # Ghi lại giá trị loss\n",
        "            batch_train_losses.append(loss.item())\n",
        "\n",
        "        # Tính toán loss trung bình cho epoch\n",
        "        train_loss = sum(batch_train_losses) / len(batch_train_losses)\n",
        "        train_losses.append(train_loss)\n",
        "\n",
        "        # Đánh giá mô hình trên tập validation\n",
        "        val_loss, val_acc = evaluate(model, val_loader, criterion, device)\n",
        "        val_losses.append(val_loss)\n",
        "\n",
        "        # In thông tin về epoch\n",
        "        print(f'EPOCH {epoch + 1}:\\tTrain loss: {train_loss:.4f}\\tVal loss: {val_loss:.4f}\\tVal acc: {val_acc:.4f}')\n",
        "\n",
        "    return train_losses, val_losses\n"
      ],
      "metadata": {
        "id": "QzctOJlf5j_7"
      },
      "execution_count": 20,
      "outputs": []
    },
    {
      "cell_type": "code",
      "source": [
        "def evaluate(model, dataloader, criterion, device):\n",
        "    \"\"\"\n",
        "    Hàm đánh giá mô hình trên tập dữ liệu.\n",
        "\n",
        "    Args:\n",
        "        model (nn.Module): Mô hình cần đánh giá.\n",
        "        dataloader (DataLoader): Bộ dữ liệu validation hoặc test.\n",
        "        criterion (nn.Module): Hàm mất mát.\n",
        "        device (str): Thiết bị ('cuda' hoặc 'cpu').\n",
        "\n",
        "    Returns:\n",
        "        tuple: (loss trung bình, độ chính xác).\n",
        "    \"\"\"\n",
        "    model.eval()  # Chuyển mô hình sang chế độ đánh giá (tắt dropout, batchnorm)\n",
        "    correct = 0  # Số lượng dự đoán đúng\n",
        "    total = 0  # Tổng số mẫu dữ liệu\n",
        "    losses = []  # Danh sách lưu các giá trị loss\n",
        "\n",
        "    with torch.no_grad():  # Tắt tính toán gradient để tiết kiệm tài nguyên\n",
        "        for inputs, labels in dataloader:\n",
        "            # Chuyển dữ liệu và nhãn sang thiết bị (GPU hoặc CPU)\n",
        "            inputs, labels = inputs.to(device), labels.to(device)\n",
        "\n",
        "            # Dự đoán đầu ra của mô hình\n",
        "            outputs = model(inputs)\n",
        "\n",
        "            # Tính toán hàm mất mát\n",
        "            loss = criterion(outputs, labels)\n",
        "            losses.append(loss.item())  # Lưu giá trị loss của batch\n",
        "\n",
        "            # Lấy dự đoán nhãn bằng cách chọn giá trị lớn nhất\n",
        "            _, predicted = torch.max(outputs.data, 1)\n",
        "\n",
        "            # Tính tổng số mẫu và số lượng dự đoán đúng\n",
        "            total += labels.size(0)\n",
        "            correct += (predicted == labels).sum().item()\n",
        "\n",
        "    # Tính loss trung bình cho toàn bộ tập dữ liệu\n",
        "    loss = sum(losses) / len(losses)\n",
        "\n",
        "    # Tính độ chính xác (số dự đoán đúng / tổng số mẫu)\n",
        "    acc = correct / total\n",
        "\n",
        "    return loss, acc  # Trả về loss trung bình và độ chính xác\n"
      ],
      "metadata": {
        "id": "29ZtLuWK5vww"
      },
      "execution_count": 22,
      "outputs": []
    },
    {
      "cell_type": "code",
      "source": [
        "# Huấn luyện mô hình với hàm fit đã định nghĩa\n",
        "train_losses, val_losses = fit(\n",
        "    model=model,          # Mô hình SentimentClassifier đã khởi tạo\n",
        "    train_loader=train_loader,  # DataLoader của tập huấn luyện\n",
        "    val_loader=val_loader,      # DataLoader của tập validation\n",
        "    criterion=criterion,  # Hàm mất mát CrossEntropy\n",
        "    optimizer=optimizer,  # Optimizer Adam\n",
        "    device=device,        # Thiết bị (GPU hoặc CPU)\n",
        "    epochs=epochs         # Số lượng epochs (ví dụ: 50)\n",
        ")\n"
      ],
      "metadata": {
        "colab": {
          "base_uri": "https://localhost:8080/"
        },
        "id": "8YSnmXSM55tT",
        "outputId": "f6113608-0dd6-4866-840f-a4db8511b956"
      },
      "execution_count": 23,
      "outputs": [
        {
          "output_type": "stream",
          "name": "stdout",
          "text": [
            "EPOCH 1:\tTrain loss: 1.0102\tVal loss: 0.9541\tVal acc: 0.5876\n",
            "EPOCH 2:\tTrain loss: 0.9439\tVal loss: 0.9338\tVal acc: 0.5876\n",
            "EPOCH 3:\tTrain loss: 0.9337\tVal loss: 0.9294\tVal acc: 0.5876\n",
            "EPOCH 4:\tTrain loss: 0.9317\tVal loss: 0.9286\tVal acc: 0.5876\n",
            "EPOCH 5:\tTrain loss: 0.9311\tVal loss: 0.9283\tVal acc: 0.5876\n",
            "EPOCH 6:\tTrain loss: 0.9286\tVal loss: 0.9283\tVal acc: 0.5876\n",
            "EPOCH 7:\tTrain loss: 0.9287\tVal loss: 0.9283\tVal acc: 0.5876\n",
            "EPOCH 8:\tTrain loss: 0.9302\tVal loss: 0.9284\tVal acc: 0.5876\n",
            "EPOCH 9:\tTrain loss: 0.9311\tVal loss: 0.9282\tVal acc: 0.5876\n",
            "EPOCH 10:\tTrain loss: 0.9294\tVal loss: 0.9282\tVal acc: 0.5876\n",
            "EPOCH 11:\tTrain loss: 0.9300\tVal loss: 0.9281\tVal acc: 0.5876\n",
            "EPOCH 12:\tTrain loss: 0.9295\tVal loss: 0.9283\tVal acc: 0.5876\n",
            "EPOCH 13:\tTrain loss: 0.9283\tVal loss: 0.9282\tVal acc: 0.5876\n",
            "EPOCH 14:\tTrain loss: 0.9282\tVal loss: 0.9281\tVal acc: 0.5876\n",
            "EPOCH 15:\tTrain loss: 0.9256\tVal loss: 0.9280\tVal acc: 0.5876\n",
            "EPOCH 16:\tTrain loss: 0.9286\tVal loss: 0.9279\tVal acc: 0.5876\n",
            "EPOCH 17:\tTrain loss: 0.9276\tVal loss: 0.9279\tVal acc: 0.5876\n",
            "EPOCH 18:\tTrain loss: 0.9320\tVal loss: 0.9279\tVal acc: 0.5876\n",
            "EPOCH 19:\tTrain loss: 0.9265\tVal loss: 0.9277\tVal acc: 0.5876\n",
            "EPOCH 20:\tTrain loss: 0.9272\tVal loss: 0.9277\tVal acc: 0.5876\n",
            "EPOCH 21:\tTrain loss: 0.9270\tVal loss: 0.9277\tVal acc: 0.5876\n",
            "EPOCH 22:\tTrain loss: 0.9297\tVal loss: 0.9277\tVal acc: 0.5876\n",
            "EPOCH 23:\tTrain loss: 0.9250\tVal loss: 0.9277\tVal acc: 0.5876\n",
            "EPOCH 24:\tTrain loss: 0.9273\tVal loss: 0.9276\tVal acc: 0.5876\n",
            "EPOCH 25:\tTrain loss: 0.9274\tVal loss: 0.9275\tVal acc: 0.5876\n",
            "EPOCH 26:\tTrain loss: 0.9251\tVal loss: 0.9270\tVal acc: 0.5876\n",
            "EPOCH 27:\tTrain loss: 0.9257\tVal loss: 0.9267\tVal acc: 0.5876\n",
            "EPOCH 28:\tTrain loss: 0.9270\tVal loss: 0.9267\tVal acc: 0.5876\n",
            "EPOCH 29:\tTrain loss: 0.9246\tVal loss: 0.9264\tVal acc: 0.5887\n",
            "EPOCH 30:\tTrain loss: 0.9244\tVal loss: 0.9260\tVal acc: 0.5897\n",
            "EPOCH 31:\tTrain loss: 0.9255\tVal loss: 0.9252\tVal acc: 0.5887\n",
            "EPOCH 32:\tTrain loss: 0.9237\tVal loss: 0.9246\tVal acc: 0.5907\n",
            "EPOCH 33:\tTrain loss: 0.9211\tVal loss: 0.9256\tVal acc: 0.5918\n",
            "EPOCH 34:\tTrain loss: 0.9218\tVal loss: 0.9264\tVal acc: 0.5907\n",
            "EPOCH 35:\tTrain loss: 0.9152\tVal loss: 0.9211\tVal acc: 0.5866\n",
            "EPOCH 36:\tTrain loss: 0.9010\tVal loss: 0.9296\tVal acc: 0.5969\n",
            "EPOCH 37:\tTrain loss: 0.9201\tVal loss: 0.9228\tVal acc: 0.5969\n",
            "EPOCH 38:\tTrain loss: 0.8929\tVal loss: 0.9144\tVal acc: 0.5990\n",
            "EPOCH 39:\tTrain loss: 0.8662\tVal loss: 0.9236\tVal acc: 0.5969\n",
            "EPOCH 40:\tTrain loss: 0.8878\tVal loss: 0.8872\tVal acc: 0.6186\n",
            "EPOCH 41:\tTrain loss: 0.8723\tVal loss: 0.8924\tVal acc: 0.6124\n",
            "EPOCH 42:\tTrain loss: 0.8491\tVal loss: 0.8786\tVal acc: 0.6258\n",
            "EPOCH 43:\tTrain loss: 0.8415\tVal loss: 0.8770\tVal acc: 0.6216\n",
            "EPOCH 44:\tTrain loss: 0.8349\tVal loss: 0.8829\tVal acc: 0.6165\n",
            "EPOCH 45:\tTrain loss: 0.8283\tVal loss: 0.8742\tVal acc: 0.6258\n",
            "EPOCH 46:\tTrain loss: 0.8190\tVal loss: 0.8784\tVal acc: 0.6258\n",
            "EPOCH 47:\tTrain loss: 0.8229\tVal loss: 0.8830\tVal acc: 0.6278\n",
            "EPOCH 48:\tTrain loss: 0.8122\tVal loss: 0.8757\tVal acc: 0.6258\n",
            "EPOCH 49:\tTrain loss: 0.8024\tVal loss: 0.8750\tVal acc: 0.6268\n",
            "EPOCH 50:\tTrain loss: 0.8004\tVal loss: 0.8827\tVal acc: 0.6258\n"
          ]
        }
      ]
    },
    {
      "cell_type": "code",
      "source": [
        "# In kết quả loss\n",
        "print(\"Training Losses:\", train_losses)\n",
        "print(\"Validation Losses:\", val_losses)\n",
        "\n",
        "# Vẽ biểu đồ để trực quan hóa loss\n",
        "import matplotlib.pyplot as plt\n",
        "\n",
        "plt.figure(figsize=(10, 5))\n",
        "plt.plot(train_losses, label='Training Loss')\n",
        "plt.plot(val_losses, label='Validation Loss')\n",
        "plt.xlabel('Epochs')\n",
        "plt.ylabel('Loss')\n",
        "plt.title('Training and Validation Loss')\n",
        "plt.legend()\n",
        "plt.show()\n"
      ],
      "metadata": {
        "colab": {
          "base_uri": "https://localhost:8080/",
          "height": 542
        },
        "id": "kKHHkp8g6Vu_",
        "outputId": "45554109-cdd9-40a3-ee0f-9fd1b4cb1d35"
      },
      "execution_count": 24,
      "outputs": [
        {
          "output_type": "stream",
          "name": "stdout",
          "text": [
            "Training Losses: [1.01019130591993, 0.9439342308927465, 0.9336521294381883, 0.931710441907247, 0.9311438975510774, 0.9285595836462798, 0.9286946698471352, 0.930213314515573, 0.9311422970559862, 0.929426943814313, 0.9300044355569063, 0.9294790426890055, 0.9282695651054382, 0.9282216231028239, 0.9255785169424834, 0.9285773215470491, 0.9275500575701395, 0.9319706117665326, 0.9265367896468552, 0.9272098475032382, 0.9269745592717771, 0.9296635168570059, 0.9249577500202038, 0.9273393132068493, 0.9273718176064668, 0.9250871472888522, 0.9256786549532855, 0.9269886833650095, 0.9246322733384592, 0.9243610722047312, 0.9254816571871439, 0.9236772104545876, 0.9210543654583119, 0.921755349194562, 0.9152093551777027, 0.9010310062655696, 0.9201279039736148, 0.8929368566583704, 0.8661754352075083, 0.8878340632827194, 0.8722971258340059, 0.8491133032021699, 0.8414958605059871, 0.834917562979239, 0.8283043371306525, 0.8189918685842443, 0.8229330822273537, 0.8122369558722885, 0.8024488025241427, 0.8003718654314677]\n",
            "Validation Losses: [0.9540710576245042, 0.9337647996965002, 0.9293833765827242, 0.9285647790940081, 0.928282442151523, 0.9283459973139842, 0.928276918950628, 0.9283878695769389, 0.9281913813997488, 0.9282156224133539, 0.9281338414207834, 0.9283440635829675, 0.9282363101107175, 0.9281315920782871, 0.9280384842489586, 0.927923140955753, 0.9279018845714506, 0.9278829718222383, 0.927708168987368, 0.9276850291940032, 0.9276895821094513, 0.9276698251239589, 0.927671986525176, 0.9276070819526422, 0.9274780896843456, 0.9270076448800134, 0.9267166007737644, 0.9266859058473931, 0.9263924301647749, 0.9259867580210577, 0.9251777133980735, 0.9245924768877811, 0.925584504350287, 0.926439463603692, 0.9211143650969521, 0.9296370896159626, 0.9228308374275926, 0.9144404633123366, 0.9236278399580815, 0.8872493322266907, 0.8923935924397141, 0.8786461707509932, 0.8769794590160495, 0.8828810624411849, 0.8742332111616604, 0.8783811321024035, 0.8829715029626596, 0.8757445348090813, 0.8750344236366084, 0.8826934192024294]\n"
          ]
        },
        {
          "output_type": "display_data",
          "data": {
            "text/plain": [
              "<Figure size 1000x500 with 1 Axes>"
            ],
            "image/png": "[encoded data removed]"
          },
          "metadata": {}
        }
      ]
    },
    {
      "cell_type": "code",
      "source": [
        "# Đánh giá mô hình trên tập validation\n",
        "val_loss, val_acc = evaluate(\n",
        "    model,        # Mô hình đã huấn luyện\n",
        "    val_loader,   # DataLoader của tập validation\n",
        "    criterion,    # Hàm mất mát\n",
        "    device        # Thiết bị (GPU hoặc CPU)\n",
        ")\n",
        "\n",
        "# Đánh giá mô hình trên tập test\n",
        "test_loss, test_acc = evaluate(\n",
        "    model,        # Mô hình đã huấn luyện\n",
        "    test_loader,  # DataLoader của tập test\n",
        "    criterion,    # Hàm mất mát\n",
        "    device        # Thiết bị (GPU hoặc CPU)\n",
        ")\n",
        "\n",
        "# In kết quả đánh giá\n",
        "print('Evaluation on validation/test datasets')\n",
        "print(f'Validation Loss: {val_loss:.4f}, Validation Accuracy: {val_acc:.4f}')\n",
        "print(f'Test Loss: {test_loss:.4f}, Test Accuracy: {test_acc:.4f}')\n"
      ],
      "metadata": {
        "colab": {
          "base_uri": "https://localhost:8080/"
        },
        "id": "n0335QLb6gw-",
        "outputId": "1a2b6464-b3ee-4ebb-912f-593d68f2d86e"
      },
      "execution_count": 25,
      "outputs": [
        {
          "output_type": "stream",
          "name": "stdout",
          "text": [
            "Evaluation on validation/test datasets\n",
            "Validation Loss: 0.8827, Validation Accuracy: 0.6258\n",
            "Test Loss: 0.8306, Test Accuracy: 0.6351\n"
          ]
        }
      ]
    }
  ]
}