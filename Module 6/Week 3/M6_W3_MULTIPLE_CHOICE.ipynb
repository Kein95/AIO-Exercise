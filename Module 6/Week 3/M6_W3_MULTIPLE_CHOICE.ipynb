{
  "nbformat": 4,
  "nbformat_minor": 0,
  "metadata": {
    "colab": {
      "provenance": []
    },
    "kernelspec": {
      "name": "python3",
      "display_name": "Python 3"
    },
    "language_info": {
      "name": "python"
    }
  },
  "cells": [
    {
      "cell_type": "code",
      "execution_count": 1,
      "metadata": {
        "colab": {
          "base_uri": "https://localhost:8080/"
        },
        "id": "_KITlYN6AmCg",
        "outputId": "1422484b-1e2c-4be1-da09-f544b96fa46b"
      },
      "outputs": [
        {
          "output_type": "stream",
          "name": "stdout",
          "text": [
            "Output shape for LSTM: torch.Size([5, 10, 20])\n",
            "Output shape for BiLSTM: torch.Size([5, 10, 40])\n"
          ]
        }
      ],
      "source": [
        "#Q6\n",
        "import torch\n",
        "import torch.nn as nn\n",
        "\n",
        "# Tạo tensor đầu vào với kích thước (batch_size, seq_len, input_size)\n",
        "input_tensor = torch.randn(5, 10, 10)  # batch_size=5, seq_len=10, input_size=10\n",
        "\n",
        "# Khởi tạo LSTM và BiLSTM\n",
        "lstm = nn.LSTM(input_size=10, hidden_size=20, num_layers=2, batch_first=True)\n",
        "bilstm = nn.LSTM(input_size=10, hidden_size=20, num_layers=2, batch_first=True, bidirectional=True)\n",
        "\n",
        "# Dự đoán đầu ra từ LSTM\n",
        "output_lstm, (hidden_state_lstm, cell_state_lstm) = lstm(input_tensor)\n",
        "\n",
        "# Dự đoán đầu ra từ BiLSTM\n",
        "output_bilstm, (hidden_state_bilstm, cell_state_bilstm) = bilstm(input_tensor)\n",
        "\n",
        "# In kích thước đầu ra\n",
        "print(\"Output shape for LSTM:\", output_lstm.shape)      # (batch_size, seq_len, hidden_size)\n",
        "print(\"Output shape for BiLSTM:\", output_bilstm.shape)  # (batch_size, seq_len, 2 * hidden_size)\n"
      ]
    }
  ]
}