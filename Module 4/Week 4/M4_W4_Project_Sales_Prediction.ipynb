{
  "nbformat": 4,
  "nbformat_minor": 0,
  "metadata": {
    "colab": {
      "provenance": [],
      "gpuType": "L4"
    },
    "kernelspec": {
      "name": "python3",
      "display_name": "Python 3"
    },
    "language_info": {
      "name": "python"
    },
    "accelerator": "GPU"
  },
  "cells": [
    {
      "cell_type": "markdown",
      "source": [
        "1. Linear regression"
      ],
      "metadata": {
        "id": "w1pnsy1Og6U8"
      }
    },
    {
      "cell_type": "code",
      "execution_count": 1,
      "metadata": {
        "id": "eHE-ui1zghOV"
      },
      "outputs": [],
      "source": [
        "import numpy as np\n",
        "\n",
        "class CustomLinearRegression:\n",
        "    def __init__(self, X_data, y_target, learning_rate=0.01, num_epochs=10000):\n",
        "        self.num_samples = X_data.shape[0]\n",
        "        self.X_data = np.c_[np.ones((self.num_samples, 1)), X_data]\n",
        "        self.y_target = y_target\n",
        "        self.learning_rate = learning_rate\n",
        "        self.num_epochs = num_epochs\n",
        "\n",
        "        # Initial weights\n",
        "        self.theta = np.random.randn(self.X_data.shape[1], 1)\n",
        "        self.losses = []\n",
        "\n",
        "    def compute_loss(self, y_pred, y_target):\n",
        "        # Mean Squared Error (MSE) loss\n",
        "        loss = np.sum((y_pred - y_target) ** 2) / (2 * self.num_samples)\n",
        "        return loss\n",
        "\n",
        "    def predict(self, X_data):\n",
        "        # Predict by applying the linear model\n",
        "        y_pred = X_data.dot(self.theta)\n",
        "        return y_pred\n",
        "\n",
        "    def fit(self):\n",
        "        for epoch in range(self.num_epochs):\n",
        "            # Step 1: Predict\n",
        "            y_pred = self.predict(self.X_data)\n",
        "\n",
        "            # Step 2: Compute loss\n",
        "            loss = self.compute_loss(y_pred, self.y_target)\n",
        "            self.losses.append(loss)\n",
        "\n",
        "            # Step 3: Compute gradients\n",
        "            loss_grd = 2 * (y_pred - self.y_target) / self.num_samples\n",
        "            gradients = self.X_data.T.dot(loss_grd)\n",
        "\n",
        "            # Step 4: Update weights\n",
        "            self.theta = self.theta - self.learning_rate * gradients\n",
        "\n",
        "            if (epoch % 50) == 0:\n",
        "                print(f'Epoch: {epoch} - Loss: {loss}')\n",
        "\n",
        "        return {\n",
        "            'loss': sum(self.losses) / len(self.losses),\n",
        "            'weight': self.theta\n",
        "        }"
      ]
    },
    {
      "cell_type": "code",
      "source": [
        "import numpy as np\n",
        "\n",
        "def r2score(y_pred, y):\n",
        "    rss = np.sum((y_pred - y) ** 2)      # Residual Sum of Squares\n",
        "    tss = np.sum((y - y.mean()) ** 2)    # Total Sum of Squares\n",
        "    r2 = 1 - (rss / tss)\n",
        "    return r2"
      ],
      "metadata": {
        "id": "DJ_QxarPiaj_"
      },
      "execution_count": 2,
      "outputs": []
    },
    {
      "cell_type": "code",
      "source": [
        "# Case 1\n",
        "y_pred_1 = np.array([1, 2, 3, 4, 5])\n",
        "y_1 = np.array([1, 2, 3, 4, 5])\n",
        "r2_case_1 = r2score(y_pred_1, y_1)\n",
        "print(\"R² for Case 1:\", r2_case_1)\n",
        "\n",
        "# Case 2\n",
        "y_pred_2 = np.array([1, 2, 3, 4, 5])\n",
        "y_2 = np.array([3, 5, 5, 2, 4])\n",
        "r2_case_2 = r2score(y_pred_2, y_2)\n",
        "print(\"R² for Case 2:\", r2_case_2)"
      ],
      "metadata": {
        "colab": {
          "base_uri": "https://localhost:8080/"
        },
        "id": "CTdz50RjiYRb",
        "outputId": "3b3ad9db-98cc-4079-a9d2-342fd5490c38"
      },
      "execution_count": 3,
      "outputs": [
        {
          "output_type": "stream",
          "name": "stdout",
          "text": [
            "R² for Case 1: 1.0\n",
            "R² for Case 2: -2.235294117647059\n"
          ]
        }
      ]
    },
    {
      "cell_type": "markdown",
      "source": [
        "2. Polynomial Regression"
      ],
      "metadata": {
        "id": "d6ggTDkPihUP"
      }
    },
    {
      "cell_type": "code",
      "source": [
        "import numpy as np\n",
        "\n",
        "def create_polynomial_features(X, degree=2):\n",
        "    \"\"\"Creates the polynomial features.\n",
        "\n",
        "    Args:\n",
        "        X: A 2D numpy array for the data.\n",
        "        degree: An integer for the degree of the generated polynomial function.\n",
        "\n",
        "    Returns:\n",
        "        X_new: A 2D numpy array containing the polynomial features.\n",
        "    \"\"\"\n",
        "    X_new = X\n",
        "    for d in range(2, degree + 1):\n",
        "        X_new = np.c_[X_new, np.power(X, d)]\n",
        "    return X_new\n",
        "\n",
        "# Input example\n",
        "X = np.array([[1], [2], [3]])\n",
        "X_poly = create_polynomial_features(X, degree=2)\n",
        "print(\"Polynomial Features:\\n\", X_poly)"
      ],
      "metadata": {
        "colab": {
          "base_uri": "https://localhost:8080/"
        },
        "id": "CCSGwT5piiOq",
        "outputId": "1af611ec-8e34-4912-f947-eaa9c9f6bc72"
      },
      "execution_count": 4,
      "outputs": [
        {
          "output_type": "stream",
          "name": "stdout",
          "text": [
            "Polynomial Features:\n",
            " [[1 1]\n",
            " [2 4]\n",
            " [3 9]]\n"
          ]
        }
      ]
    },
    {
      "cell_type": "code",
      "source": [
        "import numpy as np\n",
        "\n",
        "# Input data\n",
        "X = np.array([[1, 2], [2, 3], [3, 4]])\n",
        "degree = 2"
      ],
      "metadata": {
        "id": "RQZpsj8Bjjv0"
      },
      "execution_count": 5,
      "outputs": []
    },
    {
      "cell_type": "code",
      "source": [
        "def create_polynomial_features(X, degree=2):\n",
        "    X_mem = []\n",
        "    for X_sub in X.T:\n",
        "        X_sub = X_sub.T\n",
        "        X_new = X_sub\n",
        "        for d in range(2, degree + 1):\n",
        "            X_new = np.c_[X_sub, np.power(X_sub, d)]\n",
        "        X_mem.extend(X_new.T)\n",
        "    return np.c_[X_mem].T\n"
      ],
      "metadata": {
        "id": "hugDbuc-jpSa"
      },
      "execution_count": 6,
      "outputs": []
    },
    {
      "cell_type": "code",
      "source": [
        "# Option A\n",
        "def create_polynomial_features_A(X, degree=2):\n",
        "    X_mem = []\n",
        "    for X_sub in X.T:\n",
        "        X_new = X_sub\n",
        "        for d in range(2, degree + 1):\n",
        "            X_new = np.c_[X_new, np.power(X_sub, d)]\n",
        "        X_mem.extend(X_new.T)\n",
        "    return np.c_[X_mem].T\n",
        "\n",
        "# Option B\n",
        "def create_polynomial_features_B(X, degree=2):\n",
        "    X_mem = []\n",
        "    for X_sub in X.T:\n",
        "        X_sub = X_sub.T\n",
        "        X_new = X_sub\n",
        "        for d in range(2, degree + 1):\n",
        "            X_new = np.c_[X_new, np.power(X_sub, d)]\n",
        "        X_mem.append(X_new.T)\n",
        "    return np.c_[X_mem].T\n",
        "\n",
        "# Option C\n",
        "def create_polynomial_features_C(X, degree=2):\n",
        "    X_mem = []\n",
        "    for X_sub in X.T:\n",
        "        X_sub = X_sub.T\n",
        "        X_new = X_sub\n",
        "        for d in range(2, degree + 1):\n",
        "            X_new = np.c_[X_sub, np.power(X_sub, d)]\n",
        "        X_mem.extend(X_new.T)\n",
        "    return np.c_[X_mem].T\n",
        "\n",
        "# Option D\n",
        "def create_polynomial_features_D(X, degree=2):\n",
        "    X_mem = []\n",
        "    for X_sub in X.T:\n",
        "        X_sub = X_sub.T\n",
        "        X_new = X_sub\n",
        "        for d in range(2, degree + 1):\n",
        "            X_new = np.c_[X_new, np.power(X_sub, d)]\n",
        "        X_mem.extend(X_new.T)\n",
        "    return np.c_[X_mem].T\n",
        "\n",
        "# Run each option and print results\n",
        "print(\"Option A:\\n\", create_polynomial_features_A(X, degree))\n",
        "print(\"Option B:\\n\", create_polynomial_features_B(X, degree))\n",
        "print(\"Option C:\\n\", create_polynomial_features_C(X, degree))\n",
        "print(\"Option D:\\n\", create_polynomial_features_D(X, degree))"
      ],
      "metadata": {
        "colab": {
          "base_uri": "https://localhost:8080/"
        },
        "id": "We0y3gI4kDLL",
        "outputId": "a21a04ba-60af-42fd-fc58-1560c34ed937"
      },
      "execution_count": 7,
      "outputs": [
        {
          "output_type": "stream",
          "name": "stdout",
          "text": [
            "Option A:\n",
            " [[ 1  1  2  4]\n",
            " [ 2  4  3  9]\n",
            " [ 3  9  4 16]]\n",
            "Option B:\n",
            " [[[ 1  2]\n",
            "  [ 1  4]]\n",
            "\n",
            " [[ 2  3]\n",
            "  [ 4  9]]\n",
            "\n",
            " [[ 3  4]\n",
            "  [ 9 16]]]\n",
            "Option C:\n",
            " [[ 1  1  2  4]\n",
            " [ 2  4  3  9]\n",
            " [ 3  9  4 16]]\n",
            "Option D:\n",
            " [[ 1  1  2  4]\n",
            " [ 2  4  3  9]\n",
            " [ 3  9  4 16]]\n"
          ]
        }
      ]
    },
    {
      "cell_type": "markdown",
      "source": [
        "3. Sales Prediction"
      ],
      "metadata": {
        "id": "eaZdEyGzkO3I"
      }
    },
    {
      "cell_type": "code",
      "source": [
        "import pandas as pd\n",
        "\n",
        "# Load the dataset\n",
        "df = pd.read_csv('/content/SalesPrediction.csv')\n",
        "\n",
        "# Kiểm tra dữ liệu\n",
        "print(df.head())\n",
        "print(df.info())"
      ],
      "metadata": {
        "colab": {
          "base_uri": "https://localhost:8080/"
        },
        "id": "WmOLS45iX2ZV",
        "outputId": "311b594f-e1d1-48c7-96c6-1b5e8813c521"
      },
      "execution_count": 27,
      "outputs": [
        {
          "output_type": "stream",
          "name": "stdout",
          "text": [
            "     TV      Radio  Social Media Influencer       Sales\n",
            "0  16.0   6.566231      2.907983       Mega   54.732757\n",
            "1  13.0   9.237765      2.409567       Mega   46.677897\n",
            "2  41.0  15.886446      2.913410       Mega  150.177829\n",
            "3  83.0  30.020028      6.922304       Mega  298.246340\n",
            "4  15.0   8.437408      1.405998      Micro   56.594181\n",
            "<class 'pandas.core.frame.DataFrame'>\n",
            "RangeIndex: 4572 entries, 0 to 4571\n",
            "Data columns (total 5 columns):\n",
            " #   Column        Non-Null Count  Dtype  \n",
            "---  ------        --------------  -----  \n",
            " 0   TV            4562 non-null   float64\n",
            " 1   Radio         4568 non-null   float64\n",
            " 2   Social Media  4566 non-null   float64\n",
            " 3   Influencer    4572 non-null   object \n",
            " 4   Sales         4566 non-null   float64\n",
            "dtypes: float64(4), object(1)\n",
            "memory usage: 178.7+ KB\n",
            "None\n"
          ]
        }
      ]
    },
    {
      "cell_type": "code",
      "source": [
        "# Apply One Hot Encoding on 'Influencer' column\n",
        "df = pd.get_dummies(df, columns=['Influencer'])"
      ],
      "metadata": {
        "id": "q2ga6vMjX_tU"
      },
      "execution_count": 28,
      "outputs": []
    },
    {
      "cell_type": "code",
      "source": [
        "# Fill missing values with the mean\n",
        "df = df.fillna(df.mean())"
      ],
      "metadata": {
        "id": "gDa1EEDOYSpz"
      },
      "execution_count": 29,
      "outputs": []
    },
    {
      "cell_type": "code",
      "source": [
        "from sklearn.model_selection import train_test_split\n",
        "\n",
        "# Define features and target variable\n",
        "X = df[['TV', 'Radio', 'Social Media', 'Influencer_Macro', 'Influencer_Mega', 'Influencer_Micro', 'Influencer_Nano']]\n",
        "y = df[['Sales']]\n",
        "\n",
        "# Train Test Split\n",
        "from sklearn.model_selection import train_test_split\n",
        "X_train, X_test, y_train, y_test = train_test_split(\n",
        "    X,\n",
        "    y,\n",
        "    test_size=0.33,\n",
        "    random_state=0\n",
        ")"
      ],
      "metadata": {
        "id": "fxQVm56FYbwx"
      },
      "execution_count": 35,
      "outputs": []
    },
    {
      "cell_type": "code",
      "source": [
        "from sklearn.preprocessing import StandardScaler\n",
        "scaler = StandardScaler()\n",
        "X_train_processed = scaler.fit_transform(X_train)\n",
        "scaler.mean_[0]"
      ],
      "metadata": {
        "colab": {
          "base_uri": "https://localhost:8080/"
        },
        "id": "DQHFHO7hZ-0F",
        "outputId": "04e6eab6-c7fb-4689-c23a-48869e02245f"
      },
      "execution_count": 36,
      "outputs": [
        {
          "output_type": "execute_result",
          "data": {
            "text/plain": [
              "54.173577723283785"
            ]
          },
          "metadata": {},
          "execution_count": 36
        }
      ]
    },
    {
      "cell_type": "code",
      "source": [
        "from sklearn.preprocessing import PolynomialFeatures\n",
        "\n",
        "poly_features = PolynomialFeatures(degree=2)\n",
        "X_train_poly = poly_features.fit_transform(X_train_processed)\n",
        "X_test_poly = poly_features.transform(X_test_processed)"
      ],
      "metadata": {
        "id": "z3bVM7G7aYr6"
      },
      "execution_count": 37,
      "outputs": []
    },
    {
      "cell_type": "code",
      "source": [
        "from sklearn.linear_model import LinearRegression\n",
        "from sklearn.metrics import r2_score\n",
        "\n",
        "poly_model = LinearRegression()\n",
        "poly_model.fit(X_train_poly, y_train)  # Huấn luyện mô hình trên tập huấn luyện đa thức\n",
        "preds = poly_model.predict(X_test_poly)  # Dự đoán trên tập kiểm tra\n",
        "r2 = r2_score(y_test, preds)  # Tính toán R² score để đánh giá hiệu suất mô hình\n",
        "\n",
        "print(\"R² score:\", r2)"
      ],
      "metadata": {
        "colab": {
          "base_uri": "https://localhost:8080/"
        },
        "id": "Mj1KhdLqaaOE",
        "outputId": "38a3e2be-618f-4842-9e46-3cfb86de5fb1"
      },
      "execution_count": 38,
      "outputs": [
        {
          "output_type": "stream",
          "name": "stdout",
          "text": [
            "R² score: 0.9951077634985147\n"
          ]
        }
      ]
    }
  ]
}