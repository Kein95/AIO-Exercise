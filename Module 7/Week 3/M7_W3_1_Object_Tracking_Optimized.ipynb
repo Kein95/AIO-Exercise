{
  "nbformat": 4,
  "nbformat_minor": 0,
  "metadata": {
    "colab": {
      "provenance": [],
      "gpuType": "A100"
    },
    "kernelspec": {
      "name": "python3",
      "display_name": "Python 3"
    },
    "language_info": {
      "name": "python"
    },
    "accelerator": "GPU"
  },
  "cells": [
    {
      "cell_type": "code",
      "source": [
        "!pip install ultralytics\n"
      ],
      "metadata": {
        "colab": {
          "base_uri": "https://localhost:8080/"
        },
        "id": "iypt78o4yjxb",
        "outputId": "9a8ec74a-fb5b-4448-bd2a-7d365d92c110"
      },
      "execution_count": 1,
      "outputs": [
        {
          "output_type": "stream",
          "name": "stdout",
          "text": [
            "Collecting ultralytics\n",
            "  Downloading ultralytics-8.3.100-py3-none-any.whl.metadata (37 kB)\n",
            "Requirement already satisfied: numpy<=2.1.1,>=1.23.0 in /usr/local/lib/python3.11/dist-packages (from ultralytics) (2.0.2)\n",
            "Requirement already satisfied: matplotlib>=3.3.0 in /usr/local/lib/python3.11/dist-packages (from ultralytics) (3.10.0)\n",
            "Requirement already satisfied: opencv-python>=4.6.0 in /usr/local/lib/python3.11/dist-packages (from ultralytics) (4.11.0.86)\n",
            "Requirement already satisfied: pillow>=7.1.2 in /usr/local/lib/python3.11/dist-packages (from ultralytics) (11.1.0)\n",
            "Requirement already satisfied: pyyaml>=5.3.1 in /usr/local/lib/python3.11/dist-packages (from ultralytics) (6.0.2)\n",
            "Requirement already satisfied: requests>=2.23.0 in /usr/local/lib/python3.11/dist-packages (from ultralytics) (2.32.3)\n",
            "Requirement already satisfied: scipy>=1.4.1 in /usr/local/lib/python3.11/dist-packages (from ultralytics) (1.14.1)\n",
            "Requirement already satisfied: torch>=1.8.0 in /usr/local/lib/python3.11/dist-packages (from ultralytics) (2.6.0+cu124)\n",
            "Requirement already satisfied: torchvision>=0.9.0 in /usr/local/lib/python3.11/dist-packages (from ultralytics) (0.21.0+cu124)\n",
            "Requirement already satisfied: tqdm>=4.64.0 in /usr/local/lib/python3.11/dist-packages (from ultralytics) (4.67.1)\n",
            "Requirement already satisfied: psutil in /usr/local/lib/python3.11/dist-packages (from ultralytics) (5.9.5)\n",
            "Requirement already satisfied: py-cpuinfo in /usr/local/lib/python3.11/dist-packages (from ultralytics) (9.0.0)\n",
            "Requirement already satisfied: pandas>=1.1.4 in /usr/local/lib/python3.11/dist-packages (from ultralytics) (2.2.2)\n",
            "Requirement already satisfied: seaborn>=0.11.0 in /usr/local/lib/python3.11/dist-packages (from ultralytics) (0.13.2)\n",
            "Collecting ultralytics-thop>=2.0.0 (from ultralytics)\n",
            "  Downloading ultralytics_thop-2.0.14-py3-none-any.whl.metadata (9.4 kB)\n",
            "Requirement already satisfied: contourpy>=1.0.1 in /usr/local/lib/python3.11/dist-packages (from matplotlib>=3.3.0->ultralytics) (1.3.1)\n",
            "Requirement already satisfied: cycler>=0.10 in /usr/local/lib/python3.11/dist-packages (from matplotlib>=3.3.0->ultralytics) (0.12.1)\n",
            "Requirement already satisfied: fonttools>=4.22.0 in /usr/local/lib/python3.11/dist-packages (from matplotlib>=3.3.0->ultralytics) (4.56.0)\n",
            "Requirement already satisfied: kiwisolver>=1.3.1 in /usr/local/lib/python3.11/dist-packages (from matplotlib>=3.3.0->ultralytics) (1.4.8)\n",
            "Requirement already satisfied: packaging>=20.0 in /usr/local/lib/python3.11/dist-packages (from matplotlib>=3.3.0->ultralytics) (24.2)\n",
            "Requirement already satisfied: pyparsing>=2.3.1 in /usr/local/lib/python3.11/dist-packages (from matplotlib>=3.3.0->ultralytics) (3.2.3)\n",
            "Requirement already satisfied: python-dateutil>=2.7 in /usr/local/lib/python3.11/dist-packages (from matplotlib>=3.3.0->ultralytics) (2.8.2)\n",
            "Requirement already satisfied: pytz>=2020.1 in /usr/local/lib/python3.11/dist-packages (from pandas>=1.1.4->ultralytics) (2025.2)\n",
            "Requirement already satisfied: tzdata>=2022.7 in /usr/local/lib/python3.11/dist-packages (from pandas>=1.1.4->ultralytics) (2025.2)\n",
            "Requirement already satisfied: charset-normalizer<4,>=2 in /usr/local/lib/python3.11/dist-packages (from requests>=2.23.0->ultralytics) (3.4.1)\n",
            "Requirement already satisfied: idna<4,>=2.5 in /usr/local/lib/python3.11/dist-packages (from requests>=2.23.0->ultralytics) (3.10)\n",
            "Requirement already satisfied: urllib3<3,>=1.21.1 in /usr/local/lib/python3.11/dist-packages (from requests>=2.23.0->ultralytics) (2.3.0)\n",
            "Requirement already satisfied: certifi>=2017.4.17 in /usr/local/lib/python3.11/dist-packages (from requests>=2.23.0->ultralytics) (2025.1.31)\n",
            "Requirement already satisfied: filelock in /usr/local/lib/python3.11/dist-packages (from torch>=1.8.0->ultralytics) (3.18.0)\n",
            "Requirement already satisfied: typing-extensions>=4.10.0 in /usr/local/lib/python3.11/dist-packages (from torch>=1.8.0->ultralytics) (4.13.0)\n",
            "Requirement already satisfied: networkx in /usr/local/lib/python3.11/dist-packages (from torch>=1.8.0->ultralytics) (3.4.2)\n",
            "Requirement already satisfied: jinja2 in /usr/local/lib/python3.11/dist-packages (from torch>=1.8.0->ultralytics) (3.1.6)\n",
            "Requirement already satisfied: fsspec in /usr/local/lib/python3.11/dist-packages (from torch>=1.8.0->ultralytics) (2025.3.0)\n",
            "Collecting nvidia-cuda-nvrtc-cu12==12.4.127 (from torch>=1.8.0->ultralytics)\n",
            "  Downloading nvidia_cuda_nvrtc_cu12-12.4.127-py3-none-manylinux2014_x86_64.whl.metadata (1.5 kB)\n",
            "Collecting nvidia-cuda-runtime-cu12==12.4.127 (from torch>=1.8.0->ultralytics)\n",
            "  Downloading nvidia_cuda_runtime_cu12-12.4.127-py3-none-manylinux2014_x86_64.whl.metadata (1.5 kB)\n",
            "Collecting nvidia-cuda-cupti-cu12==12.4.127 (from torch>=1.8.0->ultralytics)\n",
            "  Downloading nvidia_cuda_cupti_cu12-12.4.127-py3-none-manylinux2014_x86_64.whl.metadata (1.6 kB)\n",
            "Collecting nvidia-cudnn-cu12==9.1.0.70 (from torch>=1.8.0->ultralytics)\n",
            "  Downloading nvidia_cudnn_cu12-9.1.0.70-py3-none-manylinux2014_x86_64.whl.metadata (1.6 kB)\n",
            "Collecting nvidia-cublas-cu12==12.4.5.8 (from torch>=1.8.0->ultralytics)\n",
            "  Downloading nvidia_cublas_cu12-12.4.5.8-py3-none-manylinux2014_x86_64.whl.metadata (1.5 kB)\n",
            "Collecting nvidia-cufft-cu12==11.2.1.3 (from torch>=1.8.0->ultralytics)\n",
            "  Downloading nvidia_cufft_cu12-11.2.1.3-py3-none-manylinux2014_x86_64.whl.metadata (1.5 kB)\n",
            "Collecting nvidia-curand-cu12==10.3.5.147 (from torch>=1.8.0->ultralytics)\n",
            "  Downloading nvidia_curand_cu12-10.3.5.147-py3-none-manylinux2014_x86_64.whl.metadata (1.5 kB)\n",
            "Collecting nvidia-cusolver-cu12==11.6.1.9 (from torch>=1.8.0->ultralytics)\n",
            "  Downloading nvidia_cusolver_cu12-11.6.1.9-py3-none-manylinux2014_x86_64.whl.metadata (1.6 kB)\n",
            "Collecting nvidia-cusparse-cu12==12.3.1.170 (from torch>=1.8.0->ultralytics)\n",
            "  Downloading nvidia_cusparse_cu12-12.3.1.170-py3-none-manylinux2014_x86_64.whl.metadata (1.6 kB)\n",
            "Requirement already satisfied: nvidia-cusparselt-cu12==0.6.2 in /usr/local/lib/python3.11/dist-packages (from torch>=1.8.0->ultralytics) (0.6.2)\n",
            "Requirement already satisfied: nvidia-nccl-cu12==2.21.5 in /usr/local/lib/python3.11/dist-packages (from torch>=1.8.0->ultralytics) (2.21.5)\n",
            "Requirement already satisfied: nvidia-nvtx-cu12==12.4.127 in /usr/local/lib/python3.11/dist-packages (from torch>=1.8.0->ultralytics) (12.4.127)\n",
            "Collecting nvidia-nvjitlink-cu12==12.4.127 (from torch>=1.8.0->ultralytics)\n",
            "  Downloading nvidia_nvjitlink_cu12-12.4.127-py3-none-manylinux2014_x86_64.whl.metadata (1.5 kB)\n",
            "Requirement already satisfied: triton==3.2.0 in /usr/local/lib/python3.11/dist-packages (from torch>=1.8.0->ultralytics) (3.2.0)\n",
            "Requirement already satisfied: sympy==1.13.1 in /usr/local/lib/python3.11/dist-packages (from torch>=1.8.0->ultralytics) (1.13.1)\n",
            "Requirement already satisfied: mpmath<1.4,>=1.1.0 in /usr/local/lib/python3.11/dist-packages (from sympy==1.13.1->torch>=1.8.0->ultralytics) (1.3.0)\n",
            "Requirement already satisfied: six>=1.5 in /usr/local/lib/python3.11/dist-packages (from python-dateutil>=2.7->matplotlib>=3.3.0->ultralytics) (1.17.0)\n",
            "Requirement already satisfied: MarkupSafe>=2.0 in /usr/local/lib/python3.11/dist-packages (from jinja2->torch>=1.8.0->ultralytics) (3.0.2)\n",
            "Downloading ultralytics-8.3.100-py3-none-any.whl (977 kB)\n",
            "\u001b[2K   \u001b[90m━━━━━━━━━━━━━━━━━━━━━━━━━━━━━━━━━━━━━━━━\u001b[0m \u001b[32m977.1/977.1 kB\u001b[0m \u001b[31m58.9 MB/s\u001b[0m eta \u001b[36m0:00:00\u001b[0m\n",
            "\u001b[?25hDownloading nvidia_cublas_cu12-12.4.5.8-py3-none-manylinux2014_x86_64.whl (363.4 MB)\n",
            "\u001b[2K   \u001b[90m━━━━━━━━━━━━━━━━━━━━━━━━━━━━━━━━━━━━━━━━\u001b[0m \u001b[32m363.4/363.4 MB\u001b[0m \u001b[31m2.3 MB/s\u001b[0m eta \u001b[36m0:00:00\u001b[0m\n",
            "\u001b[?25hDownloading nvidia_cuda_cupti_cu12-12.4.127-py3-none-manylinux2014_x86_64.whl (13.8 MB)\n",
            "\u001b[2K   \u001b[90m━━━━━━━━━━━━━━━━━━━━━━━━━━━━━━━━━━━━━━━━\u001b[0m \u001b[32m13.8/13.8 MB\u001b[0m \u001b[31m108.0 MB/s\u001b[0m eta \u001b[36m0:00:00\u001b[0m\n",
            "\u001b[?25hDownloading nvidia_cuda_nvrtc_cu12-12.4.127-py3-none-manylinux2014_x86_64.whl (24.6 MB)\n",
            "\u001b[2K   \u001b[90m━━━━━━━━━━━━━━━━━━━━━━━━━━━━━━━━━━━━━━━━\u001b[0m \u001b[32m24.6/24.6 MB\u001b[0m \u001b[31m86.4 MB/s\u001b[0m eta \u001b[36m0:00:00\u001b[0m\n",
            "\u001b[?25hDownloading nvidia_cuda_runtime_cu12-12.4.127-py3-none-manylinux2014_x86_64.whl (883 kB)\n",
            "\u001b[2K   \u001b[90m━━━━━━━━━━━━━━━━━━━━━━━━━━━━━━━━━━━━━━━━\u001b[0m \u001b[32m883.7/883.7 kB\u001b[0m \u001b[31m59.0 MB/s\u001b[0m eta \u001b[36m0:00:00\u001b[0m\n",
            "\u001b[?25hDownloading nvidia_cudnn_cu12-9.1.0.70-py3-none-manylinux2014_x86_64.whl (664.8 MB)\n",
            "\u001b[2K   \u001b[90m━━━━━━━━━━━━━━━━━━━━━━━━━━━━━━━━━━━━━━━━\u001b[0m \u001b[32m664.8/664.8 MB\u001b[0m \u001b[31m1.3 MB/s\u001b[0m eta \u001b[36m0:00:00\u001b[0m\n",
            "\u001b[?25hDownloading nvidia_cufft_cu12-11.2.1.3-py3-none-manylinux2014_x86_64.whl (211.5 MB)\n",
            "\u001b[2K   \u001b[90m━━━━━━━━━━━━━━━━━━━━━━━━━━━━━━━━━━━━━━━━\u001b[0m \u001b[32m211.5/211.5 MB\u001b[0m \u001b[31m9.4 MB/s\u001b[0m eta \u001b[36m0:00:00\u001b[0m\n",
            "\u001b[?25hDownloading nvidia_curand_cu12-10.3.5.147-py3-none-manylinux2014_x86_64.whl (56.3 MB)\n",
            "\u001b[2K   \u001b[90m━━━━━━━━━━━━━━━━━━━━━━━━━━━━━━━━━━━━━━━━\u001b[0m \u001b[32m56.3/56.3 MB\u001b[0m \u001b[31m37.3 MB/s\u001b[0m eta \u001b[36m0:00:00\u001b[0m\n",
            "\u001b[?25hDownloading nvidia_cusolver_cu12-11.6.1.9-py3-none-manylinux2014_x86_64.whl (127.9 MB)\n",
            "\u001b[2K   \u001b[90m━━━━━━━━━━━━━━━━━━━━━━━━━━━━━━━━━━━━━━━━\u001b[0m \u001b[32m127.9/127.9 MB\u001b[0m \u001b[31m15.9 MB/s\u001b[0m eta \u001b[36m0:00:00\u001b[0m\n",
            "\u001b[?25hDownloading nvidia_cusparse_cu12-12.3.1.170-py3-none-manylinux2014_x86_64.whl (207.5 MB)\n",
            "\u001b[2K   \u001b[90m━━━━━━━━━━━━━━━━━━━━━━━━━━━━━━━━━━━━━━━━\u001b[0m \u001b[32m207.5/207.5 MB\u001b[0m \u001b[31m4.5 MB/s\u001b[0m eta \u001b[36m0:00:00\u001b[0m\n",
            "\u001b[?25hDownloading nvidia_nvjitlink_cu12-12.4.127-py3-none-manylinux2014_x86_64.whl (21.1 MB)\n",
            "\u001b[2K   \u001b[90m━━━━━━━━━━━━━━━━━━━━━━━━━━━━━━━━━━━━━━━━\u001b[0m \u001b[32m21.1/21.1 MB\u001b[0m \u001b[31m92.8 MB/s\u001b[0m eta \u001b[36m0:00:00\u001b[0m\n",
            "\u001b[?25hDownloading ultralytics_thop-2.0.14-py3-none-any.whl (26 kB)\n",
            "Installing collected packages: nvidia-nvjitlink-cu12, nvidia-curand-cu12, nvidia-cufft-cu12, nvidia-cuda-runtime-cu12, nvidia-cuda-nvrtc-cu12, nvidia-cuda-cupti-cu12, nvidia-cublas-cu12, nvidia-cusparse-cu12, nvidia-cudnn-cu12, nvidia-cusolver-cu12, ultralytics-thop, ultralytics\n",
            "  Attempting uninstall: nvidia-nvjitlink-cu12\n",
            "    Found existing installation: nvidia-nvjitlink-cu12 12.5.82\n",
            "    Uninstalling nvidia-nvjitlink-cu12-12.5.82:\n",
            "      Successfully uninstalled nvidia-nvjitlink-cu12-12.5.82\n",
            "  Attempting uninstall: nvidia-curand-cu12\n",
            "    Found existing installation: nvidia-curand-cu12 10.3.6.82\n",
            "    Uninstalling nvidia-curand-cu12-10.3.6.82:\n",
            "      Successfully uninstalled nvidia-curand-cu12-10.3.6.82\n",
            "  Attempting uninstall: nvidia-cufft-cu12\n",
            "    Found existing installation: nvidia-cufft-cu12 11.2.3.61\n",
            "    Uninstalling nvidia-cufft-cu12-11.2.3.61:\n",
            "      Successfully uninstalled nvidia-cufft-cu12-11.2.3.61\n",
            "  Attempting uninstall: nvidia-cuda-runtime-cu12\n",
            "    Found existing installation: nvidia-cuda-runtime-cu12 12.5.82\n",
            "    Uninstalling nvidia-cuda-runtime-cu12-12.5.82:\n",
            "      Successfully uninstalled nvidia-cuda-runtime-cu12-12.5.82\n",
            "  Attempting uninstall: nvidia-cuda-nvrtc-cu12\n",
            "    Found existing installation: nvidia-cuda-nvrtc-cu12 12.5.82\n",
            "    Uninstalling nvidia-cuda-nvrtc-cu12-12.5.82:\n",
            "      Successfully uninstalled nvidia-cuda-nvrtc-cu12-12.5.82\n",
            "  Attempting uninstall: nvidia-cuda-cupti-cu12\n",
            "    Found existing installation: nvidia-cuda-cupti-cu12 12.5.82\n",
            "    Uninstalling nvidia-cuda-cupti-cu12-12.5.82:\n",
            "      Successfully uninstalled nvidia-cuda-cupti-cu12-12.5.82\n",
            "  Attempting uninstall: nvidia-cublas-cu12\n",
            "    Found existing installation: nvidia-cublas-cu12 12.5.3.2\n",
            "    Uninstalling nvidia-cublas-cu12-12.5.3.2:\n",
            "      Successfully uninstalled nvidia-cublas-cu12-12.5.3.2\n",
            "  Attempting uninstall: nvidia-cusparse-cu12\n",
            "    Found existing installation: nvidia-cusparse-cu12 12.5.1.3\n",
            "    Uninstalling nvidia-cusparse-cu12-12.5.1.3:\n",
            "      Successfully uninstalled nvidia-cusparse-cu12-12.5.1.3\n",
            "  Attempting uninstall: nvidia-cudnn-cu12\n",
            "    Found existing installation: nvidia-cudnn-cu12 9.3.0.75\n",
            "    Uninstalling nvidia-cudnn-cu12-9.3.0.75:\n",
            "      Successfully uninstalled nvidia-cudnn-cu12-9.3.0.75\n",
            "  Attempting uninstall: nvidia-cusolver-cu12\n",
            "    Found existing installation: nvidia-cusolver-cu12 11.6.3.83\n",
            "    Uninstalling nvidia-cusolver-cu12-11.6.3.83:\n",
            "      Successfully uninstalled nvidia-cusolver-cu12-11.6.3.83\n",
            "Successfully installed nvidia-cublas-cu12-12.4.5.8 nvidia-cuda-cupti-cu12-12.4.127 nvidia-cuda-nvrtc-cu12-12.4.127 nvidia-cuda-runtime-cu12-12.4.127 nvidia-cudnn-cu12-9.1.0.70 nvidia-cufft-cu12-11.2.1.3 nvidia-curand-cu12-10.3.5.147 nvidia-cusolver-cu12-11.6.1.9 nvidia-cusparse-cu12-12.3.1.170 nvidia-nvjitlink-cu12-12.4.127 ultralytics-8.3.100 ultralytics-thop-2.0.14\n"
          ]
        }
      ]
    },
    {
      "cell_type": "code",
      "source": [
        "!pip install loguru\n"
      ],
      "metadata": {
        "colab": {
          "base_uri": "https://localhost:8080/"
        },
        "id": "qWacnh1Iy-vX",
        "outputId": "1812aabe-3b60-4030-e37f-4aff8fb7bf8d"
      },
      "execution_count": 2,
      "outputs": [
        {
          "output_type": "stream",
          "name": "stdout",
          "text": [
            "Collecting loguru\n",
            "  Downloading loguru-0.7.3-py3-none-any.whl.metadata (22 kB)\n",
            "Downloading loguru-0.7.3-py3-none-any.whl (61 kB)\n",
            "\u001b[?25l   \u001b[90m━━━━━━━━━━━━━━━━━━━━━━━━━━━━━━━━━━━━━━━━\u001b[0m \u001b[32m0.0/61.6 kB\u001b[0m \u001b[31m?\u001b[0m eta \u001b[36m-:--:--\u001b[0m\r\u001b[2K   \u001b[90m━━━━━━━━━━━━━━━━━━━━━━━━━━━━━━━━━━━━━━━━\u001b[0m \u001b[32m61.6/61.6 kB\u001b[0m \u001b[31m5.1 MB/s\u001b[0m eta \u001b[36m0:00:00\u001b[0m\n",
            "\u001b[?25hInstalling collected packages: loguru\n",
            "Successfully installed loguru-0.7.3\n"
          ]
        }
      ]
    },
    {
      "cell_type": "code",
      "execution_count": 3,
      "metadata": {
        "colab": {
          "base_uri": "https://localhost:8080/"
        },
        "id": "URZNgC5hyTbY",
        "outputId": "86610a8a-2550-4c27-be90-2993fbf12651"
      },
      "outputs": [
        {
          "output_type": "stream",
          "name": "stdout",
          "text": [
            "Creating new Ultralytics Settings v0.0.6 file ✅ \n",
            "View Ultralytics Settings with 'yolo settings' or at '/root/.config/Ultralytics/settings.json'\n",
            "Update Settings with 'yolo settings key=value', i.e. 'yolo settings runs_dir=path/to/dir'. For help see https://docs.ultralytics.com/quickstart/#ultralytics-settings.\n"
          ]
        }
      ],
      "source": [
        "import argparse\n",
        "from collections import defaultdict\n",
        "import cv2\n",
        "import numpy as np\n",
        "from tqdm import tqdm\n",
        "from ultralytics import YOLO\n",
        "from loguru import logger\n"
      ]
    },
    {
      "cell_type": "code",
      "source": [
        "def load_config():\n",
        "    \"\"\" Load and return configuration settings \"\"\"\n",
        "    return {\n",
        "        \"model_path\": \"yolo11x.pt\",\n",
        "        \"track_history_length\": 120,\n",
        "        \"batch_size\": 64,\n",
        "        \"line_thickness\": 4,\n",
        "        \"track_color\": (230, 230, 230),\n",
        "    }\n",
        "\n",
        "def initialize_video(video_path):\n",
        "    \"\"\" Initialize video capture and writer objects \"\"\"\n",
        "    cap = cv2.VideoCapture(video_path)\n",
        "    width = int(cap.get(cv2.CAP_PROP_FRAME_WIDTH))\n",
        "    height = int(cap.get(cv2.CAP_PROP_FRAME_HEIGHT))\n",
        "    fps = int(cap.get(cv2.CAP_PROP_FPS))\n",
        "\n",
        "    video_name = video_path.split(\"/\")[-1]\n",
        "    output_path = f\"run/{video_name.split('.')[0]}_tracked.mp4\"\n",
        "    fourcc = cv2.VideoWriter_fourcc(*\"mp4v\")\n",
        "    out = cv2.VideoWriter(output_path, fourcc, fps, (width, height))\n",
        "\n",
        "    return cap, out, output_path\n"
      ],
      "metadata": {
        "id": "NUfyLRKey5Wr"
      },
      "execution_count": 4,
      "outputs": []
    },
    {
      "cell_type": "code",
      "source": [
        "def update_track_history(\n",
        "    track_history,\n",
        "    last_seen,\n",
        "    track_ids,\n",
        "    frame_count,\n",
        "    batch_size,\n",
        "    frame_idx,\n",
        "    history_length,\n",
        "):\n",
        "    \"\"\" Update tracking history and remove old tracks \"\"\"\n",
        "    current_tracks = set(track_ids)\n",
        "    for track_id in list(track_history.keys()):\n",
        "        if track_id in current_tracks:\n",
        "            last_seen[track_id] = frame_count - (batch_size - frame_idx - 1)\n",
        "        elif frame_count - last_seen[track_id] > history_length:\n",
        "            del track_history[track_id]\n",
        "            del last_seen[track_id]\n"
      ],
      "metadata": {
        "id": "4VG9A9uJzMhf"
      },
      "execution_count": 5,
      "outputs": []
    },
    {
      "cell_type": "code",
      "source": [
        "def draw_tracks(frame, boxes, track_ids, track_history, config):\n",
        "    \"\"\" Draw tracking lines on frame \"\"\"\n",
        "    if not track_ids:\n",
        "        return frame\n",
        "\n",
        "    for box, track_id in zip(boxes, track_ids):\n",
        "        x, y, w, h = box\n",
        "        track = track_history[track_id]\n",
        "        track.append((float(x), float(y)))\n",
        "        if len(track) > config[\"track_history_length\"]:\n",
        "            track.pop(0)\n",
        "\n",
        "        points = np.hstack(track).astype(np.int32).reshape((-1, 1, 2))\n",
        "        cv2.polylines(\n",
        "            frame,\n",
        "            [points],\n",
        "            isClosed=False,\n",
        "            color=config[\"track_color\"],\n",
        "            thickness=config[\"line_thickness\"],\n",
        "        )\n",
        "    return frame\n"
      ],
      "metadata": {
        "id": "VjlhgUiczUhL"
      },
      "execution_count": 6,
      "outputs": []
    },
    {
      "cell_type": "code",
      "source": [
        "def process_batch(model, batch_frames, track_history, last_seen, frame_count, config):\n",
        "    \"\"\" Process a batch of frames through YOLO model \"\"\"\n",
        "    results = model.track(\n",
        "        batch_frames,\n",
        "        persist=True,\n",
        "        tracker=\"botsort.yaml\",\n",
        "        show=False,\n",
        "        verbose=False,\n",
        "        iou=0.5,\n",
        "    )\n",
        "\n",
        "    processed_frames = []\n",
        "    for frame_idx, result in enumerate(results):\n",
        "        boxes = result.boxes.xywh.cpu()\n",
        "        track_ids = (\n",
        "            result.boxes.id.int().cpu().tolist() if result.boxes.id is not None\n",
        "            else []\n",
        "        )\n",
        "\n",
        "        update_track_history(\n",
        "            track_history,\n",
        "            last_seen,\n",
        "            track_ids,\n",
        "            frame_count,\n",
        "            len(batch_frames),\n",
        "            frame_idx,\n",
        "            config[\"track_history_length\"],\n",
        "        )\n",
        "\n",
        "        annotated_frame = result.plot(font_size=4, line_width=2)\n",
        "        annotated_frame = draw_tracks(\n",
        "            annotated_frame, boxes, track_ids, track_history, config\n",
        "        )\n",
        "        processed_frames.append(annotated_frame)\n",
        "\n",
        "    return processed_frames\n"
      ],
      "metadata": {
        "id": "Lzd1VNtCzlXb"
      },
      "execution_count": 7,
      "outputs": []
    },
    {
      "cell_type": "code",
      "source": [
        "def main(video_path):\n",
        "    \"\"\" Main function to process video \"\"\"\n",
        "    CONFIG = load_config()\n",
        "    model = YOLO(CONFIG.get(\"model_path\", \"yolo11x.pt\"))\n",
        "\n",
        "    cap, out, output_path = initialize_video(video_path)\n",
        "    track_history = defaultdict(lambda: [])\n",
        "    last_seen = defaultdict(int)\n",
        "    total_frames = int(cap.get(cv2.CAP_PROP_FRAME_COUNT))\n",
        "\n",
        "    with tqdm(\n",
        "        total=total_frames,\n",
        "        desc=\"Processing frames\",\n",
        "        colour=\"green\",\n",
        "    ) as pbar:\n",
        "        frame_count = 0\n",
        "        batch_frames = []\n",
        "\n",
        "        while cap.isOpened():\n",
        "            success, frame = cap.read()\n",
        "            if not success:\n",
        "                break\n",
        "\n",
        "            frame_count += 1\n",
        "            batch_frames.append(frame)\n",
        "\n",
        "            if len(batch_frames) == CONFIG[\"batch_size\"] or frame_count == total_frames:\n",
        "                try:\n",
        "                    processed_frames = process_batch(\n",
        "                        model,\n",
        "                        batch_frames,\n",
        "                        track_history,\n",
        "                        last_seen,\n",
        "                        frame_count,\n",
        "                        CONFIG,\n",
        "                    )\n",
        "                    for frame in processed_frames:\n",
        "                        out.write(frame)\n",
        "                        pbar.update(1)\n",
        "                    batch_frames = []\n",
        "\n",
        "                except Exception as e:\n",
        "                    logger.error(\n",
        "                        f\"Error when handling frames {frame_count - len(batch_frames) + 1} to {frame_count}: {str(e)}\"\n",
        "                    )\n",
        "                    batch_frames = []\n",
        "                    continue\n",
        "\n",
        "    try:\n",
        "        cap.release()\n",
        "        out.release()\n",
        "        cv2.destroyAllWindows()\n",
        "        logger.info(f\"\\nVideo has been saved to {output_path}\")\n",
        "    except Exception as e:\n",
        "        logger.error(f\"Error during cleanup: {str(e)}\")\n",
        "\n",
        "\n",
        "# Gọi trực tiếp hàm main với video path\n",
        "video_path = \"/content/vietnam-2.mp4\"  # Thay đổi đường dẫn video tại đây\n",
        "main(video_path)\n"
      ],
      "metadata": {
        "colab": {
          "base_uri": "https://localhost:8080/"
        },
        "id": "KuIvA_6MzzrB",
        "outputId": "af83e35c-a74a-41b3-cb8b-458324493518"
      },
      "execution_count": 10,
      "outputs": [
        {
          "output_type": "stream",
          "name": "stderr",
          "text": [
            "\rProcessing frames:   0%|\u001b[32m          \u001b[0m| 0/780 [00:00<?, ?it/s]"
          ]
        },
        {
          "output_type": "stream",
          "name": "stdout",
          "text": [
            "\u001b[31m\u001b[1mrequirements:\u001b[0m Ultralytics requirement ['lap>=0.5.12'] not found, attempting AutoUpdate...\n",
            "Collecting lap>=0.5.12\n",
            "  Downloading lap-0.5.12-cp311-cp311-manylinux_2_5_x86_64.manylinux1_x86_64.manylinux_2_17_x86_64.manylinux2014_x86_64.whl.metadata (6.2 kB)\n",
            "Requirement already satisfied: numpy>=1.21.6 in /usr/local/lib/python3.11/dist-packages (from lap>=0.5.12) (2.0.2)\n",
            "Downloading lap-0.5.12-cp311-cp311-manylinux_2_5_x86_64.manylinux1_x86_64.manylinux_2_17_x86_64.manylinux2014_x86_64.whl (1.7 MB)\n",
            "   ━━━━━━━━━━━━━━━━━━━━━━━━━━━━━━━━━━━━━━━━ 1.7/1.7 MB 167.0 MB/s eta 0:00:00\n",
            "Installing collected packages: lap\n",
            "Successfully installed lap-0.5.12\n",
            "\n",
            "\u001b[31m\u001b[1mrequirements:\u001b[0m AutoUpdate success ✅ 2.3s, installed 1 package: ['lap>=0.5.12']\n",
            "\u001b[31m\u001b[1mrequirements:\u001b[0m ⚠️ \u001b[1mRestart runtime or rerun command for updates to take effect\u001b[0m\n",
            "\n"
          ]
        },
        {
          "output_type": "stream",
          "name": "stderr",
          "text": [
            "Processing frames: 100%|\u001b[32m██████████\u001b[0m| 780/780 [00:57<00:00, 13.64it/s]\n",
            "\u001b[32m2025-04-03 10:08:07.144\u001b[0m | \u001b[1mINFO    \u001b[0m | \u001b[36m__main__\u001b[0m:\u001b[36mmain\u001b[0m:\u001b[36m53\u001b[0m - \u001b[1m\n",
            "Video has been saved to run/vietnam-2_tracked.mp4\u001b[0m\n"
          ]
        }
      ]
    },
    {
      "cell_type": "code",
      "source": [
        "import os\n",
        "\n",
        "# Đảm bảo thư mục 'run' đã tồn tại\n",
        "output_dir = \"/content/run/\"\n",
        "os.makedirs(output_dir, exist_ok=True)\n",
        "\n",
        "# Đường dẫn tệp video đầu ra\n",
        "output_path = os.path.join(output_dir, \"vietnam-2_tracked.mp4\")\n",
        "print(f\"Video will be saved to: {output_path}\")\n"
      ],
      "metadata": {
        "colab": {
          "base_uri": "https://localhost:8080/"
        },
        "id": "E91YMbeUIMeg",
        "outputId": "904c5645-8ce2-4f43-bfa2-79ecb006a5ff"
      },
      "execution_count": 11,
      "outputs": [
        {
          "output_type": "stream",
          "name": "stdout",
          "text": [
            "Video will be saved to: /content/run/vietnam-2_tracked.mp4\n"
          ]
        }
      ]
    },
    {
      "cell_type": "code",
      "source": [
        "!ls /content/run/\n"
      ],
      "metadata": {
        "id": "U-PtXQ-RIRy4"
      },
      "execution_count": 12,
      "outputs": []
    },
    {
      "cell_type": "code",
      "source": [
        "from ultralytics import YOLO\n",
        "import cv2\n",
        "from tqdm import tqdm\n",
        "import os\n",
        "\n",
        "# Tải mô hình YOLO\n",
        "model = YOLO('yolo11x.pt')\n",
        "\n",
        "# Đọc video\n",
        "video_path = '/content/vietnam-2.mp4'\n",
        "cap = cv2.VideoCapture(video_path)\n",
        "\n",
        "# Đọc và xử lý video\n",
        "output_dir = '/content/run/'\n",
        "os.makedirs(output_dir, exist_ok=True)\n",
        "\n",
        "output_path = f\"{output_dir}/vietnam-2_tracked.mp4\"\n",
        "fourcc = cv2.VideoWriter_fourcc(*'mp4v')\n",
        "fps = cap.get(cv2.CAP_PROP_FPS)\n",
        "width = int(cap.get(cv2.CAP_PROP_FRAME_WIDTH))\n",
        "height = int(cap.get(cv2.CAP_PROP_FRAME_HEIGHT))\n",
        "\n",
        "out = cv2.VideoWriter(output_path, fourcc, fps, (width, height))\n",
        "\n",
        "# Tiến hành xử lý video\n",
        "with tqdm(total=int(cap.get(cv2.CAP_PROP_FRAME_COUNT)), desc=\"Processing frames\", colour=\"green\") as pbar:\n",
        "    while cap.isOpened():\n",
        "        ret, frame = cap.read()\n",
        "        if not ret:\n",
        "            break\n",
        "\n",
        "        # Xử lý frame bằng YOLO\n",
        "        results = model.track(frame, persist=True, show=False)\n",
        "\n",
        "        # Ghi video đã xử lý\n",
        "        out.write(results[0].plot())\n",
        "        pbar.update(1)\n",
        "\n",
        "cap.release()\n",
        "out.release()\n",
        "\n",
        "print(f\"Video has been saved to {output_path}\")\n"
      ],
      "metadata": {
        "colab": {
          "base_uri": "https://localhost:8080/"
        },
        "id": "sXj8L9ZjFx8a",
        "outputId": "e1d8ec6b-1da7-4724-8c3a-704f58a5b8f3"
      },
      "execution_count": 13,
      "outputs": [
        {
          "output_type": "stream",
          "name": "stderr",
          "text": [
            "\rProcessing frames:   0%|\u001b[32m          \u001b[0m| 0/780 [00:00<?, ?it/s]"
          ]
        },
        {
          "output_type": "stream",
          "name": "stdout",
          "text": [
            "\n",
            "0: 384x640 19 persons, 4 cars, 26 motorcycles, 1 bus, 2 trucks, 1 stop sign, 1 backpack, 72.6ms\n",
            "Speed: 2.5ms preprocess, 72.6ms inference, 1.8ms postprocess per image at shape (1, 3, 384, 640)\n"
          ]
        },
        {
          "output_type": "stream",
          "name": "stderr",
          "text": [
            "\rProcessing frames:   0%|\u001b[32m          \u001b[0m| 1/780 [00:00<12:09,  1.07it/s]"
          ]
        },
        {
          "output_type": "stream",
          "name": "stdout",
          "text": [
            "\n",
            "0: 384x640 19 persons, 4 cars, 26 motorcycles, 1 bus, 2 trucks, 1 stop sign, 1 backpack, 21.6ms\n",
            "Speed: 2.6ms preprocess, 21.6ms inference, 1.5ms postprocess per image at shape (1, 3, 384, 640)\n"
          ]
        },
        {
          "output_type": "stream",
          "name": "stderr",
          "text": [
            "\rProcessing frames:   0%|\u001b[32m          \u001b[0m| 2/780 [00:01<05:59,  2.17it/s]"
          ]
        },
        {
          "output_type": "stream",
          "name": "stdout",
          "text": [
            "\n",
            "0: 384x640 18 persons, 4 cars, 26 motorcycles, 1 bus, 2 trucks, 1 stop sign, 1 backpack, 21.2ms\n",
            "Speed: 2.5ms preprocess, 21.2ms inference, 1.5ms postprocess per image at shape (1, 3, 384, 640)\n"
          ]
        },
        {
          "output_type": "stream",
          "name": "stderr",
          "text": [
            "\rProcessing frames:   0%|\u001b[32m          \u001b[0m| 3/780 [00:01<03:57,  3.27it/s]"
          ]
        },
        {
          "output_type": "stream",
          "name": "stdout",
          "text": [
            "\n",
            "0: 384x640 18 persons, 4 cars, 25 motorcycles, 1 bus, 2 trucks, 1 stop sign, 1 backpack, 21.0ms\n",
            "Speed: 2.5ms preprocess, 21.0ms inference, 1.5ms postprocess per image at shape (1, 3, 384, 640)\n"
          ]
        },
        {
          "output_type": "stream",
          "name": "stderr",
          "text": [
            "\rProcessing frames:   1%|\u001b[32m          \u001b[0m| 4/780 [00:01<02:59,  4.31it/s]"
          ]
        },
        {
          "output_type": "stream",
          "name": "stdout",
          "text": [
            "\n",
            "0: 384x640 18 persons, 4 cars, 25 motorcycles, 2 buss, 2 trucks, 1 stop sign, 1 backpack, 21.0ms\n",
            "Speed: 2.5ms preprocess, 21.0ms inference, 1.5ms postprocess per image at shape (1, 3, 384, 640)\n"
          ]
        },
        {
          "output_type": "stream",
          "name": "stderr",
          "text": [
            "\rProcessing frames:   1%|\u001b[32m          \u001b[0m| 5/780 [00:01<02:27,  5.25it/s]"
          ]
        },
        {
          "output_type": "stream",
          "name": "stdout",
          "text": [
            "\n",
            "0: 384x640 20 persons, 4 cars, 25 motorcycles, 2 buss, 2 trucks, 1 stop sign, 1 backpack, 20.9ms\n",
            "Speed: 2.5ms preprocess, 20.9ms inference, 1.5ms postprocess per image at shape (1, 3, 384, 640)\n"
          ]
        },
        {
          "output_type": "stream",
          "name": "stderr",
          "text": [
            "\rProcessing frames:   1%|\u001b[32m          \u001b[0m| 6/780 [00:01<02:08,  6.01it/s]"
          ]
        },
        {
          "output_type": "stream",
          "name": "stdout",
          "text": [
            "\n",
            "0: 384x640 19 persons, 4 cars, 28 motorcycles, 2 buss, 2 trucks, 1 stop sign, 1 backpack, 22.9ms\n",
            "Speed: 3.7ms preprocess, 22.9ms inference, 1.5ms postprocess per image at shape (1, 3, 384, 640)\n"
          ]
        },
        {
          "output_type": "stream",
          "name": "stderr",
          "text": [
            "\rProcessing frames:   1%|\u001b[32m          \u001b[0m| 7/780 [00:01<01:58,  6.54it/s]"
          ]
        },
        {
          "output_type": "stream",
          "name": "stdout",
          "text": [
            "\n",
            "0: 384x640 19 persons, 4 cars, 28 motorcycles, 2 buss, 2 trucks, 1 stop sign, 1 backpack, 20.8ms\n",
            "Speed: 2.5ms preprocess, 20.8ms inference, 1.5ms postprocess per image at shape (1, 3, 384, 640)\n"
          ]
        },
        {
          "output_type": "stream",
          "name": "stderr",
          "text": [
            "\rProcessing frames:   1%|\u001b[32m          \u001b[0m| 8/780 [00:01<01:50,  7.01it/s]"
          ]
        },
        {
          "output_type": "stream",
          "name": "stdout",
          "text": [
            "\n",
            "0: 384x640 19 persons, 3 cars, 28 motorcycles, 1 bus, 1 truck, 1 stop sign, 1 backpack, 21.1ms\n",
            "Speed: 2.4ms preprocess, 21.1ms inference, 1.5ms postprocess per image at shape (1, 3, 384, 640)\n"
          ]
        },
        {
          "output_type": "stream",
          "name": "stderr",
          "text": [
            "\rProcessing frames:   1%|\u001b[32m          \u001b[0m| 9/780 [00:01<01:44,  7.38it/s]"
          ]
        },
        {
          "output_type": "stream",
          "name": "stdout",
          "text": [
            "\n",
            "0: 384x640 19 persons, 3 cars, 29 motorcycles, 1 bus, 2 trucks, 1 stop sign, 1 backpack, 22.2ms\n",
            "Speed: 2.5ms preprocess, 22.2ms inference, 1.5ms postprocess per image at shape (1, 3, 384, 640)\n"
          ]
        },
        {
          "output_type": "stream",
          "name": "stderr",
          "text": [
            "\rProcessing frames:   1%|\u001b[32m▏         \u001b[0m| 10/780 [00:02<01:41,  7.59it/s]"
          ]
        },
        {
          "output_type": "stream",
          "name": "stdout",
          "text": [
            "\n",
            "0: 384x640 19 persons, 3 cars, 30 motorcycles, 1 bus, 2 trucks, 1 stop sign, 1 backpack, 20.9ms\n",
            "Speed: 2.5ms preprocess, 20.9ms inference, 1.7ms postprocess per image at shape (1, 3, 384, 640)\n"
          ]
        },
        {
          "output_type": "stream",
          "name": "stderr",
          "text": [
            "\rProcessing frames:   1%|\u001b[32m▏         \u001b[0m| 11/780 [00:02<01:38,  7.78it/s]"
          ]
        },
        {
          "output_type": "stream",
          "name": "stdout",
          "text": [
            "\n",
            "0: 384x640 20 persons, 3 cars, 29 motorcycles, 2 buss, 1 truck, 1 stop sign, 1 backpack, 20.9ms\n",
            "Speed: 2.5ms preprocess, 20.9ms inference, 1.5ms postprocess per image at shape (1, 3, 384, 640)\n"
          ]
        },
        {
          "output_type": "stream",
          "name": "stderr",
          "text": [
            "\rProcessing frames:   2%|\u001b[32m▏         \u001b[0m| 12/780 [00:02<01:37,  7.88it/s]"
          ]
        },
        {
          "output_type": "stream",
          "name": "stdout",
          "text": [
            "\n",
            "0: 384x640 20 persons, 3 cars, 28 motorcycles, 2 buss, 1 truck, 1 stop sign, 1 backpack, 21.9ms\n",
            "Speed: 2.5ms preprocess, 21.9ms inference, 1.5ms postprocess per image at shape (1, 3, 384, 640)\n"
          ]
        },
        {
          "output_type": "stream",
          "name": "stderr",
          "text": [
            "\rProcessing frames:   2%|\u001b[32m▏         \u001b[0m| 13/780 [00:02<01:36,  7.91it/s]"
          ]
        },
        {
          "output_type": "stream",
          "name": "stdout",
          "text": [
            "\n",
            "0: 384x640 20 persons, 3 cars, 28 motorcycles, 2 buss, 1 truck, 1 stop sign, 1 backpack, 20.7ms\n",
            "Speed: 2.4ms preprocess, 20.7ms inference, 1.5ms postprocess per image at shape (1, 3, 384, 640)\n"
          ]
        },
        {
          "output_type": "stream",
          "name": "stderr",
          "text": [
            "\rProcessing frames:   2%|\u001b[32m▏         \u001b[0m| 14/780 [00:02<01:35,  8.04it/s]"
          ]
        },
        {
          "output_type": "stream",
          "name": "stdout",
          "text": [
            "\n",
            "0: 384x640 19 persons, 3 cars, 27 motorcycles, 2 buss, 1 truck, 1 stop sign, 1 backpack, 21.7ms\n",
            "Speed: 2.5ms preprocess, 21.7ms inference, 1.5ms postprocess per image at shape (1, 3, 384, 640)\n"
          ]
        },
        {
          "output_type": "stream",
          "name": "stderr",
          "text": [
            "\rProcessing frames:   2%|\u001b[32m▏         \u001b[0m| 15/780 [00:02<01:34,  8.11it/s]"
          ]
        },
        {
          "output_type": "stream",
          "name": "stdout",
          "text": [
            "\n",
            "0: 384x640 19 persons, 3 cars, 27 motorcycles, 2 buss, 1 truck, 1 stop sign, 1 backpack, 20.5ms\n",
            "Speed: 2.4ms preprocess, 20.5ms inference, 1.6ms postprocess per image at shape (1, 3, 384, 640)\n"
          ]
        },
        {
          "output_type": "stream",
          "name": "stderr",
          "text": [
            "\rProcessing frames:   2%|\u001b[32m▏         \u001b[0m| 16/780 [00:02<01:33,  8.19it/s]"
          ]
        },
        {
          "output_type": "stream",
          "name": "stdout",
          "text": [
            "\n",
            "0: 384x640 19 persons, 3 cars, 27 motorcycles, 2 buss, 1 truck, 1 stop sign, 1 backpack, 20.7ms\n",
            "Speed: 2.7ms preprocess, 20.7ms inference, 1.5ms postprocess per image at shape (1, 3, 384, 640)\n"
          ]
        },
        {
          "output_type": "stream",
          "name": "stderr",
          "text": [
            "\rProcessing frames:   2%|\u001b[32m▏         \u001b[0m| 17/780 [00:02<01:32,  8.24it/s]"
          ]
        },
        {
          "output_type": "stream",
          "name": "stdout",
          "text": [
            "\n",
            "0: 384x640 19 persons, 3 cars, 27 motorcycles, 2 buss, 1 truck, 1 stop sign, 1 backpack, 20.6ms\n",
            "Speed: 2.6ms preprocess, 20.6ms inference, 1.4ms postprocess per image at shape (1, 3, 384, 640)\n"
          ]
        },
        {
          "output_type": "stream",
          "name": "stderr",
          "text": [
            "\rProcessing frames:   2%|\u001b[32m▏         \u001b[0m| 18/780 [00:02<01:31,  8.28it/s]"
          ]
        },
        {
          "output_type": "stream",
          "name": "stdout",
          "text": [
            "\n",
            "0: 384x640 19 persons, 3 cars, 25 motorcycles, 2 buss, 1 truck, 1 stop sign, 1 backpack, 22.5ms\n",
            "Speed: 3.7ms preprocess, 22.5ms inference, 1.5ms postprocess per image at shape (1, 3, 384, 640)\n"
          ]
        },
        {
          "output_type": "stream",
          "name": "stderr",
          "text": [
            "\rProcessing frames:   2%|\u001b[32m▏         \u001b[0m| 19/780 [00:03<01:32,  8.26it/s]"
          ]
        },
        {
          "output_type": "stream",
          "name": "stdout",
          "text": [
            "\n",
            "0: 384x640 19 persons, 4 cars, 25 motorcycles, 2 buss, 1 truck, 1 stop sign, 1 backpack, 20.6ms\n",
            "Speed: 2.5ms preprocess, 20.6ms inference, 1.5ms postprocess per image at shape (1, 3, 384, 640)\n"
          ]
        },
        {
          "output_type": "stream",
          "name": "stderr",
          "text": [
            "\rProcessing frames:   3%|\u001b[32m▎         \u001b[0m| 20/780 [00:03<01:31,  8.30it/s]"
          ]
        },
        {
          "output_type": "stream",
          "name": "stdout",
          "text": [
            "\n",
            "0: 384x640 19 persons, 4 cars, 26 motorcycles, 1 bus, 2 trucks, 1 stop sign, 1 backpack, 20.5ms\n",
            "Speed: 2.5ms preprocess, 20.5ms inference, 1.5ms postprocess per image at shape (1, 3, 384, 640)\n"
          ]
        },
        {
          "output_type": "stream",
          "name": "stderr",
          "text": [
            "\rProcessing frames:   3%|\u001b[32m▎         \u001b[0m| 21/780 [00:03<01:31,  8.29it/s]"
          ]
        },
        {
          "output_type": "stream",
          "name": "stdout",
          "text": [
            "\n",
            "0: 384x640 19 persons, 4 cars, 26 motorcycles, 1 bus, 2 trucks, 1 stop sign, 1 backpack, 20.4ms\n",
            "Speed: 2.5ms preprocess, 20.4ms inference, 1.5ms postprocess per image at shape (1, 3, 384, 640)\n"
          ]
        },
        {
          "output_type": "stream",
          "name": "stderr",
          "text": [
            "\rProcessing frames:   3%|\u001b[32m▎         \u001b[0m| 22/780 [00:03<01:30,  8.35it/s]"
          ]
        },
        {
          "output_type": "stream",
          "name": "stdout",
          "text": [
            "\n",
            "0: 384x640 19 persons, 4 cars, 28 motorcycles, 2 buss, 2 trucks, 1 stop sign, 1 backpack, 20.5ms\n",
            "Speed: 2.4ms preprocess, 20.5ms inference, 1.4ms postprocess per image at shape (1, 3, 384, 640)\n"
          ]
        },
        {
          "output_type": "stream",
          "name": "stderr",
          "text": [
            "\rProcessing frames:   3%|\u001b[32m▎         \u001b[0m| 23/780 [00:03<01:30,  8.33it/s]"
          ]
        },
        {
          "output_type": "stream",
          "name": "stdout",
          "text": [
            "\n",
            "0: 384x640 18 persons, 4 cars, 28 motorcycles, 2 buss, 2 trucks, 1 stop sign, 1 backpack, 20.6ms\n",
            "Speed: 2.4ms preprocess, 20.6ms inference, 1.5ms postprocess per image at shape (1, 3, 384, 640)\n"
          ]
        },
        {
          "output_type": "stream",
          "name": "stderr",
          "text": [
            "\rProcessing frames:   3%|\u001b[32m▎         \u001b[0m| 24/780 [00:03<01:30,  8.32it/s]"
          ]
        },
        {
          "output_type": "stream",
          "name": "stdout",
          "text": [
            "\n",
            "0: 384x640 18 persons, 4 cars, 28 motorcycles, 3 buss, 2 trucks, 1 stop sign, 1 backpack, 20.6ms\n",
            "Speed: 2.4ms preprocess, 20.6ms inference, 1.5ms postprocess per image at shape (1, 3, 384, 640)\n"
          ]
        },
        {
          "output_type": "stream",
          "name": "stderr",
          "text": [
            "\rProcessing frames:   3%|\u001b[32m▎         \u001b[0m| 25/780 [00:03<01:31,  8.26it/s]"
          ]
        },
        {
          "output_type": "stream",
          "name": "stdout",
          "text": [
            "\n",
            "0: 384x640 18 persons, 4 cars, 28 motorcycles, 2 buss, 3 trucks, 1 stop sign, 1 backpack, 20.6ms\n",
            "Speed: 2.4ms preprocess, 20.6ms inference, 1.5ms postprocess per image at shape (1, 3, 384, 640)\n"
          ]
        },
        {
          "output_type": "stream",
          "name": "stderr",
          "text": [
            "\rProcessing frames:   3%|\u001b[32m▎         \u001b[0m| 26/780 [00:03<01:31,  8.26it/s]"
          ]
        },
        {
          "output_type": "stream",
          "name": "stdout",
          "text": [
            "\n",
            "0: 384x640 18 persons, 4 cars, 28 motorcycles, 2 buss, 3 trucks, 1 stop sign, 1 backpack, 20.7ms\n",
            "Speed: 2.4ms preprocess, 20.7ms inference, 1.4ms postprocess per image at shape (1, 3, 384, 640)\n"
          ]
        },
        {
          "output_type": "stream",
          "name": "stderr",
          "text": [
            "\rProcessing frames:   3%|\u001b[32m▎         \u001b[0m| 27/780 [00:04<01:31,  8.26it/s]"
          ]
        },
        {
          "output_type": "stream",
          "name": "stdout",
          "text": [
            "\n",
            "0: 384x640 19 persons, 4 cars, 28 motorcycles, 3 buss, 3 trucks, 1 stop sign, 1 backpack, 21.0ms\n",
            "Speed: 2.5ms preprocess, 21.0ms inference, 1.5ms postprocess per image at shape (1, 3, 384, 640)\n"
          ]
        },
        {
          "output_type": "stream",
          "name": "stderr",
          "text": [
            "\rProcessing frames:   4%|\u001b[32m▎         \u001b[0m| 28/780 [00:04<01:31,  8.21it/s]"
          ]
        },
        {
          "output_type": "stream",
          "name": "stdout",
          "text": [
            "\n",
            "0: 384x640 19 persons, 4 cars, 28 motorcycles, 3 buss, 3 trucks, 1 stop sign, 1 backpack, 21.7ms\n",
            "Speed: 2.6ms preprocess, 21.7ms inference, 1.5ms postprocess per image at shape (1, 3, 384, 640)\n"
          ]
        },
        {
          "output_type": "stream",
          "name": "stderr",
          "text": [
            "\rProcessing frames:   4%|\u001b[32m▎         \u001b[0m| 29/780 [00:04<01:32,  8.10it/s]"
          ]
        },
        {
          "output_type": "stream",
          "name": "stdout",
          "text": [
            "\n",
            "0: 384x640 19 persons, 4 cars, 26 motorcycles, 3 buss, 3 trucks, 1 stop sign, 1 backpack, 21.1ms\n",
            "Speed: 2.6ms preprocess, 21.1ms inference, 1.5ms postprocess per image at shape (1, 3, 384, 640)\n"
          ]
        },
        {
          "output_type": "stream",
          "name": "stderr",
          "text": [
            "\rProcessing frames:   4%|\u001b[32m▍         \u001b[0m| 30/780 [00:04<01:32,  8.14it/s]"
          ]
        },
        {
          "output_type": "stream",
          "name": "stdout",
          "text": [
            "\n",
            "0: 384x640 19 persons, 4 cars, 27 motorcycles, 3 buss, 2 trucks, 1 stop sign, 1 backpack, 23.1ms\n",
            "Speed: 3.7ms preprocess, 23.1ms inference, 1.6ms postprocess per image at shape (1, 3, 384, 640)\n"
          ]
        },
        {
          "output_type": "stream",
          "name": "stderr",
          "text": [
            "\rProcessing frames:   4%|\u001b[32m▍         \u001b[0m| 31/780 [00:04<01:32,  8.10it/s]"
          ]
        },
        {
          "output_type": "stream",
          "name": "stdout",
          "text": [
            "\n",
            "0: 384x640 19 persons, 4 cars, 28 motorcycles, 2 buss, 3 trucks, 1 stop sign, 1 backpack, 21.7ms\n",
            "Speed: 2.4ms preprocess, 21.7ms inference, 1.5ms postprocess per image at shape (1, 3, 384, 640)\n"
          ]
        },
        {
          "output_type": "stream",
          "name": "stderr",
          "text": [
            "\rProcessing frames:   4%|\u001b[32m▍         \u001b[0m| 32/780 [00:04<01:32,  8.07it/s]"
          ]
        },
        {
          "output_type": "stream",
          "name": "stdout",
          "text": [
            "\n",
            "0: 384x640 18 persons, 4 cars, 28 motorcycles, 2 buss, 3 trucks, 1 stop sign, 1 backpack, 21.1ms\n",
            "Speed: 2.5ms preprocess, 21.1ms inference, 1.5ms postprocess per image at shape (1, 3, 384, 640)\n"
          ]
        },
        {
          "output_type": "stream",
          "name": "stderr",
          "text": [
            "\rProcessing frames:   4%|\u001b[32m▍         \u001b[0m| 33/780 [00:04<01:33,  8.03it/s]"
          ]
        },
        {
          "output_type": "stream",
          "name": "stdout",
          "text": [
            "\n",
            "0: 384x640 18 persons, 4 cars, 28 motorcycles, 2 buss, 3 trucks, 1 stop sign, 1 backpack, 22.5ms\n",
            "Speed: 2.5ms preprocess, 22.5ms inference, 1.5ms postprocess per image at shape (1, 3, 384, 640)\n"
          ]
        },
        {
          "output_type": "stream",
          "name": "stderr",
          "text": [
            "\rProcessing frames:   4%|\u001b[32m▍         \u001b[0m| 34/780 [00:04<01:32,  8.04it/s]"
          ]
        },
        {
          "output_type": "stream",
          "name": "stdout",
          "text": [
            "\n",
            "0: 384x640 18 persons, 4 cars, 28 motorcycles, 2 buss, 3 trucks, 1 stop sign, 1 backpack, 21.3ms\n",
            "Speed: 2.5ms preprocess, 21.3ms inference, 1.5ms postprocess per image at shape (1, 3, 384, 640)\n"
          ]
        },
        {
          "output_type": "stream",
          "name": "stderr",
          "text": [
            "\rProcessing frames:   4%|\u001b[32m▍         \u001b[0m| 35/780 [00:05<01:32,  8.07it/s]"
          ]
        },
        {
          "output_type": "stream",
          "name": "stdout",
          "text": [
            "\n",
            "0: 384x640 18 persons, 4 cars, 28 motorcycles, 2 buss, 3 trucks, 1 stop sign, 1 backpack, 21.1ms\n",
            "Speed: 2.8ms preprocess, 21.1ms inference, 1.5ms postprocess per image at shape (1, 3, 384, 640)\n"
          ]
        },
        {
          "output_type": "stream",
          "name": "stderr",
          "text": [
            "\rProcessing frames:   5%|\u001b[32m▍         \u001b[0m| 36/780 [00:05<01:31,  8.10it/s]"
          ]
        },
        {
          "output_type": "stream",
          "name": "stdout",
          "text": [
            "\n",
            "0: 384x640 18 persons, 4 cars, 26 motorcycles, 2 buss, 3 trucks, 1 stop sign, 1 backpack, 21.6ms\n",
            "Speed: 2.7ms preprocess, 21.6ms inference, 1.5ms postprocess per image at shape (1, 3, 384, 640)\n"
          ]
        },
        {
          "output_type": "stream",
          "name": "stderr",
          "text": [
            "\rProcessing frames:   5%|\u001b[32m▍         \u001b[0m| 37/780 [00:05<01:32,  8.04it/s]"
          ]
        },
        {
          "output_type": "stream",
          "name": "stdout",
          "text": [
            "\n",
            "0: 384x640 18 persons, 4 cars, 26 motorcycles, 2 buss, 3 trucks, 1 stop sign, 1 backpack, 21.8ms\n",
            "Speed: 3.7ms preprocess, 21.8ms inference, 1.5ms postprocess per image at shape (1, 3, 384, 640)\n"
          ]
        },
        {
          "output_type": "stream",
          "name": "stderr",
          "text": [
            "\rProcessing frames:   5%|\u001b[32m▍         \u001b[0m| 38/780 [00:05<01:32,  8.05it/s]"
          ]
        },
        {
          "output_type": "stream",
          "name": "stdout",
          "text": [
            "\n",
            "0: 384x640 18 persons, 4 cars, 26 motorcycles, 2 buss, 3 trucks, 1 stop sign, 1 backpack, 21.5ms\n",
            "Speed: 2.5ms preprocess, 21.5ms inference, 1.5ms postprocess per image at shape (1, 3, 384, 640)\n"
          ]
        },
        {
          "output_type": "stream",
          "name": "stderr",
          "text": [
            "\rProcessing frames:   5%|\u001b[32m▌         \u001b[0m| 39/780 [00:05<01:32,  8.04it/s]"
          ]
        },
        {
          "output_type": "stream",
          "name": "stdout",
          "text": [
            "\n",
            "0: 384x640 18 persons, 4 cars, 25 motorcycles, 2 buss, 3 trucks, 1 stop sign, 1 backpack, 23.9ms\n",
            "Speed: 2.5ms preprocess, 23.9ms inference, 1.8ms postprocess per image at shape (1, 3, 384, 640)\n"
          ]
        },
        {
          "output_type": "stream",
          "name": "stderr",
          "text": [
            "\rProcessing frames:   5%|\u001b[32m▌         \u001b[0m| 40/780 [00:05<01:32,  7.98it/s]"
          ]
        },
        {
          "output_type": "stream",
          "name": "stdout",
          "text": [
            "\n",
            "0: 384x640 18 persons, 4 cars, 25 motorcycles, 2 buss, 3 trucks, 1 stop sign, 1 backpack, 23.7ms\n",
            "Speed: 2.7ms preprocess, 23.7ms inference, 1.5ms postprocess per image at shape (1, 3, 384, 640)\n"
          ]
        },
        {
          "output_type": "stream",
          "name": "stderr",
          "text": [
            "\rProcessing frames:   5%|\u001b[32m▌         \u001b[0m| 41/780 [00:05<01:33,  7.90it/s]"
          ]
        },
        {
          "output_type": "stream",
          "name": "stdout",
          "text": [
            "\n",
            "0: 384x640 18 persons, 4 cars, 26 motorcycles, 2 buss, 3 trucks, 1 stop sign, 1 backpack, 21.1ms\n",
            "Speed: 2.8ms preprocess, 21.1ms inference, 1.5ms postprocess per image at shape (1, 3, 384, 640)\n"
          ]
        },
        {
          "output_type": "stream",
          "name": "stderr",
          "text": [
            "\rProcessing frames:   5%|\u001b[32m▌         \u001b[0m| 42/780 [00:05<01:32,  7.97it/s]"
          ]
        },
        {
          "output_type": "stream",
          "name": "stdout",
          "text": [
            "\n",
            "0: 384x640 18 persons, 4 cars, 26 motorcycles, 2 buss, 3 trucks, 1 stop sign, 1 backpack, 23.2ms\n",
            "Speed: 2.6ms preprocess, 23.2ms inference, 1.5ms postprocess per image at shape (1, 3, 384, 640)\n"
          ]
        },
        {
          "output_type": "stream",
          "name": "stderr",
          "text": [
            "\rProcessing frames:   6%|\u001b[32m▌         \u001b[0m| 43/780 [00:06<01:32,  7.96it/s]"
          ]
        },
        {
          "output_type": "stream",
          "name": "stdout",
          "text": [
            "\n",
            "0: 384x640 18 persons, 4 cars, 26 motorcycles, 2 buss, 3 trucks, 1 stop sign, 1 backpack, 22.7ms\n",
            "Speed: 3.7ms preprocess, 22.7ms inference, 1.4ms postprocess per image at shape (1, 3, 384, 640)\n"
          ]
        },
        {
          "output_type": "stream",
          "name": "stderr",
          "text": [
            "\rProcessing frames:   6%|\u001b[32m▌         \u001b[0m| 44/780 [00:06<01:32,  7.96it/s]"
          ]
        },
        {
          "output_type": "stream",
          "name": "stdout",
          "text": [
            "\n",
            "0: 384x640 18 persons, 4 cars, 27 motorcycles, 2 buss, 3 trucks, 1 stop sign, 1 backpack, 21.7ms\n",
            "Speed: 2.6ms preprocess, 21.7ms inference, 1.5ms postprocess per image at shape (1, 3, 384, 640)\n"
          ]
        },
        {
          "output_type": "stream",
          "name": "stderr",
          "text": [
            "\rProcessing frames:   6%|\u001b[32m▌         \u001b[0m| 45/780 [00:06<01:31,  7.99it/s]"
          ]
        },
        {
          "output_type": "stream",
          "name": "stdout",
          "text": [
            "\n",
            "0: 384x640 18 persons, 4 cars, 27 motorcycles, 2 buss, 3 trucks, 1 stop sign, 1 backpack, 22.1ms\n",
            "Speed: 2.9ms preprocess, 22.1ms inference, 1.5ms postprocess per image at shape (1, 3, 384, 640)\n"
          ]
        },
        {
          "output_type": "stream",
          "name": "stderr",
          "text": [
            "\rProcessing frames:   6%|\u001b[32m▌         \u001b[0m| 46/780 [00:06<01:31,  8.00it/s]"
          ]
        },
        {
          "output_type": "stream",
          "name": "stdout",
          "text": [
            "\n",
            "0: 384x640 18 persons, 4 cars, 27 motorcycles, 2 buss, 3 trucks, 1 stop sign, 1 backpack, 21.3ms\n",
            "Speed: 2.5ms preprocess, 21.3ms inference, 1.5ms postprocess per image at shape (1, 3, 384, 640)\n"
          ]
        },
        {
          "output_type": "stream",
          "name": "stderr",
          "text": [
            "\rProcessing frames:   6%|\u001b[32m▌         \u001b[0m| 47/780 [00:06<01:31,  8.03it/s]"
          ]
        },
        {
          "output_type": "stream",
          "name": "stdout",
          "text": [
            "\n",
            "0: 384x640 18 persons, 4 cars, 27 motorcycles, 2 buss, 3 trucks, 1 stop sign, 1 backpack, 22.2ms\n",
            "Speed: 2.6ms preprocess, 22.2ms inference, 1.5ms postprocess per image at shape (1, 3, 384, 640)\n"
          ]
        },
        {
          "output_type": "stream",
          "name": "stderr",
          "text": [
            "\rProcessing frames:   6%|\u001b[32m▌         \u001b[0m| 48/780 [00:06<01:31,  8.01it/s]"
          ]
        },
        {
          "output_type": "stream",
          "name": "stdout",
          "text": [
            "\n",
            "0: 384x640 18 persons, 4 cars, 28 motorcycles, 2 buss, 3 trucks, 1 stop sign, 1 backpack, 21.6ms\n",
            "Speed: 2.9ms preprocess, 21.6ms inference, 1.5ms postprocess per image at shape (1, 3, 384, 640)\n"
          ]
        },
        {
          "output_type": "stream",
          "name": "stderr",
          "text": [
            "\rProcessing frames:   6%|\u001b[32m▋         \u001b[0m| 49/780 [00:06<01:31,  7.97it/s]"
          ]
        },
        {
          "output_type": "stream",
          "name": "stdout",
          "text": [
            "\n",
            "0: 384x640 18 persons, 3 cars, 27 motorcycles, 2 buss, 2 trucks, 1 stop sign, 1 backpack, 21.9ms\n",
            "Speed: 3.7ms preprocess, 21.9ms inference, 1.5ms postprocess per image at shape (1, 3, 384, 640)\n"
          ]
        },
        {
          "output_type": "stream",
          "name": "stderr",
          "text": [
            "\rProcessing frames:   6%|\u001b[32m▋         \u001b[0m| 50/780 [00:06<01:31,  7.98it/s]"
          ]
        },
        {
          "output_type": "stream",
          "name": "stdout",
          "text": [
            "\n",
            "0: 384x640 18 persons, 5 cars, 27 motorcycles, 2 buss, 1 truck, 1 stop sign, 1 backpack, 21.5ms\n",
            "Speed: 2.4ms preprocess, 21.5ms inference, 1.5ms postprocess per image at shape (1, 3, 384, 640)\n"
          ]
        },
        {
          "output_type": "stream",
          "name": "stderr",
          "text": [
            "\rProcessing frames:   7%|\u001b[32m▋         \u001b[0m| 51/780 [00:07<01:31,  8.01it/s]"
          ]
        },
        {
          "output_type": "stream",
          "name": "stdout",
          "text": [
            "\n",
            "0: 384x640 19 persons, 1 bicycle, 5 cars, 27 motorcycles, 2 buss, 1 truck, 1 stop sign, 1 backpack, 21.4ms\n",
            "Speed: 2.9ms preprocess, 21.4ms inference, 1.5ms postprocess per image at shape (1, 3, 384, 640)\n"
          ]
        },
        {
          "output_type": "stream",
          "name": "stderr",
          "text": [
            "\rProcessing frames:   7%|\u001b[32m▋         \u001b[0m| 52/780 [00:07<01:31,  7.98it/s]"
          ]
        },
        {
          "output_type": "stream",
          "name": "stdout",
          "text": [
            "\n",
            "0: 384x640 19 persons, 1 bicycle, 5 cars, 26 motorcycles, 3 buss, 1 truck, 1 stop sign, 1 backpack, 21.9ms\n",
            "Speed: 2.5ms preprocess, 21.9ms inference, 1.5ms postprocess per image at shape (1, 3, 384, 640)\n"
          ]
        },
        {
          "output_type": "stream",
          "name": "stderr",
          "text": [
            "\rProcessing frames:   7%|\u001b[32m▋         \u001b[0m| 53/780 [00:07<01:31,  7.95it/s]"
          ]
        },
        {
          "output_type": "stream",
          "name": "stdout",
          "text": [
            "\n",
            "0: 384x640 19 persons, 1 bicycle, 5 cars, 28 motorcycles, 3 buss, 1 truck, 1 stop sign, 1 backpack, 22.3ms\n",
            "Speed: 2.5ms preprocess, 22.3ms inference, 1.5ms postprocess per image at shape (1, 3, 384, 640)\n"
          ]
        },
        {
          "output_type": "stream",
          "name": "stderr",
          "text": [
            "\rProcessing frames:   7%|\u001b[32m▋         \u001b[0m| 54/780 [00:07<01:32,  7.89it/s]"
          ]
        },
        {
          "output_type": "stream",
          "name": "stdout",
          "text": [
            "\n",
            "0: 384x640 19 persons, 1 bicycle, 5 cars, 26 motorcycles, 3 buss, 1 truck, 1 stop sign, 1 backpack, 22.3ms\n",
            "Speed: 2.6ms preprocess, 22.3ms inference, 1.5ms postprocess per image at shape (1, 3, 384, 640)\n"
          ]
        },
        {
          "output_type": "stream",
          "name": "stderr",
          "text": [
            "\rProcessing frames:   7%|\u001b[32m▋         \u001b[0m| 55/780 [00:07<01:31,  7.89it/s]"
          ]
        },
        {
          "output_type": "stream",
          "name": "stdout",
          "text": [
            "\n",
            "0: 384x640 20 persons, 1 bicycle, 5 cars, 25 motorcycles, 3 buss, 1 stop sign, 1 backpack, 21.5ms\n",
            "Speed: 2.7ms preprocess, 21.5ms inference, 1.5ms postprocess per image at shape (1, 3, 384, 640)\n"
          ]
        },
        {
          "output_type": "stream",
          "name": "stderr",
          "text": [
            "\rProcessing frames:   7%|\u001b[32m▋         \u001b[0m| 56/780 [00:07<01:31,  7.90it/s]"
          ]
        },
        {
          "output_type": "stream",
          "name": "stdout",
          "text": [
            "\n",
            "0: 384x640 20 persons, 1 bicycle, 5 cars, 25 motorcycles, 3 buss, 1 stop sign, 1 backpack, 22.7ms\n",
            "Speed: 2.5ms preprocess, 22.7ms inference, 1.6ms postprocess per image at shape (1, 3, 384, 640)\n"
          ]
        },
        {
          "output_type": "stream",
          "name": "stderr",
          "text": [
            "\rProcessing frames:   7%|\u001b[32m▋         \u001b[0m| 57/780 [00:07<01:31,  7.88it/s]"
          ]
        },
        {
          "output_type": "stream",
          "name": "stdout",
          "text": [
            "\n",
            "0: 384x640 20 persons, 1 bicycle, 5 cars, 27 motorcycles, 3 buss, 1 stop sign, 1 backpack, 22.5ms\n",
            "Speed: 2.6ms preprocess, 22.5ms inference, 1.5ms postprocess per image at shape (1, 3, 384, 640)\n"
          ]
        },
        {
          "output_type": "stream",
          "name": "stderr",
          "text": [
            "\rProcessing frames:   7%|\u001b[32m▋         \u001b[0m| 58/780 [00:07<01:32,  7.84it/s]"
          ]
        },
        {
          "output_type": "stream",
          "name": "stdout",
          "text": [
            "\n",
            "0: 384x640 20 persons, 1 bicycle, 5 cars, 26 motorcycles, 3 buss, 1 truck, 1 stop sign, 1 backpack, 22.2ms\n",
            "Speed: 2.5ms preprocess, 22.2ms inference, 1.5ms postprocess per image at shape (1, 3, 384, 640)\n"
          ]
        },
        {
          "output_type": "stream",
          "name": "stderr",
          "text": [
            "\rProcessing frames:   8%|\u001b[32m▊         \u001b[0m| 59/780 [00:08<01:32,  7.84it/s]"
          ]
        },
        {
          "output_type": "stream",
          "name": "stdout",
          "text": [
            "\n",
            "0: 384x640 20 persons, 1 bicycle, 5 cars, 25 motorcycles, 2 buss, 1 truck, 1 stop sign, 1 backpack, 22.1ms\n",
            "Speed: 2.5ms preprocess, 22.1ms inference, 1.5ms postprocess per image at shape (1, 3, 384, 640)\n"
          ]
        },
        {
          "output_type": "stream",
          "name": "stderr",
          "text": [
            "\rProcessing frames:   8%|\u001b[32m▊         \u001b[0m| 60/780 [00:08<01:31,  7.86it/s]"
          ]
        },
        {
          "output_type": "stream",
          "name": "stdout",
          "text": [
            "\n",
            "0: 384x640 21 persons, 1 bicycle, 5 cars, 25 motorcycles, 2 buss, 1 truck, 1 stop sign, 1 backpack, 22.2ms\n",
            "Speed: 2.6ms preprocess, 22.2ms inference, 1.5ms postprocess per image at shape (1, 3, 384, 640)\n"
          ]
        },
        {
          "output_type": "stream",
          "name": "stderr",
          "text": [
            "\rProcessing frames:   8%|\u001b[32m▊         \u001b[0m| 61/780 [00:08<01:31,  7.84it/s]"
          ]
        },
        {
          "output_type": "stream",
          "name": "stdout",
          "text": [
            "\n",
            "0: 384x640 20 persons, 1 bicycle, 5 cars, 24 motorcycles, 2 buss, 1 truck, 1 stop sign, 1 backpack, 22.1ms\n",
            "Speed: 2.6ms preprocess, 22.1ms inference, 1.5ms postprocess per image at shape (1, 3, 384, 640)\n"
          ]
        },
        {
          "output_type": "stream",
          "name": "stderr",
          "text": [
            "\rProcessing frames:   8%|\u001b[32m▊         \u001b[0m| 62/780 [00:08<01:30,  7.89it/s]"
          ]
        },
        {
          "output_type": "stream",
          "name": "stdout",
          "text": [
            "\n",
            "0: 384x640 20 persons, 1 bicycle, 5 cars, 24 motorcycles, 2 buss, 1 truck, 1 stop sign, 1 backpack, 21.9ms\n",
            "Speed: 2.6ms preprocess, 21.9ms inference, 1.5ms postprocess per image at shape (1, 3, 384, 640)\n"
          ]
        },
        {
          "output_type": "stream",
          "name": "stderr",
          "text": [
            "\rProcessing frames:   8%|\u001b[32m▊         \u001b[0m| 63/780 [00:08<01:30,  7.89it/s]"
          ]
        },
        {
          "output_type": "stream",
          "name": "stdout",
          "text": [
            "\n",
            "0: 384x640 20 persons, 1 bicycle, 5 cars, 24 motorcycles, 2 buss, 1 truck, 1 stop sign, 1 backpack, 22.7ms\n",
            "Speed: 2.7ms preprocess, 22.7ms inference, 1.7ms postprocess per image at shape (1, 3, 384, 640)\n"
          ]
        },
        {
          "output_type": "stream",
          "name": "stderr",
          "text": [
            "\rProcessing frames:   8%|\u001b[32m▊         \u001b[0m| 64/780 [00:08<01:31,  7.86it/s]"
          ]
        },
        {
          "output_type": "stream",
          "name": "stdout",
          "text": [
            "\n",
            "0: 384x640 20 persons, 1 bicycle, 5 cars, 23 motorcycles, 2 buss, 1 truck, 1 stop sign, 1 backpack, 22.0ms\n",
            "Speed: 2.5ms preprocess, 22.0ms inference, 1.5ms postprocess per image at shape (1, 3, 384, 640)\n"
          ]
        },
        {
          "output_type": "stream",
          "name": "stderr",
          "text": [
            "\rProcessing frames:   8%|\u001b[32m▊         \u001b[0m| 65/780 [00:08<01:30,  7.90it/s]"
          ]
        },
        {
          "output_type": "stream",
          "name": "stdout",
          "text": [
            "\n",
            "0: 384x640 20 persons, 1 bicycle, 6 cars, 23 motorcycles, 2 buss, 1 stop sign, 1 backpack, 22.7ms\n",
            "Speed: 2.6ms preprocess, 22.7ms inference, 1.5ms postprocess per image at shape (1, 3, 384, 640)\n"
          ]
        },
        {
          "output_type": "stream",
          "name": "stderr",
          "text": [
            "\rProcessing frames:   8%|\u001b[32m▊         \u001b[0m| 66/780 [00:08<01:29,  7.96it/s]"
          ]
        },
        {
          "output_type": "stream",
          "name": "stdout",
          "text": [
            "\n",
            "0: 384x640 20 persons, 1 bicycle, 6 cars, 24 motorcycles, 2 buss, 1 stop sign, 1 backpack, 21.4ms\n",
            "Speed: 2.5ms preprocess, 21.4ms inference, 1.5ms postprocess per image at shape (1, 3, 384, 640)\n"
          ]
        },
        {
          "output_type": "stream",
          "name": "stderr",
          "text": [
            "\rProcessing frames:   9%|\u001b[32m▊         \u001b[0m| 67/780 [00:09<01:28,  8.01it/s]"
          ]
        },
        {
          "output_type": "stream",
          "name": "stdout",
          "text": [
            "\n",
            "0: 384x640 20 persons, 1 bicycle, 6 cars, 23 motorcycles, 2 buss, 1 stop sign, 1 backpack, 21.4ms\n",
            "Speed: 2.5ms preprocess, 21.4ms inference, 1.5ms postprocess per image at shape (1, 3, 384, 640)\n"
          ]
        },
        {
          "output_type": "stream",
          "name": "stderr",
          "text": [
            "\rProcessing frames:   9%|\u001b[32m▊         \u001b[0m| 68/780 [00:09<01:28,  8.06it/s]"
          ]
        },
        {
          "output_type": "stream",
          "name": "stdout",
          "text": [
            "\n",
            "0: 384x640 20 persons, 1 bicycle, 6 cars, 23 motorcycles, 2 buss, 1 stop sign, 1 backpack, 21.9ms\n",
            "Speed: 2.6ms preprocess, 21.9ms inference, 1.5ms postprocess per image at shape (1, 3, 384, 640)\n"
          ]
        },
        {
          "output_type": "stream",
          "name": "stderr",
          "text": [
            "\rProcessing frames:   9%|\u001b[32m▉         \u001b[0m| 69/780 [00:09<01:27,  8.09it/s]"
          ]
        },
        {
          "output_type": "stream",
          "name": "stdout",
          "text": [
            "\n",
            "0: 384x640 20 persons, 6 cars, 24 motorcycles, 2 buss, 1 stop sign, 1 backpack, 21.1ms\n",
            "Speed: 2.5ms preprocess, 21.1ms inference, 1.5ms postprocess per image at shape (1, 3, 384, 640)\n"
          ]
        },
        {
          "output_type": "stream",
          "name": "stderr",
          "text": [
            "\rProcessing frames:   9%|\u001b[32m▉         \u001b[0m| 70/780 [00:09<01:27,  8.12it/s]"
          ]
        },
        {
          "output_type": "stream",
          "name": "stdout",
          "text": [
            "\n",
            "0: 384x640 20 persons, 6 cars, 25 motorcycles, 2 buss, 1 stop sign, 1 backpack, 21.1ms\n",
            "Speed: 2.5ms preprocess, 21.1ms inference, 1.5ms postprocess per image at shape (1, 3, 384, 640)\n"
          ]
        },
        {
          "output_type": "stream",
          "name": "stderr",
          "text": [
            "\rProcessing frames:   9%|\u001b[32m▉         \u001b[0m| 71/780 [00:09<01:27,  8.14it/s]"
          ]
        },
        {
          "output_type": "stream",
          "name": "stdout",
          "text": [
            "\n",
            "0: 384x640 20 persons, 6 cars, 24 motorcycles, 2 buss, 1 stop sign, 1 backpack, 21.8ms\n",
            "Speed: 2.4ms preprocess, 21.8ms inference, 1.4ms postprocess per image at shape (1, 3, 384, 640)\n"
          ]
        },
        {
          "output_type": "stream",
          "name": "stderr",
          "text": [
            "\rProcessing frames:   9%|\u001b[32m▉         \u001b[0m| 72/780 [00:09<01:26,  8.19it/s]"
          ]
        },
        {
          "output_type": "stream",
          "name": "stdout",
          "text": [
            "\n",
            "0: 384x640 20 persons, 6 cars, 23 motorcycles, 2 buss, 1 truck, 1 stop sign, 1 backpack, 21.0ms\n",
            "Speed: 2.5ms preprocess, 21.0ms inference, 1.5ms postprocess per image at shape (1, 3, 384, 640)\n"
          ]
        },
        {
          "output_type": "stream",
          "name": "stderr",
          "text": [
            "\rProcessing frames:   9%|\u001b[32m▉         \u001b[0m| 73/780 [00:09<01:26,  8.19it/s]"
          ]
        },
        {
          "output_type": "stream",
          "name": "stdout",
          "text": [
            "\n",
            "0: 384x640 20 persons, 6 cars, 23 motorcycles, 2 buss, 1 truck, 1 stop sign, 1 backpack, 21.0ms\n",
            "Speed: 2.6ms preprocess, 21.0ms inference, 1.5ms postprocess per image at shape (1, 3, 384, 640)\n"
          ]
        },
        {
          "output_type": "stream",
          "name": "stderr",
          "text": [
            "\rProcessing frames:   9%|\u001b[32m▉         \u001b[0m| 74/780 [00:09<01:25,  8.25it/s]"
          ]
        },
        {
          "output_type": "stream",
          "name": "stdout",
          "text": [
            "\n",
            "0: 384x640 20 persons, 6 cars, 23 motorcycles, 2 buss, 1 truck, 1 stop sign, 1 backpack, 21.8ms\n",
            "Speed: 2.5ms preprocess, 21.8ms inference, 1.5ms postprocess per image at shape (1, 3, 384, 640)\n"
          ]
        },
        {
          "output_type": "stream",
          "name": "stderr",
          "text": [
            "\rProcessing frames:  10%|\u001b[32m▉         \u001b[0m| 75/780 [00:10<01:25,  8.24it/s]"
          ]
        },
        {
          "output_type": "stream",
          "name": "stdout",
          "text": [
            "\n",
            "0: 384x640 20 persons, 6 cars, 23 motorcycles, 2 buss, 1 truck, 1 stop sign, 1 backpack, 21.2ms\n",
            "Speed: 2.5ms preprocess, 21.2ms inference, 1.5ms postprocess per image at shape (1, 3, 384, 640)\n"
          ]
        },
        {
          "output_type": "stream",
          "name": "stderr",
          "text": [
            "\rProcessing frames:  10%|\u001b[32m▉         \u001b[0m| 76/780 [00:10<01:25,  8.24it/s]"
          ]
        },
        {
          "output_type": "stream",
          "name": "stdout",
          "text": [
            "\n",
            "0: 384x640 20 persons, 6 cars, 23 motorcycles, 2 buss, 1 stop sign, 1 backpack, 21.0ms\n",
            "Speed: 2.5ms preprocess, 21.0ms inference, 1.5ms postprocess per image at shape (1, 3, 384, 640)\n"
          ]
        },
        {
          "output_type": "stream",
          "name": "stderr",
          "text": [
            "\rProcessing frames:  10%|\u001b[32m▉         \u001b[0m| 77/780 [00:10<01:25,  8.25it/s]"
          ]
        },
        {
          "output_type": "stream",
          "name": "stdout",
          "text": [
            "\n",
            "0: 384x640 20 persons, 6 cars, 23 motorcycles, 2 buss, 1 stop sign, 1 backpack, 20.5ms\n",
            "Speed: 2.5ms preprocess, 20.5ms inference, 1.5ms postprocess per image at shape (1, 3, 384, 640)\n"
          ]
        },
        {
          "output_type": "stream",
          "name": "stderr",
          "text": [
            "\rProcessing frames:  10%|\u001b[32m█         \u001b[0m| 78/780 [00:10<01:24,  8.27it/s]"
          ]
        },
        {
          "output_type": "stream",
          "name": "stdout",
          "text": [
            "\n",
            "0: 384x640 20 persons, 6 cars, 24 motorcycles, 2 buss, 1 stop sign, 1 backpack, 20.9ms\n",
            "Speed: 2.5ms preprocess, 20.9ms inference, 1.5ms postprocess per image at shape (1, 3, 384, 640)\n"
          ]
        },
        {
          "output_type": "stream",
          "name": "stderr",
          "text": [
            "\rProcessing frames:  10%|\u001b[32m█         \u001b[0m| 79/780 [00:10<01:24,  8.29it/s]"
          ]
        },
        {
          "output_type": "stream",
          "name": "stdout",
          "text": [
            "\n",
            "0: 384x640 19 persons, 5 cars, 25 motorcycles, 2 buss, 1 truck, 1 stop sign, 1 backpack, 20.8ms\n",
            "Speed: 2.5ms preprocess, 20.8ms inference, 1.5ms postprocess per image at shape (1, 3, 384, 640)\n"
          ]
        },
        {
          "output_type": "stream",
          "name": "stderr",
          "text": [
            "\rProcessing frames:  10%|\u001b[32m█         \u001b[0m| 80/780 [00:10<01:24,  8.29it/s]"
          ]
        },
        {
          "output_type": "stream",
          "name": "stdout",
          "text": [
            "\n",
            "0: 384x640 19 persons, 6 cars, 24 motorcycles, 2 buss, 1 stop sign, 1 backpack, 21.2ms\n",
            "Speed: 2.5ms preprocess, 21.2ms inference, 1.4ms postprocess per image at shape (1, 3, 384, 640)\n"
          ]
        },
        {
          "output_type": "stream",
          "name": "stderr",
          "text": [
            "\rProcessing frames:  10%|\u001b[32m█         \u001b[0m| 81/780 [00:10<01:24,  8.30it/s]"
          ]
        },
        {
          "output_type": "stream",
          "name": "stdout",
          "text": [
            "\n",
            "0: 384x640 19 persons, 6 cars, 24 motorcycles, 2 buss, 1 stop sign, 1 backpack, 20.9ms\n",
            "Speed: 2.8ms preprocess, 20.9ms inference, 1.5ms postprocess per image at shape (1, 3, 384, 640)\n"
          ]
        },
        {
          "output_type": "stream",
          "name": "stderr",
          "text": [
            "\rProcessing frames:  11%|\u001b[32m█         \u001b[0m| 82/780 [00:10<01:23,  8.32it/s]"
          ]
        },
        {
          "output_type": "stream",
          "name": "stdout",
          "text": [
            "\n",
            "0: 384x640 19 persons, 6 cars, 24 motorcycles, 2 buss, 1 stop sign, 1 backpack, 21.1ms\n",
            "Speed: 2.5ms preprocess, 21.1ms inference, 1.6ms postprocess per image at shape (1, 3, 384, 640)\n"
          ]
        },
        {
          "output_type": "stream",
          "name": "stderr",
          "text": [
            "\rProcessing frames:  11%|\u001b[32m█         \u001b[0m| 83/780 [00:11<01:23,  8.32it/s]"
          ]
        },
        {
          "output_type": "stream",
          "name": "stdout",
          "text": [
            "\n",
            "0: 384x640 19 persons, 6 cars, 25 motorcycles, 2 buss, 1 stop sign, 1 backpack, 20.9ms\n",
            "Speed: 2.5ms preprocess, 20.9ms inference, 1.4ms postprocess per image at shape (1, 3, 384, 640)\n"
          ]
        },
        {
          "output_type": "stream",
          "name": "stderr",
          "text": [
            "\rProcessing frames:  11%|\u001b[32m█         \u001b[0m| 84/780 [00:11<01:23,  8.35it/s]"
          ]
        },
        {
          "output_type": "stream",
          "name": "stdout",
          "text": [
            "\n",
            "0: 384x640 19 persons, 6 cars, 24 motorcycles, 2 buss, 1 stop sign, 1 backpack, 21.5ms\n",
            "Speed: 2.5ms preprocess, 21.5ms inference, 1.4ms postprocess per image at shape (1, 3, 384, 640)\n"
          ]
        },
        {
          "output_type": "stream",
          "name": "stderr",
          "text": [
            "\rProcessing frames:  11%|\u001b[32m█         \u001b[0m| 85/780 [00:11<01:23,  8.29it/s]"
          ]
        },
        {
          "output_type": "stream",
          "name": "stdout",
          "text": [
            "\n",
            "0: 384x640 19 persons, 6 cars, 25 motorcycles, 2 buss, 1 stop sign, 1 backpack, 20.8ms\n",
            "Speed: 2.5ms preprocess, 20.8ms inference, 1.5ms postprocess per image at shape (1, 3, 384, 640)\n"
          ]
        },
        {
          "output_type": "stream",
          "name": "stderr",
          "text": [
            "\rProcessing frames:  11%|\u001b[32m█         \u001b[0m| 86/780 [00:11<01:23,  8.31it/s]"
          ]
        },
        {
          "output_type": "stream",
          "name": "stdout",
          "text": [
            "\n",
            "0: 384x640 19 persons, 6 cars, 25 motorcycles, 2 buss, 1 stop sign, 1 backpack, 20.6ms\n",
            "Speed: 2.5ms preprocess, 20.6ms inference, 1.5ms postprocess per image at shape (1, 3, 384, 640)\n"
          ]
        },
        {
          "output_type": "stream",
          "name": "stderr",
          "text": [
            "\rProcessing frames:  11%|\u001b[32m█         \u001b[0m| 87/780 [00:11<01:23,  8.31it/s]"
          ]
        },
        {
          "output_type": "stream",
          "name": "stdout",
          "text": [
            "\n",
            "0: 384x640 19 persons, 6 cars, 25 motorcycles, 2 buss, 1 stop sign, 1 backpack, 20.6ms\n",
            "Speed: 2.4ms preprocess, 20.6ms inference, 1.5ms postprocess per image at shape (1, 3, 384, 640)\n"
          ]
        },
        {
          "output_type": "stream",
          "name": "stderr",
          "text": [
            "\rProcessing frames:  11%|\u001b[32m█▏        \u001b[0m| 88/780 [00:11<01:23,  8.33it/s]"
          ]
        },
        {
          "output_type": "stream",
          "name": "stdout",
          "text": [
            "\n",
            "0: 384x640 19 persons, 6 cars, 25 motorcycles, 2 buss, 1 stop sign, 1 backpack, 20.7ms\n",
            "Speed: 2.5ms preprocess, 20.7ms inference, 1.5ms postprocess per image at shape (1, 3, 384, 640)\n"
          ]
        },
        {
          "output_type": "stream",
          "name": "stderr",
          "text": [
            "\rProcessing frames:  11%|\u001b[32m█▏        \u001b[0m| 89/780 [00:11<01:22,  8.36it/s]"
          ]
        },
        {
          "output_type": "stream",
          "name": "stdout",
          "text": [
            "\n",
            "0: 384x640 20 persons, 6 cars, 25 motorcycles, 2 buss, 1 stop sign, 1 backpack, 20.6ms\n",
            "Speed: 2.4ms preprocess, 20.6ms inference, 1.4ms postprocess per image at shape (1, 3, 384, 640)\n"
          ]
        },
        {
          "output_type": "stream",
          "name": "stderr",
          "text": [
            "\rProcessing frames:  12%|\u001b[32m█▏        \u001b[0m| 90/780 [00:11<01:22,  8.36it/s]"
          ]
        },
        {
          "output_type": "stream",
          "name": "stdout",
          "text": [
            "\n",
            "0: 384x640 19 persons, 6 cars, 25 motorcycles, 2 buss, 1 stop sign, 1 backpack, 21.3ms\n",
            "Speed: 2.4ms preprocess, 21.3ms inference, 1.5ms postprocess per image at shape (1, 3, 384, 640)\n"
          ]
        },
        {
          "output_type": "stream",
          "name": "stderr",
          "text": [
            "\rProcessing frames:  12%|\u001b[32m█▏        \u001b[0m| 91/780 [00:12<01:22,  8.33it/s]"
          ]
        },
        {
          "output_type": "stream",
          "name": "stdout",
          "text": [
            "\n",
            "0: 384x640 20 persons, 6 cars, 24 motorcycles, 2 buss, 1 stop sign, 1 backpack, 20.6ms\n",
            "Speed: 2.4ms preprocess, 20.6ms inference, 1.5ms postprocess per image at shape (1, 3, 384, 640)\n"
          ]
        },
        {
          "output_type": "stream",
          "name": "stderr",
          "text": [
            "\rProcessing frames:  12%|\u001b[32m█▏        \u001b[0m| 92/780 [00:12<01:22,  8.36it/s]"
          ]
        },
        {
          "output_type": "stream",
          "name": "stdout",
          "text": [
            "\n",
            "0: 384x640 21 persons, 6 cars, 24 motorcycles, 2 buss, 1 truck, 1 stop sign, 1 backpack, 21.7ms\n",
            "Speed: 2.6ms preprocess, 21.7ms inference, 1.5ms postprocess per image at shape (1, 3, 384, 640)\n"
          ]
        },
        {
          "output_type": "stream",
          "name": "stderr",
          "text": [
            "\rProcessing frames:  12%|\u001b[32m█▏        \u001b[0m| 93/780 [00:12<01:23,  8.26it/s]"
          ]
        },
        {
          "output_type": "stream",
          "name": "stdout",
          "text": [
            "\n",
            "0: 384x640 21 persons, 6 cars, 24 motorcycles, 2 buss, 2 trucks, 1 stop sign, 1 backpack, 22.0ms\n",
            "Speed: 2.9ms preprocess, 22.0ms inference, 1.5ms postprocess per image at shape (1, 3, 384, 640)\n"
          ]
        },
        {
          "output_type": "stream",
          "name": "stderr",
          "text": [
            "\rProcessing frames:  12%|\u001b[32m█▏        \u001b[0m| 94/780 [00:12<01:23,  8.19it/s]"
          ]
        },
        {
          "output_type": "stream",
          "name": "stdout",
          "text": [
            "\n",
            "0: 384x640 21 persons, 6 cars, 25 motorcycles, 2 buss, 2 trucks, 1 stop sign, 1 backpack, 21.3ms\n",
            "Speed: 2.8ms preprocess, 21.3ms inference, 1.5ms postprocess per image at shape (1, 3, 384, 640)\n"
          ]
        },
        {
          "output_type": "stream",
          "name": "stderr",
          "text": [
            "\rProcessing frames:  12%|\u001b[32m█▏        \u001b[0m| 95/780 [00:12<01:24,  8.14it/s]"
          ]
        },
        {
          "output_type": "stream",
          "name": "stdout",
          "text": [
            "\n",
            "0: 384x640 21 persons, 6 cars, 25 motorcycles, 2 buss, 2 trucks, 1 stop sign, 1 backpack, 21.9ms\n",
            "Speed: 2.5ms preprocess, 21.9ms inference, 1.5ms postprocess per image at shape (1, 3, 384, 640)\n"
          ]
        },
        {
          "output_type": "stream",
          "name": "stderr",
          "text": [
            "\rProcessing frames:  12%|\u001b[32m█▏        \u001b[0m| 96/780 [00:12<01:24,  8.09it/s]"
          ]
        },
        {
          "output_type": "stream",
          "name": "stdout",
          "text": [
            "\n",
            "0: 384x640 21 persons, 6 cars, 24 motorcycles, 2 buss, 2 trucks, 1 stop sign, 1 backpack, 22.4ms\n",
            "Speed: 2.6ms preprocess, 22.4ms inference, 1.6ms postprocess per image at shape (1, 3, 384, 640)\n"
          ]
        },
        {
          "output_type": "stream",
          "name": "stderr",
          "text": [
            "\rProcessing frames:  12%|\u001b[32m█▏        \u001b[0m| 97/780 [00:12<01:25,  8.02it/s]"
          ]
        },
        {
          "output_type": "stream",
          "name": "stdout",
          "text": [
            "\n",
            "0: 384x640 21 persons, 5 cars, 24 motorcycles, 2 buss, 1 truck, 1 stop sign, 1 backpack, 21.9ms\n",
            "Speed: 2.6ms preprocess, 21.9ms inference, 1.5ms postprocess per image at shape (1, 3, 384, 640)\n"
          ]
        },
        {
          "output_type": "stream",
          "name": "stderr",
          "text": [
            "\rProcessing frames:  13%|\u001b[32m█▎        \u001b[0m| 98/780 [00:12<01:24,  8.07it/s]"
          ]
        },
        {
          "output_type": "stream",
          "name": "stdout",
          "text": [
            "\n",
            "0: 384x640 21 persons, 6 cars, 24 motorcycles, 2 buss, 1 truck, 1 stop sign, 1 backpack, 21.7ms\n",
            "Speed: 2.5ms preprocess, 21.7ms inference, 1.6ms postprocess per image at shape (1, 3, 384, 640)\n"
          ]
        },
        {
          "output_type": "stream",
          "name": "stderr",
          "text": [
            "\rProcessing frames:  13%|\u001b[32m█▎        \u001b[0m| 99/780 [00:12<01:24,  8.08it/s]"
          ]
        },
        {
          "output_type": "stream",
          "name": "stdout",
          "text": [
            "\n",
            "0: 384x640 21 persons, 6 cars, 23 motorcycles, 2 buss, 1 stop sign, 1 backpack, 21.9ms\n",
            "Speed: 2.5ms preprocess, 21.9ms inference, 1.5ms postprocess per image at shape (1, 3, 384, 640)\n"
          ]
        },
        {
          "output_type": "stream",
          "name": "stderr",
          "text": [
            "\rProcessing frames:  13%|\u001b[32m█▎        \u001b[0m| 100/780 [00:13<01:23,  8.13it/s]"
          ]
        },
        {
          "output_type": "stream",
          "name": "stdout",
          "text": [
            "\n",
            "0: 384x640 21 persons, 6 cars, 24 motorcycles, 2 buss, 1 stop sign, 1 backpack, 21.3ms\n",
            "Speed: 2.6ms preprocess, 21.3ms inference, 1.5ms postprocess per image at shape (1, 3, 384, 640)\n"
          ]
        },
        {
          "output_type": "stream",
          "name": "stderr",
          "text": [
            "\rProcessing frames:  13%|\u001b[32m█▎        \u001b[0m| 101/780 [00:13<01:23,  8.17it/s]"
          ]
        },
        {
          "output_type": "stream",
          "name": "stdout",
          "text": [
            "\n",
            "0: 384x640 21 persons, 6 cars, 24 motorcycles, 2 buss, 1 truck, 1 stop sign, 1 backpack, 22.3ms\n",
            "Speed: 2.6ms preprocess, 22.3ms inference, 1.5ms postprocess per image at shape (1, 3, 384, 640)\n"
          ]
        },
        {
          "output_type": "stream",
          "name": "stderr",
          "text": [
            "\rProcessing frames:  13%|\u001b[32m█▎        \u001b[0m| 102/780 [00:13<01:23,  8.15it/s]"
          ]
        },
        {
          "output_type": "stream",
          "name": "stdout",
          "text": [
            "\n",
            "0: 384x640 21 persons, 4 cars, 24 motorcycles, 2 buss, 3 trucks, 1 stop sign, 1 backpack, 21.6ms\n",
            "Speed: 2.6ms preprocess, 21.6ms inference, 2.1ms postprocess per image at shape (1, 3, 384, 640)\n"
          ]
        },
        {
          "output_type": "stream",
          "name": "stderr",
          "text": [
            "\rProcessing frames:  13%|\u001b[32m█▎        \u001b[0m| 103/780 [00:13<01:23,  8.12it/s]"
          ]
        },
        {
          "output_type": "stream",
          "name": "stdout",
          "text": [
            "\n",
            "0: 384x640 21 persons, 5 cars, 24 motorcycles, 1 bus, 2 trucks, 1 stop sign, 1 backpack, 21.5ms\n",
            "Speed: 3.1ms preprocess, 21.5ms inference, 1.5ms postprocess per image at shape (1, 3, 384, 640)\n"
          ]
        },
        {
          "output_type": "stream",
          "name": "stderr",
          "text": [
            "\rProcessing frames:  13%|\u001b[32m█▎        \u001b[0m| 104/780 [00:13<01:23,  8.12it/s]"
          ]
        },
        {
          "output_type": "stream",
          "name": "stdout",
          "text": [
            "\n",
            "0: 384x640 21 persons, 5 cars, 24 motorcycles, 2 buss, 2 trucks, 1 stop sign, 1 backpack, 21.4ms\n",
            "Speed: 2.9ms preprocess, 21.4ms inference, 1.5ms postprocess per image at shape (1, 3, 384, 640)\n"
          ]
        },
        {
          "output_type": "stream",
          "name": "stderr",
          "text": [
            "\rProcessing frames:  13%|\u001b[32m█▎        \u001b[0m| 105/780 [00:13<01:22,  8.17it/s]"
          ]
        },
        {
          "output_type": "stream",
          "name": "stdout",
          "text": [
            "\n",
            "0: 384x640 20 persons, 5 cars, 25 motorcycles, 2 buss, 3 trucks, 1 stop sign, 1 backpack, 21.9ms\n",
            "Speed: 3.3ms preprocess, 21.9ms inference, 1.6ms postprocess per image at shape (1, 3, 384, 640)\n"
          ]
        },
        {
          "output_type": "stream",
          "name": "stderr",
          "text": [
            "\rProcessing frames:  14%|\u001b[32m█▎        \u001b[0m| 106/780 [00:13<01:22,  8.16it/s]"
          ]
        },
        {
          "output_type": "stream",
          "name": "stdout",
          "text": [
            "\n",
            "0: 384x640 20 persons, 6 cars, 25 motorcycles, 2 buss, 2 trucks, 1 stop sign, 1 backpack, 21.4ms\n",
            "Speed: 2.4ms preprocess, 21.4ms inference, 1.4ms postprocess per image at shape (1, 3, 384, 640)\n"
          ]
        },
        {
          "output_type": "stream",
          "name": "stderr",
          "text": [
            "\rProcessing frames:  14%|\u001b[32m█▎        \u001b[0m| 107/780 [00:13<01:22,  8.17it/s]"
          ]
        },
        {
          "output_type": "stream",
          "name": "stdout",
          "text": [
            "\n",
            "0: 384x640 20 persons, 6 cars, 24 motorcycles, 2 buss, 2 trucks, 1 stop sign, 1 backpack, 21.6ms\n",
            "Speed: 2.5ms preprocess, 21.6ms inference, 1.5ms postprocess per image at shape (1, 3, 384, 640)\n"
          ]
        },
        {
          "output_type": "stream",
          "name": "stderr",
          "text": [
            "\rProcessing frames:  14%|\u001b[32m█▍        \u001b[0m| 108/780 [00:14<01:22,  8.18it/s]"
          ]
        },
        {
          "output_type": "stream",
          "name": "stdout",
          "text": [
            "\n",
            "0: 384x640 20 persons, 6 cars, 24 motorcycles, 2 buss, 2 trucks, 1 stop sign, 1 backpack, 20.8ms\n",
            "Speed: 2.5ms preprocess, 20.8ms inference, 1.5ms postprocess per image at shape (1, 3, 384, 640)\n"
          ]
        },
        {
          "output_type": "stream",
          "name": "stderr",
          "text": [
            "\rProcessing frames:  14%|\u001b[32m█▍        \u001b[0m| 109/780 [00:14<01:22,  8.16it/s]"
          ]
        },
        {
          "output_type": "stream",
          "name": "stdout",
          "text": [
            "\n",
            "0: 384x640 20 persons, 6 cars, 22 motorcycles, 2 buss, 2 trucks, 1 stop sign, 1 backpack, 21.6ms\n",
            "Speed: 3.0ms preprocess, 21.6ms inference, 1.6ms postprocess per image at shape (1, 3, 384, 640)\n"
          ]
        },
        {
          "output_type": "stream",
          "name": "stderr",
          "text": [
            "\rProcessing frames:  14%|\u001b[32m█▍        \u001b[0m| 110/780 [00:14<01:22,  8.16it/s]"
          ]
        },
        {
          "output_type": "stream",
          "name": "stdout",
          "text": [
            "\n",
            "0: 384x640 20 persons, 6 cars, 22 motorcycles, 2 buss, 2 trucks, 1 stop sign, 1 backpack, 21.3ms\n",
            "Speed: 2.5ms preprocess, 21.3ms inference, 1.5ms postprocess per image at shape (1, 3, 384, 640)\n"
          ]
        },
        {
          "output_type": "stream",
          "name": "stderr",
          "text": [
            "\rProcessing frames:  14%|\u001b[32m█▍        \u001b[0m| 111/780 [00:14<01:21,  8.23it/s]"
          ]
        },
        {
          "output_type": "stream",
          "name": "stdout",
          "text": [
            "\n",
            "0: 384x640 19 persons, 6 cars, 22 motorcycles, 2 buss, 2 trucks, 1 stop sign, 1 backpack, 20.8ms\n",
            "Speed: 2.5ms preprocess, 20.8ms inference, 1.5ms postprocess per image at shape (1, 3, 384, 640)\n"
          ]
        },
        {
          "output_type": "stream",
          "name": "stderr",
          "text": [
            "\rProcessing frames:  14%|\u001b[32m█▍        \u001b[0m| 112/780 [00:14<01:20,  8.29it/s]"
          ]
        },
        {
          "output_type": "stream",
          "name": "stdout",
          "text": [
            "\n",
            "0: 384x640 19 persons, 6 cars, 24 motorcycles, 2 buss, 2 trucks, 1 stop sign, 1 backpack, 21.3ms\n",
            "Speed: 2.5ms preprocess, 21.3ms inference, 1.4ms postprocess per image at shape (1, 3, 384, 640)\n"
          ]
        },
        {
          "output_type": "stream",
          "name": "stderr",
          "text": [
            "\rProcessing frames:  14%|\u001b[32m█▍        \u001b[0m| 113/780 [00:14<01:20,  8.29it/s]"
          ]
        },
        {
          "output_type": "stream",
          "name": "stdout",
          "text": [
            "\n",
            "0: 384x640 19 persons, 5 cars, 24 motorcycles, 2 buss, 1 truck, 1 stop sign, 1 backpack, 20.6ms\n",
            "Speed: 2.5ms preprocess, 20.6ms inference, 1.4ms postprocess per image at shape (1, 3, 384, 640)\n"
          ]
        },
        {
          "output_type": "stream",
          "name": "stderr",
          "text": [
            "\rProcessing frames:  15%|\u001b[32m█▍        \u001b[0m| 114/780 [00:14<01:20,  8.32it/s]"
          ]
        },
        {
          "output_type": "stream",
          "name": "stdout",
          "text": [
            "\n",
            "0: 384x640 19 persons, 6 cars, 24 motorcycles, 2 buss, 1 truck, 1 stop sign, 1 backpack, 20.8ms\n",
            "Speed: 3.2ms preprocess, 20.8ms inference, 1.5ms postprocess per image at shape (1, 3, 384, 640)\n"
          ]
        },
        {
          "output_type": "stream",
          "name": "stderr",
          "text": [
            "\rProcessing frames:  15%|\u001b[32m█▍        \u001b[0m| 115/780 [00:14<01:19,  8.33it/s]"
          ]
        },
        {
          "output_type": "stream",
          "name": "stdout",
          "text": [
            "\n",
            "0: 384x640 19 persons, 6 cars, 21 motorcycles, 2 buss, 1 truck, 1 stop sign, 1 backpack, 21.0ms\n",
            "Speed: 2.5ms preprocess, 21.0ms inference, 1.4ms postprocess per image at shape (1, 3, 384, 640)\n"
          ]
        },
        {
          "output_type": "stream",
          "name": "stderr",
          "text": [
            "\rProcessing frames:  15%|\u001b[32m█▍        \u001b[0m| 116/780 [00:15<01:19,  8.33it/s]"
          ]
        },
        {
          "output_type": "stream",
          "name": "stdout",
          "text": [
            "\n",
            "0: 384x640 19 persons, 6 cars, 20 motorcycles, 2 buss, 2 trucks, 1 stop sign, 1 backpack, 22.0ms\n",
            "Speed: 2.8ms preprocess, 22.0ms inference, 1.6ms postprocess per image at shape (1, 3, 384, 640)\n"
          ]
        },
        {
          "output_type": "stream",
          "name": "stderr",
          "text": [
            "\rProcessing frames:  15%|\u001b[32m█▌        \u001b[0m| 117/780 [00:15<01:19,  8.37it/s]"
          ]
        },
        {
          "output_type": "stream",
          "name": "stdout",
          "text": [
            "\n",
            "0: 384x640 20 persons, 6 cars, 20 motorcycles, 2 buss, 3 trucks, 1 stop sign, 1 backpack, 24.1ms\n",
            "Speed: 2.4ms preprocess, 24.1ms inference, 1.6ms postprocess per image at shape (1, 3, 384, 640)\n"
          ]
        },
        {
          "output_type": "stream",
          "name": "stderr",
          "text": [
            "\rProcessing frames:  15%|\u001b[32m█▌        \u001b[0m| 118/780 [00:15<01:19,  8.28it/s]"
          ]
        },
        {
          "output_type": "stream",
          "name": "stdout",
          "text": [
            "\n",
            "0: 384x640 19 persons, 6 cars, 21 motorcycles, 1 bus, 3 trucks, 1 stop sign, 1 backpack, 20.8ms\n",
            "Speed: 2.5ms preprocess, 20.8ms inference, 1.4ms postprocess per image at shape (1, 3, 384, 640)\n"
          ]
        },
        {
          "output_type": "stream",
          "name": "stderr",
          "text": [
            "\rProcessing frames:  15%|\u001b[32m█▌        \u001b[0m| 119/780 [00:15<01:19,  8.34it/s]"
          ]
        },
        {
          "output_type": "stream",
          "name": "stdout",
          "text": [
            "\n",
            "0: 384x640 18 persons, 6 cars, 19 motorcycles, 1 bus, 3 trucks, 1 stop sign, 1 backpack, 21.1ms\n",
            "Speed: 2.5ms preprocess, 21.1ms inference, 1.4ms postprocess per image at shape (1, 3, 384, 640)\n"
          ]
        },
        {
          "output_type": "stream",
          "name": "stderr",
          "text": [
            "\rProcessing frames:  15%|\u001b[32m█▌        \u001b[0m| 120/780 [00:15<01:18,  8.41it/s]"
          ]
        },
        {
          "output_type": "stream",
          "name": "stdout",
          "text": [
            "\n",
            "0: 384x640 18 persons, 6 cars, 22 motorcycles, 1 bus, 3 trucks, 1 stop sign, 1 backpack, 21.4ms\n",
            "Speed: 2.7ms preprocess, 21.4ms inference, 1.4ms postprocess per image at shape (1, 3, 384, 640)\n"
          ]
        },
        {
          "output_type": "stream",
          "name": "stderr",
          "text": [
            "\rProcessing frames:  16%|\u001b[32m█▌        \u001b[0m| 121/780 [00:15<01:18,  8.37it/s]"
          ]
        },
        {
          "output_type": "stream",
          "name": "stdout",
          "text": [
            "\n",
            "0: 384x640 18 persons, 6 cars, 21 motorcycles, 1 bus, 3 trucks, 1 stop sign, 1 backpack, 20.9ms\n",
            "Speed: 3.2ms preprocess, 20.9ms inference, 1.5ms postprocess per image at shape (1, 3, 384, 640)\n"
          ]
        },
        {
          "output_type": "stream",
          "name": "stderr",
          "text": [
            "\rProcessing frames:  16%|\u001b[32m█▌        \u001b[0m| 122/780 [00:15<01:18,  8.43it/s]"
          ]
        },
        {
          "output_type": "stream",
          "name": "stdout",
          "text": [
            "\n",
            "0: 384x640 18 persons, 6 cars, 21 motorcycles, 1 bus, 3 trucks, 1 stop sign, 1 backpack, 21.6ms\n",
            "Speed: 3.2ms preprocess, 21.6ms inference, 1.5ms postprocess per image at shape (1, 3, 384, 640)\n"
          ]
        },
        {
          "output_type": "stream",
          "name": "stderr",
          "text": [
            "\rProcessing frames:  16%|\u001b[32m█▌        \u001b[0m| 123/780 [00:15<01:18,  8.42it/s]"
          ]
        },
        {
          "output_type": "stream",
          "name": "stdout",
          "text": [
            "\n",
            "0: 384x640 18 persons, 6 cars, 22 motorcycles, 2 buss, 3 trucks, 1 stop sign, 1 backpack, 21.3ms\n",
            "Speed: 2.5ms preprocess, 21.3ms inference, 1.5ms postprocess per image at shape (1, 3, 384, 640)\n"
          ]
        },
        {
          "output_type": "stream",
          "name": "stderr",
          "text": [
            "\rProcessing frames:  16%|\u001b[32m█▌        \u001b[0m| 124/780 [00:16<01:18,  8.40it/s]"
          ]
        },
        {
          "output_type": "stream",
          "name": "stdout",
          "text": [
            "\n",
            "0: 384x640 18 persons, 6 cars, 21 motorcycles, 2 buss, 3 trucks, 1 stop sign, 1 backpack, 21.7ms\n",
            "Speed: 3.5ms preprocess, 21.7ms inference, 1.5ms postprocess per image at shape (1, 3, 384, 640)\n"
          ]
        },
        {
          "output_type": "stream",
          "name": "stderr",
          "text": [
            "\rProcessing frames:  16%|\u001b[32m█▌        \u001b[0m| 125/780 [00:16<01:18,  8.33it/s]"
          ]
        },
        {
          "output_type": "stream",
          "name": "stdout",
          "text": [
            "\n",
            "0: 384x640 19 persons, 6 cars, 21 motorcycles, 2 buss, 3 trucks, 1 backpack, 22.1ms\n",
            "Speed: 2.6ms preprocess, 22.1ms inference, 1.5ms postprocess per image at shape (1, 3, 384, 640)\n"
          ]
        },
        {
          "output_type": "stream",
          "name": "stderr",
          "text": [
            "\rProcessing frames:  16%|\u001b[32m█▌        \u001b[0m| 126/780 [00:16<01:18,  8.30it/s]"
          ]
        },
        {
          "output_type": "stream",
          "name": "stdout",
          "text": [
            "\n",
            "0: 384x640 19 persons, 6 cars, 20 motorcycles, 2 buss, 3 trucks, 1 backpack, 21.8ms\n",
            "Speed: 2.8ms preprocess, 21.8ms inference, 1.5ms postprocess per image at shape (1, 3, 384, 640)\n"
          ]
        },
        {
          "output_type": "stream",
          "name": "stderr",
          "text": [
            "\rProcessing frames:  16%|\u001b[32m█▋        \u001b[0m| 127/780 [00:16<01:18,  8.31it/s]"
          ]
        },
        {
          "output_type": "stream",
          "name": "stdout",
          "text": [
            "\n",
            "0: 384x640 18 persons, 6 cars, 21 motorcycles, 2 buss, 3 trucks, 1 backpack, 24.2ms\n",
            "Speed: 2.9ms preprocess, 24.2ms inference, 1.5ms postprocess per image at shape (1, 3, 384, 640)\n"
          ]
        },
        {
          "output_type": "stream",
          "name": "stderr",
          "text": [
            "\rProcessing frames:  16%|\u001b[32m█▋        \u001b[0m| 128/780 [00:16<01:18,  8.26it/s]"
          ]
        },
        {
          "output_type": "stream",
          "name": "stdout",
          "text": [
            "\n",
            "0: 384x640 18 persons, 6 cars, 21 motorcycles, 2 buss, 3 trucks, 1 backpack, 21.9ms\n",
            "Speed: 3.2ms preprocess, 21.9ms inference, 1.5ms postprocess per image at shape (1, 3, 384, 640)\n"
          ]
        },
        {
          "output_type": "stream",
          "name": "stderr",
          "text": [
            "\rProcessing frames:  17%|\u001b[32m█▋        \u001b[0m| 129/780 [00:16<01:18,  8.27it/s]"
          ]
        },
        {
          "output_type": "stream",
          "name": "stdout",
          "text": [
            "\n",
            "0: 384x640 19 persons, 6 cars, 21 motorcycles, 2 buss, 4 trucks, 1 backpack, 21.9ms\n",
            "Speed: 2.5ms preprocess, 21.9ms inference, 1.5ms postprocess per image at shape (1, 3, 384, 640)\n"
          ]
        },
        {
          "output_type": "stream",
          "name": "stderr",
          "text": [
            "\rProcessing frames:  17%|\u001b[32m█▋        \u001b[0m| 130/780 [00:16<01:19,  8.21it/s]"
          ]
        },
        {
          "output_type": "stream",
          "name": "stdout",
          "text": [
            "\n",
            "0: 384x640 19 persons, 6 cars, 22 motorcycles, 2 buss, 4 trucks, 1 backpack, 21.9ms\n",
            "Speed: 2.6ms preprocess, 21.9ms inference, 1.5ms postprocess per image at shape (1, 3, 384, 640)\n"
          ]
        },
        {
          "output_type": "stream",
          "name": "stderr",
          "text": [
            "\rProcessing frames:  17%|\u001b[32m█▋        \u001b[0m| 131/780 [00:16<01:19,  8.21it/s]"
          ]
        },
        {
          "output_type": "stream",
          "name": "stdout",
          "text": [
            "\n",
            "0: 384x640 19 persons, 6 cars, 21 motorcycles, 2 buss, 4 trucks, 1 backpack, 22.0ms\n",
            "Speed: 3.3ms preprocess, 22.0ms inference, 1.5ms postprocess per image at shape (1, 3, 384, 640)\n"
          ]
        },
        {
          "output_type": "stream",
          "name": "stderr",
          "text": [
            "\rProcessing frames:  17%|\u001b[32m█▋        \u001b[0m| 132/780 [00:16<01:18,  8.23it/s]"
          ]
        },
        {
          "output_type": "stream",
          "name": "stdout",
          "text": [
            "\n",
            "0: 384x640 19 persons, 6 cars, 21 motorcycles, 2 buss, 3 trucks, 1 backpack, 21.9ms\n",
            "Speed: 2.5ms preprocess, 21.9ms inference, 1.5ms postprocess per image at shape (1, 3, 384, 640)\n"
          ]
        },
        {
          "output_type": "stream",
          "name": "stderr",
          "text": [
            "\rProcessing frames:  17%|\u001b[32m█▋        \u001b[0m| 133/780 [00:17<01:19,  8.18it/s]"
          ]
        },
        {
          "output_type": "stream",
          "name": "stdout",
          "text": [
            "\n",
            "0: 384x640 19 persons, 6 cars, 20 motorcycles, 2 buss, 3 trucks, 1 backpack, 21.7ms\n",
            "Speed: 2.5ms preprocess, 21.7ms inference, 1.4ms postprocess per image at shape (1, 3, 384, 640)\n"
          ]
        },
        {
          "output_type": "stream",
          "name": "stderr",
          "text": [
            "\rProcessing frames:  17%|\u001b[32m█▋        \u001b[0m| 134/780 [00:17<01:18,  8.24it/s]"
          ]
        },
        {
          "output_type": "stream",
          "name": "stdout",
          "text": [
            "\n",
            "0: 384x640 19 persons, 6 cars, 22 motorcycles, 2 buss, 3 trucks, 1 backpack, 21.8ms\n",
            "Speed: 2.6ms preprocess, 21.8ms inference, 1.6ms postprocess per image at shape (1, 3, 384, 640)\n"
          ]
        },
        {
          "output_type": "stream",
          "name": "stderr",
          "text": [
            "\rProcessing frames:  17%|\u001b[32m█▋        \u001b[0m| 135/780 [00:17<01:18,  8.19it/s]"
          ]
        },
        {
          "output_type": "stream",
          "name": "stdout",
          "text": [
            "\n",
            "0: 384x640 19 persons, 6 cars, 22 motorcycles, 1 bus, 3 trucks, 1 backpack, 21.8ms\n",
            "Speed: 3.2ms preprocess, 21.8ms inference, 1.5ms postprocess per image at shape (1, 3, 384, 640)\n"
          ]
        },
        {
          "output_type": "stream",
          "name": "stderr",
          "text": [
            "\rProcessing frames:  17%|\u001b[32m█▋        \u001b[0m| 136/780 [00:17<01:18,  8.20it/s]"
          ]
        },
        {
          "output_type": "stream",
          "name": "stdout",
          "text": [
            "\n",
            "0: 384x640 19 persons, 6 cars, 21 motorcycles, 1 bus, 3 trucks, 1 backpack, 21.9ms\n",
            "Speed: 2.5ms preprocess, 21.9ms inference, 1.5ms postprocess per image at shape (1, 3, 384, 640)\n"
          ]
        },
        {
          "output_type": "stream",
          "name": "stderr",
          "text": [
            "\rProcessing frames:  18%|\u001b[32m█▊        \u001b[0m| 137/780 [00:17<01:18,  8.23it/s]"
          ]
        },
        {
          "output_type": "stream",
          "name": "stdout",
          "text": [
            "\n",
            "0: 384x640 19 persons, 6 cars, 21 motorcycles, 1 bus, 2 trucks, 1 backpack, 22.4ms\n",
            "Speed: 3.2ms preprocess, 22.4ms inference, 1.5ms postprocess per image at shape (1, 3, 384, 640)\n"
          ]
        },
        {
          "output_type": "stream",
          "name": "stderr",
          "text": [
            "\rProcessing frames:  18%|\u001b[32m█▊        \u001b[0m| 138/780 [00:17<01:17,  8.26it/s]"
          ]
        },
        {
          "output_type": "stream",
          "name": "stdout",
          "text": [
            "\n",
            "0: 384x640 20 persons, 6 cars, 21 motorcycles, 1 bus, 2 trucks, 1 backpack, 21.3ms\n",
            "Speed: 2.4ms preprocess, 21.3ms inference, 1.6ms postprocess per image at shape (1, 3, 384, 640)\n"
          ]
        },
        {
          "output_type": "stream",
          "name": "stderr",
          "text": [
            "\rProcessing frames:  18%|\u001b[32m█▊        \u001b[0m| 139/780 [00:17<01:17,  8.28it/s]"
          ]
        },
        {
          "output_type": "stream",
          "name": "stdout",
          "text": [
            "\n",
            "0: 384x640 20 persons, 6 cars, 22 motorcycles, 1 bus, 1 truck, 1 traffic light, 1 backpack, 21.1ms\n",
            "Speed: 3.3ms preprocess, 21.1ms inference, 1.4ms postprocess per image at shape (1, 3, 384, 640)\n"
          ]
        },
        {
          "output_type": "stream",
          "name": "stderr",
          "text": [
            "\rProcessing frames:  18%|\u001b[32m█▊        \u001b[0m| 140/780 [00:17<01:17,  8.31it/s]"
          ]
        },
        {
          "output_type": "stream",
          "name": "stdout",
          "text": [
            "\n",
            "0: 384x640 20 persons, 6 cars, 22 motorcycles, 1 bus, 1 truck, 1 traffic light, 1 backpack, 21.9ms\n",
            "Speed: 2.8ms preprocess, 21.9ms inference, 1.6ms postprocess per image at shape (1, 3, 384, 640)\n"
          ]
        },
        {
          "output_type": "stream",
          "name": "stderr",
          "text": [
            "\rProcessing frames:  18%|\u001b[32m█▊        \u001b[0m| 141/780 [00:18<01:17,  8.29it/s]"
          ]
        },
        {
          "output_type": "stream",
          "name": "stdout",
          "text": [
            "\n",
            "0: 384x640 20 persons, 6 cars, 23 motorcycles, 1 bus, 1 truck, 1 traffic light, 1 backpack, 21.2ms\n",
            "Speed: 2.5ms preprocess, 21.2ms inference, 1.6ms postprocess per image at shape (1, 3, 384, 640)\n"
          ]
        },
        {
          "output_type": "stream",
          "name": "stderr",
          "text": [
            "\rProcessing frames:  18%|\u001b[32m█▊        \u001b[0m| 142/780 [00:18<01:17,  8.28it/s]"
          ]
        },
        {
          "output_type": "stream",
          "name": "stdout",
          "text": [
            "\n",
            "0: 384x640 20 persons, 6 cars, 22 motorcycles, 1 bus, 1 truck, 1 traffic light, 1 backpack, 21.8ms\n",
            "Speed: 3.3ms preprocess, 21.8ms inference, 1.5ms postprocess per image at shape (1, 3, 384, 640)\n"
          ]
        },
        {
          "output_type": "stream",
          "name": "stderr",
          "text": [
            "\rProcessing frames:  18%|\u001b[32m█▊        \u001b[0m| 143/780 [00:18<01:17,  8.20it/s]"
          ]
        },
        {
          "output_type": "stream",
          "name": "stdout",
          "text": [
            "\n",
            "0: 384x640 19 persons, 6 cars, 23 motorcycles, 1 bus, 1 truck, 1 traffic light, 1 backpack, 21.5ms\n",
            "Speed: 2.6ms preprocess, 21.5ms inference, 1.5ms postprocess per image at shape (1, 3, 384, 640)\n"
          ]
        },
        {
          "output_type": "stream",
          "name": "stderr",
          "text": [
            "\rProcessing frames:  18%|\u001b[32m█▊        \u001b[0m| 144/780 [00:18<01:17,  8.26it/s]"
          ]
        },
        {
          "output_type": "stream",
          "name": "stdout",
          "text": [
            "\n",
            "0: 384x640 19 persons, 6 cars, 24 motorcycles, 1 bus, 1 truck, 1 traffic light, 1 backpack, 21.1ms\n",
            "Speed: 2.6ms preprocess, 21.1ms inference, 1.5ms postprocess per image at shape (1, 3, 384, 640)\n"
          ]
        },
        {
          "output_type": "stream",
          "name": "stderr",
          "text": [
            "\rProcessing frames:  19%|\u001b[32m█▊        \u001b[0m| 145/780 [00:18<01:17,  8.24it/s]"
          ]
        },
        {
          "output_type": "stream",
          "name": "stdout",
          "text": [
            "\n",
            "0: 384x640 19 persons, 6 cars, 23 motorcycles, 1 bus, 1 truck, 1 traffic light, 1 backpack, 21.4ms\n",
            "Speed: 2.6ms preprocess, 21.4ms inference, 1.6ms postprocess per image at shape (1, 3, 384, 640)\n"
          ]
        },
        {
          "output_type": "stream",
          "name": "stderr",
          "text": [
            "\rProcessing frames:  19%|\u001b[32m█▊        \u001b[0m| 146/780 [00:18<01:17,  8.21it/s]"
          ]
        },
        {
          "output_type": "stream",
          "name": "stdout",
          "text": [
            "\n",
            "0: 384x640 20 persons, 6 cars, 24 motorcycles, 1 bus, 1 truck, 1 traffic light, 1 backpack, 21.2ms\n",
            "Speed: 2.6ms preprocess, 21.2ms inference, 1.5ms postprocess per image at shape (1, 3, 384, 640)\n"
          ]
        },
        {
          "output_type": "stream",
          "name": "stderr",
          "text": [
            "\rProcessing frames:  19%|\u001b[32m█▉        \u001b[0m| 147/780 [00:18<01:17,  8.17it/s]"
          ]
        },
        {
          "output_type": "stream",
          "name": "stdout",
          "text": [
            "\n",
            "0: 384x640 21 persons, 6 cars, 26 motorcycles, 1 bus, 1 truck, 1 backpack, 20.9ms\n",
            "Speed: 2.5ms preprocess, 20.9ms inference, 1.5ms postprocess per image at shape (1, 3, 384, 640)\n"
          ]
        },
        {
          "output_type": "stream",
          "name": "stderr",
          "text": [
            "\rProcessing frames:  19%|\u001b[32m█▉        \u001b[0m| 148/780 [00:18<01:17,  8.20it/s]"
          ]
        },
        {
          "output_type": "stream",
          "name": "stdout",
          "text": [
            "\n",
            "0: 384x640 21 persons, 6 cars, 25 motorcycles, 2 buss, 1 truck, 1 backpack, 21.3ms\n",
            "Speed: 2.6ms preprocess, 21.3ms inference, 1.5ms postprocess per image at shape (1, 3, 384, 640)\n"
          ]
        },
        {
          "output_type": "stream",
          "name": "stderr",
          "text": [
            "\rProcessing frames:  19%|\u001b[32m█▉        \u001b[0m| 149/780 [00:19<01:17,  8.19it/s]"
          ]
        },
        {
          "output_type": "stream",
          "name": "stdout",
          "text": [
            "\n",
            "0: 384x640 21 persons, 6 cars, 26 motorcycles, 2 buss, 1 truck, 1 backpack, 21.2ms\n",
            "Speed: 2.6ms preprocess, 21.2ms inference, 1.5ms postprocess per image at shape (1, 3, 384, 640)\n"
          ]
        },
        {
          "output_type": "stream",
          "name": "stderr",
          "text": [
            "\rProcessing frames:  19%|\u001b[32m█▉        \u001b[0m| 150/780 [00:19<01:17,  8.15it/s]"
          ]
        },
        {
          "output_type": "stream",
          "name": "stdout",
          "text": [
            "\n",
            "0: 384x640 21 persons, 6 cars, 26 motorcycles, 2 buss, 1 truck, 1 backpack, 21.9ms\n",
            "Speed: 2.9ms preprocess, 21.9ms inference, 1.5ms postprocess per image at shape (1, 3, 384, 640)\n"
          ]
        },
        {
          "output_type": "stream",
          "name": "stderr",
          "text": [
            "\rProcessing frames:  19%|\u001b[32m█▉        \u001b[0m| 151/780 [00:19<01:18,  8.06it/s]"
          ]
        },
        {
          "output_type": "stream",
          "name": "stdout",
          "text": [
            "\n",
            "0: 384x640 21 persons, 6 cars, 27 motorcycles, 2 buss, 1 truck, 1 backpack, 21.9ms\n",
            "Speed: 3.0ms preprocess, 21.9ms inference, 1.5ms postprocess per image at shape (1, 3, 384, 640)\n"
          ]
        },
        {
          "output_type": "stream",
          "name": "stderr",
          "text": [
            "\rProcessing frames:  19%|\u001b[32m█▉        \u001b[0m| 152/780 [00:19<01:17,  8.06it/s]"
          ]
        },
        {
          "output_type": "stream",
          "name": "stdout",
          "text": [
            "\n",
            "0: 384x640 21 persons, 1 bicycle, 6 cars, 27 motorcycles, 2 buss, 1 truck, 1 backpack, 21.7ms\n",
            "Speed: 2.4ms preprocess, 21.7ms inference, 1.5ms postprocess per image at shape (1, 3, 384, 640)\n"
          ]
        },
        {
          "output_type": "stream",
          "name": "stderr",
          "text": [
            "\rProcessing frames:  20%|\u001b[32m█▉        \u001b[0m| 153/780 [00:19<01:17,  8.05it/s]"
          ]
        },
        {
          "output_type": "stream",
          "name": "stdout",
          "text": [
            "\n",
            "0: 384x640 21 persons, 1 bicycle, 6 cars, 27 motorcycles, 2 buss, 1 truck, 1 backpack, 21.1ms\n",
            "Speed: 2.5ms preprocess, 21.1ms inference, 1.5ms postprocess per image at shape (1, 3, 384, 640)\n"
          ]
        },
        {
          "output_type": "stream",
          "name": "stderr",
          "text": [
            "\rProcessing frames:  20%|\u001b[32m█▉        \u001b[0m| 154/780 [00:19<01:17,  8.06it/s]"
          ]
        },
        {
          "output_type": "stream",
          "name": "stdout",
          "text": [
            "\n",
            "0: 384x640 21 persons, 1 bicycle, 6 cars, 28 motorcycles, 1 bus, 1 backpack, 21.3ms\n",
            "Speed: 3.0ms preprocess, 21.3ms inference, 1.5ms postprocess per image at shape (1, 3, 384, 640)\n"
          ]
        },
        {
          "output_type": "stream",
          "name": "stderr",
          "text": [
            "\rProcessing frames:  20%|\u001b[32m█▉        \u001b[0m| 155/780 [00:19<01:17,  8.07it/s]"
          ]
        },
        {
          "output_type": "stream",
          "name": "stdout",
          "text": [
            "\n",
            "0: 384x640 21 persons, 1 bicycle, 6 cars, 28 motorcycles, 2 buss, 1 backpack, 21.1ms\n",
            "Speed: 2.8ms preprocess, 21.1ms inference, 1.5ms postprocess per image at shape (1, 3, 384, 640)\n"
          ]
        },
        {
          "output_type": "stream",
          "name": "stderr",
          "text": [
            "\rProcessing frames:  20%|\u001b[32m██        \u001b[0m| 156/780 [00:19<01:17,  8.08it/s]"
          ]
        },
        {
          "output_type": "stream",
          "name": "stdout",
          "text": [
            "\n",
            "0: 384x640 21 persons, 1 bicycle, 6 cars, 27 motorcycles, 2 buss, 1 truck, 1 backpack, 21.1ms\n",
            "Speed: 2.5ms preprocess, 21.1ms inference, 1.4ms postprocess per image at shape (1, 3, 384, 640)\n"
          ]
        },
        {
          "output_type": "stream",
          "name": "stderr",
          "text": [
            "\rProcessing frames:  20%|\u001b[32m██        \u001b[0m| 157/780 [00:20<01:17,  8.03it/s]"
          ]
        },
        {
          "output_type": "stream",
          "name": "stdout",
          "text": [
            "\n",
            "0: 384x640 21 persons, 1 bicycle, 6 cars, 25 motorcycles, 2 buss, 1 truck, 1 backpack, 21.5ms\n",
            "Speed: 2.6ms preprocess, 21.5ms inference, 1.5ms postprocess per image at shape (1, 3, 384, 640)\n"
          ]
        },
        {
          "output_type": "stream",
          "name": "stderr",
          "text": [
            "\rProcessing frames:  20%|\u001b[32m██        \u001b[0m| 158/780 [00:20<01:17,  8.07it/s]"
          ]
        },
        {
          "output_type": "stream",
          "name": "stdout",
          "text": [
            "\n",
            "0: 384x640 21 persons, 1 bicycle, 6 cars, 25 motorcycles, 2 buss, 1 truck, 1 backpack, 21.6ms\n",
            "Speed: 2.9ms preprocess, 21.6ms inference, 1.5ms postprocess per image at shape (1, 3, 384, 640)\n"
          ]
        },
        {
          "output_type": "stream",
          "name": "stderr",
          "text": [
            "\rProcessing frames:  20%|\u001b[32m██        \u001b[0m| 159/780 [00:20<01:17,  8.00it/s]"
          ]
        },
        {
          "output_type": "stream",
          "name": "stdout",
          "text": [
            "\n",
            "0: 384x640 21 persons, 1 bicycle, 6 cars, 26 motorcycles, 2 buss, 1 truck, 1 backpack, 22.8ms\n",
            "Speed: 2.6ms preprocess, 22.8ms inference, 1.5ms postprocess per image at shape (1, 3, 384, 640)\n"
          ]
        },
        {
          "output_type": "stream",
          "name": "stderr",
          "text": [
            "\rProcessing frames:  21%|\u001b[32m██        \u001b[0m| 160/780 [00:20<01:17,  7.97it/s]"
          ]
        },
        {
          "output_type": "stream",
          "name": "stdout",
          "text": [
            "\n",
            "0: 384x640 21 persons, 1 bicycle, 7 cars, 26 motorcycles, 2 buss, 1 truck, 1 backpack, 20.9ms\n",
            "Speed: 2.5ms preprocess, 20.9ms inference, 1.5ms postprocess per image at shape (1, 3, 384, 640)\n"
          ]
        },
        {
          "output_type": "stream",
          "name": "stderr",
          "text": [
            "\rProcessing frames:  21%|\u001b[32m██        \u001b[0m| 161/780 [00:20<01:17,  8.02it/s]"
          ]
        },
        {
          "output_type": "stream",
          "name": "stdout",
          "text": [
            "\n",
            "0: 384x640 21 persons, 1 bicycle, 6 cars, 26 motorcycles, 2 buss, 3 trucks, 1 backpack, 22.0ms\n",
            "Speed: 2.5ms preprocess, 22.0ms inference, 1.5ms postprocess per image at shape (1, 3, 384, 640)\n"
          ]
        },
        {
          "output_type": "stream",
          "name": "stderr",
          "text": [
            "\rProcessing frames:  21%|\u001b[32m██        \u001b[0m| 162/780 [00:20<01:17,  7.96it/s]"
          ]
        },
        {
          "output_type": "stream",
          "name": "stdout",
          "text": [
            "\n",
            "0: 384x640 21 persons, 1 bicycle, 7 cars, 26 motorcycles, 2 buss, 3 trucks, 1 backpack, 21.1ms\n",
            "Speed: 2.5ms preprocess, 21.1ms inference, 1.4ms postprocess per image at shape (1, 3, 384, 640)\n"
          ]
        },
        {
          "output_type": "stream",
          "name": "stderr",
          "text": [
            "\rProcessing frames:  21%|\u001b[32m██        \u001b[0m| 163/780 [00:20<01:17,  8.00it/s]"
          ]
        },
        {
          "output_type": "stream",
          "name": "stdout",
          "text": [
            "\n",
            "0: 384x640 20 persons, 1 bicycle, 7 cars, 26 motorcycles, 2 buss, 3 trucks, 1 backpack, 21.4ms\n",
            "Speed: 2.5ms preprocess, 21.4ms inference, 1.5ms postprocess per image at shape (1, 3, 384, 640)\n"
          ]
        },
        {
          "output_type": "stream",
          "name": "stderr",
          "text": [
            "\rProcessing frames:  21%|\u001b[32m██        \u001b[0m| 164/780 [00:20<01:16,  8.03it/s]"
          ]
        },
        {
          "output_type": "stream",
          "name": "stdout",
          "text": [
            "\n",
            "0: 384x640 20 persons, 1 bicycle, 7 cars, 25 motorcycles, 1 bus, 2 trucks, 1 backpack, 21.3ms\n",
            "Speed: 2.5ms preprocess, 21.3ms inference, 1.4ms postprocess per image at shape (1, 3, 384, 640)\n"
          ]
        },
        {
          "output_type": "stream",
          "name": "stderr",
          "text": [
            "\rProcessing frames:  21%|\u001b[32m██        \u001b[0m| 165/780 [00:21<01:16,  8.07it/s]"
          ]
        },
        {
          "output_type": "stream",
          "name": "stdout",
          "text": [
            "\n",
            "0: 384x640 20 persons, 1 bicycle, 6 cars, 25 motorcycles, 2 buss, 3 trucks, 1 backpack, 21.4ms\n",
            "Speed: 3.3ms preprocess, 21.4ms inference, 1.5ms postprocess per image at shape (1, 3, 384, 640)\n"
          ]
        },
        {
          "output_type": "stream",
          "name": "stderr",
          "text": [
            "\rProcessing frames:  21%|\u001b[32m██▏       \u001b[0m| 166/780 [00:21<01:16,  8.08it/s]"
          ]
        },
        {
          "output_type": "stream",
          "name": "stdout",
          "text": [
            "\n",
            "0: 384x640 20 persons, 1 bicycle, 7 cars, 24 motorcycles, 2 buss, 1 truck, 1 backpack, 21.6ms\n",
            "Speed: 3.2ms preprocess, 21.6ms inference, 1.5ms postprocess per image at shape (1, 3, 384, 640)\n"
          ]
        },
        {
          "output_type": "stream",
          "name": "stderr",
          "text": [
            "\rProcessing frames:  21%|\u001b[32m██▏       \u001b[0m| 167/780 [00:21<01:16,  8.00it/s]"
          ]
        },
        {
          "output_type": "stream",
          "name": "stdout",
          "text": [
            "\n",
            "0: 384x640 20 persons, 1 bicycle, 7 cars, 23 motorcycles, 1 bus, 2 trucks, 1 backpack, 20.9ms\n",
            "Speed: 3.4ms preprocess, 20.9ms inference, 1.5ms postprocess per image at shape (1, 3, 384, 640)\n"
          ]
        },
        {
          "output_type": "stream",
          "name": "stderr",
          "text": [
            "\rProcessing frames:  22%|\u001b[32m██▏       \u001b[0m| 168/780 [00:21<01:15,  8.07it/s]"
          ]
        },
        {
          "output_type": "stream",
          "name": "stdout",
          "text": [
            "\n",
            "0: 384x640 20 persons, 1 bicycle, 7 cars, 23 motorcycles, 1 bus, 2 trucks, 1 backpack, 20.6ms\n",
            "Speed: 2.4ms preprocess, 20.6ms inference, 1.4ms postprocess per image at shape (1, 3, 384, 640)\n"
          ]
        },
        {
          "output_type": "stream",
          "name": "stderr",
          "text": [
            "\rProcessing frames:  22%|\u001b[32m██▏       \u001b[0m| 169/780 [00:21<01:15,  8.10it/s]"
          ]
        },
        {
          "output_type": "stream",
          "name": "stdout",
          "text": [
            "\n",
            "0: 384x640 20 persons, 1 bicycle, 7 cars, 22 motorcycles, 2 buss, 1 truck, 1 backpack, 21.1ms\n",
            "Speed: 2.4ms preprocess, 21.1ms inference, 1.4ms postprocess per image at shape (1, 3, 384, 640)\n"
          ]
        },
        {
          "output_type": "stream",
          "name": "stderr",
          "text": [
            "\rProcessing frames:  22%|\u001b[32m██▏       \u001b[0m| 170/780 [00:21<01:14,  8.16it/s]"
          ]
        },
        {
          "output_type": "stream",
          "name": "stdout",
          "text": [
            "\n",
            "0: 384x640 21 persons, 1 bicycle, 7 cars, 23 motorcycles, 1 bus, 2 trucks, 1 backpack, 21.6ms\n",
            "Speed: 2.5ms preprocess, 21.6ms inference, 1.5ms postprocess per image at shape (1, 3, 384, 640)\n"
          ]
        },
        {
          "output_type": "stream",
          "name": "stderr",
          "text": [
            "\rProcessing frames:  22%|\u001b[32m██▏       \u001b[0m| 171/780 [00:21<01:14,  8.19it/s]"
          ]
        },
        {
          "output_type": "stream",
          "name": "stdout",
          "text": [
            "\n",
            "0: 384x640 21 persons, 1 bicycle, 7 cars, 23 motorcycles, 1 bus, 1 truck, 1 backpack, 21.1ms\n",
            "Speed: 2.5ms preprocess, 21.1ms inference, 1.5ms postprocess per image at shape (1, 3, 384, 640)\n"
          ]
        },
        {
          "output_type": "stream",
          "name": "stderr",
          "text": [
            "\rProcessing frames:  22%|\u001b[32m██▏       \u001b[0m| 172/780 [00:21<01:14,  8.20it/s]"
          ]
        },
        {
          "output_type": "stream",
          "name": "stdout",
          "text": [
            "\n",
            "0: 384x640 22 persons, 1 bicycle, 7 cars, 22 motorcycles, 1 bus, 1 truck, 1 backpack, 21.8ms\n",
            "Speed: 2.6ms preprocess, 21.8ms inference, 1.5ms postprocess per image at shape (1, 3, 384, 640)\n"
          ]
        },
        {
          "output_type": "stream",
          "name": "stderr",
          "text": [
            "\rProcessing frames:  22%|\u001b[32m██▏       \u001b[0m| 173/780 [00:22<01:13,  8.21it/s]"
          ]
        },
        {
          "output_type": "stream",
          "name": "stdout",
          "text": [
            "\n",
            "0: 384x640 22 persons, 1 bicycle, 7 cars, 22 motorcycles, 2 buss, 1 truck, 1 backpack, 21.2ms\n",
            "Speed: 2.4ms preprocess, 21.2ms inference, 1.4ms postprocess per image at shape (1, 3, 384, 640)\n"
          ]
        },
        {
          "output_type": "stream",
          "name": "stderr",
          "text": [
            "\rProcessing frames:  22%|\u001b[32m██▏       \u001b[0m| 174/780 [00:22<01:14,  8.18it/s]"
          ]
        },
        {
          "output_type": "stream",
          "name": "stdout",
          "text": [
            "\n",
            "0: 384x640 21 persons, 1 bicycle, 7 cars, 22 motorcycles, 2 buss, 1 truck, 1 backpack, 21.2ms\n",
            "Speed: 2.5ms preprocess, 21.2ms inference, 1.4ms postprocess per image at shape (1, 3, 384, 640)\n"
          ]
        },
        {
          "output_type": "stream",
          "name": "stderr",
          "text": [
            "\rProcessing frames:  22%|\u001b[32m██▏       \u001b[0m| 175/780 [00:22<01:13,  8.20it/s]"
          ]
        },
        {
          "output_type": "stream",
          "name": "stdout",
          "text": [
            "\n",
            "0: 384x640 20 persons, 1 bicycle, 6 cars, 22 motorcycles, 2 buss, 2 trucks, 1 traffic light, 1 backpack, 21.8ms\n",
            "Speed: 2.4ms preprocess, 21.8ms inference, 1.5ms postprocess per image at shape (1, 3, 384, 640)\n"
          ]
        },
        {
          "output_type": "stream",
          "name": "stderr",
          "text": [
            "\rProcessing frames:  23%|\u001b[32m██▎       \u001b[0m| 176/780 [00:22<01:13,  8.19it/s]"
          ]
        },
        {
          "output_type": "stream",
          "name": "stdout",
          "text": [
            "\n",
            "0: 384x640 19 persons, 1 bicycle, 6 cars, 22 motorcycles, 2 buss, 2 trucks, 1 traffic light, 1 backpack, 21.1ms\n",
            "Speed: 2.4ms preprocess, 21.1ms inference, 1.4ms postprocess per image at shape (1, 3, 384, 640)\n"
          ]
        },
        {
          "output_type": "stream",
          "name": "stderr",
          "text": [
            "\rProcessing frames:  23%|\u001b[32m██▎       \u001b[0m| 177/780 [00:22<01:13,  8.25it/s]"
          ]
        },
        {
          "output_type": "stream",
          "name": "stdout",
          "text": [
            "\n",
            "0: 384x640 19 persons, 1 bicycle, 6 cars, 22 motorcycles, 2 buss, 2 trucks, 1 traffic light, 1 backpack, 21.6ms\n",
            "Speed: 2.7ms preprocess, 21.6ms inference, 1.5ms postprocess per image at shape (1, 3, 384, 640)\n"
          ]
        },
        {
          "output_type": "stream",
          "name": "stderr",
          "text": [
            "\rProcessing frames:  23%|\u001b[32m██▎       \u001b[0m| 178/780 [00:22<01:12,  8.25it/s]"
          ]
        },
        {
          "output_type": "stream",
          "name": "stdout",
          "text": [
            "\n",
            "0: 384x640 19 persons, 1 bicycle, 7 cars, 23 motorcycles, 2 buss, 1 truck, 1 traffic light, 1 backpack, 21.7ms\n",
            "Speed: 2.5ms preprocess, 21.7ms inference, 1.6ms postprocess per image at shape (1, 3, 384, 640)\n"
          ]
        },
        {
          "output_type": "stream",
          "name": "stderr",
          "text": [
            "\rProcessing frames:  23%|\u001b[32m██▎       \u001b[0m| 179/780 [00:22<01:13,  8.17it/s]"
          ]
        },
        {
          "output_type": "stream",
          "name": "stdout",
          "text": [
            "\n",
            "0: 384x640 19 persons, 1 bicycle, 6 cars, 24 motorcycles, 2 buss, 2 trucks, 1 traffic light, 1 backpack, 21.7ms\n",
            "Speed: 2.5ms preprocess, 21.7ms inference, 1.5ms postprocess per image at shape (1, 3, 384, 640)\n"
          ]
        },
        {
          "output_type": "stream",
          "name": "stderr",
          "text": [
            "\rProcessing frames:  23%|\u001b[32m██▎       \u001b[0m| 180/780 [00:22<01:13,  8.14it/s]"
          ]
        },
        {
          "output_type": "stream",
          "name": "stdout",
          "text": [
            "\n",
            "0: 384x640 19 persons, 1 bicycle, 6 cars, 24 motorcycles, 2 buss, 2 trucks, 1 traffic light, 1 backpack, 21.3ms\n",
            "Speed: 2.6ms preprocess, 21.3ms inference, 1.4ms postprocess per image at shape (1, 3, 384, 640)\n"
          ]
        },
        {
          "output_type": "stream",
          "name": "stderr",
          "text": [
            "\rProcessing frames:  23%|\u001b[32m██▎       \u001b[0m| 181/780 [00:23<01:13,  8.12it/s]"
          ]
        },
        {
          "output_type": "stream",
          "name": "stdout",
          "text": [
            "\n",
            "0: 384x640 20 persons, 1 bicycle, 6 cars, 24 motorcycles, 2 buss, 2 trucks, 1 traffic light, 1 backpack, 21.7ms\n",
            "Speed: 3.5ms preprocess, 21.7ms inference, 1.5ms postprocess per image at shape (1, 3, 384, 640)\n"
          ]
        },
        {
          "output_type": "stream",
          "name": "stderr",
          "text": [
            "\rProcessing frames:  23%|\u001b[32m██▎       \u001b[0m| 182/780 [00:23<01:13,  8.10it/s]"
          ]
        },
        {
          "output_type": "stream",
          "name": "stdout",
          "text": [
            "\n",
            "0: 384x640 19 persons, 1 bicycle, 7 cars, 23 motorcycles, 2 buss, 1 truck, 1 traffic light, 1 backpack, 21.1ms\n",
            "Speed: 2.5ms preprocess, 21.1ms inference, 1.5ms postprocess per image at shape (1, 3, 384, 640)\n"
          ]
        },
        {
          "output_type": "stream",
          "name": "stderr",
          "text": [
            "\rProcessing frames:  23%|\u001b[32m██▎       \u001b[0m| 183/780 [00:23<01:14,  8.06it/s]"
          ]
        },
        {
          "output_type": "stream",
          "name": "stdout",
          "text": [
            "\n",
            "0: 384x640 19 persons, 1 bicycle, 7 cars, 23 motorcycles, 2 buss, 1 truck, 1 traffic light, 1 backpack, 24.4ms\n",
            "Speed: 2.9ms preprocess, 24.4ms inference, 1.7ms postprocess per image at shape (1, 3, 384, 640)\n"
          ]
        },
        {
          "output_type": "stream",
          "name": "stderr",
          "text": [
            "\rProcessing frames:  24%|\u001b[32m██▎       \u001b[0m| 184/780 [00:23<01:14,  8.02it/s]"
          ]
        },
        {
          "output_type": "stream",
          "name": "stdout",
          "text": [
            "\n",
            "0: 384x640 19 persons, 1 bicycle, 7 cars, 23 motorcycles, 1 bus, 1 traffic light, 1 backpack, 21.1ms\n",
            "Speed: 2.5ms preprocess, 21.1ms inference, 1.5ms postprocess per image at shape (1, 3, 384, 640)\n"
          ]
        },
        {
          "output_type": "stream",
          "name": "stderr",
          "text": [
            "\rProcessing frames:  24%|\u001b[32m██▎       \u001b[0m| 185/780 [00:23<01:13,  8.11it/s]"
          ]
        },
        {
          "output_type": "stream",
          "name": "stdout",
          "text": [
            "\n",
            "0: 384x640 19 persons, 1 bicycle, 7 cars, 23 motorcycles, 1 bus, 1 truck, 1 traffic light, 1 backpack, 21.0ms\n",
            "Speed: 2.4ms preprocess, 21.0ms inference, 1.5ms postprocess per image at shape (1, 3, 384, 640)\n"
          ]
        },
        {
          "output_type": "stream",
          "name": "stderr",
          "text": [
            "\rProcessing frames:  24%|\u001b[32m██▍       \u001b[0m| 186/780 [00:23<01:12,  8.14it/s]"
          ]
        },
        {
          "output_type": "stream",
          "name": "stdout",
          "text": [
            "\n",
            "0: 384x640 20 persons, 1 bicycle, 7 cars, 23 motorcycles, 1 bus, 1 truck, 1 traffic light, 1 backpack, 21.3ms\n",
            "Speed: 2.9ms preprocess, 21.3ms inference, 1.4ms postprocess per image at shape (1, 3, 384, 640)\n"
          ]
        },
        {
          "output_type": "stream",
          "name": "stderr",
          "text": [
            "\rProcessing frames:  24%|\u001b[32m██▍       \u001b[0m| 187/780 [00:23<01:12,  8.16it/s]"
          ]
        },
        {
          "output_type": "stream",
          "name": "stdout",
          "text": [
            "\n",
            "0: 384x640 20 persons, 1 bicycle, 7 cars, 23 motorcycles, 1 bus, 1 truck, 1 traffic light, 1 backpack, 21.3ms\n",
            "Speed: 2.6ms preprocess, 21.3ms inference, 1.5ms postprocess per image at shape (1, 3, 384, 640)\n"
          ]
        },
        {
          "output_type": "stream",
          "name": "stderr",
          "text": [
            "\rProcessing frames:  24%|\u001b[32m██▍       \u001b[0m| 188/780 [00:23<01:12,  8.16it/s]"
          ]
        },
        {
          "output_type": "stream",
          "name": "stdout",
          "text": [
            "\n",
            "0: 384x640 20 persons, 1 bicycle, 7 cars, 24 motorcycles, 1 bus, 1 truck, 1 traffic light, 1 backpack, 21.0ms\n",
            "Speed: 2.5ms preprocess, 21.0ms inference, 1.5ms postprocess per image at shape (1, 3, 384, 640)\n"
          ]
        },
        {
          "output_type": "stream",
          "name": "stderr",
          "text": [
            "\rProcessing frames:  24%|\u001b[32m██▍       \u001b[0m| 189/780 [00:23<01:12,  8.17it/s]"
          ]
        },
        {
          "output_type": "stream",
          "name": "stdout",
          "text": [
            "\n",
            "0: 384x640 20 persons, 1 bicycle, 7 cars, 24 motorcycles, 1 bus, 1 truck, 1 backpack, 21.6ms\n",
            "Speed: 2.6ms preprocess, 21.6ms inference, 1.7ms postprocess per image at shape (1, 3, 384, 640)\n"
          ]
        },
        {
          "output_type": "stream",
          "name": "stderr",
          "text": [
            "\rProcessing frames:  24%|\u001b[32m██▍       \u001b[0m| 190/780 [00:24<01:12,  8.15it/s]"
          ]
        },
        {
          "output_type": "stream",
          "name": "stdout",
          "text": [
            "\n",
            "0: 384x640 20 persons, 1 bicycle, 7 cars, 24 motorcycles, 1 bus, 1 truck, 1 backpack, 21.3ms\n",
            "Speed: 3.3ms preprocess, 21.3ms inference, 1.4ms postprocess per image at shape (1, 3, 384, 640)\n"
          ]
        },
        {
          "output_type": "stream",
          "name": "stderr",
          "text": [
            "\rProcessing frames:  24%|\u001b[32m██▍       \u001b[0m| 191/780 [00:24<01:12,  8.16it/s]"
          ]
        },
        {
          "output_type": "stream",
          "name": "stdout",
          "text": [
            "\n",
            "0: 384x640 21 persons, 1 bicycle, 6 cars, 24 motorcycles, 1 bus, 2 trucks, 1 traffic light, 1 backpack, 23.7ms\n",
            "Speed: 2.5ms preprocess, 23.7ms inference, 1.5ms postprocess per image at shape (1, 3, 384, 640)\n"
          ]
        },
        {
          "output_type": "stream",
          "name": "stderr",
          "text": [
            "\rProcessing frames:  25%|\u001b[32m██▍       \u001b[0m| 192/780 [00:24<01:12,  8.08it/s]"
          ]
        },
        {
          "output_type": "stream",
          "name": "stdout",
          "text": [
            "\n",
            "0: 384x640 21 persons, 1 bicycle, 6 cars, 24 motorcycles, 1 bus, 2 trucks, 1 traffic light, 1 backpack, 21.4ms\n",
            "Speed: 2.5ms preprocess, 21.4ms inference, 1.4ms postprocess per image at shape (1, 3, 384, 640)\n"
          ]
        },
        {
          "output_type": "stream",
          "name": "stderr",
          "text": [
            "\rProcessing frames:  25%|\u001b[32m██▍       \u001b[0m| 193/780 [00:24<01:12,  8.09it/s]"
          ]
        },
        {
          "output_type": "stream",
          "name": "stdout",
          "text": [
            "\n",
            "0: 384x640 21 persons, 1 bicycle, 7 cars, 24 motorcycles, 1 bus, 1 truck, 1 traffic light, 1 backpack, 21.3ms\n",
            "Speed: 2.5ms preprocess, 21.3ms inference, 1.5ms postprocess per image at shape (1, 3, 384, 640)\n"
          ]
        },
        {
          "output_type": "stream",
          "name": "stderr",
          "text": [
            "\rProcessing frames:  25%|\u001b[32m██▍       \u001b[0m| 194/780 [00:24<01:12,  8.13it/s]"
          ]
        },
        {
          "output_type": "stream",
          "name": "stdout",
          "text": [
            "\n",
            "0: 384x640 21 persons, 1 bicycle, 6 cars, 24 motorcycles, 1 bus, 2 trucks, 1 traffic light, 1 backpack, 22.1ms\n",
            "Speed: 3.2ms preprocess, 22.1ms inference, 1.5ms postprocess per image at shape (1, 3, 384, 640)\n"
          ]
        },
        {
          "output_type": "stream",
          "name": "stderr",
          "text": [
            "\rProcessing frames:  25%|\u001b[32m██▌       \u001b[0m| 195/780 [00:24<01:12,  8.11it/s]"
          ]
        },
        {
          "output_type": "stream",
          "name": "stdout",
          "text": [
            "\n",
            "0: 384x640 21 persons, 1 bicycle, 6 cars, 24 motorcycles, 1 bus, 2 trucks, 1 backpack, 21.5ms\n",
            "Speed: 2.5ms preprocess, 21.5ms inference, 1.5ms postprocess per image at shape (1, 3, 384, 640)\n"
          ]
        },
        {
          "output_type": "stream",
          "name": "stderr",
          "text": [
            "\rProcessing frames:  25%|\u001b[32m██▌       \u001b[0m| 196/780 [00:24<01:12,  8.06it/s]"
          ]
        },
        {
          "output_type": "stream",
          "name": "stdout",
          "text": [
            "\n",
            "0: 384x640 21 persons, 1 bicycle, 6 cars, 26 motorcycles, 1 bus, 2 trucks, 1 backpack, 21.4ms\n",
            "Speed: 3.5ms preprocess, 21.4ms inference, 1.5ms postprocess per image at shape (1, 3, 384, 640)\n"
          ]
        },
        {
          "output_type": "stream",
          "name": "stderr",
          "text": [
            "\rProcessing frames:  25%|\u001b[32m██▌       \u001b[0m| 197/780 [00:24<01:12,  8.04it/s]"
          ]
        },
        {
          "output_type": "stream",
          "name": "stdout",
          "text": [
            "\n",
            "0: 384x640 22 persons, 1 bicycle, 6 cars, 26 motorcycles, 1 bus, 2 trucks, 1 backpack, 21.5ms\n",
            "Speed: 2.5ms preprocess, 21.5ms inference, 1.5ms postprocess per image at shape (1, 3, 384, 640)\n"
          ]
        },
        {
          "output_type": "stream",
          "name": "stderr",
          "text": [
            "\rProcessing frames:  25%|\u001b[32m██▌       \u001b[0m| 198/780 [00:25<01:15,  7.76it/s]"
          ]
        },
        {
          "output_type": "stream",
          "name": "stdout",
          "text": [
            "\n",
            "0: 384x640 21 persons, 1 bicycle, 6 cars, 26 motorcycles, 1 bus, 2 trucks, 1 backpack, 29.9ms\n",
            "Speed: 3.0ms preprocess, 29.9ms inference, 1.6ms postprocess per image at shape (1, 3, 384, 640)\n"
          ]
        },
        {
          "output_type": "stream",
          "name": "stderr",
          "text": [
            "\rProcessing frames:  26%|\u001b[32m██▌       \u001b[0m| 199/780 [00:25<01:19,  7.32it/s]"
          ]
        },
        {
          "output_type": "stream",
          "name": "stdout",
          "text": [
            "\n",
            "0: 384x640 21 persons, 1 bicycle, 6 cars, 25 motorcycles, 1 bus, 2 trucks, 1 backpack, 22.0ms\n",
            "Speed: 3.1ms preprocess, 22.0ms inference, 1.5ms postprocess per image at shape (1, 3, 384, 640)\n"
          ]
        },
        {
          "output_type": "stream",
          "name": "stderr",
          "text": [
            "\rProcessing frames:  26%|\u001b[32m██▌       \u001b[0m| 200/780 [00:25<01:17,  7.46it/s]"
          ]
        },
        {
          "output_type": "stream",
          "name": "stdout",
          "text": [
            "\n",
            "0: 384x640 21 persons, 1 bicycle, 6 cars, 24 motorcycles, 1 bus, 2 trucks, 1 backpack, 22.3ms\n",
            "Speed: 3.6ms preprocess, 22.3ms inference, 1.5ms postprocess per image at shape (1, 3, 384, 640)\n"
          ]
        },
        {
          "output_type": "stream",
          "name": "stderr",
          "text": [
            "\rProcessing frames:  26%|\u001b[32m██▌       \u001b[0m| 201/780 [00:25<01:20,  7.21it/s]"
          ]
        },
        {
          "output_type": "stream",
          "name": "stdout",
          "text": [
            "\n",
            "0: 384x640 21 persons, 1 bicycle, 6 cars, 23 motorcycles, 1 bus, 2 trucks, 1 backpack, 21.0ms\n",
            "Speed: 2.5ms preprocess, 21.0ms inference, 1.5ms postprocess per image at shape (1, 3, 384, 640)\n"
          ]
        },
        {
          "output_type": "stream",
          "name": "stderr",
          "text": [
            "\rProcessing frames:  26%|\u001b[32m██▌       \u001b[0m| 202/780 [00:25<01:16,  7.51it/s]"
          ]
        },
        {
          "output_type": "stream",
          "name": "stdout",
          "text": [
            "\n",
            "0: 384x640 21 persons, 1 bicycle, 6 cars, 22 motorcycles, 1 bus, 2 trucks, 1 backpack, 21.1ms\n",
            "Speed: 3.5ms preprocess, 21.1ms inference, 1.5ms postprocess per image at shape (1, 3, 384, 640)\n"
          ]
        },
        {
          "output_type": "stream",
          "name": "stderr",
          "text": [
            "\rProcessing frames:  26%|\u001b[32m██▌       \u001b[0m| 203/780 [00:25<01:14,  7.73it/s]"
          ]
        },
        {
          "output_type": "stream",
          "name": "stdout",
          "text": [
            "\n",
            "0: 384x640 20 persons, 1 bicycle, 6 cars, 23 motorcycles, 1 bus, 2 trucks, 1 backpack, 21.1ms\n",
            "Speed: 2.7ms preprocess, 21.1ms inference, 1.6ms postprocess per image at shape (1, 3, 384, 640)\n"
          ]
        },
        {
          "output_type": "stream",
          "name": "stderr",
          "text": [
            "\rProcessing frames:  26%|\u001b[32m██▌       \u001b[0m| 204/780 [00:25<01:12,  7.89it/s]"
          ]
        },
        {
          "output_type": "stream",
          "name": "stdout",
          "text": [
            "\n",
            "0: 384x640 20 persons, 1 bicycle, 6 cars, 24 motorcycles, 1 bus, 2 trucks, 1 backpack, 22.3ms\n",
            "Speed: 2.6ms preprocess, 22.3ms inference, 1.6ms postprocess per image at shape (1, 3, 384, 640)\n"
          ]
        },
        {
          "output_type": "stream",
          "name": "stderr",
          "text": [
            "\rProcessing frames:  26%|\u001b[32m██▋       \u001b[0m| 205/780 [00:26<01:12,  7.89it/s]"
          ]
        },
        {
          "output_type": "stream",
          "name": "stdout",
          "text": [
            "\n",
            "0: 384x640 19 persons, 1 bicycle, 6 cars, 22 motorcycles, 1 bus, 2 trucks, 1 backpack, 21.6ms\n",
            "Speed: 2.8ms preprocess, 21.6ms inference, 1.5ms postprocess per image at shape (1, 3, 384, 640)\n"
          ]
        },
        {
          "output_type": "stream",
          "name": "stderr",
          "text": [
            "\rProcessing frames:  26%|\u001b[32m██▋       \u001b[0m| 206/780 [00:26<01:11,  8.04it/s]"
          ]
        },
        {
          "output_type": "stream",
          "name": "stdout",
          "text": [
            "\n",
            "0: 384x640 19 persons, 1 bicycle, 6 cars, 22 motorcycles, 1 bus, 2 trucks, 1 backpack, 21.3ms\n",
            "Speed: 2.7ms preprocess, 21.3ms inference, 1.6ms postprocess per image at shape (1, 3, 384, 640)\n"
          ]
        },
        {
          "output_type": "stream",
          "name": "stderr",
          "text": [
            "\rProcessing frames:  27%|\u001b[32m██▋       \u001b[0m| 207/780 [00:26<01:10,  8.09it/s]"
          ]
        },
        {
          "output_type": "stream",
          "name": "stdout",
          "text": [
            "\n",
            "0: 384x640 19 persons, 1 bicycle, 6 cars, 22 motorcycles, 1 bus, 2 trucks, 1 backpack, 26.9ms\n",
            "Speed: 3.7ms preprocess, 26.9ms inference, 2.4ms postprocess per image at shape (1, 3, 384, 640)\n"
          ]
        },
        {
          "output_type": "stream",
          "name": "stderr",
          "text": [
            "\rProcessing frames:  27%|\u001b[32m██▋       \u001b[0m| 208/780 [00:26<01:11,  8.02it/s]"
          ]
        },
        {
          "output_type": "stream",
          "name": "stdout",
          "text": [
            "\n",
            "0: 384x640 19 persons, 1 bicycle, 6 cars, 23 motorcycles, 1 bus, 2 trucks, 1 backpack, 21.5ms\n",
            "Speed: 2.5ms preprocess, 21.5ms inference, 1.5ms postprocess per image at shape (1, 3, 384, 640)\n"
          ]
        },
        {
          "output_type": "stream",
          "name": "stderr",
          "text": [
            "\rProcessing frames:  27%|\u001b[32m██▋       \u001b[0m| 209/780 [00:26<01:10,  8.11it/s]"
          ]
        },
        {
          "output_type": "stream",
          "name": "stdout",
          "text": [
            "\n",
            "0: 384x640 19 persons, 1 bicycle, 6 cars, 22 motorcycles, 1 bus, 2 trucks, 1 backpack, 21.4ms\n",
            "Speed: 3.5ms preprocess, 21.4ms inference, 1.4ms postprocess per image at shape (1, 3, 384, 640)\n"
          ]
        },
        {
          "output_type": "stream",
          "name": "stderr",
          "text": [
            "\rProcessing frames:  27%|\u001b[32m██▋       \u001b[0m| 210/780 [00:26<01:09,  8.16it/s]"
          ]
        },
        {
          "output_type": "stream",
          "name": "stdout",
          "text": [
            "\n",
            "0: 384x640 19 persons, 1 bicycle, 6 cars, 22 motorcycles, 1 bus, 2 trucks, 1 backpack, 21.0ms\n",
            "Speed: 2.9ms preprocess, 21.0ms inference, 1.5ms postprocess per image at shape (1, 3, 384, 640)\n"
          ]
        },
        {
          "output_type": "stream",
          "name": "stderr",
          "text": [
            "\rProcessing frames:  27%|\u001b[32m██▋       \u001b[0m| 211/780 [00:26<01:09,  8.22it/s]"
          ]
        },
        {
          "output_type": "stream",
          "name": "stdout",
          "text": [
            "\n",
            "0: 384x640 19 persons, 1 bicycle, 6 cars, 22 motorcycles, 1 bus, 2 trucks, 1 backpack, 21.6ms\n",
            "Speed: 2.6ms preprocess, 21.6ms inference, 1.6ms postprocess per image at shape (1, 3, 384, 640)\n"
          ]
        },
        {
          "output_type": "stream",
          "name": "stderr",
          "text": [
            "\rProcessing frames:  27%|\u001b[32m██▋       \u001b[0m| 212/780 [00:26<01:09,  8.20it/s]"
          ]
        },
        {
          "output_type": "stream",
          "name": "stdout",
          "text": [
            "\n",
            "0: 384x640 19 persons, 1 bicycle, 7 cars, 23 motorcycles, 1 bus, 1 truck, 1 backpack, 21.7ms\n",
            "Speed: 2.5ms preprocess, 21.7ms inference, 1.5ms postprocess per image at shape (1, 3, 384, 640)\n"
          ]
        },
        {
          "output_type": "stream",
          "name": "stderr",
          "text": [
            "\rProcessing frames:  27%|\u001b[32m██▋       \u001b[0m| 213/780 [00:27<01:09,  8.19it/s]"
          ]
        },
        {
          "output_type": "stream",
          "name": "stdout",
          "text": [
            "\n",
            "0: 384x640 19 persons, 1 bicycle, 7 cars, 23 motorcycles, 1 bus, 1 truck, 1 backpack, 22.1ms\n",
            "Speed: 2.7ms preprocess, 22.1ms inference, 1.5ms postprocess per image at shape (1, 3, 384, 640)\n"
          ]
        },
        {
          "output_type": "stream",
          "name": "stderr",
          "text": [
            "\rProcessing frames:  27%|\u001b[32m██▋       \u001b[0m| 214/780 [00:27<01:08,  8.23it/s]"
          ]
        },
        {
          "output_type": "stream",
          "name": "stdout",
          "text": [
            "\n",
            "0: 384x640 19 persons, 1 bicycle, 7 cars, 23 motorcycles, 1 bus, 1 truck, 1 backpack, 22.0ms\n",
            "Speed: 2.7ms preprocess, 22.0ms inference, 1.5ms postprocess per image at shape (1, 3, 384, 640)\n"
          ]
        },
        {
          "output_type": "stream",
          "name": "stderr",
          "text": [
            "\rProcessing frames:  28%|\u001b[32m██▊       \u001b[0m| 215/780 [00:27<01:09,  8.14it/s]"
          ]
        },
        {
          "output_type": "stream",
          "name": "stdout",
          "text": [
            "\n",
            "0: 384x640 19 persons, 1 bicycle, 6 cars, 23 motorcycles, 1 bus, 2 trucks, 1 backpack, 26.3ms\n",
            "Speed: 2.7ms preprocess, 26.3ms inference, 1.6ms postprocess per image at shape (1, 3, 384, 640)\n"
          ]
        },
        {
          "output_type": "stream",
          "name": "stderr",
          "text": [
            "\rProcessing frames:  28%|\u001b[32m██▊       \u001b[0m| 216/780 [00:27<01:09,  8.09it/s]"
          ]
        },
        {
          "output_type": "stream",
          "name": "stdout",
          "text": [
            "\n",
            "0: 384x640 19 persons, 1 bicycle, 6 cars, 24 motorcycles, 1 bus, 2 trucks, 1 backpack, 21.6ms\n",
            "Speed: 2.8ms preprocess, 21.6ms inference, 1.5ms postprocess per image at shape (1, 3, 384, 640)\n"
          ]
        },
        {
          "output_type": "stream",
          "name": "stderr",
          "text": [
            "\rProcessing frames:  28%|\u001b[32m██▊       \u001b[0m| 217/780 [00:27<01:10,  8.01it/s]"
          ]
        },
        {
          "output_type": "stream",
          "name": "stdout",
          "text": [
            "\n",
            "0: 384x640 19 persons, 1 bicycle, 6 cars, 25 motorcycles, 1 bus, 2 trucks, 1 backpack, 22.5ms\n",
            "Speed: 3.0ms preprocess, 22.5ms inference, 1.5ms postprocess per image at shape (1, 3, 384, 640)\n"
          ]
        },
        {
          "output_type": "stream",
          "name": "stderr",
          "text": [
            "\rProcessing frames:  28%|\u001b[32m██▊       \u001b[0m| 218/780 [00:27<01:10,  8.02it/s]"
          ]
        },
        {
          "output_type": "stream",
          "name": "stdout",
          "text": [
            "\n",
            "0: 384x640 19 persons, 1 bicycle, 6 cars, 24 motorcycles, 1 bus, 2 trucks, 1 backpack, 21.3ms\n",
            "Speed: 2.5ms preprocess, 21.3ms inference, 1.5ms postprocess per image at shape (1, 3, 384, 640)\n"
          ]
        },
        {
          "output_type": "stream",
          "name": "stderr",
          "text": [
            "\rProcessing frames:  28%|\u001b[32m██▊       \u001b[0m| 219/780 [00:27<01:09,  8.10it/s]"
          ]
        },
        {
          "output_type": "stream",
          "name": "stdout",
          "text": [
            "\n",
            "0: 384x640 18 persons, 1 bicycle, 6 cars, 23 motorcycles, 1 bus, 2 trucks, 1 backpack, 21.3ms\n",
            "Speed: 2.5ms preprocess, 21.3ms inference, 1.5ms postprocess per image at shape (1, 3, 384, 640)\n"
          ]
        },
        {
          "output_type": "stream",
          "name": "stderr",
          "text": [
            "\rProcessing frames:  28%|\u001b[32m██▊       \u001b[0m| 220/780 [00:27<01:09,  8.12it/s]"
          ]
        },
        {
          "output_type": "stream",
          "name": "stdout",
          "text": [
            "\n",
            "0: 384x640 18 persons, 1 bicycle, 6 cars, 25 motorcycles, 1 bus, 2 trucks, 1 backpack, 21.1ms\n",
            "Speed: 2.4ms preprocess, 21.1ms inference, 1.5ms postprocess per image at shape (1, 3, 384, 640)\n"
          ]
        },
        {
          "output_type": "stream",
          "name": "stderr",
          "text": [
            "\rProcessing frames:  28%|\u001b[32m██▊       \u001b[0m| 221/780 [00:27<01:08,  8.17it/s]"
          ]
        },
        {
          "output_type": "stream",
          "name": "stdout",
          "text": [
            "\n",
            "0: 384x640 18 persons, 1 bicycle, 6 cars, 25 motorcycles, 1 bus, 2 trucks, 1 backpack, 21.2ms\n",
            "Speed: 3.7ms preprocess, 21.2ms inference, 1.5ms postprocess per image at shape (1, 3, 384, 640)\n"
          ]
        },
        {
          "output_type": "stream",
          "name": "stderr",
          "text": [
            "\rProcessing frames:  28%|\u001b[32m██▊       \u001b[0m| 222/780 [00:28<01:07,  8.21it/s]"
          ]
        },
        {
          "output_type": "stream",
          "name": "stdout",
          "text": [
            "\n",
            "0: 384x640 17 persons, 1 bicycle, 6 cars, 24 motorcycles, 1 bus, 2 trucks, 1 backpack, 21.5ms\n",
            "Speed: 2.4ms preprocess, 21.5ms inference, 1.5ms postprocess per image at shape (1, 3, 384, 640)\n"
          ]
        },
        {
          "output_type": "stream",
          "name": "stderr",
          "text": [
            "\rProcessing frames:  29%|\u001b[32m██▊       \u001b[0m| 223/780 [00:28<01:07,  8.22it/s]"
          ]
        },
        {
          "output_type": "stream",
          "name": "stdout",
          "text": [
            "\n",
            "0: 384x640 19 persons, 1 bicycle, 6 cars, 23 motorcycles, 1 bus, 2 trucks, 1 backpack, 21.8ms\n",
            "Speed: 2.7ms preprocess, 21.8ms inference, 1.5ms postprocess per image at shape (1, 3, 384, 640)\n"
          ]
        },
        {
          "output_type": "stream",
          "name": "stderr",
          "text": [
            "\rProcessing frames:  29%|\u001b[32m██▊       \u001b[0m| 224/780 [00:28<01:07,  8.26it/s]"
          ]
        },
        {
          "output_type": "stream",
          "name": "stdout",
          "text": [
            "\n",
            "0: 384x640 19 persons, 1 bicycle, 6 cars, 22 motorcycles, 1 bus, 2 trucks, 1 backpack, 21.3ms\n",
            "Speed: 3.5ms preprocess, 21.3ms inference, 1.5ms postprocess per image at shape (1, 3, 384, 640)\n"
          ]
        },
        {
          "output_type": "stream",
          "name": "stderr",
          "text": [
            "\rProcessing frames:  29%|\u001b[32m██▉       \u001b[0m| 225/780 [00:28<01:07,  8.27it/s]"
          ]
        },
        {
          "output_type": "stream",
          "name": "stdout",
          "text": [
            "\n",
            "0: 384x640 19 persons, 1 bicycle, 7 cars, 24 motorcycles, 1 bus, 2 trucks, 1 backpack, 21.3ms\n",
            "Speed: 2.6ms preprocess, 21.3ms inference, 1.7ms postprocess per image at shape (1, 3, 384, 640)\n"
          ]
        },
        {
          "output_type": "stream",
          "name": "stderr",
          "text": [
            "\rProcessing frames:  29%|\u001b[32m██▉       \u001b[0m| 226/780 [00:28<01:07,  8.22it/s]"
          ]
        },
        {
          "output_type": "stream",
          "name": "stdout",
          "text": [
            "\n",
            "0: 384x640 19 persons, 1 bicycle, 7 cars, 24 motorcycles, 1 bus, 2 trucks, 1 backpack, 22.5ms\n",
            "Speed: 3.7ms preprocess, 22.5ms inference, 1.5ms postprocess per image at shape (1, 3, 384, 640)\n"
          ]
        },
        {
          "output_type": "stream",
          "name": "stderr",
          "text": [
            "\rProcessing frames:  29%|\u001b[32m██▉       \u001b[0m| 227/780 [00:28<01:07,  8.14it/s]"
          ]
        },
        {
          "output_type": "stream",
          "name": "stdout",
          "text": [
            "\n",
            "0: 384x640 19 persons, 1 bicycle, 7 cars, 24 motorcycles, 1 bus, 2 trucks, 1 backpack, 21.6ms\n",
            "Speed: 3.2ms preprocess, 21.6ms inference, 1.5ms postprocess per image at shape (1, 3, 384, 640)\n"
          ]
        },
        {
          "output_type": "stream",
          "name": "stderr",
          "text": [
            "\rProcessing frames:  29%|\u001b[32m██▉       \u001b[0m| 228/780 [00:28<01:08,  8.12it/s]"
          ]
        },
        {
          "output_type": "stream",
          "name": "stdout",
          "text": [
            "\n",
            "0: 384x640 19 persons, 1 bicycle, 7 cars, 24 motorcycles, 1 bus, 2 trucks, 1 backpack, 21.9ms\n",
            "Speed: 2.5ms preprocess, 21.9ms inference, 1.4ms postprocess per image at shape (1, 3, 384, 640)\n"
          ]
        },
        {
          "output_type": "stream",
          "name": "stderr",
          "text": [
            "\rProcessing frames:  29%|\u001b[32m██▉       \u001b[0m| 229/780 [00:28<01:08,  8.09it/s]"
          ]
        },
        {
          "output_type": "stream",
          "name": "stdout",
          "text": [
            "\n",
            "0: 384x640 19 persons, 1 bicycle, 7 cars, 24 motorcycles, 1 bus, 2 trucks, 1 backpack, 21.5ms\n",
            "Speed: 2.4ms preprocess, 21.5ms inference, 1.5ms postprocess per image at shape (1, 3, 384, 640)\n"
          ]
        },
        {
          "output_type": "stream",
          "name": "stderr",
          "text": [
            "\rProcessing frames:  29%|\u001b[32m██▉       \u001b[0m| 230/780 [00:29<01:07,  8.14it/s]"
          ]
        },
        {
          "output_type": "stream",
          "name": "stdout",
          "text": [
            "\n",
            "0: 384x640 19 persons, 1 bicycle, 7 cars, 24 motorcycles, 1 bus, 2 trucks, 1 backpack, 21.1ms\n",
            "Speed: 2.5ms preprocess, 21.1ms inference, 1.4ms postprocess per image at shape (1, 3, 384, 640)\n"
          ]
        },
        {
          "output_type": "stream",
          "name": "stderr",
          "text": [
            "\rProcessing frames:  30%|\u001b[32m██▉       \u001b[0m| 231/780 [00:29<01:07,  8.17it/s]"
          ]
        },
        {
          "output_type": "stream",
          "name": "stdout",
          "text": [
            "\n",
            "0: 384x640 19 persons, 1 bicycle, 7 cars, 23 motorcycles, 1 bus, 2 trucks, 1 backpack, 21.1ms\n",
            "Speed: 2.6ms preprocess, 21.1ms inference, 1.5ms postprocess per image at shape (1, 3, 384, 640)\n"
          ]
        },
        {
          "output_type": "stream",
          "name": "stderr",
          "text": [
            "\rProcessing frames:  30%|\u001b[32m██▉       \u001b[0m| 232/780 [00:29<01:06,  8.22it/s]"
          ]
        },
        {
          "output_type": "stream",
          "name": "stdout",
          "text": [
            "\n",
            "0: 384x640 19 persons, 1 bicycle, 7 cars, 23 motorcycles, 1 bus, 2 trucks, 1 backpack, 21.6ms\n",
            "Speed: 2.5ms preprocess, 21.6ms inference, 1.6ms postprocess per image at shape (1, 3, 384, 640)\n"
          ]
        },
        {
          "output_type": "stream",
          "name": "stderr",
          "text": [
            "\rProcessing frames:  30%|\u001b[32m██▉       \u001b[0m| 233/780 [00:29<01:06,  8.22it/s]"
          ]
        },
        {
          "output_type": "stream",
          "name": "stdout",
          "text": [
            "\n",
            "0: 384x640 19 persons, 1 bicycle, 7 cars, 23 motorcycles, 1 bus, 2 trucks, 1 backpack, 21.5ms\n",
            "Speed: 3.7ms preprocess, 21.5ms inference, 1.5ms postprocess per image at shape (1, 3, 384, 640)\n"
          ]
        },
        {
          "output_type": "stream",
          "name": "stderr",
          "text": [
            "\rProcessing frames:  30%|\u001b[32m███       \u001b[0m| 234/780 [00:29<01:06,  8.22it/s]"
          ]
        },
        {
          "output_type": "stream",
          "name": "stdout",
          "text": [
            "\n",
            "0: 384x640 19 persons, 1 bicycle, 7 cars, 23 motorcycles, 1 bus, 2 trucks, 1 backpack, 22.3ms\n",
            "Speed: 2.6ms preprocess, 22.3ms inference, 1.5ms postprocess per image at shape (1, 3, 384, 640)\n"
          ]
        },
        {
          "output_type": "stream",
          "name": "stderr",
          "text": [
            "\rProcessing frames:  30%|\u001b[32m███       \u001b[0m| 235/780 [00:29<01:06,  8.16it/s]"
          ]
        },
        {
          "output_type": "stream",
          "name": "stdout",
          "text": [
            "\n",
            "0: 384x640 20 persons, 1 bicycle, 7 cars, 23 motorcycles, 1 bus, 2 trucks, 1 backpack, 21.2ms\n",
            "Speed: 2.8ms preprocess, 21.2ms inference, 1.5ms postprocess per image at shape (1, 3, 384, 640)\n"
          ]
        },
        {
          "output_type": "stream",
          "name": "stderr",
          "text": [
            "\rProcessing frames:  30%|\u001b[32m███       \u001b[0m| 236/780 [00:29<01:06,  8.18it/s]"
          ]
        },
        {
          "output_type": "stream",
          "name": "stdout",
          "text": [
            "\n",
            "0: 384x640 20 persons, 1 bicycle, 7 cars, 20 motorcycles, 1 bus, 2 trucks, 1 backpack, 21.1ms\n",
            "Speed: 2.5ms preprocess, 21.1ms inference, 1.4ms postprocess per image at shape (1, 3, 384, 640)\n"
          ]
        },
        {
          "output_type": "stream",
          "name": "stderr",
          "text": [
            "\rProcessing frames:  30%|\u001b[32m███       \u001b[0m| 237/780 [00:29<01:06,  8.22it/s]"
          ]
        },
        {
          "output_type": "stream",
          "name": "stdout",
          "text": [
            "\n",
            "0: 384x640 20 persons, 1 bicycle, 8 cars, 20 motorcycles, 1 bus, 2 trucks, 1 backpack, 21.3ms\n",
            "Speed: 2.5ms preprocess, 21.3ms inference, 1.5ms postprocess per image at shape (1, 3, 384, 640)\n"
          ]
        },
        {
          "output_type": "stream",
          "name": "stderr",
          "text": [
            "\rProcessing frames:  31%|\u001b[32m███       \u001b[0m| 238/780 [00:30<01:05,  8.28it/s]"
          ]
        },
        {
          "output_type": "stream",
          "name": "stdout",
          "text": [
            "\n",
            "0: 384x640 20 persons, 1 bicycle, 8 cars, 20 motorcycles, 1 bus, 2 trucks, 1 backpack, 21.4ms\n",
            "Speed: 2.5ms preprocess, 21.4ms inference, 1.5ms postprocess per image at shape (1, 3, 384, 640)\n"
          ]
        },
        {
          "output_type": "stream",
          "name": "stderr",
          "text": [
            "\rProcessing frames:  31%|\u001b[32m███       \u001b[0m| 239/780 [00:30<01:04,  8.32it/s]"
          ]
        },
        {
          "output_type": "stream",
          "name": "stdout",
          "text": [
            "\n",
            "0: 384x640 21 persons, 1 bicycle, 8 cars, 20 motorcycles, 1 bus, 2 trucks, 1 backpack, 21.2ms\n",
            "Speed: 2.5ms preprocess, 21.2ms inference, 1.5ms postprocess per image at shape (1, 3, 384, 640)\n"
          ]
        },
        {
          "output_type": "stream",
          "name": "stderr",
          "text": [
            "\rProcessing frames:  31%|\u001b[32m███       \u001b[0m| 240/780 [00:30<01:04,  8.31it/s]"
          ]
        },
        {
          "output_type": "stream",
          "name": "stdout",
          "text": [
            "\n",
            "0: 384x640 21 persons, 1 bicycle, 7 cars, 20 motorcycles, 1 bus, 3 trucks, 1 backpack, 21.0ms\n",
            "Speed: 2.4ms preprocess, 21.0ms inference, 1.4ms postprocess per image at shape (1, 3, 384, 640)\n"
          ]
        },
        {
          "output_type": "stream",
          "name": "stderr",
          "text": [
            "\rProcessing frames:  31%|\u001b[32m███       \u001b[0m| 241/780 [00:30<01:05,  8.28it/s]"
          ]
        },
        {
          "output_type": "stream",
          "name": "stdout",
          "text": [
            "\n",
            "0: 384x640 21 persons, 1 bicycle, 7 cars, 22 motorcycles, 1 bus, 3 trucks, 1 backpack, 21.0ms\n",
            "Speed: 3.5ms preprocess, 21.0ms inference, 1.5ms postprocess per image at shape (1, 3, 384, 640)\n"
          ]
        },
        {
          "output_type": "stream",
          "name": "stderr",
          "text": [
            "\rProcessing frames:  31%|\u001b[32m███       \u001b[0m| 242/780 [00:30<01:05,  8.27it/s]"
          ]
        },
        {
          "output_type": "stream",
          "name": "stdout",
          "text": [
            "\n",
            "0: 384x640 21 persons, 1 bicycle, 7 cars, 22 motorcycles, 1 bus, 3 trucks, 1 backpack, 21.1ms\n",
            "Speed: 2.5ms preprocess, 21.1ms inference, 1.5ms postprocess per image at shape (1, 3, 384, 640)\n"
          ]
        },
        {
          "output_type": "stream",
          "name": "stderr",
          "text": [
            "\rProcessing frames:  31%|\u001b[32m███       \u001b[0m| 243/780 [00:30<01:05,  8.21it/s]"
          ]
        },
        {
          "output_type": "stream",
          "name": "stdout",
          "text": [
            "\n",
            "0: 384x640 20 persons, 1 bicycle, 6 cars, 21 motorcycles, 1 bus, 4 trucks, 1 backpack, 21.3ms\n",
            "Speed: 2.5ms preprocess, 21.3ms inference, 1.5ms postprocess per image at shape (1, 3, 384, 640)\n"
          ]
        },
        {
          "output_type": "stream",
          "name": "stderr",
          "text": [
            "\rProcessing frames:  31%|\u001b[32m███▏      \u001b[0m| 244/780 [00:30<01:05,  8.18it/s]"
          ]
        },
        {
          "output_type": "stream",
          "name": "stdout",
          "text": [
            "\n",
            "0: 384x640 20 persons, 1 bicycle, 6 cars, 20 motorcycles, 1 bus, 4 trucks, 1 backpack, 22.5ms\n",
            "Speed: 2.5ms preprocess, 22.5ms inference, 1.5ms postprocess per image at shape (1, 3, 384, 640)\n"
          ]
        },
        {
          "output_type": "stream",
          "name": "stderr",
          "text": [
            "\rProcessing frames:  31%|\u001b[32m███▏      \u001b[0m| 245/780 [00:30<01:05,  8.15it/s]"
          ]
        },
        {
          "output_type": "stream",
          "name": "stdout",
          "text": [
            "\n",
            "0: 384x640 20 persons, 1 bicycle, 7 cars, 22 motorcycles, 1 bus, 3 trucks, 1 backpack, 21.9ms\n",
            "Speed: 2.9ms preprocess, 21.9ms inference, 1.5ms postprocess per image at shape (1, 3, 384, 640)\n"
          ]
        },
        {
          "output_type": "stream",
          "name": "stderr",
          "text": [
            "\rProcessing frames:  32%|\u001b[32m███▏      \u001b[0m| 246/780 [00:31<01:05,  8.19it/s]"
          ]
        },
        {
          "output_type": "stream",
          "name": "stdout",
          "text": [
            "\n",
            "0: 384x640 19 persons, 1 bicycle, 6 cars, 22 motorcycles, 1 bus, 4 trucks, 1 backpack, 21.3ms\n",
            "Speed: 3.5ms preprocess, 21.3ms inference, 1.7ms postprocess per image at shape (1, 3, 384, 640)\n"
          ]
        },
        {
          "output_type": "stream",
          "name": "stderr",
          "text": [
            "\rProcessing frames:  32%|\u001b[32m███▏      \u001b[0m| 247/780 [00:31<01:05,  8.18it/s]"
          ]
        },
        {
          "output_type": "stream",
          "name": "stdout",
          "text": [
            "\n",
            "0: 384x640 19 persons, 1 bicycle, 7 cars, 23 motorcycles, 1 bus, 3 trucks, 1 backpack, 21.4ms\n",
            "Speed: 2.5ms preprocess, 21.4ms inference, 1.5ms postprocess per image at shape (1, 3, 384, 640)\n"
          ]
        },
        {
          "output_type": "stream",
          "name": "stderr",
          "text": [
            "\rProcessing frames:  32%|\u001b[32m███▏      \u001b[0m| 248/780 [00:31<01:05,  8.12it/s]"
          ]
        },
        {
          "output_type": "stream",
          "name": "stdout",
          "text": [
            "\n",
            "0: 384x640 20 persons, 1 bicycle, 7 cars, 23 motorcycles, 1 bus, 3 trucks, 1 backpack, 21.0ms\n",
            "Speed: 2.4ms preprocess, 21.0ms inference, 1.4ms postprocess per image at shape (1, 3, 384, 640)\n"
          ]
        },
        {
          "output_type": "stream",
          "name": "stderr",
          "text": [
            "\rProcessing frames:  32%|\u001b[32m███▏      \u001b[0m| 249/780 [00:31<01:04,  8.18it/s]"
          ]
        },
        {
          "output_type": "stream",
          "name": "stdout",
          "text": [
            "\n",
            "0: 384x640 20 persons, 1 bicycle, 6 cars, 22 motorcycles, 1 bus, 4 trucks, 1 backpack, 20.8ms\n",
            "Speed: 2.5ms preprocess, 20.8ms inference, 1.4ms postprocess per image at shape (1, 3, 384, 640)\n"
          ]
        },
        {
          "output_type": "stream",
          "name": "stderr",
          "text": [
            "\rProcessing frames:  32%|\u001b[32m███▏      \u001b[0m| 250/780 [00:31<01:05,  8.13it/s]"
          ]
        },
        {
          "output_type": "stream",
          "name": "stdout",
          "text": [
            "\n",
            "0: 384x640 19 persons, 1 bicycle, 6 cars, 21 motorcycles, 1 bus, 3 trucks, 1 backpack, 21.4ms\n",
            "Speed: 2.5ms preprocess, 21.4ms inference, 1.5ms postprocess per image at shape (1, 3, 384, 640)\n"
          ]
        },
        {
          "output_type": "stream",
          "name": "stderr",
          "text": [
            "\rProcessing frames:  32%|\u001b[32m███▏      \u001b[0m| 251/780 [00:31<01:05,  8.11it/s]"
          ]
        },
        {
          "output_type": "stream",
          "name": "stdout",
          "text": [
            "\n",
            "0: 384x640 19 persons, 1 bicycle, 5 cars, 22 motorcycles, 1 bus, 4 trucks, 1 backpack, 21.7ms\n",
            "Speed: 2.5ms preprocess, 21.7ms inference, 1.5ms postprocess per image at shape (1, 3, 384, 640)\n"
          ]
        },
        {
          "output_type": "stream",
          "name": "stderr",
          "text": [
            "\rProcessing frames:  32%|\u001b[32m███▏      \u001b[0m| 252/780 [00:31<01:05,  8.10it/s]"
          ]
        },
        {
          "output_type": "stream",
          "name": "stdout",
          "text": [
            "\n",
            "0: 384x640 19 persons, 1 bicycle, 5 cars, 21 motorcycles, 1 bus, 4 trucks, 1 backpack, 21.1ms\n",
            "Speed: 2.4ms preprocess, 21.1ms inference, 1.5ms postprocess per image at shape (1, 3, 384, 640)\n"
          ]
        },
        {
          "output_type": "stream",
          "name": "stderr",
          "text": [
            "\rProcessing frames:  32%|\u001b[32m███▏      \u001b[0m| 253/780 [00:31<01:06,  7.90it/s]"
          ]
        },
        {
          "output_type": "stream",
          "name": "stdout",
          "text": [
            "\n",
            "0: 384x640 19 persons, 1 bicycle, 5 cars, 21 motorcycles, 1 bus, 4 trucks, 1 backpack, 31.6ms\n",
            "Speed: 3.8ms preprocess, 31.6ms inference, 1.7ms postprocess per image at shape (1, 3, 384, 640)\n"
          ]
        },
        {
          "output_type": "stream",
          "name": "stderr",
          "text": [
            "\rProcessing frames:  33%|\u001b[32m███▎      \u001b[0m| 254/780 [00:32<01:09,  7.56it/s]"
          ]
        },
        {
          "output_type": "stream",
          "name": "stdout",
          "text": [
            "\n",
            "0: 384x640 19 persons, 1 bicycle, 6 cars, 20 motorcycles, 1 bus, 3 trucks, 1 backpack, 23.4ms\n",
            "Speed: 3.8ms preprocess, 23.4ms inference, 1.5ms postprocess per image at shape (1, 3, 384, 640)\n"
          ]
        },
        {
          "output_type": "stream",
          "name": "stderr",
          "text": [
            "\rProcessing frames:  33%|\u001b[32m███▎      \u001b[0m| 255/780 [00:32<01:11,  7.34it/s]"
          ]
        },
        {
          "output_type": "stream",
          "name": "stdout",
          "text": [
            "\n",
            "0: 384x640 19 persons, 1 bicycle, 6 cars, 22 motorcycles, 1 bus, 3 trucks, 1 backpack, 21.0ms\n",
            "Speed: 2.4ms preprocess, 21.0ms inference, 1.5ms postprocess per image at shape (1, 3, 384, 640)\n"
          ]
        },
        {
          "output_type": "stream",
          "name": "stderr",
          "text": [
            "\rProcessing frames:  33%|\u001b[32m███▎      \u001b[0m| 256/780 [00:32<01:08,  7.60it/s]"
          ]
        },
        {
          "output_type": "stream",
          "name": "stdout",
          "text": [
            "\n",
            "0: 384x640 19 persons, 1 bicycle, 6 cars, 22 motorcycles, 1 bus, 3 trucks, 1 backpack, 21.0ms\n",
            "Speed: 2.4ms preprocess, 21.0ms inference, 1.5ms postprocess per image at shape (1, 3, 384, 640)\n"
          ]
        },
        {
          "output_type": "stream",
          "name": "stderr",
          "text": [
            "\rProcessing frames:  33%|\u001b[32m███▎      \u001b[0m| 257/780 [00:32<01:06,  7.83it/s]"
          ]
        },
        {
          "output_type": "stream",
          "name": "stdout",
          "text": [
            "\n",
            "0: 384x640 18 persons, 1 bicycle, 6 cars, 22 motorcycles, 1 bus, 3 trucks, 1 backpack, 20.9ms\n",
            "Speed: 2.4ms preprocess, 20.9ms inference, 1.5ms postprocess per image at shape (1, 3, 384, 640)\n"
          ]
        },
        {
          "output_type": "stream",
          "name": "stderr",
          "text": [
            "\rProcessing frames:  33%|\u001b[32m███▎      \u001b[0m| 258/780 [00:32<01:05,  8.01it/s]"
          ]
        },
        {
          "output_type": "stream",
          "name": "stdout",
          "text": [
            "\n",
            "0: 384x640 18 persons, 1 bicycle, 6 cars, 22 motorcycles, 1 bus, 3 trucks, 1 backpack, 22.0ms\n",
            "Speed: 2.4ms preprocess, 22.0ms inference, 1.7ms postprocess per image at shape (1, 3, 384, 640)\n"
          ]
        },
        {
          "output_type": "stream",
          "name": "stderr",
          "text": [
            "\rProcessing frames:  33%|\u001b[32m███▎      \u001b[0m| 259/780 [00:32<01:04,  8.10it/s]"
          ]
        },
        {
          "output_type": "stream",
          "name": "stdout",
          "text": [
            "\n",
            "0: 384x640 19 persons, 1 bicycle, 7 cars, 22 motorcycles, 1 bus, 3 trucks, 1 backpack, 21.2ms\n",
            "Speed: 2.5ms preprocess, 21.2ms inference, 1.5ms postprocess per image at shape (1, 3, 384, 640)\n"
          ]
        },
        {
          "output_type": "stream",
          "name": "stderr",
          "text": [
            "\rProcessing frames:  33%|\u001b[32m███▎      \u001b[0m| 260/780 [00:32<01:03,  8.18it/s]"
          ]
        },
        {
          "output_type": "stream",
          "name": "stdout",
          "text": [
            "\n",
            "0: 384x640 19 persons, 1 bicycle, 7 cars, 22 motorcycles, 1 bus, 3 trucks, 1 backpack, 21.5ms\n",
            "Speed: 2.6ms preprocess, 21.5ms inference, 1.5ms postprocess per image at shape (1, 3, 384, 640)\n"
          ]
        },
        {
          "output_type": "stream",
          "name": "stderr",
          "text": [
            "\rProcessing frames:  33%|\u001b[32m███▎      \u001b[0m| 261/780 [00:32<01:03,  8.17it/s]"
          ]
        },
        {
          "output_type": "stream",
          "name": "stdout",
          "text": [
            "\n",
            "0: 384x640 18 persons, 1 bicycle, 7 cars, 22 motorcycles, 1 bus, 3 trucks, 1 backpack, 22.0ms\n",
            "Speed: 3.2ms preprocess, 22.0ms inference, 1.5ms postprocess per image at shape (1, 3, 384, 640)\n"
          ]
        },
        {
          "output_type": "stream",
          "name": "stderr",
          "text": [
            "\rProcessing frames:  34%|\u001b[32m███▎      \u001b[0m| 262/780 [00:33<01:03,  8.17it/s]"
          ]
        },
        {
          "output_type": "stream",
          "name": "stdout",
          "text": [
            "\n",
            "0: 384x640 19 persons, 1 bicycle, 7 cars, 23 motorcycles, 1 bus, 3 trucks, 1 backpack, 21.4ms\n",
            "Speed: 3.0ms preprocess, 21.4ms inference, 1.5ms postprocess per image at shape (1, 3, 384, 640)\n"
          ]
        },
        {
          "output_type": "stream",
          "name": "stderr",
          "text": [
            "\rProcessing frames:  34%|\u001b[32m███▎      \u001b[0m| 263/780 [00:33<01:02,  8.21it/s]"
          ]
        },
        {
          "output_type": "stream",
          "name": "stdout",
          "text": [
            "\n",
            "0: 384x640 19 persons, 1 bicycle, 7 cars, 23 motorcycles, 1 bus, 3 trucks, 1 backpack, 21.4ms\n",
            "Speed: 2.4ms preprocess, 21.4ms inference, 1.5ms postprocess per image at shape (1, 3, 384, 640)\n"
          ]
        },
        {
          "output_type": "stream",
          "name": "stderr",
          "text": [
            "\rProcessing frames:  34%|\u001b[32m███▍      \u001b[0m| 264/780 [00:33<01:03,  8.17it/s]"
          ]
        },
        {
          "output_type": "stream",
          "name": "stdout",
          "text": [
            "\n",
            "0: 384x640 19 persons, 1 bicycle, 7 cars, 23 motorcycles, 1 bus, 3 trucks, 1 backpack, 21.9ms\n",
            "Speed: 3.0ms preprocess, 21.9ms inference, 1.5ms postprocess per image at shape (1, 3, 384, 640)\n"
          ]
        },
        {
          "output_type": "stream",
          "name": "stderr",
          "text": [
            "\rProcessing frames:  34%|\u001b[32m███▍      \u001b[0m| 265/780 [00:33<01:03,  8.09it/s]"
          ]
        },
        {
          "output_type": "stream",
          "name": "stdout",
          "text": [
            "\n",
            "0: 384x640 19 persons, 1 bicycle, 7 cars, 23 motorcycles, 1 bus, 3 trucks, 1 backpack, 21.7ms\n",
            "Speed: 2.7ms preprocess, 21.7ms inference, 1.5ms postprocess per image at shape (1, 3, 384, 640)\n"
          ]
        },
        {
          "output_type": "stream",
          "name": "stderr",
          "text": [
            "\rProcessing frames:  34%|\u001b[32m███▍      \u001b[0m| 266/780 [00:33<01:03,  8.13it/s]"
          ]
        },
        {
          "output_type": "stream",
          "name": "stdout",
          "text": [
            "\n",
            "0: 384x640 19 persons, 1 bicycle, 7 cars, 23 motorcycles, 1 bus, 3 trucks, 1 backpack, 21.4ms\n",
            "Speed: 2.6ms preprocess, 21.4ms inference, 1.4ms postprocess per image at shape (1, 3, 384, 640)\n"
          ]
        },
        {
          "output_type": "stream",
          "name": "stderr",
          "text": [
            "\rProcessing frames:  34%|\u001b[32m███▍      \u001b[0m| 267/780 [00:33<01:02,  8.17it/s]"
          ]
        },
        {
          "output_type": "stream",
          "name": "stdout",
          "text": [
            "\n",
            "0: 384x640 19 persons, 1 bicycle, 7 cars, 23 motorcycles, 1 bus, 3 trucks, 1 backpack, 21.1ms\n",
            "Speed: 2.6ms preprocess, 21.1ms inference, 1.5ms postprocess per image at shape (1, 3, 384, 640)\n"
          ]
        },
        {
          "output_type": "stream",
          "name": "stderr",
          "text": [
            "\rProcessing frames:  34%|\u001b[32m███▍      \u001b[0m| 268/780 [00:33<01:02,  8.19it/s]"
          ]
        },
        {
          "output_type": "stream",
          "name": "stdout",
          "text": [
            "\n",
            "0: 384x640 19 persons, 1 bicycle, 8 cars, 23 motorcycles, 1 bus, 2 trucks, 1 backpack, 21.4ms\n",
            "Speed: 2.6ms preprocess, 21.4ms inference, 1.5ms postprocess per image at shape (1, 3, 384, 640)\n"
          ]
        },
        {
          "output_type": "stream",
          "name": "stderr",
          "text": [
            "\rProcessing frames:  34%|\u001b[32m███▍      \u001b[0m| 269/780 [00:33<01:02,  8.15it/s]"
          ]
        },
        {
          "output_type": "stream",
          "name": "stdout",
          "text": [
            "\n",
            "0: 384x640 19 persons, 1 bicycle, 8 cars, 22 motorcycles, 1 bus, 2 trucks, 1 backpack, 21.9ms\n",
            "Speed: 2.6ms preprocess, 21.9ms inference, 1.5ms postprocess per image at shape (1, 3, 384, 640)\n"
          ]
        },
        {
          "output_type": "stream",
          "name": "stderr",
          "text": [
            "\rProcessing frames:  35%|\u001b[32m███▍      \u001b[0m| 270/780 [00:34<01:02,  8.19it/s]"
          ]
        },
        {
          "output_type": "stream",
          "name": "stdout",
          "text": [
            "\n",
            "0: 384x640 19 persons, 1 bicycle, 8 cars, 22 motorcycles, 1 bus, 2 trucks, 1 backpack, 21.6ms\n",
            "Speed: 2.5ms preprocess, 21.6ms inference, 1.4ms postprocess per image at shape (1, 3, 384, 640)\n"
          ]
        },
        {
          "output_type": "stream",
          "name": "stderr",
          "text": [
            "\rProcessing frames:  35%|\u001b[32m███▍      \u001b[0m| 271/780 [00:34<01:01,  8.23it/s]"
          ]
        },
        {
          "output_type": "stream",
          "name": "stdout",
          "text": [
            "\n",
            "0: 384x640 18 persons, 1 bicycle, 7 cars, 22 motorcycles, 1 bus, 3 trucks, 1 backpack, 21.6ms\n",
            "Speed: 2.5ms preprocess, 21.6ms inference, 1.5ms postprocess per image at shape (1, 3, 384, 640)\n"
          ]
        },
        {
          "output_type": "stream",
          "name": "stderr",
          "text": [
            "\rProcessing frames:  35%|\u001b[32m███▍      \u001b[0m| 272/780 [00:34<01:01,  8.25it/s]"
          ]
        },
        {
          "output_type": "stream",
          "name": "stdout",
          "text": [
            "\n",
            "0: 384x640 19 persons, 1 bicycle, 8 cars, 22 motorcycles, 1 bus, 2 trucks, 1 backpack, 21.3ms\n",
            "Speed: 2.7ms preprocess, 21.3ms inference, 1.6ms postprocess per image at shape (1, 3, 384, 640)\n"
          ]
        },
        {
          "output_type": "stream",
          "name": "stderr",
          "text": [
            "\rProcessing frames:  35%|\u001b[32m███▌      \u001b[0m| 273/780 [00:34<01:01,  8.29it/s]"
          ]
        },
        {
          "output_type": "stream",
          "name": "stdout",
          "text": [
            "\n",
            "0: 384x640 19 persons, 1 bicycle, 8 cars, 22 motorcycles, 1 bus, 2 trucks, 1 backpack, 20.9ms\n",
            "Speed: 2.9ms preprocess, 20.9ms inference, 1.5ms postprocess per image at shape (1, 3, 384, 640)\n"
          ]
        },
        {
          "output_type": "stream",
          "name": "stderr",
          "text": [
            "\rProcessing frames:  35%|\u001b[32m███▌      \u001b[0m| 274/780 [00:34<01:00,  8.34it/s]"
          ]
        },
        {
          "output_type": "stream",
          "name": "stdout",
          "text": [
            "\n",
            "0: 384x640 19 persons, 1 bicycle, 8 cars, 22 motorcycles, 1 bus, 2 trucks, 1 backpack, 20.8ms\n",
            "Speed: 2.7ms preprocess, 20.8ms inference, 1.4ms postprocess per image at shape (1, 3, 384, 640)\n"
          ]
        },
        {
          "output_type": "stream",
          "name": "stderr",
          "text": [
            "\rProcessing frames:  35%|\u001b[32m███▌      \u001b[0m| 275/780 [00:34<01:00,  8.35it/s]"
          ]
        },
        {
          "output_type": "stream",
          "name": "stdout",
          "text": [
            "\n",
            "0: 384x640 19 persons, 1 bicycle, 8 cars, 21 motorcycles, 1 bus, 2 trucks, 1 backpack, 21.2ms\n",
            "Speed: 2.7ms preprocess, 21.2ms inference, 1.5ms postprocess per image at shape (1, 3, 384, 640)\n"
          ]
        },
        {
          "output_type": "stream",
          "name": "stderr",
          "text": [
            "\rProcessing frames:  35%|\u001b[32m███▌      \u001b[0m| 276/780 [00:34<01:00,  8.36it/s]"
          ]
        },
        {
          "output_type": "stream",
          "name": "stdout",
          "text": [
            "\n",
            "0: 384x640 19 persons, 8 cars, 23 motorcycles, 1 bus, 2 trucks, 1 backpack, 21.0ms\n",
            "Speed: 2.8ms preprocess, 21.0ms inference, 1.4ms postprocess per image at shape (1, 3, 384, 640)\n"
          ]
        },
        {
          "output_type": "stream",
          "name": "stderr",
          "text": [
            "\rProcessing frames:  36%|\u001b[32m███▌      \u001b[0m| 277/780 [00:34<01:00,  8.29it/s]"
          ]
        },
        {
          "output_type": "stream",
          "name": "stdout",
          "text": [
            "\n",
            "0: 384x640 19 persons, 1 bicycle, 8 cars, 21 motorcycles, 1 bus, 2 trucks, 1 backpack, 21.4ms\n",
            "Speed: 2.5ms preprocess, 21.4ms inference, 1.5ms postprocess per image at shape (1, 3, 384, 640)\n"
          ]
        },
        {
          "output_type": "stream",
          "name": "stderr",
          "text": [
            "\rProcessing frames:  36%|\u001b[32m███▌      \u001b[0m| 278/780 [00:34<01:00,  8.30it/s]"
          ]
        },
        {
          "output_type": "stream",
          "name": "stdout",
          "text": [
            "\n",
            "0: 384x640 19 persons, 1 bicycle, 8 cars, 22 motorcycles, 1 bus, 2 trucks, 1 backpack, 21.5ms\n",
            "Speed: 2.6ms preprocess, 21.5ms inference, 1.5ms postprocess per image at shape (1, 3, 384, 640)\n"
          ]
        },
        {
          "output_type": "stream",
          "name": "stderr",
          "text": [
            "\rProcessing frames:  36%|\u001b[32m███▌      \u001b[0m| 279/780 [00:35<01:00,  8.32it/s]"
          ]
        },
        {
          "output_type": "stream",
          "name": "stdout",
          "text": [
            "\n",
            "0: 384x640 18 persons, 1 bicycle, 8 cars, 22 motorcycles, 1 bus, 2 trucks, 1 backpack, 21.7ms\n",
            "Speed: 3.1ms preprocess, 21.7ms inference, 1.6ms postprocess per image at shape (1, 3, 384, 640)\n"
          ]
        },
        {
          "output_type": "stream",
          "name": "stderr",
          "text": [
            "\rProcessing frames:  36%|\u001b[32m███▌      \u001b[0m| 280/780 [00:35<01:00,  8.32it/s]"
          ]
        },
        {
          "output_type": "stream",
          "name": "stdout",
          "text": [
            "\n",
            "0: 384x640 18 persons, 1 bicycle, 8 cars, 22 motorcycles, 1 bus, 2 trucks, 1 backpack, 21.4ms\n",
            "Speed: 2.6ms preprocess, 21.4ms inference, 1.4ms postprocess per image at shape (1, 3, 384, 640)\n"
          ]
        },
        {
          "output_type": "stream",
          "name": "stderr",
          "text": [
            "\rProcessing frames:  36%|\u001b[32m███▌      \u001b[0m| 281/780 [00:35<01:00,  8.30it/s]"
          ]
        },
        {
          "output_type": "stream",
          "name": "stdout",
          "text": [
            "\n",
            "0: 384x640 18 persons, 1 bicycle, 8 cars, 20 motorcycles, 1 bus, 2 trucks, 1 backpack, 21.4ms\n",
            "Speed: 3.7ms preprocess, 21.4ms inference, 1.5ms postprocess per image at shape (1, 3, 384, 640)\n"
          ]
        },
        {
          "output_type": "stream",
          "name": "stderr",
          "text": [
            "\rProcessing frames:  36%|\u001b[32m███▌      \u001b[0m| 282/780 [00:35<00:59,  8.33it/s]"
          ]
        },
        {
          "output_type": "stream",
          "name": "stdout",
          "text": [
            "\n",
            "0: 384x640 18 persons, 1 bicycle, 8 cars, 20 motorcycles, 1 bus, 2 trucks, 1 backpack, 22.3ms\n",
            "Speed: 2.6ms preprocess, 22.3ms inference, 1.5ms postprocess per image at shape (1, 3, 384, 640)\n"
          ]
        },
        {
          "output_type": "stream",
          "name": "stderr",
          "text": [
            "\rProcessing frames:  36%|\u001b[32m███▋      \u001b[0m| 283/780 [00:35<00:59,  8.33it/s]"
          ]
        },
        {
          "output_type": "stream",
          "name": "stdout",
          "text": [
            "\n",
            "0: 384x640 18 persons, 1 bicycle, 8 cars, 22 motorcycles, 1 bus, 2 trucks, 1 backpack, 21.6ms\n",
            "Speed: 3.7ms preprocess, 21.6ms inference, 1.6ms postprocess per image at shape (1, 3, 384, 640)\n"
          ]
        },
        {
          "output_type": "stream",
          "name": "stderr",
          "text": [
            "\rProcessing frames:  36%|\u001b[32m███▋      \u001b[0m| 284/780 [00:35<00:59,  8.28it/s]"
          ]
        },
        {
          "output_type": "stream",
          "name": "stdout",
          "text": [
            "\n",
            "0: 384x640 18 persons, 1 bicycle, 7 cars, 24 motorcycles, 1 bus, 2 trucks, 1 backpack, 21.1ms\n",
            "Speed: 2.5ms preprocess, 21.1ms inference, 1.6ms postprocess per image at shape (1, 3, 384, 640)\n"
          ]
        },
        {
          "output_type": "stream",
          "name": "stderr",
          "text": [
            "\rProcessing frames:  37%|\u001b[32m███▋      \u001b[0m| 285/780 [00:35<00:59,  8.28it/s]"
          ]
        },
        {
          "output_type": "stream",
          "name": "stdout",
          "text": [
            "\n",
            "0: 384x640 18 persons, 1 bicycle, 7 cars, 22 motorcycles, 1 bus, 2 trucks, 1 backpack, 21.4ms\n",
            "Speed: 3.7ms preprocess, 21.4ms inference, 1.5ms postprocess per image at shape (1, 3, 384, 640)\n"
          ]
        },
        {
          "output_type": "stream",
          "name": "stderr",
          "text": [
            "\rProcessing frames:  37%|\u001b[32m███▋      \u001b[0m| 286/780 [00:35<01:00,  8.23it/s]"
          ]
        },
        {
          "output_type": "stream",
          "name": "stdout",
          "text": [
            "\n",
            "0: 384x640 18 persons, 1 bicycle, 7 cars, 23 motorcycles, 1 bus, 2 trucks, 1 backpack, 23.2ms\n",
            "Speed: 3.8ms preprocess, 23.2ms inference, 1.5ms postprocess per image at shape (1, 3, 384, 640)\n"
          ]
        },
        {
          "output_type": "stream",
          "name": "stderr",
          "text": [
            "\rProcessing frames:  37%|\u001b[32m███▋      \u001b[0m| 287/780 [00:36<01:00,  8.14it/s]"
          ]
        },
        {
          "output_type": "stream",
          "name": "stdout",
          "text": [
            "\n",
            "0: 384x640 17 persons, 1 bicycle, 7 cars, 23 motorcycles, 1 bus, 2 trucks, 1 backpack, 22.3ms\n",
            "Speed: 2.6ms preprocess, 22.3ms inference, 1.5ms postprocess per image at shape (1, 3, 384, 640)\n"
          ]
        },
        {
          "output_type": "stream",
          "name": "stderr",
          "text": [
            "\rProcessing frames:  37%|\u001b[32m███▋      \u001b[0m| 288/780 [00:36<01:00,  8.19it/s]"
          ]
        },
        {
          "output_type": "stream",
          "name": "stdout",
          "text": [
            "\n",
            "0: 384x640 18 persons, 1 bicycle, 7 cars, 22 motorcycles, 1 bus, 2 trucks, 1 backpack, 23.1ms\n",
            "Speed: 3.7ms preprocess, 23.1ms inference, 1.5ms postprocess per image at shape (1, 3, 384, 640)\n"
          ]
        },
        {
          "output_type": "stream",
          "name": "stderr",
          "text": [
            "\rProcessing frames:  37%|\u001b[32m███▋      \u001b[0m| 289/780 [00:36<01:00,  8.13it/s]"
          ]
        },
        {
          "output_type": "stream",
          "name": "stdout",
          "text": [
            "\n",
            "0: 384x640 18 persons, 1 bicycle, 7 cars, 21 motorcycles, 1 bus, 2 trucks, 1 backpack, 21.1ms\n",
            "Speed: 2.4ms preprocess, 21.1ms inference, 1.5ms postprocess per image at shape (1, 3, 384, 640)\n"
          ]
        },
        {
          "output_type": "stream",
          "name": "stderr",
          "text": [
            "\rProcessing frames:  37%|\u001b[32m███▋      \u001b[0m| 290/780 [00:36<00:59,  8.23it/s]"
          ]
        },
        {
          "output_type": "stream",
          "name": "stdout",
          "text": [
            "\n",
            "0: 384x640 18 persons, 1 bicycle, 7 cars, 22 motorcycles, 1 bus, 2 trucks, 1 backpack, 21.5ms\n",
            "Speed: 2.6ms preprocess, 21.5ms inference, 1.5ms postprocess per image at shape (1, 3, 384, 640)\n"
          ]
        },
        {
          "output_type": "stream",
          "name": "stderr",
          "text": [
            "\rProcessing frames:  37%|\u001b[32m███▋      \u001b[0m| 291/780 [00:36<00:59,  8.26it/s]"
          ]
        },
        {
          "output_type": "stream",
          "name": "stdout",
          "text": [
            "\n",
            "0: 384x640 18 persons, 1 bicycle, 6 cars, 21 motorcycles, 1 bus, 1 truck, 1 backpack, 22.4ms\n",
            "Speed: 2.5ms preprocess, 22.4ms inference, 1.5ms postprocess per image at shape (1, 3, 384, 640)\n"
          ]
        },
        {
          "output_type": "stream",
          "name": "stderr",
          "text": [
            "\rProcessing frames:  37%|\u001b[32m███▋      \u001b[0m| 292/780 [00:36<00:58,  8.28it/s]"
          ]
        },
        {
          "output_type": "stream",
          "name": "stdout",
          "text": [
            "\n",
            "0: 384x640 18 persons, 1 bicycle, 7 cars, 21 motorcycles, 1 bus, 1 truck, 1 backpack, 20.8ms\n",
            "Speed: 2.9ms preprocess, 20.8ms inference, 1.4ms postprocess per image at shape (1, 3, 384, 640)\n"
          ]
        },
        {
          "output_type": "stream",
          "name": "stderr",
          "text": [
            "\rProcessing frames:  38%|\u001b[32m███▊      \u001b[0m| 293/780 [00:36<00:58,  8.35it/s]"
          ]
        },
        {
          "output_type": "stream",
          "name": "stdout",
          "text": [
            "\n",
            "0: 384x640 18 persons, 1 bicycle, 7 cars, 21 motorcycles, 1 bus, 1 truck, 21.5ms\n",
            "Speed: 3.5ms preprocess, 21.5ms inference, 1.5ms postprocess per image at shape (1, 3, 384, 640)\n"
          ]
        },
        {
          "output_type": "stream",
          "name": "stderr",
          "text": [
            "\rProcessing frames:  38%|\u001b[32m███▊      \u001b[0m| 294/780 [00:36<00:57,  8.40it/s]"
          ]
        },
        {
          "output_type": "stream",
          "name": "stdout",
          "text": [
            "\n",
            "0: 384x640 18 persons, 1 bicycle, 7 cars, 21 motorcycles, 1 bus, 1 truck, 1 backpack, 22.7ms\n",
            "Speed: 2.8ms preprocess, 22.7ms inference, 1.7ms postprocess per image at shape (1, 3, 384, 640)\n"
          ]
        },
        {
          "output_type": "stream",
          "name": "stderr",
          "text": [
            "\rProcessing frames:  38%|\u001b[32m███▊      \u001b[0m| 295/780 [00:37<00:58,  8.35it/s]"
          ]
        },
        {
          "output_type": "stream",
          "name": "stdout",
          "text": [
            "\n",
            "0: 384x640 18 persons, 1 bicycle, 7 cars, 21 motorcycles, 1 bus, 1 truck, 1 backpack, 21.2ms\n",
            "Speed: 2.8ms preprocess, 21.2ms inference, 1.6ms postprocess per image at shape (1, 3, 384, 640)\n"
          ]
        },
        {
          "output_type": "stream",
          "name": "stderr",
          "text": [
            "\rProcessing frames:  38%|\u001b[32m███▊      \u001b[0m| 296/780 [00:37<00:58,  8.34it/s]"
          ]
        },
        {
          "output_type": "stream",
          "name": "stdout",
          "text": [
            "\n",
            "0: 384x640 18 persons, 1 bicycle, 7 cars, 21 motorcycles, 1 bus, 1 truck, 21.3ms\n",
            "Speed: 2.6ms preprocess, 21.3ms inference, 1.6ms postprocess per image at shape (1, 3, 384, 640)\n"
          ]
        },
        {
          "output_type": "stream",
          "name": "stderr",
          "text": [
            "\rProcessing frames:  38%|\u001b[32m███▊      \u001b[0m| 297/780 [00:37<00:57,  8.33it/s]"
          ]
        },
        {
          "output_type": "stream",
          "name": "stdout",
          "text": [
            "\n",
            "0: 384x640 18 persons, 1 bicycle, 6 cars, 21 motorcycles, 1 bus, 2 trucks, 21.4ms\n",
            "Speed: 3.8ms preprocess, 21.4ms inference, 1.6ms postprocess per image at shape (1, 3, 384, 640)\n"
          ]
        },
        {
          "output_type": "stream",
          "name": "stderr",
          "text": [
            "\rProcessing frames:  38%|\u001b[32m███▊      \u001b[0m| 298/780 [00:37<00:57,  8.36it/s]"
          ]
        },
        {
          "output_type": "stream",
          "name": "stdout",
          "text": [
            "\n",
            "0: 384x640 18 persons, 1 bicycle, 6 cars, 21 motorcycles, 1 bus, 2 trucks, 1 backpack, 21.2ms\n",
            "Speed: 2.6ms preprocess, 21.2ms inference, 1.5ms postprocess per image at shape (1, 3, 384, 640)\n"
          ]
        },
        {
          "output_type": "stream",
          "name": "stderr",
          "text": [
            "\rProcessing frames:  38%|\u001b[32m███▊      \u001b[0m| 299/780 [00:37<00:57,  8.38it/s]"
          ]
        },
        {
          "output_type": "stream",
          "name": "stdout",
          "text": [
            "\n",
            "0: 384x640 18 persons, 1 bicycle, 7 cars, 21 motorcycles, 1 bus, 1 truck, 1 backpack, 21.0ms\n",
            "Speed: 3.7ms preprocess, 21.0ms inference, 1.5ms postprocess per image at shape (1, 3, 384, 640)\n"
          ]
        },
        {
          "output_type": "stream",
          "name": "stderr",
          "text": [
            "\rProcessing frames:  38%|\u001b[32m███▊      \u001b[0m| 300/780 [00:37<00:57,  8.37it/s]"
          ]
        },
        {
          "output_type": "stream",
          "name": "stdout",
          "text": [
            "\n",
            "0: 384x640 18 persons, 1 bicycle, 7 cars, 20 motorcycles, 1 bus, 1 truck, 1 backpack, 22.1ms\n",
            "Speed: 3.6ms preprocess, 22.1ms inference, 1.6ms postprocess per image at shape (1, 3, 384, 640)\n"
          ]
        },
        {
          "output_type": "stream",
          "name": "stderr",
          "text": [
            "\rProcessing frames:  39%|\u001b[32m███▊      \u001b[0m| 301/780 [00:37<00:57,  8.31it/s]"
          ]
        },
        {
          "output_type": "stream",
          "name": "stdout",
          "text": [
            "\n",
            "0: 384x640 18 persons, 1 bicycle, 6 cars, 20 motorcycles, 1 bus, 2 trucks, 1 backpack, 21.7ms\n",
            "Speed: 2.8ms preprocess, 21.7ms inference, 1.5ms postprocess per image at shape (1, 3, 384, 640)\n"
          ]
        },
        {
          "output_type": "stream",
          "name": "stderr",
          "text": [
            "\rProcessing frames:  39%|\u001b[32m███▊      \u001b[0m| 302/780 [00:37<00:57,  8.34it/s]"
          ]
        },
        {
          "output_type": "stream",
          "name": "stdout",
          "text": [
            "\n",
            "0: 384x640 18 persons, 1 bicycle, 7 cars, 20 motorcycles, 1 bus, 1 truck, 1 backpack, 21.1ms\n",
            "Speed: 2.5ms preprocess, 21.1ms inference, 1.5ms postprocess per image at shape (1, 3, 384, 640)\n"
          ]
        },
        {
          "output_type": "stream",
          "name": "stderr",
          "text": [
            "\rProcessing frames:  39%|\u001b[32m███▉      \u001b[0m| 303/780 [00:38<00:56,  8.39it/s]"
          ]
        },
        {
          "output_type": "stream",
          "name": "stdout",
          "text": [
            "\n",
            "0: 384x640 18 persons, 1 bicycle, 7 cars, 19 motorcycles, 1 bus, 1 truck, 1 backpack, 21.4ms\n",
            "Speed: 2.8ms preprocess, 21.4ms inference, 1.5ms postprocess per image at shape (1, 3, 384, 640)\n"
          ]
        },
        {
          "output_type": "stream",
          "name": "stderr",
          "text": [
            "\rProcessing frames:  39%|\u001b[32m███▉      \u001b[0m| 304/780 [00:38<00:56,  8.42it/s]"
          ]
        },
        {
          "output_type": "stream",
          "name": "stdout",
          "text": [
            "\n",
            "0: 384x640 18 persons, 1 bicycle, 7 cars, 21 motorcycles, 1 bus, 1 truck, 1 backpack, 21.1ms\n",
            "Speed: 2.6ms preprocess, 21.1ms inference, 1.5ms postprocess per image at shape (1, 3, 384, 640)\n"
          ]
        },
        {
          "output_type": "stream",
          "name": "stderr",
          "text": [
            "\rProcessing frames:  39%|\u001b[32m███▉      \u001b[0m| 305/780 [00:38<00:56,  8.40it/s]"
          ]
        },
        {
          "output_type": "stream",
          "name": "stdout",
          "text": [
            "\n",
            "0: 384x640 18 persons, 1 bicycle, 7 cars, 20 motorcycles, 1 bus, 1 truck, 1 backpack, 21.3ms\n",
            "Speed: 2.6ms preprocess, 21.3ms inference, 1.5ms postprocess per image at shape (1, 3, 384, 640)\n"
          ]
        },
        {
          "output_type": "stream",
          "name": "stderr",
          "text": [
            "\rProcessing frames:  39%|\u001b[32m███▉      \u001b[0m| 306/780 [00:38<00:56,  8.39it/s]"
          ]
        },
        {
          "output_type": "stream",
          "name": "stdout",
          "text": [
            "\n",
            "0: 384x640 18 persons, 1 bicycle, 7 cars, 20 motorcycles, 1 bus, 1 truck, 1 backpack, 22.1ms\n",
            "Speed: 2.6ms preprocess, 22.1ms inference, 1.6ms postprocess per image at shape (1, 3, 384, 640)\n"
          ]
        },
        {
          "output_type": "stream",
          "name": "stderr",
          "text": [
            "\rProcessing frames:  39%|\u001b[32m███▉      \u001b[0m| 307/780 [00:38<00:56,  8.40it/s]"
          ]
        },
        {
          "output_type": "stream",
          "name": "stdout",
          "text": [
            "\n",
            "0: 384x640 18 persons, 1 bicycle, 7 cars, 19 motorcycles, 1 bus, 1 truck, 21.3ms\n",
            "Speed: 2.6ms preprocess, 21.3ms inference, 1.5ms postprocess per image at shape (1, 3, 384, 640)\n"
          ]
        },
        {
          "output_type": "stream",
          "name": "stderr",
          "text": [
            "\rProcessing frames:  39%|\u001b[32m███▉      \u001b[0m| 308/780 [00:38<00:55,  8.45it/s]"
          ]
        },
        {
          "output_type": "stream",
          "name": "stdout",
          "text": [
            "\n",
            "0: 384x640 17 persons, 1 bicycle, 7 cars, 19 motorcycles, 1 bus, 1 truck, 21.2ms\n",
            "Speed: 2.6ms preprocess, 21.2ms inference, 1.4ms postprocess per image at shape (1, 3, 384, 640)\n"
          ]
        },
        {
          "output_type": "stream",
          "name": "stderr",
          "text": [
            "\rProcessing frames:  40%|\u001b[32m███▉      \u001b[0m| 309/780 [00:38<00:55,  8.50it/s]"
          ]
        },
        {
          "output_type": "stream",
          "name": "stdout",
          "text": [
            "\n",
            "0: 384x640 17 persons, 1 bicycle, 8 cars, 19 motorcycles, 2 buss, 21.5ms\n",
            "Speed: 2.6ms preprocess, 21.5ms inference, 1.4ms postprocess per image at shape (1, 3, 384, 640)\n"
          ]
        },
        {
          "output_type": "stream",
          "name": "stderr",
          "text": [
            "\rProcessing frames:  40%|\u001b[32m███▉      \u001b[0m| 310/780 [00:38<00:55,  8.54it/s]"
          ]
        },
        {
          "output_type": "stream",
          "name": "stdout",
          "text": [
            "\n",
            "0: 384x640 17 persons, 1 bicycle, 8 cars, 18 motorcycles, 2 buss, 1 truck, 21.0ms\n",
            "Speed: 2.6ms preprocess, 21.0ms inference, 1.4ms postprocess per image at shape (1, 3, 384, 640)\n"
          ]
        },
        {
          "output_type": "stream",
          "name": "stderr",
          "text": [
            "\rProcessing frames:  40%|\u001b[32m███▉      \u001b[0m| 311/780 [00:38<00:55,  8.50it/s]"
          ]
        },
        {
          "output_type": "stream",
          "name": "stdout",
          "text": [
            "\n",
            "0: 384x640 16 persons, 1 bicycle, 8 cars, 19 motorcycles, 1 bus, 1 truck, 23.2ms\n",
            "Speed: 3.0ms preprocess, 23.2ms inference, 2.1ms postprocess per image at shape (1, 3, 384, 640)\n"
          ]
        },
        {
          "output_type": "stream",
          "name": "stderr",
          "text": [
            "\rProcessing frames:  40%|\u001b[32m████      \u001b[0m| 312/780 [00:39<00:55,  8.44it/s]"
          ]
        },
        {
          "output_type": "stream",
          "name": "stdout",
          "text": [
            "\n",
            "0: 384x640 16 persons, 1 bicycle, 7 cars, 19 motorcycles, 1 bus, 2 trucks, 22.1ms\n",
            "Speed: 2.8ms preprocess, 22.1ms inference, 1.6ms postprocess per image at shape (1, 3, 384, 640)\n"
          ]
        },
        {
          "output_type": "stream",
          "name": "stderr",
          "text": [
            "\rProcessing frames:  40%|\u001b[32m████      \u001b[0m| 313/780 [00:39<00:55,  8.38it/s]"
          ]
        },
        {
          "output_type": "stream",
          "name": "stdout",
          "text": [
            "\n",
            "0: 384x640 15 persons, 1 bicycle, 7 cars, 18 motorcycles, 1 bus, 2 trucks, 21.6ms\n",
            "Speed: 3.6ms preprocess, 21.6ms inference, 1.5ms postprocess per image at shape (1, 3, 384, 640)\n"
          ]
        },
        {
          "output_type": "stream",
          "name": "stderr",
          "text": [
            "\rProcessing frames:  40%|\u001b[32m████      \u001b[0m| 314/780 [00:39<00:55,  8.42it/s]"
          ]
        },
        {
          "output_type": "stream",
          "name": "stdout",
          "text": [
            "\n",
            "0: 384x640 15 persons, 1 bicycle, 7 cars, 18 motorcycles, 1 bus, 3 trucks, 20.7ms\n",
            "Speed: 2.6ms preprocess, 20.7ms inference, 1.5ms postprocess per image at shape (1, 3, 384, 640)\n"
          ]
        },
        {
          "output_type": "stream",
          "name": "stderr",
          "text": [
            "\rProcessing frames:  40%|\u001b[32m████      \u001b[0m| 315/780 [00:39<00:54,  8.50it/s]"
          ]
        },
        {
          "output_type": "stream",
          "name": "stdout",
          "text": [
            "\n",
            "0: 384x640 16 persons, 1 bicycle, 7 cars, 18 motorcycles, 1 bus, 3 trucks, 21.0ms\n",
            "Speed: 2.6ms preprocess, 21.0ms inference, 1.5ms postprocess per image at shape (1, 3, 384, 640)\n"
          ]
        },
        {
          "output_type": "stream",
          "name": "stderr",
          "text": [
            "\rProcessing frames:  41%|\u001b[32m████      \u001b[0m| 316/780 [00:39<00:54,  8.54it/s]"
          ]
        },
        {
          "output_type": "stream",
          "name": "stdout",
          "text": [
            "\n",
            "0: 384x640 16 persons, 1 bicycle, 7 cars, 17 motorcycles, 1 bus, 3 trucks, 20.7ms\n",
            "Speed: 2.6ms preprocess, 20.7ms inference, 1.5ms postprocess per image at shape (1, 3, 384, 640)\n"
          ]
        },
        {
          "output_type": "stream",
          "name": "stderr",
          "text": [
            "\rProcessing frames:  41%|\u001b[32m████      \u001b[0m| 317/780 [00:39<00:53,  8.59it/s]"
          ]
        },
        {
          "output_type": "stream",
          "name": "stdout",
          "text": [
            "\n",
            "0: 384x640 16 persons, 1 bicycle, 6 cars, 18 motorcycles, 1 bus, 2 trucks, 22.3ms\n",
            "Speed: 3.7ms preprocess, 22.3ms inference, 1.5ms postprocess per image at shape (1, 3, 384, 640)\n"
          ]
        },
        {
          "output_type": "stream",
          "name": "stderr",
          "text": [
            "\rProcessing frames:  41%|\u001b[32m████      \u001b[0m| 318/780 [00:39<00:53,  8.56it/s]"
          ]
        },
        {
          "output_type": "stream",
          "name": "stdout",
          "text": [
            "\n",
            "0: 384x640 16 persons, 1 bicycle, 8 cars, 16 motorcycles, 1 bus, 1 truck, 23.1ms\n",
            "Speed: 3.7ms preprocess, 23.1ms inference, 1.5ms postprocess per image at shape (1, 3, 384, 640)\n"
          ]
        },
        {
          "output_type": "stream",
          "name": "stderr",
          "text": [
            "\rProcessing frames:  41%|\u001b[32m████      \u001b[0m| 319/780 [00:39<00:54,  8.44it/s]"
          ]
        },
        {
          "output_type": "stream",
          "name": "stdout",
          "text": [
            "\n",
            "0: 384x640 16 persons, 1 bicycle, 7 cars, 16 motorcycles, 1 bus, 2 trucks, 23.4ms\n",
            "Speed: 3.8ms preprocess, 23.4ms inference, 1.6ms postprocess per image at shape (1, 3, 384, 640)\n"
          ]
        },
        {
          "output_type": "stream",
          "name": "stderr",
          "text": [
            "\rProcessing frames:  41%|\u001b[32m████      \u001b[0m| 320/780 [00:40<00:54,  8.41it/s]"
          ]
        },
        {
          "output_type": "stream",
          "name": "stdout",
          "text": [
            "\n",
            "0: 384x640 16 persons, 1 bicycle, 7 cars, 16 motorcycles, 1 bus, 2 trucks, 22.5ms\n",
            "Speed: 3.7ms preprocess, 22.5ms inference, 1.6ms postprocess per image at shape (1, 3, 384, 640)\n"
          ]
        },
        {
          "output_type": "stream",
          "name": "stderr",
          "text": [
            "\rProcessing frames:  41%|\u001b[32m████      \u001b[0m| 321/780 [00:40<00:54,  8.40it/s]"
          ]
        },
        {
          "output_type": "stream",
          "name": "stdout",
          "text": [
            "\n",
            "0: 384x640 15 persons, 1 bicycle, 7 cars, 16 motorcycles, 1 bus, 2 trucks, 24.9ms\n",
            "Speed: 3.2ms preprocess, 24.9ms inference, 1.5ms postprocess per image at shape (1, 3, 384, 640)\n"
          ]
        },
        {
          "output_type": "stream",
          "name": "stderr",
          "text": [
            "\rProcessing frames:  41%|\u001b[32m████▏     \u001b[0m| 322/780 [00:40<00:56,  8.15it/s]"
          ]
        },
        {
          "output_type": "stream",
          "name": "stdout",
          "text": [
            "\n",
            "0: 384x640 15 persons, 2 bicycles, 6 cars, 15 motorcycles, 1 bus, 2 trucks, 28.4ms\n",
            "Speed: 2.7ms preprocess, 28.4ms inference, 1.6ms postprocess per image at shape (1, 3, 384, 640)\n"
          ]
        },
        {
          "output_type": "stream",
          "name": "stderr",
          "text": [
            "\rProcessing frames:  41%|\u001b[32m████▏     \u001b[0m| 323/780 [00:40<00:57,  7.96it/s]"
          ]
        },
        {
          "output_type": "stream",
          "name": "stdout",
          "text": [
            "\n",
            "0: 384x640 15 persons, 1 bicycle, 6 cars, 16 motorcycles, 1 bus, 2 trucks, 20.9ms\n",
            "Speed: 2.6ms preprocess, 20.9ms inference, 1.4ms postprocess per image at shape (1, 3, 384, 640)\n"
          ]
        },
        {
          "output_type": "stream",
          "name": "stderr",
          "text": [
            "\rProcessing frames:  42%|\u001b[32m████▏     \u001b[0m| 324/780 [00:40<00:55,  8.24it/s]"
          ]
        },
        {
          "output_type": "stream",
          "name": "stdout",
          "text": [
            "\n",
            "0: 384x640 16 persons, 1 bicycle, 6 cars, 17 motorcycles, 1 bus, 2 trucks, 21.0ms\n",
            "Speed: 2.5ms preprocess, 21.0ms inference, 1.4ms postprocess per image at shape (1, 3, 384, 640)\n"
          ]
        },
        {
          "output_type": "stream",
          "name": "stderr",
          "text": [
            "\rProcessing frames:  42%|\u001b[32m████▏     \u001b[0m| 325/780 [00:40<00:54,  8.38it/s]"
          ]
        },
        {
          "output_type": "stream",
          "name": "stdout",
          "text": [
            "\n",
            "0: 384x640 16 persons, 1 bicycle, 7 cars, 17 motorcycles, 1 bus, 1 truck, 22.0ms\n",
            "Speed: 3.6ms preprocess, 22.0ms inference, 1.5ms postprocess per image at shape (1, 3, 384, 640)\n"
          ]
        },
        {
          "output_type": "stream",
          "name": "stderr",
          "text": [
            "\rProcessing frames:  42%|\u001b[32m████▏     \u001b[0m| 326/780 [00:40<00:53,  8.45it/s]"
          ]
        },
        {
          "output_type": "stream",
          "name": "stdout",
          "text": [
            "\n",
            "0: 384x640 16 persons, 1 bicycle, 6 cars, 18 motorcycles, 1 bus, 2 trucks, 21.3ms\n",
            "Speed: 2.6ms preprocess, 21.3ms inference, 1.7ms postprocess per image at shape (1, 3, 384, 640)\n"
          ]
        },
        {
          "output_type": "stream",
          "name": "stderr",
          "text": [
            "\rProcessing frames:  42%|\u001b[32m████▏     \u001b[0m| 327/780 [00:40<00:53,  8.48it/s]"
          ]
        },
        {
          "output_type": "stream",
          "name": "stdout",
          "text": [
            "\n",
            "0: 384x640 17 persons, 1 bicycle, 6 cars, 18 motorcycles, 1 bus, 2 trucks, 21.5ms\n",
            "Speed: 3.3ms preprocess, 21.5ms inference, 1.5ms postprocess per image at shape (1, 3, 384, 640)\n"
          ]
        },
        {
          "output_type": "stream",
          "name": "stderr",
          "text": [
            "\rProcessing frames:  42%|\u001b[32m████▏     \u001b[0m| 328/780 [00:40<00:53,  8.51it/s]"
          ]
        },
        {
          "output_type": "stream",
          "name": "stdout",
          "text": [
            "\n",
            "0: 384x640 17 persons, 1 bicycle, 6 cars, 18 motorcycles, 1 bus, 2 trucks, 1 backpack, 21.2ms\n",
            "Speed: 2.5ms preprocess, 21.2ms inference, 1.4ms postprocess per image at shape (1, 3, 384, 640)\n"
          ]
        },
        {
          "output_type": "stream",
          "name": "stderr",
          "text": [
            "\rProcessing frames:  42%|\u001b[32m████▏     \u001b[0m| 329/780 [00:41<00:52,  8.56it/s]"
          ]
        },
        {
          "output_type": "stream",
          "name": "stdout",
          "text": [
            "\n",
            "0: 384x640 17 persons, 1 bicycle, 6 cars, 18 motorcycles, 1 bus, 2 trucks, 1 backpack, 22.1ms\n",
            "Speed: 3.7ms preprocess, 22.1ms inference, 1.5ms postprocess per image at shape (1, 3, 384, 640)\n"
          ]
        },
        {
          "output_type": "stream",
          "name": "stderr",
          "text": [
            "\rProcessing frames:  42%|\u001b[32m████▏     \u001b[0m| 330/780 [00:41<00:52,  8.53it/s]"
          ]
        },
        {
          "output_type": "stream",
          "name": "stdout",
          "text": [
            "\n",
            "0: 384x640 18 persons, 1 bicycle, 6 cars, 18 motorcycles, 1 bus, 2 trucks, 1 backpack, 21.8ms\n",
            "Speed: 2.6ms preprocess, 21.8ms inference, 1.7ms postprocess per image at shape (1, 3, 384, 640)\n"
          ]
        },
        {
          "output_type": "stream",
          "name": "stderr",
          "text": [
            "\rProcessing frames:  42%|\u001b[32m████▏     \u001b[0m| 331/780 [00:41<00:53,  8.40it/s]"
          ]
        },
        {
          "output_type": "stream",
          "name": "stdout",
          "text": [
            "\n",
            "0: 384x640 18 persons, 1 bicycle, 6 cars, 18 motorcycles, 1 bus, 2 trucks, 1 backpack, 22.4ms\n",
            "Speed: 3.2ms preprocess, 22.4ms inference, 1.5ms postprocess per image at shape (1, 3, 384, 640)\n"
          ]
        },
        {
          "output_type": "stream",
          "name": "stderr",
          "text": [
            "\rProcessing frames:  43%|\u001b[32m████▎     \u001b[0m| 332/780 [00:41<00:53,  8.42it/s]"
          ]
        },
        {
          "output_type": "stream",
          "name": "stdout",
          "text": [
            "\n",
            "0: 384x640 17 persons, 1 bicycle, 7 cars, 18 motorcycles, 1 bus, 1 truck, 1 backpack, 21.8ms\n",
            "Speed: 2.5ms preprocess, 21.8ms inference, 1.5ms postprocess per image at shape (1, 3, 384, 640)\n"
          ]
        },
        {
          "output_type": "stream",
          "name": "stderr",
          "text": [
            "\rProcessing frames:  43%|\u001b[32m████▎     \u001b[0m| 333/780 [00:41<00:52,  8.47it/s]"
          ]
        },
        {
          "output_type": "stream",
          "name": "stdout",
          "text": [
            "\n",
            "0: 384x640 19 persons, 1 bicycle, 7 cars, 17 motorcycles, 1 bus, 1 truck, 1 backpack, 21.8ms\n",
            "Speed: 3.7ms preprocess, 21.8ms inference, 1.4ms postprocess per image at shape (1, 3, 384, 640)\n"
          ]
        },
        {
          "output_type": "stream",
          "name": "stderr",
          "text": [
            "\rProcessing frames:  43%|\u001b[32m████▎     \u001b[0m| 334/780 [00:41<00:52,  8.45it/s]"
          ]
        },
        {
          "output_type": "stream",
          "name": "stdout",
          "text": [
            "\n",
            "0: 384x640 18 persons, 1 bicycle, 7 cars, 16 motorcycles, 1 bus, 1 truck, 1 backpack, 21.0ms\n",
            "Speed: 2.4ms preprocess, 21.0ms inference, 1.4ms postprocess per image at shape (1, 3, 384, 640)\n"
          ]
        },
        {
          "output_type": "stream",
          "name": "stderr",
          "text": [
            "\rProcessing frames:  43%|\u001b[32m████▎     \u001b[0m| 335/780 [00:41<00:52,  8.54it/s]"
          ]
        },
        {
          "output_type": "stream",
          "name": "stdout",
          "text": [
            "\n",
            "0: 384x640 18 persons, 1 bicycle, 7 cars, 16 motorcycles, 1 bus, 1 truck, 1 backpack, 21.2ms\n",
            "Speed: 2.5ms preprocess, 21.2ms inference, 1.4ms postprocess per image at shape (1, 3, 384, 640)\n"
          ]
        },
        {
          "output_type": "stream",
          "name": "stderr",
          "text": [
            "\rProcessing frames:  43%|\u001b[32m████▎     \u001b[0m| 336/780 [00:41<00:51,  8.57it/s]"
          ]
        },
        {
          "output_type": "stream",
          "name": "stdout",
          "text": [
            "\n",
            "0: 384x640 18 persons, 1 bicycle, 7 cars, 16 motorcycles, 1 bus, 1 truck, 1 backpack, 21.8ms\n",
            "Speed: 2.6ms preprocess, 21.8ms inference, 1.5ms postprocess per image at shape (1, 3, 384, 640)\n"
          ]
        },
        {
          "output_type": "stream",
          "name": "stderr",
          "text": [
            "\rProcessing frames:  43%|\u001b[32m████▎     \u001b[0m| 337/780 [00:42<00:53,  8.31it/s]"
          ]
        },
        {
          "output_type": "stream",
          "name": "stdout",
          "text": [
            "\n",
            "0: 384x640 18 persons, 1 bicycle, 6 cars, 17 motorcycles, 1 bus, 2 trucks, 1 chair, 22.6ms\n",
            "Speed: 2.7ms preprocess, 22.6ms inference, 1.5ms postprocess per image at shape (1, 3, 384, 640)\n"
          ]
        },
        {
          "output_type": "stream",
          "name": "stderr",
          "text": [
            "\rProcessing frames:  43%|\u001b[32m████▎     \u001b[0m| 338/780 [00:42<00:53,  8.33it/s]"
          ]
        },
        {
          "output_type": "stream",
          "name": "stdout",
          "text": [
            "\n",
            "0: 384x640 17 persons, 1 bicycle, 6 cars, 19 motorcycles, 1 bus, 2 trucks, 1 chair, 21.7ms\n",
            "Speed: 3.7ms preprocess, 21.7ms inference, 1.5ms postprocess per image at shape (1, 3, 384, 640)\n"
          ]
        },
        {
          "output_type": "stream",
          "name": "stderr",
          "text": [
            "\rProcessing frames:  43%|\u001b[32m████▎     \u001b[0m| 339/780 [00:42<00:52,  8.34it/s]"
          ]
        },
        {
          "output_type": "stream",
          "name": "stdout",
          "text": [
            "\n",
            "0: 384x640 17 persons, 1 bicycle, 6 cars, 17 motorcycles, 1 bus, 2 trucks, 1 chair, 22.5ms\n",
            "Speed: 2.6ms preprocess, 22.5ms inference, 1.5ms postprocess per image at shape (1, 3, 384, 640)\n"
          ]
        },
        {
          "output_type": "stream",
          "name": "stderr",
          "text": [
            "\rProcessing frames:  44%|\u001b[32m████▎     \u001b[0m| 340/780 [00:42<00:52,  8.42it/s]"
          ]
        },
        {
          "output_type": "stream",
          "name": "stdout",
          "text": [
            "\n",
            "0: 384x640 17 persons, 1 bicycle, 7 cars, 17 motorcycles, 1 bus, 1 truck, 1 backpack, 1 chair, 22.0ms\n",
            "Speed: 3.7ms preprocess, 22.0ms inference, 1.5ms postprocess per image at shape (1, 3, 384, 640)\n"
          ]
        },
        {
          "output_type": "stream",
          "name": "stderr",
          "text": [
            "\rProcessing frames:  44%|\u001b[32m████▎     \u001b[0m| 341/780 [00:42<00:51,  8.47it/s]"
          ]
        },
        {
          "output_type": "stream",
          "name": "stdout",
          "text": [
            "\n",
            "0: 384x640 17 persons, 1 bicycle, 7 cars, 18 motorcycles, 1 bus, 1 truck, 1 backpack, 21.2ms\n",
            "Speed: 2.5ms preprocess, 21.2ms inference, 1.5ms postprocess per image at shape (1, 3, 384, 640)\n"
          ]
        },
        {
          "output_type": "stream",
          "name": "stderr",
          "text": [
            "\rProcessing frames:  44%|\u001b[32m████▍     \u001b[0m| 342/780 [00:42<00:51,  8.51it/s]"
          ]
        },
        {
          "output_type": "stream",
          "name": "stdout",
          "text": [
            "\n",
            "0: 384x640 17 persons, 1 bicycle, 7 cars, 18 motorcycles, 1 bus, 1 truck, 21.1ms\n",
            "Speed: 2.5ms preprocess, 21.1ms inference, 1.5ms postprocess per image at shape (1, 3, 384, 640)\n"
          ]
        },
        {
          "output_type": "stream",
          "name": "stderr",
          "text": [
            "\rProcessing frames:  44%|\u001b[32m████▍     \u001b[0m| 343/780 [00:42<00:50,  8.59it/s]"
          ]
        },
        {
          "output_type": "stream",
          "name": "stdout",
          "text": [
            "\n",
            "0: 384x640 17 persons, 1 bicycle, 7 cars, 17 motorcycles, 1 bus, 1 truck, 21.1ms\n",
            "Speed: 2.5ms preprocess, 21.1ms inference, 1.5ms postprocess per image at shape (1, 3, 384, 640)\n"
          ]
        },
        {
          "output_type": "stream",
          "name": "stderr",
          "text": [
            "\rProcessing frames:  44%|\u001b[32m████▍     \u001b[0m| 344/780 [00:42<00:50,  8.64it/s]"
          ]
        },
        {
          "output_type": "stream",
          "name": "stdout",
          "text": [
            "\n",
            "0: 384x640 16 persons, 1 bicycle, 7 cars, 17 motorcycles, 1 bus, 1 truck, 1 backpack, 22.0ms\n",
            "Speed: 3.7ms preprocess, 22.0ms inference, 1.4ms postprocess per image at shape (1, 3, 384, 640)\n"
          ]
        },
        {
          "output_type": "stream",
          "name": "stderr",
          "text": [
            "\rProcessing frames:  44%|\u001b[32m████▍     \u001b[0m| 345/780 [00:42<00:50,  8.60it/s]"
          ]
        },
        {
          "output_type": "stream",
          "name": "stdout",
          "text": [
            "\n",
            "0: 384x640 17 persons, 1 bicycle, 7 cars, 19 motorcycles, 1 bus, 1 truck, 22.6ms\n",
            "Speed: 2.7ms preprocess, 22.6ms inference, 1.5ms postprocess per image at shape (1, 3, 384, 640)\n"
          ]
        },
        {
          "output_type": "stream",
          "name": "stderr",
          "text": [
            "\rProcessing frames:  44%|\u001b[32m████▍     \u001b[0m| 346/780 [00:43<00:50,  8.56it/s]"
          ]
        },
        {
          "output_type": "stream",
          "name": "stdout",
          "text": [
            "\n",
            "0: 384x640 17 persons, 1 bicycle, 7 cars, 19 motorcycles, 1 bus, 1 truck, 21.4ms\n",
            "Speed: 2.6ms preprocess, 21.4ms inference, 1.5ms postprocess per image at shape (1, 3, 384, 640)\n"
          ]
        },
        {
          "output_type": "stream",
          "name": "stderr",
          "text": [
            "\rProcessing frames:  44%|\u001b[32m████▍     \u001b[0m| 347/780 [00:43<00:50,  8.50it/s]"
          ]
        },
        {
          "output_type": "stream",
          "name": "stdout",
          "text": [
            "\n",
            "0: 384x640 17 persons, 1 bicycle, 7 cars, 17 motorcycles, 1 bus, 1 truck, 22.4ms\n",
            "Speed: 3.7ms preprocess, 22.4ms inference, 1.5ms postprocess per image at shape (1, 3, 384, 640)\n"
          ]
        },
        {
          "output_type": "stream",
          "name": "stderr",
          "text": [
            "\rProcessing frames:  45%|\u001b[32m████▍     \u001b[0m| 348/780 [00:43<00:50,  8.52it/s]"
          ]
        },
        {
          "output_type": "stream",
          "name": "stdout",
          "text": [
            "\n",
            "0: 384x640 17 persons, 1 bicycle, 7 cars, 18 motorcycles, 1 bus, 1 truck, 21.1ms\n",
            "Speed: 2.5ms preprocess, 21.1ms inference, 1.5ms postprocess per image at shape (1, 3, 384, 640)\n"
          ]
        },
        {
          "output_type": "stream",
          "name": "stderr",
          "text": [
            "\rProcessing frames:  45%|\u001b[32m████▍     \u001b[0m| 349/780 [00:43<00:50,  8.54it/s]"
          ]
        },
        {
          "output_type": "stream",
          "name": "stdout",
          "text": [
            "\n",
            "0: 384x640 16 persons, 1 bicycle, 7 cars, 17 motorcycles, 1 bus, 1 truck, 1 backpack, 21.1ms\n",
            "Speed: 2.6ms preprocess, 21.1ms inference, 1.5ms postprocess per image at shape (1, 3, 384, 640)\n"
          ]
        },
        {
          "output_type": "stream",
          "name": "stderr",
          "text": [
            "\rProcessing frames:  45%|\u001b[32m████▍     \u001b[0m| 350/780 [00:43<00:49,  8.63it/s]"
          ]
        },
        {
          "output_type": "stream",
          "name": "stdout",
          "text": [
            "\n",
            "0: 384x640 16 persons, 1 bicycle, 7 cars, 17 motorcycles, 1 bus, 1 truck, 1 backpack, 21.2ms\n",
            "Speed: 2.7ms preprocess, 21.2ms inference, 1.5ms postprocess per image at shape (1, 3, 384, 640)\n"
          ]
        },
        {
          "output_type": "stream",
          "name": "stderr",
          "text": [
            "\rProcessing frames:  45%|\u001b[32m████▌     \u001b[0m| 351/780 [00:43<00:49,  8.71it/s]"
          ]
        },
        {
          "output_type": "stream",
          "name": "stdout",
          "text": [
            "\n",
            "0: 384x640 16 persons, 1 bicycle, 7 cars, 17 motorcycles, 1 bus, 1 truck, 1 backpack, 22.2ms\n",
            "Speed: 2.8ms preprocess, 22.2ms inference, 1.6ms postprocess per image at shape (1, 3, 384, 640)\n"
          ]
        },
        {
          "output_type": "stream",
          "name": "stderr",
          "text": [
            "\rProcessing frames:  45%|\u001b[32m████▌     \u001b[0m| 352/780 [00:43<00:49,  8.68it/s]"
          ]
        },
        {
          "output_type": "stream",
          "name": "stdout",
          "text": [
            "\n",
            "0: 384x640 17 persons, 1 bicycle, 7 cars, 17 motorcycles, 1 bus, 1 truck, 23.1ms\n",
            "Speed: 2.9ms preprocess, 23.1ms inference, 1.8ms postprocess per image at shape (1, 3, 384, 640)\n"
          ]
        },
        {
          "output_type": "stream",
          "name": "stderr",
          "text": [
            "\rProcessing frames:  45%|\u001b[32m████▌     \u001b[0m| 353/780 [00:43<00:49,  8.67it/s]"
          ]
        },
        {
          "output_type": "stream",
          "name": "stdout",
          "text": [
            "\n",
            "0: 384x640 16 persons, 1 bicycle, 7 cars, 17 motorcycles, 1 bus, 1 truck, 1 backpack, 20.9ms\n",
            "Speed: 2.6ms preprocess, 20.9ms inference, 1.4ms postprocess per image at shape (1, 3, 384, 640)\n"
          ]
        },
        {
          "output_type": "stream",
          "name": "stderr",
          "text": [
            "\rProcessing frames:  45%|\u001b[32m████▌     \u001b[0m| 354/780 [00:44<00:48,  8.71it/s]"
          ]
        },
        {
          "output_type": "stream",
          "name": "stdout",
          "text": [
            "\n",
            "0: 384x640 16 persons, 1 bicycle, 7 cars, 17 motorcycles, 1 bus, 1 truck, 1 backpack, 20.9ms\n",
            "Speed: 2.6ms preprocess, 20.9ms inference, 1.5ms postprocess per image at shape (1, 3, 384, 640)\n"
          ]
        },
        {
          "output_type": "stream",
          "name": "stderr",
          "text": [
            "\rProcessing frames:  46%|\u001b[32m████▌     \u001b[0m| 355/780 [00:44<00:48,  8.78it/s]"
          ]
        },
        {
          "output_type": "stream",
          "name": "stdout",
          "text": [
            "\n",
            "0: 384x640 17 persons, 1 bicycle, 7 cars, 17 motorcycles, 1 bus, 1 truck, 21.0ms\n",
            "Speed: 2.5ms preprocess, 21.0ms inference, 1.5ms postprocess per image at shape (1, 3, 384, 640)\n"
          ]
        },
        {
          "output_type": "stream",
          "name": "stderr",
          "text": [
            "\rProcessing frames:  46%|\u001b[32m████▌     \u001b[0m| 356/780 [00:44<00:47,  8.85it/s]"
          ]
        },
        {
          "output_type": "stream",
          "name": "stdout",
          "text": [
            "\n",
            "0: 384x640 16 persons, 1 bicycle, 7 cars, 17 motorcycles, 1 bus, 1 truck, 1 backpack, 21.3ms\n",
            "Speed: 2.7ms preprocess, 21.3ms inference, 1.5ms postprocess per image at shape (1, 3, 384, 640)\n"
          ]
        },
        {
          "output_type": "stream",
          "name": "stderr",
          "text": [
            "\rProcessing frames:  46%|\u001b[32m████▌     \u001b[0m| 357/780 [00:44<00:47,  8.88it/s]"
          ]
        },
        {
          "output_type": "stream",
          "name": "stdout",
          "text": [
            "\n",
            "0: 384x640 16 persons, 1 bicycle, 7 cars, 17 motorcycles, 1 bus, 1 truck, 1 backpack, 20.7ms\n",
            "Speed: 2.6ms preprocess, 20.7ms inference, 1.5ms postprocess per image at shape (1, 3, 384, 640)\n"
          ]
        },
        {
          "output_type": "stream",
          "name": "stderr",
          "text": [
            "\rProcessing frames:  46%|\u001b[32m████▌     \u001b[0m| 358/780 [00:44<00:47,  8.88it/s]"
          ]
        },
        {
          "output_type": "stream",
          "name": "stdout",
          "text": [
            "\n",
            "0: 384x640 16 persons, 1 bicycle, 7 cars, 17 motorcycles, 1 bus, 1 truck, 1 backpack, 21.2ms\n",
            "Speed: 3.7ms preprocess, 21.2ms inference, 1.4ms postprocess per image at shape (1, 3, 384, 640)\n"
          ]
        },
        {
          "output_type": "stream",
          "name": "stderr",
          "text": [
            "\rProcessing frames:  46%|\u001b[32m████▌     \u001b[0m| 359/780 [00:44<00:47,  8.88it/s]"
          ]
        },
        {
          "output_type": "stream",
          "name": "stdout",
          "text": [
            "\n",
            "0: 384x640 16 persons, 1 bicycle, 6 cars, 17 motorcycles, 1 bus, 2 trucks, 1 backpack, 21.3ms\n",
            "Speed: 2.6ms preprocess, 21.3ms inference, 1.5ms postprocess per image at shape (1, 3, 384, 640)\n"
          ]
        },
        {
          "output_type": "stream",
          "name": "stderr",
          "text": [
            "\rProcessing frames:  46%|\u001b[32m████▌     \u001b[0m| 360/780 [00:44<00:47,  8.85it/s]"
          ]
        },
        {
          "output_type": "stream",
          "name": "stdout",
          "text": [
            "\n",
            "0: 384x640 17 persons, 1 bicycle, 7 cars, 18 motorcycles, 1 bus, 1 truck, 21.4ms\n",
            "Speed: 2.6ms preprocess, 21.4ms inference, 1.4ms postprocess per image at shape (1, 3, 384, 640)\n"
          ]
        },
        {
          "output_type": "stream",
          "name": "stderr",
          "text": [
            "\rProcessing frames:  46%|\u001b[32m████▋     \u001b[0m| 361/780 [00:44<00:47,  8.77it/s]"
          ]
        },
        {
          "output_type": "stream",
          "name": "stdout",
          "text": [
            "\n",
            "0: 384x640 18 persons, 1 bicycle, 7 cars, 18 motorcycles, 1 bus, 1 truck, 21.4ms\n",
            "Speed: 2.6ms preprocess, 21.4ms inference, 1.5ms postprocess per image at shape (1, 3, 384, 640)\n"
          ]
        },
        {
          "output_type": "stream",
          "name": "stderr",
          "text": [
            "\rProcessing frames:  46%|\u001b[32m████▋     \u001b[0m| 362/780 [00:44<00:47,  8.75it/s]"
          ]
        },
        {
          "output_type": "stream",
          "name": "stdout",
          "text": [
            "\n",
            "0: 384x640 18 persons, 1 bicycle, 6 cars, 18 motorcycles, 1 bus, 2 trucks, 1 backpack, 21.2ms\n",
            "Speed: 2.7ms preprocess, 21.2ms inference, 1.4ms postprocess per image at shape (1, 3, 384, 640)\n"
          ]
        },
        {
          "output_type": "stream",
          "name": "stderr",
          "text": [
            "\rProcessing frames:  47%|\u001b[32m████▋     \u001b[0m| 363/780 [00:45<00:47,  8.73it/s]"
          ]
        },
        {
          "output_type": "stream",
          "name": "stdout",
          "text": [
            "\n",
            "0: 384x640 18 persons, 1 bicycle, 7 cars, 18 motorcycles, 1 bus, 1 truck, 1 backpack, 21.1ms\n",
            "Speed: 2.7ms preprocess, 21.1ms inference, 1.4ms postprocess per image at shape (1, 3, 384, 640)\n"
          ]
        },
        {
          "output_type": "stream",
          "name": "stderr",
          "text": [
            "\rProcessing frames:  47%|\u001b[32m████▋     \u001b[0m| 364/780 [00:45<00:47,  8.67it/s]"
          ]
        },
        {
          "output_type": "stream",
          "name": "stdout",
          "text": [
            "\n",
            "0: 384x640 18 persons, 1 bicycle, 7 cars, 18 motorcycles, 1 bus, 1 truck, 2 backpacks, 21.0ms\n",
            "Speed: 2.6ms preprocess, 21.0ms inference, 1.4ms postprocess per image at shape (1, 3, 384, 640)\n"
          ]
        },
        {
          "output_type": "stream",
          "name": "stderr",
          "text": [
            "\rProcessing frames:  47%|\u001b[32m████▋     \u001b[0m| 365/780 [00:45<00:48,  8.64it/s]"
          ]
        },
        {
          "output_type": "stream",
          "name": "stdout",
          "text": [
            "\n",
            "0: 384x640 18 persons, 1 bicycle, 7 cars, 17 motorcycles, 1 bus, 1 truck, 2 backpacks, 21.4ms\n",
            "Speed: 2.7ms preprocess, 21.4ms inference, 1.5ms postprocess per image at shape (1, 3, 384, 640)\n"
          ]
        },
        {
          "output_type": "stream",
          "name": "stderr",
          "text": [
            "\rProcessing frames:  47%|\u001b[32m████▋     \u001b[0m| 366/780 [00:45<00:47,  8.64it/s]"
          ]
        },
        {
          "output_type": "stream",
          "name": "stdout",
          "text": [
            "\n",
            "0: 384x640 18 persons, 1 bicycle, 7 cars, 17 motorcycles, 1 bus, 1 truck, 2 backpacks, 20.9ms\n",
            "Speed: 2.7ms preprocess, 20.9ms inference, 1.4ms postprocess per image at shape (1, 3, 384, 640)\n"
          ]
        },
        {
          "output_type": "stream",
          "name": "stderr",
          "text": [
            "\rProcessing frames:  47%|\u001b[32m████▋     \u001b[0m| 367/780 [00:45<00:47,  8.64it/s]"
          ]
        },
        {
          "output_type": "stream",
          "name": "stdout",
          "text": [
            "\n",
            "0: 384x640 18 persons, 1 bicycle, 7 cars, 16 motorcycles, 1 bus, 1 truck, 2 backpacks, 21.1ms\n",
            "Speed: 2.6ms preprocess, 21.1ms inference, 1.5ms postprocess per image at shape (1, 3, 384, 640)\n"
          ]
        },
        {
          "output_type": "stream",
          "name": "stderr",
          "text": [
            "\rProcessing frames:  47%|\u001b[32m████▋     \u001b[0m| 368/780 [00:45<00:47,  8.63it/s]"
          ]
        },
        {
          "output_type": "stream",
          "name": "stdout",
          "text": [
            "\n",
            "0: 384x640 19 persons, 1 bicycle, 7 cars, 15 motorcycles, 1 bus, 1 truck, 2 backpacks, 1 chair, 20.8ms\n",
            "Speed: 2.5ms preprocess, 20.8ms inference, 1.5ms postprocess per image at shape (1, 3, 384, 640)\n"
          ]
        },
        {
          "output_type": "stream",
          "name": "stderr",
          "text": [
            "\rProcessing frames:  47%|\u001b[32m████▋     \u001b[0m| 369/780 [00:45<00:47,  8.65it/s]"
          ]
        },
        {
          "output_type": "stream",
          "name": "stdout",
          "text": [
            "\n",
            "0: 384x640 19 persons, 1 bicycle, 6 cars, 16 motorcycles, 1 bus, 2 trucks, 2 backpacks, 1 chair, 21.4ms\n",
            "Speed: 3.7ms preprocess, 21.4ms inference, 1.4ms postprocess per image at shape (1, 3, 384, 640)\n"
          ]
        },
        {
          "output_type": "stream",
          "name": "stderr",
          "text": [
            "\rProcessing frames:  47%|\u001b[32m████▋     \u001b[0m| 370/780 [00:45<00:47,  8.59it/s]"
          ]
        },
        {
          "output_type": "stream",
          "name": "stdout",
          "text": [
            "\n",
            "0: 384x640 19 persons, 1 bicycle, 7 cars, 16 motorcycles, 1 bus, 1 truck, 2 backpacks, 1 chair, 21.0ms\n",
            "Speed: 2.7ms preprocess, 21.0ms inference, 1.4ms postprocess per image at shape (1, 3, 384, 640)\n"
          ]
        },
        {
          "output_type": "stream",
          "name": "stderr",
          "text": [
            "\rProcessing frames:  48%|\u001b[32m████▊     \u001b[0m| 371/780 [00:45<00:47,  8.60it/s]"
          ]
        },
        {
          "output_type": "stream",
          "name": "stdout",
          "text": [
            "\n",
            "0: 384x640 19 persons, 1 bicycle, 7 cars, 17 motorcycles, 1 bus, 1 truck, 2 backpacks, 21.1ms\n",
            "Speed: 2.5ms preprocess, 21.1ms inference, 1.5ms postprocess per image at shape (1, 3, 384, 640)\n"
          ]
        },
        {
          "output_type": "stream",
          "name": "stderr",
          "text": [
            "\rProcessing frames:  48%|\u001b[32m████▊     \u001b[0m| 372/780 [00:46<00:47,  8.61it/s]"
          ]
        },
        {
          "output_type": "stream",
          "name": "stdout",
          "text": [
            "\n",
            "0: 384x640 20 persons, 1 bicycle, 7 cars, 17 motorcycles, 1 bus, 1 truck, 2 backpacks, 22.3ms\n",
            "Speed: 3.7ms preprocess, 22.3ms inference, 1.4ms postprocess per image at shape (1, 3, 384, 640)\n"
          ]
        },
        {
          "output_type": "stream",
          "name": "stderr",
          "text": [
            "\rProcessing frames:  48%|\u001b[32m████▊     \u001b[0m| 373/780 [00:46<00:48,  8.47it/s]"
          ]
        },
        {
          "output_type": "stream",
          "name": "stdout",
          "text": [
            "\n",
            "0: 384x640 20 persons, 1 bicycle, 7 cars, 17 motorcycles, 1 bus, 1 truck, 2 backpacks, 22.0ms\n",
            "Speed: 2.7ms preprocess, 22.0ms inference, 1.5ms postprocess per image at shape (1, 3, 384, 640)\n"
          ]
        },
        {
          "output_type": "stream",
          "name": "stderr",
          "text": [
            "\rProcessing frames:  48%|\u001b[32m████▊     \u001b[0m| 374/780 [00:46<00:47,  8.47it/s]"
          ]
        },
        {
          "output_type": "stream",
          "name": "stdout",
          "text": [
            "\n",
            "0: 384x640 20 persons, 1 bicycle, 7 cars, 16 motorcycles, 1 bus, 1 truck, 2 backpacks, 21.5ms\n",
            "Speed: 2.6ms preprocess, 21.5ms inference, 1.5ms postprocess per image at shape (1, 3, 384, 640)\n"
          ]
        },
        {
          "output_type": "stream",
          "name": "stderr",
          "text": [
            "\rProcessing frames:  48%|\u001b[32m████▊     \u001b[0m| 375/780 [00:46<00:47,  8.52it/s]"
          ]
        },
        {
          "output_type": "stream",
          "name": "stdout",
          "text": [
            "\n",
            "0: 384x640 20 persons, 1 bicycle, 7 cars, 17 motorcycles, 1 bus, 1 truck, 1 backpack, 23.2ms\n",
            "Speed: 3.6ms preprocess, 23.2ms inference, 1.5ms postprocess per image at shape (1, 3, 384, 640)\n"
          ]
        },
        {
          "output_type": "stream",
          "name": "stderr",
          "text": [
            "\rProcessing frames:  48%|\u001b[32m████▊     \u001b[0m| 376/780 [00:46<00:47,  8.47it/s]"
          ]
        },
        {
          "output_type": "stream",
          "name": "stdout",
          "text": [
            "\n",
            "0: 384x640 19 persons, 1 bicycle, 7 cars, 17 motorcycles, 1 bus, 1 truck, 22.4ms\n",
            "Speed: 3.6ms preprocess, 22.4ms inference, 1.4ms postprocess per image at shape (1, 3, 384, 640)\n"
          ]
        },
        {
          "output_type": "stream",
          "name": "stderr",
          "text": [
            "\rProcessing frames:  48%|\u001b[32m████▊     \u001b[0m| 377/780 [00:46<00:47,  8.44it/s]"
          ]
        },
        {
          "output_type": "stream",
          "name": "stdout",
          "text": [
            "\n",
            "0: 384x640 19 persons, 1 bicycle, 7 cars, 18 motorcycles, 1 bus, 1 truck, 20.9ms\n",
            "Speed: 2.7ms preprocess, 20.9ms inference, 1.5ms postprocess per image at shape (1, 3, 384, 640)\n"
          ]
        },
        {
          "output_type": "stream",
          "name": "stderr",
          "text": [
            "\rProcessing frames:  48%|\u001b[32m████▊     \u001b[0m| 378/780 [00:46<00:47,  8.49it/s]"
          ]
        },
        {
          "output_type": "stream",
          "name": "stdout",
          "text": [
            "\n",
            "0: 384x640 18 persons, 1 bicycle, 7 cars, 18 motorcycles, 1 bus, 1 truck, 21.6ms\n",
            "Speed: 3.7ms preprocess, 21.6ms inference, 1.5ms postprocess per image at shape (1, 3, 384, 640)\n"
          ]
        },
        {
          "output_type": "stream",
          "name": "stderr",
          "text": [
            "\rProcessing frames:  49%|\u001b[32m████▊     \u001b[0m| 379/780 [00:46<00:47,  8.47it/s]"
          ]
        },
        {
          "output_type": "stream",
          "name": "stdout",
          "text": [
            "\n",
            "0: 384x640 18 persons, 1 bicycle, 7 cars, 18 motorcycles, 1 bus, 1 truck, 21.3ms\n",
            "Speed: 3.4ms preprocess, 21.3ms inference, 1.4ms postprocess per image at shape (1, 3, 384, 640)\n"
          ]
        },
        {
          "output_type": "stream",
          "name": "stderr",
          "text": [
            "\rProcessing frames:  49%|\u001b[32m████▊     \u001b[0m| 380/780 [00:47<00:46,  8.52it/s]"
          ]
        },
        {
          "output_type": "stream",
          "name": "stdout",
          "text": [
            "\n",
            "0: 384x640 18 persons, 1 bicycle, 7 cars, 18 motorcycles, 1 bus, 1 truck, 20.8ms\n",
            "Speed: 3.0ms preprocess, 20.8ms inference, 1.6ms postprocess per image at shape (1, 3, 384, 640)\n"
          ]
        },
        {
          "output_type": "stream",
          "name": "stderr",
          "text": [
            "\rProcessing frames:  49%|\u001b[32m████▉     \u001b[0m| 381/780 [00:47<00:46,  8.58it/s]"
          ]
        },
        {
          "output_type": "stream",
          "name": "stdout",
          "text": [
            "\n",
            "0: 384x640 18 persons, 1 bicycle, 7 cars, 17 motorcycles, 1 bus, 1 truck, 21.3ms\n",
            "Speed: 2.6ms preprocess, 21.3ms inference, 1.5ms postprocess per image at shape (1, 3, 384, 640)\n"
          ]
        },
        {
          "output_type": "stream",
          "name": "stderr",
          "text": [
            "\rProcessing frames:  49%|\u001b[32m████▉     \u001b[0m| 382/780 [00:47<00:46,  8.63it/s]"
          ]
        },
        {
          "output_type": "stream",
          "name": "stdout",
          "text": [
            "\n",
            "0: 384x640 18 persons, 1 bicycle, 6 cars, 16 motorcycles, 1 bus, 2 trucks, 1 backpack, 22.6ms\n",
            "Speed: 3.7ms preprocess, 22.6ms inference, 1.4ms postprocess per image at shape (1, 3, 384, 640)\n"
          ]
        },
        {
          "output_type": "stream",
          "name": "stderr",
          "text": [
            "\rProcessing frames:  49%|\u001b[32m████▉     \u001b[0m| 383/780 [00:47<00:46,  8.54it/s]"
          ]
        },
        {
          "output_type": "stream",
          "name": "stdout",
          "text": [
            "\n",
            "0: 384x640 18 persons, 1 bicycle, 7 cars, 15 motorcycles, 1 bus, 1 truck, 1 backpack, 20.8ms\n",
            "Speed: 2.5ms preprocess, 20.8ms inference, 1.4ms postprocess per image at shape (1, 3, 384, 640)\n"
          ]
        },
        {
          "output_type": "stream",
          "name": "stderr",
          "text": [
            "\rProcessing frames:  49%|\u001b[32m████▉     \u001b[0m| 384/780 [00:47<00:45,  8.62it/s]"
          ]
        },
        {
          "output_type": "stream",
          "name": "stdout",
          "text": [
            "\n",
            "0: 384x640 18 persons, 1 bicycle, 6 cars, 16 motorcycles, 1 bus, 2 trucks, 1 backpack, 21.1ms\n",
            "Speed: 2.5ms preprocess, 21.1ms inference, 1.5ms postprocess per image at shape (1, 3, 384, 640)\n"
          ]
        },
        {
          "output_type": "stream",
          "name": "stderr",
          "text": [
            "\rProcessing frames:  49%|\u001b[32m████▉     \u001b[0m| 385/780 [00:47<00:45,  8.62it/s]"
          ]
        },
        {
          "output_type": "stream",
          "name": "stdout",
          "text": [
            "\n",
            "0: 384x640 18 persons, 1 bicycle, 7 cars, 16 motorcycles, 1 bus, 1 truck, 2 backpacks, 21.8ms\n",
            "Speed: 3.0ms preprocess, 21.8ms inference, 1.4ms postprocess per image at shape (1, 3, 384, 640)\n"
          ]
        },
        {
          "output_type": "stream",
          "name": "stderr",
          "text": [
            "\rProcessing frames:  49%|\u001b[32m████▉     \u001b[0m| 386/780 [00:47<00:45,  8.61it/s]"
          ]
        },
        {
          "output_type": "stream",
          "name": "stdout",
          "text": [
            "\n",
            "0: 384x640 18 persons, 1 bicycle, 7 cars, 15 motorcycles, 1 bus, 1 truck, 1 backpack, 20.7ms\n",
            "Speed: 2.4ms preprocess, 20.7ms inference, 1.4ms postprocess per image at shape (1, 3, 384, 640)\n"
          ]
        },
        {
          "output_type": "stream",
          "name": "stderr",
          "text": [
            "\rProcessing frames:  50%|\u001b[32m████▉     \u001b[0m| 387/780 [00:47<00:45,  8.66it/s]"
          ]
        },
        {
          "output_type": "stream",
          "name": "stdout",
          "text": [
            "\n",
            "0: 384x640 18 persons, 1 bicycle, 7 cars, 15 motorcycles, 1 bus, 1 truck, 1 backpack, 20.9ms\n",
            "Speed: 2.8ms preprocess, 20.9ms inference, 1.4ms postprocess per image at shape (1, 3, 384, 640)\n"
          ]
        },
        {
          "output_type": "stream",
          "name": "stderr",
          "text": [
            "\rProcessing frames:  50%|\u001b[32m████▉     \u001b[0m| 388/780 [00:47<00:45,  8.67it/s]"
          ]
        },
        {
          "output_type": "stream",
          "name": "stdout",
          "text": [
            "\n",
            "0: 384x640 18 persons, 1 bicycle, 7 cars, 15 motorcycles, 1 bus, 1 truck, 20.9ms\n",
            "Speed: 2.7ms preprocess, 20.9ms inference, 1.5ms postprocess per image at shape (1, 3, 384, 640)\n"
          ]
        },
        {
          "output_type": "stream",
          "name": "stderr",
          "text": [
            "\rProcessing frames:  50%|\u001b[32m████▉     \u001b[0m| 389/780 [00:48<00:45,  8.69it/s]"
          ]
        },
        {
          "output_type": "stream",
          "name": "stdout",
          "text": [
            "\n",
            "0: 384x640 18 persons, 1 bicycle, 7 cars, 15 motorcycles, 1 bus, 1 truck, 22.4ms\n",
            "Speed: 3.6ms preprocess, 22.4ms inference, 1.4ms postprocess per image at shape (1, 3, 384, 640)\n"
          ]
        },
        {
          "output_type": "stream",
          "name": "stderr",
          "text": [
            "\rProcessing frames:  50%|\u001b[32m█████     \u001b[0m| 390/780 [00:48<00:45,  8.63it/s]"
          ]
        },
        {
          "output_type": "stream",
          "name": "stdout",
          "text": [
            "\n",
            "0: 384x640 18 persons, 1 bicycle, 7 cars, 16 motorcycles, 1 bus, 1 truck, 21.6ms\n",
            "Speed: 2.6ms preprocess, 21.6ms inference, 1.5ms postprocess per image at shape (1, 3, 384, 640)\n"
          ]
        },
        {
          "output_type": "stream",
          "name": "stderr",
          "text": [
            "\rProcessing frames:  50%|\u001b[32m█████     \u001b[0m| 391/780 [00:48<00:45,  8.60it/s]"
          ]
        },
        {
          "output_type": "stream",
          "name": "stdout",
          "text": [
            "\n",
            "0: 384x640 18 persons, 1 bicycle, 7 cars, 16 motorcycles, 1 bus, 1 truck, 1 backpack, 20.7ms\n",
            "Speed: 2.5ms preprocess, 20.7ms inference, 1.5ms postprocess per image at shape (1, 3, 384, 640)\n"
          ]
        },
        {
          "output_type": "stream",
          "name": "stderr",
          "text": [
            "\rProcessing frames:  50%|\u001b[32m█████     \u001b[0m| 392/780 [00:48<00:45,  8.58it/s]"
          ]
        },
        {
          "output_type": "stream",
          "name": "stdout",
          "text": [
            "\n",
            "0: 384x640 18 persons, 1 bicycle, 7 cars, 15 motorcycles, 1 bus, 1 truck, 1 backpack, 20.8ms\n",
            "Speed: 2.5ms preprocess, 20.8ms inference, 1.6ms postprocess per image at shape (1, 3, 384, 640)\n"
          ]
        },
        {
          "output_type": "stream",
          "name": "stderr",
          "text": [
            "\rProcessing frames:  50%|\u001b[32m█████     \u001b[0m| 393/780 [00:48<00:44,  8.62it/s]"
          ]
        },
        {
          "output_type": "stream",
          "name": "stdout",
          "text": [
            "\n",
            "0: 384x640 18 persons, 1 bicycle, 7 cars, 15 motorcycles, 1 bus, 1 truck, 1 backpack, 21.1ms\n",
            "Speed: 2.6ms preprocess, 21.1ms inference, 1.5ms postprocess per image at shape (1, 3, 384, 640)\n"
          ]
        },
        {
          "output_type": "stream",
          "name": "stderr",
          "text": [
            "\rProcessing frames:  51%|\u001b[32m█████     \u001b[0m| 394/780 [00:48<00:44,  8.63it/s]"
          ]
        },
        {
          "output_type": "stream",
          "name": "stdout",
          "text": [
            "\n",
            "0: 384x640 18 persons, 1 bicycle, 8 cars, 15 motorcycles, 1 bus, 1 truck, 1 backpack, 21.3ms\n",
            "Speed: 2.7ms preprocess, 21.3ms inference, 1.5ms postprocess per image at shape (1, 3, 384, 640)\n"
          ]
        },
        {
          "output_type": "stream",
          "name": "stderr",
          "text": [
            "\rProcessing frames:  51%|\u001b[32m█████     \u001b[0m| 395/780 [00:48<00:44,  8.61it/s]"
          ]
        },
        {
          "output_type": "stream",
          "name": "stdout",
          "text": [
            "\n",
            "0: 384x640 18 persons, 1 bicycle, 8 cars, 15 motorcycles, 1 bus, 1 truck, 1 backpack, 21.1ms\n",
            "Speed: 3.8ms preprocess, 21.1ms inference, 1.5ms postprocess per image at shape (1, 3, 384, 640)\n"
          ]
        },
        {
          "output_type": "stream",
          "name": "stderr",
          "text": [
            "\rProcessing frames:  51%|\u001b[32m█████     \u001b[0m| 396/780 [00:48<00:44,  8.62it/s]"
          ]
        },
        {
          "output_type": "stream",
          "name": "stdout",
          "text": [
            "\n",
            "0: 384x640 18 persons, 1 bicycle, 8 cars, 15 motorcycles, 1 bus, 1 truck, 1 backpack, 21.2ms\n",
            "Speed: 2.5ms preprocess, 21.2ms inference, 1.5ms postprocess per image at shape (1, 3, 384, 640)\n"
          ]
        },
        {
          "output_type": "stream",
          "name": "stderr",
          "text": [
            "\rProcessing frames:  51%|\u001b[32m█████     \u001b[0m| 397/780 [00:48<00:44,  8.60it/s]"
          ]
        },
        {
          "output_type": "stream",
          "name": "stdout",
          "text": [
            "\n",
            "0: 384x640 18 persons, 1 bicycle, 8 cars, 16 motorcycles, 1 bus, 1 truck, 1 backpack, 21.1ms\n",
            "Speed: 2.5ms preprocess, 21.1ms inference, 1.5ms postprocess per image at shape (1, 3, 384, 640)\n"
          ]
        },
        {
          "output_type": "stream",
          "name": "stderr",
          "text": [
            "\rProcessing frames:  51%|\u001b[32m█████     \u001b[0m| 398/780 [00:49<00:44,  8.58it/s]"
          ]
        },
        {
          "output_type": "stream",
          "name": "stdout",
          "text": [
            "\n",
            "0: 384x640 18 persons, 1 bicycle, 8 cars, 17 motorcycles, 1 bus, 1 truck, 1 backpack, 22.3ms\n",
            "Speed: 3.4ms preprocess, 22.3ms inference, 1.5ms postprocess per image at shape (1, 3, 384, 640)\n"
          ]
        },
        {
          "output_type": "stream",
          "name": "stderr",
          "text": [
            "\rProcessing frames:  51%|\u001b[32m█████     \u001b[0m| 399/780 [00:49<00:44,  8.50it/s]"
          ]
        },
        {
          "output_type": "stream",
          "name": "stdout",
          "text": [
            "\n",
            "0: 384x640 18 persons, 1 bicycle, 8 cars, 17 motorcycles, 1 bus, 1 truck, 1 backpack, 22.2ms\n",
            "Speed: 3.7ms preprocess, 22.2ms inference, 1.5ms postprocess per image at shape (1, 3, 384, 640)\n"
          ]
        },
        {
          "output_type": "stream",
          "name": "stderr",
          "text": [
            "\rProcessing frames:  51%|\u001b[32m█████▏    \u001b[0m| 400/780 [00:49<00:44,  8.45it/s]"
          ]
        },
        {
          "output_type": "stream",
          "name": "stdout",
          "text": [
            "\n",
            "0: 384x640 17 persons, 1 bicycle, 8 cars, 17 motorcycles, 1 bus, 1 truck, 20.8ms\n",
            "Speed: 2.8ms preprocess, 20.8ms inference, 1.4ms postprocess per image at shape (1, 3, 384, 640)\n"
          ]
        },
        {
          "output_type": "stream",
          "name": "stderr",
          "text": [
            "\rProcessing frames:  51%|\u001b[32m█████▏    \u001b[0m| 401/780 [00:49<00:44,  8.53it/s]"
          ]
        },
        {
          "output_type": "stream",
          "name": "stdout",
          "text": [
            "\n",
            "0: 384x640 17 persons, 1 bicycle, 8 cars, 19 motorcycles, 1 bus, 1 truck, 22.4ms\n",
            "Speed: 3.7ms preprocess, 22.4ms inference, 1.4ms postprocess per image at shape (1, 3, 384, 640)\n"
          ]
        },
        {
          "output_type": "stream",
          "name": "stderr",
          "text": [
            "\rProcessing frames:  52%|\u001b[32m█████▏    \u001b[0m| 402/780 [00:49<00:44,  8.43it/s]"
          ]
        },
        {
          "output_type": "stream",
          "name": "stdout",
          "text": [
            "\n",
            "0: 384x640 17 persons, 1 bicycle, 8 cars, 19 motorcycles, 1 bus, 1 truck, 21.6ms\n",
            "Speed: 2.5ms preprocess, 21.6ms inference, 1.5ms postprocess per image at shape (1, 3, 384, 640)\n"
          ]
        },
        {
          "output_type": "stream",
          "name": "stderr",
          "text": [
            "\rProcessing frames:  52%|\u001b[32m█████▏    \u001b[0m| 403/780 [00:49<00:44,  8.44it/s]"
          ]
        },
        {
          "output_type": "stream",
          "name": "stdout",
          "text": [
            "\n",
            "0: 384x640 17 persons, 1 bicycle, 8 cars, 19 motorcycles, 1 bus, 1 truck, 20.7ms\n",
            "Speed: 2.9ms preprocess, 20.7ms inference, 1.5ms postprocess per image at shape (1, 3, 384, 640)\n"
          ]
        },
        {
          "output_type": "stream",
          "name": "stderr",
          "text": [
            "\rProcessing frames:  52%|\u001b[32m█████▏    \u001b[0m| 404/780 [00:49<00:44,  8.47it/s]"
          ]
        },
        {
          "output_type": "stream",
          "name": "stdout",
          "text": [
            "\n",
            "0: 384x640 18 persons, 1 bicycle, 8 cars, 19 motorcycles, 1 bus, 1 truck, 21.4ms\n",
            "Speed: 3.5ms preprocess, 21.4ms inference, 1.5ms postprocess per image at shape (1, 3, 384, 640)\n"
          ]
        },
        {
          "output_type": "stream",
          "name": "stderr",
          "text": [
            "\rProcessing frames:  52%|\u001b[32m█████▏    \u001b[0m| 405/780 [00:49<00:44,  8.47it/s]"
          ]
        },
        {
          "output_type": "stream",
          "name": "stdout",
          "text": [
            "\n",
            "0: 384x640 18 persons, 1 bicycle, 8 cars, 22 motorcycles, 1 bus, 1 truck, 22.4ms\n",
            "Speed: 3.7ms preprocess, 22.4ms inference, 1.5ms postprocess per image at shape (1, 3, 384, 640)\n"
          ]
        },
        {
          "output_type": "stream",
          "name": "stderr",
          "text": [
            "\rProcessing frames:  52%|\u001b[32m█████▏    \u001b[0m| 406/780 [00:50<00:44,  8.32it/s]"
          ]
        },
        {
          "output_type": "stream",
          "name": "stdout",
          "text": [
            "\n",
            "0: 384x640 18 persons, 1 bicycle, 7 cars, 22 motorcycles, 1 bus, 2 trucks, 22.0ms\n",
            "Speed: 2.8ms preprocess, 22.0ms inference, 1.6ms postprocess per image at shape (1, 3, 384, 640)\n"
          ]
        },
        {
          "output_type": "stream",
          "name": "stderr",
          "text": [
            "\rProcessing frames:  52%|\u001b[32m█████▏    \u001b[0m| 407/780 [00:50<00:45,  8.27it/s]"
          ]
        },
        {
          "output_type": "stream",
          "name": "stdout",
          "text": [
            "\n",
            "0: 384x640 18 persons, 1 bicycle, 6 cars, 22 motorcycles, 1 bus, 3 trucks, 21.1ms\n",
            "Speed: 2.8ms preprocess, 21.1ms inference, 1.4ms postprocess per image at shape (1, 3, 384, 640)\n"
          ]
        },
        {
          "output_type": "stream",
          "name": "stderr",
          "text": [
            "\rProcessing frames:  52%|\u001b[32m█████▏    \u001b[0m| 408/780 [00:50<00:45,  8.26it/s]"
          ]
        },
        {
          "output_type": "stream",
          "name": "stdout",
          "text": [
            "\n",
            "0: 384x640 19 persons, 1 bicycle, 8 cars, 22 motorcycles, 1 bus, 1 truck, 21.2ms\n",
            "Speed: 2.7ms preprocess, 21.2ms inference, 1.5ms postprocess per image at shape (1, 3, 384, 640)\n"
          ]
        },
        {
          "output_type": "stream",
          "name": "stderr",
          "text": [
            "\rProcessing frames:  52%|\u001b[32m█████▏    \u001b[0m| 409/780 [00:50<00:45,  8.20it/s]"
          ]
        },
        {
          "output_type": "stream",
          "name": "stdout",
          "text": [
            "\n",
            "0: 384x640 18 persons, 1 bicycle, 8 cars, 21 motorcycles, 1 bus, 1 truck, 22.1ms\n",
            "Speed: 2.7ms preprocess, 22.1ms inference, 1.5ms postprocess per image at shape (1, 3, 384, 640)\n"
          ]
        },
        {
          "output_type": "stream",
          "name": "stderr",
          "text": [
            "\rProcessing frames:  53%|\u001b[32m█████▎    \u001b[0m| 410/780 [00:50<00:45,  8.22it/s]"
          ]
        },
        {
          "output_type": "stream",
          "name": "stdout",
          "text": [
            "\n",
            "0: 384x640 18 persons, 1 bicycle, 8 cars, 20 motorcycles, 1 bus, 1 truck, 1 backpack, 21.7ms\n",
            "Speed: 2.6ms preprocess, 21.7ms inference, 1.5ms postprocess per image at shape (1, 3, 384, 640)\n"
          ]
        },
        {
          "output_type": "stream",
          "name": "stderr",
          "text": [
            "\rProcessing frames:  53%|\u001b[32m█████▎    \u001b[0m| 411/780 [00:50<00:44,  8.23it/s]"
          ]
        },
        {
          "output_type": "stream",
          "name": "stdout",
          "text": [
            "\n",
            "0: 384x640 18 persons, 1 bicycle, 7 cars, 20 motorcycles, 1 bus, 2 trucks, 1 backpack, 21.0ms\n",
            "Speed: 2.6ms preprocess, 21.0ms inference, 1.5ms postprocess per image at shape (1, 3, 384, 640)\n"
          ]
        },
        {
          "output_type": "stream",
          "name": "stderr",
          "text": [
            "\rProcessing frames:  53%|\u001b[32m█████▎    \u001b[0m| 412/780 [00:50<00:44,  8.26it/s]"
          ]
        },
        {
          "output_type": "stream",
          "name": "stdout",
          "text": [
            "\n",
            "0: 384x640 18 persons, 1 bicycle, 7 cars, 21 motorcycles, 1 bus, 2 trucks, 1 backpack, 21.0ms\n",
            "Speed: 2.6ms preprocess, 21.0ms inference, 1.5ms postprocess per image at shape (1, 3, 384, 640)\n"
          ]
        },
        {
          "output_type": "stream",
          "name": "stderr",
          "text": [
            "\rProcessing frames:  53%|\u001b[32m█████▎    \u001b[0m| 413/780 [00:50<00:44,  8.27it/s]"
          ]
        },
        {
          "output_type": "stream",
          "name": "stdout",
          "text": [
            "\n",
            "0: 384x640 18 persons, 1 bicycle, 7 cars, 21 motorcycles, 1 bus, 2 trucks, 1 backpack, 22.3ms\n",
            "Speed: 3.7ms preprocess, 22.3ms inference, 1.5ms postprocess per image at shape (1, 3, 384, 640)\n"
          ]
        },
        {
          "output_type": "stream",
          "name": "stderr",
          "text": [
            "\rProcessing frames:  53%|\u001b[32m█████▎    \u001b[0m| 414/780 [00:51<00:44,  8.25it/s]"
          ]
        },
        {
          "output_type": "stream",
          "name": "stdout",
          "text": [
            "\n",
            "0: 384x640 18 persons, 1 bicycle, 7 cars, 21 motorcycles, 1 bus, 2 trucks, 21.0ms\n",
            "Speed: 3.4ms preprocess, 21.0ms inference, 1.5ms postprocess per image at shape (1, 3, 384, 640)\n"
          ]
        },
        {
          "output_type": "stream",
          "name": "stderr",
          "text": [
            "\rProcessing frames:  53%|\u001b[32m█████▎    \u001b[0m| 415/780 [00:51<00:44,  8.27it/s]"
          ]
        },
        {
          "output_type": "stream",
          "name": "stdout",
          "text": [
            "\n",
            "0: 384x640 18 persons, 1 bicycle, 8 cars, 21 motorcycles, 1 bus, 1 truck, 20.9ms\n",
            "Speed: 2.5ms preprocess, 20.9ms inference, 1.5ms postprocess per image at shape (1, 3, 384, 640)\n"
          ]
        },
        {
          "output_type": "stream",
          "name": "stderr",
          "text": [
            "\rProcessing frames:  53%|\u001b[32m█████▎    \u001b[0m| 416/780 [00:51<00:44,  8.27it/s]"
          ]
        },
        {
          "output_type": "stream",
          "name": "stdout",
          "text": [
            "\n",
            "0: 384x640 18 persons, 1 bicycle, 8 cars, 21 motorcycles, 1 bus, 1 truck, 22.2ms\n",
            "Speed: 2.8ms preprocess, 22.2ms inference, 1.5ms postprocess per image at shape (1, 3, 384, 640)\n"
          ]
        },
        {
          "output_type": "stream",
          "name": "stderr",
          "text": [
            "\rProcessing frames:  53%|\u001b[32m█████▎    \u001b[0m| 417/780 [00:51<00:44,  8.23it/s]"
          ]
        },
        {
          "output_type": "stream",
          "name": "stdout",
          "text": [
            "\n",
            "0: 384x640 17 persons, 1 bicycle, 7 cars, 20 motorcycles, 1 bus, 2 trucks, 21.6ms\n",
            "Speed: 3.5ms preprocess, 21.6ms inference, 1.5ms postprocess per image at shape (1, 3, 384, 640)\n"
          ]
        },
        {
          "output_type": "stream",
          "name": "stderr",
          "text": [
            "\rProcessing frames:  54%|\u001b[32m█████▎    \u001b[0m| 418/780 [00:51<00:43,  8.26it/s]"
          ]
        },
        {
          "output_type": "stream",
          "name": "stdout",
          "text": [
            "\n",
            "0: 384x640 17 persons, 1 bicycle, 7 cars, 20 motorcycles, 1 bus, 2 trucks, 22.2ms\n",
            "Speed: 2.6ms preprocess, 22.2ms inference, 1.5ms postprocess per image at shape (1, 3, 384, 640)\n"
          ]
        },
        {
          "output_type": "stream",
          "name": "stderr",
          "text": [
            "\rProcessing frames:  54%|\u001b[32m█████▎    \u001b[0m| 419/780 [00:51<00:43,  8.28it/s]"
          ]
        },
        {
          "output_type": "stream",
          "name": "stdout",
          "text": [
            "\n",
            "0: 384x640 17 persons, 1 bicycle, 7 cars, 20 motorcycles, 1 bus, 2 trucks, 22.4ms\n",
            "Speed: 3.7ms preprocess, 22.4ms inference, 1.5ms postprocess per image at shape (1, 3, 384, 640)\n"
          ]
        },
        {
          "output_type": "stream",
          "name": "stderr",
          "text": [
            "\rProcessing frames:  54%|\u001b[32m█████▍    \u001b[0m| 420/780 [00:51<00:43,  8.25it/s]"
          ]
        },
        {
          "output_type": "stream",
          "name": "stdout",
          "text": [
            "\n",
            "0: 384x640 17 persons, 1 bicycle, 8 cars, 20 motorcycles, 1 bus, 1 truck, 22.8ms\n",
            "Speed: 3.8ms preprocess, 22.8ms inference, 1.5ms postprocess per image at shape (1, 3, 384, 640)\n"
          ]
        },
        {
          "output_type": "stream",
          "name": "stderr",
          "text": [
            "\rProcessing frames:  54%|\u001b[32m█████▍    \u001b[0m| 421/780 [00:51<00:43,  8.22it/s]"
          ]
        },
        {
          "output_type": "stream",
          "name": "stdout",
          "text": [
            "\n",
            "0: 384x640 17 persons, 1 bicycle, 8 cars, 20 motorcycles, 1 bus, 1 truck, 22.6ms\n",
            "Speed: 3.7ms preprocess, 22.6ms inference, 1.5ms postprocess per image at shape (1, 3, 384, 640)\n"
          ]
        },
        {
          "output_type": "stream",
          "name": "stderr",
          "text": [
            "\rProcessing frames:  54%|\u001b[32m█████▍    \u001b[0m| 422/780 [00:52<00:43,  8.25it/s]"
          ]
        },
        {
          "output_type": "stream",
          "name": "stdout",
          "text": [
            "\n",
            "0: 384x640 17 persons, 1 bicycle, 8 cars, 20 motorcycles, 1 bus, 1 truck, 20.9ms\n",
            "Speed: 2.8ms preprocess, 20.9ms inference, 1.6ms postprocess per image at shape (1, 3, 384, 640)\n"
          ]
        },
        {
          "output_type": "stream",
          "name": "stderr",
          "text": [
            "\rProcessing frames:  54%|\u001b[32m█████▍    \u001b[0m| 423/780 [00:52<00:43,  8.28it/s]"
          ]
        },
        {
          "output_type": "stream",
          "name": "stdout",
          "text": [
            "\n",
            "0: 384x640 16 persons, 1 bicycle, 7 cars, 22 motorcycles, 1 bus, 1 truck, 21.1ms\n",
            "Speed: 2.5ms preprocess, 21.1ms inference, 1.5ms postprocess per image at shape (1, 3, 384, 640)\n"
          ]
        },
        {
          "output_type": "stream",
          "name": "stderr",
          "text": [
            "\rProcessing frames:  54%|\u001b[32m█████▍    \u001b[0m| 424/780 [00:52<00:43,  8.23it/s]"
          ]
        },
        {
          "output_type": "stream",
          "name": "stdout",
          "text": [
            "\n",
            "0: 384x640 16 persons, 1 bicycle, 7 cars, 22 motorcycles, 1 bus, 1 truck, 21.6ms\n",
            "Speed: 3.7ms preprocess, 21.6ms inference, 1.4ms postprocess per image at shape (1, 3, 384, 640)\n"
          ]
        },
        {
          "output_type": "stream",
          "name": "stderr",
          "text": [
            "\rProcessing frames:  54%|\u001b[32m█████▍    \u001b[0m| 425/780 [00:52<00:42,  8.27it/s]"
          ]
        },
        {
          "output_type": "stream",
          "name": "stdout",
          "text": [
            "\n",
            "0: 384x640 16 persons, 1 bicycle, 7 cars, 22 motorcycles, 1 bus, 1 truck, 22.2ms\n",
            "Speed: 3.6ms preprocess, 22.2ms inference, 1.4ms postprocess per image at shape (1, 3, 384, 640)\n"
          ]
        },
        {
          "output_type": "stream",
          "name": "stderr",
          "text": [
            "\rProcessing frames:  55%|\u001b[32m█████▍    \u001b[0m| 426/780 [00:52<00:42,  8.28it/s]"
          ]
        },
        {
          "output_type": "stream",
          "name": "stdout",
          "text": [
            "\n",
            "0: 384x640 16 persons, 1 bicycle, 7 cars, 23 motorcycles, 1 bus, 1 truck, 20.9ms\n",
            "Speed: 2.5ms preprocess, 20.9ms inference, 1.4ms postprocess per image at shape (1, 3, 384, 640)\n"
          ]
        },
        {
          "output_type": "stream",
          "name": "stderr",
          "text": [
            "\rProcessing frames:  55%|\u001b[32m█████▍    \u001b[0m| 427/780 [00:52<00:42,  8.34it/s]"
          ]
        },
        {
          "output_type": "stream",
          "name": "stdout",
          "text": [
            "\n",
            "0: 384x640 17 persons, 1 bicycle, 7 cars, 22 motorcycles, 1 bus, 1 truck, 20.5ms\n",
            "Speed: 3.0ms preprocess, 20.5ms inference, 1.4ms postprocess per image at shape (1, 3, 384, 640)\n"
          ]
        },
        {
          "output_type": "stream",
          "name": "stderr",
          "text": [
            "\rProcessing frames:  55%|\u001b[32m█████▍    \u001b[0m| 428/780 [00:52<00:42,  8.36it/s]"
          ]
        },
        {
          "output_type": "stream",
          "name": "stdout",
          "text": [
            "\n",
            "0: 384x640 17 persons, 1 bicycle, 7 cars, 22 motorcycles, 1 bus, 1 truck, 21.9ms\n",
            "Speed: 3.7ms preprocess, 21.9ms inference, 1.5ms postprocess per image at shape (1, 3, 384, 640)\n"
          ]
        },
        {
          "output_type": "stream",
          "name": "stderr",
          "text": [
            "\rProcessing frames:  55%|\u001b[32m█████▌    \u001b[0m| 429/780 [00:52<00:42,  8.30it/s]"
          ]
        },
        {
          "output_type": "stream",
          "name": "stdout",
          "text": [
            "\n",
            "0: 384x640 17 persons, 1 bicycle, 7 cars, 22 motorcycles, 1 bus, 1 truck, 20.8ms\n",
            "Speed: 2.7ms preprocess, 20.8ms inference, 1.4ms postprocess per image at shape (1, 3, 384, 640)\n"
          ]
        },
        {
          "output_type": "stream",
          "name": "stderr",
          "text": [
            "\rProcessing frames:  55%|\u001b[32m█████▌    \u001b[0m| 430/780 [00:52<00:42,  8.33it/s]"
          ]
        },
        {
          "output_type": "stream",
          "name": "stdout",
          "text": [
            "\n",
            "0: 384x640 17 persons, 1 bicycle, 7 cars, 22 motorcycles, 1 bus, 1 truck, 20.7ms\n",
            "Speed: 2.4ms preprocess, 20.7ms inference, 1.5ms postprocess per image at shape (1, 3, 384, 640)\n"
          ]
        },
        {
          "output_type": "stream",
          "name": "stderr",
          "text": [
            "\rProcessing frames:  55%|\u001b[32m█████▌    \u001b[0m| 431/780 [00:53<00:41,  8.37it/s]"
          ]
        },
        {
          "output_type": "stream",
          "name": "stdout",
          "text": [
            "\n",
            "0: 384x640 18 persons, 1 bicycle, 7 cars, 22 motorcycles, 1 bus, 1 truck, 23.1ms\n",
            "Speed: 3.7ms preprocess, 23.1ms inference, 1.6ms postprocess per image at shape (1, 3, 384, 640)\n"
          ]
        },
        {
          "output_type": "stream",
          "name": "stderr",
          "text": [
            "\rProcessing frames:  55%|\u001b[32m█████▌    \u001b[0m| 432/780 [00:53<00:42,  8.28it/s]"
          ]
        },
        {
          "output_type": "stream",
          "name": "stdout",
          "text": [
            "\n",
            "0: 384x640 18 persons, 1 bicycle, 7 cars, 22 motorcycles, 1 bus, 1 truck, 21.2ms\n",
            "Speed: 2.7ms preprocess, 21.2ms inference, 1.4ms postprocess per image at shape (1, 3, 384, 640)\n"
          ]
        },
        {
          "output_type": "stream",
          "name": "stderr",
          "text": [
            "\rProcessing frames:  56%|\u001b[32m█████▌    \u001b[0m| 433/780 [00:53<00:42,  8.23it/s]"
          ]
        },
        {
          "output_type": "stream",
          "name": "stdout",
          "text": [
            "\n",
            "0: 384x640 17 persons, 1 bicycle, 7 cars, 22 motorcycles, 1 bus, 1 truck, 20.9ms\n",
            "Speed: 2.5ms preprocess, 20.9ms inference, 2.7ms postprocess per image at shape (1, 3, 384, 640)\n"
          ]
        },
        {
          "output_type": "stream",
          "name": "stderr",
          "text": [
            "\rProcessing frames:  56%|\u001b[32m█████▌    \u001b[0m| 434/780 [00:53<00:41,  8.26it/s]"
          ]
        },
        {
          "output_type": "stream",
          "name": "stdout",
          "text": [
            "\n",
            "0: 384x640 17 persons, 1 bicycle, 7 cars, 21 motorcycles, 1 bus, 1 truck, 1 backpack, 21.1ms\n",
            "Speed: 2.6ms preprocess, 21.1ms inference, 1.5ms postprocess per image at shape (1, 3, 384, 640)\n"
          ]
        },
        {
          "output_type": "stream",
          "name": "stderr",
          "text": [
            "\rProcessing frames:  56%|\u001b[32m█████▌    \u001b[0m| 435/780 [00:53<00:41,  8.28it/s]"
          ]
        },
        {
          "output_type": "stream",
          "name": "stdout",
          "text": [
            "\n",
            "0: 384x640 17 persons, 1 bicycle, 7 cars, 21 motorcycles, 1 bus, 1 truck, 1 backpack, 22.8ms\n",
            "Speed: 3.1ms preprocess, 22.8ms inference, 1.6ms postprocess per image at shape (1, 3, 384, 640)\n"
          ]
        },
        {
          "output_type": "stream",
          "name": "stderr",
          "text": [
            "\rProcessing frames:  56%|\u001b[32m█████▌    \u001b[0m| 436/780 [00:53<00:41,  8.21it/s]"
          ]
        },
        {
          "output_type": "stream",
          "name": "stdout",
          "text": [
            "\n",
            "0: 384x640 17 persons, 7 cars, 22 motorcycles, 1 bus, 1 truck, 1 backpack, 21.3ms\n",
            "Speed: 3.7ms preprocess, 21.3ms inference, 1.5ms postprocess per image at shape (1, 3, 384, 640)\n"
          ]
        },
        {
          "output_type": "stream",
          "name": "stderr",
          "text": [
            "\rProcessing frames:  56%|\u001b[32m█████▌    \u001b[0m| 437/780 [00:53<00:41,  8.22it/s]"
          ]
        },
        {
          "output_type": "stream",
          "name": "stdout",
          "text": [
            "\n",
            "0: 384x640 17 persons, 7 cars, 23 motorcycles, 1 bus, 1 truck, 1 backpack, 21.0ms\n",
            "Speed: 2.5ms preprocess, 21.0ms inference, 1.5ms postprocess per image at shape (1, 3, 384, 640)\n"
          ]
        },
        {
          "output_type": "stream",
          "name": "stderr",
          "text": [
            "\rProcessing frames:  56%|\u001b[32m█████▌    \u001b[0m| 438/780 [00:53<00:41,  8.25it/s]"
          ]
        },
        {
          "output_type": "stream",
          "name": "stdout",
          "text": [
            "\n",
            "0: 384x640 17 persons, 7 cars, 22 motorcycles, 1 bus, 1 truck, 1 backpack, 20.7ms\n",
            "Speed: 2.5ms preprocess, 20.7ms inference, 1.4ms postprocess per image at shape (1, 3, 384, 640)\n"
          ]
        },
        {
          "output_type": "stream",
          "name": "stderr",
          "text": [
            "\rProcessing frames:  56%|\u001b[32m█████▋    \u001b[0m| 439/780 [00:54<00:41,  8.25it/s]"
          ]
        },
        {
          "output_type": "stream",
          "name": "stdout",
          "text": [
            "\n",
            "0: 384x640 17 persons, 7 cars, 21 motorcycles, 1 bus, 1 truck, 21.5ms\n",
            "Speed: 2.6ms preprocess, 21.5ms inference, 1.5ms postprocess per image at shape (1, 3, 384, 640)\n"
          ]
        },
        {
          "output_type": "stream",
          "name": "stderr",
          "text": [
            "\rProcessing frames:  56%|\u001b[32m█████▋    \u001b[0m| 440/780 [00:54<00:41,  8.21it/s]"
          ]
        },
        {
          "output_type": "stream",
          "name": "stdout",
          "text": [
            "\n",
            "0: 384x640 17 persons, 7 cars, 21 motorcycles, 1 bus, 1 truck, 21.1ms\n",
            "Speed: 2.8ms preprocess, 21.1ms inference, 1.5ms postprocess per image at shape (1, 3, 384, 640)\n"
          ]
        },
        {
          "output_type": "stream",
          "name": "stderr",
          "text": [
            "\rProcessing frames:  57%|\u001b[32m█████▋    \u001b[0m| 441/780 [00:54<00:41,  8.25it/s]"
          ]
        },
        {
          "output_type": "stream",
          "name": "stdout",
          "text": [
            "\n",
            "0: 384x640 17 persons, 7 cars, 22 motorcycles, 1 bus, 1 truck, 21.3ms\n",
            "Speed: 2.6ms preprocess, 21.3ms inference, 1.6ms postprocess per image at shape (1, 3, 384, 640)\n"
          ]
        },
        {
          "output_type": "stream",
          "name": "stderr",
          "text": [
            "\rProcessing frames:  57%|\u001b[32m█████▋    \u001b[0m| 442/780 [00:54<00:40,  8.28it/s]"
          ]
        },
        {
          "output_type": "stream",
          "name": "stdout",
          "text": [
            "\n",
            "0: 384x640 17 persons, 7 cars, 23 motorcycles, 1 bus, 1 truck, 1 backpack, 21.1ms\n",
            "Speed: 2.5ms preprocess, 21.1ms inference, 1.5ms postprocess per image at shape (1, 3, 384, 640)\n"
          ]
        },
        {
          "output_type": "stream",
          "name": "stderr",
          "text": [
            "\rProcessing frames:  57%|\u001b[32m█████▋    \u001b[0m| 443/780 [00:54<00:40,  8.25it/s]"
          ]
        },
        {
          "output_type": "stream",
          "name": "stdout",
          "text": [
            "\n",
            "0: 384x640 17 persons, 7 cars, 23 motorcycles, 1 bus, 1 truck, 1 backpack, 21.5ms\n",
            "Speed: 2.7ms preprocess, 21.5ms inference, 1.5ms postprocess per image at shape (1, 3, 384, 640)\n"
          ]
        },
        {
          "output_type": "stream",
          "name": "stderr",
          "text": [
            "\rProcessing frames:  57%|\u001b[32m█████▋    \u001b[0m| 444/780 [00:54<00:41,  8.18it/s]"
          ]
        },
        {
          "output_type": "stream",
          "name": "stdout",
          "text": [
            "\n",
            "0: 384x640 17 persons, 7 cars, 22 motorcycles, 1 bus, 1 truck, 1 backpack, 21.6ms\n",
            "Speed: 2.9ms preprocess, 21.6ms inference, 1.5ms postprocess per image at shape (1, 3, 384, 640)\n"
          ]
        },
        {
          "output_type": "stream",
          "name": "stderr",
          "text": [
            "\rProcessing frames:  57%|\u001b[32m█████▋    \u001b[0m| 445/780 [00:54<00:40,  8.17it/s]"
          ]
        },
        {
          "output_type": "stream",
          "name": "stdout",
          "text": [
            "\n",
            "0: 384x640 17 persons, 7 cars, 22 motorcycles, 1 bus, 1 truck, 1 backpack, 21.4ms\n",
            "Speed: 3.0ms preprocess, 21.4ms inference, 1.5ms postprocess per image at shape (1, 3, 384, 640)\n"
          ]
        },
        {
          "output_type": "stream",
          "name": "stderr",
          "text": [
            "\rProcessing frames:  57%|\u001b[32m█████▋    \u001b[0m| 446/780 [00:54<00:40,  8.16it/s]"
          ]
        },
        {
          "output_type": "stream",
          "name": "stdout",
          "text": [
            "\n",
            "0: 384x640 17 persons, 7 cars, 22 motorcycles, 1 bus, 1 truck, 1 backpack, 20.9ms\n",
            "Speed: 3.0ms preprocess, 20.9ms inference, 1.5ms postprocess per image at shape (1, 3, 384, 640)\n"
          ]
        },
        {
          "output_type": "stream",
          "name": "stderr",
          "text": [
            "\rProcessing frames:  57%|\u001b[32m█████▋    \u001b[0m| 447/780 [00:55<00:41,  8.11it/s]"
          ]
        },
        {
          "output_type": "stream",
          "name": "stdout",
          "text": [
            "\n",
            "0: 384x640 18 persons, 7 cars, 21 motorcycles, 1 bus, 1 truck, 1 backpack, 21.9ms\n",
            "Speed: 2.6ms preprocess, 21.9ms inference, 1.5ms postprocess per image at shape (1, 3, 384, 640)\n"
          ]
        },
        {
          "output_type": "stream",
          "name": "stderr",
          "text": [
            "\rProcessing frames:  57%|\u001b[32m█████▋    \u001b[0m| 448/780 [00:55<00:40,  8.12it/s]"
          ]
        },
        {
          "output_type": "stream",
          "name": "stdout",
          "text": [
            "\n",
            "0: 384x640 18 persons, 7 cars, 23 motorcycles, 1 bus, 1 truck, 1 backpack, 21.1ms\n",
            "Speed: 2.8ms preprocess, 21.1ms inference, 1.5ms postprocess per image at shape (1, 3, 384, 640)\n"
          ]
        },
        {
          "output_type": "stream",
          "name": "stderr",
          "text": [
            "\rProcessing frames:  58%|\u001b[32m█████▊    \u001b[0m| 449/780 [00:55<00:40,  8.14it/s]"
          ]
        },
        {
          "output_type": "stream",
          "name": "stdout",
          "text": [
            "\n",
            "0: 384x640 18 persons, 7 cars, 22 motorcycles, 1 bus, 1 truck, 1 backpack, 21.9ms\n",
            "Speed: 2.6ms preprocess, 21.9ms inference, 1.5ms postprocess per image at shape (1, 3, 384, 640)\n"
          ]
        },
        {
          "output_type": "stream",
          "name": "stderr",
          "text": [
            "\rProcessing frames:  58%|\u001b[32m█████▊    \u001b[0m| 450/780 [00:55<00:40,  8.18it/s]"
          ]
        },
        {
          "output_type": "stream",
          "name": "stdout",
          "text": [
            "\n",
            "0: 384x640 19 persons, 7 cars, 23 motorcycles, 1 bus, 1 truck, 1 backpack, 21.1ms\n",
            "Speed: 2.6ms preprocess, 21.1ms inference, 1.4ms postprocess per image at shape (1, 3, 384, 640)\n"
          ]
        },
        {
          "output_type": "stream",
          "name": "stderr",
          "text": [
            "\rProcessing frames:  58%|\u001b[32m█████▊    \u001b[0m| 451/780 [00:55<00:40,  8.17it/s]"
          ]
        },
        {
          "output_type": "stream",
          "name": "stdout",
          "text": [
            "\n",
            "0: 384x640 19 persons, 6 cars, 21 motorcycles, 1 bus, 2 trucks, 2 backpacks, 21.3ms\n",
            "Speed: 2.5ms preprocess, 21.3ms inference, 1.4ms postprocess per image at shape (1, 3, 384, 640)\n"
          ]
        },
        {
          "output_type": "stream",
          "name": "stderr",
          "text": [
            "\rProcessing frames:  58%|\u001b[32m█████▊    \u001b[0m| 452/780 [00:55<00:40,  8.13it/s]"
          ]
        },
        {
          "output_type": "stream",
          "name": "stdout",
          "text": [
            "\n",
            "0: 384x640 19 persons, 6 cars, 21 motorcycles, 1 bus, 2 trucks, 2 backpacks, 21.2ms\n",
            "Speed: 2.5ms preprocess, 21.2ms inference, 1.4ms postprocess per image at shape (1, 3, 384, 640)\n"
          ]
        },
        {
          "output_type": "stream",
          "name": "stderr",
          "text": [
            "\rProcessing frames:  58%|\u001b[32m█████▊    \u001b[0m| 453/780 [00:55<00:40,  8.15it/s]"
          ]
        },
        {
          "output_type": "stream",
          "name": "stdout",
          "text": [
            "\n",
            "0: 384x640 18 persons, 7 cars, 22 motorcycles, 1 bus, 2 trucks, 2 backpacks, 21.9ms\n",
            "Speed: 2.7ms preprocess, 21.9ms inference, 1.5ms postprocess per image at shape (1, 3, 384, 640)\n"
          ]
        },
        {
          "output_type": "stream",
          "name": "stderr",
          "text": [
            "\rProcessing frames:  58%|\u001b[32m█████▊    \u001b[0m| 454/780 [00:55<00:40,  8.12it/s]"
          ]
        },
        {
          "output_type": "stream",
          "name": "stdout",
          "text": [
            "\n",
            "0: 384x640 18 persons, 7 cars, 21 motorcycles, 1 bus, 2 trucks, 2 backpacks, 20.9ms\n",
            "Speed: 2.6ms preprocess, 20.9ms inference, 1.5ms postprocess per image at shape (1, 3, 384, 640)\n"
          ]
        },
        {
          "output_type": "stream",
          "name": "stderr",
          "text": [
            "\rProcessing frames:  58%|\u001b[32m█████▊    \u001b[0m| 455/780 [00:56<00:39,  8.15it/s]"
          ]
        },
        {
          "output_type": "stream",
          "name": "stdout",
          "text": [
            "\n",
            "0: 384x640 18 persons, 7 cars, 21 motorcycles, 1 bus, 2 trucks, 2 backpacks, 22.8ms\n",
            "Speed: 3.7ms preprocess, 22.8ms inference, 1.4ms postprocess per image at shape (1, 3, 384, 640)\n"
          ]
        },
        {
          "output_type": "stream",
          "name": "stderr",
          "text": [
            "\rProcessing frames:  58%|\u001b[32m█████▊    \u001b[0m| 456/780 [00:56<00:40,  8.09it/s]"
          ]
        },
        {
          "output_type": "stream",
          "name": "stdout",
          "text": [
            "\n",
            "0: 384x640 18 persons, 7 cars, 21 motorcycles, 1 bus, 2 trucks, 2 backpacks, 21.0ms\n",
            "Speed: 2.5ms preprocess, 21.0ms inference, 1.5ms postprocess per image at shape (1, 3, 384, 640)\n"
          ]
        },
        {
          "output_type": "stream",
          "name": "stderr",
          "text": [
            "\rProcessing frames:  59%|\u001b[32m█████▊    \u001b[0m| 457/780 [00:56<00:39,  8.12it/s]"
          ]
        },
        {
          "output_type": "stream",
          "name": "stdout",
          "text": [
            "\n",
            "0: 384x640 18 persons, 7 cars, 21 motorcycles, 1 bus, 2 trucks, 1 backpack, 21.2ms\n",
            "Speed: 2.6ms preprocess, 21.2ms inference, 1.4ms postprocess per image at shape (1, 3, 384, 640)\n"
          ]
        },
        {
          "output_type": "stream",
          "name": "stderr",
          "text": [
            "\rProcessing frames:  59%|\u001b[32m█████▊    \u001b[0m| 458/780 [00:56<00:39,  8.18it/s]"
          ]
        },
        {
          "output_type": "stream",
          "name": "stdout",
          "text": [
            "\n",
            "0: 384x640 18 persons, 8 cars, 22 motorcycles, 1 bus, 1 truck, 1 backpack, 21.1ms\n",
            "Speed: 2.6ms preprocess, 21.1ms inference, 1.4ms postprocess per image at shape (1, 3, 384, 640)\n"
          ]
        },
        {
          "output_type": "stream",
          "name": "stderr",
          "text": [
            "\rProcessing frames:  59%|\u001b[32m█████▉    \u001b[0m| 459/780 [00:56<00:39,  8.21it/s]"
          ]
        },
        {
          "output_type": "stream",
          "name": "stdout",
          "text": [
            "\n",
            "0: 384x640 18 persons, 7 cars, 22 motorcycles, 1 bus, 1 truck, 2 backpacks, 20.8ms\n",
            "Speed: 3.0ms preprocess, 20.8ms inference, 1.5ms postprocess per image at shape (1, 3, 384, 640)\n"
          ]
        },
        {
          "output_type": "stream",
          "name": "stderr",
          "text": [
            "\rProcessing frames:  59%|\u001b[32m█████▉    \u001b[0m| 460/780 [00:56<00:39,  8.13it/s]"
          ]
        },
        {
          "output_type": "stream",
          "name": "stdout",
          "text": [
            "\n",
            "0: 384x640 18 persons, 7 cars, 22 motorcycles, 1 bus, 1 truck, 2 backpacks, 21.0ms\n",
            "Speed: 2.5ms preprocess, 21.0ms inference, 1.4ms postprocess per image at shape (1, 3, 384, 640)\n"
          ]
        },
        {
          "output_type": "stream",
          "name": "stderr",
          "text": [
            "\rProcessing frames:  59%|\u001b[32m█████▉    \u001b[0m| 461/780 [00:56<00:38,  8.19it/s]"
          ]
        },
        {
          "output_type": "stream",
          "name": "stdout",
          "text": [
            "\n",
            "0: 384x640 18 persons, 7 cars, 22 motorcycles, 1 bus, 1 truck, 2 backpacks, 21.8ms\n",
            "Speed: 3.6ms preprocess, 21.8ms inference, 1.4ms postprocess per image at shape (1, 3, 384, 640)\n"
          ]
        },
        {
          "output_type": "stream",
          "name": "stderr",
          "text": [
            "\rProcessing frames:  59%|\u001b[32m█████▉    \u001b[0m| 462/780 [00:56<00:38,  8.16it/s]"
          ]
        },
        {
          "output_type": "stream",
          "name": "stdout",
          "text": [
            "\n",
            "0: 384x640 18 persons, 7 cars, 22 motorcycles, 1 bus, 1 truck, 2 backpacks, 21.0ms\n",
            "Speed: 3.4ms preprocess, 21.0ms inference, 1.4ms postprocess per image at shape (1, 3, 384, 640)\n"
          ]
        },
        {
          "output_type": "stream",
          "name": "stderr",
          "text": [
            "\rProcessing frames:  59%|\u001b[32m█████▉    \u001b[0m| 463/780 [00:57<00:39,  8.08it/s]"
          ]
        },
        {
          "output_type": "stream",
          "name": "stdout",
          "text": [
            "\n",
            "0: 384x640 19 persons, 7 cars, 24 motorcycles, 1 bus, 1 truck, 2 backpacks, 21.2ms\n",
            "Speed: 2.5ms preprocess, 21.2ms inference, 1.5ms postprocess per image at shape (1, 3, 384, 640)\n"
          ]
        },
        {
          "output_type": "stream",
          "name": "stderr",
          "text": [
            "\rProcessing frames:  59%|\u001b[32m█████▉    \u001b[0m| 464/780 [00:57<00:39,  8.01it/s]"
          ]
        },
        {
          "output_type": "stream",
          "name": "stdout",
          "text": [
            "\n",
            "0: 384x640 20 persons, 6 cars, 22 motorcycles, 1 bus, 2 trucks, 1 stop sign, 2 backpacks, 21.2ms\n",
            "Speed: 2.6ms preprocess, 21.2ms inference, 1.5ms postprocess per image at shape (1, 3, 384, 640)\n"
          ]
        },
        {
          "output_type": "stream",
          "name": "stderr",
          "text": [
            "\rProcessing frames:  60%|\u001b[32m█████▉    \u001b[0m| 465/780 [00:57<00:39,  7.88it/s]"
          ]
        },
        {
          "output_type": "stream",
          "name": "stdout",
          "text": [
            "\n",
            "0: 384x640 19 persons, 6 cars, 22 motorcycles, 1 bus, 2 trucks, 1 stop sign, 2 backpacks, 21.5ms\n",
            "Speed: 3.2ms preprocess, 21.5ms inference, 1.4ms postprocess per image at shape (1, 3, 384, 640)\n"
          ]
        },
        {
          "output_type": "stream",
          "name": "stderr",
          "text": [
            "\rProcessing frames:  60%|\u001b[32m█████▉    \u001b[0m| 466/780 [00:57<00:39,  7.94it/s]"
          ]
        },
        {
          "output_type": "stream",
          "name": "stdout",
          "text": [
            "\n",
            "0: 384x640 19 persons, 6 cars, 22 motorcycles, 1 bus, 2 trucks, 1 stop sign, 2 backpacks, 22.5ms\n",
            "Speed: 3.7ms preprocess, 22.5ms inference, 1.4ms postprocess per image at shape (1, 3, 384, 640)\n"
          ]
        },
        {
          "output_type": "stream",
          "name": "stderr",
          "text": [
            "\rProcessing frames:  60%|\u001b[32m█████▉    \u001b[0m| 467/780 [00:57<00:39,  7.95it/s]"
          ]
        },
        {
          "output_type": "stream",
          "name": "stdout",
          "text": [
            "\n",
            "0: 384x640 19 persons, 6 cars, 21 motorcycles, 1 bus, 2 trucks, 1 stop sign, 2 backpacks, 21.2ms\n",
            "Speed: 2.5ms preprocess, 21.2ms inference, 1.5ms postprocess per image at shape (1, 3, 384, 640)\n"
          ]
        },
        {
          "output_type": "stream",
          "name": "stderr",
          "text": [
            "\rProcessing frames:  60%|\u001b[32m██████    \u001b[0m| 468/780 [00:57<00:39,  8.00it/s]"
          ]
        },
        {
          "output_type": "stream",
          "name": "stdout",
          "text": [
            "\n",
            "0: 384x640 19 persons, 6 cars, 20 motorcycles, 1 bus, 2 trucks, 1 stop sign, 2 backpacks, 21.6ms\n",
            "Speed: 2.8ms preprocess, 21.6ms inference, 1.4ms postprocess per image at shape (1, 3, 384, 640)\n"
          ]
        },
        {
          "output_type": "stream",
          "name": "stderr",
          "text": [
            "\rProcessing frames:  60%|\u001b[32m██████    \u001b[0m| 469/780 [00:57<00:39,  7.95it/s]"
          ]
        },
        {
          "output_type": "stream",
          "name": "stdout",
          "text": [
            "\n",
            "0: 384x640 19 persons, 6 cars, 21 motorcycles, 1 bus, 2 trucks, 1 stop sign, 2 backpacks, 21.9ms\n",
            "Speed: 2.8ms preprocess, 21.9ms inference, 1.5ms postprocess per image at shape (1, 3, 384, 640)\n"
          ]
        },
        {
          "output_type": "stream",
          "name": "stderr",
          "text": [
            "\rProcessing frames:  60%|\u001b[32m██████    \u001b[0m| 470/780 [00:57<00:38,  8.00it/s]"
          ]
        },
        {
          "output_type": "stream",
          "name": "stdout",
          "text": [
            "\n",
            "0: 384x640 19 persons, 6 cars, 19 motorcycles, 1 bus, 2 trucks, 1 stop sign, 1 backpack, 21.7ms\n",
            "Speed: 2.9ms preprocess, 21.7ms inference, 1.5ms postprocess per image at shape (1, 3, 384, 640)\n"
          ]
        },
        {
          "output_type": "stream",
          "name": "stderr",
          "text": [
            "\rProcessing frames:  60%|\u001b[32m██████    \u001b[0m| 471/780 [00:58<00:38,  8.07it/s]"
          ]
        },
        {
          "output_type": "stream",
          "name": "stdout",
          "text": [
            "\n",
            "0: 384x640 19 persons, 6 cars, 23 motorcycles, 1 bus, 2 trucks, 1 stop sign, 1 backpack, 21.9ms\n",
            "Speed: 2.7ms preprocess, 21.9ms inference, 1.5ms postprocess per image at shape (1, 3, 384, 640)\n"
          ]
        },
        {
          "output_type": "stream",
          "name": "stderr",
          "text": [
            "\rProcessing frames:  61%|\u001b[32m██████    \u001b[0m| 472/780 [00:58<00:38,  8.05it/s]"
          ]
        },
        {
          "output_type": "stream",
          "name": "stdout",
          "text": [
            "\n",
            "0: 384x640 19 persons, 6 cars, 24 motorcycles, 1 bus, 2 trucks, 1 stop sign, 1 backpack, 21.3ms\n",
            "Speed: 2.6ms preprocess, 21.3ms inference, 1.5ms postprocess per image at shape (1, 3, 384, 640)\n"
          ]
        },
        {
          "output_type": "stream",
          "name": "stderr",
          "text": [
            "\rProcessing frames:  61%|\u001b[32m██████    \u001b[0m| 473/780 [00:58<00:38,  8.02it/s]"
          ]
        },
        {
          "output_type": "stream",
          "name": "stdout",
          "text": [
            "\n",
            "0: 384x640 19 persons, 5 cars, 25 motorcycles, 1 bus, 3 trucks, 1 stop sign, 1 backpack, 23.1ms\n",
            "Speed: 3.8ms preprocess, 23.1ms inference, 1.5ms postprocess per image at shape (1, 3, 384, 640)\n"
          ]
        },
        {
          "output_type": "stream",
          "name": "stderr",
          "text": [
            "\rProcessing frames:  61%|\u001b[32m██████    \u001b[0m| 474/780 [00:58<00:38,  7.96it/s]"
          ]
        },
        {
          "output_type": "stream",
          "name": "stdout",
          "text": [
            "\n",
            "0: 384x640 19 persons, 7 cars, 25 motorcycles, 1 bus, 1 truck, 1 stop sign, 1 backpack, 21.2ms\n",
            "Speed: 2.5ms preprocess, 21.2ms inference, 1.5ms postprocess per image at shape (1, 3, 384, 640)\n"
          ]
        },
        {
          "output_type": "stream",
          "name": "stderr",
          "text": [
            "\rProcessing frames:  61%|\u001b[32m██████    \u001b[0m| 475/780 [00:58<00:38,  7.97it/s]"
          ]
        },
        {
          "output_type": "stream",
          "name": "stdout",
          "text": [
            "\n",
            "0: 384x640 19 persons, 7 cars, 25 motorcycles, 1 bus, 1 truck, 1 stop sign, 1 backpack, 21.3ms\n",
            "Speed: 2.5ms preprocess, 21.3ms inference, 1.5ms postprocess per image at shape (1, 3, 384, 640)\n"
          ]
        },
        {
          "output_type": "stream",
          "name": "stderr",
          "text": [
            "\rProcessing frames:  61%|\u001b[32m██████    \u001b[0m| 476/780 [00:58<00:38,  7.98it/s]"
          ]
        },
        {
          "output_type": "stream",
          "name": "stdout",
          "text": [
            "\n",
            "0: 384x640 19 persons, 7 cars, 25 motorcycles, 1 bus, 1 truck, 1 stop sign, 1 backpack, 23.1ms\n",
            "Speed: 3.7ms preprocess, 23.1ms inference, 1.5ms postprocess per image at shape (1, 3, 384, 640)\n"
          ]
        },
        {
          "output_type": "stream",
          "name": "stderr",
          "text": [
            "\rProcessing frames:  61%|\u001b[32m██████    \u001b[0m| 477/780 [00:58<00:38,  7.94it/s]"
          ]
        },
        {
          "output_type": "stream",
          "name": "stdout",
          "text": [
            "\n",
            "0: 384x640 19 persons, 7 cars, 25 motorcycles, 1 bus, 1 truck, 1 stop sign, 1 backpack, 21.4ms\n",
            "Speed: 2.5ms preprocess, 21.4ms inference, 1.5ms postprocess per image at shape (1, 3, 384, 640)\n"
          ]
        },
        {
          "output_type": "stream",
          "name": "stderr",
          "text": [
            "\rProcessing frames:  61%|\u001b[32m██████▏   \u001b[0m| 478/780 [00:58<00:37,  7.99it/s]"
          ]
        },
        {
          "output_type": "stream",
          "name": "stdout",
          "text": [
            "\n",
            "0: 384x640 19 persons, 7 cars, 24 motorcycles, 1 bus, 1 truck, 1 stop sign, 1 backpack, 22.4ms\n",
            "Speed: 2.6ms preprocess, 22.4ms inference, 1.5ms postprocess per image at shape (1, 3, 384, 640)\n"
          ]
        },
        {
          "output_type": "stream",
          "name": "stderr",
          "text": [
            "\rProcessing frames:  61%|\u001b[32m██████▏   \u001b[0m| 479/780 [00:59<00:37,  7.99it/s]"
          ]
        },
        {
          "output_type": "stream",
          "name": "stdout",
          "text": [
            "\n",
            "0: 384x640 19 persons, 6 cars, 24 motorcycles, 1 bus, 2 trucks, 1 stop sign, 1 backpack, 21.4ms\n",
            "Speed: 2.7ms preprocess, 21.4ms inference, 1.5ms postprocess per image at shape (1, 3, 384, 640)\n"
          ]
        },
        {
          "output_type": "stream",
          "name": "stderr",
          "text": [
            "\rProcessing frames:  62%|\u001b[32m██████▏   \u001b[0m| 480/780 [00:59<00:37,  8.00it/s]"
          ]
        },
        {
          "output_type": "stream",
          "name": "stdout",
          "text": [
            "\n",
            "0: 384x640 19 persons, 7 cars, 23 motorcycles, 1 bus, 1 truck, 1 stop sign, 1 backpack, 21.0ms\n",
            "Speed: 2.6ms preprocess, 21.0ms inference, 1.4ms postprocess per image at shape (1, 3, 384, 640)\n"
          ]
        },
        {
          "output_type": "stream",
          "name": "stderr",
          "text": [
            "\rProcessing frames:  62%|\u001b[32m██████▏   \u001b[0m| 481/780 [00:59<00:37,  8.00it/s]"
          ]
        },
        {
          "output_type": "stream",
          "name": "stdout",
          "text": [
            "\n",
            "0: 384x640 19 persons, 6 cars, 24 motorcycles, 1 bus, 2 trucks, 1 stop sign, 1 backpack, 22.4ms\n",
            "Speed: 2.8ms preprocess, 22.4ms inference, 1.5ms postprocess per image at shape (1, 3, 384, 640)\n"
          ]
        },
        {
          "output_type": "stream",
          "name": "stderr",
          "text": [
            "\rProcessing frames:  62%|\u001b[32m██████▏   \u001b[0m| 482/780 [00:59<00:37,  8.00it/s]"
          ]
        },
        {
          "output_type": "stream",
          "name": "stdout",
          "text": [
            "\n",
            "0: 384x640 19 persons, 6 cars, 24 motorcycles, 1 bus, 2 trucks, 1 stop sign, 1 backpack, 21.9ms\n",
            "Speed: 3.3ms preprocess, 21.9ms inference, 1.5ms postprocess per image at shape (1, 3, 384, 640)\n"
          ]
        },
        {
          "output_type": "stream",
          "name": "stderr",
          "text": [
            "\rProcessing frames:  62%|\u001b[32m██████▏   \u001b[0m| 483/780 [00:59<00:37,  7.98it/s]"
          ]
        },
        {
          "output_type": "stream",
          "name": "stdout",
          "text": [
            "\n",
            "0: 384x640 20 persons, 6 cars, 24 motorcycles, 1 bus, 2 trucks, 1 stop sign, 1 backpack, 21.5ms\n",
            "Speed: 2.4ms preprocess, 21.5ms inference, 1.5ms postprocess per image at shape (1, 3, 384, 640)\n"
          ]
        },
        {
          "output_type": "stream",
          "name": "stderr",
          "text": [
            "\rProcessing frames:  62%|\u001b[32m██████▏   \u001b[0m| 484/780 [00:59<00:37,  7.98it/s]"
          ]
        },
        {
          "output_type": "stream",
          "name": "stdout",
          "text": [
            "\n",
            "0: 384x640 20 persons, 6 cars, 24 motorcycles, 1 bus, 2 trucks, 1 stop sign, 1 backpack, 22.8ms\n",
            "Speed: 3.1ms preprocess, 22.8ms inference, 1.5ms postprocess per image at shape (1, 3, 384, 640)\n"
          ]
        },
        {
          "output_type": "stream",
          "name": "stderr",
          "text": [
            "\rProcessing frames:  62%|\u001b[32m██████▏   \u001b[0m| 485/780 [00:59<00:37,  7.97it/s]"
          ]
        },
        {
          "output_type": "stream",
          "name": "stdout",
          "text": [
            "\n",
            "0: 384x640 20 persons, 6 cars, 26 motorcycles, 1 bus, 2 trucks, 1 stop sign, 1 backpack, 21.5ms\n",
            "Speed: 2.5ms preprocess, 21.5ms inference, 1.5ms postprocess per image at shape (1, 3, 384, 640)\n"
          ]
        },
        {
          "output_type": "stream",
          "name": "stderr",
          "text": [
            "\rProcessing frames:  62%|\u001b[32m██████▏   \u001b[0m| 486/780 [00:59<00:36,  7.95it/s]"
          ]
        },
        {
          "output_type": "stream",
          "name": "stdout",
          "text": [
            "\n",
            "0: 384x640 20 persons, 5 cars, 25 motorcycles, 1 bus, 3 trucks, 1 stop sign, 1 backpack, 22.4ms\n",
            "Speed: 2.5ms preprocess, 22.4ms inference, 1.5ms postprocess per image at shape (1, 3, 384, 640)\n"
          ]
        },
        {
          "output_type": "stream",
          "name": "stderr",
          "text": [
            "\rProcessing frames:  62%|\u001b[32m██████▏   \u001b[0m| 487/780 [01:00<00:37,  7.91it/s]"
          ]
        },
        {
          "output_type": "stream",
          "name": "stdout",
          "text": [
            "\n",
            "0: 384x640 19 persons, 6 cars, 24 motorcycles, 1 bus, 2 trucks, 1 stop sign, 1 backpack, 21.5ms\n",
            "Speed: 2.5ms preprocess, 21.5ms inference, 1.5ms postprocess per image at shape (1, 3, 384, 640)\n"
          ]
        },
        {
          "output_type": "stream",
          "name": "stderr",
          "text": [
            "\rProcessing frames:  63%|\u001b[32m██████▎   \u001b[0m| 488/780 [01:00<00:36,  7.92it/s]"
          ]
        },
        {
          "output_type": "stream",
          "name": "stdout",
          "text": [
            "\n",
            "0: 384x640 19 persons, 4 cars, 24 motorcycles, 1 bus, 4 trucks, 1 stop sign, 1 backpack, 21.4ms\n",
            "Speed: 2.5ms preprocess, 21.4ms inference, 1.5ms postprocess per image at shape (1, 3, 384, 640)\n"
          ]
        },
        {
          "output_type": "stream",
          "name": "stderr",
          "text": [
            "\rProcessing frames:  63%|\u001b[32m██████▎   \u001b[0m| 489/780 [01:00<00:36,  7.92it/s]"
          ]
        },
        {
          "output_type": "stream",
          "name": "stdout",
          "text": [
            "\n",
            "0: 384x640 19 persons, 5 cars, 24 motorcycles, 1 bus, 3 trucks, 1 stop sign, 1 backpack, 21.3ms\n",
            "Speed: 2.7ms preprocess, 21.3ms inference, 1.5ms postprocess per image at shape (1, 3, 384, 640)\n"
          ]
        },
        {
          "output_type": "stream",
          "name": "stderr",
          "text": [
            "\rProcessing frames:  63%|\u001b[32m██████▎   \u001b[0m| 490/780 [01:00<00:36,  7.86it/s]"
          ]
        },
        {
          "output_type": "stream",
          "name": "stdout",
          "text": [
            "\n",
            "0: 384x640 19 persons, 5 cars, 23 motorcycles, 1 bus, 3 trucks, 1 stop sign, 1 backpack, 22.8ms\n",
            "Speed: 2.4ms preprocess, 22.8ms inference, 1.5ms postprocess per image at shape (1, 3, 384, 640)\n"
          ]
        },
        {
          "output_type": "stream",
          "name": "stderr",
          "text": [
            "\rProcessing frames:  63%|\u001b[32m██████▎   \u001b[0m| 491/780 [01:00<00:36,  7.83it/s]"
          ]
        },
        {
          "output_type": "stream",
          "name": "stdout",
          "text": [
            "\n",
            "0: 384x640 19 persons, 6 cars, 23 motorcycles, 1 bus, 4 trucks, 1 stop sign, 1 backpack, 21.4ms\n",
            "Speed: 2.5ms preprocess, 21.4ms inference, 1.5ms postprocess per image at shape (1, 3, 384, 640)\n"
          ]
        },
        {
          "output_type": "stream",
          "name": "stderr",
          "text": [
            "\rProcessing frames:  63%|\u001b[32m██████▎   \u001b[0m| 492/780 [01:00<00:36,  7.87it/s]"
          ]
        },
        {
          "output_type": "stream",
          "name": "stdout",
          "text": [
            "\n",
            "0: 384x640 19 persons, 5 cars, 23 motorcycles, 1 bus, 5 trucks, 1 stop sign, 1 backpack, 21.1ms\n",
            "Speed: 2.7ms preprocess, 21.1ms inference, 1.5ms postprocess per image at shape (1, 3, 384, 640)\n"
          ]
        },
        {
          "output_type": "stream",
          "name": "stderr",
          "text": [
            "\rProcessing frames:  63%|\u001b[32m██████▎   \u001b[0m| 493/780 [01:00<00:36,  7.86it/s]"
          ]
        },
        {
          "output_type": "stream",
          "name": "stdout",
          "text": [
            "\n",
            "0: 384x640 19 persons, 4 cars, 23 motorcycles, 1 bus, 4 trucks, 1 stop sign, 1 backpack, 22.9ms\n",
            "Speed: 3.3ms preprocess, 22.9ms inference, 1.5ms postprocess per image at shape (1, 3, 384, 640)\n"
          ]
        },
        {
          "output_type": "stream",
          "name": "stderr",
          "text": [
            "\rProcessing frames:  63%|\u001b[32m██████▎   \u001b[0m| 494/780 [01:00<00:36,  7.92it/s]"
          ]
        },
        {
          "output_type": "stream",
          "name": "stdout",
          "text": [
            "\n",
            "0: 384x640 19 persons, 6 cars, 23 motorcycles, 1 bus, 3 trucks, 1 stop sign, 1 backpack, 22.4ms\n",
            "Speed: 2.6ms preprocess, 22.4ms inference, 1.4ms postprocess per image at shape (1, 3, 384, 640)\n"
          ]
        },
        {
          "output_type": "stream",
          "name": "stderr",
          "text": [
            "\rProcessing frames:  63%|\u001b[32m██████▎   \u001b[0m| 495/780 [01:01<00:36,  7.91it/s]"
          ]
        },
        {
          "output_type": "stream",
          "name": "stdout",
          "text": [
            "\n",
            "0: 384x640 19 persons, 7 cars, 20 motorcycles, 1 bus, 2 trucks, 1 stop sign, 1 backpack, 21.4ms\n",
            "Speed: 2.5ms preprocess, 21.4ms inference, 1.5ms postprocess per image at shape (1, 3, 384, 640)\n"
          ]
        },
        {
          "output_type": "stream",
          "name": "stderr",
          "text": [
            "\rProcessing frames:  64%|\u001b[32m██████▎   \u001b[0m| 496/780 [01:01<00:35,  7.99it/s]"
          ]
        },
        {
          "output_type": "stream",
          "name": "stdout",
          "text": [
            "\n",
            "0: 384x640 18 persons, 7 cars, 20 motorcycles, 1 bus, 2 trucks, 1 stop sign, 1 backpack, 23.1ms\n",
            "Speed: 2.5ms preprocess, 23.1ms inference, 1.5ms postprocess per image at shape (1, 3, 384, 640)\n"
          ]
        },
        {
          "output_type": "stream",
          "name": "stderr",
          "text": [
            "\rProcessing frames:  64%|\u001b[32m██████▎   \u001b[0m| 497/780 [01:01<00:35,  8.01it/s]"
          ]
        },
        {
          "output_type": "stream",
          "name": "stdout",
          "text": [
            "\n",
            "0: 384x640 17 persons, 6 cars, 20 motorcycles, 1 bus, 3 trucks, 1 stop sign, 1 backpack, 21.5ms\n",
            "Speed: 2.6ms preprocess, 21.5ms inference, 1.5ms postprocess per image at shape (1, 3, 384, 640)\n"
          ]
        },
        {
          "output_type": "stream",
          "name": "stderr",
          "text": [
            "\rProcessing frames:  64%|\u001b[32m██████▍   \u001b[0m| 498/780 [01:01<00:35,  8.01it/s]"
          ]
        },
        {
          "output_type": "stream",
          "name": "stdout",
          "text": [
            "\n",
            "0: 384x640 17 persons, 7 cars, 21 motorcycles, 1 bus, 2 trucks, 1 stop sign, 1 backpack, 21.8ms\n",
            "Speed: 2.5ms preprocess, 21.8ms inference, 1.5ms postprocess per image at shape (1, 3, 384, 640)\n"
          ]
        },
        {
          "output_type": "stream",
          "name": "stderr",
          "text": [
            "\rProcessing frames:  64%|\u001b[32m██████▍   \u001b[0m| 499/780 [01:01<00:34,  8.04it/s]"
          ]
        },
        {
          "output_type": "stream",
          "name": "stdout",
          "text": [
            "\n",
            "0: 384x640 17 persons, 7 cars, 20 motorcycles, 1 bus, 2 trucks, 1 stop sign, 1 backpack, 21.2ms\n",
            "Speed: 2.6ms preprocess, 21.2ms inference, 1.4ms postprocess per image at shape (1, 3, 384, 640)\n"
          ]
        },
        {
          "output_type": "stream",
          "name": "stderr",
          "text": [
            "\rProcessing frames:  64%|\u001b[32m██████▍   \u001b[0m| 500/780 [01:01<00:34,  8.08it/s]"
          ]
        },
        {
          "output_type": "stream",
          "name": "stdout",
          "text": [
            "\n",
            "0: 384x640 17 persons, 6 cars, 19 motorcycles, 1 bus, 2 trucks, 1 stop sign, 1 backpack, 21.4ms\n",
            "Speed: 2.5ms preprocess, 21.4ms inference, 1.4ms postprocess per image at shape (1, 3, 384, 640)\n"
          ]
        },
        {
          "output_type": "stream",
          "name": "stderr",
          "text": [
            "\rProcessing frames:  64%|\u001b[32m██████▍   \u001b[0m| 501/780 [01:01<00:34,  8.13it/s]"
          ]
        },
        {
          "output_type": "stream",
          "name": "stdout",
          "text": [
            "\n",
            "0: 384x640 17 persons, 5 cars, 21 motorcycles, 1 bus, 3 trucks, 1 stop sign, 1 backpack, 21.8ms\n",
            "Speed: 2.5ms preprocess, 21.8ms inference, 1.6ms postprocess per image at shape (1, 3, 384, 640)\n"
          ]
        },
        {
          "output_type": "stream",
          "name": "stderr",
          "text": [
            "\rProcessing frames:  64%|\u001b[32m██████▍   \u001b[0m| 502/780 [01:01<00:34,  8.08it/s]"
          ]
        },
        {
          "output_type": "stream",
          "name": "stdout",
          "text": [
            "\n",
            "0: 384x640 17 persons, 5 cars, 22 motorcycles, 1 bus, 3 trucks, 1 stop sign, 1 backpack, 21.6ms\n",
            "Speed: 2.9ms preprocess, 21.6ms inference, 1.5ms postprocess per image at shape (1, 3, 384, 640)\n"
          ]
        },
        {
          "output_type": "stream",
          "name": "stderr",
          "text": [
            "\rProcessing frames:  64%|\u001b[32m██████▍   \u001b[0m| 503/780 [01:02<00:34,  8.08it/s]"
          ]
        },
        {
          "output_type": "stream",
          "name": "stdout",
          "text": [
            "\n",
            "0: 384x640 18 persons, 6 cars, 21 motorcycles, 1 bus, 3 trucks, 1 stop sign, 1 backpack, 22.3ms\n",
            "Speed: 2.7ms preprocess, 22.3ms inference, 1.5ms postprocess per image at shape (1, 3, 384, 640)\n"
          ]
        },
        {
          "output_type": "stream",
          "name": "stderr",
          "text": [
            "\rProcessing frames:  65%|\u001b[32m██████▍   \u001b[0m| 504/780 [01:02<00:35,  7.79it/s]"
          ]
        },
        {
          "output_type": "stream",
          "name": "stdout",
          "text": [
            "\n",
            "0: 384x640 18 persons, 5 cars, 20 motorcycles, 1 bus, 4 trucks, 1 stop sign, 1 backpack, 23.0ms\n",
            "Speed: 3.8ms preprocess, 23.0ms inference, 1.5ms postprocess per image at shape (1, 3, 384, 640)\n"
          ]
        },
        {
          "output_type": "stream",
          "name": "stderr",
          "text": [
            "\rProcessing frames:  65%|\u001b[32m██████▍   \u001b[0m| 505/780 [01:02<00:35,  7.76it/s]"
          ]
        },
        {
          "output_type": "stream",
          "name": "stdout",
          "text": [
            "\n",
            "0: 384x640 18 persons, 5 cars, 21 motorcycles, 1 bus, 4 trucks, 1 stop sign, 1 backpack, 21.6ms\n",
            "Speed: 2.7ms preprocess, 21.6ms inference, 1.5ms postprocess per image at shape (1, 3, 384, 640)\n"
          ]
        },
        {
          "output_type": "stream",
          "name": "stderr",
          "text": [
            "\rProcessing frames:  65%|\u001b[32m██████▍   \u001b[0m| 506/780 [01:02<00:35,  7.80it/s]"
          ]
        },
        {
          "output_type": "stream",
          "name": "stdout",
          "text": [
            "\n",
            "0: 384x640 19 persons, 5 cars, 22 motorcycles, 1 bus, 5 trucks, 1 stop sign, 1 backpack, 22.1ms\n",
            "Speed: 3.0ms preprocess, 22.1ms inference, 1.5ms postprocess per image at shape (1, 3, 384, 640)\n"
          ]
        },
        {
          "output_type": "stream",
          "name": "stderr",
          "text": [
            "\rProcessing frames:  65%|\u001b[32m██████▌   \u001b[0m| 507/780 [01:02<00:35,  7.79it/s]"
          ]
        },
        {
          "output_type": "stream",
          "name": "stdout",
          "text": [
            "\n",
            "0: 384x640 19 persons, 4 cars, 22 motorcycles, 1 bus, 5 trucks, 1 backpack, 21.3ms\n",
            "Speed: 2.7ms preprocess, 21.3ms inference, 1.5ms postprocess per image at shape (1, 3, 384, 640)\n"
          ]
        },
        {
          "output_type": "stream",
          "name": "stderr",
          "text": [
            "\rProcessing frames:  65%|\u001b[32m██████▌   \u001b[0m| 508/780 [01:02<00:34,  7.81it/s]"
          ]
        },
        {
          "output_type": "stream",
          "name": "stdout",
          "text": [
            "\n",
            "0: 384x640 19 persons, 4 cars, 23 motorcycles, 1 bus, 5 trucks, 1 backpack, 23.4ms\n",
            "Speed: 3.1ms preprocess, 23.4ms inference, 1.6ms postprocess per image at shape (1, 3, 384, 640)\n"
          ]
        },
        {
          "output_type": "stream",
          "name": "stderr",
          "text": [
            "\rProcessing frames:  65%|\u001b[32m██████▌   \u001b[0m| 509/780 [01:02<00:34,  7.75it/s]"
          ]
        },
        {
          "output_type": "stream",
          "name": "stdout",
          "text": [
            "\n",
            "0: 384x640 19 persons, 4 cars, 23 motorcycles, 1 bus, 5 trucks, 1 backpack, 22.1ms\n",
            "Speed: 2.9ms preprocess, 22.1ms inference, 1.5ms postprocess per image at shape (1, 3, 384, 640)\n"
          ]
        },
        {
          "output_type": "stream",
          "name": "stderr",
          "text": [
            "\rProcessing frames:  65%|\u001b[32m██████▌   \u001b[0m| 510/780 [01:02<00:34,  7.78it/s]"
          ]
        },
        {
          "output_type": "stream",
          "name": "stdout",
          "text": [
            "\n",
            "0: 384x640 20 persons, 5 cars, 24 motorcycles, 1 bus, 5 trucks, 1 backpack, 22.1ms\n",
            "Speed: 3.0ms preprocess, 22.1ms inference, 1.5ms postprocess per image at shape (1, 3, 384, 640)\n"
          ]
        },
        {
          "output_type": "stream",
          "name": "stderr",
          "text": [
            "\rProcessing frames:  66%|\u001b[32m██████▌   \u001b[0m| 511/780 [01:03<00:34,  7.78it/s]"
          ]
        },
        {
          "output_type": "stream",
          "name": "stdout",
          "text": [
            "\n",
            "0: 384x640 20 persons, 6 cars, 22 motorcycles, 1 bus, 4 trucks, 1 backpack, 22.0ms\n",
            "Speed: 2.6ms preprocess, 22.0ms inference, 1.5ms postprocess per image at shape (1, 3, 384, 640)\n"
          ]
        },
        {
          "output_type": "stream",
          "name": "stderr",
          "text": [
            "\rProcessing frames:  66%|\u001b[32m██████▌   \u001b[0m| 512/780 [01:03<00:34,  7.72it/s]"
          ]
        },
        {
          "output_type": "stream",
          "name": "stdout",
          "text": [
            "\n",
            "0: 384x640 20 persons, 6 cars, 23 motorcycles, 1 bus, 4 trucks, 1 backpack, 22.2ms\n",
            "Speed: 2.5ms preprocess, 22.2ms inference, 1.5ms postprocess per image at shape (1, 3, 384, 640)\n"
          ]
        },
        {
          "output_type": "stream",
          "name": "stderr",
          "text": [
            "\rProcessing frames:  66%|\u001b[32m██████▌   \u001b[0m| 513/780 [01:03<00:34,  7.72it/s]"
          ]
        },
        {
          "output_type": "stream",
          "name": "stdout",
          "text": [
            "\n",
            "0: 384x640 20 persons, 6 cars, 24 motorcycles, 1 bus, 4 trucks, 1 backpack, 21.2ms\n",
            "Speed: 2.5ms preprocess, 21.2ms inference, 1.4ms postprocess per image at shape (1, 3, 384, 640)\n"
          ]
        },
        {
          "output_type": "stream",
          "name": "stderr",
          "text": [
            "\rProcessing frames:  66%|\u001b[32m██████▌   \u001b[0m| 514/780 [01:03<00:34,  7.75it/s]"
          ]
        },
        {
          "output_type": "stream",
          "name": "stdout",
          "text": [
            "\n",
            "0: 384x640 20 persons, 6 cars, 24 motorcycles, 1 bus, 4 trucks, 1 backpack, 21.9ms\n",
            "Speed: 2.6ms preprocess, 21.9ms inference, 1.5ms postprocess per image at shape (1, 3, 384, 640)\n"
          ]
        },
        {
          "output_type": "stream",
          "name": "stderr",
          "text": [
            "\rProcessing frames:  66%|\u001b[32m██████▌   \u001b[0m| 515/780 [01:03<00:33,  7.82it/s]"
          ]
        },
        {
          "output_type": "stream",
          "name": "stdout",
          "text": [
            "\n",
            "0: 384x640 20 persons, 6 cars, 23 motorcycles, 1 bus, 4 trucks, 1 backpack, 23.4ms\n",
            "Speed: 2.4ms preprocess, 23.4ms inference, 1.5ms postprocess per image at shape (1, 3, 384, 640)\n"
          ]
        },
        {
          "output_type": "stream",
          "name": "stderr",
          "text": [
            "\rProcessing frames:  66%|\u001b[32m██████▌   \u001b[0m| 516/780 [01:03<00:33,  7.88it/s]"
          ]
        },
        {
          "output_type": "stream",
          "name": "stdout",
          "text": [
            "\n",
            "0: 384x640 20 persons, 5 cars, 23 motorcycles, 1 bus, 4 trucks, 1 backpack, 21.0ms\n",
            "Speed: 2.6ms preprocess, 21.0ms inference, 1.4ms postprocess per image at shape (1, 3, 384, 640)\n"
          ]
        },
        {
          "output_type": "stream",
          "name": "stderr",
          "text": [
            "\rProcessing frames:  66%|\u001b[32m██████▋   \u001b[0m| 517/780 [01:03<00:33,  7.95it/s]"
          ]
        },
        {
          "output_type": "stream",
          "name": "stdout",
          "text": [
            "\n",
            "0: 384x640 19 persons, 6 cars, 23 motorcycles, 1 bus, 3 trucks, 1 backpack, 21.5ms\n",
            "Speed: 3.7ms preprocess, 21.5ms inference, 1.5ms postprocess per image at shape (1, 3, 384, 640)\n"
          ]
        },
        {
          "output_type": "stream",
          "name": "stderr",
          "text": [
            "\rProcessing frames:  66%|\u001b[32m██████▋   \u001b[0m| 518/780 [01:03<00:32,  7.98it/s]"
          ]
        },
        {
          "output_type": "stream",
          "name": "stdout",
          "text": [
            "\n",
            "0: 384x640 19 persons, 6 cars, 23 motorcycles, 1 bus, 3 trucks, 1 backpack, 20.7ms\n",
            "Speed: 2.5ms preprocess, 20.7ms inference, 1.5ms postprocess per image at shape (1, 3, 384, 640)\n"
          ]
        },
        {
          "output_type": "stream",
          "name": "stderr",
          "text": [
            "\rProcessing frames:  67%|\u001b[32m██████▋   \u001b[0m| 519/780 [01:04<00:32,  8.06it/s]"
          ]
        },
        {
          "output_type": "stream",
          "name": "stdout",
          "text": [
            "\n",
            "0: 384x640 19 persons, 7 cars, 24 motorcycles, 1 bus, 2 trucks, 1 backpack, 21.0ms\n",
            "Speed: 3.1ms preprocess, 21.0ms inference, 1.4ms postprocess per image at shape (1, 3, 384, 640)\n"
          ]
        },
        {
          "output_type": "stream",
          "name": "stderr",
          "text": [
            "\rProcessing frames:  67%|\u001b[32m██████▋   \u001b[0m| 520/780 [01:04<00:32,  8.01it/s]"
          ]
        },
        {
          "output_type": "stream",
          "name": "stdout",
          "text": [
            "\n",
            "0: 384x640 19 persons, 7 cars, 24 motorcycles, 1 bus, 2 trucks, 1 backpack, 21.7ms\n",
            "Speed: 2.8ms preprocess, 21.7ms inference, 1.5ms postprocess per image at shape (1, 3, 384, 640)\n"
          ]
        },
        {
          "output_type": "stream",
          "name": "stderr",
          "text": [
            "\rProcessing frames:  67%|\u001b[32m██████▋   \u001b[0m| 521/780 [01:04<00:32,  7.98it/s]"
          ]
        },
        {
          "output_type": "stream",
          "name": "stdout",
          "text": [
            "\n",
            "0: 384x640 19 persons, 7 cars, 24 motorcycles, 1 bus, 2 trucks, 1 backpack, 21.1ms\n",
            "Speed: 2.4ms preprocess, 21.1ms inference, 1.5ms postprocess per image at shape (1, 3, 384, 640)\n"
          ]
        },
        {
          "output_type": "stream",
          "name": "stderr",
          "text": [
            "\rProcessing frames:  67%|\u001b[32m██████▋   \u001b[0m| 522/780 [01:04<00:32,  8.03it/s]"
          ]
        },
        {
          "output_type": "stream",
          "name": "stdout",
          "text": [
            "\n",
            "0: 384x640 19 persons, 7 cars, 24 motorcycles, 1 bus, 2 trucks, 1 backpack, 21.5ms\n",
            "Speed: 2.5ms preprocess, 21.5ms inference, 1.4ms postprocess per image at shape (1, 3, 384, 640)\n"
          ]
        },
        {
          "output_type": "stream",
          "name": "stderr",
          "text": [
            "\rProcessing frames:  67%|\u001b[32m██████▋   \u001b[0m| 523/780 [01:04<00:32,  8.02it/s]"
          ]
        },
        {
          "output_type": "stream",
          "name": "stdout",
          "text": [
            "\n",
            "0: 384x640 19 persons, 7 cars, 24 motorcycles, 1 bus, 2 trucks, 1 backpack, 22.8ms\n",
            "Speed: 2.5ms preprocess, 22.8ms inference, 1.4ms postprocess per image at shape (1, 3, 384, 640)\n"
          ]
        },
        {
          "output_type": "stream",
          "name": "stderr",
          "text": [
            "\rProcessing frames:  67%|\u001b[32m██████▋   \u001b[0m| 524/780 [01:04<00:31,  8.00it/s]"
          ]
        },
        {
          "output_type": "stream",
          "name": "stdout",
          "text": [
            "\n",
            "0: 384x640 19 persons, 7 cars, 24 motorcycles, 1 bus, 2 trucks, 1 backpack, 21.4ms\n",
            "Speed: 2.6ms preprocess, 21.4ms inference, 1.4ms postprocess per image at shape (1, 3, 384, 640)\n"
          ]
        },
        {
          "output_type": "stream",
          "name": "stderr",
          "text": [
            "\rProcessing frames:  67%|\u001b[32m██████▋   \u001b[0m| 525/780 [01:04<00:31,  8.04it/s]"
          ]
        },
        {
          "output_type": "stream",
          "name": "stdout",
          "text": [
            "\n",
            "0: 384x640 19 persons, 7 cars, 23 motorcycles, 1 bus, 2 trucks, 1 backpack, 21.1ms\n",
            "Speed: 2.5ms preprocess, 21.1ms inference, 1.5ms postprocess per image at shape (1, 3, 384, 640)\n"
          ]
        },
        {
          "output_type": "stream",
          "name": "stderr",
          "text": [
            "\rProcessing frames:  67%|\u001b[32m██████▋   \u001b[0m| 526/780 [01:04<00:31,  8.08it/s]"
          ]
        },
        {
          "output_type": "stream",
          "name": "stdout",
          "text": [
            "\n",
            "0: 384x640 19 persons, 7 cars, 23 motorcycles, 1 bus, 3 trucks, 1 backpack, 21.8ms\n",
            "Speed: 2.5ms preprocess, 21.8ms inference, 1.5ms postprocess per image at shape (1, 3, 384, 640)\n"
          ]
        },
        {
          "output_type": "stream",
          "name": "stderr",
          "text": [
            "\rProcessing frames:  68%|\u001b[32m██████▊   \u001b[0m| 527/780 [01:05<00:31,  8.08it/s]"
          ]
        },
        {
          "output_type": "stream",
          "name": "stdout",
          "text": [
            "\n",
            "0: 384x640 19 persons, 6 cars, 23 motorcycles, 1 bus, 2 trucks, 1 backpack, 21.3ms\n",
            "Speed: 2.5ms preprocess, 21.3ms inference, 1.4ms postprocess per image at shape (1, 3, 384, 640)\n"
          ]
        },
        {
          "output_type": "stream",
          "name": "stderr",
          "text": [
            "\rProcessing frames:  68%|\u001b[32m██████▊   \u001b[0m| 528/780 [01:05<00:31,  8.12it/s]"
          ]
        },
        {
          "output_type": "stream",
          "name": "stdout",
          "text": [
            "\n",
            "0: 384x640 18 persons, 6 cars, 23 motorcycles, 1 bus, 2 trucks, 1 backpack, 21.6ms\n",
            "Speed: 2.6ms preprocess, 21.6ms inference, 1.5ms postprocess per image at shape (1, 3, 384, 640)\n"
          ]
        },
        {
          "output_type": "stream",
          "name": "stderr",
          "text": [
            "\rProcessing frames:  68%|\u001b[32m██████▊   \u001b[0m| 529/780 [01:05<00:31,  8.06it/s]"
          ]
        },
        {
          "output_type": "stream",
          "name": "stdout",
          "text": [
            "\n",
            "0: 384x640 18 persons, 6 cars, 25 motorcycles, 1 bus, 2 trucks, 1 backpack, 21.2ms\n",
            "Speed: 2.5ms preprocess, 21.2ms inference, 1.5ms postprocess per image at shape (1, 3, 384, 640)\n"
          ]
        },
        {
          "output_type": "stream",
          "name": "stderr",
          "text": [
            "\rProcessing frames:  68%|\u001b[32m██████▊   \u001b[0m| 530/780 [01:05<00:30,  8.09it/s]"
          ]
        },
        {
          "output_type": "stream",
          "name": "stdout",
          "text": [
            "\n",
            "0: 384x640 18 persons, 6 cars, 27 motorcycles, 1 bus, 2 trucks, 1 backpack, 21.5ms\n",
            "Speed: 2.5ms preprocess, 21.5ms inference, 1.4ms postprocess per image at shape (1, 3, 384, 640)\n"
          ]
        },
        {
          "output_type": "stream",
          "name": "stderr",
          "text": [
            "\rProcessing frames:  68%|\u001b[32m██████▊   \u001b[0m| 531/780 [01:05<00:30,  8.09it/s]"
          ]
        },
        {
          "output_type": "stream",
          "name": "stdout",
          "text": [
            "\n",
            "0: 384x640 18 persons, 5 cars, 26 motorcycles, 1 bus, 4 trucks, 1 backpack, 21.1ms\n",
            "Speed: 2.5ms preprocess, 21.1ms inference, 1.5ms postprocess per image at shape (1, 3, 384, 640)\n"
          ]
        },
        {
          "output_type": "stream",
          "name": "stderr",
          "text": [
            "\rProcessing frames:  68%|\u001b[32m██████▊   \u001b[0m| 532/780 [01:05<00:30,  8.06it/s]"
          ]
        },
        {
          "output_type": "stream",
          "name": "stdout",
          "text": [
            "\n",
            "0: 384x640 18 persons, 5 cars, 25 motorcycles, 1 bus, 4 trucks, 1 backpack, 22.3ms\n",
            "Speed: 3.7ms preprocess, 22.3ms inference, 1.4ms postprocess per image at shape (1, 3, 384, 640)\n"
          ]
        },
        {
          "output_type": "stream",
          "name": "stderr",
          "text": [
            "\rProcessing frames:  68%|\u001b[32m██████▊   \u001b[0m| 533/780 [01:05<00:30,  8.04it/s]"
          ]
        },
        {
          "output_type": "stream",
          "name": "stdout",
          "text": [
            "\n",
            "0: 384x640 18 persons, 5 cars, 25 motorcycles, 1 bus, 4 trucks, 1 backpack, 21.4ms\n",
            "Speed: 2.4ms preprocess, 21.4ms inference, 1.4ms postprocess per image at shape (1, 3, 384, 640)\n"
          ]
        },
        {
          "output_type": "stream",
          "name": "stderr",
          "text": [
            "\rProcessing frames:  68%|\u001b[32m██████▊   \u001b[0m| 534/780 [01:05<00:30,  8.06it/s]"
          ]
        },
        {
          "output_type": "stream",
          "name": "stdout",
          "text": [
            "\n",
            "0: 384x640 18 persons, 5 cars, 24 motorcycles, 1 bus, 4 trucks, 1 backpack, 21.2ms\n",
            "Speed: 3.7ms preprocess, 21.2ms inference, 1.5ms postprocess per image at shape (1, 3, 384, 640)\n"
          ]
        },
        {
          "output_type": "stream",
          "name": "stderr",
          "text": [
            "\rProcessing frames:  69%|\u001b[32m██████▊   \u001b[0m| 535/780 [01:06<00:30,  8.03it/s]"
          ]
        },
        {
          "output_type": "stream",
          "name": "stdout",
          "text": [
            "\n",
            "0: 384x640 19 persons, 5 cars, 24 motorcycles, 1 bus, 4 trucks, 1 backpack, 21.4ms\n",
            "Speed: 2.5ms preprocess, 21.4ms inference, 1.4ms postprocess per image at shape (1, 3, 384, 640)\n"
          ]
        },
        {
          "output_type": "stream",
          "name": "stderr",
          "text": [
            "\rProcessing frames:  69%|\u001b[32m██████▊   \u001b[0m| 536/780 [01:06<00:30,  8.06it/s]"
          ]
        },
        {
          "output_type": "stream",
          "name": "stdout",
          "text": [
            "\n",
            "0: 384x640 19 persons, 5 cars, 24 motorcycles, 1 bus, 4 trucks, 1 backpack, 22.5ms\n",
            "Speed: 2.5ms preprocess, 22.5ms inference, 1.5ms postprocess per image at shape (1, 3, 384, 640)\n"
          ]
        },
        {
          "output_type": "stream",
          "name": "stderr",
          "text": [
            "\rProcessing frames:  69%|\u001b[32m██████▉   \u001b[0m| 537/780 [01:06<00:30,  8.04it/s]"
          ]
        },
        {
          "output_type": "stream",
          "name": "stdout",
          "text": [
            "\n",
            "0: 384x640 19 persons, 5 cars, 24 motorcycles, 1 bus, 4 trucks, 1 backpack, 21.4ms\n",
            "Speed: 2.6ms preprocess, 21.4ms inference, 1.5ms postprocess per image at shape (1, 3, 384, 640)\n"
          ]
        },
        {
          "output_type": "stream",
          "name": "stderr",
          "text": [
            "\rProcessing frames:  69%|\u001b[32m██████▉   \u001b[0m| 538/780 [01:06<00:30,  7.97it/s]"
          ]
        },
        {
          "output_type": "stream",
          "name": "stdout",
          "text": [
            "\n",
            "0: 384x640 18 persons, 5 cars, 24 motorcycles, 1 bus, 4 trucks, 1 backpack, 22.0ms\n",
            "Speed: 2.5ms preprocess, 22.0ms inference, 1.4ms postprocess per image at shape (1, 3, 384, 640)\n"
          ]
        },
        {
          "output_type": "stream",
          "name": "stderr",
          "text": [
            "\rProcessing frames:  69%|\u001b[32m██████▉   \u001b[0m| 539/780 [01:06<00:30,  8.01it/s]"
          ]
        },
        {
          "output_type": "stream",
          "name": "stdout",
          "text": [
            "\n",
            "0: 384x640 18 persons, 6 cars, 24 motorcycles, 1 bus, 3 trucks, 1 backpack, 21.2ms\n",
            "Speed: 2.5ms preprocess, 21.2ms inference, 1.5ms postprocess per image at shape (1, 3, 384, 640)\n"
          ]
        },
        {
          "output_type": "stream",
          "name": "stderr",
          "text": [
            "\rProcessing frames:  69%|\u001b[32m██████▉   \u001b[0m| 540/780 [01:06<00:29,  8.07it/s]"
          ]
        },
        {
          "output_type": "stream",
          "name": "stdout",
          "text": [
            "\n",
            "0: 384x640 18 persons, 6 cars, 24 motorcycles, 1 bus, 3 trucks, 1 backpack, 21.5ms\n",
            "Speed: 2.5ms preprocess, 21.5ms inference, 1.5ms postprocess per image at shape (1, 3, 384, 640)\n"
          ]
        },
        {
          "output_type": "stream",
          "name": "stderr",
          "text": [
            "\rProcessing frames:  69%|\u001b[32m██████▉   \u001b[0m| 541/780 [01:06<00:29,  8.09it/s]"
          ]
        },
        {
          "output_type": "stream",
          "name": "stdout",
          "text": [
            "\n",
            "0: 384x640 18 persons, 6 cars, 25 motorcycles, 1 bus, 3 trucks, 1 backpack, 21.3ms\n",
            "Speed: 2.8ms preprocess, 21.3ms inference, 1.4ms postprocess per image at shape (1, 3, 384, 640)\n"
          ]
        },
        {
          "output_type": "stream",
          "name": "stderr",
          "text": [
            "\rProcessing frames:  69%|\u001b[32m██████▉   \u001b[0m| 542/780 [01:06<00:29,  8.10it/s]"
          ]
        },
        {
          "output_type": "stream",
          "name": "stdout",
          "text": [
            "\n",
            "0: 384x640 18 persons, 6 cars, 25 motorcycles, 1 bus, 3 trucks, 1 backpack, 21.2ms\n",
            "Speed: 2.5ms preprocess, 21.2ms inference, 1.4ms postprocess per image at shape (1, 3, 384, 640)\n"
          ]
        },
        {
          "output_type": "stream",
          "name": "stderr",
          "text": [
            "\rProcessing frames:  70%|\u001b[32m██████▉   \u001b[0m| 543/780 [01:07<00:29,  8.14it/s]"
          ]
        },
        {
          "output_type": "stream",
          "name": "stdout",
          "text": [
            "\n",
            "0: 384x640 18 persons, 6 cars, 25 motorcycles, 1 bus, 3 trucks, 1 backpack, 20.8ms\n",
            "Speed: 2.7ms preprocess, 20.8ms inference, 1.4ms postprocess per image at shape (1, 3, 384, 640)\n"
          ]
        },
        {
          "output_type": "stream",
          "name": "stderr",
          "text": [
            "\rProcessing frames:  70%|\u001b[32m██████▉   \u001b[0m| 544/780 [01:07<00:28,  8.16it/s]"
          ]
        },
        {
          "output_type": "stream",
          "name": "stdout",
          "text": [
            "\n",
            "0: 384x640 18 persons, 6 cars, 23 motorcycles, 1 bus, 3 trucks, 1 backpack, 22.5ms\n",
            "Speed: 2.5ms preprocess, 22.5ms inference, 1.5ms postprocess per image at shape (1, 3, 384, 640)\n"
          ]
        },
        {
          "output_type": "stream",
          "name": "stderr",
          "text": [
            "\rProcessing frames:  70%|\u001b[32m██████▉   \u001b[0m| 545/780 [01:07<00:29,  8.10it/s]"
          ]
        },
        {
          "output_type": "stream",
          "name": "stdout",
          "text": [
            "\n",
            "0: 384x640 18 persons, 5 cars, 22 motorcycles, 1 bus, 2 trucks, 1 backpack, 21.4ms\n",
            "Speed: 2.7ms preprocess, 21.4ms inference, 1.4ms postprocess per image at shape (1, 3, 384, 640)\n"
          ]
        },
        {
          "output_type": "stream",
          "name": "stderr",
          "text": [
            "\rProcessing frames:  70%|\u001b[32m███████   \u001b[0m| 546/780 [01:07<00:28,  8.17it/s]"
          ]
        },
        {
          "output_type": "stream",
          "name": "stdout",
          "text": [
            "\n",
            "0: 384x640 18 persons, 6 cars, 22 motorcycles, 1 bus, 2 trucks, 1 backpack, 21.0ms\n",
            "Speed: 2.5ms preprocess, 21.0ms inference, 1.5ms postprocess per image at shape (1, 3, 384, 640)\n"
          ]
        },
        {
          "output_type": "stream",
          "name": "stderr",
          "text": [
            "\rProcessing frames:  70%|\u001b[32m███████   \u001b[0m| 547/780 [01:07<00:28,  8.15it/s]"
          ]
        },
        {
          "output_type": "stream",
          "name": "stdout",
          "text": [
            "\n",
            "0: 384x640 18 persons, 6 cars, 21 motorcycles, 1 bus, 2 trucks, 1 backpack, 21.1ms\n",
            "Speed: 2.5ms preprocess, 21.1ms inference, 1.4ms postprocess per image at shape (1, 3, 384, 640)\n"
          ]
        },
        {
          "output_type": "stream",
          "name": "stderr",
          "text": [
            "\rProcessing frames:  70%|\u001b[32m███████   \u001b[0m| 548/780 [01:07<00:28,  8.15it/s]"
          ]
        },
        {
          "output_type": "stream",
          "name": "stdout",
          "text": [
            "\n",
            "0: 384x640 18 persons, 6 cars, 21 motorcycles, 1 bus, 3 trucks, 1 backpack, 22.4ms\n",
            "Speed: 3.7ms preprocess, 22.4ms inference, 1.4ms postprocess per image at shape (1, 3, 384, 640)\n"
          ]
        },
        {
          "output_type": "stream",
          "name": "stderr",
          "text": [
            "\rProcessing frames:  70%|\u001b[32m███████   \u001b[0m| 549/780 [01:07<00:28,  8.17it/s]"
          ]
        },
        {
          "output_type": "stream",
          "name": "stdout",
          "text": [
            "\n",
            "0: 384x640 18 persons, 6 cars, 21 motorcycles, 1 bus, 3 trucks, 1 backpack, 21.0ms\n",
            "Speed: 2.6ms preprocess, 21.0ms inference, 1.4ms postprocess per image at shape (1, 3, 384, 640)\n"
          ]
        },
        {
          "output_type": "stream",
          "name": "stderr",
          "text": [
            "\rProcessing frames:  71%|\u001b[32m███████   \u001b[0m| 550/780 [01:07<00:28,  8.20it/s]"
          ]
        },
        {
          "output_type": "stream",
          "name": "stdout",
          "text": [
            "\n",
            "0: 384x640 18 persons, 7 cars, 21 motorcycles, 1 bus, 2 trucks, 1 backpack, 20.7ms\n",
            "Speed: 2.5ms preprocess, 20.7ms inference, 1.4ms postprocess per image at shape (1, 3, 384, 640)\n"
          ]
        },
        {
          "output_type": "stream",
          "name": "stderr",
          "text": [
            "\rProcessing frames:  71%|\u001b[32m███████   \u001b[0m| 551/780 [01:08<00:27,  8.31it/s]"
          ]
        },
        {
          "output_type": "stream",
          "name": "stdout",
          "text": [
            "\n",
            "0: 384x640 18 persons, 7 cars, 22 motorcycles, 1 bus, 2 trucks, 1 backpack, 21.8ms\n",
            "Speed: 2.8ms preprocess, 21.8ms inference, 1.4ms postprocess per image at shape (1, 3, 384, 640)\n"
          ]
        },
        {
          "output_type": "stream",
          "name": "stderr",
          "text": [
            "\rProcessing frames:  71%|\u001b[32m███████   \u001b[0m| 552/780 [01:08<00:27,  8.32it/s]"
          ]
        },
        {
          "output_type": "stream",
          "name": "stdout",
          "text": [
            "\n",
            "0: 384x640 18 persons, 7 cars, 22 motorcycles, 1 bus, 2 trucks, 1 backpack, 22.6ms\n",
            "Speed: 3.7ms preprocess, 22.6ms inference, 1.5ms postprocess per image at shape (1, 3, 384, 640)\n"
          ]
        },
        {
          "output_type": "stream",
          "name": "stderr",
          "text": [
            "\rProcessing frames:  71%|\u001b[32m███████   \u001b[0m| 553/780 [01:08<00:27,  8.18it/s]"
          ]
        },
        {
          "output_type": "stream",
          "name": "stdout",
          "text": [
            "\n",
            "0: 384x640 18 persons, 7 cars, 22 motorcycles, 1 bus, 2 trucks, 1 backpack, 23.6ms\n",
            "Speed: 2.6ms preprocess, 23.6ms inference, 1.5ms postprocess per image at shape (1, 3, 384, 640)\n"
          ]
        },
        {
          "output_type": "stream",
          "name": "stderr",
          "text": [
            "\rProcessing frames:  71%|\u001b[32m███████   \u001b[0m| 554/780 [01:08<00:27,  8.20it/s]"
          ]
        },
        {
          "output_type": "stream",
          "name": "stdout",
          "text": [
            "\n",
            "0: 384x640 18 persons, 6 cars, 22 motorcycles, 1 bus, 3 trucks, 1 backpack, 21.0ms\n",
            "Speed: 3.6ms preprocess, 21.0ms inference, 1.5ms postprocess per image at shape (1, 3, 384, 640)\n"
          ]
        },
        {
          "output_type": "stream",
          "name": "stderr",
          "text": [
            "\rProcessing frames:  71%|\u001b[32m███████   \u001b[0m| 555/780 [01:08<00:27,  8.23it/s]"
          ]
        },
        {
          "output_type": "stream",
          "name": "stdout",
          "text": [
            "\n",
            "0: 384x640 18 persons, 7 cars, 22 motorcycles, 1 bus, 2 trucks, 1 backpack, 21.2ms\n",
            "Speed: 2.9ms preprocess, 21.2ms inference, 1.5ms postprocess per image at shape (1, 3, 384, 640)\n"
          ]
        },
        {
          "output_type": "stream",
          "name": "stderr",
          "text": [
            "\rProcessing frames:  71%|\u001b[32m███████▏  \u001b[0m| 556/780 [01:08<00:27,  8.24it/s]"
          ]
        },
        {
          "output_type": "stream",
          "name": "stdout",
          "text": [
            "\n",
            "0: 384x640 18 persons, 7 cars, 22 motorcycles, 1 bus, 2 trucks, 1 backpack, 23.0ms\n",
            "Speed: 2.5ms preprocess, 23.0ms inference, 1.5ms postprocess per image at shape (1, 3, 384, 640)\n"
          ]
        },
        {
          "output_type": "stream",
          "name": "stderr",
          "text": [
            "\rProcessing frames:  71%|\u001b[32m███████▏  \u001b[0m| 557/780 [01:08<00:27,  8.19it/s]"
          ]
        },
        {
          "output_type": "stream",
          "name": "stdout",
          "text": [
            "\n",
            "0: 384x640 18 persons, 6 cars, 22 motorcycles, 1 bus, 2 trucks, 1 backpack, 21.3ms\n",
            "Speed: 2.6ms preprocess, 21.3ms inference, 1.5ms postprocess per image at shape (1, 3, 384, 640)\n"
          ]
        },
        {
          "output_type": "stream",
          "name": "stderr",
          "text": [
            "\rProcessing frames:  72%|\u001b[32m███████▏  \u001b[0m| 558/780 [01:08<00:26,  8.27it/s]"
          ]
        },
        {
          "output_type": "stream",
          "name": "stdout",
          "text": [
            "\n",
            "0: 384x640 18 persons, 5 cars, 22 motorcycles, 1 bus, 3 trucks, 1 backpack, 21.2ms\n",
            "Speed: 2.6ms preprocess, 21.2ms inference, 1.6ms postprocess per image at shape (1, 3, 384, 640)\n"
          ]
        },
        {
          "output_type": "stream",
          "name": "stderr",
          "text": [
            "\rProcessing frames:  72%|\u001b[32m███████▏  \u001b[0m| 559/780 [01:08<00:26,  8.31it/s]"
          ]
        },
        {
          "output_type": "stream",
          "name": "stdout",
          "text": [
            "\n",
            "0: 384x640 18 persons, 5 cars, 22 motorcycles, 1 bus, 3 trucks, 1 backpack, 21.9ms\n",
            "Speed: 2.7ms preprocess, 21.9ms inference, 1.4ms postprocess per image at shape (1, 3, 384, 640)\n"
          ]
        },
        {
          "output_type": "stream",
          "name": "stderr",
          "text": [
            "\rProcessing frames:  72%|\u001b[32m███████▏  \u001b[0m| 560/780 [01:09<00:26,  8.33it/s]"
          ]
        },
        {
          "output_type": "stream",
          "name": "stdout",
          "text": [
            "\n",
            "0: 384x640 18 persons, 4 cars, 23 motorcycles, 1 bus, 2 trucks, 1 backpack, 22.1ms\n",
            "Speed: 3.8ms preprocess, 22.1ms inference, 1.6ms postprocess per image at shape (1, 3, 384, 640)\n"
          ]
        },
        {
          "output_type": "stream",
          "name": "stderr",
          "text": [
            "\rProcessing frames:  72%|\u001b[32m███████▏  \u001b[0m| 561/780 [01:09<00:26,  8.34it/s]"
          ]
        },
        {
          "output_type": "stream",
          "name": "stdout",
          "text": [
            "\n",
            "0: 384x640 19 persons, 4 cars, 23 motorcycles, 1 bus, 3 trucks, 1 backpack, 22.7ms\n",
            "Speed: 2.6ms preprocess, 22.7ms inference, 1.5ms postprocess per image at shape (1, 3, 384, 640)\n"
          ]
        },
        {
          "output_type": "stream",
          "name": "stderr",
          "text": [
            "\rProcessing frames:  72%|\u001b[32m███████▏  \u001b[0m| 562/780 [01:09<00:26,  8.16it/s]"
          ]
        },
        {
          "output_type": "stream",
          "name": "stdout",
          "text": [
            "\n",
            "0: 384x640 19 persons, 4 cars, 21 motorcycles, 1 bus, 3 trucks, 1 backpack, 20.8ms\n",
            "Speed: 2.4ms preprocess, 20.8ms inference, 1.5ms postprocess per image at shape (1, 3, 384, 640)\n"
          ]
        },
        {
          "output_type": "stream",
          "name": "stderr",
          "text": [
            "\rProcessing frames:  72%|\u001b[32m███████▏  \u001b[0m| 563/780 [01:09<00:26,  8.26it/s]"
          ]
        },
        {
          "output_type": "stream",
          "name": "stdout",
          "text": [
            "\n",
            "0: 384x640 20 persons, 4 cars, 21 motorcycles, 1 bus, 4 trucks, 1 backpack, 21.3ms\n",
            "Speed: 3.6ms preprocess, 21.3ms inference, 1.4ms postprocess per image at shape (1, 3, 384, 640)\n"
          ]
        },
        {
          "output_type": "stream",
          "name": "stderr",
          "text": [
            "\rProcessing frames:  72%|\u001b[32m███████▏  \u001b[0m| 564/780 [01:09<00:26,  8.26it/s]"
          ]
        },
        {
          "output_type": "stream",
          "name": "stdout",
          "text": [
            "\n",
            "0: 384x640 20 persons, 4 cars, 22 motorcycles, 1 bus, 4 trucks, 1 backpack, 22.3ms\n",
            "Speed: 3.7ms preprocess, 22.3ms inference, 1.5ms postprocess per image at shape (1, 3, 384, 640)\n"
          ]
        },
        {
          "output_type": "stream",
          "name": "stderr",
          "text": [
            "\rProcessing frames:  72%|\u001b[32m███████▏  \u001b[0m| 565/780 [01:09<00:26,  8.15it/s]"
          ]
        },
        {
          "output_type": "stream",
          "name": "stdout",
          "text": [
            "\n",
            "0: 384x640 20 persons, 4 cars, 22 motorcycles, 1 bus, 4 trucks, 1 backpack, 21.6ms\n",
            "Speed: 3.7ms preprocess, 21.6ms inference, 1.4ms postprocess per image at shape (1, 3, 384, 640)\n"
          ]
        },
        {
          "output_type": "stream",
          "name": "stderr",
          "text": [
            "\rProcessing frames:  73%|\u001b[32m███████▎  \u001b[0m| 566/780 [01:09<00:26,  8.19it/s]"
          ]
        },
        {
          "output_type": "stream",
          "name": "stdout",
          "text": [
            "\n",
            "0: 384x640 20 persons, 4 cars, 23 motorcycles, 1 bus, 3 trucks, 1 backpack, 21.5ms\n",
            "Speed: 2.4ms preprocess, 21.5ms inference, 1.5ms postprocess per image at shape (1, 3, 384, 640)\n"
          ]
        },
        {
          "output_type": "stream",
          "name": "stderr",
          "text": [
            "\rProcessing frames:  73%|\u001b[32m███████▎  \u001b[0m| 567/780 [01:09<00:25,  8.25it/s]"
          ]
        },
        {
          "output_type": "stream",
          "name": "stdout",
          "text": [
            "\n",
            "0: 384x640 20 persons, 4 cars, 24 motorcycles, 1 bus, 4 trucks, 1 backpack, 20.5ms\n",
            "Speed: 2.5ms preprocess, 20.5ms inference, 1.4ms postprocess per image at shape (1, 3, 384, 640)\n"
          ]
        },
        {
          "output_type": "stream",
          "name": "stderr",
          "text": [
            "\rProcessing frames:  73%|\u001b[32m███████▎  \u001b[0m| 568/780 [01:10<00:25,  8.29it/s]"
          ]
        },
        {
          "output_type": "stream",
          "name": "stdout",
          "text": [
            "\n",
            "0: 384x640 20 persons, 5 cars, 24 motorcycles, 1 bus, 3 trucks, 1 backpack, 20.6ms\n",
            "Speed: 2.5ms preprocess, 20.6ms inference, 1.4ms postprocess per image at shape (1, 3, 384, 640)\n"
          ]
        },
        {
          "output_type": "stream",
          "name": "stderr",
          "text": [
            "\rProcessing frames:  73%|\u001b[32m███████▎  \u001b[0m| 569/780 [01:10<00:25,  8.30it/s]"
          ]
        },
        {
          "output_type": "stream",
          "name": "stdout",
          "text": [
            "\n",
            "0: 384x640 20 persons, 5 cars, 24 motorcycles, 1 bus, 3 trucks, 1 backpack, 22.2ms\n",
            "Speed: 2.4ms preprocess, 22.2ms inference, 1.5ms postprocess per image at shape (1, 3, 384, 640)\n"
          ]
        },
        {
          "output_type": "stream",
          "name": "stderr",
          "text": [
            "\rProcessing frames:  73%|\u001b[32m███████▎  \u001b[0m| 570/780 [01:10<00:25,  8.12it/s]"
          ]
        },
        {
          "output_type": "stream",
          "name": "stdout",
          "text": [
            "\n",
            "0: 384x640 20 persons, 5 cars, 25 motorcycles, 1 bus, 3 trucks, 1 backpack, 21.0ms\n",
            "Speed: 2.7ms preprocess, 21.0ms inference, 1.5ms postprocess per image at shape (1, 3, 384, 640)\n"
          ]
        },
        {
          "output_type": "stream",
          "name": "stderr",
          "text": [
            "\rProcessing frames:  73%|\u001b[32m███████▎  \u001b[0m| 571/780 [01:10<00:25,  8.14it/s]"
          ]
        },
        {
          "output_type": "stream",
          "name": "stdout",
          "text": [
            "\n",
            "0: 384x640 19 persons, 6 cars, 25 motorcycles, 1 bus, 2 trucks, 1 backpack, 21.2ms\n",
            "Speed: 2.4ms preprocess, 21.2ms inference, 1.5ms postprocess per image at shape (1, 3, 384, 640)\n"
          ]
        },
        {
          "output_type": "stream",
          "name": "stderr",
          "text": [
            "\rProcessing frames:  73%|\u001b[32m███████▎  \u001b[0m| 572/780 [01:10<00:25,  8.15it/s]"
          ]
        },
        {
          "output_type": "stream",
          "name": "stdout",
          "text": [
            "\n",
            "0: 384x640 19 persons, 6 cars, 25 motorcycles, 1 bus, 2 trucks, 1 backpack, 23.1ms\n",
            "Speed: 2.4ms preprocess, 23.1ms inference, 1.5ms postprocess per image at shape (1, 3, 384, 640)\n"
          ]
        },
        {
          "output_type": "stream",
          "name": "stderr",
          "text": [
            "\rProcessing frames:  73%|\u001b[32m███████▎  \u001b[0m| 573/780 [01:10<00:25,  8.12it/s]"
          ]
        },
        {
          "output_type": "stream",
          "name": "stdout",
          "text": [
            "\n",
            "0: 384x640 19 persons, 6 cars, 27 motorcycles, 1 bus, 2 trucks, 1 backpack, 21.2ms\n",
            "Speed: 2.4ms preprocess, 21.2ms inference, 1.4ms postprocess per image at shape (1, 3, 384, 640)\n"
          ]
        },
        {
          "output_type": "stream",
          "name": "stderr",
          "text": [
            "\rProcessing frames:  74%|\u001b[32m███████▎  \u001b[0m| 574/780 [01:10<00:25,  8.11it/s]"
          ]
        },
        {
          "output_type": "stream",
          "name": "stdout",
          "text": [
            "\n",
            "0: 384x640 19 persons, 5 cars, 27 motorcycles, 1 bus, 3 trucks, 1 backpack, 21.1ms\n",
            "Speed: 2.4ms preprocess, 21.1ms inference, 1.4ms postprocess per image at shape (1, 3, 384, 640)\n"
          ]
        },
        {
          "output_type": "stream",
          "name": "stderr",
          "text": [
            "\rProcessing frames:  74%|\u001b[32m███████▎  \u001b[0m| 575/780 [01:10<00:25,  8.13it/s]"
          ]
        },
        {
          "output_type": "stream",
          "name": "stdout",
          "text": [
            "\n",
            "0: 384x640 19 persons, 5 cars, 26 motorcycles, 1 bus, 3 trucks, 1 backpack, 20.9ms\n",
            "Speed: 2.9ms preprocess, 20.9ms inference, 1.4ms postprocess per image at shape (1, 3, 384, 640)\n"
          ]
        },
        {
          "output_type": "stream",
          "name": "stderr",
          "text": [
            "\rProcessing frames:  74%|\u001b[32m███████▍  \u001b[0m| 576/780 [01:11<00:25,  8.13it/s]"
          ]
        },
        {
          "output_type": "stream",
          "name": "stdout",
          "text": [
            "\n",
            "0: 384x640 18 persons, 5 cars, 26 motorcycles, 1 bus, 3 trucks, 1 backpack, 21.1ms\n",
            "Speed: 2.7ms preprocess, 21.1ms inference, 1.5ms postprocess per image at shape (1, 3, 384, 640)\n"
          ]
        },
        {
          "output_type": "stream",
          "name": "stderr",
          "text": [
            "\rProcessing frames:  74%|\u001b[32m███████▍  \u001b[0m| 577/780 [01:11<00:25,  8.07it/s]"
          ]
        },
        {
          "output_type": "stream",
          "name": "stdout",
          "text": [
            "\n",
            "0: 384x640 17 persons, 4 cars, 26 motorcycles, 1 bus, 5 trucks, 1 backpack, 23.4ms\n",
            "Speed: 3.7ms preprocess, 23.4ms inference, 1.5ms postprocess per image at shape (1, 3, 384, 640)\n"
          ]
        },
        {
          "output_type": "stream",
          "name": "stderr",
          "text": [
            "\rProcessing frames:  74%|\u001b[32m███████▍  \u001b[0m| 578/780 [01:11<00:25,  7.96it/s]"
          ]
        },
        {
          "output_type": "stream",
          "name": "stdout",
          "text": [
            "\n",
            "0: 384x640 17 persons, 5 cars, 26 motorcycles, 1 bus, 4 trucks, 1 backpack, 21.6ms\n",
            "Speed: 2.7ms preprocess, 21.6ms inference, 1.5ms postprocess per image at shape (1, 3, 384, 640)\n"
          ]
        },
        {
          "output_type": "stream",
          "name": "stderr",
          "text": [
            "\rProcessing frames:  74%|\u001b[32m███████▍  \u001b[0m| 579/780 [01:11<00:25,  8.04it/s]"
          ]
        },
        {
          "output_type": "stream",
          "name": "stdout",
          "text": [
            "\n",
            "0: 384x640 17 persons, 4 cars, 25 motorcycles, 1 bus, 5 trucks, 1 backpack, 22.1ms\n",
            "Speed: 3.7ms preprocess, 22.1ms inference, 1.4ms postprocess per image at shape (1, 3, 384, 640)\n"
          ]
        },
        {
          "output_type": "stream",
          "name": "stderr",
          "text": [
            "\rProcessing frames:  74%|\u001b[32m███████▍  \u001b[0m| 580/780 [01:11<00:24,  8.06it/s]"
          ]
        },
        {
          "output_type": "stream",
          "name": "stdout",
          "text": [
            "\n",
            "0: 384x640 17 persons, 5 cars, 25 motorcycles, 1 bus, 4 trucks, 1 backpack, 24.3ms\n",
            "Speed: 3.7ms preprocess, 24.3ms inference, 1.4ms postprocess per image at shape (1, 3, 384, 640)\n"
          ]
        },
        {
          "output_type": "stream",
          "name": "stderr",
          "text": [
            "\rProcessing frames:  74%|\u001b[32m███████▍  \u001b[0m| 581/780 [01:11<00:24,  8.06it/s]"
          ]
        },
        {
          "output_type": "stream",
          "name": "stdout",
          "text": [
            "\n",
            "0: 384x640 18 persons, 5 cars, 24 motorcycles, 1 bus, 4 trucks, 1 backpack, 21.2ms\n",
            "Speed: 2.6ms preprocess, 21.2ms inference, 1.4ms postprocess per image at shape (1, 3, 384, 640)\n"
          ]
        },
        {
          "output_type": "stream",
          "name": "stderr",
          "text": [
            "\rProcessing frames:  75%|\u001b[32m███████▍  \u001b[0m| 582/780 [01:11<00:24,  8.12it/s]"
          ]
        },
        {
          "output_type": "stream",
          "name": "stdout",
          "text": [
            "\n",
            "0: 384x640 18 persons, 4 cars, 26 motorcycles, 1 bus, 5 trucks, 1 backpack, 23.3ms\n",
            "Speed: 3.7ms preprocess, 23.3ms inference, 1.4ms postprocess per image at shape (1, 3, 384, 640)\n"
          ]
        },
        {
          "output_type": "stream",
          "name": "stderr",
          "text": [
            "\rProcessing frames:  75%|\u001b[32m███████▍  \u001b[0m| 583/780 [01:11<00:24,  8.08it/s]"
          ]
        },
        {
          "output_type": "stream",
          "name": "stdout",
          "text": [
            "\n",
            "0: 384x640 18 persons, 5 cars, 26 motorcycles, 1 bus, 5 trucks, 1 backpack, 20.7ms\n",
            "Speed: 2.5ms preprocess, 20.7ms inference, 1.4ms postprocess per image at shape (1, 3, 384, 640)\n"
          ]
        },
        {
          "output_type": "stream",
          "name": "stderr",
          "text": [
            "\rProcessing frames:  75%|\u001b[32m███████▍  \u001b[0m| 584/780 [01:12<00:24,  8.10it/s]"
          ]
        },
        {
          "output_type": "stream",
          "name": "stdout",
          "text": [
            "\n",
            "0: 384x640 18 persons, 5 cars, 27 motorcycles, 1 bus, 5 trucks, 1 backpack, 20.8ms\n",
            "Speed: 2.4ms preprocess, 20.8ms inference, 1.4ms postprocess per image at shape (1, 3, 384, 640)\n"
          ]
        },
        {
          "output_type": "stream",
          "name": "stderr",
          "text": [
            "\rProcessing frames:  75%|\u001b[32m███████▌  \u001b[0m| 585/780 [01:12<00:24,  8.11it/s]"
          ]
        },
        {
          "output_type": "stream",
          "name": "stdout",
          "text": [
            "\n",
            "0: 384x640 17 persons, 5 cars, 27 motorcycles, 1 bus, 5 trucks, 1 backpack, 22.0ms\n",
            "Speed: 2.8ms preprocess, 22.0ms inference, 1.5ms postprocess per image at shape (1, 3, 384, 640)\n"
          ]
        },
        {
          "output_type": "stream",
          "name": "stderr",
          "text": [
            "\rProcessing frames:  75%|\u001b[32m███████▌  \u001b[0m| 586/780 [01:12<00:24,  8.02it/s]"
          ]
        },
        {
          "output_type": "stream",
          "name": "stdout",
          "text": [
            "\n",
            "0: 384x640 17 persons, 5 cars, 26 motorcycles, 1 bus, 5 trucks, 1 backpack, 23.7ms\n",
            "Speed: 3.7ms preprocess, 23.7ms inference, 1.6ms postprocess per image at shape (1, 3, 384, 640)\n"
          ]
        },
        {
          "output_type": "stream",
          "name": "stderr",
          "text": [
            "\rProcessing frames:  75%|\u001b[32m███████▌  \u001b[0m| 587/780 [01:12<00:24,  7.98it/s]"
          ]
        },
        {
          "output_type": "stream",
          "name": "stdout",
          "text": [
            "\n",
            "0: 384x640 18 persons, 6 cars, 26 motorcycles, 1 bus, 4 trucks, 1 backpack, 21.0ms\n",
            "Speed: 2.6ms preprocess, 21.0ms inference, 1.4ms postprocess per image at shape (1, 3, 384, 640)\n"
          ]
        },
        {
          "output_type": "stream",
          "name": "stderr",
          "text": [
            "\rProcessing frames:  75%|\u001b[32m███████▌  \u001b[0m| 588/780 [01:12<00:23,  8.01it/s]"
          ]
        },
        {
          "output_type": "stream",
          "name": "stdout",
          "text": [
            "\n",
            "0: 384x640 18 persons, 6 cars, 25 motorcycles, 1 bus, 4 trucks, 1 backpack, 21.4ms\n",
            "Speed: 2.7ms preprocess, 21.4ms inference, 1.5ms postprocess per image at shape (1, 3, 384, 640)\n"
          ]
        },
        {
          "output_type": "stream",
          "name": "stderr",
          "text": [
            "\rProcessing frames:  76%|\u001b[32m███████▌  \u001b[0m| 589/780 [01:12<00:23,  7.99it/s]"
          ]
        },
        {
          "output_type": "stream",
          "name": "stdout",
          "text": [
            "\n",
            "0: 384x640 18 persons, 5 cars, 26 motorcycles, 1 bus, 3 trucks, 1 backpack, 23.6ms\n",
            "Speed: 3.7ms preprocess, 23.6ms inference, 1.5ms postprocess per image at shape (1, 3, 384, 640)\n"
          ]
        },
        {
          "output_type": "stream",
          "name": "stderr",
          "text": [
            "\rProcessing frames:  76%|\u001b[32m███████▌  \u001b[0m| 590/780 [01:12<00:23,  7.97it/s]"
          ]
        },
        {
          "output_type": "stream",
          "name": "stdout",
          "text": [
            "\n",
            "0: 384x640 18 persons, 6 cars, 26 motorcycles, 1 bus, 3 trucks, 1 backpack, 23.2ms\n",
            "Speed: 2.6ms preprocess, 23.2ms inference, 1.5ms postprocess per image at shape (1, 3, 384, 640)\n"
          ]
        },
        {
          "output_type": "stream",
          "name": "stderr",
          "text": [
            "\rProcessing frames:  76%|\u001b[32m███████▌  \u001b[0m| 591/780 [01:12<00:23,  8.00it/s]"
          ]
        },
        {
          "output_type": "stream",
          "name": "stdout",
          "text": [
            "\n",
            "0: 384x640 18 persons, 5 cars, 26 motorcycles, 1 bus, 4 trucks, 1 backpack, 21.6ms\n",
            "Speed: 2.6ms preprocess, 21.6ms inference, 1.5ms postprocess per image at shape (1, 3, 384, 640)\n"
          ]
        },
        {
          "output_type": "stream",
          "name": "stderr",
          "text": [
            "\rProcessing frames:  76%|\u001b[32m███████▌  \u001b[0m| 592/780 [01:13<00:23,  8.02it/s]"
          ]
        },
        {
          "output_type": "stream",
          "name": "stdout",
          "text": [
            "\n",
            "0: 384x640 18 persons, 6 cars, 27 motorcycles, 1 bus, 3 trucks, 1 backpack, 22.3ms\n",
            "Speed: 3.8ms preprocess, 22.3ms inference, 1.5ms postprocess per image at shape (1, 3, 384, 640)\n"
          ]
        },
        {
          "output_type": "stream",
          "name": "stderr",
          "text": [
            "\rProcessing frames:  76%|\u001b[32m███████▌  \u001b[0m| 593/780 [01:13<00:23,  7.99it/s]"
          ]
        },
        {
          "output_type": "stream",
          "name": "stdout",
          "text": [
            "\n",
            "0: 384x640 17 persons, 6 cars, 27 motorcycles, 1 bus, 3 trucks, 1 backpack, 22.3ms\n",
            "Speed: 2.7ms preprocess, 22.3ms inference, 1.4ms postprocess per image at shape (1, 3, 384, 640)\n"
          ]
        },
        {
          "output_type": "stream",
          "name": "stderr",
          "text": [
            "\rProcessing frames:  76%|\u001b[32m███████▌  \u001b[0m| 594/780 [01:13<00:23,  7.91it/s]"
          ]
        },
        {
          "output_type": "stream",
          "name": "stdout",
          "text": [
            "\n",
            "0: 384x640 17 persons, 5 cars, 26 motorcycles, 1 bus, 4 trucks, 1 backpack, 22.2ms\n",
            "Speed: 2.5ms preprocess, 22.2ms inference, 1.5ms postprocess per image at shape (1, 3, 384, 640)\n"
          ]
        },
        {
          "output_type": "stream",
          "name": "stderr",
          "text": [
            "\rProcessing frames:  76%|\u001b[32m███████▋  \u001b[0m| 595/780 [01:13<00:23,  7.93it/s]"
          ]
        },
        {
          "output_type": "stream",
          "name": "stdout",
          "text": [
            "\n",
            "0: 384x640 17 persons, 6 cars, 24 motorcycles, 1 bus, 3 trucks, 1 backpack, 22.1ms\n",
            "Speed: 2.8ms preprocess, 22.1ms inference, 1.5ms postprocess per image at shape (1, 3, 384, 640)\n"
          ]
        },
        {
          "output_type": "stream",
          "name": "stderr",
          "text": [
            "\rProcessing frames:  76%|\u001b[32m███████▋  \u001b[0m| 596/780 [01:13<00:23,  7.98it/s]"
          ]
        },
        {
          "output_type": "stream",
          "name": "stdout",
          "text": [
            "\n",
            "0: 384x640 18 persons, 6 cars, 23 motorcycles, 1 bus, 3 trucks, 1 backpack, 21.8ms\n",
            "Speed: 2.7ms preprocess, 21.8ms inference, 1.5ms postprocess per image at shape (1, 3, 384, 640)\n"
          ]
        },
        {
          "output_type": "stream",
          "name": "stderr",
          "text": [
            "\rProcessing frames:  77%|\u001b[32m███████▋  \u001b[0m| 597/780 [01:13<00:22,  8.06it/s]"
          ]
        },
        {
          "output_type": "stream",
          "name": "stdout",
          "text": [
            "\n",
            "0: 384x640 18 persons, 6 cars, 23 motorcycles, 1 bus, 3 trucks, 1 backpack, 23.7ms\n",
            "Speed: 3.7ms preprocess, 23.7ms inference, 1.4ms postprocess per image at shape (1, 3, 384, 640)\n"
          ]
        },
        {
          "output_type": "stream",
          "name": "stderr",
          "text": [
            "\rProcessing frames:  77%|\u001b[32m███████▋  \u001b[0m| 598/780 [01:13<00:22,  8.07it/s]"
          ]
        },
        {
          "output_type": "stream",
          "name": "stdout",
          "text": [
            "\n",
            "0: 384x640 18 persons, 7 cars, 25 motorcycles, 1 bus, 3 trucks, 1 backpack, 21.1ms\n",
            "Speed: 2.7ms preprocess, 21.1ms inference, 1.5ms postprocess per image at shape (1, 3, 384, 640)\n"
          ]
        },
        {
          "output_type": "stream",
          "name": "stderr",
          "text": [
            "\rProcessing frames:  77%|\u001b[32m███████▋  \u001b[0m| 599/780 [01:13<00:22,  8.07it/s]"
          ]
        },
        {
          "output_type": "stream",
          "name": "stdout",
          "text": [
            "\n",
            "0: 384x640 18 persons, 6 cars, 25 motorcycles, 1 bus, 2 trucks, 1 backpack, 24.4ms\n",
            "Speed: 3.5ms preprocess, 24.4ms inference, 1.4ms postprocess per image at shape (1, 3, 384, 640)\n"
          ]
        },
        {
          "output_type": "stream",
          "name": "stderr",
          "text": [
            "\rProcessing frames:  77%|\u001b[32m███████▋  \u001b[0m| 600/780 [01:14<00:22,  8.05it/s]"
          ]
        },
        {
          "output_type": "stream",
          "name": "stdout",
          "text": [
            "\n",
            "0: 384x640 18 persons, 7 cars, 25 motorcycles, 1 bus, 2 trucks, 1 backpack, 20.9ms\n",
            "Speed: 2.8ms preprocess, 20.9ms inference, 1.4ms postprocess per image at shape (1, 3, 384, 640)\n"
          ]
        },
        {
          "output_type": "stream",
          "name": "stderr",
          "text": [
            "\rProcessing frames:  77%|\u001b[32m███████▋  \u001b[0m| 601/780 [01:14<00:22,  8.00it/s]"
          ]
        },
        {
          "output_type": "stream",
          "name": "stdout",
          "text": [
            "\n",
            "0: 384x640 18 persons, 6 cars, 25 motorcycles, 1 bus, 3 trucks, 1 backpack, 22.1ms\n",
            "Speed: 2.8ms preprocess, 22.1ms inference, 1.5ms postprocess per image at shape (1, 3, 384, 640)\n"
          ]
        },
        {
          "output_type": "stream",
          "name": "stderr",
          "text": [
            "\rProcessing frames:  77%|\u001b[32m███████▋  \u001b[0m| 602/780 [01:14<00:22,  8.01it/s]"
          ]
        },
        {
          "output_type": "stream",
          "name": "stdout",
          "text": [
            "\n",
            "0: 384x640 18 persons, 7 cars, 24 motorcycles, 1 bus, 2 trucks, 1 backpack, 21.6ms\n",
            "Speed: 3.7ms preprocess, 21.6ms inference, 1.5ms postprocess per image at shape (1, 3, 384, 640)\n"
          ]
        },
        {
          "output_type": "stream",
          "name": "stderr",
          "text": [
            "\rProcessing frames:  77%|\u001b[32m███████▋  \u001b[0m| 603/780 [01:14<00:22,  7.97it/s]"
          ]
        },
        {
          "output_type": "stream",
          "name": "stdout",
          "text": [
            "\n",
            "0: 384x640 18 persons, 6 cars, 24 motorcycles, 1 bus, 3 trucks, 1 backpack, 21.9ms\n",
            "Speed: 3.0ms preprocess, 21.9ms inference, 1.7ms postprocess per image at shape (1, 3, 384, 640)\n"
          ]
        },
        {
          "output_type": "stream",
          "name": "stderr",
          "text": [
            "\rProcessing frames:  77%|\u001b[32m███████▋  \u001b[0m| 604/780 [01:14<00:22,  7.93it/s]"
          ]
        },
        {
          "output_type": "stream",
          "name": "stdout",
          "text": [
            "\n",
            "0: 384x640 18 persons, 6 cars, 24 motorcycles, 1 bus, 3 trucks, 1 backpack, 23.0ms\n",
            "Speed: 2.6ms preprocess, 23.0ms inference, 1.6ms postprocess per image at shape (1, 3, 384, 640)\n"
          ]
        },
        {
          "output_type": "stream",
          "name": "stderr",
          "text": [
            "\rProcessing frames:  78%|\u001b[32m███████▊  \u001b[0m| 605/780 [01:14<00:22,  7.93it/s]"
          ]
        },
        {
          "output_type": "stream",
          "name": "stdout",
          "text": [
            "\n",
            "0: 384x640 18 persons, 6 cars, 23 motorcycles, 1 bus, 3 trucks, 1 backpack, 21.9ms\n",
            "Speed: 2.6ms preprocess, 21.9ms inference, 1.6ms postprocess per image at shape (1, 3, 384, 640)\n"
          ]
        },
        {
          "output_type": "stream",
          "name": "stderr",
          "text": [
            "\rProcessing frames:  78%|\u001b[32m███████▊  \u001b[0m| 606/780 [01:14<00:21,  8.00it/s]"
          ]
        },
        {
          "output_type": "stream",
          "name": "stdout",
          "text": [
            "\n",
            "0: 384x640 18 persons, 7 cars, 24 motorcycles, 1 bus, 2 trucks, 1 backpack, 22.5ms\n",
            "Speed: 2.6ms preprocess, 22.5ms inference, 1.5ms postprocess per image at shape (1, 3, 384, 640)\n"
          ]
        },
        {
          "output_type": "stream",
          "name": "stderr",
          "text": [
            "\rProcessing frames:  78%|\u001b[32m███████▊  \u001b[0m| 607/780 [01:14<00:21,  8.02it/s]"
          ]
        },
        {
          "output_type": "stream",
          "name": "stdout",
          "text": [
            "\n",
            "0: 384x640 18 persons, 7 cars, 24 motorcycles, 1 bus, 3 trucks, 1 backpack, 21.9ms\n",
            "Speed: 2.5ms preprocess, 21.9ms inference, 1.5ms postprocess per image at shape (1, 3, 384, 640)\n"
          ]
        },
        {
          "output_type": "stream",
          "name": "stderr",
          "text": [
            "\rProcessing frames:  78%|\u001b[32m███████▊  \u001b[0m| 608/780 [01:15<00:21,  8.02it/s]"
          ]
        },
        {
          "output_type": "stream",
          "name": "stdout",
          "text": [
            "\n",
            "0: 384x640 18 persons, 7 cars, 24 motorcycles, 1 bus, 3 trucks, 1 backpack, 21.6ms\n",
            "Speed: 2.5ms preprocess, 21.6ms inference, 1.5ms postprocess per image at shape (1, 3, 384, 640)\n"
          ]
        },
        {
          "output_type": "stream",
          "name": "stderr",
          "text": [
            "\rProcessing frames:  78%|\u001b[32m███████▊  \u001b[0m| 609/780 [01:15<00:21,  8.06it/s]"
          ]
        },
        {
          "output_type": "stream",
          "name": "stdout",
          "text": [
            "\n",
            "0: 384x640 18 persons, 7 cars, 24 motorcycles, 1 bus, 3 trucks, 1 backpack, 25.2ms\n",
            "Speed: 3.7ms preprocess, 25.2ms inference, 1.5ms postprocess per image at shape (1, 3, 384, 640)\n"
          ]
        },
        {
          "output_type": "stream",
          "name": "stderr",
          "text": [
            "\rProcessing frames:  78%|\u001b[32m███████▊  \u001b[0m| 610/780 [01:15<00:21,  8.00it/s]"
          ]
        },
        {
          "output_type": "stream",
          "name": "stdout",
          "text": [
            "\n",
            "0: 384x640 19 persons, 7 cars, 24 motorcycles, 1 bus, 3 trucks, 1 backpack, 21.4ms\n",
            "Speed: 2.4ms preprocess, 21.4ms inference, 1.4ms postprocess per image at shape (1, 3, 384, 640)\n"
          ]
        },
        {
          "output_type": "stream",
          "name": "stderr",
          "text": [
            "\rProcessing frames:  78%|\u001b[32m███████▊  \u001b[0m| 611/780 [01:15<00:20,  8.06it/s]"
          ]
        },
        {
          "output_type": "stream",
          "name": "stdout",
          "text": [
            "\n",
            "0: 384x640 17 persons, 7 cars, 24 motorcycles, 1 bus, 3 trucks, 1 backpack, 21.3ms\n",
            "Speed: 2.5ms preprocess, 21.3ms inference, 1.4ms postprocess per image at shape (1, 3, 384, 640)\n"
          ]
        },
        {
          "output_type": "stream",
          "name": "stderr",
          "text": [
            "\rProcessing frames:  78%|\u001b[32m███████▊  \u001b[0m| 612/780 [01:15<00:20,  8.13it/s]"
          ]
        },
        {
          "output_type": "stream",
          "name": "stdout",
          "text": [
            "\n",
            "0: 384x640 17 persons, 7 cars, 24 motorcycles, 1 bus, 2 trucks, 1 backpack, 21.9ms\n",
            "Speed: 2.5ms preprocess, 21.9ms inference, 1.5ms postprocess per image at shape (1, 3, 384, 640)\n"
          ]
        },
        {
          "output_type": "stream",
          "name": "stderr",
          "text": [
            "\rProcessing frames:  79%|\u001b[32m███████▊  \u001b[0m| 613/780 [01:15<00:20,  8.13it/s]"
          ]
        },
        {
          "output_type": "stream",
          "name": "stdout",
          "text": [
            "\n",
            "0: 384x640 17 persons, 7 cars, 24 motorcycles, 1 bus, 2 trucks, 1 backpack, 21.4ms\n",
            "Speed: 2.4ms preprocess, 21.4ms inference, 1.5ms postprocess per image at shape (1, 3, 384, 640)\n"
          ]
        },
        {
          "output_type": "stream",
          "name": "stderr",
          "text": [
            "\rProcessing frames:  79%|\u001b[32m███████▊  \u001b[0m| 614/780 [01:15<00:20,  8.16it/s]"
          ]
        },
        {
          "output_type": "stream",
          "name": "stdout",
          "text": [
            "\n",
            "0: 384x640 17 persons, 7 cars, 24 motorcycles, 1 bus, 2 trucks, 1 backpack, 23.6ms\n",
            "Speed: 2.5ms preprocess, 23.6ms inference, 1.5ms postprocess per image at shape (1, 3, 384, 640)\n"
          ]
        },
        {
          "output_type": "stream",
          "name": "stderr",
          "text": [
            "\rProcessing frames:  79%|\u001b[32m███████▉  \u001b[0m| 615/780 [01:15<00:20,  8.15it/s]"
          ]
        },
        {
          "output_type": "stream",
          "name": "stdout",
          "text": [
            "\n",
            "0: 384x640 17 persons, 7 cars, 24 motorcycles, 1 bus, 2 trucks, 1 backpack, 21.2ms\n",
            "Speed: 2.5ms preprocess, 21.2ms inference, 1.5ms postprocess per image at shape (1, 3, 384, 640)\n"
          ]
        },
        {
          "output_type": "stream",
          "name": "stderr",
          "text": [
            "\rProcessing frames:  79%|\u001b[32m███████▉  \u001b[0m| 616/780 [01:16<00:19,  8.20it/s]"
          ]
        },
        {
          "output_type": "stream",
          "name": "stdout",
          "text": [
            "\n",
            "0: 384x640 17 persons, 7 cars, 24 motorcycles, 1 bus, 2 trucks, 1 backpack, 21.7ms\n",
            "Speed: 2.6ms preprocess, 21.7ms inference, 1.6ms postprocess per image at shape (1, 3, 384, 640)\n"
          ]
        },
        {
          "output_type": "stream",
          "name": "stderr",
          "text": [
            "\rProcessing frames:  79%|\u001b[32m███████▉  \u001b[0m| 617/780 [01:16<00:19,  8.21it/s]"
          ]
        },
        {
          "output_type": "stream",
          "name": "stdout",
          "text": [
            "\n",
            "0: 384x640 18 persons, 7 cars, 24 motorcycles, 1 bus, 2 trucks, 1 backpack, 23.7ms\n",
            "Speed: 3.8ms preprocess, 23.7ms inference, 1.6ms postprocess per image at shape (1, 3, 384, 640)\n"
          ]
        },
        {
          "output_type": "stream",
          "name": "stderr",
          "text": [
            "\rProcessing frames:  79%|\u001b[32m███████▉  \u001b[0m| 618/780 [01:16<00:20,  8.08it/s]"
          ]
        },
        {
          "output_type": "stream",
          "name": "stdout",
          "text": [
            "\n",
            "0: 384x640 18 persons, 7 cars, 25 motorcycles, 1 bus, 2 trucks, 1 backpack, 22.1ms\n",
            "Speed: 2.6ms preprocess, 22.1ms inference, 1.5ms postprocess per image at shape (1, 3, 384, 640)\n"
          ]
        },
        {
          "output_type": "stream",
          "name": "stderr",
          "text": [
            "\rProcessing frames:  79%|\u001b[32m███████▉  \u001b[0m| 619/780 [01:16<00:19,  8.09it/s]"
          ]
        },
        {
          "output_type": "stream",
          "name": "stdout",
          "text": [
            "\n",
            "0: 384x640 18 persons, 7 cars, 24 motorcycles, 1 bus, 2 trucks, 1 backpack, 22.4ms\n",
            "Speed: 2.8ms preprocess, 22.4ms inference, 1.5ms postprocess per image at shape (1, 3, 384, 640)\n"
          ]
        },
        {
          "output_type": "stream",
          "name": "stderr",
          "text": [
            "\rProcessing frames:  79%|\u001b[32m███████▉  \u001b[0m| 620/780 [01:16<00:19,  8.07it/s]"
          ]
        },
        {
          "output_type": "stream",
          "name": "stdout",
          "text": [
            "\n",
            "0: 384x640 17 persons, 6 cars, 25 motorcycles, 1 bus, 1 truck, 1 backpack, 21.8ms\n",
            "Speed: 2.6ms preprocess, 21.8ms inference, 1.5ms postprocess per image at shape (1, 3, 384, 640)\n"
          ]
        },
        {
          "output_type": "stream",
          "name": "stderr",
          "text": [
            "\rProcessing frames:  80%|\u001b[32m███████▉  \u001b[0m| 621/780 [01:16<00:19,  8.07it/s]"
          ]
        },
        {
          "output_type": "stream",
          "name": "stdout",
          "text": [
            "\n",
            "0: 384x640 17 persons, 6 cars, 25 motorcycles, 1 bus, 2 trucks, 1 backpack, 22.9ms\n",
            "Speed: 2.5ms preprocess, 22.9ms inference, 1.5ms postprocess per image at shape (1, 3, 384, 640)\n"
          ]
        },
        {
          "output_type": "stream",
          "name": "stderr",
          "text": [
            "\rProcessing frames:  80%|\u001b[32m███████▉  \u001b[0m| 622/780 [01:16<00:19,  8.04it/s]"
          ]
        },
        {
          "output_type": "stream",
          "name": "stdout",
          "text": [
            "\n",
            "0: 384x640 17 persons, 6 cars, 25 motorcycles, 1 bus, 2 trucks, 1 backpack, 22.7ms\n",
            "Speed: 3.7ms preprocess, 22.7ms inference, 1.5ms postprocess per image at shape (1, 3, 384, 640)\n"
          ]
        },
        {
          "output_type": "stream",
          "name": "stderr",
          "text": [
            "\rProcessing frames:  80%|\u001b[32m███████▉  \u001b[0m| 623/780 [01:16<00:19,  8.04it/s]"
          ]
        },
        {
          "output_type": "stream",
          "name": "stdout",
          "text": [
            "\n",
            "0: 384x640 18 persons, 5 cars, 22 motorcycles, 1 bus, 4 trucks, 1 backpack, 21.0ms\n",
            "Speed: 2.6ms preprocess, 21.0ms inference, 1.5ms postprocess per image at shape (1, 3, 384, 640)\n"
          ]
        },
        {
          "output_type": "stream",
          "name": "stderr",
          "text": [
            "\rProcessing frames:  80%|\u001b[32m████████  \u001b[0m| 624/780 [01:17<00:19,  8.12it/s]"
          ]
        },
        {
          "output_type": "stream",
          "name": "stdout",
          "text": [
            "\n",
            "0: 384x640 18 persons, 5 cars, 22 motorcycles, 1 bus, 4 trucks, 1 backpack, 22.5ms\n",
            "Speed: 2.5ms preprocess, 22.5ms inference, 1.5ms postprocess per image at shape (1, 3, 384, 640)\n"
          ]
        },
        {
          "output_type": "stream",
          "name": "stderr",
          "text": [
            "\rProcessing frames:  80%|\u001b[32m████████  \u001b[0m| 625/780 [01:17<00:19,  8.12it/s]"
          ]
        },
        {
          "output_type": "stream",
          "name": "stdout",
          "text": [
            "\n",
            "0: 384x640 18 persons, 6 cars, 23 motorcycles, 1 bus, 3 trucks, 1 backpack, 21.1ms\n",
            "Speed: 2.5ms preprocess, 21.1ms inference, 1.5ms postprocess per image at shape (1, 3, 384, 640)\n"
          ]
        },
        {
          "output_type": "stream",
          "name": "stderr",
          "text": [
            "\rProcessing frames:  80%|\u001b[32m████████  \u001b[0m| 626/780 [01:17<00:19,  7.97it/s]"
          ]
        },
        {
          "output_type": "stream",
          "name": "stdout",
          "text": [
            "\n",
            "0: 384x640 18 persons, 5 cars, 23 motorcycles, 1 bus, 2 trucks, 1 backpack, 21.5ms\n",
            "Speed: 2.6ms preprocess, 21.5ms inference, 1.5ms postprocess per image at shape (1, 3, 384, 640)\n"
          ]
        },
        {
          "output_type": "stream",
          "name": "stderr",
          "text": [
            "\rProcessing frames:  80%|\u001b[32m████████  \u001b[0m| 627/780 [01:17<00:18,  8.06it/s]"
          ]
        },
        {
          "output_type": "stream",
          "name": "stdout",
          "text": [
            "\n",
            "0: 384x640 18 persons, 5 cars, 23 motorcycles, 1 bus, 3 trucks, 1 backpack, 21.5ms\n",
            "Speed: 2.8ms preprocess, 21.5ms inference, 1.5ms postprocess per image at shape (1, 3, 384, 640)\n"
          ]
        },
        {
          "output_type": "stream",
          "name": "stderr",
          "text": [
            "\rProcessing frames:  81%|\u001b[32m████████  \u001b[0m| 628/780 [01:17<00:18,  8.07it/s]"
          ]
        },
        {
          "output_type": "stream",
          "name": "stdout",
          "text": [
            "\n",
            "0: 384x640 18 persons, 5 cars, 23 motorcycles, 1 bus, 3 trucks, 1 backpack, 21.2ms\n",
            "Speed: 2.6ms preprocess, 21.2ms inference, 1.5ms postprocess per image at shape (1, 3, 384, 640)\n"
          ]
        },
        {
          "output_type": "stream",
          "name": "stderr",
          "text": [
            "\rProcessing frames:  81%|\u001b[32m████████  \u001b[0m| 629/780 [01:17<00:18,  8.13it/s]"
          ]
        },
        {
          "output_type": "stream",
          "name": "stdout",
          "text": [
            "\n",
            "0: 384x640 18 persons, 5 cars, 22 motorcycles, 1 bus, 3 trucks, 1 backpack, 22.1ms\n",
            "Speed: 2.5ms preprocess, 22.1ms inference, 1.5ms postprocess per image at shape (1, 3, 384, 640)\n"
          ]
        },
        {
          "output_type": "stream",
          "name": "stderr",
          "text": [
            "\rProcessing frames:  81%|\u001b[32m████████  \u001b[0m| 630/780 [01:17<00:18,  8.16it/s]"
          ]
        },
        {
          "output_type": "stream",
          "name": "stdout",
          "text": [
            "\n",
            "0: 384x640 18 persons, 5 cars, 22 motorcycles, 1 bus, 3 trucks, 1 backpack, 22.2ms\n",
            "Speed: 3.7ms preprocess, 22.2ms inference, 1.5ms postprocess per image at shape (1, 3, 384, 640)\n"
          ]
        },
        {
          "output_type": "stream",
          "name": "stderr",
          "text": [
            "\rProcessing frames:  81%|\u001b[32m████████  \u001b[0m| 631/780 [01:17<00:18,  8.14it/s]"
          ]
        },
        {
          "output_type": "stream",
          "name": "stdout",
          "text": [
            "\n",
            "0: 384x640 17 persons, 5 cars, 24 motorcycles, 1 bus, 3 trucks, 1 backpack, 21.9ms\n",
            "Speed: 2.8ms preprocess, 21.9ms inference, 1.6ms postprocess per image at shape (1, 3, 384, 640)\n"
          ]
        },
        {
          "output_type": "stream",
          "name": "stderr",
          "text": [
            "\rProcessing frames:  81%|\u001b[32m████████  \u001b[0m| 632/780 [01:18<00:18,  8.04it/s]"
          ]
        },
        {
          "output_type": "stream",
          "name": "stdout",
          "text": [
            "\n",
            "0: 384x640 17 persons, 5 cars, 24 motorcycles, 1 bus, 3 trucks, 1 backpack, 21.4ms\n",
            "Speed: 2.4ms preprocess, 21.4ms inference, 1.5ms postprocess per image at shape (1, 3, 384, 640)\n"
          ]
        },
        {
          "output_type": "stream",
          "name": "stderr",
          "text": [
            "\rProcessing frames:  81%|\u001b[32m████████  \u001b[0m| 633/780 [01:18<00:18,  8.11it/s]"
          ]
        },
        {
          "output_type": "stream",
          "name": "stdout",
          "text": [
            "\n",
            "0: 384x640 17 persons, 5 cars, 23 motorcycles, 1 bus, 3 trucks, 1 backpack, 22.1ms\n",
            "Speed: 2.6ms preprocess, 22.1ms inference, 1.5ms postprocess per image at shape (1, 3, 384, 640)\n"
          ]
        },
        {
          "output_type": "stream",
          "name": "stderr",
          "text": [
            "\rProcessing frames:  81%|\u001b[32m████████▏ \u001b[0m| 634/780 [01:18<00:17,  8.15it/s]"
          ]
        },
        {
          "output_type": "stream",
          "name": "stdout",
          "text": [
            "\n",
            "0: 384x640 18 persons, 5 cars, 23 motorcycles, 1 bus, 3 trucks, 1 backpack, 22.3ms\n",
            "Speed: 2.5ms preprocess, 22.3ms inference, 1.5ms postprocess per image at shape (1, 3, 384, 640)\n"
          ]
        },
        {
          "output_type": "stream",
          "name": "stderr",
          "text": [
            "\rProcessing frames:  81%|\u001b[32m████████▏ \u001b[0m| 635/780 [01:18<00:17,  8.12it/s]"
          ]
        },
        {
          "output_type": "stream",
          "name": "stdout",
          "text": [
            "\n",
            "0: 384x640 18 persons, 5 cars, 23 motorcycles, 1 bus, 3 trucks, 1 backpack, 21.0ms\n",
            "Speed: 2.4ms preprocess, 21.0ms inference, 1.5ms postprocess per image at shape (1, 3, 384, 640)\n"
          ]
        },
        {
          "output_type": "stream",
          "name": "stderr",
          "text": [
            "\rProcessing frames:  82%|\u001b[32m████████▏ \u001b[0m| 636/780 [01:18<00:17,  8.19it/s]"
          ]
        },
        {
          "output_type": "stream",
          "name": "stdout",
          "text": [
            "\n",
            "0: 384x640 18 persons, 5 cars, 23 motorcycles, 1 bus, 3 trucks, 1 backpack, 22.0ms\n",
            "Speed: 3.2ms preprocess, 22.0ms inference, 1.5ms postprocess per image at shape (1, 3, 384, 640)\n"
          ]
        },
        {
          "output_type": "stream",
          "name": "stderr",
          "text": [
            "\rProcessing frames:  82%|\u001b[32m████████▏ \u001b[0m| 637/780 [01:18<00:17,  8.16it/s]"
          ]
        },
        {
          "output_type": "stream",
          "name": "stdout",
          "text": [
            "\n",
            "0: 384x640 17 persons, 5 cars, 23 motorcycles, 1 bus, 3 trucks, 1 backpack, 22.3ms\n",
            "Speed: 3.7ms preprocess, 22.3ms inference, 1.5ms postprocess per image at shape (1, 3, 384, 640)\n"
          ]
        },
        {
          "output_type": "stream",
          "name": "stderr",
          "text": [
            "\rProcessing frames:  82%|\u001b[32m████████▏ \u001b[0m| 638/780 [01:18<00:17,  8.16it/s]"
          ]
        },
        {
          "output_type": "stream",
          "name": "stdout",
          "text": [
            "\n",
            "0: 384x640 17 persons, 5 cars, 23 motorcycles, 1 bus, 3 trucks, 1 backpack, 21.7ms\n",
            "Speed: 2.9ms preprocess, 21.7ms inference, 1.5ms postprocess per image at shape (1, 3, 384, 640)\n"
          ]
        },
        {
          "output_type": "stream",
          "name": "stderr",
          "text": [
            "\rProcessing frames:  82%|\u001b[32m████████▏ \u001b[0m| 639/780 [01:18<00:17,  8.18it/s]"
          ]
        },
        {
          "output_type": "stream",
          "name": "stdout",
          "text": [
            "\n",
            "0: 384x640 17 persons, 4 cars, 23 motorcycles, 1 bus, 4 trucks, 1 backpack, 21.6ms\n",
            "Speed: 2.5ms preprocess, 21.6ms inference, 1.6ms postprocess per image at shape (1, 3, 384, 640)\n"
          ]
        },
        {
          "output_type": "stream",
          "name": "stderr",
          "text": [
            "\rProcessing frames:  82%|\u001b[32m████████▏ \u001b[0m| 640/780 [01:19<00:17,  8.22it/s]"
          ]
        },
        {
          "output_type": "stream",
          "name": "stdout",
          "text": [
            "\n",
            "0: 384x640 17 persons, 4 cars, 24 motorcycles, 1 bus, 4 trucks, 1 backpack, 20.8ms\n",
            "Speed: 2.5ms preprocess, 20.8ms inference, 1.5ms postprocess per image at shape (1, 3, 384, 640)\n"
          ]
        },
        {
          "output_type": "stream",
          "name": "stderr",
          "text": [
            "\rProcessing frames:  82%|\u001b[32m████████▏ \u001b[0m| 641/780 [01:19<00:16,  8.23it/s]"
          ]
        },
        {
          "output_type": "stream",
          "name": "stdout",
          "text": [
            "\n",
            "0: 384x640 18 persons, 4 cars, 23 motorcycles, 1 bus, 3 trucks, 1 backpack, 21.0ms\n",
            "Speed: 2.6ms preprocess, 21.0ms inference, 1.5ms postprocess per image at shape (1, 3, 384, 640)\n"
          ]
        },
        {
          "output_type": "stream",
          "name": "stderr",
          "text": [
            "\rProcessing frames:  82%|\u001b[32m████████▏ \u001b[0m| 642/780 [01:19<00:16,  8.15it/s]"
          ]
        },
        {
          "output_type": "stream",
          "name": "stdout",
          "text": [
            "\n",
            "0: 384x640 18 persons, 2 cars, 23 motorcycles, 1 bus, 4 trucks, 1 backpack, 22.6ms\n",
            "Speed: 2.5ms preprocess, 22.6ms inference, 1.5ms postprocess per image at shape (1, 3, 384, 640)\n"
          ]
        },
        {
          "output_type": "stream",
          "name": "stderr",
          "text": [
            "\rProcessing frames:  82%|\u001b[32m████████▏ \u001b[0m| 643/780 [01:19<00:16,  8.16it/s]"
          ]
        },
        {
          "output_type": "stream",
          "name": "stdout",
          "text": [
            "\n",
            "0: 384x640 18 persons, 2 cars, 23 motorcycles, 1 bus, 4 trucks, 1 backpack, 21.8ms\n",
            "Speed: 2.7ms preprocess, 21.8ms inference, 1.5ms postprocess per image at shape (1, 3, 384, 640)\n"
          ]
        },
        {
          "output_type": "stream",
          "name": "stderr",
          "text": [
            "\rProcessing frames:  83%|\u001b[32m████████▎ \u001b[0m| 644/780 [01:19<00:16,  8.19it/s]"
          ]
        },
        {
          "output_type": "stream",
          "name": "stdout",
          "text": [
            "\n",
            "0: 384x640 17 persons, 2 cars, 24 motorcycles, 1 bus, 4 trucks, 1 backpack, 21.9ms\n",
            "Speed: 2.7ms preprocess, 21.9ms inference, 1.5ms postprocess per image at shape (1, 3, 384, 640)\n"
          ]
        },
        {
          "output_type": "stream",
          "name": "stderr",
          "text": [
            "\rProcessing frames:  83%|\u001b[32m████████▎ \u001b[0m| 645/780 [01:19<00:16,  8.20it/s]"
          ]
        },
        {
          "output_type": "stream",
          "name": "stdout",
          "text": [
            "\n",
            "0: 384x640 17 persons, 4 cars, 24 motorcycles, 1 bus, 2 trucks, 1 backpack, 21.2ms\n",
            "Speed: 2.6ms preprocess, 21.2ms inference, 1.5ms postprocess per image at shape (1, 3, 384, 640)\n"
          ]
        },
        {
          "output_type": "stream",
          "name": "stderr",
          "text": [
            "\rProcessing frames:  83%|\u001b[32m████████▎ \u001b[0m| 646/780 [01:19<00:16,  8.20it/s]"
          ]
        },
        {
          "output_type": "stream",
          "name": "stdout",
          "text": [
            "\n",
            "0: 384x640 17 persons, 4 cars, 25 motorcycles, 1 bus, 2 trucks, 1 backpack, 21.3ms\n",
            "Speed: 2.8ms preprocess, 21.3ms inference, 1.4ms postprocess per image at shape (1, 3, 384, 640)\n"
          ]
        },
        {
          "output_type": "stream",
          "name": "stderr",
          "text": [
            "\rProcessing frames:  83%|\u001b[32m████████▎ \u001b[0m| 647/780 [01:19<00:16,  8.16it/s]"
          ]
        },
        {
          "output_type": "stream",
          "name": "stdout",
          "text": [
            "\n",
            "0: 384x640 17 persons, 4 cars, 25 motorcycles, 1 bus, 3 trucks, 1 backpack, 21.8ms\n",
            "Speed: 2.6ms preprocess, 21.8ms inference, 1.5ms postprocess per image at shape (1, 3, 384, 640)\n"
          ]
        },
        {
          "output_type": "stream",
          "name": "stderr",
          "text": [
            "\rProcessing frames:  83%|\u001b[32m████████▎ \u001b[0m| 648/780 [01:19<00:16,  8.18it/s]"
          ]
        },
        {
          "output_type": "stream",
          "name": "stdout",
          "text": [
            "\n",
            "0: 384x640 18 persons, 5 cars, 23 motorcycles, 1 bus, 3 trucks, 1 backpack, 23.3ms\n",
            "Speed: 3.7ms preprocess, 23.3ms inference, 1.5ms postprocess per image at shape (1, 3, 384, 640)\n"
          ]
        },
        {
          "output_type": "stream",
          "name": "stderr",
          "text": [
            "\rProcessing frames:  83%|\u001b[32m████████▎ \u001b[0m| 649/780 [01:20<00:16,  8.00it/s]"
          ]
        },
        {
          "output_type": "stream",
          "name": "stdout",
          "text": [
            "\n",
            "0: 384x640 18 persons, 5 cars, 23 motorcycles, 1 bus, 3 trucks, 1 backpack, 23.1ms\n",
            "Speed: 3.7ms preprocess, 23.1ms inference, 1.5ms postprocess per image at shape (1, 3, 384, 640)\n"
          ]
        },
        {
          "output_type": "stream",
          "name": "stderr",
          "text": [
            "\rProcessing frames:  83%|\u001b[32m████████▎ \u001b[0m| 650/780 [01:20<00:16,  8.00it/s]"
          ]
        },
        {
          "output_type": "stream",
          "name": "stdout",
          "text": [
            "\n",
            "0: 384x640 18 persons, 4 cars, 24 motorcycles, 1 bus, 2 trucks, 1 backpack, 22.5ms\n",
            "Speed: 2.5ms preprocess, 22.5ms inference, 1.5ms postprocess per image at shape (1, 3, 384, 640)\n"
          ]
        },
        {
          "output_type": "stream",
          "name": "stderr",
          "text": [
            "\rProcessing frames:  83%|\u001b[32m████████▎ \u001b[0m| 651/780 [01:20<00:16,  8.05it/s]"
          ]
        },
        {
          "output_type": "stream",
          "name": "stdout",
          "text": [
            "\n",
            "0: 384x640 18 persons, 4 cars, 25 motorcycles, 1 bus, 3 trucks, 2 backpacks, 21.9ms\n",
            "Speed: 2.4ms preprocess, 21.9ms inference, 1.5ms postprocess per image at shape (1, 3, 384, 640)\n"
          ]
        },
        {
          "output_type": "stream",
          "name": "stderr",
          "text": [
            "\rProcessing frames:  84%|\u001b[32m████████▎ \u001b[0m| 652/780 [01:20<00:15,  8.06it/s]"
          ]
        },
        {
          "output_type": "stream",
          "name": "stdout",
          "text": [
            "\n",
            "0: 384x640 18 persons, 4 cars, 24 motorcycles, 1 bus, 3 trucks, 2 backpacks, 25.1ms\n",
            "Speed: 3.8ms preprocess, 25.1ms inference, 1.5ms postprocess per image at shape (1, 3, 384, 640)\n"
          ]
        },
        {
          "output_type": "stream",
          "name": "stderr",
          "text": [
            "\rProcessing frames:  84%|\u001b[32m████████▎ \u001b[0m| 653/780 [01:20<00:15,  7.98it/s]"
          ]
        },
        {
          "output_type": "stream",
          "name": "stdout",
          "text": [
            "\n",
            "0: 384x640 18 persons, 3 cars, 25 motorcycles, 1 bus, 4 trucks, 1 backpack, 21.7ms\n",
            "Speed: 3.7ms preprocess, 21.7ms inference, 1.5ms postprocess per image at shape (1, 3, 384, 640)\n"
          ]
        },
        {
          "output_type": "stream",
          "name": "stderr",
          "text": [
            "\rProcessing frames:  84%|\u001b[32m████████▍ \u001b[0m| 654/780 [01:20<00:15,  8.01it/s]"
          ]
        },
        {
          "output_type": "stream",
          "name": "stdout",
          "text": [
            "\n",
            "0: 384x640 19 persons, 3 cars, 25 motorcycles, 1 bus, 5 trucks, 1 backpack, 21.7ms\n",
            "Speed: 2.7ms preprocess, 21.7ms inference, 1.4ms postprocess per image at shape (1, 3, 384, 640)\n"
          ]
        },
        {
          "output_type": "stream",
          "name": "stderr",
          "text": [
            "\rProcessing frames:  84%|\u001b[32m████████▍ \u001b[0m| 655/780 [01:20<00:15,  7.93it/s]"
          ]
        },
        {
          "output_type": "stream",
          "name": "stdout",
          "text": [
            "\n",
            "0: 384x640 19 persons, 4 cars, 24 motorcycles, 1 bus, 4 trucks, 1 backpack, 21.5ms\n",
            "Speed: 2.5ms preprocess, 21.5ms inference, 1.5ms postprocess per image at shape (1, 3, 384, 640)\n"
          ]
        },
        {
          "output_type": "stream",
          "name": "stderr",
          "text": [
            "\rProcessing frames:  84%|\u001b[32m████████▍ \u001b[0m| 656/780 [01:20<00:15,  7.99it/s]"
          ]
        },
        {
          "output_type": "stream",
          "name": "stdout",
          "text": [
            "\n",
            "0: 384x640 19 persons, 4 cars, 25 motorcycles, 1 bus, 2 trucks, 1 backpack, 21.2ms\n",
            "Speed: 2.7ms preprocess, 21.2ms inference, 1.6ms postprocess per image at shape (1, 3, 384, 640)\n"
          ]
        },
        {
          "output_type": "stream",
          "name": "stderr",
          "text": [
            "\rProcessing frames:  84%|\u001b[32m████████▍ \u001b[0m| 657/780 [01:21<00:15,  8.06it/s]"
          ]
        },
        {
          "output_type": "stream",
          "name": "stdout",
          "text": [
            "\n",
            "0: 384x640 19 persons, 4 cars, 26 motorcycles, 1 bus, 2 trucks, 1 backpack, 21.5ms\n",
            "Speed: 2.9ms preprocess, 21.5ms inference, 1.5ms postprocess per image at shape (1, 3, 384, 640)\n"
          ]
        },
        {
          "output_type": "stream",
          "name": "stderr",
          "text": [
            "\rProcessing frames:  84%|\u001b[32m████████▍ \u001b[0m| 658/780 [01:21<00:15,  8.06it/s]"
          ]
        },
        {
          "output_type": "stream",
          "name": "stdout",
          "text": [
            "\n",
            "0: 384x640 20 persons, 4 cars, 27 motorcycles, 1 bus, 2 trucks, 1 backpack, 22.0ms\n",
            "Speed: 2.5ms preprocess, 22.0ms inference, 1.5ms postprocess per image at shape (1, 3, 384, 640)\n"
          ]
        },
        {
          "output_type": "stream",
          "name": "stderr",
          "text": [
            "\rProcessing frames:  84%|\u001b[32m████████▍ \u001b[0m| 659/780 [01:21<00:15,  8.06it/s]"
          ]
        },
        {
          "output_type": "stream",
          "name": "stdout",
          "text": [
            "\n",
            "0: 384x640 20 persons, 4 cars, 28 motorcycles, 1 bus, 2 trucks, 1 backpack, 21.4ms\n",
            "Speed: 2.7ms preprocess, 21.4ms inference, 1.5ms postprocess per image at shape (1, 3, 384, 640)\n"
          ]
        },
        {
          "output_type": "stream",
          "name": "stderr",
          "text": [
            "\rProcessing frames:  85%|\u001b[32m████████▍ \u001b[0m| 660/780 [01:21<00:14,  8.06it/s]"
          ]
        },
        {
          "output_type": "stream",
          "name": "stdout",
          "text": [
            "\n",
            "0: 384x640 19 persons, 4 cars, 28 motorcycles, 1 bus, 2 trucks, 1 backpack, 21.8ms\n",
            "Speed: 2.6ms preprocess, 21.8ms inference, 1.5ms postprocess per image at shape (1, 3, 384, 640)\n"
          ]
        },
        {
          "output_type": "stream",
          "name": "stderr",
          "text": [
            "\rProcessing frames:  85%|\u001b[32m████████▍ \u001b[0m| 661/780 [01:21<00:14,  8.03it/s]"
          ]
        },
        {
          "output_type": "stream",
          "name": "stdout",
          "text": [
            "\n",
            "0: 384x640 19 persons, 4 cars, 28 motorcycles, 1 bus, 2 trucks, 1 backpack, 22.1ms\n",
            "Speed: 3.5ms preprocess, 22.1ms inference, 1.5ms postprocess per image at shape (1, 3, 384, 640)\n"
          ]
        },
        {
          "output_type": "stream",
          "name": "stderr",
          "text": [
            "\rProcessing frames:  85%|\u001b[32m████████▍ \u001b[0m| 662/780 [01:21<00:14,  8.03it/s]"
          ]
        },
        {
          "output_type": "stream",
          "name": "stdout",
          "text": [
            "\n",
            "0: 384x640 19 persons, 4 cars, 26 motorcycles, 1 bus, 2 trucks, 1 backpack, 22.9ms\n",
            "Speed: 2.9ms preprocess, 22.9ms inference, 1.5ms postprocess per image at shape (1, 3, 384, 640)\n"
          ]
        },
        {
          "output_type": "stream",
          "name": "stderr",
          "text": [
            "\rProcessing frames:  85%|\u001b[32m████████▌ \u001b[0m| 663/780 [01:21<00:14,  8.05it/s]"
          ]
        },
        {
          "output_type": "stream",
          "name": "stdout",
          "text": [
            "\n",
            "0: 384x640 19 persons, 4 cars, 27 motorcycles, 1 bus, 2 trucks, 1 backpack, 22.3ms\n",
            "Speed: 3.7ms preprocess, 22.3ms inference, 1.5ms postprocess per image at shape (1, 3, 384, 640)\n"
          ]
        },
        {
          "output_type": "stream",
          "name": "stderr",
          "text": [
            "\rProcessing frames:  85%|\u001b[32m████████▌ \u001b[0m| 664/780 [01:21<00:14,  8.03it/s]"
          ]
        },
        {
          "output_type": "stream",
          "name": "stdout",
          "text": [
            "\n",
            "0: 384x640 19 persons, 4 cars, 26 motorcycles, 1 bus, 2 trucks, 1 backpack, 21.5ms\n",
            "Speed: 2.9ms preprocess, 21.5ms inference, 1.5ms postprocess per image at shape (1, 3, 384, 640)\n"
          ]
        },
        {
          "output_type": "stream",
          "name": "stderr",
          "text": [
            "\rProcessing frames:  85%|\u001b[32m████████▌ \u001b[0m| 665/780 [01:22<00:14,  8.07it/s]"
          ]
        },
        {
          "output_type": "stream",
          "name": "stdout",
          "text": [
            "\n",
            "0: 384x640 19 persons, 4 cars, 27 motorcycles, 1 bus, 2 trucks, 1 backpack, 22.1ms\n",
            "Speed: 3.8ms preprocess, 22.1ms inference, 1.5ms postprocess per image at shape (1, 3, 384, 640)\n"
          ]
        },
        {
          "output_type": "stream",
          "name": "stderr",
          "text": [
            "\rProcessing frames:  85%|\u001b[32m████████▌ \u001b[0m| 666/780 [01:22<00:14,  8.02it/s]"
          ]
        },
        {
          "output_type": "stream",
          "name": "stdout",
          "text": [
            "\n",
            "0: 384x640 20 persons, 4 cars, 26 motorcycles, 1 bus, 3 trucks, 1 backpack, 22.5ms\n",
            "Speed: 2.5ms preprocess, 22.5ms inference, 1.6ms postprocess per image at shape (1, 3, 384, 640)\n"
          ]
        },
        {
          "output_type": "stream",
          "name": "stderr",
          "text": [
            "\rProcessing frames:  86%|\u001b[32m████████▌ \u001b[0m| 667/780 [01:22<00:14,  8.01it/s]"
          ]
        },
        {
          "output_type": "stream",
          "name": "stdout",
          "text": [
            "\n",
            "0: 384x640 19 persons, 4 cars, 26 motorcycles, 1 bus, 3 trucks, 1 backpack, 24.0ms\n",
            "Speed: 3.7ms preprocess, 24.0ms inference, 1.5ms postprocess per image at shape (1, 3, 384, 640)\n"
          ]
        },
        {
          "output_type": "stream",
          "name": "stderr",
          "text": [
            "\rProcessing frames:  86%|\u001b[32m████████▌ \u001b[0m| 668/780 [01:22<00:14,  7.97it/s]"
          ]
        },
        {
          "output_type": "stream",
          "name": "stdout",
          "text": [
            "\n",
            "0: 384x640 19 persons, 4 cars, 25 motorcycles, 1 bus, 3 trucks, 1 backpack, 21.6ms\n",
            "Speed: 2.6ms preprocess, 21.6ms inference, 1.5ms postprocess per image at shape (1, 3, 384, 640)\n"
          ]
        },
        {
          "output_type": "stream",
          "name": "stderr",
          "text": [
            "\rProcessing frames:  86%|\u001b[32m████████▌ \u001b[0m| 669/780 [01:22<00:13,  8.02it/s]"
          ]
        },
        {
          "output_type": "stream",
          "name": "stdout",
          "text": [
            "\n",
            "0: 384x640 18 persons, 4 cars, 25 motorcycles, 1 bus, 3 trucks, 1 backpack, 24.0ms\n",
            "Speed: 3.0ms preprocess, 24.0ms inference, 1.5ms postprocess per image at shape (1, 3, 384, 640)\n"
          ]
        },
        {
          "output_type": "stream",
          "name": "stderr",
          "text": [
            "\rProcessing frames:  86%|\u001b[32m████████▌ \u001b[0m| 670/780 [01:22<00:13,  8.04it/s]"
          ]
        },
        {
          "output_type": "stream",
          "name": "stdout",
          "text": [
            "\n",
            "0: 384x640 18 persons, 4 cars, 27 motorcycles, 1 bus, 3 trucks, 1 backpack, 24.0ms\n",
            "Speed: 2.6ms preprocess, 24.0ms inference, 1.5ms postprocess per image at shape (1, 3, 384, 640)\n"
          ]
        },
        {
          "output_type": "stream",
          "name": "stderr",
          "text": [
            "\rProcessing frames:  86%|\u001b[32m████████▌ \u001b[0m| 671/780 [01:22<00:13,  8.02it/s]"
          ]
        },
        {
          "output_type": "stream",
          "name": "stdout",
          "text": [
            "\n",
            "0: 384x640 18 persons, 4 cars, 25 motorcycles, 1 bus, 3 trucks, 1 backpack, 22.2ms\n",
            "Speed: 2.6ms preprocess, 22.2ms inference, 1.5ms postprocess per image at shape (1, 3, 384, 640)\n"
          ]
        },
        {
          "output_type": "stream",
          "name": "stderr",
          "text": [
            "\rProcessing frames:  86%|\u001b[32m████████▌ \u001b[0m| 672/780 [01:22<00:13,  8.07it/s]"
          ]
        },
        {
          "output_type": "stream",
          "name": "stdout",
          "text": [
            "\n",
            "0: 384x640 17 persons, 4 cars, 26 motorcycles, 1 bus, 3 trucks, 1 backpack, 21.1ms\n",
            "Speed: 2.6ms preprocess, 21.1ms inference, 1.5ms postprocess per image at shape (1, 3, 384, 640)\n"
          ]
        },
        {
          "output_type": "stream",
          "name": "stderr",
          "text": [
            "\rProcessing frames:  86%|\u001b[32m████████▋ \u001b[0m| 673/780 [01:23<00:13,  8.09it/s]"
          ]
        },
        {
          "output_type": "stream",
          "name": "stdout",
          "text": [
            "\n",
            "0: 384x640 17 persons, 5 cars, 26 motorcycles, 1 bus, 2 trucks, 1 backpack, 23.2ms\n",
            "Speed: 2.8ms preprocess, 23.2ms inference, 1.5ms postprocess per image at shape (1, 3, 384, 640)\n"
          ]
        },
        {
          "output_type": "stream",
          "name": "stderr",
          "text": [
            "\rProcessing frames:  86%|\u001b[32m████████▋ \u001b[0m| 674/780 [01:23<00:13,  7.96it/s]"
          ]
        },
        {
          "output_type": "stream",
          "name": "stdout",
          "text": [
            "\n",
            "0: 384x640 17 persons, 5 cars, 26 motorcycles, 1 bus, 2 trucks, 22.0ms\n",
            "Speed: 2.5ms preprocess, 22.0ms inference, 1.5ms postprocess per image at shape (1, 3, 384, 640)\n"
          ]
        },
        {
          "output_type": "stream",
          "name": "stderr",
          "text": [
            "\rProcessing frames:  87%|\u001b[32m████████▋ \u001b[0m| 675/780 [01:23<00:13,  8.07it/s]"
          ]
        },
        {
          "output_type": "stream",
          "name": "stdout",
          "text": [
            "\n",
            "0: 384x640 19 persons, 5 cars, 26 motorcycles, 1 bus, 2 trucks, 21.5ms\n",
            "Speed: 2.6ms preprocess, 21.5ms inference, 1.5ms postprocess per image at shape (1, 3, 384, 640)\n"
          ]
        },
        {
          "output_type": "stream",
          "name": "stderr",
          "text": [
            "\rProcessing frames:  87%|\u001b[32m████████▋ \u001b[0m| 676/780 [01:23<00:12,  8.02it/s]"
          ]
        },
        {
          "output_type": "stream",
          "name": "stdout",
          "text": [
            "\n",
            "0: 384x640 18 persons, 5 cars, 27 motorcycles, 1 bus, 2 trucks, 21.9ms\n",
            "Speed: 2.7ms preprocess, 21.9ms inference, 1.5ms postprocess per image at shape (1, 3, 384, 640)\n"
          ]
        },
        {
          "output_type": "stream",
          "name": "stderr",
          "text": [
            "\rProcessing frames:  87%|\u001b[32m████████▋ \u001b[0m| 677/780 [01:23<00:12,  8.07it/s]"
          ]
        },
        {
          "output_type": "stream",
          "name": "stdout",
          "text": [
            "\n",
            "0: 384x640 18 persons, 4 cars, 27 motorcycles, 1 bus, 3 trucks, 21.4ms\n",
            "Speed: 2.5ms preprocess, 21.4ms inference, 1.4ms postprocess per image at shape (1, 3, 384, 640)\n"
          ]
        },
        {
          "output_type": "stream",
          "name": "stderr",
          "text": [
            "\rProcessing frames:  87%|\u001b[32m████████▋ \u001b[0m| 678/780 [01:23<00:12,  8.12it/s]"
          ]
        },
        {
          "output_type": "stream",
          "name": "stdout",
          "text": [
            "\n",
            "0: 384x640 18 persons, 4 cars, 27 motorcycles, 1 bus, 3 trucks, 24.4ms\n",
            "Speed: 2.5ms preprocess, 24.4ms inference, 1.5ms postprocess per image at shape (1, 3, 384, 640)\n"
          ]
        },
        {
          "output_type": "stream",
          "name": "stderr",
          "text": [
            "\rProcessing frames:  87%|\u001b[32m████████▋ \u001b[0m| 679/780 [01:23<00:12,  7.99it/s]"
          ]
        },
        {
          "output_type": "stream",
          "name": "stdout",
          "text": [
            "\n",
            "0: 384x640 18 persons, 4 cars, 26 motorcycles, 1 bus, 3 trucks, 22.0ms\n",
            "Speed: 3.3ms preprocess, 22.0ms inference, 1.5ms postprocess per image at shape (1, 3, 384, 640)\n"
          ]
        },
        {
          "output_type": "stream",
          "name": "stderr",
          "text": [
            "\rProcessing frames:  87%|\u001b[32m████████▋ \u001b[0m| 680/780 [01:23<00:12,  7.94it/s]"
          ]
        },
        {
          "output_type": "stream",
          "name": "stdout",
          "text": [
            "\n",
            "0: 384x640 18 persons, 4 cars, 26 motorcycles, 1 bus, 3 trucks, 21.6ms\n",
            "Speed: 2.5ms preprocess, 21.6ms inference, 1.6ms postprocess per image at shape (1, 3, 384, 640)\n"
          ]
        },
        {
          "output_type": "stream",
          "name": "stderr",
          "text": [
            "\rProcessing frames:  87%|\u001b[32m████████▋ \u001b[0m| 681/780 [01:24<00:12,  7.97it/s]"
          ]
        },
        {
          "output_type": "stream",
          "name": "stdout",
          "text": [
            "\n",
            "0: 384x640 18 persons, 3 cars, 26 motorcycles, 1 bus, 2 trucks, 1 backpack, 20.9ms\n",
            "Speed: 2.6ms preprocess, 20.9ms inference, 1.5ms postprocess per image at shape (1, 3, 384, 640)\n"
          ]
        },
        {
          "output_type": "stream",
          "name": "stderr",
          "text": [
            "\rProcessing frames:  87%|\u001b[32m████████▋ \u001b[0m| 682/780 [01:24<00:12,  8.06it/s]"
          ]
        },
        {
          "output_type": "stream",
          "name": "stdout",
          "text": [
            "\n",
            "0: 384x640 18 persons, 3 cars, 24 motorcycles, 1 bus, 3 trucks, 1 backpack, 21.9ms\n",
            "Speed: 2.6ms preprocess, 21.9ms inference, 1.5ms postprocess per image at shape (1, 3, 384, 640)\n"
          ]
        },
        {
          "output_type": "stream",
          "name": "stderr",
          "text": [
            "\rProcessing frames:  88%|\u001b[32m████████▊ \u001b[0m| 683/780 [01:24<00:12,  8.04it/s]"
          ]
        },
        {
          "output_type": "stream",
          "name": "stdout",
          "text": [
            "\n",
            "0: 384x640 18 persons, 3 cars, 24 motorcycles, 1 bus, 4 trucks, 1 backpack, 21.4ms\n",
            "Speed: 2.4ms preprocess, 21.4ms inference, 1.5ms postprocess per image at shape (1, 3, 384, 640)\n"
          ]
        },
        {
          "output_type": "stream",
          "name": "stderr",
          "text": [
            "\rProcessing frames:  88%|\u001b[32m████████▊ \u001b[0m| 684/780 [01:24<00:11,  8.17it/s]"
          ]
        },
        {
          "output_type": "stream",
          "name": "stdout",
          "text": [
            "\n",
            "0: 384x640 18 persons, 3 cars, 25 motorcycles, 1 bus, 4 trucks, 1 backpack, 20.9ms\n",
            "Speed: 2.4ms preprocess, 20.9ms inference, 1.5ms postprocess per image at shape (1, 3, 384, 640)\n"
          ]
        },
        {
          "output_type": "stream",
          "name": "stderr",
          "text": [
            "\rProcessing frames:  88%|\u001b[32m████████▊ \u001b[0m| 685/780 [01:24<00:11,  8.07it/s]"
          ]
        },
        {
          "output_type": "stream",
          "name": "stdout",
          "text": [
            "\n",
            "0: 384x640 18 persons, 3 cars, 25 motorcycles, 1 bus, 4 trucks, 1 backpack, 23.7ms\n",
            "Speed: 2.5ms preprocess, 23.7ms inference, 1.6ms postprocess per image at shape (1, 3, 384, 640)\n"
          ]
        },
        {
          "output_type": "stream",
          "name": "stderr",
          "text": [
            "\rProcessing frames:  88%|\u001b[32m████████▊ \u001b[0m| 686/780 [01:24<00:11,  8.07it/s]"
          ]
        },
        {
          "output_type": "stream",
          "name": "stdout",
          "text": [
            "\n",
            "0: 384x640 18 persons, 3 cars, 25 motorcycles, 1 bus, 4 trucks, 1 backpack, 22.5ms\n",
            "Speed: 2.5ms preprocess, 22.5ms inference, 1.5ms postprocess per image at shape (1, 3, 384, 640)\n"
          ]
        },
        {
          "output_type": "stream",
          "name": "stderr",
          "text": [
            "\rProcessing frames:  88%|\u001b[32m████████▊ \u001b[0m| 687/780 [01:24<00:11,  7.97it/s]"
          ]
        },
        {
          "output_type": "stream",
          "name": "stdout",
          "text": [
            "\n",
            "0: 384x640 18 persons, 3 cars, 25 motorcycles, 1 bus, 4 trucks, 1 backpack, 21.2ms\n",
            "Speed: 2.6ms preprocess, 21.2ms inference, 1.4ms postprocess per image at shape (1, 3, 384, 640)\n"
          ]
        },
        {
          "output_type": "stream",
          "name": "stderr",
          "text": [
            "\rProcessing frames:  88%|\u001b[32m████████▊ \u001b[0m| 688/780 [01:24<00:11,  8.06it/s]"
          ]
        },
        {
          "output_type": "stream",
          "name": "stdout",
          "text": [
            "\n",
            "0: 384x640 18 persons, 3 cars, 24 motorcycles, 1 bus, 4 trucks, 1 backpack, 21.7ms\n",
            "Speed: 2.6ms preprocess, 21.7ms inference, 1.5ms postprocess per image at shape (1, 3, 384, 640)\n"
          ]
        },
        {
          "output_type": "stream",
          "name": "stderr",
          "text": [
            "\rProcessing frames:  88%|\u001b[32m████████▊ \u001b[0m| 689/780 [01:25<00:11,  8.15it/s]"
          ]
        },
        {
          "output_type": "stream",
          "name": "stdout",
          "text": [
            "\n",
            "0: 384x640 18 persons, 3 cars, 24 motorcycles, 1 bus, 4 trucks, 1 backpack, 21.4ms\n",
            "Speed: 2.6ms preprocess, 21.4ms inference, 1.6ms postprocess per image at shape (1, 3, 384, 640)\n"
          ]
        },
        {
          "output_type": "stream",
          "name": "stderr",
          "text": [
            "\rProcessing frames:  88%|\u001b[32m████████▊ \u001b[0m| 690/780 [01:25<00:10,  8.20it/s]"
          ]
        },
        {
          "output_type": "stream",
          "name": "stdout",
          "text": [
            "\n",
            "0: 384x640 18 persons, 4 cars, 23 motorcycles, 1 bus, 3 trucks, 1 backpack, 22.7ms\n",
            "Speed: 2.9ms preprocess, 22.7ms inference, 1.5ms postprocess per image at shape (1, 3, 384, 640)\n"
          ]
        },
        {
          "output_type": "stream",
          "name": "stderr",
          "text": [
            "\rProcessing frames:  89%|\u001b[32m████████▊ \u001b[0m| 691/780 [01:25<00:10,  8.24it/s]"
          ]
        },
        {
          "output_type": "stream",
          "name": "stdout",
          "text": [
            "\n",
            "0: 384x640 18 persons, 4 cars, 24 motorcycles, 1 bus, 3 trucks, 1 backpack, 20.9ms\n",
            "Speed: 2.8ms preprocess, 20.9ms inference, 1.4ms postprocess per image at shape (1, 3, 384, 640)\n"
          ]
        },
        {
          "output_type": "stream",
          "name": "stderr",
          "text": [
            "\rProcessing frames:  89%|\u001b[32m████████▊ \u001b[0m| 692/780 [01:25<00:10,  8.30it/s]"
          ]
        },
        {
          "output_type": "stream",
          "name": "stdout",
          "text": [
            "\n",
            "0: 384x640 18 persons, 5 cars, 24 motorcycles, 1 bus, 2 trucks, 1 backpack, 22.8ms\n",
            "Speed: 2.7ms preprocess, 22.8ms inference, 1.5ms postprocess per image at shape (1, 3, 384, 640)\n"
          ]
        },
        {
          "output_type": "stream",
          "name": "stderr",
          "text": [
            "\rProcessing frames:  89%|\u001b[32m████████▉ \u001b[0m| 693/780 [01:25<00:10,  8.29it/s]"
          ]
        },
        {
          "output_type": "stream",
          "name": "stdout",
          "text": [
            "\n",
            "0: 384x640 18 persons, 5 cars, 26 motorcycles, 1 bus, 2 trucks, 1 backpack, 21.9ms\n",
            "Speed: 2.9ms preprocess, 21.9ms inference, 1.7ms postprocess per image at shape (1, 3, 384, 640)\n"
          ]
        },
        {
          "output_type": "stream",
          "name": "stderr",
          "text": [
            "\rProcessing frames:  89%|\u001b[32m████████▉ \u001b[0m| 694/780 [01:25<00:10,  8.24it/s]"
          ]
        },
        {
          "output_type": "stream",
          "name": "stdout",
          "text": [
            "\n",
            "0: 384x640 18 persons, 5 cars, 23 motorcycles, 1 bus, 2 trucks, 1 backpack, 22.4ms\n",
            "Speed: 2.6ms preprocess, 22.4ms inference, 1.5ms postprocess per image at shape (1, 3, 384, 640)\n"
          ]
        },
        {
          "output_type": "stream",
          "name": "stderr",
          "text": [
            "\rProcessing frames:  89%|\u001b[32m████████▉ \u001b[0m| 695/780 [01:25<00:10,  8.27it/s]"
          ]
        },
        {
          "output_type": "stream",
          "name": "stdout",
          "text": [
            "\n",
            "0: 384x640 17 persons, 5 cars, 25 motorcycles, 1 bus, 2 trucks, 1 backpack, 21.3ms\n",
            "Speed: 2.5ms preprocess, 21.3ms inference, 1.6ms postprocess per image at shape (1, 3, 384, 640)\n"
          ]
        },
        {
          "output_type": "stream",
          "name": "stderr",
          "text": [
            "\rProcessing frames:  89%|\u001b[32m████████▉ \u001b[0m| 696/780 [01:25<00:10,  8.29it/s]"
          ]
        },
        {
          "output_type": "stream",
          "name": "stdout",
          "text": [
            "\n",
            "0: 384x640 17 persons, 5 cars, 25 motorcycles, 1 bus, 2 trucks, 1 backpack, 22.7ms\n",
            "Speed: 3.7ms preprocess, 22.7ms inference, 1.6ms postprocess per image at shape (1, 3, 384, 640)\n"
          ]
        },
        {
          "output_type": "stream",
          "name": "stderr",
          "text": [
            "\rProcessing frames:  89%|\u001b[32m████████▉ \u001b[0m| 697/780 [01:26<00:10,  8.17it/s]"
          ]
        },
        {
          "output_type": "stream",
          "name": "stdout",
          "text": [
            "\n",
            "0: 384x640 17 persons, 4 cars, 24 motorcycles, 1 bus, 3 trucks, 1 backpack, 22.0ms\n",
            "Speed: 3.9ms preprocess, 22.0ms inference, 1.5ms postprocess per image at shape (1, 3, 384, 640)\n"
          ]
        },
        {
          "output_type": "stream",
          "name": "stderr",
          "text": [
            "\rProcessing frames:  89%|\u001b[32m████████▉ \u001b[0m| 698/780 [01:26<00:10,  8.08it/s]"
          ]
        },
        {
          "output_type": "stream",
          "name": "stdout",
          "text": [
            "\n",
            "0: 384x640 17 persons, 4 cars, 24 motorcycles, 1 bus, 2 trucks, 1 backpack, 21.3ms\n",
            "Speed: 2.5ms preprocess, 21.3ms inference, 1.5ms postprocess per image at shape (1, 3, 384, 640)\n"
          ]
        },
        {
          "output_type": "stream",
          "name": "stderr",
          "text": [
            "\rProcessing frames:  90%|\u001b[32m████████▉ \u001b[0m| 699/780 [01:26<00:09,  8.16it/s]"
          ]
        },
        {
          "output_type": "stream",
          "name": "stdout",
          "text": [
            "\n",
            "0: 384x640 17 persons, 4 cars, 24 motorcycles, 1 bus, 2 trucks, 1 backpack, 21.4ms\n",
            "Speed: 2.8ms preprocess, 21.4ms inference, 1.5ms postprocess per image at shape (1, 3, 384, 640)\n"
          ]
        },
        {
          "output_type": "stream",
          "name": "stderr",
          "text": [
            "\rProcessing frames:  90%|\u001b[32m████████▉ \u001b[0m| 700/780 [01:26<00:09,  8.25it/s]"
          ]
        },
        {
          "output_type": "stream",
          "name": "stdout",
          "text": [
            "\n",
            "0: 384x640 17 persons, 4 cars, 26 motorcycles, 1 bus, 2 trucks, 1 backpack, 23.3ms\n",
            "Speed: 2.6ms preprocess, 23.3ms inference, 1.6ms postprocess per image at shape (1, 3, 384, 640)\n"
          ]
        },
        {
          "output_type": "stream",
          "name": "stderr",
          "text": [
            "\rProcessing frames:  90%|\u001b[32m████████▉ \u001b[0m| 701/780 [01:26<00:09,  8.22it/s]"
          ]
        },
        {
          "output_type": "stream",
          "name": "stdout",
          "text": [
            "\n",
            "0: 384x640 17 persons, 4 cars, 25 motorcycles, 1 bus, 2 trucks, 1 backpack, 21.8ms\n",
            "Speed: 2.6ms preprocess, 21.8ms inference, 1.5ms postprocess per image at shape (1, 3, 384, 640)\n"
          ]
        },
        {
          "output_type": "stream",
          "name": "stderr",
          "text": [
            "\rProcessing frames:  90%|\u001b[32m█████████ \u001b[0m| 702/780 [01:26<00:09,  8.23it/s]"
          ]
        },
        {
          "output_type": "stream",
          "name": "stdout",
          "text": [
            "\n",
            "0: 384x640 17 persons, 4 cars, 25 motorcycles, 1 bus, 2 trucks, 1 backpack, 22.1ms\n",
            "Speed: 2.8ms preprocess, 22.1ms inference, 1.5ms postprocess per image at shape (1, 3, 384, 640)\n"
          ]
        },
        {
          "output_type": "stream",
          "name": "stderr",
          "text": [
            "\rProcessing frames:  90%|\u001b[32m█████████ \u001b[0m| 703/780 [01:26<00:09,  8.23it/s]"
          ]
        },
        {
          "output_type": "stream",
          "name": "stdout",
          "text": [
            "\n",
            "0: 384x640 17 persons, 4 cars, 25 motorcycles, 1 bus, 2 trucks, 1 backpack, 22.4ms\n",
            "Speed: 2.8ms preprocess, 22.4ms inference, 1.6ms postprocess per image at shape (1, 3, 384, 640)\n"
          ]
        },
        {
          "output_type": "stream",
          "name": "stderr",
          "text": [
            "\rProcessing frames:  90%|\u001b[32m█████████ \u001b[0m| 704/780 [01:26<00:09,  8.24it/s]"
          ]
        },
        {
          "output_type": "stream",
          "name": "stdout",
          "text": [
            "\n",
            "0: 384x640 17 persons, 4 cars, 25 motorcycles, 1 bus, 2 trucks, 23.6ms\n",
            "Speed: 2.5ms preprocess, 23.6ms inference, 1.6ms postprocess per image at shape (1, 3, 384, 640)\n"
          ]
        },
        {
          "output_type": "stream",
          "name": "stderr",
          "text": [
            "\rProcessing frames:  90%|\u001b[32m█████████ \u001b[0m| 705/780 [01:27<00:09,  8.23it/s]"
          ]
        },
        {
          "output_type": "stream",
          "name": "stdout",
          "text": [
            "\n",
            "0: 384x640 17 persons, 4 cars, 25 motorcycles, 1 bus, 2 trucks, 22.5ms\n",
            "Speed: 3.8ms preprocess, 22.5ms inference, 1.6ms postprocess per image at shape (1, 3, 384, 640)\n"
          ]
        },
        {
          "output_type": "stream",
          "name": "stderr",
          "text": [
            "\rProcessing frames:  91%|\u001b[32m█████████ \u001b[0m| 706/780 [01:27<00:09,  8.12it/s]"
          ]
        },
        {
          "output_type": "stream",
          "name": "stdout",
          "text": [
            "\n",
            "0: 384x640 17 persons, 4 cars, 25 motorcycles, 1 bus, 2 trucks, 22.1ms\n",
            "Speed: 2.6ms preprocess, 22.1ms inference, 1.5ms postprocess per image at shape (1, 3, 384, 640)\n"
          ]
        },
        {
          "output_type": "stream",
          "name": "stderr",
          "text": [
            "\rProcessing frames:  91%|\u001b[32m█████████ \u001b[0m| 707/780 [01:27<00:08,  8.15it/s]"
          ]
        },
        {
          "output_type": "stream",
          "name": "stdout",
          "text": [
            "\n",
            "0: 384x640 17 persons, 4 cars, 25 motorcycles, 1 bus, 2 trucks, 22.8ms\n",
            "Speed: 2.7ms preprocess, 22.8ms inference, 1.6ms postprocess per image at shape (1, 3, 384, 640)\n"
          ]
        },
        {
          "output_type": "stream",
          "name": "stderr",
          "text": [
            "\rProcessing frames:  91%|\u001b[32m█████████ \u001b[0m| 708/780 [01:27<00:08,  8.17it/s]"
          ]
        },
        {
          "output_type": "stream",
          "name": "stdout",
          "text": [
            "\n",
            "0: 384x640 17 persons, 4 cars, 24 motorcycles, 1 bus, 4 trucks, 1 backpack, 21.9ms\n",
            "Speed: 2.6ms preprocess, 21.9ms inference, 1.5ms postprocess per image at shape (1, 3, 384, 640)\n"
          ]
        },
        {
          "output_type": "stream",
          "name": "stderr",
          "text": [
            "\rProcessing frames:  91%|\u001b[32m█████████ \u001b[0m| 709/780 [01:27<00:08,  8.16it/s]"
          ]
        },
        {
          "output_type": "stream",
          "name": "stdout",
          "text": [
            "\n",
            "0: 384x640 17 persons, 5 cars, 22 motorcycles, 1 bus, 3 trucks, 1 backpack, 22.6ms\n",
            "Speed: 3.7ms preprocess, 22.6ms inference, 1.5ms postprocess per image at shape (1, 3, 384, 640)\n"
          ]
        },
        {
          "output_type": "stream",
          "name": "stderr",
          "text": [
            "\rProcessing frames:  91%|\u001b[32m█████████ \u001b[0m| 710/780 [01:27<00:08,  8.18it/s]"
          ]
        },
        {
          "output_type": "stream",
          "name": "stdout",
          "text": [
            "\n",
            "0: 384x640 17 persons, 5 cars, 23 motorcycles, 1 bus, 3 trucks, 1 backpack, 23.0ms\n",
            "Speed: 2.5ms preprocess, 23.0ms inference, 1.5ms postprocess per image at shape (1, 3, 384, 640)\n"
          ]
        },
        {
          "output_type": "stream",
          "name": "stderr",
          "text": [
            "\rProcessing frames:  91%|\u001b[32m█████████ \u001b[0m| 711/780 [01:27<00:08,  8.21it/s]"
          ]
        },
        {
          "output_type": "stream",
          "name": "stdout",
          "text": [
            "\n",
            "0: 384x640 17 persons, 5 cars, 24 motorcycles, 1 bus, 2 trucks, 1 backpack, 24.9ms\n",
            "Speed: 3.6ms preprocess, 24.9ms inference, 1.5ms postprocess per image at shape (1, 3, 384, 640)\n"
          ]
        },
        {
          "output_type": "stream",
          "name": "stderr",
          "text": [
            "\rProcessing frames:  91%|\u001b[32m█████████▏\u001b[0m| 712/780 [01:27<00:08,  8.16it/s]"
          ]
        },
        {
          "output_type": "stream",
          "name": "stdout",
          "text": [
            "\n",
            "0: 384x640 17 persons, 5 cars, 25 motorcycles, 1 bus, 2 trucks, 1 backpack, 21.9ms\n",
            "Speed: 2.7ms preprocess, 21.9ms inference, 1.5ms postprocess per image at shape (1, 3, 384, 640)\n"
          ]
        },
        {
          "output_type": "stream",
          "name": "stderr",
          "text": [
            "\rProcessing frames:  91%|\u001b[32m█████████▏\u001b[0m| 713/780 [01:28<00:08,  8.01it/s]"
          ]
        },
        {
          "output_type": "stream",
          "name": "stdout",
          "text": [
            "\n",
            "0: 384x640 17 persons, 5 cars, 23 motorcycles, 1 bus, 2 trucks, 1 backpack, 22.1ms\n",
            "Speed: 2.6ms preprocess, 22.1ms inference, 1.5ms postprocess per image at shape (1, 3, 384, 640)\n"
          ]
        },
        {
          "output_type": "stream",
          "name": "stderr",
          "text": [
            "\rProcessing frames:  92%|\u001b[32m█████████▏\u001b[0m| 714/780 [01:28<00:08,  8.07it/s]"
          ]
        },
        {
          "output_type": "stream",
          "name": "stdout",
          "text": [
            "\n",
            "0: 384x640 17 persons, 5 cars, 23 motorcycles, 1 bus, 2 trucks, 1 backpack, 24.5ms\n",
            "Speed: 2.8ms preprocess, 24.5ms inference, 1.5ms postprocess per image at shape (1, 3, 384, 640)\n"
          ]
        },
        {
          "output_type": "stream",
          "name": "stderr",
          "text": [
            "\rProcessing frames:  92%|\u001b[32m█████████▏\u001b[0m| 715/780 [01:28<00:08,  8.04it/s]"
          ]
        },
        {
          "output_type": "stream",
          "name": "stdout",
          "text": [
            "\n",
            "0: 384x640 17 persons, 4 cars, 25 motorcycles, 1 bus, 2 trucks, 1 backpack, 22.8ms\n",
            "Speed: 2.6ms preprocess, 22.8ms inference, 1.5ms postprocess per image at shape (1, 3, 384, 640)\n"
          ]
        },
        {
          "output_type": "stream",
          "name": "stderr",
          "text": [
            "\rProcessing frames:  92%|\u001b[32m█████████▏\u001b[0m| 716/780 [01:28<00:07,  8.09it/s]"
          ]
        },
        {
          "output_type": "stream",
          "name": "stdout",
          "text": [
            "\n",
            "0: 384x640 18 persons, 4 cars, 25 motorcycles, 1 bus, 3 trucks, 1 backpack, 21.9ms\n",
            "Speed: 2.7ms preprocess, 21.9ms inference, 1.5ms postprocess per image at shape (1, 3, 384, 640)\n"
          ]
        },
        {
          "output_type": "stream",
          "name": "stderr",
          "text": [
            "\rProcessing frames:  92%|\u001b[32m█████████▏\u001b[0m| 717/780 [01:28<00:07,  8.10it/s]"
          ]
        },
        {
          "output_type": "stream",
          "name": "stdout",
          "text": [
            "\n",
            "0: 384x640 18 persons, 4 cars, 24 motorcycles, 1 bus, 3 trucks, 1 backpack, 21.9ms\n",
            "Speed: 3.1ms preprocess, 21.9ms inference, 1.5ms postprocess per image at shape (1, 3, 384, 640)\n"
          ]
        },
        {
          "output_type": "stream",
          "name": "stderr",
          "text": [
            "\rProcessing frames:  92%|\u001b[32m█████████▏\u001b[0m| 718/780 [01:28<00:07,  8.10it/s]"
          ]
        },
        {
          "output_type": "stream",
          "name": "stdout",
          "text": [
            "\n",
            "0: 384x640 18 persons, 4 cars, 24 motorcycles, 1 bus, 3 trucks, 1 backpack, 22.1ms\n",
            "Speed: 3.1ms preprocess, 22.1ms inference, 1.5ms postprocess per image at shape (1, 3, 384, 640)\n"
          ]
        },
        {
          "output_type": "stream",
          "name": "stderr",
          "text": [
            "\rProcessing frames:  92%|\u001b[32m█████████▏\u001b[0m| 719/780 [01:28<00:07,  8.11it/s]"
          ]
        },
        {
          "output_type": "stream",
          "name": "stdout",
          "text": [
            "\n",
            "0: 384x640 18 persons, 5 cars, 23 motorcycles, 1 bus, 2 trucks, 1 backpack, 24.7ms\n",
            "Speed: 3.7ms preprocess, 24.7ms inference, 1.5ms postprocess per image at shape (1, 3, 384, 640)\n"
          ]
        },
        {
          "output_type": "stream",
          "name": "stderr",
          "text": [
            "\rProcessing frames:  92%|\u001b[32m█████████▏\u001b[0m| 720/780 [01:28<00:07,  8.09it/s]"
          ]
        },
        {
          "output_type": "stream",
          "name": "stdout",
          "text": [
            "\n",
            "0: 384x640 18 persons, 6 cars, 24 motorcycles, 1 bus, 2 trucks, 1 backpack, 22.3ms\n",
            "Speed: 3.5ms preprocess, 22.3ms inference, 1.5ms postprocess per image at shape (1, 3, 384, 640)\n"
          ]
        },
        {
          "output_type": "stream",
          "name": "stderr",
          "text": [
            "\rProcessing frames:  92%|\u001b[32m█████████▏\u001b[0m| 721/780 [01:29<00:07,  8.05it/s]"
          ]
        },
        {
          "output_type": "stream",
          "name": "stdout",
          "text": [
            "\n",
            "0: 384x640 18 persons, 6 cars, 24 motorcycles, 1 bus, 3 trucks, 1 backpack, 23.1ms\n",
            "Speed: 3.7ms preprocess, 23.1ms inference, 1.5ms postprocess per image at shape (1, 3, 384, 640)\n"
          ]
        },
        {
          "output_type": "stream",
          "name": "stderr",
          "text": [
            "\rProcessing frames:  93%|\u001b[32m█████████▎\u001b[0m| 722/780 [01:29<00:07,  8.03it/s]"
          ]
        },
        {
          "output_type": "stream",
          "name": "stdout",
          "text": [
            "\n",
            "0: 384x640 18 persons, 6 cars, 23 motorcycles, 1 bus, 2 trucks, 1 backpack, 22.5ms\n",
            "Speed: 2.7ms preprocess, 22.5ms inference, 1.5ms postprocess per image at shape (1, 3, 384, 640)\n"
          ]
        },
        {
          "output_type": "stream",
          "name": "stderr",
          "text": [
            "\rProcessing frames:  93%|\u001b[32m█████████▎\u001b[0m| 723/780 [01:29<00:07,  8.08it/s]"
          ]
        },
        {
          "output_type": "stream",
          "name": "stdout",
          "text": [
            "\n",
            "0: 384x640 18 persons, 6 cars, 23 motorcycles, 1 bus, 2 trucks, 1 backpack, 22.1ms\n",
            "Speed: 2.5ms preprocess, 22.1ms inference, 1.6ms postprocess per image at shape (1, 3, 384, 640)\n"
          ]
        },
        {
          "output_type": "stream",
          "name": "stderr",
          "text": [
            "\rProcessing frames:  93%|\u001b[32m█████████▎\u001b[0m| 724/780 [01:29<00:06,  8.15it/s]"
          ]
        },
        {
          "output_type": "stream",
          "name": "stdout",
          "text": [
            "\n",
            "0: 384x640 18 persons, 6 cars, 24 motorcycles, 1 bus, 2 trucks, 1 backpack, 21.4ms\n",
            "Speed: 2.6ms preprocess, 21.4ms inference, 1.5ms postprocess per image at shape (1, 3, 384, 640)\n"
          ]
        },
        {
          "output_type": "stream",
          "name": "stderr",
          "text": [
            "\rProcessing frames:  93%|\u001b[32m█████████▎\u001b[0m| 725/780 [01:29<00:06,  8.08it/s]"
          ]
        },
        {
          "output_type": "stream",
          "name": "stdout",
          "text": [
            "\n",
            "0: 384x640 18 persons, 4 cars, 23 motorcycles, 1 bus, 4 trucks, 1 backpack, 21.3ms\n",
            "Speed: 2.7ms preprocess, 21.3ms inference, 1.5ms postprocess per image at shape (1, 3, 384, 640)\n"
          ]
        },
        {
          "output_type": "stream",
          "name": "stderr",
          "text": [
            "\rProcessing frames:  93%|\u001b[32m█████████▎\u001b[0m| 726/780 [01:29<00:06,  8.13it/s]"
          ]
        },
        {
          "output_type": "stream",
          "name": "stdout",
          "text": [
            "\n",
            "0: 384x640 18 persons, 5 cars, 23 motorcycles, 1 bus, 4 trucks, 1 backpack, 21.5ms\n",
            "Speed: 2.5ms preprocess, 21.5ms inference, 1.5ms postprocess per image at shape (1, 3, 384, 640)\n"
          ]
        },
        {
          "output_type": "stream",
          "name": "stderr",
          "text": [
            "\rProcessing frames:  93%|\u001b[32m█████████▎\u001b[0m| 727/780 [01:29<00:06,  8.17it/s]"
          ]
        },
        {
          "output_type": "stream",
          "name": "stdout",
          "text": [
            "\n",
            "0: 384x640 18 persons, 5 cars, 23 motorcycles, 1 bus, 3 trucks, 1 backpack, 22.6ms\n",
            "Speed: 2.6ms preprocess, 22.6ms inference, 1.5ms postprocess per image at shape (1, 3, 384, 640)\n"
          ]
        },
        {
          "output_type": "stream",
          "name": "stderr",
          "text": [
            "\rProcessing frames:  93%|\u001b[32m█████████▎\u001b[0m| 728/780 [01:29<00:06,  8.05it/s]"
          ]
        },
        {
          "output_type": "stream",
          "name": "stdout",
          "text": [
            "\n",
            "0: 384x640 18 persons, 5 cars, 23 motorcycles, 1 bus, 3 trucks, 1 backpack, 22.1ms\n",
            "Speed: 2.5ms preprocess, 22.1ms inference, 1.5ms postprocess per image at shape (1, 3, 384, 640)\n"
          ]
        },
        {
          "output_type": "stream",
          "name": "stderr",
          "text": [
            "\rProcessing frames:  93%|\u001b[32m█████████▎\u001b[0m| 729/780 [01:29<00:06,  8.12it/s]"
          ]
        },
        {
          "output_type": "stream",
          "name": "stdout",
          "text": [
            "\n",
            "0: 384x640 19 persons, 5 cars, 23 motorcycles, 1 bus, 3 trucks, 1 backpack, 22.4ms\n",
            "Speed: 2.6ms preprocess, 22.4ms inference, 1.5ms postprocess per image at shape (1, 3, 384, 640)\n"
          ]
        },
        {
          "output_type": "stream",
          "name": "stderr",
          "text": [
            "\rProcessing frames:  94%|\u001b[32m█████████▎\u001b[0m| 730/780 [01:30<00:06,  8.11it/s]"
          ]
        },
        {
          "output_type": "stream",
          "name": "stdout",
          "text": [
            "\n",
            "0: 384x640 19 persons, 5 cars, 23 motorcycles, 1 bus, 4 trucks, 1 backpack, 22.2ms\n",
            "Speed: 2.5ms preprocess, 22.2ms inference, 1.5ms postprocess per image at shape (1, 3, 384, 640)\n"
          ]
        },
        {
          "output_type": "stream",
          "name": "stderr",
          "text": [
            "\rProcessing frames:  94%|\u001b[32m█████████▎\u001b[0m| 731/780 [01:30<00:06,  8.12it/s]"
          ]
        },
        {
          "output_type": "stream",
          "name": "stdout",
          "text": [
            "\n",
            "0: 384x640 19 persons, 5 cars, 23 motorcycles, 1 bus, 4 trucks, 1 stop sign, 1 backpack, 23.1ms\n",
            "Speed: 3.7ms preprocess, 23.1ms inference, 1.5ms postprocess per image at shape (1, 3, 384, 640)\n"
          ]
        },
        {
          "output_type": "stream",
          "name": "stderr",
          "text": [
            "\rProcessing frames:  94%|\u001b[32m█████████▍\u001b[0m| 732/780 [01:30<00:05,  8.05it/s]"
          ]
        },
        {
          "output_type": "stream",
          "name": "stdout",
          "text": [
            "\n",
            "0: 384x640 19 persons, 4 cars, 23 motorcycles, 1 bus, 4 trucks, 1 stop sign, 1 backpack, 21.4ms\n",
            "Speed: 2.5ms preprocess, 21.4ms inference, 1.5ms postprocess per image at shape (1, 3, 384, 640)\n"
          ]
        },
        {
          "output_type": "stream",
          "name": "stderr",
          "text": [
            "\rProcessing frames:  94%|\u001b[32m█████████▍\u001b[0m| 733/780 [01:30<00:05,  8.03it/s]"
          ]
        },
        {
          "output_type": "stream",
          "name": "stdout",
          "text": [
            "\n",
            "0: 384x640 19 persons, 3 cars, 23 motorcycles, 1 bus, 4 trucks, 1 stop sign, 1 backpack, 21.2ms\n",
            "Speed: 2.9ms preprocess, 21.2ms inference, 1.5ms postprocess per image at shape (1, 3, 384, 640)\n"
          ]
        },
        {
          "output_type": "stream",
          "name": "stderr",
          "text": [
            "\rProcessing frames:  94%|\u001b[32m█████████▍\u001b[0m| 734/780 [01:30<00:05,  8.10it/s]"
          ]
        },
        {
          "output_type": "stream",
          "name": "stdout",
          "text": [
            "\n",
            "0: 384x640 18 persons, 3 cars, 23 motorcycles, 1 bus, 4 trucks, 1 stop sign, 1 backpack, 21.1ms\n",
            "Speed: 2.5ms preprocess, 21.1ms inference, 1.5ms postprocess per image at shape (1, 3, 384, 640)\n"
          ]
        },
        {
          "output_type": "stream",
          "name": "stderr",
          "text": [
            "\rProcessing frames:  94%|\u001b[32m█████████▍\u001b[0m| 735/780 [01:30<00:05,  8.21it/s]"
          ]
        },
        {
          "output_type": "stream",
          "name": "stdout",
          "text": [
            "\n",
            "0: 384x640 18 persons, 4 cars, 23 motorcycles, 1 bus, 4 trucks, 1 stop sign, 1 backpack, 21.2ms\n",
            "Speed: 2.5ms preprocess, 21.2ms inference, 1.5ms postprocess per image at shape (1, 3, 384, 640)\n"
          ]
        },
        {
          "output_type": "stream",
          "name": "stderr",
          "text": [
            "\rProcessing frames:  94%|\u001b[32m█████████▍\u001b[0m| 736/780 [01:30<00:05,  8.26it/s]"
          ]
        },
        {
          "output_type": "stream",
          "name": "stdout",
          "text": [
            "\n",
            "0: 384x640 18 persons, 5 cars, 23 motorcycles, 1 bus, 3 trucks, 1 stop sign, 22.0ms\n",
            "Speed: 2.7ms preprocess, 22.0ms inference, 1.4ms postprocess per image at shape (1, 3, 384, 640)\n"
          ]
        },
        {
          "output_type": "stream",
          "name": "stderr",
          "text": [
            "\rProcessing frames:  94%|\u001b[32m█████████▍\u001b[0m| 737/780 [01:30<00:05,  8.28it/s]"
          ]
        },
        {
          "output_type": "stream",
          "name": "stdout",
          "text": [
            "\n",
            "0: 384x640 18 persons, 5 cars, 23 motorcycles, 1 bus, 3 trucks, 1 stop sign, 1 backpack, 22.9ms\n",
            "Speed: 2.5ms preprocess, 22.9ms inference, 1.5ms postprocess per image at shape (1, 3, 384, 640)\n"
          ]
        },
        {
          "output_type": "stream",
          "name": "stderr",
          "text": [
            "\rProcessing frames:  95%|\u001b[32m█████████▍\u001b[0m| 738/780 [01:31<00:05,  8.19it/s]"
          ]
        },
        {
          "output_type": "stream",
          "name": "stdout",
          "text": [
            "\n",
            "0: 384x640 17 persons, 5 cars, 26 motorcycles, 1 bus, 3 trucks, 1 stop sign, 1 backpack, 20.8ms\n",
            "Speed: 2.5ms preprocess, 20.8ms inference, 1.4ms postprocess per image at shape (1, 3, 384, 640)\n"
          ]
        },
        {
          "output_type": "stream",
          "name": "stderr",
          "text": [
            "\rProcessing frames:  95%|\u001b[32m█████████▍\u001b[0m| 739/780 [01:31<00:04,  8.20it/s]"
          ]
        },
        {
          "output_type": "stream",
          "name": "stdout",
          "text": [
            "\n",
            "0: 384x640 17 persons, 4 cars, 26 motorcycles, 1 bus, 4 trucks, 1 stop sign, 1 backpack, 26.3ms\n",
            "Speed: 2.6ms preprocess, 26.3ms inference, 1.6ms postprocess per image at shape (1, 3, 384, 640)\n"
          ]
        },
        {
          "output_type": "stream",
          "name": "stderr",
          "text": [
            "\rProcessing frames:  95%|\u001b[32m█████████▍\u001b[0m| 740/780 [01:31<00:04,  8.03it/s]"
          ]
        },
        {
          "output_type": "stream",
          "name": "stdout",
          "text": [
            "\n",
            "0: 384x640 17 persons, 5 cars, 26 motorcycles, 1 bus, 3 trucks, 1 stop sign, 1 backpack, 21.5ms\n",
            "Speed: 3.7ms preprocess, 21.5ms inference, 1.4ms postprocess per image at shape (1, 3, 384, 640)\n"
          ]
        },
        {
          "output_type": "stream",
          "name": "stderr",
          "text": [
            "\rProcessing frames:  95%|\u001b[32m█████████▌\u001b[0m| 741/780 [01:31<00:04,  7.95it/s]"
          ]
        },
        {
          "output_type": "stream",
          "name": "stdout",
          "text": [
            "\n",
            "0: 384x640 17 persons, 5 cars, 24 motorcycles, 1 bus, 3 trucks, 1 stop sign, 1 backpack, 21.3ms\n",
            "Speed: 3.7ms preprocess, 21.3ms inference, 1.4ms postprocess per image at shape (1, 3, 384, 640)\n"
          ]
        },
        {
          "output_type": "stream",
          "name": "stderr",
          "text": [
            "\rProcessing frames:  95%|\u001b[32m█████████▌\u001b[0m| 742/780 [01:31<00:04,  8.01it/s]"
          ]
        },
        {
          "output_type": "stream",
          "name": "stdout",
          "text": [
            "\n",
            "0: 384x640 17 persons, 5 cars, 24 motorcycles, 1 bus, 3 trucks, 1 stop sign, 1 backpack, 21.0ms\n",
            "Speed: 2.5ms preprocess, 21.0ms inference, 1.5ms postprocess per image at shape (1, 3, 384, 640)\n"
          ]
        },
        {
          "output_type": "stream",
          "name": "stderr",
          "text": [
            "\rProcessing frames:  95%|\u001b[32m█████████▌\u001b[0m| 743/780 [01:31<00:04,  8.11it/s]"
          ]
        },
        {
          "output_type": "stream",
          "name": "stdout",
          "text": [
            "\n",
            "0: 384x640 17 persons, 5 cars, 25 motorcycles, 1 bus, 3 trucks, 1 stop sign, 1 backpack, 20.9ms\n",
            "Speed: 2.5ms preprocess, 20.9ms inference, 1.4ms postprocess per image at shape (1, 3, 384, 640)\n"
          ]
        },
        {
          "output_type": "stream",
          "name": "stderr",
          "text": [
            "\rProcessing frames:  95%|\u001b[32m█████████▌\u001b[0m| 744/780 [01:31<00:04,  8.00it/s]"
          ]
        },
        {
          "output_type": "stream",
          "name": "stdout",
          "text": [
            "\n",
            "0: 384x640 17 persons, 5 cars, 25 motorcycles, 1 bus, 3 trucks, 1 stop sign, 1 backpack, 21.2ms\n",
            "Speed: 2.5ms preprocess, 21.2ms inference, 1.5ms postprocess per image at shape (1, 3, 384, 640)\n"
          ]
        },
        {
          "output_type": "stream",
          "name": "stderr",
          "text": [
            "\rProcessing frames:  96%|\u001b[32m█████████▌\u001b[0m| 745/780 [01:31<00:04,  7.91it/s]"
          ]
        },
        {
          "output_type": "stream",
          "name": "stdout",
          "text": [
            "\n",
            "0: 384x640 18 persons, 5 cars, 25 motorcycles, 1 bus, 3 trucks, 1 stop sign, 1 backpack, 20.7ms\n",
            "Speed: 2.8ms preprocess, 20.7ms inference, 1.4ms postprocess per image at shape (1, 3, 384, 640)\n"
          ]
        },
        {
          "output_type": "stream",
          "name": "stderr",
          "text": [
            "\rProcessing frames:  96%|\u001b[32m█████████▌\u001b[0m| 746/780 [01:32<00:04,  8.00it/s]"
          ]
        },
        {
          "output_type": "stream",
          "name": "stdout",
          "text": [
            "\n",
            "0: 384x640 17 persons, 5 cars, 25 motorcycles, 1 bus, 2 trucks, 1 stop sign, 1 backpack, 22.2ms\n",
            "Speed: 3.7ms preprocess, 22.2ms inference, 1.5ms postprocess per image at shape (1, 3, 384, 640)\n"
          ]
        },
        {
          "output_type": "stream",
          "name": "stderr",
          "text": [
            "\rProcessing frames:  96%|\u001b[32m█████████▌\u001b[0m| 747/780 [01:32<00:04,  8.02it/s]"
          ]
        },
        {
          "output_type": "stream",
          "name": "stdout",
          "text": [
            "\n",
            "0: 384x640 18 persons, 5 cars, 25 motorcycles, 1 bus, 2 trucks, 1 stop sign, 1 backpack, 21.5ms\n",
            "Speed: 2.6ms preprocess, 21.5ms inference, 1.5ms postprocess per image at shape (1, 3, 384, 640)\n"
          ]
        },
        {
          "output_type": "stream",
          "name": "stderr",
          "text": [
            "\rProcessing frames:  96%|\u001b[32m█████████▌\u001b[0m| 748/780 [01:32<00:03,  8.08it/s]"
          ]
        },
        {
          "output_type": "stream",
          "name": "stdout",
          "text": [
            "\n",
            "0: 384x640 18 persons, 5 cars, 26 motorcycles, 1 bus, 2 trucks, 1 stop sign, 1 backpack, 20.7ms\n",
            "Speed: 2.6ms preprocess, 20.7ms inference, 1.5ms postprocess per image at shape (1, 3, 384, 640)\n"
          ]
        },
        {
          "output_type": "stream",
          "name": "stderr",
          "text": [
            "\rProcessing frames:  96%|\u001b[32m█████████▌\u001b[0m| 749/780 [01:32<00:03,  8.15it/s]"
          ]
        },
        {
          "output_type": "stream",
          "name": "stdout",
          "text": [
            "\n",
            "0: 384x640 18 persons, 5 cars, 26 motorcycles, 1 bus, 2 trucks, 1 stop sign, 1 backpack, 21.2ms\n",
            "Speed: 2.5ms preprocess, 21.2ms inference, 1.5ms postprocess per image at shape (1, 3, 384, 640)\n"
          ]
        },
        {
          "output_type": "stream",
          "name": "stderr",
          "text": [
            "\rProcessing frames:  96%|\u001b[32m█████████▌\u001b[0m| 750/780 [01:32<00:03,  8.16it/s]"
          ]
        },
        {
          "output_type": "stream",
          "name": "stdout",
          "text": [
            "\n",
            "0: 384x640 19 persons, 5 cars, 24 motorcycles, 1 bus, 2 trucks, 1 stop sign, 1 backpack, 22.1ms\n",
            "Speed: 2.5ms preprocess, 22.1ms inference, 1.5ms postprocess per image at shape (1, 3, 384, 640)\n"
          ]
        },
        {
          "output_type": "stream",
          "name": "stderr",
          "text": [
            "\rProcessing frames:  96%|\u001b[32m█████████▋\u001b[0m| 751/780 [01:32<00:03,  8.05it/s]"
          ]
        },
        {
          "output_type": "stream",
          "name": "stdout",
          "text": [
            "\n",
            "0: 384x640 19 persons, 5 cars, 24 motorcycles, 1 bus, 3 trucks, 1 stop sign, 21.9ms\n",
            "Speed: 2.4ms preprocess, 21.9ms inference, 1.5ms postprocess per image at shape (1, 3, 384, 640)\n"
          ]
        },
        {
          "output_type": "stream",
          "name": "stderr",
          "text": [
            "\rProcessing frames:  96%|\u001b[32m█████████▋\u001b[0m| 752/780 [01:32<00:03,  8.03it/s]"
          ]
        },
        {
          "output_type": "stream",
          "name": "stdout",
          "text": [
            "\n",
            "0: 384x640 19 persons, 5 cars, 22 motorcycles, 1 bus, 3 trucks, 1 stop sign, 24.4ms\n",
            "Speed: 3.8ms preprocess, 24.4ms inference, 1.5ms postprocess per image at shape (1, 3, 384, 640)\n"
          ]
        },
        {
          "output_type": "stream",
          "name": "stderr",
          "text": [
            "\rProcessing frames:  97%|\u001b[32m█████████▋\u001b[0m| 753/780 [01:32<00:03,  8.03it/s]"
          ]
        },
        {
          "output_type": "stream",
          "name": "stdout",
          "text": [
            "\n",
            "0: 384x640 19 persons, 5 cars, 22 motorcycles, 1 bus, 3 trucks, 1 stop sign, 1 backpack, 21.7ms\n",
            "Speed: 2.7ms preprocess, 21.7ms inference, 1.5ms postprocess per image at shape (1, 3, 384, 640)\n"
          ]
        },
        {
          "output_type": "stream",
          "name": "stderr",
          "text": [
            "\rProcessing frames:  97%|\u001b[32m█████████▋\u001b[0m| 754/780 [01:33<00:03,  8.11it/s]"
          ]
        },
        {
          "output_type": "stream",
          "name": "stdout",
          "text": [
            "\n",
            "0: 384x640 19 persons, 5 cars, 22 motorcycles, 1 bus, 2 trucks, 1 stop sign, 1 backpack, 21.5ms\n",
            "Speed: 2.8ms preprocess, 21.5ms inference, 1.5ms postprocess per image at shape (1, 3, 384, 640)\n"
          ]
        },
        {
          "output_type": "stream",
          "name": "stderr",
          "text": [
            "\rProcessing frames:  97%|\u001b[32m█████████▋\u001b[0m| 755/780 [01:33<00:03,  8.18it/s]"
          ]
        },
        {
          "output_type": "stream",
          "name": "stdout",
          "text": [
            "\n",
            "0: 384x640 19 persons, 5 cars, 22 motorcycles, 1 bus, 2 trucks, 1 stop sign, 21.2ms\n",
            "Speed: 2.8ms preprocess, 21.2ms inference, 1.4ms postprocess per image at shape (1, 3, 384, 640)\n"
          ]
        },
        {
          "output_type": "stream",
          "name": "stderr",
          "text": [
            "\rProcessing frames:  97%|\u001b[32m█████████▋\u001b[0m| 756/780 [01:33<00:02,  8.22it/s]"
          ]
        },
        {
          "output_type": "stream",
          "name": "stdout",
          "text": [
            "\n",
            "0: 384x640 20 persons, 5 cars, 22 motorcycles, 1 bus, 2 trucks, 1 stop sign, 22.9ms\n",
            "Speed: 3.8ms preprocess, 22.9ms inference, 1.4ms postprocess per image at shape (1, 3, 384, 640)\n"
          ]
        },
        {
          "output_type": "stream",
          "name": "stderr",
          "text": [
            "\rProcessing frames:  97%|\u001b[32m█████████▋\u001b[0m| 757/780 [01:33<00:02,  8.16it/s]"
          ]
        },
        {
          "output_type": "stream",
          "name": "stdout",
          "text": [
            "\n",
            "0: 384x640 20 persons, 4 cars, 21 motorcycles, 1 bus, 3 trucks, 1 stop sign, 22.3ms\n",
            "Speed: 3.8ms preprocess, 22.3ms inference, 1.5ms postprocess per image at shape (1, 3, 384, 640)\n"
          ]
        },
        {
          "output_type": "stream",
          "name": "stderr",
          "text": [
            "\rProcessing frames:  97%|\u001b[32m█████████▋\u001b[0m| 758/780 [01:33<00:02,  8.19it/s]"
          ]
        },
        {
          "output_type": "stream",
          "name": "stdout",
          "text": [
            "\n",
            "0: 384x640 20 persons, 4 cars, 21 motorcycles, 1 bus, 4 trucks, 1 stop sign, 22.1ms\n",
            "Speed: 2.9ms preprocess, 22.1ms inference, 1.5ms postprocess per image at shape (1, 3, 384, 640)\n"
          ]
        },
        {
          "output_type": "stream",
          "name": "stderr",
          "text": [
            "\rProcessing frames:  97%|\u001b[32m█████████▋\u001b[0m| 759/780 [01:33<00:02,  8.23it/s]"
          ]
        },
        {
          "output_type": "stream",
          "name": "stdout",
          "text": [
            "\n",
            "0: 384x640 20 persons, 5 cars, 21 motorcycles, 1 bus, 3 trucks, 1 stop sign, 1 backpack, 21.1ms\n",
            "Speed: 2.6ms preprocess, 21.1ms inference, 1.4ms postprocess per image at shape (1, 3, 384, 640)\n"
          ]
        },
        {
          "output_type": "stream",
          "name": "stderr",
          "text": [
            "\rProcessing frames:  97%|\u001b[32m█████████▋\u001b[0m| 760/780 [01:33<00:02,  8.26it/s]"
          ]
        },
        {
          "output_type": "stream",
          "name": "stdout",
          "text": [
            "\n",
            "0: 384x640 20 persons, 5 cars, 22 motorcycles, 1 bus, 3 trucks, 1 stop sign, 1 backpack, 20.8ms\n",
            "Speed: 2.5ms preprocess, 20.8ms inference, 1.4ms postprocess per image at shape (1, 3, 384, 640)\n"
          ]
        },
        {
          "output_type": "stream",
          "name": "stderr",
          "text": [
            "\rProcessing frames:  98%|\u001b[32m█████████▊\u001b[0m| 761/780 [01:33<00:02,  8.30it/s]"
          ]
        },
        {
          "output_type": "stream",
          "name": "stdout",
          "text": [
            "\n",
            "0: 384x640 20 persons, 5 cars, 22 motorcycles, 1 bus, 3 trucks, 1 stop sign, 1 backpack, 21.4ms\n",
            "Speed: 2.6ms preprocess, 21.4ms inference, 1.4ms postprocess per image at shape (1, 3, 384, 640)\n"
          ]
        },
        {
          "output_type": "stream",
          "name": "stderr",
          "text": [
            "\rProcessing frames:  98%|\u001b[32m█████████▊\u001b[0m| 762/780 [01:34<00:02,  8.30it/s]"
          ]
        },
        {
          "output_type": "stream",
          "name": "stdout",
          "text": [
            "\n",
            "0: 384x640 21 persons, 5 cars, 22 motorcycles, 1 bus, 3 trucks, 1 stop sign, 1 backpack, 21.1ms\n",
            "Speed: 2.6ms preprocess, 21.1ms inference, 1.5ms postprocess per image at shape (1, 3, 384, 640)\n"
          ]
        },
        {
          "output_type": "stream",
          "name": "stderr",
          "text": [
            "\rProcessing frames:  98%|\u001b[32m█████████▊\u001b[0m| 763/780 [01:34<00:02,  8.19it/s]"
          ]
        },
        {
          "output_type": "stream",
          "name": "stdout",
          "text": [
            "\n",
            "0: 384x640 21 persons, 4 cars, 22 motorcycles, 1 bus, 3 trucks, 1 stop sign, 1 backpack, 22.0ms\n",
            "Speed: 3.8ms preprocess, 22.0ms inference, 1.4ms postprocess per image at shape (1, 3, 384, 640)\n"
          ]
        },
        {
          "output_type": "stream",
          "name": "stderr",
          "text": [
            "\rProcessing frames:  98%|\u001b[32m█████████▊\u001b[0m| 764/780 [01:34<00:01,  8.06it/s]"
          ]
        },
        {
          "output_type": "stream",
          "name": "stdout",
          "text": [
            "\n",
            "0: 384x640 21 persons, 4 cars, 22 motorcycles, 1 bus, 3 trucks, 1 stop sign, 1 backpack, 21.4ms\n",
            "Speed: 2.7ms preprocess, 21.4ms inference, 1.5ms postprocess per image at shape (1, 3, 384, 640)\n"
          ]
        },
        {
          "output_type": "stream",
          "name": "stderr",
          "text": [
            "\rProcessing frames:  98%|\u001b[32m█████████▊\u001b[0m| 765/780 [01:34<00:01,  8.10it/s]"
          ]
        },
        {
          "output_type": "stream",
          "name": "stdout",
          "text": [
            "\n",
            "0: 384x640 22 persons, 5 cars, 20 motorcycles, 1 bus, 2 trucks, 1 stop sign, 1 backpack, 21.5ms\n",
            "Speed: 2.7ms preprocess, 21.5ms inference, 1.5ms postprocess per image at shape (1, 3, 384, 640)\n"
          ]
        },
        {
          "output_type": "stream",
          "name": "stderr",
          "text": [
            "\rProcessing frames:  98%|\u001b[32m█████████▊\u001b[0m| 766/780 [01:34<00:01,  8.09it/s]"
          ]
        },
        {
          "output_type": "stream",
          "name": "stdout",
          "text": [
            "\n",
            "0: 384x640 22 persons, 3 cars, 20 motorcycles, 1 bus, 4 trucks, 1 stop sign, 21.8ms\n",
            "Speed: 2.7ms preprocess, 21.8ms inference, 1.5ms postprocess per image at shape (1, 3, 384, 640)\n"
          ]
        },
        {
          "output_type": "stream",
          "name": "stderr",
          "text": [
            "\rProcessing frames:  98%|\u001b[32m█████████▊\u001b[0m| 767/780 [01:34<00:01,  8.11it/s]"
          ]
        },
        {
          "output_type": "stream",
          "name": "stdout",
          "text": [
            "\n",
            "0: 384x640 22 persons, 4 cars, 20 motorcycles, 1 bus, 3 trucks, 1 stop sign, 1 backpack, 21.4ms\n",
            "Speed: 2.6ms preprocess, 21.4ms inference, 1.4ms postprocess per image at shape (1, 3, 384, 640)\n"
          ]
        },
        {
          "output_type": "stream",
          "name": "stderr",
          "text": [
            "\rProcessing frames:  98%|\u001b[32m█████████▊\u001b[0m| 768/780 [01:34<00:01,  8.11it/s]"
          ]
        },
        {
          "output_type": "stream",
          "name": "stdout",
          "text": [
            "\n",
            "0: 384x640 21 persons, 6 cars, 20 motorcycles, 1 bus, 1 truck, 1 stop sign, 21.8ms\n",
            "Speed: 2.7ms preprocess, 21.8ms inference, 1.5ms postprocess per image at shape (1, 3, 384, 640)\n"
          ]
        },
        {
          "output_type": "stream",
          "name": "stderr",
          "text": [
            "\rProcessing frames:  99%|\u001b[32m█████████▊\u001b[0m| 769/780 [01:34<00:01,  8.11it/s]"
          ]
        },
        {
          "output_type": "stream",
          "name": "stdout",
          "text": [
            "\n",
            "0: 384x640 21 persons, 5 cars, 20 motorcycles, 1 bus, 2 trucks, 1 stop sign, 21.8ms\n",
            "Speed: 3.4ms preprocess, 21.8ms inference, 1.5ms postprocess per image at shape (1, 3, 384, 640)\n"
          ]
        },
        {
          "output_type": "stream",
          "name": "stderr",
          "text": [
            "\rProcessing frames:  99%|\u001b[32m█████████▊\u001b[0m| 770/780 [01:35<00:01,  8.11it/s]"
          ]
        },
        {
          "output_type": "stream",
          "name": "stdout",
          "text": [
            "\n",
            "0: 384x640 21 persons, 4 cars, 20 motorcycles, 1 bus, 3 trucks, 1 stop sign, 1 backpack, 21.6ms\n",
            "Speed: 2.7ms preprocess, 21.6ms inference, 1.5ms postprocess per image at shape (1, 3, 384, 640)\n"
          ]
        },
        {
          "output_type": "stream",
          "name": "stderr",
          "text": [
            "\rProcessing frames:  99%|\u001b[32m█████████▉\u001b[0m| 771/780 [01:35<00:01,  8.11it/s]"
          ]
        },
        {
          "output_type": "stream",
          "name": "stdout",
          "text": [
            "\n",
            "0: 384x640 21 persons, 4 cars, 20 motorcycles, 1 bus, 3 trucks, 1 stop sign, 1 backpack, 1 potted plant, 24.1ms\n",
            "Speed: 3.7ms preprocess, 24.1ms inference, 1.5ms postprocess per image at shape (1, 3, 384, 640)\n"
          ]
        },
        {
          "output_type": "stream",
          "name": "stderr",
          "text": [
            "\rProcessing frames:  99%|\u001b[32m█████████▉\u001b[0m| 772/780 [01:35<00:00,  8.04it/s]"
          ]
        },
        {
          "output_type": "stream",
          "name": "stdout",
          "text": [
            "\n",
            "0: 384x640 21 persons, 5 cars, 21 motorcycles, 1 bus, 2 trucks, 1 stop sign, 1 potted plant, 21.1ms\n",
            "Speed: 2.4ms preprocess, 21.1ms inference, 1.5ms postprocess per image at shape (1, 3, 384, 640)\n"
          ]
        },
        {
          "output_type": "stream",
          "name": "stderr",
          "text": [
            "\rProcessing frames:  99%|\u001b[32m█████████▉\u001b[0m| 773/780 [01:35<00:00,  8.12it/s]"
          ]
        },
        {
          "output_type": "stream",
          "name": "stdout",
          "text": [
            "\n",
            "0: 384x640 21 persons, 5 cars, 22 motorcycles, 1 bus, 2 trucks, 1 stop sign, 1 potted plant, 21.3ms\n",
            "Speed: 2.6ms preprocess, 21.3ms inference, 1.4ms postprocess per image at shape (1, 3, 384, 640)\n"
          ]
        },
        {
          "output_type": "stream",
          "name": "stderr",
          "text": [
            "\rProcessing frames:  99%|\u001b[32m█████████▉\u001b[0m| 774/780 [01:35<00:00,  8.17it/s]"
          ]
        },
        {
          "output_type": "stream",
          "name": "stdout",
          "text": [
            "\n",
            "0: 384x640 20 persons, 5 cars, 22 motorcycles, 1 bus, 2 trucks, 1 stop sign, 1 potted plant, 21.3ms\n",
            "Speed: 2.7ms preprocess, 21.3ms inference, 1.4ms postprocess per image at shape (1, 3, 384, 640)\n"
          ]
        },
        {
          "output_type": "stream",
          "name": "stderr",
          "text": [
            "\rProcessing frames:  99%|\u001b[32m█████████▉\u001b[0m| 775/780 [01:35<00:00,  8.18it/s]"
          ]
        },
        {
          "output_type": "stream",
          "name": "stdout",
          "text": [
            "\n",
            "0: 384x640 20 persons, 5 cars, 22 motorcycles, 1 bus, 2 trucks, 1 stop sign, 1 backpack, 1 potted plant, 21.5ms\n",
            "Speed: 2.7ms preprocess, 21.5ms inference, 1.4ms postprocess per image at shape (1, 3, 384, 640)\n"
          ]
        },
        {
          "output_type": "stream",
          "name": "stderr",
          "text": [
            "\rProcessing frames:  99%|\u001b[32m█████████▉\u001b[0m| 776/780 [01:35<00:00,  8.17it/s]"
          ]
        },
        {
          "output_type": "stream",
          "name": "stdout",
          "text": [
            "\n",
            "0: 384x640 18 persons, 6 cars, 21 motorcycles, 1 bus, 2 trucks, 1 stop sign, 1 backpack, 1 potted plant, 21.8ms\n",
            "Speed: 3.7ms preprocess, 21.8ms inference, 1.4ms postprocess per image at shape (1, 3, 384, 640)\n"
          ]
        },
        {
          "output_type": "stream",
          "name": "stderr",
          "text": [
            "\rProcessing frames: 100%|\u001b[32m█████████▉\u001b[0m| 777/780 [01:35<00:00,  8.11it/s]"
          ]
        },
        {
          "output_type": "stream",
          "name": "stdout",
          "text": [
            "\n",
            "0: 384x640 19 persons, 5 cars, 22 motorcycles, 1 bus, 1 truck, 1 stop sign, 1 backpack, 1 potted plant, 21.0ms\n",
            "Speed: 2.4ms preprocess, 21.0ms inference, 1.5ms postprocess per image at shape (1, 3, 384, 640)\n"
          ]
        },
        {
          "output_type": "stream",
          "name": "stderr",
          "text": [
            "\rProcessing frames: 100%|\u001b[32m█████████▉\u001b[0m| 778/780 [01:36<00:00,  8.17it/s]"
          ]
        },
        {
          "output_type": "stream",
          "name": "stdout",
          "text": [
            "\n",
            "0: 384x640 19 persons, 6 cars, 20 motorcycles, 1 bus, 1 truck, 1 stop sign, 1 potted plant, 22.1ms\n",
            "Speed: 2.8ms preprocess, 22.1ms inference, 1.4ms postprocess per image at shape (1, 3, 384, 640)\n"
          ]
        },
        {
          "output_type": "stream",
          "name": "stderr",
          "text": [
            "\rProcessing frames: 100%|\u001b[32m█████████▉\u001b[0m| 779/780 [01:36<00:00,  8.11it/s]"
          ]
        },
        {
          "output_type": "stream",
          "name": "stdout",
          "text": [
            "\n",
            "0: 384x640 20 persons, 6 cars, 23 motorcycles, 1 bus, 1 truck, 1 stop sign, 1 potted plant, 21.3ms\n",
            "Speed: 2.6ms preprocess, 21.3ms inference, 1.5ms postprocess per image at shape (1, 3, 384, 640)\n"
          ]
        },
        {
          "output_type": "stream",
          "name": "stderr",
          "text": [
            "Processing frames: 100%|\u001b[32m██████████\u001b[0m| 780/780 [01:36<00:00,  8.10it/s]"
          ]
        },
        {
          "output_type": "stream",
          "name": "stdout",
          "text": [
            "Video has been saved to /content/run//vietnam-2_tracked.mp4\n"
          ]
        },
        {
          "output_type": "stream",
          "name": "stderr",
          "text": [
            "\n"
          ]
        }
      ]
    },
    {
      "cell_type": "code",
      "source": [
        "import cv2\n",
        "from matplotlib import pyplot as plt\n",
        "\n",
        "# Đọc video\n",
        "video_path = '/content/run/vietnam-2_tracked.mp4'\n",
        "cap = cv2.VideoCapture(video_path)\n",
        "\n",
        "# Lấy một khung hình cụ thể (ví dụ, lấy khung hình đầu tiên)\n",
        "ret, frame = cap.read()\n",
        "cap.release()\n",
        "\n",
        "if ret:\n",
        "    # Xử lý khung hình bằng YOLO (nếu cần)\n",
        "    results = model.track(frame, persist=True, show=False)\n",
        "\n",
        "    # Lấy khung hình đã xử lý\n",
        "    processed_frame = results[0].plot()\n",
        "\n",
        "    # Chuyển đổi từ BGR sang RGB để hiển thị trong matplotlib\n",
        "    processed_frame_rgb = cv2.cvtColor(processed_frame, cv2.COLOR_BGR2RGB)\n",
        "\n",
        "    # Hiển thị ảnh bằng matplotlib\n",
        "    plt.imshow(processed_frame_rgb)\n",
        "    plt.axis('off')  # Tắt trục\n",
        "    plt.show()\n",
        "\n",
        "else:\n",
        "    print(\"Không thể đọc video!\")\n"
      ],
      "metadata": {
        "colab": {
          "base_uri": "https://localhost:8080/",
          "height": 368
        },
        "id": "0V_w-nwDJfNF",
        "outputId": "8b346ea3-2172-4abf-d642-fe9be2ad4f4b"
      },
      "execution_count": 16,
      "outputs": [
        {
          "output_type": "stream",
          "name": "stdout",
          "text": [
            "\n",
            "0: 384x640 3 persons, 1 motorcycle, 22.8ms\n",
            "Speed: 3.6ms preprocess, 22.8ms inference, 1.8ms postprocess per image at shape (1, 3, 384, 640)\n"
          ]
        },
        {
          "output_type": "display_data",
          "data": {
            "text/plain": [
              "<Figure size 640x480 with 1 Axes>"
            ],
            "image/png": "[encoded data removed]"
          },
          "metadata": {}
        }
      ]
    }
  ]
}